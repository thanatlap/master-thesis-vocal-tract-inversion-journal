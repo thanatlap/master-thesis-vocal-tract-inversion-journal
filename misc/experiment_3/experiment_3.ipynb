{
 "cells": [
  {
   "cell_type": "markdown",
   "metadata": {},
   "source": [
    "# Experiment on AAI Model Architectures\n",
    "- Created: 10 Mar 2020\n",
    "- Data: param_draft2\n",
    "Increase data size and change model architecture"
   ]
  },
  {
   "cell_type": "code",
   "execution_count": 1,
   "metadata": {},
   "outputs": [],
   "source": [
    "from __future__ import absolute_import, division, print_function, unicode_literals\n",
    "import numpy as np\n",
    "import pandas as pd\n",
    "import matplotlib.pyplot as plt\n",
    "import os\n",
    "from os.path import join\n",
    "import tensorflow as tf\n",
    "from tensorflow import keras\n",
    "\n",
    "from tensorflow.keras import models\n",
    "from tensorflow.keras import optimizers\n",
    "from tensorflow.keras import regularizers\n",
    "from tensorflow.keras import callbacks\n",
    "from time import time\n",
    "from datetime import datetime\n",
    "import shutil \n",
    "import argparse\n",
    "from functools import partial\n",
    "import pickle\n",
    "from IPython.display import Audio\n",
    "\n",
    "import tensorflow as tf\n",
    "from tensorflow import keras\n",
    "from tensorflow.keras import layers\n",
    "from tensorflow.keras import backend as K\n",
    "from tensorflow.keras import regularizers\n",
    "from tensorflow.keras.layers import Reshape, GRU, InputLayer, AlphaDropout, Activation, BatchNormalization, Dropout, Flatten, Dense, Bidirectional, LSTM, Conv1D, SpatialDropout1D, Concatenate, Multiply, Add\n",
    "\n",
    "from sklearn.model_selection import train_test_split\n",
    "from sklearn.metrics import classification_report, confusion_matrix\n",
    "from sklearn.preprocessing import OneHotEncoder"
   ]
  },
  {
   "cell_type": "code",
   "execution_count": 2,
   "metadata": {},
   "outputs": [],
   "source": [
    "np_load_old = partial(np.load)\n",
    "np.load = lambda *a,**k: np_load_old(*a, allow_pickle=True, **k)"
   ]
  },
  {
   "cell_type": "code",
   "execution_count": 3,
   "metadata": {},
   "outputs": [],
   "source": [
    "tf.random.set_seed(42)"
   ]
  },
  {
   "cell_type": "markdown",
   "metadata": {},
   "source": [
    "## Metric Function"
   ]
  },
  {
   "cell_type": "code",
   "execution_count": 4,
   "metadata": {},
   "outputs": [],
   "source": [
    "def rmse(y_true, y_pred):\n",
    "    return K.sqrt(K.mean(K.square(y_pred - y_true), axis=-1))\n",
    "\n",
    "def R2(y_true, y_pred):\n",
    "    SS_res =  K.sum(K.square(y_true - y_pred), axis = 0) \n",
    "    SS_tot = K.sum(K.square(y_true - K.mean(y_true, axis = 0)), axis = 0) \n",
    "    return K.mean(1 - (SS_res/SS_tot), axis=0)"
   ]
  },
  {
   "cell_type": "markdown",
   "metadata": {},
   "source": [
    "## Utility Functions"
   ]
  },
  {
   "cell_type": "code",
   "execution_count": 5,
   "metadata": {},
   "outputs": [],
   "source": [
    "#Function for preprocessing data\n",
    "def delete_params(params):\n",
    "    '''\n",
    "    This function remove JX, WC, TRX, TRY, and MS1,2,3 paramter\n",
    "    '''\n",
    "    DEL_PARAMS_LIST = [2,8,15,16,21,22,23]\n",
    "    return np.delete(params,DEL_PARAMS_LIST , axis=1)"
   ]
  },
  {
   "cell_type": "code",
   "execution_count": 6,
   "metadata": {},
   "outputs": [],
   "source": [
    "def compute_rmse(actual,pred, axis=1):\n",
    "    # Compute RMSE by row (axis=1) result in rmse of each data\n",
    "    # Compute RMSE by column (axis=0) result in rmse of each label\n",
    "    return np.sqrt((np.square(actual - pred)).mean(axis=axis))"
   ]
  },
  {
   "cell_type": "code",
   "execution_count": 7,
   "metadata": {},
   "outputs": [],
   "source": [
    "def evaluate_model(y_pred, label):\n",
    "    y_pred = enc.inverse_transform(y_pred)\n",
    "    label = enc.inverse_transform(label)\n",
    "#     print('Confusion Matrix')\n",
    "#     print(confusion_matrix(label, y_pred))\n",
    "    print('Classification Report')\n",
    "    print(classification_report(label, y_pred))"
   ]
  },
  {
   "cell_type": "code",
   "execution_count": 8,
   "metadata": {},
   "outputs": [],
   "source": [
    "def compute_se(actual,pred):\n",
    "    return np.sqrt((np.square(actual - pred)))"
   ]
  },
  {
   "cell_type": "markdown",
   "metadata": {},
   "source": [
    "## Load Data "
   ]
  },
  {
   "cell_type": "code",
   "execution_count": 9,
   "metadata": {},
   "outputs": [],
   "source": [
    "def prep_data():\n",
    "\n",
    "    # load data from preprocess pipeline\n",
    "    dataset = np.load(join('../../data/d_dataset_p2/prep_data_13','training_subsets.npz'))\n",
    "    X_train =dataset['X_train']\n",
    "    y_train= dataset['y_train']\n",
    "    z_train= dataset['z_train']\n",
    "    X_val = dataset['X_val']\n",
    "    y_val = dataset['y_val']\n",
    "    z_val = dataset['z_val']\n",
    "    X_test = dataset['X_test']\n",
    "    y_test = dataset['y_test']\n",
    "    z_test = dataset['z_test']\n",
    "    a_test = dataset['audio_test']\n",
    "    a_val = dataset['audio_val']\n",
    "    \n",
    "    y_train = delete_params(y_train)\n",
    "    y_val = delete_params(y_val)\n",
    "    y_test = delete_params(y_test)\n",
    "\n",
    "    print('Train features and labels %s %s'%(str(X_train.shape),str(y_train.shape)))\n",
    "    print('Validating features and labels %s %s'%(str(X_val.shape),str(y_val.shape)))\n",
    "    print('Test features and labels %s %s'%(str(X_test.shape),str(y_test.shape)))\n",
    "\n",
    "    return X_train, X_val, X_test, y_train, y_val, y_test, z_train, z_val, z_test, a_test, a_val"
   ]
  },
  {
   "cell_type": "code",
   "execution_count": 10,
   "metadata": {},
   "outputs": [
    {
     "name": "stdout",
     "output_type": "stream",
     "text": [
      "Train features and labels (76260, 24, 39) (76260, 17)\n",
      "Validating features and labels (9340, 24, 39) (9340, 17)\n",
      "Test features and labels (9338, 24, 39) (9338, 17)\n"
     ]
    }
   ],
   "source": [
    "X_train, X_val, X_test, y_train, y_val, y_test, z_train, z_val, z_test, a_test, a_val = prep_data()"
   ]
  },
  {
   "cell_type": "code",
   "execution_count": 11,
   "metadata": {},
   "outputs": [
    {
     "name": "stdout",
     "output_type": "stream",
     "text": [
      "{'a', 'u', 'o', 'y', '2', 'U', '9', 'i', 'O', 'E:', 'E', 'e', '@', 'A'}\n"
     ]
    }
   ],
   "source": [
    "print(set(z_test))"
   ]
  },
  {
   "cell_type": "code",
   "execution_count": 12,
   "metadata": {},
   "outputs": [
    {
     "name": "stdout",
     "output_type": "stream",
     "text": [
      "Train features and labels (76260, 24, 39) (76260, 17) (76260,)\n",
      "Validating features and labels (9340, 24, 39) (9340, 17) (9340,)\n",
      "Test features and labels (9338, 24, 39) (9338, 17) (9338,)\n"
     ]
    }
   ],
   "source": [
    "print('Train features and labels {} {} {}'.format(str(X_train.shape),str(y_train.shape),str(z_train.shape)))\n",
    "print('Validating features and labels {} {} {}'.format(str(X_val.shape),str(y_val.shape),str(z_val.shape)))\n",
    "print('Test features and labels {} {} {}'.format(str(X_test.shape),str(y_test.shape),str(z_test.shape)))"
   ]
  },
  {
   "cell_type": "markdown",
   "metadata": {},
   "source": [
    "### One-hot label "
   ]
  },
  {
   "cell_type": "code",
   "execution_count": 13,
   "metadata": {},
   "outputs": [],
   "source": [
    "z_train_oe=z_train.reshape(-1,1)\n",
    "z_val_oe=z_val.reshape(-1,1)\n",
    "z_test_oe=z_test.reshape(-1,1)\n",
    "\n",
    "enc = OneHotEncoder(handle_unknown = 'ignore')\n",
    "enc.fit(z_train_oe)\n",
    "\n",
    "z_train_oe = enc.transform(z_train_oe).toarray()\n",
    "z_test_oe = enc.transform(z_test_oe).toarray()\n",
    "z_val_oe = enc.transform(z_val_oe).toarray()"
   ]
  },
  {
   "cell_type": "markdown",
   "metadata": {},
   "source": [
    "## 1.) Train Baseline Model\n",
    "- Model without embedding feature"
   ]
  },
  {
   "cell_type": "markdown",
   "metadata": {},
   "source": [
    "### Defined Model without Embedded Feature"
   ]
  },
  {
   "cell_type": "code",
   "execution_count": 14,
   "metadata": {},
   "outputs": [],
   "source": [
    "N_OUTPUTS = 17\n",
    "\n",
    "pLSTM = partial(LSTM, kernel_initializer='he_uniform', return_sequences=True)\n",
    "pConv1D = partial(Conv1D, padding = 'same', activation = 'linear', kernel_initializer = 'he_uniform')\n",
    "\n",
    "def init_senet(feature_layer=1, cnn_unit=128, first_kernel=11, res_unit=64, res_kernel=3,\n",
    "    bilstm = 1, bilstm_unit=256, \n",
    "    dropout_rate=0.3,\n",
    "    reduction_ratio = 2,\n",
    "    activation_fn='relu'):\n",
    "\n",
    "\n",
    "    def cnn_block(input_x, cnn_unit, kernel_size):\n",
    "        x = pConv1D(cnn_unit, kernel_size=kernel_size)(input_x)\n",
    "        x = BatchNormalization()(x)\n",
    "        x = Activation(activation_fn)(x)\n",
    "        return x\n",
    "\n",
    "    def se_block(input_x):\n",
    "        x = layers.GlobalAveragePooling1D()(input_x)\n",
    "        channel_shape = getattr(x, '_shape_val')[-1]\n",
    "        x = Reshape((1, channel_shape))(x)\n",
    "        x = Dense(channel_shape // reduction_ratio, activation=activation_fn, kernel_initializer='he_uniform')(x)\n",
    "        x = Dense(channel_shape, activation='tanh', kernel_initializer='he_uniform')(x)\n",
    "        return x\n",
    "\n",
    "    def residual_block(input_x):\n",
    "        x = cnn_block(input_x, res_unit,kernel_size=res_kernel)\n",
    "        x = pConv1D(res_unit, kernel_size=3)(x)\n",
    "        x = BatchNormalization()(x)\n",
    "        return x\n",
    "\n",
    "    def se_res_block(input_x):\n",
    "        res_x = residual_block(input_x)\n",
    "        se_x = se_block(res_x)\n",
    "        x = layers.Multiply()([res_x, se_x])\n",
    "        x = Activation(activation_fn)(x)\n",
    "        input_x = cnn_block(input_x, cnn_unit=res_unit, kernel_size=1)\n",
    "        outputs = layers.Add()([x, input_x])\n",
    "        return outputs\n",
    "\n",
    "    def senet_nn(input_shape_1,input_shape_2):\n",
    "\n",
    "        input_x = keras.Input(shape=(input_shape_1,input_shape_2))\n",
    "        x = cnn_block(input_x, 128, first_kernel)\n",
    "        for i in range(feature_layer):\n",
    "            x = se_res_block(x)\n",
    "        x = SpatialDropout1D(rate=dropout_rate)(x)\n",
    "        for i in range(feature_layer):\n",
    "            x = se_res_block(x)\n",
    "            x = SpatialDropout1D(rate=dropout_rate)(x)\n",
    "        x = cnn_block(x, cnn_unit=cnn_unit, kernel_size=1)\n",
    "        x = SpatialDropout1D(rate=dropout_rate)(x)\n",
    "        for i in range(bilstm-1):\n",
    "            x = Bidirectional(pLSTM(bilstm_unit))(x)\n",
    "            x = SpatialDropout1D(rate=dropout_rate)(x)\n",
    "        x = Bidirectional(pLSTM(bilstm_unit, return_sequences=False))(x)\n",
    "        x = Dropout(rate=dropout_rate)(x)\n",
    "        outputs = Dense(N_OUTPUTS, activation='linear', kernel_initializer='he_uniform')(x)\n",
    "        model = keras.Model(inputs=input_x, outputs=outputs)\n",
    "        return model\n",
    "\n",
    "    return senet_nn"
   ]
  },
  {
   "cell_type": "code",
   "execution_count": 15,
   "metadata": {},
   "outputs": [],
   "source": [
    "model = init_senet()(24, 39)"
   ]
  },
  {
   "cell_type": "code",
   "execution_count": 16,
   "metadata": {},
   "outputs": [
    {
     "name": "stdout",
     "output_type": "stream",
     "text": [
      "Model: \"model\"\n",
      "__________________________________________________________________________________________________\n",
      "Layer (type)                    Output Shape         Param #     Connected to                     \n",
      "==================================================================================================\n",
      "input_1 (InputLayer)            [(None, 24, 39)]     0                                            \n",
      "__________________________________________________________________________________________________\n",
      "conv1d (Conv1D)                 (None, 24, 128)      55040       input_1[0][0]                    \n",
      "__________________________________________________________________________________________________\n",
      "batch_normalization (BatchNorma (None, 24, 128)      512         conv1d[0][0]                     \n",
      "__________________________________________________________________________________________________\n",
      "activation (Activation)         (None, 24, 128)      0           batch_normalization[0][0]        \n",
      "__________________________________________________________________________________________________\n",
      "conv1d_1 (Conv1D)               (None, 24, 64)       24640       activation[0][0]                 \n",
      "__________________________________________________________________________________________________\n",
      "batch_normalization_1 (BatchNor (None, 24, 64)       256         conv1d_1[0][0]                   \n",
      "__________________________________________________________________________________________________\n",
      "activation_1 (Activation)       (None, 24, 64)       0           batch_normalization_1[0][0]      \n",
      "__________________________________________________________________________________________________\n",
      "conv1d_2 (Conv1D)               (None, 24, 64)       12352       activation_1[0][0]               \n",
      "__________________________________________________________________________________________________\n",
      "batch_normalization_2 (BatchNor (None, 24, 64)       256         conv1d_2[0][0]                   \n",
      "__________________________________________________________________________________________________\n",
      "global_average_pooling1d (Globa (None, 64)           0           batch_normalization_2[0][0]      \n",
      "__________________________________________________________________________________________________\n",
      "reshape (Reshape)               (None, 1, 64)        0           global_average_pooling1d[0][0]   \n",
      "__________________________________________________________________________________________________\n",
      "dense (Dense)                   (None, 1, 32)        2080        reshape[0][0]                    \n",
      "__________________________________________________________________________________________________\n",
      "dense_1 (Dense)                 (None, 1, 64)        2112        dense[0][0]                      \n",
      "__________________________________________________________________________________________________\n",
      "conv1d_3 (Conv1D)               (None, 24, 64)       8256        activation[0][0]                 \n",
      "__________________________________________________________________________________________________\n",
      "multiply (Multiply)             (None, 24, 64)       0           batch_normalization_2[0][0]      \n",
      "                                                                 dense_1[0][0]                    \n",
      "__________________________________________________________________________________________________\n",
      "batch_normalization_3 (BatchNor (None, 24, 64)       256         conv1d_3[0][0]                   \n",
      "__________________________________________________________________________________________________\n",
      "activation_2 (Activation)       (None, 24, 64)       0           multiply[0][0]                   \n",
      "__________________________________________________________________________________________________\n",
      "activation_3 (Activation)       (None, 24, 64)       0           batch_normalization_3[0][0]      \n",
      "__________________________________________________________________________________________________\n",
      "add (Add)                       (None, 24, 64)       0           activation_2[0][0]               \n",
      "                                                                 activation_3[0][0]               \n",
      "__________________________________________________________________________________________________\n",
      "spatial_dropout1d (SpatialDropo (None, 24, 64)       0           add[0][0]                        \n",
      "__________________________________________________________________________________________________\n",
      "conv1d_4 (Conv1D)               (None, 24, 64)       12352       spatial_dropout1d[0][0]          \n",
      "__________________________________________________________________________________________________\n",
      "batch_normalization_4 (BatchNor (None, 24, 64)       256         conv1d_4[0][0]                   \n",
      "__________________________________________________________________________________________________\n",
      "activation_4 (Activation)       (None, 24, 64)       0           batch_normalization_4[0][0]      \n",
      "__________________________________________________________________________________________________\n",
      "conv1d_5 (Conv1D)               (None, 24, 64)       12352       activation_4[0][0]               \n",
      "__________________________________________________________________________________________________\n",
      "batch_normalization_5 (BatchNor (None, 24, 64)       256         conv1d_5[0][0]                   \n",
      "__________________________________________________________________________________________________\n",
      "global_average_pooling1d_1 (Glo (None, 64)           0           batch_normalization_5[0][0]      \n",
      "__________________________________________________________________________________________________\n",
      "reshape_1 (Reshape)             (None, 1, 64)        0           global_average_pooling1d_1[0][0] \n",
      "__________________________________________________________________________________________________\n",
      "dense_2 (Dense)                 (None, 1, 32)        2080        reshape_1[0][0]                  \n",
      "__________________________________________________________________________________________________\n",
      "dense_3 (Dense)                 (None, 1, 64)        2112        dense_2[0][0]                    \n",
      "__________________________________________________________________________________________________\n",
      "conv1d_6 (Conv1D)               (None, 24, 64)       4160        spatial_dropout1d[0][0]          \n",
      "__________________________________________________________________________________________________\n",
      "multiply_1 (Multiply)           (None, 24, 64)       0           batch_normalization_5[0][0]      \n",
      "                                                                 dense_3[0][0]                    \n",
      "__________________________________________________________________________________________________\n",
      "batch_normalization_6 (BatchNor (None, 24, 64)       256         conv1d_6[0][0]                   \n",
      "__________________________________________________________________________________________________\n",
      "activation_5 (Activation)       (None, 24, 64)       0           multiply_1[0][0]                 \n",
      "__________________________________________________________________________________________________\n",
      "activation_6 (Activation)       (None, 24, 64)       0           batch_normalization_6[0][0]      \n",
      "__________________________________________________________________________________________________\n",
      "add_1 (Add)                     (None, 24, 64)       0           activation_5[0][0]               \n",
      "                                                                 activation_6[0][0]               \n",
      "__________________________________________________________________________________________________\n",
      "spatial_dropout1d_1 (SpatialDro (None, 24, 64)       0           add_1[0][0]                      \n",
      "__________________________________________________________________________________________________\n",
      "conv1d_7 (Conv1D)               (None, 24, 128)      8320        spatial_dropout1d_1[0][0]        \n",
      "__________________________________________________________________________________________________\n",
      "batch_normalization_7 (BatchNor (None, 24, 128)      512         conv1d_7[0][0]                   \n",
      "__________________________________________________________________________________________________\n",
      "activation_7 (Activation)       (None, 24, 128)      0           batch_normalization_7[0][0]      \n",
      "__________________________________________________________________________________________________\n",
      "spatial_dropout1d_2 (SpatialDro (None, 24, 128)      0           activation_7[0][0]               \n",
      "__________________________________________________________________________________________________\n",
      "bidirectional (Bidirectional)   (None, 512)          788480      spatial_dropout1d_2[0][0]        \n",
      "__________________________________________________________________________________________________\n",
      "dropout (Dropout)               (None, 512)          0           bidirectional[0][0]              \n",
      "__________________________________________________________________________________________________\n",
      "dense_4 (Dense)                 (None, 17)           8721        dropout[0][0]                    \n",
      "==================================================================================================\n",
      "Total params: 945,617\n",
      "Trainable params: 944,337\n",
      "Non-trainable params: 1,280\n",
      "__________________________________________________________________________________________________\n"
     ]
    }
   ],
   "source": [
    "model.summary()"
   ]
  },
  {
   "cell_type": "markdown",
   "metadata": {},
   "source": [
    "### Compile Model "
   ]
  },
  {
   "cell_type": "code",
   "execution_count": 17,
   "metadata": {},
   "outputs": [],
   "source": [
    "model.compile(optimizer='adam',loss='mse',metrics=[rmse, R2])"
   ]
  },
  {
   "cell_type": "markdown",
   "metadata": {},
   "source": [
    "### Train Model "
   ]
  },
  {
   "cell_type": "code",
   "execution_count": 18,
   "metadata": {},
   "outputs": [],
   "source": [
    "PATIENCE = 10\n",
    "BATCH_SIZE = 128\n",
    "EPOCHS = 100\n",
    "\n",
    "early = callbacks.EarlyStopping(monitor='val_loss', min_delta=0, patience=PATIENCE, verbose=1, mode='min', baseline=None, restore_best_weights=False)\n",
    "callback_list = [early]"
   ]
  },
  {
   "cell_type": "code",
   "execution_count": 19,
   "metadata": {},
   "outputs": [
    {
     "name": "stdout",
     "output_type": "stream",
     "text": [
      "Train on 76260 samples, validate on 9340 samples\n",
      "Epoch 1/100\n",
      "76260/76260 [==============================] - 28s 364us/sample - loss: 0.1078 - rmse: 0.3056 - R2: 0.5640 - val_loss: 0.0460 - val_rmse: 0.1973 - val_R2: 0.8115\n",
      "Epoch 2/100\n",
      "76260/76260 [==============================] - 17s 224us/sample - loss: 0.0602 - rmse: 0.2267 - R2: 0.7557 - val_loss: 0.0393 - val_rmse: 0.1786 - val_R2: 0.8391\n",
      "Epoch 3/100\n",
      "76260/76260 [==============================] - 17s 224us/sample - loss: 0.0523 - rmse: 0.2096 - R2: 0.7883 - val_loss: 0.0354 - val_rmse: 0.1718 - val_R2: 0.8559\n",
      "Epoch 4/100\n",
      "76260/76260 [==============================] - 17s 223us/sample - loss: 0.0482 - rmse: 0.2005 - R2: 0.8051 - val_loss: 0.0344 - val_rmse: 0.1690 - val_R2: 0.8611\n",
      "Epoch 5/100\n",
      "76260/76260 [==============================] - 17s 224us/sample - loss: 0.0450 - rmse: 0.1939 - R2: 0.8176 - val_loss: 0.0313 - val_rmse: 0.1617 - val_R2: 0.8732\n",
      "Epoch 6/100\n",
      "76260/76260 [==============================] - 17s 224us/sample - loss: 0.0433 - rmse: 0.1902 - R2: 0.8243 - val_loss: 0.0326 - val_rmse: 0.1633 - val_R2: 0.8663\n",
      "Epoch 7/100\n",
      "76260/76260 [==============================] - 17s 225us/sample - loss: 0.0418 - rmse: 0.1868 - R2: 0.8305 - val_loss: 0.0296 - val_rmse: 0.1576 - val_R2: 0.8799\n",
      "Epoch 8/100\n",
      "76260/76260 [==============================] - 17s 224us/sample - loss: 0.0405 - rmse: 0.1836 - R2: 0.8361 - val_loss: 0.0301 - val_rmse: 0.1583 - val_R2: 0.8777\n",
      "Epoch 9/100\n",
      "76260/76260 [==============================] - 17s 223us/sample - loss: 0.0395 - rmse: 0.1815 - R2: 0.8399 - val_loss: 0.0289 - val_rmse: 0.1558 - val_R2: 0.8832\n",
      "Epoch 10/100\n",
      "76260/76260 [==============================] - 17s 224us/sample - loss: 0.0386 - rmse: 0.1793 - R2: 0.8438 - val_loss: 0.0283 - val_rmse: 0.1538 - val_R2: 0.8852\n",
      "Epoch 11/100\n",
      "76260/76260 [==============================] - 17s 224us/sample - loss: 0.0375 - rmse: 0.1771 - R2: 0.8483 - val_loss: 0.0281 - val_rmse: 0.1533 - val_R2: 0.8851\n",
      "Epoch 12/100\n",
      "76260/76260 [==============================] - 17s 224us/sample - loss: 0.0370 - rmse: 0.1757 - R2: 0.8502 - val_loss: 0.0283 - val_rmse: 0.1537 - val_R2: 0.8851\n",
      "Epoch 13/100\n",
      "76260/76260 [==============================] - 17s 224us/sample - loss: 0.0362 - rmse: 0.1739 - R2: 0.8534 - val_loss: 0.0279 - val_rmse: 0.1528 - val_R2: 0.8867\n",
      "Epoch 14/100\n",
      "76260/76260 [==============================] - 17s 223us/sample - loss: 0.0354 - rmse: 0.1721 - R2: 0.8565 - val_loss: 0.0265 - val_rmse: 0.1490 - val_R2: 0.8923\n",
      "Epoch 15/100\n",
      "76260/76260 [==============================] - 17s 224us/sample - loss: 0.0351 - rmse: 0.1712 - R2: 0.8578 - val_loss: 0.0287 - val_rmse: 0.1544 - val_R2: 0.8829\n",
      "Epoch 16/100\n",
      "76260/76260 [==============================] - 17s 223us/sample - loss: 0.0344 - rmse: 0.1697 - R2: 0.8608 - val_loss: 0.0256 - val_rmse: 0.1468 - val_R2: 0.8960\n",
      "Epoch 17/100\n",
      "76260/76260 [==============================] - 17s 223us/sample - loss: 0.0339 - rmse: 0.1684 - R2: 0.8626 - val_loss: 0.0270 - val_rmse: 0.1494 - val_R2: 0.8898\n",
      "Epoch 18/100\n",
      "76260/76260 [==============================] - 17s 224us/sample - loss: 0.0333 - rmse: 0.1671 - R2: 0.8651 - val_loss: 0.0272 - val_rmse: 0.1496 - val_R2: 0.8889\n",
      "Epoch 19/100\n",
      "76260/76260 [==============================] - 17s 224us/sample - loss: 0.0330 - rmse: 0.1664 - R2: 0.8661 - val_loss: 0.0252 - val_rmse: 0.1462 - val_R2: 0.8971\n",
      "Epoch 20/100\n",
      "76260/76260 [==============================] - 17s 224us/sample - loss: 0.0325 - rmse: 0.1652 - R2: 0.8683 - val_loss: 0.0258 - val_rmse: 0.1472 - val_R2: 0.8947\n",
      "Epoch 21/100\n",
      "76260/76260 [==============================] - 17s 221us/sample - loss: 0.0324 - rmse: 0.1648 - R2: 0.8691 - val_loss: 0.0256 - val_rmse: 0.1463 - val_R2: 0.8955\n",
      "Epoch 22/100\n",
      "76260/76260 [==============================] - 17s 224us/sample - loss: 0.0319 - rmse: 0.1638 - R2: 0.8708 - val_loss: 0.0258 - val_rmse: 0.1463 - val_R2: 0.8951\n",
      "Epoch 23/100\n",
      "76260/76260 [==============================] - 17s 224us/sample - loss: 0.0317 - rmse: 0.1631 - R2: 0.8718 - val_loss: 0.0245 - val_rmse: 0.1442 - val_R2: 0.9002\n",
      "Epoch 24/100\n",
      "76260/76260 [==============================] - 17s 223us/sample - loss: 0.0313 - rmse: 0.1622 - R2: 0.8732 - val_loss: 0.0256 - val_rmse: 0.1460 - val_R2: 0.8959\n",
      "Epoch 25/100\n",
      "76260/76260 [==============================] - 17s 224us/sample - loss: 0.0309 - rmse: 0.1613 - R2: 0.8749 - val_loss: 0.0259 - val_rmse: 0.1471 - val_R2: 0.8948\n",
      "Epoch 26/100\n",
      "76260/76260 [==============================] - 17s 223us/sample - loss: 0.0307 - rmse: 0.1606 - R2: 0.8758 - val_loss: 0.0246 - val_rmse: 0.1433 - val_R2: 0.9001\n",
      "Epoch 27/100\n",
      "76260/76260 [==============================] - 17s 224us/sample - loss: 0.0304 - rmse: 0.1600 - R2: 0.8771 - val_loss: 0.0242 - val_rmse: 0.1420 - val_R2: 0.9010\n",
      "Epoch 28/100\n",
      "76260/76260 [==============================] - 17s 223us/sample - loss: 0.0302 - rmse: 0.1595 - R2: 0.8775 - val_loss: 0.0256 - val_rmse: 0.1445 - val_R2: 0.8960\n",
      "Epoch 29/100\n",
      "76260/76260 [==============================] - 17s 224us/sample - loss: 0.0299 - rmse: 0.1589 - R2: 0.8788 - val_loss: 0.0248 - val_rmse: 0.1429 - val_R2: 0.8990\n",
      "Epoch 30/100\n",
      "76260/76260 [==============================] - 17s 224us/sample - loss: 0.0298 - rmse: 0.1586 - R2: 0.8791 - val_loss: 0.0254 - val_rmse: 0.1442 - val_R2: 0.8969\n",
      "Epoch 31/100\n",
      "76260/76260 [==============================] - 17s 221us/sample - loss: 0.0292 - rmse: 0.1571 - R2: 0.8818 - val_loss: 0.0248 - val_rmse: 0.1429 - val_R2: 0.8984\n",
      "Epoch 32/100\n",
      "76260/76260 [==============================] - 17s 221us/sample - loss: 0.0291 - rmse: 0.1568 - R2: 0.8823 - val_loss: 0.0235 - val_rmse: 0.1401 - val_R2: 0.9042\n",
      "Epoch 33/100\n",
      "76260/76260 [==============================] - 17s 221us/sample - loss: 0.0288 - rmse: 0.1561 - R2: 0.8833 - val_loss: 0.0250 - val_rmse: 0.1431 - val_R2: 0.8980\n",
      "Epoch 34/100\n",
      "76260/76260 [==============================] - 17s 221us/sample - loss: 0.0286 - rmse: 0.1556 - R2: 0.8842 - val_loss: 0.0237 - val_rmse: 0.1404 - val_R2: 0.9036\n",
      "Epoch 35/100\n",
      "76260/76260 [==============================] - 17s 221us/sample - loss: 0.0285 - rmse: 0.1554 - R2: 0.8846 - val_loss: 0.0247 - val_rmse: 0.1423 - val_R2: 0.8992\n",
      "Epoch 36/100\n",
      "76260/76260 [==============================] - 17s 221us/sample - loss: 0.0285 - rmse: 0.1554 - R2: 0.8845 - val_loss: 0.0235 - val_rmse: 0.1393 - val_R2: 0.9042\n",
      "Epoch 37/100\n",
      "76260/76260 [==============================] - 17s 221us/sample - loss: 0.0282 - rmse: 0.1545 - R2: 0.8861 - val_loss: 0.0244 - val_rmse: 0.1421 - val_R2: 0.9006\n",
      "Epoch 38/100\n",
      "76260/76260 [==============================] - 17s 220us/sample - loss: 0.0279 - rmse: 0.1539 - R2: 0.8871 - val_loss: 0.0240 - val_rmse: 0.1406 - val_R2: 0.9024\n",
      "Epoch 39/100\n",
      "76260/76260 [==============================] - 17s 221us/sample - loss: 0.0279 - rmse: 0.1538 - R2: 0.8870 - val_loss: 0.0234 - val_rmse: 0.1392 - val_R2: 0.9043\n",
      "Epoch 40/100\n",
      "76260/76260 [==============================] - 17s 221us/sample - loss: 0.0278 - rmse: 0.1535 - R2: 0.8876 - val_loss: 0.0243 - val_rmse: 0.1408 - val_R2: 0.9012\n",
      "Epoch 41/100\n",
      "76260/76260 [==============================] - 17s 221us/sample - loss: 0.0275 - rmse: 0.1528 - R2: 0.8889 - val_loss: 0.0235 - val_rmse: 0.1391 - val_R2: 0.9037\n",
      "Epoch 42/100\n",
      "76260/76260 [==============================] - 17s 221us/sample - loss: 0.0273 - rmse: 0.1525 - R2: 0.8895 - val_loss: 0.0239 - val_rmse: 0.1404 - val_R2: 0.9027\n",
      "Epoch 43/100\n",
      "76260/76260 [==============================] - 17s 221us/sample - loss: 0.0272 - rmse: 0.1521 - R2: 0.8899 - val_loss: 0.0242 - val_rmse: 0.1403 - val_R2: 0.9012\n",
      "Epoch 44/100\n",
      "76260/76260 [==============================] - 17s 223us/sample - loss: 0.0269 - rmse: 0.1515 - R2: 0.8911 - val_loss: 0.0241 - val_rmse: 0.1409 - val_R2: 0.9017\n",
      "Epoch 45/100\n",
      "76260/76260 [==============================] - 17s 224us/sample - loss: 0.0268 - rmse: 0.1512 - R2: 0.8914 - val_loss: 0.0248 - val_rmse: 0.1416 - val_R2: 0.8990\n",
      "Epoch 46/100\n",
      "76260/76260 [==============================] - 17s 224us/sample - loss: 0.0267 - rmse: 0.1509 - R2: 0.8920 - val_loss: 0.0235 - val_rmse: 0.1387 - val_R2: 0.9039\n",
      "Epoch 47/100\n",
      "76260/76260 [==============================] - 17s 224us/sample - loss: 0.0266 - rmse: 0.1507 - R2: 0.8924 - val_loss: 0.0237 - val_rmse: 0.1392 - val_R2: 0.9031\n",
      "Epoch 48/100\n",
      "76260/76260 [==============================] - 17s 224us/sample - loss: 0.0266 - rmse: 0.1507 - R2: 0.8923 - val_loss: 0.0239 - val_rmse: 0.1402 - val_R2: 0.9026\n",
      "Epoch 49/100\n",
      "76260/76260 [==============================] - 17s 224us/sample - loss: 0.0263 - rmse: 0.1499 - R2: 0.8936 - val_loss: 0.0232 - val_rmse: 0.1380 - val_R2: 0.9050\n",
      "Epoch 50/100\n",
      "76260/76260 [==============================] - 17s 224us/sample - loss: 0.0263 - rmse: 0.1498 - R2: 0.8936 - val_loss: 0.0233 - val_rmse: 0.1386 - val_R2: 0.9047\n",
      "Epoch 51/100\n",
      "76260/76260 [==============================] - 17s 223us/sample - loss: 0.0261 - rmse: 0.1496 - R2: 0.8941 - val_loss: 0.0233 - val_rmse: 0.1385 - val_R2: 0.9041\n",
      "Epoch 52/100\n",
      "76260/76260 [==============================] - 17s 224us/sample - loss: 0.0261 - rmse: 0.1494 - R2: 0.8945 - val_loss: 0.0232 - val_rmse: 0.1379 - val_R2: 0.9051\n",
      "Epoch 53/100\n",
      "76260/76260 [==============================] - 17s 223us/sample - loss: 0.0258 - rmse: 0.1488 - R2: 0.8955 - val_loss: 0.0236 - val_rmse: 0.1387 - val_R2: 0.9034\n",
      "Epoch 54/100\n",
      "76260/76260 [==============================] - 17s 223us/sample - loss: 0.0259 - rmse: 0.1488 - R2: 0.8953 - val_loss: 0.0241 - val_rmse: 0.1396 - val_R2: 0.9010\n",
      "Epoch 55/100\n",
      "76260/76260 [==============================] - 17s 224us/sample - loss: 0.0257 - rmse: 0.1485 - R2: 0.8962 - val_loss: 0.0236 - val_rmse: 0.1392 - val_R2: 0.9040\n",
      "Epoch 56/100\n",
      "76260/76260 [==============================] - 17s 223us/sample - loss: 0.0254 - rmse: 0.1479 - R2: 0.8971 - val_loss: 0.0238 - val_rmse: 0.1391 - val_R2: 0.9028\n",
      "Epoch 57/100\n",
      "76260/76260 [==============================] - 17s 224us/sample - loss: 0.0255 - rmse: 0.1480 - R2: 0.8968 - val_loss: 0.0235 - val_rmse: 0.1383 - val_R2: 0.9045\n",
      "Epoch 58/100\n",
      "76260/76260 [==============================] - 17s 224us/sample - loss: 0.0253 - rmse: 0.1476 - R2: 0.8975 - val_loss: 0.0236 - val_rmse: 0.1377 - val_R2: 0.9039\n",
      "Epoch 59/100\n",
      "76260/76260 [==============================] - 17s 224us/sample - loss: 0.0251 - rmse: 0.1469 - R2: 0.8984 - val_loss: 0.0239 - val_rmse: 0.1385 - val_R2: 0.9025\n",
      "Epoch 00059: early stopping\n"
     ]
    }
   ],
   "source": [
    "history = model.fit(X_train,y_train,\n",
    "    batch_size=BATCH_SIZE,\n",
    "    epochs=EPOCHS,\n",
    "    validation_data=(X_val,y_val),\n",
    "    callbacks=callback_list)"
   ]
  },
  {
   "cell_type": "code",
   "execution_count": 20,
   "metadata": {},
   "outputs": [],
   "source": [
    "model.save('model_baseline.hdf5')"
   ]
  },
  {
   "cell_type": "markdown",
   "metadata": {},
   "source": [
    "### Evaluation "
   ]
  },
  {
   "cell_type": "code",
   "execution_count": 21,
   "metadata": {},
   "outputs": [
    {
     "data": {
      "text/plain": [
       "[0.023504588644473655, 0.13791166, 0.8972408]"
      ]
     },
     "execution_count": 21,
     "metadata": {},
     "output_type": "execute_result"
    }
   ],
   "source": [
    "model.evaluate(X_test,y_test,verbose=0)"
   ]
  },
  {
   "cell_type": "code",
   "execution_count": 22,
   "metadata": {},
   "outputs": [],
   "source": [
    "y_pred = model.predict(X_test)"
   ]
  },
  {
   "cell_type": "code",
   "execution_count": 23,
   "metadata": {},
   "outputs": [],
   "source": [
    "err = compute_rmse(y_test,y_pred, axis=0)"
   ]
  },
  {
   "cell_type": "code",
   "execution_count": 24,
   "metadata": {},
   "outputs": [
    {
     "name": "stdout",
     "output_type": "stream",
     "text": [
      "[0.15548429 0.13400488 0.1198775  0.13760332 0.15043165 0.19396482\n",
      " 0.21009323 0.09899641 0.11879603 0.14950289 0.15809402 0.13600232\n",
      " 0.14012452 0.18484101 0.16447261 0.14721315 0.16574249]\n"
     ]
    }
   ],
   "source": [
    "print(err)"
   ]
  },
  {
   "cell_type": "markdown",
   "metadata": {},
   "source": [
    "## 2.) Trained Embedding Layer "
   ]
  },
  {
   "cell_type": "markdown",
   "metadata": {},
   "source": [
    "### Defined Embedding Model"
   ]
  },
  {
   "cell_type": "code",
   "execution_count": 25,
   "metadata": {},
   "outputs": [],
   "source": [
    "PHONETIC_OUTPUT = len(set(z_train))\n",
    "EMBEDDED_FEATURE = 39\n",
    "\n",
    "pLSTM = partial(LSTM, kernel_initializer='he_uniform', return_sequences=True)\n",
    "\n",
    "def embeded_model(input_shape_1,input_shape_2):\n",
    "    inputs = keras.Input(shape=(input_shape_1,input_shape_2))\n",
    "    x = pLSTM(EMBEDDED_FEATURE)(inputs)\n",
    "    x = Flatten()(x)\n",
    "    outputs = Dense(PHONETIC_OUTPUT, activation='softmax', kernel_initializer='he_uniform')(x)\n",
    "    return keras.Model(inputs=inputs, outputs=outputs)"
   ]
  },
  {
   "cell_type": "code",
   "execution_count": 26,
   "metadata": {},
   "outputs": [
    {
     "name": "stdout",
     "output_type": "stream",
     "text": [
      "Model: \"model_1\"\n",
      "_________________________________________________________________\n",
      "Layer (type)                 Output Shape              Param #   \n",
      "=================================================================\n",
      "input_2 (InputLayer)         [(None, 24, 39)]          0         \n",
      "_________________________________________________________________\n",
      "lstm_1 (LSTM)                (None, 24, 39)            12324     \n",
      "_________________________________________________________________\n",
      "flatten (Flatten)            (None, 936)               0         \n",
      "_________________________________________________________________\n",
      "dense_5 (Dense)              (None, 14)                13118     \n",
      "=================================================================\n",
      "Total params: 25,442\n",
      "Trainable params: 25,442\n",
      "Non-trainable params: 0\n",
      "_________________________________________________________________\n"
     ]
    }
   ],
   "source": [
    "embedded = embeded_model(24, 39)\n",
    "embedded.summary()"
   ]
  },
  {
   "cell_type": "markdown",
   "metadata": {},
   "source": [
    "### Compile Model "
   ]
  },
  {
   "cell_type": "code",
   "execution_count": 27,
   "metadata": {},
   "outputs": [],
   "source": [
    "embedded.compile(optimizer='adam',loss=tf.keras.losses.CategoricalCrossentropy(from_logits=True),metrics=['accuracy'])"
   ]
  },
  {
   "cell_type": "markdown",
   "metadata": {},
   "source": [
    "### Train Model "
   ]
  },
  {
   "cell_type": "code",
   "execution_count": 28,
   "metadata": {},
   "outputs": [],
   "source": [
    "PATIENCE = 10\n",
    "BATCH_SIZE = 128\n",
    "EPOCHS = 100\n",
    "\n",
    "early = callbacks.EarlyStopping(monitor='val_loss', min_delta=0, patience=PATIENCE, verbose=1, mode='min', baseline=None, restore_best_weights=False)\n",
    "callback_list = [early]"
   ]
  },
  {
   "cell_type": "code",
   "execution_count": 29,
   "metadata": {},
   "outputs": [
    {
     "name": "stdout",
     "output_type": "stream",
     "text": [
      "Train on 76260 samples, validate on 9340 samples\n",
      "Epoch 1/100\n",
      "76260/76260 [==============================] - 6s 73us/sample - loss: 2.0241 - accuracy: 0.7599 - val_loss: 1.8864 - val_accuracy: 0.8793\n",
      "Epoch 2/100\n",
      "76260/76260 [==============================] - 3s 40us/sample - loss: 1.9031 - accuracy: 0.8616 - val_loss: 1.8546 - val_accuracy: 0.9063\n",
      "Epoch 3/100\n",
      "76260/76260 [==============================] - 3s 42us/sample - loss: 1.8748 - accuracy: 0.8879 - val_loss: 1.8424 - val_accuracy: 0.9171\n",
      "Epoch 4/100\n",
      "76260/76260 [==============================] - 3s 40us/sample - loss: 1.8602 - accuracy: 0.9015 - val_loss: 1.8379 - val_accuracy: 0.9215\n",
      "Epoch 5/100\n",
      "76260/76260 [==============================] - 3s 40us/sample - loss: 1.8497 - accuracy: 0.9114 - val_loss: 1.8309 - val_accuracy: 0.9275\n",
      "Epoch 6/100\n",
      "76260/76260 [==============================] - 3s 40us/sample - loss: 1.8420 - accuracy: 0.9187 - val_loss: 1.8290 - val_accuracy: 0.9288\n",
      "Epoch 7/100\n",
      "76260/76260 [==============================] - 3s 40us/sample - loss: 1.8364 - accuracy: 0.9236 - val_loss: 1.8275 - val_accuracy: 0.9303\n",
      "Epoch 8/100\n",
      "76260/76260 [==============================] - 3s 40us/sample - loss: 1.8318 - accuracy: 0.9280 - val_loss: 1.8245 - val_accuracy: 0.9338\n",
      "Epoch 9/100\n",
      "76260/76260 [==============================] - 3s 41us/sample - loss: 1.8275 - accuracy: 0.9319 - val_loss: 1.8248 - val_accuracy: 0.9322\n",
      "Epoch 10/100\n",
      "76260/76260 [==============================] - 3s 39us/sample - loss: 1.8244 - accuracy: 0.9349 - val_loss: 1.8226 - val_accuracy: 0.9335\n",
      "Epoch 11/100\n",
      "76260/76260 [==============================] - 3s 40us/sample - loss: 1.8215 - accuracy: 0.9377 - val_loss: 1.8187 - val_accuracy: 0.9391\n",
      "Epoch 12/100\n",
      "76260/76260 [==============================] - 3s 40us/sample - loss: 1.8190 - accuracy: 0.9399 - val_loss: 1.8213 - val_accuracy: 0.9349\n",
      "Epoch 13/100\n",
      "76260/76260 [==============================] - 3s 40us/sample - loss: 1.8168 - accuracy: 0.9418 - val_loss: 1.8197 - val_accuracy: 0.9373\n",
      "Epoch 14/100\n",
      "76260/76260 [==============================] - 3s 41us/sample - loss: 1.8150 - accuracy: 0.9434 - val_loss: 1.8197 - val_accuracy: 0.9370\n",
      "Epoch 15/100\n",
      "76260/76260 [==============================] - 3s 40us/sample - loss: 1.8132 - accuracy: 0.9450 - val_loss: 1.8174 - val_accuracy: 0.9397\n",
      "Epoch 16/100\n",
      "76260/76260 [==============================] - 3s 40us/sample - loss: 1.8116 - accuracy: 0.9466 - val_loss: 1.8164 - val_accuracy: 0.9398\n",
      "Epoch 17/100\n",
      "76260/76260 [==============================] - 3s 39us/sample - loss: 1.8103 - accuracy: 0.9480 - val_loss: 1.8153 - val_accuracy: 0.9407\n",
      "Epoch 18/100\n",
      "76260/76260 [==============================] - 3s 43us/sample - loss: 1.8084 - accuracy: 0.9496 - val_loss: 1.8156 - val_accuracy: 0.9411\n",
      "Epoch 19/100\n",
      "76260/76260 [==============================] - 3s 41us/sample - loss: 1.8072 - accuracy: 0.9509 - val_loss: 1.8163 - val_accuracy: 0.9393\n",
      "Epoch 20/100\n",
      "76260/76260 [==============================] - 3s 39us/sample - loss: 1.8060 - accuracy: 0.9519 - val_loss: 1.8173 - val_accuracy: 0.9385\n",
      "Epoch 21/100\n",
      "76260/76260 [==============================] - 3s 39us/sample - loss: 1.8044 - accuracy: 0.9534 - val_loss: 1.8172 - val_accuracy: 0.9380\n",
      "Epoch 22/100\n",
      "76260/76260 [==============================] - 3s 40us/sample - loss: 1.8038 - accuracy: 0.9541 - val_loss: 1.8160 - val_accuracy: 0.9394\n",
      "Epoch 23/100\n",
      "76260/76260 [==============================] - 3s 39us/sample - loss: 1.8030 - accuracy: 0.9548 - val_loss: 1.8168 - val_accuracy: 0.9387\n",
      "Epoch 24/100\n",
      "76260/76260 [==============================] - 3s 41us/sample - loss: 1.8014 - accuracy: 0.9561 - val_loss: 1.8153 - val_accuracy: 0.9409\n",
      "Epoch 25/100\n",
      "76260/76260 [==============================] - 3s 39us/sample - loss: 1.8007 - accuracy: 0.9567 - val_loss: 1.8161 - val_accuracy: 0.9400\n",
      "Epoch 26/100\n",
      "76260/76260 [==============================] - 3s 40us/sample - loss: 1.8008 - accuracy: 0.9570 - val_loss: 1.8169 - val_accuracy: 0.9391\n",
      "Epoch 27/100\n",
      "76260/76260 [==============================] - 3s 40us/sample - loss: 1.7993 - accuracy: 0.9580 - val_loss: 1.8155 - val_accuracy: 0.9394\n",
      "Epoch 28/100\n",
      "76260/76260 [==============================] - 3s 42us/sample - loss: 1.7987 - accuracy: 0.9584 - val_loss: 1.8150 - val_accuracy: 0.9412\n",
      "Epoch 29/100\n",
      "76260/76260 [==============================] - 3s 42us/sample - loss: 1.7984 - accuracy: 0.9589 - val_loss: 1.8193 - val_accuracy: 0.9363\n",
      "Epoch 30/100\n",
      "76260/76260 [==============================] - 3s 40us/sample - loss: 1.7972 - accuracy: 0.9600 - val_loss: 1.8156 - val_accuracy: 0.9401\n",
      "Epoch 31/100\n",
      "76260/76260 [==============================] - 3s 40us/sample - loss: 1.7964 - accuracy: 0.9609 - val_loss: 1.8162 - val_accuracy: 0.9397\n",
      "Epoch 32/100\n",
      "76260/76260 [==============================] - 3s 40us/sample - loss: 1.7952 - accuracy: 0.9617 - val_loss: 1.8159 - val_accuracy: 0.9398\n",
      "Epoch 33/100\n",
      "76260/76260 [==============================] - 3s 40us/sample - loss: 1.7949 - accuracy: 0.9620 - val_loss: 1.8179 - val_accuracy: 0.9374\n",
      "Epoch 34/100\n",
      "76260/76260 [==============================] - 3s 40us/sample - loss: 1.7942 - accuracy: 0.9626 - val_loss: 1.8120 - val_accuracy: 0.9441\n",
      "Epoch 35/100\n",
      "76260/76260 [==============================] - 3s 41us/sample - loss: 1.7934 - accuracy: 0.9635 - val_loss: 1.8155 - val_accuracy: 0.9415\n",
      "Epoch 36/100\n",
      "76260/76260 [==============================] - 3s 40us/sample - loss: 1.7932 - accuracy: 0.9635 - val_loss: 1.8141 - val_accuracy: 0.9416\n",
      "Epoch 37/100\n",
      "76260/76260 [==============================] - 3s 40us/sample - loss: 1.7926 - accuracy: 0.9641 - val_loss: 1.8147 - val_accuracy: 0.9411\n",
      "Epoch 38/100\n",
      "76260/76260 [==============================] - 3s 40us/sample - loss: 1.7922 - accuracy: 0.9645 - val_loss: 1.8127 - val_accuracy: 0.9438\n",
      "Epoch 39/100\n",
      "76260/76260 [==============================] - 3s 40us/sample - loss: 1.7917 - accuracy: 0.9651 - val_loss: 1.8144 - val_accuracy: 0.9405\n",
      "Epoch 40/100\n",
      "76260/76260 [==============================] - 3s 41us/sample - loss: 1.7908 - accuracy: 0.9662 - val_loss: 1.8147 - val_accuracy: 0.9408\n",
      "Epoch 41/100\n",
      "76260/76260 [==============================] - 3s 40us/sample - loss: 1.7912 - accuracy: 0.9654 - val_loss: 1.8140 - val_accuracy: 0.9412\n",
      "Epoch 42/100\n",
      "76260/76260 [==============================] - 3s 40us/sample - loss: 1.7907 - accuracy: 0.9661 - val_loss: 1.8144 - val_accuracy: 0.9420\n",
      "Epoch 43/100\n",
      "76260/76260 [==============================] - 3s 40us/sample - loss: 1.7901 - accuracy: 0.9664 - val_loss: 1.8128 - val_accuracy: 0.9428\n",
      "Epoch 44/100\n",
      "76260/76260 [==============================] - 3s 40us/sample - loss: 1.7898 - accuracy: 0.9665 - val_loss: 1.8138 - val_accuracy: 0.9427\n",
      "Epoch 00044: early stopping\n"
     ]
    }
   ],
   "source": [
    "history = embedded.fit(X_train,z_train_oe,\n",
    "    batch_size=BATCH_SIZE,\n",
    "    epochs=EPOCHS,\n",
    "    validation_data=(X_val,z_val_oe),\n",
    "    callbacks=callback_list)"
   ]
  },
  {
   "cell_type": "code",
   "execution_count": 30,
   "metadata": {},
   "outputs": [],
   "source": [
    "embedded.save('embedded.hdf5')"
   ]
  },
  {
   "cell_type": "markdown",
   "metadata": {},
   "source": [
    "### Evaluated Model "
   ]
  },
  {
   "cell_type": "code",
   "execution_count": 31,
   "metadata": {},
   "outputs": [
    {
     "name": "stdout",
     "output_type": "stream",
     "text": [
      "Classification Report\n",
      "              precision    recall  f1-score   support\n",
      "\n",
      "           2       0.95      0.97      0.96       701\n",
      "           9       0.98      0.96      0.97       688\n",
      "           @       0.97      0.94      0.96       635\n",
      "           A       0.93      0.97      0.95       645\n",
      "           E       0.93      0.95      0.94       697\n",
      "          E:       0.95      0.95      0.95       655\n",
      "           O       0.93      0.95      0.94       729\n",
      "           U       0.92      0.87      0.90       687\n",
      "           a       0.96      0.94      0.95       689\n",
      "           e       0.94      0.95      0.95       644\n",
      "           i       0.98      0.94      0.96       684\n",
      "           o       0.95      0.87      0.90       634\n",
      "           u       0.86      0.95      0.91       659\n",
      "           y       0.93      0.96      0.94       591\n",
      "\n",
      "    accuracy                           0.94      9338\n",
      "   macro avg       0.94      0.94      0.94      9338\n",
      "weighted avg       0.94      0.94      0.94      9338\n",
      "\n"
     ]
    }
   ],
   "source": [
    "z_pred = embedded.predict(X_test)\n",
    "evaluate_model(z_pred, z_test_oe)"
   ]
  },
  {
   "cell_type": "markdown",
   "metadata": {},
   "source": [
    "## 3.) Model with Embedding Feature "
   ]
  },
  {
   "cell_type": "markdown",
   "metadata": {},
   "source": [
    "### Embedded input model"
   ]
  },
  {
   "cell_type": "code",
   "execution_count": 32,
   "metadata": {},
   "outputs": [
    {
     "name": "stdout",
     "output_type": "stream",
     "text": [
      "Model: \"sequential\"\n",
      "_________________________________________________________________\n",
      "Layer (type)                 Output Shape              Param #   \n",
      "=================================================================\n",
      "lstm_1 (LSTM)                (None, 24, 39)            12324     \n",
      "=================================================================\n",
      "Total params: 12,324\n",
      "Trainable params: 0\n",
      "Non-trainable params: 12,324\n",
      "_________________________________________________________________\n"
     ]
    }
   ],
   "source": [
    "embedded = tf.keras.models.load_model('embedded.hdf5')\n",
    "\n",
    "embedded_layers = tf.keras.Sequential()\n",
    "for layer in embedded.layers[:-2]:\n",
    "    layer.trainable = False\n",
    "    embedded_layers.add(layer)\n",
    "embedded_layers.summary()\n",
    "\n",
    "N_OUTPUTS = 17\n",
    "\n",
    "pLSTM = partial(LSTM, kernel_initializer='he_uniform', return_sequences=True)\n",
    "pConv1D = partial(Conv1D, padding = 'same', activation = 'linear', kernel_initializer = 'he_uniform')\n",
    "\n",
    "def init_senet_w_emb(feature_layer=1, cnn_unit=128, first_kernel=11, res_unit=64, res_kernel=3,\n",
    "    bilstm = 1, bilstm_unit=256, \n",
    "    dropout_rate=0.3,\n",
    "    reduction_ratio = 2,\n",
    "    activation_fn='relu'):\n",
    "\n",
    "    def cnn_block(input_x, cnn_unit, kernel_size):\n",
    "        x = pConv1D(cnn_unit, kernel_size=kernel_size)(input_x)\n",
    "        x = BatchNormalization()(x)\n",
    "        x = Activation(activation_fn)(x)\n",
    "        return x\n",
    "\n",
    "    def se_block(input_x):\n",
    "        x = layers.GlobalAveragePooling1D()(input_x)\n",
    "        channel_shape = getattr(x, '_shape_val')[-1]\n",
    "        x = Reshape((1, channel_shape))(x)\n",
    "        x = Dense(channel_shape // reduction_ratio, activation=activation_fn, kernel_initializer='he_uniform')(x)\n",
    "        x = Dense(channel_shape, activation='tanh', kernel_initializer='he_uniform')(x)\n",
    "        return x\n",
    "\n",
    "    def residual_block(input_x):\n",
    "        x = cnn_block(input_x, res_unit,kernel_size=res_kernel)\n",
    "        x = pConv1D(res_unit, kernel_size=3)(x)\n",
    "        x = BatchNormalization()(x)\n",
    "        return x\n",
    "\n",
    "    def se_res_block(input_x):\n",
    "        res_x = residual_block(input_x)\n",
    "        se_x = se_block(res_x)\n",
    "        x = layers.Multiply()([res_x, se_x])\n",
    "        x = Activation(activation_fn)(x)\n",
    "        input_x = cnn_block(input_x, cnn_unit=res_unit, kernel_size=1)\n",
    "        x = layers.Add()([x, input_x])\n",
    "        return x\n",
    "\n",
    "    def senet_nn(input_shape_1,input_shape_2):\n",
    "\n",
    "        input_x = keras.Input(shape=(input_shape_1,input_shape_2))\n",
    "        embedded = embedded_layers(input_x)\n",
    "        x = layers.Concatenate()([input_x, embedded])\n",
    "        x = cnn_block(input_x, 128, first_kernel)\n",
    "\n",
    "        for i in range(feature_layer):\n",
    "            x = se_res_block(x)\n",
    "        x = SpatialDropout1D(rate=dropout_rate)(x)\n",
    "        for i in range(feature_layer):\n",
    "            x = se_res_block(x)\n",
    "            x = SpatialDropout1D(rate=dropout_rate)(x)\n",
    "        x = cnn_block(x, cnn_unit=cnn_unit, kernel_size=1)\n",
    "        x = SpatialDropout1D(rate=dropout_rate)(x)\n",
    "        for i in range(bilstm-1):\n",
    "            x = Bidirectional(pLSTM(bilstm_unit))(x)\n",
    "            x = SpatialDropout1D(rate=dropout_rate)(x)\n",
    "        x = Bidirectional(pLSTM(bilstm_unit, return_sequences=False))(x)\n",
    "        x = Dropout(rate=dropout_rate)(x)\n",
    "        outputs = Dense(N_OUTPUTS, activation='linear', kernel_initializer='he_uniform')(x)\n",
    "        model = keras.Model(inputs=input_x, outputs=outputs)\n",
    "        return model\n",
    "\n",
    "    return senet_nn"
   ]
  },
  {
   "cell_type": "code",
   "execution_count": 33,
   "metadata": {},
   "outputs": [
    {
     "name": "stdout",
     "output_type": "stream",
     "text": [
      "Model: \"model_2\"\n",
      "__________________________________________________________________________________________________\n",
      "Layer (type)                    Output Shape         Param #     Connected to                     \n",
      "==================================================================================================\n",
      "input_3 (InputLayer)            [(None, 24, 39)]     0                                            \n",
      "__________________________________________________________________________________________________\n",
      "conv1d_8 (Conv1D)               (None, 24, 128)      55040       input_3[0][0]                    \n",
      "__________________________________________________________________________________________________\n",
      "batch_normalization_8 (BatchNor (None, 24, 128)      512         conv1d_8[0][0]                   \n",
      "__________________________________________________________________________________________________\n",
      "activation_8 (Activation)       (None, 24, 128)      0           batch_normalization_8[0][0]      \n",
      "__________________________________________________________________________________________________\n",
      "conv1d_9 (Conv1D)               (None, 24, 64)       24640       activation_8[0][0]               \n",
      "__________________________________________________________________________________________________\n",
      "batch_normalization_9 (BatchNor (None, 24, 64)       256         conv1d_9[0][0]                   \n",
      "__________________________________________________________________________________________________\n",
      "activation_9 (Activation)       (None, 24, 64)       0           batch_normalization_9[0][0]      \n",
      "__________________________________________________________________________________________________\n",
      "conv1d_10 (Conv1D)              (None, 24, 64)       12352       activation_9[0][0]               \n",
      "__________________________________________________________________________________________________\n",
      "batch_normalization_10 (BatchNo (None, 24, 64)       256         conv1d_10[0][0]                  \n",
      "__________________________________________________________________________________________________\n",
      "global_average_pooling1d_2 (Glo (None, 64)           0           batch_normalization_10[0][0]     \n",
      "__________________________________________________________________________________________________\n",
      "reshape_2 (Reshape)             (None, 1, 64)        0           global_average_pooling1d_2[0][0] \n",
      "__________________________________________________________________________________________________\n",
      "dense_6 (Dense)                 (None, 1, 32)        2080        reshape_2[0][0]                  \n",
      "__________________________________________________________________________________________________\n",
      "dense_7 (Dense)                 (None, 1, 64)        2112        dense_6[0][0]                    \n",
      "__________________________________________________________________________________________________\n",
      "conv1d_11 (Conv1D)              (None, 24, 64)       8256        activation_8[0][0]               \n",
      "__________________________________________________________________________________________________\n",
      "multiply_2 (Multiply)           (None, 24, 64)       0           batch_normalization_10[0][0]     \n",
      "                                                                 dense_7[0][0]                    \n",
      "__________________________________________________________________________________________________\n",
      "batch_normalization_11 (BatchNo (None, 24, 64)       256         conv1d_11[0][0]                  \n",
      "__________________________________________________________________________________________________\n",
      "activation_10 (Activation)      (None, 24, 64)       0           multiply_2[0][0]                 \n",
      "__________________________________________________________________________________________________\n",
      "activation_11 (Activation)      (None, 24, 64)       0           batch_normalization_11[0][0]     \n",
      "__________________________________________________________________________________________________\n",
      "add_2 (Add)                     (None, 24, 64)       0           activation_10[0][0]              \n",
      "                                                                 activation_11[0][0]              \n",
      "__________________________________________________________________________________________________\n",
      "spatial_dropout1d_3 (SpatialDro (None, 24, 64)       0           add_2[0][0]                      \n",
      "__________________________________________________________________________________________________\n",
      "conv1d_12 (Conv1D)              (None, 24, 64)       12352       spatial_dropout1d_3[0][0]        \n",
      "__________________________________________________________________________________________________\n",
      "batch_normalization_12 (BatchNo (None, 24, 64)       256         conv1d_12[0][0]                  \n",
      "__________________________________________________________________________________________________\n",
      "activation_12 (Activation)      (None, 24, 64)       0           batch_normalization_12[0][0]     \n",
      "__________________________________________________________________________________________________\n",
      "conv1d_13 (Conv1D)              (None, 24, 64)       12352       activation_12[0][0]              \n",
      "__________________________________________________________________________________________________\n",
      "batch_normalization_13 (BatchNo (None, 24, 64)       256         conv1d_13[0][0]                  \n",
      "__________________________________________________________________________________________________\n",
      "global_average_pooling1d_3 (Glo (None, 64)           0           batch_normalization_13[0][0]     \n",
      "__________________________________________________________________________________________________\n",
      "reshape_3 (Reshape)             (None, 1, 64)        0           global_average_pooling1d_3[0][0] \n",
      "__________________________________________________________________________________________________\n",
      "dense_8 (Dense)                 (None, 1, 32)        2080        reshape_3[0][0]                  \n",
      "__________________________________________________________________________________________________\n",
      "dense_9 (Dense)                 (None, 1, 64)        2112        dense_8[0][0]                    \n",
      "__________________________________________________________________________________________________\n",
      "conv1d_14 (Conv1D)              (None, 24, 64)       4160        spatial_dropout1d_3[0][0]        \n",
      "__________________________________________________________________________________________________\n",
      "multiply_3 (Multiply)           (None, 24, 64)       0           batch_normalization_13[0][0]     \n",
      "                                                                 dense_9[0][0]                    \n",
      "__________________________________________________________________________________________________\n",
      "batch_normalization_14 (BatchNo (None, 24, 64)       256         conv1d_14[0][0]                  \n",
      "__________________________________________________________________________________________________\n",
      "activation_13 (Activation)      (None, 24, 64)       0           multiply_3[0][0]                 \n",
      "__________________________________________________________________________________________________\n",
      "activation_14 (Activation)      (None, 24, 64)       0           batch_normalization_14[0][0]     \n",
      "__________________________________________________________________________________________________\n",
      "add_3 (Add)                     (None, 24, 64)       0           activation_13[0][0]              \n",
      "                                                                 activation_14[0][0]              \n",
      "__________________________________________________________________________________________________\n",
      "spatial_dropout1d_4 (SpatialDro (None, 24, 64)       0           add_3[0][0]                      \n",
      "__________________________________________________________________________________________________\n",
      "conv1d_15 (Conv1D)              (None, 24, 128)      8320        spatial_dropout1d_4[0][0]        \n",
      "__________________________________________________________________________________________________\n",
      "batch_normalization_15 (BatchNo (None, 24, 128)      512         conv1d_15[0][0]                  \n",
      "__________________________________________________________________________________________________\n",
      "activation_15 (Activation)      (None, 24, 128)      0           batch_normalization_15[0][0]     \n",
      "__________________________________________________________________________________________________\n",
      "spatial_dropout1d_5 (SpatialDro (None, 24, 128)      0           activation_15[0][0]              \n",
      "__________________________________________________________________________________________________\n",
      "bidirectional_1 (Bidirectional) (None, 512)          788480      spatial_dropout1d_5[0][0]        \n",
      "__________________________________________________________________________________________________\n",
      "dropout_1 (Dropout)             (None, 512)          0           bidirectional_1[0][0]            \n",
      "__________________________________________________________________________________________________\n",
      "dense_10 (Dense)                (None, 17)           8721        dropout_1[0][0]                  \n",
      "==================================================================================================\n",
      "Total params: 945,617\n",
      "Trainable params: 944,337\n",
      "Non-trainable params: 1,280\n",
      "__________________________________________________________________________________________________\n"
     ]
    }
   ],
   "source": [
    "emb_model = init_senet_w_emb()(24, 39)\n",
    "emb_model.summary()"
   ]
  },
  {
   "cell_type": "markdown",
   "metadata": {},
   "source": [
    "### Compile Model "
   ]
  },
  {
   "cell_type": "code",
   "execution_count": 34,
   "metadata": {},
   "outputs": [],
   "source": [
    "emb_model.compile(optimizer='adam',loss='mse',metrics=[rmse, R2])"
   ]
  },
  {
   "cell_type": "markdown",
   "metadata": {},
   "source": [
    "### Train Model "
   ]
  },
  {
   "cell_type": "code",
   "execution_count": 35,
   "metadata": {},
   "outputs": [],
   "source": [
    "PATIENCE = 10\n",
    "BATCH_SIZE = 128\n",
    "EPOCHS = 100\n",
    "\n",
    "early = callbacks.EarlyStopping(monitor='val_loss', min_delta=0, patience=PATIENCE, verbose=1, mode='min', baseline=None, restore_best_weights=False)\n",
    "callback_list = [early]"
   ]
  },
  {
   "cell_type": "code",
   "execution_count": 36,
   "metadata": {},
   "outputs": [
    {
     "name": "stdout",
     "output_type": "stream",
     "text": [
      "Train on 76260 samples, validate on 9340 samples\n",
      "Epoch 1/100\n",
      "76260/76260 - 25s - loss: 0.1123 - rmse: 0.3124 - R2: 0.5447 - val_loss: 0.0468 - val_rmse: 0.1984 - val_R2: 0.8105\n",
      "Epoch 2/100\n",
      "76260/76260 - 16s - loss: 0.0608 - rmse: 0.2280 - R2: 0.7529 - val_loss: 0.0367 - val_rmse: 0.1747 - val_R2: 0.8509\n",
      "Epoch 3/100\n",
      "76260/76260 - 16s - loss: 0.0525 - rmse: 0.2099 - R2: 0.7875 - val_loss: 0.0358 - val_rmse: 0.1717 - val_R2: 0.8546\n",
      "Epoch 4/100\n",
      "76260/76260 - 16s - loss: 0.0482 - rmse: 0.2006 - R2: 0.8047 - val_loss: 0.0341 - val_rmse: 0.1677 - val_R2: 0.8609\n",
      "Epoch 5/100\n",
      "76260/76260 - 16s - loss: 0.0455 - rmse: 0.1949 - R2: 0.8156 - val_loss: 0.0312 - val_rmse: 0.1616 - val_R2: 0.8731\n",
      "Epoch 6/100\n",
      "76260/76260 - 16s - loss: 0.0437 - rmse: 0.1907 - R2: 0.8230 - val_loss: 0.0317 - val_rmse: 0.1616 - val_R2: 0.8714\n",
      "Epoch 7/100\n",
      "76260/76260 - 17s - loss: 0.0422 - rmse: 0.1874 - R2: 0.8292 - val_loss: 0.0305 - val_rmse: 0.1597 - val_R2: 0.8760\n",
      "Epoch 8/100\n",
      "76260/76260 - 16s - loss: 0.0407 - rmse: 0.1840 - R2: 0.8351 - val_loss: 0.0290 - val_rmse: 0.1555 - val_R2: 0.8821\n",
      "Epoch 9/100\n",
      "76260/76260 - 16s - loss: 0.0397 - rmse: 0.1817 - R2: 0.8394 - val_loss: 0.0301 - val_rmse: 0.1584 - val_R2: 0.8771\n",
      "Epoch 10/100\n",
      "76260/76260 - 16s - loss: 0.0390 - rmse: 0.1800 - R2: 0.8420 - val_loss: 0.0277 - val_rmse: 0.1526 - val_R2: 0.8874\n",
      "Epoch 11/100\n",
      "76260/76260 - 16s - loss: 0.0379 - rmse: 0.1777 - R2: 0.8465 - val_loss: 0.0285 - val_rmse: 0.1540 - val_R2: 0.8826\n",
      "Epoch 12/100\n",
      "76260/76260 - 16s - loss: 0.0373 - rmse: 0.1761 - R2: 0.8491 - val_loss: 0.0266 - val_rmse: 0.1499 - val_R2: 0.8920\n",
      "Epoch 13/100\n",
      "76260/76260 - 16s - loss: 0.0366 - rmse: 0.1745 - R2: 0.8520 - val_loss: 0.0277 - val_rmse: 0.1526 - val_R2: 0.8872\n",
      "Epoch 14/100\n",
      "76260/76260 - 16s - loss: 0.0359 - rmse: 0.1731 - R2: 0.8542 - val_loss: 0.0271 - val_rmse: 0.1508 - val_R2: 0.8898\n",
      "Epoch 15/100\n",
      "76260/76260 - 16s - loss: 0.0354 - rmse: 0.1719 - R2: 0.8564 - val_loss: 0.0275 - val_rmse: 0.1515 - val_R2: 0.8871\n",
      "Epoch 16/100\n",
      "76260/76260 - 16s - loss: 0.0345 - rmse: 0.1698 - R2: 0.8603 - val_loss: 0.0253 - val_rmse: 0.1471 - val_R2: 0.8971\n",
      "Epoch 17/100\n",
      "76260/76260 - 16s - loss: 0.0343 - rmse: 0.1693 - R2: 0.8608 - val_loss: 0.0271 - val_rmse: 0.1504 - val_R2: 0.8900\n",
      "Epoch 18/100\n",
      "76260/76260 - 16s - loss: 0.0339 - rmse: 0.1684 - R2: 0.8625 - val_loss: 0.0259 - val_rmse: 0.1470 - val_R2: 0.8946\n",
      "Epoch 19/100\n",
      "76260/76260 - 16s - loss: 0.0334 - rmse: 0.1672 - R2: 0.8647 - val_loss: 0.0258 - val_rmse: 0.1470 - val_R2: 0.8951\n",
      "Epoch 20/100\n",
      "76260/76260 - 16s - loss: 0.0332 - rmse: 0.1666 - R2: 0.8655 - val_loss: 0.0261 - val_rmse: 0.1474 - val_R2: 0.8928\n",
      "Epoch 21/100\n",
      "76260/76260 - 16s - loss: 0.0326 - rmse: 0.1654 - R2: 0.8679 - val_loss: 0.0250 - val_rmse: 0.1451 - val_R2: 0.8982\n",
      "Epoch 22/100\n",
      "76260/76260 - 16s - loss: 0.0322 - rmse: 0.1644 - R2: 0.8694 - val_loss: 0.0253 - val_rmse: 0.1462 - val_R2: 0.8973\n",
      "Epoch 23/100\n",
      "76260/76260 - 16s - loss: 0.0320 - rmse: 0.1638 - R2: 0.8704 - val_loss: 0.0251 - val_rmse: 0.1454 - val_R2: 0.8977\n",
      "Epoch 24/100\n",
      "76260/76260 - 16s - loss: 0.0318 - rmse: 0.1633 - R2: 0.8713 - val_loss: 0.0246 - val_rmse: 0.1440 - val_R2: 0.8998\n",
      "Epoch 25/100\n",
      "76260/76260 - 16s - loss: 0.0312 - rmse: 0.1620 - R2: 0.8736 - val_loss: 0.0258 - val_rmse: 0.1469 - val_R2: 0.8946\n",
      "Epoch 26/100\n",
      "76260/76260 - 16s - loss: 0.0310 - rmse: 0.1613 - R2: 0.8746 - val_loss: 0.0248 - val_rmse: 0.1438 - val_R2: 0.8990\n",
      "Epoch 27/100\n",
      "76260/76260 - 16s - loss: 0.0307 - rmse: 0.1607 - R2: 0.8757 - val_loss: 0.0247 - val_rmse: 0.1434 - val_R2: 0.8991\n",
      "Epoch 28/100\n",
      "76260/76260 - 17s - loss: 0.0305 - rmse: 0.1601 - R2: 0.8763 - val_loss: 0.0246 - val_rmse: 0.1428 - val_R2: 0.9001\n",
      "Epoch 29/100\n",
      "76260/76260 - 17s - loss: 0.0303 - rmse: 0.1597 - R2: 0.8772 - val_loss: 0.0235 - val_rmse: 0.1404 - val_R2: 0.9043\n",
      "Epoch 30/100\n",
      "76260/76260 - 16s - loss: 0.0300 - rmse: 0.1591 - R2: 0.8784 - val_loss: 0.0244 - val_rmse: 0.1426 - val_R2: 0.9001\n",
      "Epoch 31/100\n",
      "76260/76260 - 16s - loss: 0.0297 - rmse: 0.1584 - R2: 0.8795 - val_loss: 0.0242 - val_rmse: 0.1414 - val_R2: 0.9012\n",
      "Epoch 32/100\n",
      "76260/76260 - 16s - loss: 0.0295 - rmse: 0.1579 - R2: 0.8804 - val_loss: 0.0245 - val_rmse: 0.1423 - val_R2: 0.8996\n",
      "Epoch 33/100\n",
      "76260/76260 - 16s - loss: 0.0294 - rmse: 0.1574 - R2: 0.8810 - val_loss: 0.0243 - val_rmse: 0.1422 - val_R2: 0.8999\n",
      "Epoch 34/100\n",
      "76260/76260 - 16s - loss: 0.0291 - rmse: 0.1568 - R2: 0.8823 - val_loss: 0.0246 - val_rmse: 0.1423 - val_R2: 0.8998\n",
      "Epoch 35/100\n",
      "76260/76260 - 16s - loss: 0.0291 - rmse: 0.1570 - R2: 0.8819 - val_loss: 0.0248 - val_rmse: 0.1424 - val_R2: 0.8988\n",
      "Epoch 36/100\n",
      "76260/76260 - 16s - loss: 0.0288 - rmse: 0.1561 - R2: 0.8834 - val_loss: 0.0234 - val_rmse: 0.1397 - val_R2: 0.9045\n",
      "Epoch 37/100\n",
      "76260/76260 - 16s - loss: 0.0286 - rmse: 0.1555 - R2: 0.8842 - val_loss: 0.0234 - val_rmse: 0.1398 - val_R2: 0.9050\n",
      "Epoch 38/100\n",
      "76260/76260 - 16s - loss: 0.0285 - rmse: 0.1555 - R2: 0.8845 - val_loss: 0.0234 - val_rmse: 0.1393 - val_R2: 0.9046\n",
      "Epoch 39/100\n",
      "76260/76260 - 16s - loss: 0.0282 - rmse: 0.1547 - R2: 0.8856 - val_loss: 0.0229 - val_rmse: 0.1384 - val_R2: 0.9064\n",
      "Epoch 40/100\n",
      "76260/76260 - 16s - loss: 0.0281 - rmse: 0.1543 - R2: 0.8862 - val_loss: 0.0232 - val_rmse: 0.1389 - val_R2: 0.9054\n",
      "Epoch 41/100\n",
      "76260/76260 - 16s - loss: 0.0279 - rmse: 0.1540 - R2: 0.8869 - val_loss: 0.0227 - val_rmse: 0.1375 - val_R2: 0.9072\n",
      "Epoch 42/100\n",
      "76260/76260 - 16s - loss: 0.0278 - rmse: 0.1536 - R2: 0.8875 - val_loss: 0.0234 - val_rmse: 0.1397 - val_R2: 0.9046\n",
      "Epoch 43/100\n",
      "76260/76260 - 16s - loss: 0.0277 - rmse: 0.1535 - R2: 0.8876 - val_loss: 0.0227 - val_rmse: 0.1379 - val_R2: 0.9073\n",
      "Epoch 44/100\n",
      "76260/76260 - 16s - loss: 0.0276 - rmse: 0.1531 - R2: 0.8880 - val_loss: 0.0234 - val_rmse: 0.1389 - val_R2: 0.9044\n",
      "Epoch 45/100\n",
      "76260/76260 - 16s - loss: 0.0272 - rmse: 0.1523 - R2: 0.8897 - val_loss: 0.0248 - val_rmse: 0.1416 - val_R2: 0.8987\n",
      "Epoch 46/100\n",
      "76260/76260 - 16s - loss: 0.0272 - rmse: 0.1520 - R2: 0.8900 - val_loss: 0.0231 - val_rmse: 0.1381 - val_R2: 0.9062\n",
      "Epoch 47/100\n",
      "76260/76260 - 16s - loss: 0.0270 - rmse: 0.1518 - R2: 0.8905 - val_loss: 0.0229 - val_rmse: 0.1370 - val_R2: 0.9067\n",
      "Epoch 48/100\n",
      "76260/76260 - 16s - loss: 0.0270 - rmse: 0.1516 - R2: 0.8907 - val_loss: 0.0233 - val_rmse: 0.1386 - val_R2: 0.9045\n",
      "Epoch 49/100\n",
      "76260/76260 - 16s - loss: 0.0268 - rmse: 0.1511 - R2: 0.8914 - val_loss: 0.0227 - val_rmse: 0.1372 - val_R2: 0.9073\n",
      "Epoch 50/100\n",
      "76260/76260 - 16s - loss: 0.0267 - rmse: 0.1510 - R2: 0.8917 - val_loss: 0.0229 - val_rmse: 0.1375 - val_R2: 0.9069\n",
      "Epoch 51/100\n",
      "76260/76260 - 16s - loss: 0.0266 - rmse: 0.1506 - R2: 0.8923 - val_loss: 0.0230 - val_rmse: 0.1380 - val_R2: 0.9056\n",
      "Epoch 00051: early stopping\n"
     ]
    }
   ],
   "source": [
    "history = emb_model.fit(X_train,y_train,\n",
    "    batch_size=BATCH_SIZE,\n",
    "    epochs=EPOCHS,\n",
    "    verbose=2,\n",
    "    validation_data=(X_val,y_val),\n",
    "    callbacks=callback_list)"
   ]
  },
  {
   "cell_type": "code",
   "execution_count": 37,
   "metadata": {},
   "outputs": [],
   "source": [
    "emb_model.save('model_with_embedded.hdf5')"
   ]
  },
  {
   "cell_type": "markdown",
   "metadata": {},
   "source": [
    "## 4.) Evaluation "
   ]
  },
  {
   "cell_type": "code",
   "execution_count": null,
   "metadata": {},
   "outputs": [],
   "source": [
    "emb_model = tf.keras.models.load_model('model_with_embedded.hdf5', custom_objects={'rmse': rmse, 'R2':R2})"
   ]
  },
  {
   "cell_type": "code",
   "execution_count": null,
   "metadata": {},
   "outputs": [],
   "source": [
    "emb_model.evaluate(X_test,y_test,verbose=0)"
   ]
  },
  {
   "cell_type": "code",
   "execution_count": null,
   "metadata": {},
   "outputs": [],
   "source": [
    "y_pred = emb_model.predict(X_test)"
   ]
  },
  {
   "cell_type": "markdown",
   "metadata": {},
   "source": [
    "### Check error by each data "
   ]
  },
  {
   "cell_type": "code",
   "execution_count": null,
   "metadata": {},
   "outputs": [],
   "source": [
    "errs = compute_rmse(y_test,y_pred, axis=1)"
   ]
  },
  {
   "cell_type": "code",
   "execution_count": null,
   "metadata": {},
   "outputs": [],
   "source": [
    "print(err)"
   ]
  },
  {
   "cell_type": "markdown",
   "metadata": {},
   "source": [
    "### Error rank by highest "
   ]
  },
  {
   "cell_type": "code",
   "execution_count": null,
   "metadata": {},
   "outputs": [],
   "source": [
    "err_df = pd.DataFrame({'phonetic':z_test, 'err':errs})"
   ]
  },
  {
   "cell_type": "code",
   "execution_count": null,
   "metadata": {},
   "outputs": [],
   "source": [
    "err_df.head()"
   ]
  },
  {
   "cell_type": "code",
   "execution_count": null,
   "metadata": {},
   "outputs": [],
   "source": [
    "err_df.sort_values('err')"
   ]
  },
  {
   "cell_type": "code",
   "execution_count": null,
   "metadata": {},
   "outputs": [],
   "source": [
    "err_df.hist('err')"
   ]
  },
  {
   "cell_type": "code",
   "execution_count": null,
   "metadata": {},
   "outputs": [],
   "source": [
    "err_df_high = err_df[err_df['err'] > 0.15]"
   ]
  },
  {
   "cell_type": "code",
   "execution_count": null,
   "metadata": {},
   "outputs": [],
   "source": [
    "err_df_high.head()"
   ]
  },
  {
   "cell_type": "code",
   "execution_count": null,
   "metadata": {},
   "outputs": [],
   "source": [
    "err_df[err_df['err'] > 0.5].groupby('phonetic')['phonetic'].count().sort_values(ascending=False).plot.bar()"
   ]
  },
  {
   "cell_type": "code",
   "execution_count": null,
   "metadata": {},
   "outputs": [],
   "source": [
    "err_df_high.groupby('phonetic')['phonetic'].count()"
   ]
  },
  {
   "cell_type": "markdown",
   "metadata": {},
   "source": [
    "## Evaluate each param of each row"
   ]
  },
  {
   "cell_type": "code",
   "execution_count": null,
   "metadata": {},
   "outputs": [],
   "source": [
    "se = compute_se(y_test,y_pred)\n",
    "errs = compute_rmse(y_test,y_pred, axis=1)"
   ]
  },
  {
   "cell_type": "code",
   "execution_count": null,
   "metadata": {},
   "outputs": [],
   "source": [
    "df_se = pd.DataFrame(se, columns=[\"HX\",\"HY\",\"JA\",\"LP\",\"LD\",\"VS\",\"VO\",\"TCX\",\"TCY\",\"TTX\",\"TTY\",\"TBX\",\"TBY\",\"TS1\",\"TS2\",\"TS3\",\"TS4\"])"
   ]
  },
  {
   "cell_type": "code",
   "execution_count": null,
   "metadata": {},
   "outputs": [],
   "source": [
    "df_se['phonetic'] = z_test\n",
    "df_se['mean_err'] = errs\n",
    "df_se['audio'] = a_test"
   ]
  },
  {
   "cell_type": "code",
   "execution_count": null,
   "metadata": {},
   "outputs": [],
   "source": [
    "df_se.head()"
   ]
  },
  {
   "cell_type": "code",
   "execution_count": null,
   "metadata": {},
   "outputs": [],
   "source": [
    "df_se[(df_se['phonetic'] == '7') & (df_se['mean_err'] > 0.5)]['TS4'].plot.hist()"
   ]
  },
  {
   "cell_type": "markdown",
   "metadata": {},
   "source": [
    "## EDA audio of testing data "
   ]
  },
  {
   "cell_type": "code",
   "execution_count": null,
   "metadata": {},
   "outputs": [],
   "source": [
    "df_se_sort = df_se.sort_values('mean_err',ascending=False)\n",
    "df_se_sort.reset_index(drop=True, inplace=True)"
   ]
  },
  {
   "cell_type": "code",
   "execution_count": null,
   "metadata": {},
   "outputs": [],
   "source": [
    "df_se_sort[df_se_sort['phonetic'] == '&'].head(n=5)"
   ]
  },
  {
   "cell_type": "code",
   "execution_count": null,
   "metadata": {},
   "outputs": [],
   "source": [
    "Audio(df_se_sort['audio'][0], rate=16000)"
   ]
  },
  {
   "cell_type": "code",
   "execution_count": null,
   "metadata": {},
   "outputs": [],
   "source": [
    "df_se_sort[df_se_sort['phonetic'] == '&'].tail(n=5)"
   ]
  },
  {
   "cell_type": "code",
   "execution_count": null,
   "metadata": {},
   "outputs": [],
   "source": [
    "Audio(df_se_sort['audio'][12073], rate=16000)"
   ]
  },
  {
   "cell_type": "code",
   "execution_count": null,
   "metadata": {},
   "outputs": [],
   "source": []
  }
 ],
 "metadata": {
  "kernelspec": {
   "display_name": "Python 3",
   "language": "python",
   "name": "python3"
  },
  "language_info": {
   "codemirror_mode": {
    "name": "ipython",
    "version": 3
   },
   "file_extension": ".py",
   "mimetype": "text/x-python",
   "name": "python",
   "nbconvert_exporter": "python",
   "pygments_lexer": "ipython3",
   "version": "3.6.10"
  }
 },
 "nbformat": 4,
 "nbformat_minor": 4
}
