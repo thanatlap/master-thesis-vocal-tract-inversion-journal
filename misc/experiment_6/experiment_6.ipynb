{
 "cells": [
  {
   "cell_type": "markdown",
   "metadata": {},
   "source": [
    "# Experiment on AAI Model Architectures\n",
    "- Created: 10 Mar 2020\n",
    "- Data: param_draft2\n",
    "- Increase data size and change model architecture\n",
    "- Pre SE, between (cnn and bilstm) embedding feature, tuning from exp5\n",
    "- expeirment 16 17"
   ]
  },
  {
   "cell_type": "code",
   "execution_count": 1,
   "metadata": {},
   "outputs": [],
   "source": [
    "from __future__ import absolute_import, division, print_function, unicode_literals\n",
    "import numpy as np\n",
    "import pandas as pd\n",
    "import matplotlib.pyplot as plt\n",
    "import os\n",
    "from os.path import join\n",
    "import tensorflow as tf\n",
    "from tensorflow import keras\n",
    "\n",
    "from tensorflow.keras import models\n",
    "from tensorflow.keras import optimizers\n",
    "from tensorflow.keras import regularizers\n",
    "from tensorflow.keras import callbacks\n",
    "from time import time\n",
    "from datetime import datetime\n",
    "import shutil \n",
    "import argparse\n",
    "from functools import partial\n",
    "import pickle\n",
    "from IPython.display import Audio\n",
    "\n",
    "import tensorflow as tf\n",
    "from tensorflow import keras\n",
    "from tensorflow.keras import layers\n",
    "from tensorflow.keras import backend as K\n",
    "from tensorflow.keras import regularizers\n",
    "from tensorflow.keras.layers import Reshape, GRU, InputLayer, AlphaDropout, Activation, BatchNormalization, Dropout, Flatten, Dense, Bidirectional, LSTM, Conv1D, SpatialDropout1D, Concatenate, Multiply, Add\n",
    "\n",
    "from sklearn.model_selection import train_test_split\n",
    "from sklearn.metrics import classification_report, confusion_matrix\n",
    "from sklearn.preprocessing import OneHotEncoder"
   ]
  },
  {
   "cell_type": "code",
   "execution_count": 2,
   "metadata": {},
   "outputs": [],
   "source": [
    "np_load_old = partial(np.load)\n",
    "np.load = lambda *a,**k: np_load_old(*a, allow_pickle=True, **k)\n",
    "tf.random.set_seed(42)"
   ]
  },
  {
   "cell_type": "code",
   "execution_count": 3,
   "metadata": {},
   "outputs": [],
   "source": []
  },
  {
   "cell_type": "markdown",
   "metadata": {},
   "source": [
    "## Metric Function"
   ]
  },
  {
   "cell_type": "code",
   "execution_count": 4,
   "metadata": {},
   "outputs": [],
   "source": [
    "def rmse(y_true, y_pred):\n",
    "    return K.sqrt(K.mean(K.square(y_pred - y_true), axis=-1))\n",
    "\n",
    "def R2(y_true, y_pred):\n",
    "    SS_res =  K.sum(K.square(y_true - y_pred), axis = 0) \n",
    "    SS_tot = K.sum(K.square(y_true - K.mean(y_true, axis = 0)), axis = 0) \n",
    "    return K.mean(1 - (SS_res/SS_tot), axis=0)"
   ]
  },
  {
   "cell_type": "markdown",
   "metadata": {},
   "source": [
    "## Utility Functions"
   ]
  },
  {
   "cell_type": "code",
   "execution_count": 5,
   "metadata": {},
   "outputs": [],
   "source": [
    "#Function for preprocessing data\n",
    "def delete_params(params):\n",
    "    '''\n",
    "    This function remove JX, WC, TRX, TRY, and MS1,2,3 paramter\n",
    "    '''\n",
    "    DEL_PARAMS_LIST = [2,8,15,16,21,22,23]\n",
    "    return np.delete(params,DEL_PARAMS_LIST , axis=1)"
   ]
  },
  {
   "cell_type": "code",
   "execution_count": 6,
   "metadata": {},
   "outputs": [],
   "source": [
    "def compute_rmse(actual,pred, axis=1):\n",
    "    # Compute RMSE by row (axis=1) result in rmse of each data\n",
    "    # Compute RMSE by column (axis=0) result in rmse of each label\n",
    "    return np.sqrt((np.square(actual - pred)).mean(axis=axis))"
   ]
  },
  {
   "cell_type": "code",
   "execution_count": 7,
   "metadata": {},
   "outputs": [],
   "source": [
    "def evaluate_model(y_pred, label):\n",
    "    y_pred = enc.inverse_transform(y_pred)\n",
    "    label = enc.inverse_transform(label)\n",
    "#     print('Confusion Matrix')\n",
    "#     print(confusion_matrix(label, y_pred))\n",
    "    print('Classification Report')\n",
    "    print(classification_report(label, y_pred))"
   ]
  },
  {
   "cell_type": "code",
   "execution_count": 8,
   "metadata": {},
   "outputs": [],
   "source": [
    "def compute_se(actual,pred):\n",
    "    return np.sqrt((np.square(actual - pred)))"
   ]
  },
  {
   "cell_type": "markdown",
   "metadata": {},
   "source": [
    "## Load Data "
   ]
  },
  {
   "cell_type": "code",
   "execution_count": 9,
   "metadata": {},
   "outputs": [],
   "source": [
    "def prep_data():\n",
    "\n",
    "    # load data from preprocess pipeline\n",
    "    dataset = np.load(join('../../data/d_dataset_p2/prep_data_13','training_subsets.npz'))\n",
    "    X_train =dataset['X_train']\n",
    "    y_train= dataset['y_train']\n",
    "    z_train= dataset['z_train']\n",
    "    X_val = dataset['X_val']\n",
    "    y_val = dataset['y_val']\n",
    "    z_val = dataset['z_val']\n",
    "    X_test = dataset['X_test']\n",
    "    y_test = dataset['y_test']\n",
    "    z_test = dataset['z_test']\n",
    "    a_test = dataset['audio_test']\n",
    "    a_val = dataset['audio_val']\n",
    "    \n",
    "    y_train = delete_params(y_train)\n",
    "    y_val = delete_params(y_val)\n",
    "    y_test = delete_params(y_test)\n",
    "\n",
    "    print('Train features and labels %s %s'%(str(X_train.shape),str(y_train.shape)))\n",
    "    print('Validating features and labels %s %s'%(str(X_val.shape),str(y_val.shape)))\n",
    "    print('Test features and labels %s %s'%(str(X_test.shape),str(y_test.shape)))\n",
    "\n",
    "    return X_train, X_val, X_test, y_train, y_val, y_test, z_train, z_val, z_test, a_test, a_val"
   ]
  },
  {
   "cell_type": "code",
   "execution_count": 10,
   "metadata": {},
   "outputs": [
    {
     "name": "stdout",
     "output_type": "stream",
     "text": [
      "Train features and labels (76260, 24, 39) (76260, 17)\n",
      "Validating features and labels (9340, 24, 39) (9340, 17)\n",
      "Test features and labels (9338, 24, 39) (9338, 17)\n"
     ]
    }
   ],
   "source": [
    "X_train, X_val, X_test, y_train, y_val, y_test, z_train, z_val, z_test, a_test, a_val = prep_data()"
   ]
  },
  {
   "cell_type": "code",
   "execution_count": 11,
   "metadata": {},
   "outputs": [
    {
     "name": "stdout",
     "output_type": "stream",
     "text": [
      "{'U', 'O', '9', 'o', 'y', 'A', 'i', 'u', 'E:', '2', 'e', 'E', '@', 'a'}\n"
     ]
    }
   ],
   "source": [
    "print(set(z_test))"
   ]
  },
  {
   "cell_type": "code",
   "execution_count": 12,
   "metadata": {},
   "outputs": [
    {
     "name": "stdout",
     "output_type": "stream",
     "text": [
      "Train features and labels (76260, 24, 39) (76260, 17) (76260,)\n",
      "Validating features and labels (9340, 24, 39) (9340, 17) (9340,)\n",
      "Test features and labels (9338, 24, 39) (9338, 17) (9338,)\n"
     ]
    }
   ],
   "source": [
    "print('Train features and labels {} {} {}'.format(str(X_train.shape),str(y_train.shape),str(z_train.shape)))\n",
    "print('Validating features and labels {} {} {}'.format(str(X_val.shape),str(y_val.shape),str(z_val.shape)))\n",
    "print('Test features and labels {} {} {}'.format(str(X_test.shape),str(y_test.shape),str(z_test.shape)))"
   ]
  },
  {
   "cell_type": "markdown",
   "metadata": {},
   "source": [
    "### One-hot label "
   ]
  },
  {
   "cell_type": "code",
   "execution_count": 13,
   "metadata": {},
   "outputs": [],
   "source": [
    "z_train_oe=z_train.reshape(-1,1)\n",
    "z_val_oe=z_val.reshape(-1,1)\n",
    "z_test_oe=z_test.reshape(-1,1)\n",
    "\n",
    "enc = OneHotEncoder(handle_unknown = 'ignore')\n",
    "enc.fit(z_train_oe)\n",
    "\n",
    "z_train_oe = enc.transform(z_train_oe).toarray()\n",
    "z_test_oe = enc.transform(z_test_oe).toarray()\n",
    "z_val_oe = enc.transform(z_val_oe).toarray()"
   ]
  },
  {
   "cell_type": "markdown",
   "metadata": {},
   "source": [
    "## 1.) Train Baseline Model\n",
    "- Model without embedding feature"
   ]
  },
  {
   "cell_type": "markdown",
   "metadata": {},
   "source": [
    "### Defined Model without Embedded Feature"
   ]
  },
  {
   "cell_type": "code",
   "execution_count": 14,
   "metadata": {},
   "outputs": [],
   "source": [
    "N_OUTPUTS = 17\n",
    "\n",
    "pLSTM = partial(LSTM, kernel_initializer='he_uniform', return_sequences=True)\n",
    "pConv1D = partial(Conv1D, padding = 'same', activation = 'linear', kernel_initializer = 'he_uniform')\n",
    "\n",
    "def init_senet(feature_layer=1, cnn_unit=128, first_kernel=13, res_unit=128, res_kernel=5,\n",
    "    bilstm = 1, bilstm_unit=256, \n",
    "    dropout_rate=0.3,\n",
    "    reduction_ratio = 4,\n",
    "    activation_fn='relu'):\n",
    "\n",
    "\n",
    "    def cnn_block(input_x, cnn_unit, kernel_size):\n",
    "        x = pConv1D(cnn_unit, kernel_size=kernel_size)(input_x)\n",
    "        x = BatchNormalization()(x)\n",
    "        x = Activation(activation_fn)(x)\n",
    "        return x\n",
    "    \n",
    "    def residual_block(input_x):\n",
    "        x = pConv1D(res_unit, kernel_size=res_kernel)(input_x)\n",
    "        x = BatchNormalization()(x)\n",
    "        x = Activation(activation_fn)(x)\n",
    "        x = pConv1D(res_unit, kernel_size=3)(x)\n",
    "        x = BatchNormalization()(x)\n",
    "        x = keras.layers.Add()([x, input_x])\n",
    "        output = Activation(activation_fn)(x)\n",
    "        return output\n",
    "\n",
    "    def se_block(input_x):\n",
    "        x = layers.GlobalAveragePooling1D()(input_x)\n",
    "        channel_shape = getattr(x, '_shape_val')[-1]\n",
    "        x = Reshape((1, channel_shape))(x)\n",
    "        x = Dense(channel_shape // reduction_ratio, activation=activation_fn, kernel_initializer='he_uniform')(x)\n",
    "        x = Dense(channel_shape, activation='tanh', kernel_initializer='he_uniform')(x)\n",
    "        return x\n",
    "\n",
    "    def se_res_block(input_x):\n",
    "        se_x = se_block(input_x)\n",
    "        x = layers.Multiply()([input_x, se_x])\n",
    "        x = residual_block(x)\n",
    "        return x\n",
    "\n",
    "    def senet_nn(input_shape_1,input_shape_2):\n",
    "\n",
    "        input_x = keras.Input(shape=(input_shape_1,input_shape_2))\n",
    "        x = cnn_block(input_x, cnn_unit, first_kernel)\n",
    "        for i in range(feature_layer):\n",
    "            x = se_res_block(x)\n",
    "        x = SpatialDropout1D(rate=dropout_rate)(x)\n",
    "        for i in range(feature_layer):\n",
    "            x = se_res_block(x)\n",
    "            x = SpatialDropout1D(rate=dropout_rate)(x)\n",
    "        x = cnn_block(x, cnn_unit=cnn_unit, kernel_size=1)\n",
    "        x = SpatialDropout1D(rate=dropout_rate)(x)\n",
    "        for i in range(bilstm-1):\n",
    "            x = Bidirectional(pLSTM(bilstm_unit))(x)\n",
    "            x = SpatialDropout1D(rate=dropout_rate)(x)\n",
    "        x = Bidirectional(pLSTM(bilstm_unit, return_sequences=False))(x)\n",
    "        x = Dropout(rate=dropout_rate)(x)\n",
    "        outputs = Dense(N_OUTPUTS, activation='linear', kernel_initializer='he_uniform')(x)\n",
    "        model = keras.Model(inputs=input_x, outputs=outputs)\n",
    "        return model\n",
    "\n",
    "    return senet_nn"
   ]
  },
  {
   "cell_type": "code",
   "execution_count": 15,
   "metadata": {},
   "outputs": [],
   "source": [
    "model = init_senet()(24, 39)"
   ]
  },
  {
   "cell_type": "code",
   "execution_count": 16,
   "metadata": {},
   "outputs": [
    {
     "name": "stdout",
     "output_type": "stream",
     "text": [
      "Model: \"model\"\n",
      "__________________________________________________________________________________________________\n",
      "Layer (type)                    Output Shape         Param #     Connected to                     \n",
      "==================================================================================================\n",
      "input_1 (InputLayer)            [(None, 24, 39)]     0                                            \n",
      "__________________________________________________________________________________________________\n",
      "conv1d (Conv1D)                 (None, 24, 128)      65024       input_1[0][0]                    \n",
      "__________________________________________________________________________________________________\n",
      "batch_normalization (BatchNorma (None, 24, 128)      512         conv1d[0][0]                     \n",
      "__________________________________________________________________________________________________\n",
      "activation (Activation)         (None, 24, 128)      0           batch_normalization[0][0]        \n",
      "__________________________________________________________________________________________________\n",
      "global_average_pooling1d (Globa (None, 128)          0           activation[0][0]                 \n",
      "__________________________________________________________________________________________________\n",
      "reshape (Reshape)               (None, 1, 128)       0           global_average_pooling1d[0][0]   \n",
      "__________________________________________________________________________________________________\n",
      "dense (Dense)                   (None, 1, 32)        4128        reshape[0][0]                    \n",
      "__________________________________________________________________________________________________\n",
      "dense_1 (Dense)                 (None, 1, 128)       4224        dense[0][0]                      \n",
      "__________________________________________________________________________________________________\n",
      "multiply (Multiply)             (None, 24, 128)      0           activation[0][0]                 \n",
      "                                                                 dense_1[0][0]                    \n",
      "__________________________________________________________________________________________________\n",
      "conv1d_1 (Conv1D)               (None, 24, 128)      82048       multiply[0][0]                   \n",
      "__________________________________________________________________________________________________\n",
      "batch_normalization_1 (BatchNor (None, 24, 128)      512         conv1d_1[0][0]                   \n",
      "__________________________________________________________________________________________________\n",
      "activation_1 (Activation)       (None, 24, 128)      0           batch_normalization_1[0][0]      \n",
      "__________________________________________________________________________________________________\n",
      "conv1d_2 (Conv1D)               (None, 24, 128)      49280       activation_1[0][0]               \n",
      "__________________________________________________________________________________________________\n",
      "batch_normalization_2 (BatchNor (None, 24, 128)      512         conv1d_2[0][0]                   \n",
      "__________________________________________________________________________________________________\n",
      "add (Add)                       (None, 24, 128)      0           batch_normalization_2[0][0]      \n",
      "                                                                 multiply[0][0]                   \n",
      "__________________________________________________________________________________________________\n",
      "activation_2 (Activation)       (None, 24, 128)      0           add[0][0]                        \n",
      "__________________________________________________________________________________________________\n",
      "spatial_dropout1d (SpatialDropo (None, 24, 128)      0           activation_2[0][0]               \n",
      "__________________________________________________________________________________________________\n",
      "global_average_pooling1d_1 (Glo (None, 128)          0           spatial_dropout1d[0][0]          \n",
      "__________________________________________________________________________________________________\n",
      "reshape_1 (Reshape)             (None, 1, 128)       0           global_average_pooling1d_1[0][0] \n",
      "__________________________________________________________________________________________________\n",
      "dense_2 (Dense)                 (None, 1, 32)        4128        reshape_1[0][0]                  \n",
      "__________________________________________________________________________________________________\n",
      "dense_3 (Dense)                 (None, 1, 128)       4224        dense_2[0][0]                    \n",
      "__________________________________________________________________________________________________\n",
      "multiply_1 (Multiply)           (None, 24, 128)      0           spatial_dropout1d[0][0]          \n",
      "                                                                 dense_3[0][0]                    \n",
      "__________________________________________________________________________________________________\n",
      "conv1d_3 (Conv1D)               (None, 24, 128)      82048       multiply_1[0][0]                 \n",
      "__________________________________________________________________________________________________\n",
      "batch_normalization_3 (BatchNor (None, 24, 128)      512         conv1d_3[0][0]                   \n",
      "__________________________________________________________________________________________________\n",
      "activation_3 (Activation)       (None, 24, 128)      0           batch_normalization_3[0][0]      \n",
      "__________________________________________________________________________________________________\n",
      "conv1d_4 (Conv1D)               (None, 24, 128)      49280       activation_3[0][0]               \n",
      "__________________________________________________________________________________________________\n",
      "batch_normalization_4 (BatchNor (None, 24, 128)      512         conv1d_4[0][0]                   \n",
      "__________________________________________________________________________________________________\n",
      "add_1 (Add)                     (None, 24, 128)      0           batch_normalization_4[0][0]      \n",
      "                                                                 multiply_1[0][0]                 \n",
      "__________________________________________________________________________________________________\n",
      "activation_4 (Activation)       (None, 24, 128)      0           add_1[0][0]                      \n",
      "__________________________________________________________________________________________________\n",
      "spatial_dropout1d_1 (SpatialDro (None, 24, 128)      0           activation_4[0][0]               \n",
      "__________________________________________________________________________________________________\n",
      "conv1d_5 (Conv1D)               (None, 24, 128)      16512       spatial_dropout1d_1[0][0]        \n",
      "__________________________________________________________________________________________________\n",
      "batch_normalization_5 (BatchNor (None, 24, 128)      512         conv1d_5[0][0]                   \n",
      "__________________________________________________________________________________________________\n",
      "activation_5 (Activation)       (None, 24, 128)      0           batch_normalization_5[0][0]      \n",
      "__________________________________________________________________________________________________\n",
      "spatial_dropout1d_2 (SpatialDro (None, 24, 128)      0           activation_5[0][0]               \n",
      "__________________________________________________________________________________________________\n",
      "bidirectional (Bidirectional)   (None, 512)          788480      spatial_dropout1d_2[0][0]        \n",
      "__________________________________________________________________________________________________\n",
      "dropout (Dropout)               (None, 512)          0           bidirectional[0][0]              \n",
      "__________________________________________________________________________________________________\n",
      "dense_4 (Dense)                 (None, 17)           8721        dropout[0][0]                    \n",
      "==================================================================================================\n",
      "Total params: 1,161,169\n",
      "Trainable params: 1,159,633\n",
      "Non-trainable params: 1,536\n",
      "__________________________________________________________________________________________________\n"
     ]
    }
   ],
   "source": [
    "model.summary()"
   ]
  },
  {
   "cell_type": "markdown",
   "metadata": {},
   "source": [
    "### Compile Model "
   ]
  },
  {
   "cell_type": "code",
   "execution_count": 17,
   "metadata": {},
   "outputs": [],
   "source": [
    "model.compile(optimizer='adam',loss='mse',metrics=[rmse, R2])"
   ]
  },
  {
   "cell_type": "markdown",
   "metadata": {},
   "source": [
    "### Train Model "
   ]
  },
  {
   "cell_type": "code",
   "execution_count": 18,
   "metadata": {},
   "outputs": [],
   "source": [
    "PATIENCE = 10\n",
    "BATCH_SIZE = 128\n",
    "EPOCHS = 100\n",
    "\n",
    "early = callbacks.EarlyStopping(monitor='val_loss', min_delta=0, patience=PATIENCE, verbose=1, mode='min', baseline=None, restore_best_weights=False)\n",
    "callback_list = [early]"
   ]
  },
  {
   "cell_type": "code",
   "execution_count": 19,
   "metadata": {},
   "outputs": [
    {
     "name": "stdout",
     "output_type": "stream",
     "text": [
      "Train on 76260 samples, validate on 9340 samples\n",
      "Epoch 1/100\n",
      "76260/76260 [==============================] - 26s 345us/sample - loss: 0.0922 - rmse: 0.2801 - R2: 0.6258 - val_loss: 0.0391 - val_rmse: 0.1811 - val_R2: 0.8428\n",
      "Epoch 2/100\n",
      "76260/76260 [==============================] - 16s 210us/sample - loss: 0.0532 - rmse: 0.2118 - R2: 0.7849 - val_loss: 0.0340 - val_rmse: 0.1690 - val_R2: 0.8619\n",
      "Epoch 3/100\n",
      "76260/76260 [==============================] - 16s 211us/sample - loss: 0.0471 - rmse: 0.1980 - R2: 0.8100 - val_loss: 0.0330 - val_rmse: 0.1654 - val_R2: 0.8663\n",
      "Epoch 4/100\n",
      "76260/76260 [==============================] - 16s 209us/sample - loss: 0.0440 - rmse: 0.1911 - R2: 0.8221 - val_loss: 0.0307 - val_rmse: 0.1604 - val_R2: 0.8766\n",
      "Epoch 5/100\n",
      "76260/76260 [==============================] - 16s 209us/sample - loss: 0.0416 - rmse: 0.1856 - R2: 0.8321 - val_loss: 0.0303 - val_rmse: 0.1582 - val_R2: 0.8768\n",
      "Epoch 6/100\n",
      "76260/76260 [==============================] - 16s 208us/sample - loss: 0.0403 - rmse: 0.1826 - R2: 0.8369 - val_loss: 0.0288 - val_rmse: 0.1551 - val_R2: 0.8829\n",
      "Epoch 7/100\n",
      "76260/76260 [==============================] - 16s 207us/sample - loss: 0.0390 - rmse: 0.1794 - R2: 0.8424 - val_loss: 0.0280 - val_rmse: 0.1536 - val_R2: 0.8861\n",
      "Epoch 8/100\n",
      "76260/76260 [==============================] - 16s 210us/sample - loss: 0.0376 - rmse: 0.1763 - R2: 0.8479 - val_loss: 0.0278 - val_rmse: 0.1519 - val_R2: 0.8869\n",
      "Epoch 9/100\n",
      "76260/76260 [==============================] - 16s 209us/sample - loss: 0.0367 - rmse: 0.1741 - R2: 0.8515 - val_loss: 0.0286 - val_rmse: 0.1541 - val_R2: 0.8839\n",
      "Epoch 10/100\n",
      "76260/76260 [==============================] - 16s 207us/sample - loss: 0.0361 - rmse: 0.1726 - R2: 0.8540 - val_loss: 0.0258 - val_rmse: 0.1470 - val_R2: 0.8955\n",
      "Epoch 11/100\n",
      "76260/76260 [==============================] - 16s 207us/sample - loss: 0.0353 - rmse: 0.1708 - R2: 0.8573 - val_loss: 0.0264 - val_rmse: 0.1483 - val_R2: 0.8927\n",
      "Epoch 12/100\n",
      "76260/76260 [==============================] - 16s 206us/sample - loss: 0.0344 - rmse: 0.1686 - R2: 0.8609 - val_loss: 0.0263 - val_rmse: 0.1476 - val_R2: 0.8933\n",
      "Epoch 13/100\n",
      "76260/76260 [==============================] - 16s 207us/sample - loss: 0.0337 - rmse: 0.1671 - R2: 0.8637 - val_loss: 0.0263 - val_rmse: 0.1484 - val_R2: 0.8932\n",
      "Epoch 14/100\n",
      "76260/76260 [==============================] - 16s 207us/sample - loss: 0.0333 - rmse: 0.1661 - R2: 0.8650 - val_loss: 0.0260 - val_rmse: 0.1469 - val_R2: 0.8941\n",
      "Epoch 15/100\n",
      "76260/76260 [==============================] - 16s 207us/sample - loss: 0.0328 - rmse: 0.1651 - R2: 0.8670 - val_loss: 0.0265 - val_rmse: 0.1486 - val_R2: 0.8917\n",
      "Epoch 16/100\n",
      "76260/76260 [==============================] - 16s 208us/sample - loss: 0.0321 - rmse: 0.1635 - R2: 0.8699 - val_loss: 0.0254 - val_rmse: 0.1449 - val_R2: 0.8964\n",
      "Epoch 17/100\n",
      "76260/76260 [==============================] - 16s 207us/sample - loss: 0.0320 - rmse: 0.1630 - R2: 0.8703 - val_loss: 0.0256 - val_rmse: 0.1456 - val_R2: 0.8953\n",
      "Epoch 18/100\n",
      "76260/76260 [==============================] - 16s 206us/sample - loss: 0.0315 - rmse: 0.1616 - R2: 0.8726 - val_loss: 0.0262 - val_rmse: 0.1460 - val_R2: 0.8924\n",
      "Epoch 19/100\n",
      "76260/76260 [==============================] - 16s 206us/sample - loss: 0.0312 - rmse: 0.1607 - R2: 0.8738 - val_loss: 0.0256 - val_rmse: 0.1450 - val_R2: 0.8956\n",
      "Epoch 20/100\n",
      "76260/76260 [==============================] - 16s 206us/sample - loss: 0.0309 - rmse: 0.1602 - R2: 0.8748 - val_loss: 0.0244 - val_rmse: 0.1423 - val_R2: 0.9005\n",
      "Epoch 21/100\n",
      "76260/76260 [==============================] - 16s 206us/sample - loss: 0.0306 - rmse: 0.1594 - R2: 0.8762 - val_loss: 0.0248 - val_rmse: 0.1419 - val_R2: 0.8990\n",
      "Epoch 22/100\n",
      "76260/76260 [==============================] - 16s 206us/sample - loss: 0.0300 - rmse: 0.1580 - R2: 0.8786 - val_loss: 0.0250 - val_rmse: 0.1433 - val_R2: 0.8984\n",
      "Epoch 23/100\n",
      "76260/76260 [==============================] - 16s 206us/sample - loss: 0.0296 - rmse: 0.1571 - R2: 0.8802 - val_loss: 0.0242 - val_rmse: 0.1411 - val_R2: 0.9013\n",
      "Epoch 24/100\n",
      "76260/76260 [==============================] - 16s 205us/sample - loss: 0.0296 - rmse: 0.1570 - R2: 0.8802 - val_loss: 0.0233 - val_rmse: 0.1392 - val_R2: 0.9049\n",
      "Epoch 25/100\n",
      "76260/76260 [==============================] - 16s 206us/sample - loss: 0.0291 - rmse: 0.1558 - R2: 0.8820 - val_loss: 0.0239 - val_rmse: 0.1404 - val_R2: 0.9021\n",
      "Epoch 26/100\n",
      "76260/76260 [==============================] - 16s 206us/sample - loss: 0.0290 - rmse: 0.1555 - R2: 0.8828 - val_loss: 0.0239 - val_rmse: 0.1404 - val_R2: 0.9031\n",
      "Epoch 27/100\n",
      "76260/76260 [==============================] - 16s 205us/sample - loss: 0.0287 - rmse: 0.1548 - R2: 0.8841 - val_loss: 0.0235 - val_rmse: 0.1388 - val_R2: 0.9039\n",
      "Epoch 28/100\n",
      "76260/76260 [==============================] - 16s 208us/sample - loss: 0.0282 - rmse: 0.1537 - R2: 0.8857 - val_loss: 0.0240 - val_rmse: 0.1391 - val_R2: 0.9019\n",
      "Epoch 29/100\n",
      "76260/76260 [==============================] - 16s 211us/sample - loss: 0.0283 - rmse: 0.1538 - R2: 0.8853 - val_loss: 0.0242 - val_rmse: 0.1402 - val_R2: 0.9015\n",
      "Epoch 30/100\n",
      "76260/76260 [==============================] - 16s 207us/sample - loss: 0.0279 - rmse: 0.1527 - R2: 0.8871 - val_loss: 0.0245 - val_rmse: 0.1407 - val_R2: 0.9001\n",
      "Epoch 31/100\n",
      "76260/76260 [==============================] - 16s 206us/sample - loss: 0.0277 - rmse: 0.1525 - R2: 0.8876 - val_loss: 0.0242 - val_rmse: 0.1394 - val_R2: 0.9011\n",
      "Epoch 32/100\n",
      "76260/76260 [==============================] - 16s 213us/sample - loss: 0.0276 - rmse: 0.1519 - R2: 0.8883 - val_loss: 0.0240 - val_rmse: 0.1393 - val_R2: 0.9017\n",
      "Epoch 33/100\n",
      "76260/76260 [==============================] - 16s 213us/sample - loss: 0.0276 - rmse: 0.1518 - R2: 0.8883 - val_loss: 0.0234 - val_rmse: 0.1378 - val_R2: 0.9046\n",
      "Epoch 34/100\n",
      "76260/76260 [==============================] - 16s 208us/sample - loss: 0.0275 - rmse: 0.1517 - R2: 0.8887 - val_loss: 0.0236 - val_rmse: 0.1382 - val_R2: 0.9038\n",
      "Epoch 00034: early stopping\n"
     ]
    }
   ],
   "source": [
    "history = model.fit(X_train,y_train,\n",
    "    batch_size=BATCH_SIZE,\n",
    "    epochs=EPOCHS,\n",
    "    validation_data=(X_val,y_val),\n",
    "    callbacks=callback_list)"
   ]
  },
  {
   "cell_type": "code",
   "execution_count": 20,
   "metadata": {},
   "outputs": [],
   "source": [
    "model.save('model_baseline.hdf5')"
   ]
  },
  {
   "cell_type": "markdown",
   "metadata": {},
   "source": [
    "### Evaluation "
   ]
  },
  {
   "cell_type": "code",
   "execution_count": 21,
   "metadata": {},
   "outputs": [
    {
     "data": {
      "text/plain": [
       "[0.02358407185437478, 0.13832337, 0.89725214]"
      ]
     },
     "execution_count": 21,
     "metadata": {},
     "output_type": "execute_result"
    }
   ],
   "source": [
    "model.evaluate(X_test,y_test,verbose=0)"
   ]
  },
  {
   "cell_type": "code",
   "execution_count": 22,
   "metadata": {},
   "outputs": [],
   "source": [
    "y_pred = model.predict(X_test)"
   ]
  },
  {
   "cell_type": "code",
   "execution_count": 23,
   "metadata": {},
   "outputs": [],
   "source": [
    "err = compute_rmse(y_test,y_pred, axis=0)"
   ]
  },
  {
   "cell_type": "code",
   "execution_count": 24,
   "metadata": {},
   "outputs": [
    {
     "name": "stdout",
     "output_type": "stream",
     "text": [
      "[0.1565838  0.13361331 0.1213958  0.14254617 0.1532386  0.19468035\n",
      " 0.20567473 0.10171567 0.11309381 0.15340904 0.15964752 0.13828292\n",
      " 0.14043132 0.19024835 0.15830602 0.14549179 0.16245954]\n"
     ]
    }
   ],
   "source": [
    "print(err)"
   ]
  },
  {
   "cell_type": "markdown",
   "metadata": {},
   "source": [
    "## 2.) Model with (Between) Embedding Feature  "
   ]
  },
  {
   "cell_type": "markdown",
   "metadata": {},
   "source": [
    "### Defined (Between) Embedding Model"
   ]
  },
  {
   "cell_type": "code",
   "execution_count": 25,
   "metadata": {},
   "outputs": [],
   "source": [
    "PHONETIC_OUTPUT = len(set(z_train))\n",
    "EMBEDDED_FEATURE = 128\n",
    "\n",
    "pLSTM = partial(LSTM, kernel_initializer='he_uniform', return_sequences=True)\n",
    "\n",
    "def embeded_model(input_shape_1,input_shape_2):\n",
    "    inputs = keras.Input(shape=(input_shape_1,input_shape_2))\n",
    "    x = pLSTM(EMBEDDED_FEATURE)(inputs)\n",
    "    x = Flatten()(x)\n",
    "    outputs = Dense(PHONETIC_OUTPUT, activation='softmax', kernel_initializer='he_uniform')(x)\n",
    "    return keras.Model(inputs=inputs, outputs=outputs)"
   ]
  },
  {
   "cell_type": "code",
   "execution_count": 26,
   "metadata": {},
   "outputs": [
    {
     "name": "stdout",
     "output_type": "stream",
     "text": [
      "Model: \"model_1\"\n",
      "_________________________________________________________________\n",
      "Layer (type)                 Output Shape              Param #   \n",
      "=================================================================\n",
      "input_2 (InputLayer)         [(None, 24, 39)]          0         \n",
      "_________________________________________________________________\n",
      "lstm_1 (LSTM)                (None, 24, 128)           86016     \n",
      "_________________________________________________________________\n",
      "flatten (Flatten)            (None, 3072)              0         \n",
      "_________________________________________________________________\n",
      "dense_5 (Dense)              (None, 14)                43022     \n",
      "=================================================================\n",
      "Total params: 129,038\n",
      "Trainable params: 129,038\n",
      "Non-trainable params: 0\n",
      "_________________________________________________________________\n"
     ]
    }
   ],
   "source": [
    "embedded = embeded_model(24, 39)\n",
    "embedded.summary()"
   ]
  },
  {
   "cell_type": "markdown",
   "metadata": {},
   "source": [
    "### Compile Model "
   ]
  },
  {
   "cell_type": "code",
   "execution_count": 27,
   "metadata": {},
   "outputs": [],
   "source": [
    "embedded.compile(optimizer='adam',loss=tf.keras.losses.CategoricalCrossentropy(from_logits=True),metrics=['accuracy'])"
   ]
  },
  {
   "cell_type": "markdown",
   "metadata": {},
   "source": [
    "### Train Model "
   ]
  },
  {
   "cell_type": "code",
   "execution_count": 28,
   "metadata": {},
   "outputs": [],
   "source": [
    "PATIENCE = 10\n",
    "BATCH_SIZE = 128\n",
    "EPOCHS = 100\n",
    "\n",
    "early = callbacks.EarlyStopping(monitor='val_loss', min_delta=0, patience=PATIENCE, verbose=1, mode='min', baseline=None, restore_best_weights=False)\n",
    "callback_list = [early]"
   ]
  },
  {
   "cell_type": "code",
   "execution_count": 29,
   "metadata": {},
   "outputs": [
    {
     "name": "stdout",
     "output_type": "stream",
     "text": [
      "Train on 76260 samples, validate on 9340 samples\n",
      "Epoch 1/100\n",
      "76260/76260 - 6s - loss: 1.9363 - accuracy: 0.8360 - val_loss: 1.8405 - val_accuracy: 0.9202\n",
      "Epoch 2/100\n",
      "76260/76260 - 3s - loss: 1.8564 - accuracy: 0.9027 - val_loss: 1.8284 - val_accuracy: 0.9299\n",
      "Epoch 3/100\n",
      "76260/76260 - 3s - loss: 1.8382 - accuracy: 0.9203 - val_loss: 1.8276 - val_accuracy: 0.9288\n",
      "Epoch 4/100\n",
      "76260/76260 - 3s - loss: 1.8273 - accuracy: 0.9299 - val_loss: 1.8254 - val_accuracy: 0.9313\n",
      "Epoch 5/100\n",
      "76260/76260 - 3s - loss: 1.8190 - accuracy: 0.9379 - val_loss: 1.8179 - val_accuracy: 0.9389\n",
      "Epoch 6/100\n",
      "76260/76260 - 3s - loss: 1.8133 - accuracy: 0.9436 - val_loss: 1.8161 - val_accuracy: 0.9398\n",
      "Epoch 7/100\n",
      "76260/76260 - 3s - loss: 1.8084 - accuracy: 0.9482 - val_loss: 1.8203 - val_accuracy: 0.9357\n",
      "Epoch 8/100\n",
      "76260/76260 - 3s - loss: 1.8052 - accuracy: 0.9515 - val_loss: 1.8145 - val_accuracy: 0.9410\n",
      "Epoch 9/100\n",
      "76260/76260 - 3s - loss: 1.8014 - accuracy: 0.9548 - val_loss: 1.8106 - val_accuracy: 0.9455\n",
      "Epoch 10/100\n",
      "76260/76260 - 3s - loss: 1.8006 - accuracy: 0.9555 - val_loss: 1.8124 - val_accuracy: 0.9426\n",
      "Epoch 11/100\n",
      "76260/76260 - 3s - loss: 1.7976 - accuracy: 0.9583 - val_loss: 1.8143 - val_accuracy: 0.9414\n",
      "Epoch 12/100\n",
      "76260/76260 - 3s - loss: 1.7954 - accuracy: 0.9609 - val_loss: 1.8155 - val_accuracy: 0.9395\n",
      "Epoch 13/100\n",
      "76260/76260 - 3s - loss: 1.7935 - accuracy: 0.9622 - val_loss: 1.8111 - val_accuracy: 0.9450\n",
      "Epoch 14/100\n",
      "76260/76260 - 3s - loss: 1.7921 - accuracy: 0.9639 - val_loss: 1.8130 - val_accuracy: 0.9425\n",
      "Epoch 15/100\n",
      "76260/76260 - 3s - loss: 1.7900 - accuracy: 0.9659 - val_loss: 1.8206 - val_accuracy: 0.9350\n",
      "Epoch 16/100\n",
      "76260/76260 - 3s - loss: 1.7891 - accuracy: 0.9667 - val_loss: 1.8139 - val_accuracy: 0.9410\n",
      "Epoch 17/100\n",
      "76260/76260 - 3s - loss: 1.7877 - accuracy: 0.9680 - val_loss: 1.8114 - val_accuracy: 0.9442\n",
      "Epoch 18/100\n",
      "76260/76260 - 3s - loss: 1.7862 - accuracy: 0.9695 - val_loss: 1.8143 - val_accuracy: 0.9418\n",
      "Epoch 19/100\n",
      "76260/76260 - 3s - loss: 1.7857 - accuracy: 0.9699 - val_loss: 1.8141 - val_accuracy: 0.9405\n",
      "Epoch 00019: early stopping\n"
     ]
    }
   ],
   "source": [
    "history = embedded.fit(X_train,z_train_oe,\n",
    "    batch_size=BATCH_SIZE,\n",
    "    epochs=EPOCHS,\n",
    "    verbose=2,\n",
    "    validation_data=(X_val,z_val_oe),\n",
    "    callbacks=callback_list)"
   ]
  },
  {
   "cell_type": "code",
   "execution_count": 30,
   "metadata": {},
   "outputs": [],
   "source": [
    "embedded.save('between_embedded.hdf5')"
   ]
  },
  {
   "cell_type": "code",
   "execution_count": 31,
   "metadata": {},
   "outputs": [
    {
     "name": "stdout",
     "output_type": "stream",
     "text": [
      "Classification Report\n",
      "              precision    recall  f1-score   support\n",
      "\n",
      "           2       0.95      0.98      0.96       701\n",
      "           9       0.97      0.97      0.97       688\n",
      "           @       0.98      0.96      0.97       635\n",
      "           A       0.92      0.98      0.95       645\n",
      "           E       0.93      0.97      0.95       697\n",
      "          E:       0.95      0.94      0.95       655\n",
      "           O       0.94      0.96      0.95       729\n",
      "           U       0.94      0.91      0.92       687\n",
      "           a       0.98      0.91      0.95       689\n",
      "           e       0.94      0.95      0.95       644\n",
      "           i       0.98      0.92      0.95       684\n",
      "           o       0.97      0.85      0.91       634\n",
      "           u       0.86      0.98      0.92       659\n",
      "           y       0.94      0.95      0.95       591\n",
      "\n",
      "    accuracy                           0.95      9338\n",
      "   macro avg       0.95      0.95      0.95      9338\n",
      "weighted avg       0.95      0.95      0.95      9338\n",
      "\n"
     ]
    }
   ],
   "source": [
    "z_pred = embedded.predict(X_test)\n",
    "evaluate_model(z_pred, z_test_oe)"
   ]
  },
  {
   "cell_type": "markdown",
   "metadata": {},
   "source": [
    "### Embedded input model"
   ]
  },
  {
   "cell_type": "code",
   "execution_count": 32,
   "metadata": {},
   "outputs": [
    {
     "name": "stdout",
     "output_type": "stream",
     "text": [
      "Model: \"sequential\"\n",
      "_________________________________________________________________\n",
      "Layer (type)                 Output Shape              Param #   \n",
      "=================================================================\n",
      "lstm_1 (LSTM)                (None, 24, 128)           86016     \n",
      "=================================================================\n",
      "Total params: 86,016\n",
      "Trainable params: 0\n",
      "Non-trainable params: 86,016\n",
      "_________________________________________________________________\n"
     ]
    }
   ],
   "source": [
    "# embedded = tf.keras.models.load_model('pre_embedded.hdf5')\n",
    "\n",
    "embedded_layers = tf.keras.Sequential()\n",
    "for layer in embedded.layers[:-2]:\n",
    "    layer.trainable = False\n",
    "    embedded_layers.add(layer)\n",
    "embedded_layers.summary()\n",
    "\n",
    "N_OUTPUTS = 17\n",
    "\n",
    "pLSTM = partial(LSTM, kernel_initializer='he_uniform', return_sequences=True)\n",
    "pConv1D = partial(Conv1D, padding = 'same', activation = 'linear', kernel_initializer = 'he_uniform')\n",
    "\n",
    "def init_senet_w_emb(feature_layer=1, cnn_unit=128, first_kernel=13, res_unit=128, res_kernel=5,\n",
    "    bilstm = 1, bilstm_unit=256, \n",
    "    dropout_rate=0.3,\n",
    "    reduction_ratio = 4,\n",
    "    activation_fn='relu'):\n",
    "\n",
    "    def cnn_block(input_x, cnn_unit, kernel_size):\n",
    "        x = pConv1D(cnn_unit, kernel_size=kernel_size)(input_x)\n",
    "        x = BatchNormalization()(x)\n",
    "        x = Activation(activation_fn)(x)\n",
    "        return x\n",
    "    \n",
    "    def residual_block(input_x):\n",
    "        x = pConv1D(res_unit, kernel_size=res_kernel)(input_x)\n",
    "        x = BatchNormalization()(x)\n",
    "        x = Activation(activation_fn)(x)\n",
    "        x = pConv1D(res_unit, kernel_size=3)(x)\n",
    "        x = BatchNormalization()(x)\n",
    "        x = keras.layers.Add()([x, input_x])\n",
    "        output = Activation(activation_fn)(x)\n",
    "        return output\n",
    "\n",
    "    def se_block(input_x):\n",
    "        x = layers.GlobalAveragePooling1D()(input_x)\n",
    "        channel_shape = getattr(x, '_shape_val')[-1]\n",
    "        x = Reshape((1, channel_shape))(x)\n",
    "        x = Dense(channel_shape // reduction_ratio, activation=activation_fn, kernel_initializer='he_uniform')(x)\n",
    "        x = Dense(channel_shape, activation='tanh', kernel_initializer='he_uniform')(x)\n",
    "        return x\n",
    "\n",
    "    def se_res_block(input_x):\n",
    "        se_x = se_block(input_x)\n",
    "        x = layers.Multiply()([input_x, se_x])\n",
    "        x = residual_block(x)\n",
    "        return x\n",
    "\n",
    "    def senet_nn(input_shape_1,input_shape_2):\n",
    "\n",
    "        input_x = keras.Input(shape=(input_shape_1,input_shape_2))\n",
    "        x = cnn_block(input_x, cnn_unit, first_kernel)\n",
    "        for i in range(feature_layer):\n",
    "            x = se_res_block(x)\n",
    "        x = SpatialDropout1D(rate=dropout_rate)(x)\n",
    "        for i in range(feature_layer):\n",
    "            x = se_res_block(x)\n",
    "            x = SpatialDropout1D(rate=dropout_rate)(x)\n",
    "        x = cnn_block(x, cnn_unit=cnn_unit, kernel_size=1)\n",
    "        # Embedded\n",
    "        embedded = embedded_layers(input_x)\n",
    "        x = layers.Concatenate()([x, embedded])\n",
    "        x = SpatialDropout1D(rate=dropout_rate)(x)\n",
    "        for i in range(bilstm-1):\n",
    "            x = Bidirectional(pLSTM(bilstm_unit))(x)\n",
    "            x = SpatialDropout1D(rate=dropout_rate)(x)\n",
    "        x = Bidirectional(pLSTM(bilstm_unit, return_sequences=False))(x)\n",
    "        x = Dropout(rate=dropout_rate)(x)\n",
    "        outputs = Dense(N_OUTPUTS, activation='linear', kernel_initializer='he_uniform')(x)\n",
    "        model = keras.Model(inputs=input_x, outputs=outputs)\n",
    "        return model\n",
    "\n",
    "    return senet_nn"
   ]
  },
  {
   "cell_type": "code",
   "execution_count": 33,
   "metadata": {},
   "outputs": [
    {
     "name": "stdout",
     "output_type": "stream",
     "text": [
      "Model: \"model_2\"\n",
      "__________________________________________________________________________________________________\n",
      "Layer (type)                    Output Shape         Param #     Connected to                     \n",
      "==================================================================================================\n",
      "input_3 (InputLayer)            [(None, 24, 39)]     0                                            \n",
      "__________________________________________________________________________________________________\n",
      "conv1d_6 (Conv1D)               (None, 24, 128)      65024       input_3[0][0]                    \n",
      "__________________________________________________________________________________________________\n",
      "batch_normalization_6 (BatchNor (None, 24, 128)      512         conv1d_6[0][0]                   \n",
      "__________________________________________________________________________________________________\n",
      "activation_6 (Activation)       (None, 24, 128)      0           batch_normalization_6[0][0]      \n",
      "__________________________________________________________________________________________________\n",
      "global_average_pooling1d_2 (Glo (None, 128)          0           activation_6[0][0]               \n",
      "__________________________________________________________________________________________________\n",
      "reshape_2 (Reshape)             (None, 1, 128)       0           global_average_pooling1d_2[0][0] \n",
      "__________________________________________________________________________________________________\n",
      "dense_6 (Dense)                 (None, 1, 32)        4128        reshape_2[0][0]                  \n",
      "__________________________________________________________________________________________________\n",
      "dense_7 (Dense)                 (None, 1, 128)       4224        dense_6[0][0]                    \n",
      "__________________________________________________________________________________________________\n",
      "multiply_2 (Multiply)           (None, 24, 128)      0           activation_6[0][0]               \n",
      "                                                                 dense_7[0][0]                    \n",
      "__________________________________________________________________________________________________\n",
      "conv1d_7 (Conv1D)               (None, 24, 128)      82048       multiply_2[0][0]                 \n",
      "__________________________________________________________________________________________________\n",
      "batch_normalization_7 (BatchNor (None, 24, 128)      512         conv1d_7[0][0]                   \n",
      "__________________________________________________________________________________________________\n",
      "activation_7 (Activation)       (None, 24, 128)      0           batch_normalization_7[0][0]      \n",
      "__________________________________________________________________________________________________\n",
      "conv1d_8 (Conv1D)               (None, 24, 128)      49280       activation_7[0][0]               \n",
      "__________________________________________________________________________________________________\n",
      "batch_normalization_8 (BatchNor (None, 24, 128)      512         conv1d_8[0][0]                   \n",
      "__________________________________________________________________________________________________\n",
      "add_2 (Add)                     (None, 24, 128)      0           batch_normalization_8[0][0]      \n",
      "                                                                 multiply_2[0][0]                 \n",
      "__________________________________________________________________________________________________\n",
      "activation_8 (Activation)       (None, 24, 128)      0           add_2[0][0]                      \n",
      "__________________________________________________________________________________________________\n",
      "spatial_dropout1d_3 (SpatialDro (None, 24, 128)      0           activation_8[0][0]               \n",
      "__________________________________________________________________________________________________\n",
      "global_average_pooling1d_3 (Glo (None, 128)          0           spatial_dropout1d_3[0][0]        \n",
      "__________________________________________________________________________________________________\n",
      "reshape_3 (Reshape)             (None, 1, 128)       0           global_average_pooling1d_3[0][0] \n",
      "__________________________________________________________________________________________________\n",
      "dense_8 (Dense)                 (None, 1, 32)        4128        reshape_3[0][0]                  \n",
      "__________________________________________________________________________________________________\n",
      "dense_9 (Dense)                 (None, 1, 128)       4224        dense_8[0][0]                    \n",
      "__________________________________________________________________________________________________\n",
      "multiply_3 (Multiply)           (None, 24, 128)      0           spatial_dropout1d_3[0][0]        \n",
      "                                                                 dense_9[0][0]                    \n",
      "__________________________________________________________________________________________________\n",
      "conv1d_9 (Conv1D)               (None, 24, 128)      82048       multiply_3[0][0]                 \n",
      "__________________________________________________________________________________________________\n",
      "batch_normalization_9 (BatchNor (None, 24, 128)      512         conv1d_9[0][0]                   \n",
      "__________________________________________________________________________________________________\n",
      "activation_9 (Activation)       (None, 24, 128)      0           batch_normalization_9[0][0]      \n",
      "__________________________________________________________________________________________________\n",
      "conv1d_10 (Conv1D)              (None, 24, 128)      49280       activation_9[0][0]               \n",
      "__________________________________________________________________________________________________\n",
      "batch_normalization_10 (BatchNo (None, 24, 128)      512         conv1d_10[0][0]                  \n",
      "__________________________________________________________________________________________________\n",
      "add_3 (Add)                     (None, 24, 128)      0           batch_normalization_10[0][0]     \n",
      "                                                                 multiply_3[0][0]                 \n",
      "__________________________________________________________________________________________________\n",
      "activation_10 (Activation)      (None, 24, 128)      0           add_3[0][0]                      \n",
      "__________________________________________________________________________________________________\n",
      "spatial_dropout1d_4 (SpatialDro (None, 24, 128)      0           activation_10[0][0]              \n",
      "__________________________________________________________________________________________________\n",
      "conv1d_11 (Conv1D)              (None, 24, 128)      16512       spatial_dropout1d_4[0][0]        \n",
      "__________________________________________________________________________________________________\n",
      "batch_normalization_11 (BatchNo (None, 24, 128)      512         conv1d_11[0][0]                  \n",
      "__________________________________________________________________________________________________\n",
      "activation_11 (Activation)      (None, 24, 128)      0           batch_normalization_11[0][0]     \n",
      "__________________________________________________________________________________________________\n",
      "sequential (Sequential)         (None, 24, 128)      86016       input_3[0][0]                    \n",
      "__________________________________________________________________________________________________\n",
      "concatenate (Concatenate)       (None, 24, 256)      0           activation_11[0][0]              \n",
      "                                                                 sequential[1][0]                 \n",
      "__________________________________________________________________________________________________\n",
      "spatial_dropout1d_5 (SpatialDro (None, 24, 256)      0           concatenate[0][0]                \n",
      "__________________________________________________________________________________________________\n",
      "bidirectional_1 (Bidirectional) (None, 512)          1050624     spatial_dropout1d_5[0][0]        \n",
      "__________________________________________________________________________________________________\n",
      "dropout_1 (Dropout)             (None, 512)          0           bidirectional_1[0][0]            \n",
      "__________________________________________________________________________________________________\n",
      "dense_10 (Dense)                (None, 17)           8721        dropout_1[0][0]                  \n",
      "==================================================================================================\n",
      "Total params: 1,509,329\n",
      "Trainable params: 1,421,777\n",
      "Non-trainable params: 87,552\n",
      "__________________________________________________________________________________________________\n"
     ]
    }
   ],
   "source": [
    "emb_model = init_senet_w_emb()(24, 39)\n",
    "emb_model.summary()"
   ]
  },
  {
   "cell_type": "markdown",
   "metadata": {},
   "source": [
    "### Compile Model "
   ]
  },
  {
   "cell_type": "code",
   "execution_count": 34,
   "metadata": {},
   "outputs": [],
   "source": [
    "emb_model.compile(optimizer='adam',loss='mse',metrics=[rmse, R2])"
   ]
  },
  {
   "cell_type": "markdown",
   "metadata": {},
   "source": [
    "### Train Model "
   ]
  },
  {
   "cell_type": "code",
   "execution_count": 35,
   "metadata": {},
   "outputs": [],
   "source": [
    "PATIENCE = 10\n",
    "BATCH_SIZE = 128\n",
    "EPOCHS = 100\n",
    "\n",
    "early = callbacks.EarlyStopping(monitor='val_loss', min_delta=0, patience=PATIENCE, verbose=1, mode='min', baseline=None, restore_best_weights=False)\n",
    "callback_list = [early]"
   ]
  },
  {
   "cell_type": "code",
   "execution_count": 36,
   "metadata": {},
   "outputs": [
    {
     "name": "stdout",
     "output_type": "stream",
     "text": [
      "Train on 76260 samples, validate on 9340 samples\n",
      "Epoch 1/100\n",
      "76260/76260 - 27s - loss: 0.0650 - rmse: 0.2340 - R2: 0.7355 - val_loss: 0.0290 - val_rmse: 0.1559 - val_R2: 0.8826\n",
      "Epoch 2/100\n",
      "76260/76260 - 17s - loss: 0.0374 - rmse: 0.1799 - R2: 0.8492 - val_loss: 0.0279 - val_rmse: 0.1517 - val_R2: 0.8867\n",
      "Epoch 3/100\n",
      "76260/76260 - 17s - loss: 0.0345 - rmse: 0.1719 - R2: 0.8611 - val_loss: 0.0271 - val_rmse: 0.1492 - val_R2: 0.8900\n",
      "Epoch 4/100\n",
      "76260/76260 - 17s - loss: 0.0330 - rmse: 0.1679 - R2: 0.8673 - val_loss: 0.0268 - val_rmse: 0.1482 - val_R2: 0.8909\n",
      "Epoch 5/100\n",
      "76260/76260 - 17s - loss: 0.0321 - rmse: 0.1653 - R2: 0.8708 - val_loss: 0.0259 - val_rmse: 0.1458 - val_R2: 0.8944\n",
      "Epoch 6/100\n",
      "76260/76260 - 17s - loss: 0.0309 - rmse: 0.1623 - R2: 0.8753 - val_loss: 0.0267 - val_rmse: 0.1466 - val_R2: 0.8911\n",
      "Epoch 7/100\n",
      "76260/76260 - 17s - loss: 0.0303 - rmse: 0.1606 - R2: 0.8778 - val_loss: 0.0258 - val_rmse: 0.1446 - val_R2: 0.8946\n",
      "Epoch 8/100\n",
      "76260/76260 - 17s - loss: 0.0297 - rmse: 0.1591 - R2: 0.8799 - val_loss: 0.0255 - val_rmse: 0.1431 - val_R2: 0.8957\n",
      "Epoch 9/100\n",
      "76260/76260 - 17s - loss: 0.0291 - rmse: 0.1573 - R2: 0.8822 - val_loss: 0.0256 - val_rmse: 0.1437 - val_R2: 0.8954\n",
      "Epoch 10/100\n",
      "76260/76260 - 17s - loss: 0.0286 - rmse: 0.1560 - R2: 0.8843 - val_loss: 0.0255 - val_rmse: 0.1427 - val_R2: 0.8957\n",
      "Epoch 11/100\n",
      "76260/76260 - 17s - loss: 0.0282 - rmse: 0.1550 - R2: 0.8859 - val_loss: 0.0250 - val_rmse: 0.1420 - val_R2: 0.8978\n",
      "Epoch 12/100\n",
      "76260/76260 - 17s - loss: 0.0277 - rmse: 0.1537 - R2: 0.8878 - val_loss: 0.0250 - val_rmse: 0.1420 - val_R2: 0.8975\n",
      "Epoch 13/100\n",
      "76260/76260 - 17s - loss: 0.0272 - rmse: 0.1527 - R2: 0.8897 - val_loss: 0.0245 - val_rmse: 0.1404 - val_R2: 0.8999\n",
      "Epoch 14/100\n",
      "76260/76260 - 17s - loss: 0.0271 - rmse: 0.1521 - R2: 0.8903 - val_loss: 0.0248 - val_rmse: 0.1412 - val_R2: 0.8984\n",
      "Epoch 15/100\n",
      "76260/76260 - 17s - loss: 0.0266 - rmse: 0.1510 - R2: 0.8919 - val_loss: 0.0245 - val_rmse: 0.1399 - val_R2: 0.8997\n",
      "Epoch 16/100\n",
      "76260/76260 - 17s - loss: 0.0263 - rmse: 0.1502 - R2: 0.8936 - val_loss: 0.0240 - val_rmse: 0.1387 - val_R2: 0.9020\n",
      "Epoch 17/100\n",
      "76260/76260 - 17s - loss: 0.0260 - rmse: 0.1493 - R2: 0.8946 - val_loss: 0.0243 - val_rmse: 0.1391 - val_R2: 0.9008\n",
      "Epoch 18/100\n",
      "76260/76260 - 17s - loss: 0.0257 - rmse: 0.1486 - R2: 0.8960 - val_loss: 0.0241 - val_rmse: 0.1385 - val_R2: 0.9017\n",
      "Epoch 19/100\n",
      "76260/76260 - 17s - loss: 0.0254 - rmse: 0.1480 - R2: 0.8968 - val_loss: 0.0242 - val_rmse: 0.1396 - val_R2: 0.9010\n",
      "Epoch 20/100\n",
      "76260/76260 - 17s - loss: 0.0252 - rmse: 0.1473 - R2: 0.8980 - val_loss: 0.0242 - val_rmse: 0.1387 - val_R2: 0.9013\n",
      "Epoch 21/100\n",
      "76260/76260 - 17s - loss: 0.0250 - rmse: 0.1469 - R2: 0.8986 - val_loss: 0.0238 - val_rmse: 0.1380 - val_R2: 0.9024\n",
      "Epoch 22/100\n",
      "76260/76260 - 17s - loss: 0.0247 - rmse: 0.1461 - R2: 0.9000 - val_loss: 0.0240 - val_rmse: 0.1384 - val_R2: 0.9022\n",
      "Epoch 23/100\n",
      "76260/76260 - 18s - loss: 0.0245 - rmse: 0.1455 - R2: 0.9009 - val_loss: 0.0237 - val_rmse: 0.1376 - val_R2: 0.9032\n",
      "Epoch 24/100\n",
      "76260/76260 - 17s - loss: 0.0244 - rmse: 0.1453 - R2: 0.9010 - val_loss: 0.0240 - val_rmse: 0.1377 - val_R2: 0.9017\n",
      "Epoch 25/100\n",
      "76260/76260 - 17s - loss: 0.0242 - rmse: 0.1447 - R2: 0.9021 - val_loss: 0.0237 - val_rmse: 0.1378 - val_R2: 0.9029\n",
      "Epoch 26/100\n",
      "76260/76260 - 17s - loss: 0.0240 - rmse: 0.1442 - R2: 0.9028 - val_loss: 0.0236 - val_rmse: 0.1369 - val_R2: 0.9037\n",
      "Epoch 27/100\n",
      "76260/76260 - 17s - loss: 0.0238 - rmse: 0.1439 - R2: 0.9035 - val_loss: 0.0232 - val_rmse: 0.1362 - val_R2: 0.9052\n",
      "Epoch 28/100\n",
      "76260/76260 - 17s - loss: 0.0237 - rmse: 0.1436 - R2: 0.9039 - val_loss: 0.0234 - val_rmse: 0.1364 - val_R2: 0.9044\n",
      "Epoch 29/100\n",
      "76260/76260 - 17s - loss: 0.0234 - rmse: 0.1428 - R2: 0.9049 - val_loss: 0.0238 - val_rmse: 0.1368 - val_R2: 0.9023\n",
      "Epoch 30/100\n",
      "76260/76260 - 17s - loss: 0.0233 - rmse: 0.1424 - R2: 0.9056 - val_loss: 0.0237 - val_rmse: 0.1368 - val_R2: 0.9030\n",
      "Epoch 31/100\n",
      "76260/76260 - 17s - loss: 0.0231 - rmse: 0.1421 - R2: 0.9062 - val_loss: 0.0241 - val_rmse: 0.1376 - val_R2: 0.9011\n",
      "Epoch 32/100\n",
      "76260/76260 - 17s - loss: 0.0233 - rmse: 0.1424 - R2: 0.9057 - val_loss: 0.0239 - val_rmse: 0.1377 - val_R2: 0.9021\n",
      "Epoch 33/100\n",
      "76260/76260 - 17s - loss: 0.0228 - rmse: 0.1413 - R2: 0.9074 - val_loss: 0.0235 - val_rmse: 0.1362 - val_R2: 0.9035\n",
      "Epoch 34/100\n",
      "76260/76260 - 17s - loss: 0.0228 - rmse: 0.1412 - R2: 0.9077 - val_loss: 0.0231 - val_rmse: 0.1356 - val_R2: 0.9055\n",
      "Epoch 35/100\n",
      "76260/76260 - 17s - loss: 0.0226 - rmse: 0.1407 - R2: 0.9083 - val_loss: 0.0237 - val_rmse: 0.1369 - val_R2: 0.9030\n",
      "Epoch 36/100\n",
      "76260/76260 - 17s - loss: 0.0224 - rmse: 0.1401 - R2: 0.9093 - val_loss: 0.0235 - val_rmse: 0.1362 - val_R2: 0.9033\n",
      "Epoch 37/100\n",
      "76260/76260 - 17s - loss: 0.0224 - rmse: 0.1400 - R2: 0.9094 - val_loss: 0.0235 - val_rmse: 0.1371 - val_R2: 0.9040\n",
      "Epoch 38/100\n",
      "76260/76260 - 18s - loss: 0.0223 - rmse: 0.1398 - R2: 0.9098 - val_loss: 0.0231 - val_rmse: 0.1349 - val_R2: 0.9057\n",
      "Epoch 39/100\n",
      "76260/76260 - 17s - loss: 0.0220 - rmse: 0.1392 - R2: 0.9107 - val_loss: 0.0228 - val_rmse: 0.1343 - val_R2: 0.9064\n",
      "Epoch 40/100\n",
      "76260/76260 - 17s - loss: 0.0221 - rmse: 0.1393 - R2: 0.9107 - val_loss: 0.0237 - val_rmse: 0.1366 - val_R2: 0.9029\n",
      "Epoch 41/100\n",
      "76260/76260 - 17s - loss: 0.0219 - rmse: 0.1389 - R2: 0.9112 - val_loss: 0.0232 - val_rmse: 0.1350 - val_R2: 0.9052\n",
      "Epoch 42/100\n",
      "76260/76260 - 17s - loss: 0.0218 - rmse: 0.1385 - R2: 0.9118 - val_loss: 0.0230 - val_rmse: 0.1357 - val_R2: 0.9062\n",
      "Epoch 43/100\n",
      "76260/76260 - 17s - loss: 0.0218 - rmse: 0.1384 - R2: 0.9116 - val_loss: 0.0230 - val_rmse: 0.1348 - val_R2: 0.9056\n",
      "Epoch 44/100\n",
      "76260/76260 - 17s - loss: 0.0216 - rmse: 0.1381 - R2: 0.9125 - val_loss: 0.0224 - val_rmse: 0.1340 - val_R2: 0.9081\n",
      "Epoch 45/100\n",
      "76260/76260 - 17s - loss: 0.0215 - rmse: 0.1377 - R2: 0.9129 - val_loss: 0.0232 - val_rmse: 0.1353 - val_R2: 0.9052\n",
      "Epoch 46/100\n",
      "76260/76260 - 17s - loss: 0.0214 - rmse: 0.1374 - R2: 0.9135 - val_loss: 0.0233 - val_rmse: 0.1354 - val_R2: 0.9047\n",
      "Epoch 47/100\n",
      "76260/76260 - 17s - loss: 0.0214 - rmse: 0.1375 - R2: 0.9132 - val_loss: 0.0233 - val_rmse: 0.1355 - val_R2: 0.9046\n",
      "Epoch 48/100\n",
      "76260/76260 - 17s - loss: 0.0212 - rmse: 0.1370 - R2: 0.9143 - val_loss: 0.0234 - val_rmse: 0.1359 - val_R2: 0.9046\n",
      "Epoch 49/100\n",
      "76260/76260 - 17s - loss: 0.0213 - rmse: 0.1372 - R2: 0.9136 - val_loss: 0.0230 - val_rmse: 0.1345 - val_R2: 0.9060\n",
      "Epoch 50/100\n",
      "76260/76260 - 17s - loss: 0.0211 - rmse: 0.1367 - R2: 0.9145 - val_loss: 0.0229 - val_rmse: 0.1349 - val_R2: 0.9067\n",
      "Epoch 51/100\n",
      "76260/76260 - 17s - loss: 0.0210 - rmse: 0.1366 - R2: 0.9148 - val_loss: 0.0227 - val_rmse: 0.1344 - val_R2: 0.9072\n",
      "Epoch 52/100\n",
      "76260/76260 - 17s - loss: 0.0209 - rmse: 0.1361 - R2: 0.9155 - val_loss: 0.0228 - val_rmse: 0.1345 - val_R2: 0.9067\n",
      "Epoch 53/100\n",
      "76260/76260 - 17s - loss: 0.0208 - rmse: 0.1358 - R2: 0.9160 - val_loss: 0.0230 - val_rmse: 0.1345 - val_R2: 0.9062\n",
      "Epoch 54/100\n",
      "76260/76260 - 17s - loss: 0.0207 - rmse: 0.1356 - R2: 0.9163 - val_loss: 0.0232 - val_rmse: 0.1349 - val_R2: 0.9050\n",
      "Epoch 00054: early stopping\n"
     ]
    }
   ],
   "source": [
    "history = emb_model.fit(X_train,y_train,\n",
    "    batch_size=BATCH_SIZE,\n",
    "    epochs=EPOCHS,\n",
    "    verbose=2,\n",
    "    validation_data=(X_val,y_val),\n",
    "    callbacks=callback_list)"
   ]
  },
  {
   "cell_type": "code",
   "execution_count": 37,
   "metadata": {},
   "outputs": [],
   "source": [
    "emb_model.save('model_with_between_embedded.hdf5')"
   ]
  },
  {
   "cell_type": "markdown",
   "metadata": {},
   "source": [
    "## Evaluated "
   ]
  },
  {
   "cell_type": "code",
   "execution_count": 38,
   "metadata": {},
   "outputs": [
    {
     "data": {
      "text/plain": [
       "[0.022611258282593652, 0.13377517, 0.90088123]"
      ]
     },
     "execution_count": 38,
     "metadata": {},
     "output_type": "execute_result"
    }
   ],
   "source": [
    "emb_model.evaluate(X_test,y_test,verbose=0)"
   ]
  },
  {
   "cell_type": "code",
   "execution_count": 39,
   "metadata": {},
   "outputs": [],
   "source": [
    "y_pred = emb_model.predict(X_test)"
   ]
  },
  {
   "cell_type": "code",
   "execution_count": 40,
   "metadata": {},
   "outputs": [
    {
     "data": {
      "text/plain": [
       "array([0.1555331 , 0.12686132, 0.12534446, 0.13609405, 0.1444062 ,\n",
       "       0.18938959, 0.20438   , 0.09479534, 0.10738306, 0.14753128,\n",
       "       0.15882893, 0.13723543, 0.13820673, 0.18796002, 0.15667004,\n",
       "       0.14554523, 0.15773251])"
      ]
     },
     "execution_count": 40,
     "metadata": {},
     "output_type": "execute_result"
    }
   ],
   "source": [
    "compute_rmse(y_test,y_pred, axis=0)"
   ]
  }
 ],
 "metadata": {
  "kernelspec": {
   "display_name": "Python 3",
   "language": "python",
   "name": "python3"
  },
  "language_info": {
   "codemirror_mode": {
    "name": "ipython",
    "version": 3
   },
   "file_extension": ".py",
   "mimetype": "text/x-python",
   "name": "python",
   "nbconvert_exporter": "python",
   "pygments_lexer": "ipython3",
   "version": "3.6.10"
  }
 },
 "nbformat": 4,
 "nbformat_minor": 4
}
