{
 "cells": [
  {
   "cell_type": "markdown",
   "metadata": {},
   "source": [
    "# EDA result \n",
    "- created: 10 March 2020"
   ]
  },
  {
   "cell_type": "code",
   "execution_count": 1,
   "metadata": {},
   "outputs": [],
   "source": [
    "import numpy as np\n",
    "import pandas as pd\n",
    "import matplotlib.pyplot as plt\n",
    "import matplotlib\n",
    "import seaborn as sns\n",
    "from os.path import join\n",
    "import scipy \n",
    "from scipy.stats import ttest_ind\n",
    "import matplotlib.patches as mpatches"
   ]
  },
  {
   "cell_type": "code",
   "execution_count": 8,
   "metadata": {},
   "outputs": [],
   "source": [
    "def sep_label_position(df):\n",
    "    df[['Label','Position']] = df['Label'].str.split(';', expand=True) \n",
    "    return df\n",
    "\n",
    "def prep_df(df, is_disyllable):\n",
    "    if is_disyllable:\n",
    "        df = sep_label_position(df)\n",
    "    return df\n",
    "\n",
    "def custome_reindex(df):\n",
    "    return df.reindex([\"a:\", \"i:\", \"u:\",\"e:\",\"E\",\"@\",\"9\",\"o\",\"O\"])\n",
    "\n",
    "def custome_reindex_type2(df):\n",
    "    return df.reindex([\"a:\", \"i:\", \"u:\",\"e:\",'ɛ:','ə:','œ:','o:','ɔ:', 'ɑ:','ø:','ʊ:'])\n",
    "\n",
    "def custome_reindex_type3(df):\n",
    "    return df.reindex([\"a:\", \"i:\", \"u:\",\"e:\",'ɛ:','ɯ:','ɤ:','o:','ɔ:'])\n",
    "\n",
    "def compute_formant_rmse(formant_df, dir_path, experiment_num, is_disyllable):\n",
    "    if is_disyllable:\n",
    "        formant_rmse = formant_df.groupby(['Label', 'Position']).mean().pivot_table(index=['Label'],columns='Position',values=['F1','F2','F3'],fill_value=0)\n",
    "        formant_rmse.columns = ['-'.join(col).strip() for col in formant_rmse.columns.values]\n",
    "    else:\n",
    "        formant_rmse = formant_df.copy().set_index('Label')\n",
    "\n",
    "    formant_rmse = custome_reindex(formant_rmse)\n",
    "    formant_rmse.to_csv(join(dir_path,'formant_rmse_exp'+str(experiment_num)+'.csv'))\n",
    "\n",
    "def compute_formant_ttest(datapoint_df, dir_path, experiment_num, is_disyllable):\n",
    "\t\n",
    "    datapoint_prep = datapoint_df.pivot_table(index=['Label'],columns='Target',values=['F1','F2'],fill_value=0)\n",
    "    datapoint_prep.columns = [(str(col[0])+'-'+str(col[1])).strip() for col in datapoint_prep.columns.values]\n",
    "    datapoint_prep = prep_df(datapoint_prep.reset_index(), is_disyllable)\n",
    "\n",
    "    if is_disyllable:\n",
    "        first_syl = datapoint_prep[datapoint_prep['Position']=='1']\n",
    "        second_syl = datapoint_prep[datapoint_prep['Position']=='2']\n",
    "\n",
    "        f_f1 = ttest_ind(first_syl['F1-0'], first_syl['F1-1'])\n",
    "        f_f2 = ttest_ind(first_syl['F2-0'], first_syl['F2-1'])\n",
    "        s_f1 = ttest_ind(second_syl['F1-0'], second_syl['F1-1'])\n",
    "        s_f2 = ttest_ind(second_syl['F2-0'], second_syl['F2-1'])\n",
    "\n",
    "        ttest_df = pd.DataFrame({'result':['t-test','p-value'], \n",
    "                                 '1F1':[f_f1[0], f_f1[1]],\n",
    "                                 '1F2':[f_f2[0], f_f2[1]],\n",
    "                                 '2F1':[s_f1[0], s_f1[1]],\n",
    "                                 '2F2':[s_f2[0], s_f2[1]]})\n",
    "    else:\n",
    "\n",
    "        f_f1 = ttest_ind(datapoint_prep['F1-0'], datapoint_prep['F1-1'])\n",
    "        f_f2 = ttest_ind(datapoint_prep['F2-0'], datapoint_prep['F2-1'])\n",
    "\n",
    "        ttest_df = pd.DataFrame({'result':['t-test','p-value'], \n",
    "                                 '1F1':[f_f1[0], f_f1[1]],\n",
    "                                 '1F2':[f_f2[0], f_f2[1]]})\n",
    "\n",
    "    ttest_df.to_csv(join(dir_path,'ttest_exp'+str(experiment_num)+'.csv'))\n",
    "\n",
    "def set_datapoint_index(df):\n",
    "    df_temp = df.copy()\n",
    "    df_temp['Label_idx'] = df_temp['Label']\n",
    "    return df_temp.set_index('Label_idx')\n",
    "\n",
    "def plot_formant_chart(df, reindex_fn, dir_path, is_disyllable, note=None):\n",
    "\n",
    "    filled_markers = ['o', 'v', \"s\", \"P\", \"*\", \"D\", \"^\", \"X\", \"<\", \"d\", \"x\", \"+\"]\n",
    "\n",
    "    actual = reindex_fn(df[df['Target']==1].copy())\n",
    "    # filled_markers = actual.index\n",
    "    actual = actual.reset_index()\n",
    "    estimated = reindex_fn(df[df['Target']==0].copy()).reset_index()\n",
    "\n",
    "    fig, ax = plt.subplots()\n",
    "\n",
    "    for idx, data in enumerate(actual.index):\n",
    "        mark = filled_markers[idx]\n",
    "        # mark = '${}$'.format(filled_markers[idx])\n",
    "        # s=150\n",
    "        # linewidth='0.5'\n",
    "        ax.scatter(actual['F2'][idx], actual['F1'][idx], marker=mark,  color='red', label=actual['Label'][idx])\n",
    "        ax.scatter(estimated['F2'][idx], estimated['F1'][idx], marker=mark, color='blue')\n",
    "\n",
    "    ax.set_xticks(np.arange(400, 2400+1, 200))\n",
    "    ax.set_yticks(np.arange(100, 800+1, 100))\n",
    "\n",
    "    plt.gca().invert_xaxis()\n",
    "    plt.gca().invert_yaxis()\n",
    "\n",
    "    ax.set_xlabel('F2 [Hz]', fontsize=14)\n",
    "    ax.set_ylabel('F1 [Hz]', fontsize=14)\n",
    "\n",
    "    ax.legend()\n",
    "    ax.legend(bbox_to_anchor=(1.05, 0.8), loc=2, borderaxespad=0.)\n",
    "\n",
    "    # ax.grid()\n",
    "\n",
    "    leg = ax.get_legend()\n",
    "    for idx,_ in enumerate(leg.legendHandles):\n",
    "        leg.legendHandles[idx].set_color('black')\n",
    "\n",
    "    red_patch = mpatches.Patch(color='red', label='Target')\n",
    "    blue_patch = mpatches.Patch(color='blue', label='Estimated')\n",
    "    legend1 = ax.legend(handles=[red_patch, blue_patch], bbox_to_anchor=(1.05, 1), loc=2, borderaxespad=0.)\n",
    "\n",
    "    plt.gca().add_artist(leg)\n",
    "    plt.gcf().set_size_inches(7,5)\n",
    "\n",
    "    syllable_type = 'disyllable' if is_disyllable else 'monosyllable'\n",
    "\n",
    "    if note and is_disyllable:\n",
    "        ax.set_title('Formant Chart of '+note+' ['+syllable_type+']')\n",
    "        filename = 'formant_chart_'+syllable_type+' '+note\n",
    "    else:\n",
    "        ax.set_title('Formant Chart of ['+syllable_type+']')\n",
    "        filename = 'formant_chart_'+syllable_type\n",
    "\n",
    "    for file_type in ['.png','.pdf']:\n",
    "        plt.savefig(join(dir_path, filename+file_type), dpi=300, bbox_extra_artists=(leg,legend1), bbox_inches='tight')\n",
    "\n",
    "    plt.clf()\n",
    "\n",
    "\n",
    "def change_label_set_1(datapoint_df):\n",
    "    datapoint_df.at['E', 'Label']= 'ɛ:' \n",
    "    datapoint_df.at['O', 'Label']= 'ɔ:'\n",
    "    datapoint_df.at['9', 'Label']= 'œ:'\n",
    "    datapoint_df.at['@', 'Label']= 'ə:'\n",
    "    datapoint_df.at['o', 'Label']= 'o:'\n",
    "    datapoint_df.at['a', 'Label']= 'a:'\n",
    "    datapoint_df.at['i', 'Label']= 'i:'\n",
    "    datapoint_df.at['e', 'Label']= 'e:'\n",
    "    datapoint_df.at['u', 'Label']= 'u:'\n",
    "    datapoint_df.at['A', 'Label']= 'ɑ:'\n",
    "    datapoint_df.at['2', 'Label']= 'ø:'\n",
    "    datapoint_df.at['U', 'Label']= 'ʊ:'\n",
    "\n",
    "    return datapoint_df\n",
    "\n",
    "def change_label_set_2(datapoint_df):\n",
    "    datapoint_df.at['E', 'Label']= 'ɛ:' \n",
    "    datapoint_df.at['O', 'Label']= 'ɔ:'\n",
    "    datapoint_df.at['7', 'Label']= 'ɤ:'\n",
    "    datapoint_df.at['M', 'Label']= 'ɯ:'\n",
    "    datapoint_df.at['o', 'Label']= 'o:'\n",
    "    datapoint_df.at['a', 'Label']= 'a:'\n",
    "    datapoint_df.at['i', 'Label']= 'i:'\n",
    "    datapoint_df.at['e', 'Label']= 'e:'\n",
    "    datapoint_df.at['u', 'Label']= 'u:'\n",
    "    return datapoint_df\n",
    "\n",
    "def formant_chart(datapoint_df,  dir_path, experiment_num, is_disyllable, label_set):\n",
    "\n",
    "    datapoint_df = prep_df(datapoint_df, is_disyllable)\n",
    "    datapoint_df = set_datapoint_index(datapoint_df)\n",
    "\n",
    "    if label_set == 1:\n",
    "        datapoint_df = change_label_set_1(datapoint_df) \n",
    "    elif label_set == 2: \n",
    "        datapoint_df = change_label_set_2(datapoint_df) \n",
    "\n",
    "    if is_disyllable:\n",
    "        datapoint_df = set_datapoint_index(datapoint_df.groupby(['Label','Target','Position']).mean().reset_index())\n",
    "        first_syl = datapoint_df[datapoint_df['Position']=='1']\n",
    "        second_syl = datapoint_df[datapoint_df['Position']=='2']\n",
    "        if label_set == 1:\n",
    "            plot_formant_chart(first_syl, custome_reindex_type2, dir_path, is_disyllable, note='FirstSyllable')\n",
    "            plot_formant_chart(second_syl, custome_reindex_type2, dir_path, is_disyllable, note='SecondSyllable')\n",
    "        elif label_set == 2: \n",
    "            plot_formant_chart(first_syl, custome_reindex_type3, dir_path, is_disyllable, note='FirstSyllable')\n",
    "            plot_formant_chart(second_syl, custome_reindex_type3, dir_path, is_disyllable, note='SecondSyllable')\n",
    "\n",
    "    else:\n",
    "        plot_formant_chart(datapoint_df, custome_reindex, dir_path, is_disyllable)\n",
    "\n",
    "def generate_eval_result(experiment_num, dir_path, is_disyllable, mode='eval', label_set=1, output_path=None):\n",
    "\n",
    "    if label_set not in [1,2]:\n",
    "        raise ValueError('Label set {} not valid! [1:eval, 2:predict]'.format(label_set)) \n",
    "\n",
    "#     dir_path = 'result/'+mode+'_'+str(experiment_num)+'/formant/' if output_path==None else output_path\n",
    "\n",
    "    print('[INFO] read data')\n",
    "    formant_df = pd.read_csv(join(dir_path, 'formant_df.csv'))\n",
    "    datapoint_df = pd.read_csv(join(dir_path,'data_point.csv'))\n",
    "\n",
    "    formant_df = prep_df(formant_df, is_disyllable)\n",
    "\n",
    "    print('[INFO] generate formant chart')\n",
    "    formant_chart(datapoint_df,  dir_path, experiment_num, is_disyllable, label_set)"
   ]
  },
  {
   "cell_type": "code",
   "execution_count": 9,
   "metadata": {},
   "outputs": [
    {
     "name": "stdout",
     "output_type": "stream",
     "text": [
      "[INFO] read data\n",
      "[INFO] compute formant rmse\n",
      "[INFO] compute t-test\n",
      "[INFO] generate formant chart\n"
     ]
    },
    {
     "data": {
      "text/plain": [
       "<Figure size 504x360 with 0 Axes>"
      ]
     },
     "metadata": {},
     "output_type": "display_data"
    },
    {
     "data": {
      "text/plain": [
       "<Figure size 504x360 with 0 Axes>"
      ]
     },
     "metadata": {},
     "output_type": "display_data"
    }
   ],
   "source": [
    "generate_eval_result(0, '../../experiment_1/result/predict_0/formant/', True, mode='predict', label_set=2, output_path=None)"
   ]
  },
  {
   "cell_type": "markdown",
   "metadata": {},
   "source": [
    "## Scatter plot formant "
   ]
  },
  {
   "cell_type": "markdown",
   "metadata": {},
   "source": [
    "### Plot formant function "
   ]
  },
  {
   "cell_type": "code",
   "execution_count": 122,
   "metadata": {},
   "outputs": [],
   "source": [
    "def plot_each_syllable_formant(input_df, position):\n",
    "    \n",
    "    syl_df = input_df[input_df['Position'] == str(position)]\n",
    "    unique_labels = set(syl_df['Label'].copy())\n",
    "    \n",
    "    if len(unique_labels) == 9:\n",
    "        fig, ax = plt.subplots(3,3, figsize=(15,15))\n",
    "    elif unique_labels == 12:\n",
    "        fig, ax = plt.subplots(4,3, figsize=(15,15))\n",
    "    else:\n",
    "        fig, ax = plt.subplots(5,5, figsize=(15,15))\n",
    "\n",
    "    colors = ['blue', 'red']\n",
    "    target_label = ['estimated','original']\n",
    "\n",
    "    for idx, label in enumerate(unique_labels):\n",
    "        axs = ax[idx//3][idx%3]\n",
    "        for jdx, target in enumerate([0.0, 1.0]):\n",
    "            df = syl_df[syl_df['Target'] == target]\n",
    "            axs.scatter(df[df['Label'] == label]['F2'], df[df['Label'] == label]['F1'], c=colors[jdx], label=target_label[jdx])\n",
    "        axs.title.set_text(label)\n",
    "        axs.set_xticks(np.arange(400, 2400+1, 200))\n",
    "        axs.set_yticks(np.arange(100, 800+1, 100))\n",
    "        axs.set_xlabel('F2')\n",
    "        axs.set_ylabel('F1')\n",
    "        axs.invert_xaxis()\n",
    "        axs.invert_yaxis()\n",
    "        axs.legend()"
   ]
  },
  {
   "cell_type": "markdown",
   "metadata": {},
   "source": [
    "### Load data "
   ]
  },
  {
   "cell_type": "code",
   "execution_count": 128,
   "metadata": {},
   "outputs": [
    {
     "data": {
      "text/html": [
       "<div>\n",
       "<style scoped>\n",
       "    .dataframe tbody tr th:only-of-type {\n",
       "        vertical-align: middle;\n",
       "    }\n",
       "\n",
       "    .dataframe tbody tr th {\n",
       "        vertical-align: top;\n",
       "    }\n",
       "\n",
       "    .dataframe thead th {\n",
       "        text-align: right;\n",
       "    }\n",
       "</style>\n",
       "<table border=\"1\" class=\"dataframe\">\n",
       "  <thead>\n",
       "    <tr style=\"text-align: right;\">\n",
       "      <th></th>\n",
       "      <th>Label</th>\n",
       "      <th>F1</th>\n",
       "      <th>F2</th>\n",
       "      <th>Target</th>\n",
       "      <th>Position</th>\n",
       "    </tr>\n",
       "  </thead>\n",
       "  <tbody>\n",
       "    <tr>\n",
       "      <th>0</th>\n",
       "      <td>a:</td>\n",
       "      <td>777.945355</td>\n",
       "      <td>1283.831934</td>\n",
       "      <td>1</td>\n",
       "      <td>1</td>\n",
       "    </tr>\n",
       "    <tr>\n",
       "      <th>1</th>\n",
       "      <td>i:</td>\n",
       "      <td>312.511901</td>\n",
       "      <td>2248.161735</td>\n",
       "      <td>1</td>\n",
       "      <td>2</td>\n",
       "    </tr>\n",
       "    <tr>\n",
       "      <th>2</th>\n",
       "      <td>a:</td>\n",
       "      <td>952.606510</td>\n",
       "      <td>1364.704679</td>\n",
       "      <td>1</td>\n",
       "      <td>1</td>\n",
       "    </tr>\n",
       "    <tr>\n",
       "      <th>3</th>\n",
       "      <td>u:</td>\n",
       "      <td>384.688563</td>\n",
       "      <td>625.279456</td>\n",
       "      <td>1</td>\n",
       "      <td>2</td>\n",
       "    </tr>\n",
       "    <tr>\n",
       "      <th>4</th>\n",
       "      <td>a:</td>\n",
       "      <td>837.362394</td>\n",
       "      <td>1537.296937</td>\n",
       "      <td>1</td>\n",
       "      <td>1</td>\n",
       "    </tr>\n",
       "  </tbody>\n",
       "</table>\n",
       "</div>"
      ],
      "text/plain": [
       "  Label          F1           F2  Target Position\n",
       "0    a:  777.945355  1283.831934       1        1\n",
       "1    i:  312.511901  2248.161735       1        2\n",
       "2    a:  952.606510  1364.704679       1        1\n",
       "3    u:  384.688563   625.279456       1        2\n",
       "4    a:  837.362394  1537.296937       1        1"
      ]
     },
     "execution_count": 128,
     "metadata": {},
     "output_type": "execute_result"
    }
   ],
   "source": [
    "datapoint_df = pd.read_csv(join('../../experiment_1/result/predict_3/formant/','data_point.csv'))\n",
    "datapoint_df_ori = datapoint_df.copy()\n",
    "datapoint_df = prep_df(datapoint_df, True)\n",
    "datapoint_df = set_datapoint_index(datapoint_df)\n",
    "datapoint_df = change_label_set_2(datapoint_df).reset_index().drop(['Label_idx'], axis=1)\n",
    "datapoint_df.head()"
   ]
  },
  {
   "cell_type": "markdown",
   "metadata": {},
   "source": [
    "### First Syllable "
   ]
  },
  {
   "cell_type": "code",
   "execution_count": 129,
   "metadata": {},
   "outputs": [
    {
     "data": {
      "image/png": "[encoded data removed]",
      "text/plain": [
       "<Figure size 1080x1080 with 9 Axes>"
      ]
     },
     "metadata": {
      "needs_background": "light"
     },
     "output_type": "display_data"
    }
   ],
   "source": [
    "plot_each_syllable_formant(datapoint_df, 1)"
   ]
  },
  {
   "cell_type": "markdown",
   "metadata": {},
   "source": [
    "### Second Syllable "
   ]
  },
  {
   "cell_type": "code",
   "execution_count": 130,
   "metadata": {},
   "outputs": [
    {
     "data": {
      "image/png": "[encoded data removed]",
      "text/plain": [
       "<Figure size 1080x1080 with 9 Axes>"
      ]
     },
     "metadata": {
      "needs_background": "light"
     },
     "output_type": "display_data"
    }
   ],
   "source": [
    "plot_each_syllable_formant(datapoint_df, 2)"
   ]
  },
  {
   "cell_type": "markdown",
   "metadata": {},
   "source": [
    "### Inspected "
   ]
  },
  {
   "cell_type": "code",
   "execution_count": 68,
   "metadata": {},
   "outputs": [
    {
     "data": {
      "text/html": [
       "<div>\n",
       "<style scoped>\n",
       "    .dataframe tbody tr th:only-of-type {\n",
       "        vertical-align: middle;\n",
       "    }\n",
       "\n",
       "    .dataframe tbody tr th {\n",
       "        vertical-align: top;\n",
       "    }\n",
       "\n",
       "    .dataframe thead th {\n",
       "        text-align: right;\n",
       "    }\n",
       "</style>\n",
       "<table border=\"1\" class=\"dataframe\">\n",
       "  <thead>\n",
       "    <tr style=\"text-align: right;\">\n",
       "      <th></th>\n",
       "      <th>Label</th>\n",
       "      <th>F1</th>\n",
       "      <th>F2</th>\n",
       "      <th>Target</th>\n",
       "    </tr>\n",
       "  </thead>\n",
       "  <tbody>\n",
       "    <tr>\n",
       "      <th>133</th>\n",
       "      <td>u;2</td>\n",
       "      <td>465.553019</td>\n",
       "      <td>1837.674168</td>\n",
       "      <td>1</td>\n",
       "    </tr>\n",
       "  </tbody>\n",
       "</table>\n",
       "</div>"
      ],
      "text/plain": [
       "    Label          F1           F2  Target\n",
       "133   u;2  465.553019  1837.674168       1"
      ]
     },
     "execution_count": 68,
     "metadata": {},
     "output_type": "execute_result"
    }
   ],
   "source": [
    "datapoint_df_ori[(datapoint_df_ori['Label'] == 'u;2') & (datapoint_df_ori['F2'] >1600)]"
   ]
  },
  {
   "cell_type": "code",
   "execution_count": 70,
   "metadata": {},
   "outputs": [
    {
     "data": {
      "text/plain": [
       "Label         O;1\n",
       "F1         649.47\n",
       "F2        973.633\n",
       "Target          1\n",
       "Name: 132, dtype: object"
      ]
     },
     "execution_count": 70,
     "metadata": {},
     "output_type": "execute_result"
    }
   ],
   "source": [
    "datapoint_df_ori.loc[132] #อออู"
   ]
  },
  {
   "cell_type": "code",
   "execution_count": 71,
   "metadata": {},
   "outputs": [
    {
     "data": {
      "text/html": [
       "<div>\n",
       "<style scoped>\n",
       "    .dataframe tbody tr th:only-of-type {\n",
       "        vertical-align: middle;\n",
       "    }\n",
       "\n",
       "    .dataframe tbody tr th {\n",
       "        vertical-align: top;\n",
       "    }\n",
       "\n",
       "    .dataframe thead th {\n",
       "        text-align: right;\n",
       "    }\n",
       "</style>\n",
       "<table border=\"1\" class=\"dataframe\">\n",
       "  <thead>\n",
       "    <tr style=\"text-align: right;\">\n",
       "      <th></th>\n",
       "      <th>Label</th>\n",
       "      <th>F1</th>\n",
       "      <th>F2</th>\n",
       "      <th>Target</th>\n",
       "    </tr>\n",
       "  </thead>\n",
       "  <tbody>\n",
       "    <tr>\n",
       "      <th>32</th>\n",
       "      <td>u;1</td>\n",
       "      <td>528.731838</td>\n",
       "      <td>1289.681875</td>\n",
       "      <td>1</td>\n",
       "    </tr>\n",
       "    <tr>\n",
       "      <th>36</th>\n",
       "      <td>u;1</td>\n",
       "      <td>533.334952</td>\n",
       "      <td>1469.926523</td>\n",
       "      <td>1</td>\n",
       "    </tr>\n",
       "    <tr>\n",
       "      <th>38</th>\n",
       "      <td>u;1</td>\n",
       "      <td>491.599627</td>\n",
       "      <td>1325.481332</td>\n",
       "      <td>1</td>\n",
       "    </tr>\n",
       "  </tbody>\n",
       "</table>\n",
       "</div>"
      ],
      "text/plain": [
       "   Label          F1           F2  Target\n",
       "32   u;1  528.731838  1289.681875       1\n",
       "36   u;1  533.334952  1469.926523       1\n",
       "38   u;1  491.599627  1325.481332       1"
      ]
     },
     "execution_count": 71,
     "metadata": {},
     "output_type": "execute_result"
    }
   ],
   "source": [
    "datapoint_df_ori[(datapoint_df_ori['Label'] == 'u;1') & (datapoint_df_ori['F2'] >1200)]"
   ]
  },
  {
   "cell_type": "code",
   "execution_count": 120,
   "metadata": {},
   "outputs": [],
   "source": [
    "datapoint_df_ori['E'] = 'e'"
   ]
  },
  {
   "cell_type": "code",
   "execution_count": 121,
   "metadata": {},
   "outputs": [
    {
     "data": {
      "text/html": [
       "<div>\n",
       "<style scoped>\n",
       "    .dataframe tbody tr th:only-of-type {\n",
       "        vertical-align: middle;\n",
       "    }\n",
       "\n",
       "    .dataframe tbody tr th {\n",
       "        vertical-align: top;\n",
       "    }\n",
       "\n",
       "    .dataframe thead th {\n",
       "        text-align: right;\n",
       "    }\n",
       "</style>\n",
       "<table border=\"1\" class=\"dataframe\">\n",
       "  <thead>\n",
       "    <tr style=\"text-align: right;\">\n",
       "      <th></th>\n",
       "      <th>Label</th>\n",
       "      <th>F1</th>\n",
       "      <th>F2</th>\n",
       "      <th>Target</th>\n",
       "      <th>E</th>\n",
       "    </tr>\n",
       "  </thead>\n",
       "  <tbody>\n",
       "    <tr>\n",
       "      <th>0</th>\n",
       "      <td>a;1</td>\n",
       "      <td>777.945355</td>\n",
       "      <td>1283.831934</td>\n",
       "      <td>1</td>\n",
       "      <td>e</td>\n",
       "    </tr>\n",
       "    <tr>\n",
       "      <th>1</th>\n",
       "      <td>i;2</td>\n",
       "      <td>312.511901</td>\n",
       "      <td>2248.161735</td>\n",
       "      <td>1</td>\n",
       "      <td>e</td>\n",
       "    </tr>\n",
       "    <tr>\n",
       "      <th>2</th>\n",
       "      <td>a;1</td>\n",
       "      <td>952.606510</td>\n",
       "      <td>1364.704679</td>\n",
       "      <td>1</td>\n",
       "      <td>e</td>\n",
       "    </tr>\n",
       "    <tr>\n",
       "      <th>3</th>\n",
       "      <td>u;2</td>\n",
       "      <td>384.688563</td>\n",
       "      <td>625.279456</td>\n",
       "      <td>1</td>\n",
       "      <td>e</td>\n",
       "    </tr>\n",
       "    <tr>\n",
       "      <th>4</th>\n",
       "      <td>a;1</td>\n",
       "      <td>837.362394</td>\n",
       "      <td>1537.296937</td>\n",
       "      <td>1</td>\n",
       "      <td>e</td>\n",
       "    </tr>\n",
       "    <tr>\n",
       "      <th>...</th>\n",
       "      <td>...</td>\n",
       "      <td>...</td>\n",
       "      <td>...</td>\n",
       "      <td>...</td>\n",
       "      <td>...</td>\n",
       "    </tr>\n",
       "    <tr>\n",
       "      <th>319</th>\n",
       "      <td>7;2</td>\n",
       "      <td>449.300415</td>\n",
       "      <td>1228.140407</td>\n",
       "      <td>0</td>\n",
       "      <td>e</td>\n",
       "    </tr>\n",
       "    <tr>\n",
       "      <th>320</th>\n",
       "      <td>o;1</td>\n",
       "      <td>353.477319</td>\n",
       "      <td>645.658658</td>\n",
       "      <td>0</td>\n",
       "      <td>e</td>\n",
       "    </tr>\n",
       "    <tr>\n",
       "      <th>321</th>\n",
       "      <td>o;2</td>\n",
       "      <td>419.883546</td>\n",
       "      <td>661.097721</td>\n",
       "      <td>0</td>\n",
       "      <td>e</td>\n",
       "    </tr>\n",
       "    <tr>\n",
       "      <th>322</th>\n",
       "      <td>O;1</td>\n",
       "      <td>569.319600</td>\n",
       "      <td>1009.126439</td>\n",
       "      <td>0</td>\n",
       "      <td>e</td>\n",
       "    </tr>\n",
       "    <tr>\n",
       "      <th>323</th>\n",
       "      <td>O;2</td>\n",
       "      <td>563.728126</td>\n",
       "      <td>975.700146</td>\n",
       "      <td>0</td>\n",
       "      <td>e</td>\n",
       "    </tr>\n",
       "  </tbody>\n",
       "</table>\n",
       "<p>324 rows × 5 columns</p>\n",
       "</div>"
      ],
      "text/plain": [
       "    Label          F1           F2  Target  E\n",
       "0     a;1  777.945355  1283.831934       1  e\n",
       "1     i;2  312.511901  2248.161735       1  e\n",
       "2     a;1  952.606510  1364.704679       1  e\n",
       "3     u;2  384.688563   625.279456       1  e\n",
       "4     a;1  837.362394  1537.296937       1  e\n",
       "..    ...         ...          ...     ... ..\n",
       "319   7;2  449.300415  1228.140407       0  e\n",
       "320   o;1  353.477319   645.658658       0  e\n",
       "321   o;2  419.883546   661.097721       0  e\n",
       "322   O;1  569.319600  1009.126439       0  e\n",
       "323   O;2  563.728126   975.700146       0  e\n",
       "\n",
       "[324 rows x 5 columns]"
      ]
     },
     "execution_count": 121,
     "metadata": {},
     "output_type": "execute_result"
    }
   ],
   "source": [
    "datapoint_df_ori"
   ]
  },
  {
   "cell_type": "code",
   "execution_count": null,
   "metadata": {},
   "outputs": [],
   "source": []
  }
 ],
 "metadata": {
  "kernelspec": {
   "display_name": "Python 3",
   "language": "python",
   "name": "python3"
  },
  "language_info": {
   "codemirror_mode": {
    "name": "ipython",
    "version": 3
   },
   "file_extension": ".py",
   "mimetype": "text/x-python",
   "name": "python",
   "nbconvert_exporter": "python",
   "pygments_lexer": "ipython3",
   "version": "3.6.10"
  }
 },
 "nbformat": 4,
 "nbformat_minor": 4
}
