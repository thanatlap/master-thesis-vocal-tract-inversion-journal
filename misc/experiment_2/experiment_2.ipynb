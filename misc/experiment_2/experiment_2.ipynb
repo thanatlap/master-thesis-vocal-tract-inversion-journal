{
 "cells": [
  {
   "cell_type": "markdown",
   "metadata": {},
   "source": [
    "# Experiment on AAI Model Architectures\n",
    "- Created: 10 Mar 2020\n",
    "- Data: param_draft1"
   ]
  },
  {
   "cell_type": "code",
   "execution_count": 1,
   "metadata": {},
   "outputs": [],
   "source": [
    "from __future__ import absolute_import, division, print_function, unicode_literals\n",
    "import numpy as np\n",
    "import pandas as pd\n",
    "import matplotlib.pyplot as plt\n",
    "import os\n",
    "from os.path import join\n",
    "import tensorflow as tf\n",
    "from tensorflow import keras\n",
    "\n",
    "from tensorflow.keras import models\n",
    "from tensorflow.keras import optimizers\n",
    "from tensorflow.keras import regularizers\n",
    "from tensorflow.keras import callbacks\n",
    "from time import time\n",
    "from datetime import datetime\n",
    "import shutil \n",
    "import argparse\n",
    "from functools import partial\n",
    "import pickle\n",
    "from IPython.display import Audio\n",
    "\n",
    "import tensorflow as tf\n",
    "from tensorflow import keras\n",
    "from tensorflow.keras import layers\n",
    "from tensorflow.keras import backend as K\n",
    "from tensorflow.keras import regularizers\n",
    "from tensorflow.keras.layers import Reshape, GRU, InputLayer, AlphaDropout, Activation, BatchNormalization, Dropout, Flatten, Dense, Bidirectional, LSTM, Conv1D, SpatialDropout1D, Concatenate, Multiply, Add\n",
    "\n",
    "from sklearn.model_selection import train_test_split\n",
    "from sklearn.metrics import classification_report, confusion_matrix\n",
    "from sklearn.preprocessing import OneHotEncoder"
   ]
  },
  {
   "cell_type": "code",
   "execution_count": 2,
   "metadata": {},
   "outputs": [],
   "source": [
    "np_load_old = partial(np.load)\n",
    "np.load = lambda *a,**k: np_load_old(*a, allow_pickle=True, **k)"
   ]
  },
  {
   "cell_type": "code",
   "execution_count": 3,
   "metadata": {},
   "outputs": [],
   "source": [
    "tf.random.set_seed(42)"
   ]
  },
  {
   "cell_type": "markdown",
   "metadata": {},
   "source": [
    "## Metric Function"
   ]
  },
  {
   "cell_type": "code",
   "execution_count": 4,
   "metadata": {},
   "outputs": [],
   "source": [
    "def rmse(y_true, y_pred):\n",
    "    return K.sqrt(K.mean(K.square(y_pred - y_true), axis=-1))\n",
    "\n",
    "def R2(y_true, y_pred):\n",
    "    SS_res =  K.sum(K.square(y_true - y_pred), axis = 0) \n",
    "    SS_tot = K.sum(K.square(y_true - K.mean(y_true, axis = 0)), axis = 0) \n",
    "    return K.mean(1 - (SS_res/SS_tot), axis=0)"
   ]
  },
  {
   "cell_type": "markdown",
   "metadata": {},
   "source": [
    "## Utility Functions"
   ]
  },
  {
   "cell_type": "code",
   "execution_count": 5,
   "metadata": {},
   "outputs": [],
   "source": [
    "#Function for preprocessing data\n",
    "def delete_params(params):\n",
    "    '''\n",
    "    This function remove JX, WC, TRX, TRY, and MS1,2,3 paramter\n",
    "    '''\n",
    "    DEL_PARAMS_LIST = [2,8,15,16,21,22,23]\n",
    "    return np.delete(params,DEL_PARAMS_LIST , axis=1)"
   ]
  },
  {
   "cell_type": "code",
   "execution_count": 6,
   "metadata": {},
   "outputs": [],
   "source": [
    "def compute_rmse(actual,pred, axis=1):\n",
    "    # Compute RMSE by row (axis=1) result in rmse of each data\n",
    "    # Compute RMSE by column (axis=0) result in rmse of each label\n",
    "    return np.sqrt((np.square(actual - pred)).mean(axis=axis))"
   ]
  },
  {
   "cell_type": "code",
   "execution_count": 7,
   "metadata": {},
   "outputs": [],
   "source": [
    "def evaluate_model(y_pred, label):\n",
    "    y_pred = enc.inverse_transform(y_pred)\n",
    "    label = enc.inverse_transform(label)\n",
    "#     print('Confusion Matrix')\n",
    "#     print(confusion_matrix(label, y_pred))\n",
    "    print('Classification Report')\n",
    "    print(classification_report(label, y_pred))"
   ]
  },
  {
   "cell_type": "code",
   "execution_count": 8,
   "metadata": {},
   "outputs": [],
   "source": [
    "def compute_se(actual,pred):\n",
    "    return np.sqrt((np.square(actual - pred)))"
   ]
  },
  {
   "cell_type": "markdown",
   "metadata": {},
   "source": [
    "## Load Data "
   ]
  },
  {
   "cell_type": "code",
   "execution_count": 9,
   "metadata": {},
   "outputs": [],
   "source": [
    "def prep_data():\n",
    "\n",
    "    # load data from preprocess pipeline\n",
    "    dataset = np.load(join('../../data/d_dataset_p1/prep_data_13_2','training_subsets.npz'))\n",
    "    X_train =dataset['X_train']\n",
    "    y_train= dataset['y_train']\n",
    "    z_train= dataset['z_train']\n",
    "    X_val = dataset['X_val']\n",
    "    y_val = dataset['y_val']\n",
    "    z_val = dataset['z_val']\n",
    "    X_test = dataset['X_test']\n",
    "    y_test = dataset['y_test']\n",
    "    z_test = dataset['z_test']\n",
    "    a_test = dataset['audio_test']\n",
    "    a_val = dataset['audio_val']\n",
    "    \n",
    "    y_train = delete_params(y_train)\n",
    "    y_val = delete_params(y_val)\n",
    "    y_test = delete_params(y_test)\n",
    "\n",
    "    print('Train features and labels %s %s'%(str(X_train.shape),str(y_train.shape)))\n",
    "    print('Validating features and labels %s %s'%(str(X_val.shape),str(y_val.shape)))\n",
    "    print('Test features and labels %s %s'%(str(X_test.shape),str(y_test.shape)))\n",
    "\n",
    "    return X_train, X_val, X_test, y_train, y_val, y_test, z_train, z_val, z_test, a_test, a_val"
   ]
  },
  {
   "cell_type": "code",
   "execution_count": 10,
   "metadata": {},
   "outputs": [
    {
     "name": "stdout",
     "output_type": "stream",
     "text": [
      "Train features and labels (98746, 24, 39) (98746, 17)\n",
      "Validating features and labels (12094, 24, 39) (12094, 17)\n",
      "Test features and labels (12092, 24, 39) (12092, 17)\n"
     ]
    }
   ],
   "source": [
    "X_train, X_val, X_test, y_train, y_val, y_test, z_train, z_val, z_test, a_test, a_val = prep_data()"
   ]
  },
  {
   "cell_type": "code",
   "execution_count": 11,
   "metadata": {},
   "outputs": [
    {
     "name": "stdout",
     "output_type": "stream",
     "text": [
      "{'7', 'Q', '2', '@', 'U', 'a', 'u', 'A', '9', 'E:', 'O', 'M', 'o', 'E', 'V', 'e', 'i', '&', 'y'}\n"
     ]
    }
   ],
   "source": [
    "print(set(z_test))"
   ]
  },
  {
   "cell_type": "code",
   "execution_count": 12,
   "metadata": {},
   "outputs": [
    {
     "name": "stdout",
     "output_type": "stream",
     "text": [
      "Train features and labels (98746, 24, 39) (98746, 17) (98746,)\n",
      "Validating features and labels (12094, 24, 39) (12094, 17) (12094,)\n",
      "Test features and labels (12092, 24, 39) (12092, 17) (12092,)\n"
     ]
    }
   ],
   "source": [
    "print('Train features and labels {} {} {}'.format(str(X_train.shape),str(y_train.shape),str(z_train.shape)))\n",
    "print('Validating features and labels {} {} {}'.format(str(X_val.shape),str(y_val.shape),str(z_val.shape)))\n",
    "print('Test features and labels {} {} {}'.format(str(X_test.shape),str(y_test.shape),str(z_test.shape)))"
   ]
  },
  {
   "cell_type": "markdown",
   "metadata": {},
   "source": [
    "### One-hot label "
   ]
  },
  {
   "cell_type": "code",
   "execution_count": 13,
   "metadata": {},
   "outputs": [],
   "source": [
    "z_train_oe=z_train.reshape(-1,1)\n",
    "z_val_oe=z_val.reshape(-1,1)\n",
    "z_test_oe=z_test.reshape(-1,1)\n",
    "\n",
    "enc = OneHotEncoder(handle_unknown = 'ignore')\n",
    "enc.fit(z_train_oe)\n",
    "\n",
    "z_train_oe = enc.transform(z_train_oe).toarray()\n",
    "z_test_oe = enc.transform(z_test_oe).toarray()\n",
    "z_val_oe = enc.transform(z_val_oe).toarray()"
   ]
  },
  {
   "cell_type": "markdown",
   "metadata": {},
   "source": [
    "## 1.) Train Baseline Model\n",
    "- Model without embedding feature"
   ]
  },
  {
   "cell_type": "markdown",
   "metadata": {},
   "source": [
    "### Defined Model without Embedded Feature"
   ]
  },
  {
   "cell_type": "code",
   "execution_count": 14,
   "metadata": {},
   "outputs": [],
   "source": [
    "N_OUTPUTS = 17\n",
    "\n",
    "pLSTM = partial(LSTM, kernel_initializer='he_uniform', return_sequences=True)\n",
    "pConv1D = partial(Conv1D, padding = 'same', activation = 'linear', kernel_initializer = 'he_uniform')\n",
    "\n",
    "def init_senet(feature_layer=1, cnn_unit=64, first_kernel=11, res_unit=128, res_kernel=7,\n",
    "    bilstm = 1, bilstm_unit=256, \n",
    "    dropout_rate=0.3,\n",
    "    reduction_ratio = 2,\n",
    "    activation_fn='relu'):\n",
    "\n",
    "\n",
    "    def cnn_block(input_x, cnn_unit, kernel_size):\n",
    "        x = pConv1D(cnn_unit, kernel_size=kernel_size)(input_x)\n",
    "        x = BatchNormalization()(x)\n",
    "        x = Activation(activation_fn)(x)\n",
    "        return x\n",
    "\n",
    "    def se_block(input_x):\n",
    "        x = layers.GlobalAveragePooling1D()(input_x)\n",
    "        channel_shape = getattr(x, '_shape_val')[-1]\n",
    "        x = Reshape((1, channel_shape))(x)\n",
    "        x = Dense(channel_shape // reduction_ratio, activation=activation_fn, kernel_initializer='he_uniform')(x)\n",
    "        x = Dense(channel_shape, activation='tanh', kernel_initializer='he_uniform')(x)\n",
    "        return x\n",
    "\n",
    "    def residual_block(input_x):\n",
    "        x = cnn_block(input_x, res_unit,kernel_size=res_kernel)\n",
    "        x = pConv1D(res_unit, kernel_size=3)(x)\n",
    "        x = BatchNormalization()(x)\n",
    "        return x\n",
    "\n",
    "    def se_res_block(input_x):\n",
    "        res_x = residual_block(input_x)\n",
    "        se_x = se_block(res_x)\n",
    "        x = layers.Multiply()([res_x, se_x])\n",
    "        x = Activation(activation_fn)(x)\n",
    "        # input_x = cnn_block(input_x, cnn_unit=cnn_unit, kernel_size=1)\n",
    "        outputs = layers.Add()([x, input_x])\n",
    "        return outputs\n",
    "\n",
    "    def senet_nn(input_shape_1,input_shape_2):\n",
    "\n",
    "        input_x = keras.Input(shape=(input_shape_1,input_shape_2))\n",
    "        x = cnn_block(input_x, 128, first_kernel)\n",
    "        # layers.Concatenate()([x, embeded])\n",
    "        for i in range(feature_layer):\n",
    "            x = se_res_block(x)\n",
    "        x = SpatialDropout1D(rate=dropout_rate)(x)\n",
    "        for i in range(feature_layer):\n",
    "            x = se_res_block(x)\n",
    "            x = SpatialDropout1D(rate=dropout_rate)(x)\n",
    "        x = cnn_block(x, cnn_unit=cnn_unit, kernel_size=1)\n",
    "        x = SpatialDropout1D(rate=dropout_rate)(x)\n",
    "        for i in range(bilstm-1):\n",
    "            x = Bidirectional(pLSTM(bilstm_unit))(x)\n",
    "            x = SpatialDropout1D(rate=dropout_rate)(x)\n",
    "        x = Bidirectional(pLSTM(bilstm_unit, return_sequences=False))(x)\n",
    "        x = Dropout(rate=dropout_rate)(x)\n",
    "        outputs = Dense(N_OUTPUTS, activation='linear', kernel_initializer='he_uniform')(x)\n",
    "        model = keras.Model(inputs=input_x, outputs=outputs)\n",
    "        return model\n",
    "\n",
    "    return senet_nn"
   ]
  },
  {
   "cell_type": "code",
   "execution_count": 15,
   "metadata": {},
   "outputs": [],
   "source": [
    "model = init_senet()(24, 39)"
   ]
  },
  {
   "cell_type": "code",
   "execution_count": 16,
   "metadata": {},
   "outputs": [
    {
     "name": "stdout",
     "output_type": "stream",
     "text": [
      "Model: \"model\"\n",
      "__________________________________________________________________________________________________\n",
      "Layer (type)                    Output Shape         Param #     Connected to                     \n",
      "==================================================================================================\n",
      "input_1 (InputLayer)            [(None, 24, 39)]     0                                            \n",
      "__________________________________________________________________________________________________\n",
      "conv1d (Conv1D)                 (None, 24, 128)      55040       input_1[0][0]                    \n",
      "__________________________________________________________________________________________________\n",
      "batch_normalization (BatchNorma (None, 24, 128)      512         conv1d[0][0]                     \n",
      "__________________________________________________________________________________________________\n",
      "activation (Activation)         (None, 24, 128)      0           batch_normalization[0][0]        \n",
      "__________________________________________________________________________________________________\n",
      "conv1d_1 (Conv1D)               (None, 24, 128)      114816      activation[0][0]                 \n",
      "__________________________________________________________________________________________________\n",
      "batch_normalization_1 (BatchNor (None, 24, 128)      512         conv1d_1[0][0]                   \n",
      "__________________________________________________________________________________________________\n",
      "activation_1 (Activation)       (None, 24, 128)      0           batch_normalization_1[0][0]      \n",
      "__________________________________________________________________________________________________\n",
      "conv1d_2 (Conv1D)               (None, 24, 128)      49280       activation_1[0][0]               \n",
      "__________________________________________________________________________________________________\n",
      "batch_normalization_2 (BatchNor (None, 24, 128)      512         conv1d_2[0][0]                   \n",
      "__________________________________________________________________________________________________\n",
      "global_average_pooling1d (Globa (None, 128)          0           batch_normalization_2[0][0]      \n",
      "__________________________________________________________________________________________________\n",
      "reshape (Reshape)               (None, 1, 128)       0           global_average_pooling1d[0][0]   \n",
      "__________________________________________________________________________________________________\n",
      "dense (Dense)                   (None, 1, 64)        8256        reshape[0][0]                    \n",
      "__________________________________________________________________________________________________\n",
      "dense_1 (Dense)                 (None, 1, 128)       8320        dense[0][0]                      \n",
      "__________________________________________________________________________________________________\n",
      "multiply (Multiply)             (None, 24, 128)      0           batch_normalization_2[0][0]      \n",
      "                                                                 dense_1[0][0]                    \n",
      "__________________________________________________________________________________________________\n",
      "activation_2 (Activation)       (None, 24, 128)      0           multiply[0][0]                   \n",
      "__________________________________________________________________________________________________\n",
      "add (Add)                       (None, 24, 128)      0           activation_2[0][0]               \n",
      "                                                                 activation[0][0]                 \n",
      "__________________________________________________________________________________________________\n",
      "spatial_dropout1d (SpatialDropo (None, 24, 128)      0           add[0][0]                        \n",
      "__________________________________________________________________________________________________\n",
      "conv1d_3 (Conv1D)               (None, 24, 128)      114816      spatial_dropout1d[0][0]          \n",
      "__________________________________________________________________________________________________\n",
      "batch_normalization_3 (BatchNor (None, 24, 128)      512         conv1d_3[0][0]                   \n",
      "__________________________________________________________________________________________________\n",
      "activation_3 (Activation)       (None, 24, 128)      0           batch_normalization_3[0][0]      \n",
      "__________________________________________________________________________________________________\n",
      "conv1d_4 (Conv1D)               (None, 24, 128)      49280       activation_3[0][0]               \n",
      "__________________________________________________________________________________________________\n",
      "batch_normalization_4 (BatchNor (None, 24, 128)      512         conv1d_4[0][0]                   \n",
      "__________________________________________________________________________________________________\n",
      "global_average_pooling1d_1 (Glo (None, 128)          0           batch_normalization_4[0][0]      \n",
      "__________________________________________________________________________________________________\n",
      "reshape_1 (Reshape)             (None, 1, 128)       0           global_average_pooling1d_1[0][0] \n",
      "__________________________________________________________________________________________________\n",
      "dense_2 (Dense)                 (None, 1, 64)        8256        reshape_1[0][0]                  \n",
      "__________________________________________________________________________________________________\n",
      "dense_3 (Dense)                 (None, 1, 128)       8320        dense_2[0][0]                    \n",
      "__________________________________________________________________________________________________\n",
      "multiply_1 (Multiply)           (None, 24, 128)      0           batch_normalization_4[0][0]      \n",
      "                                                                 dense_3[0][0]                    \n",
      "__________________________________________________________________________________________________\n",
      "activation_4 (Activation)       (None, 24, 128)      0           multiply_1[0][0]                 \n",
      "__________________________________________________________________________________________________\n",
      "add_1 (Add)                     (None, 24, 128)      0           activation_4[0][0]               \n",
      "                                                                 spatial_dropout1d[0][0]          \n",
      "__________________________________________________________________________________________________\n",
      "spatial_dropout1d_1 (SpatialDro (None, 24, 128)      0           add_1[0][0]                      \n",
      "__________________________________________________________________________________________________\n",
      "conv1d_5 (Conv1D)               (None, 24, 64)       8256        spatial_dropout1d_1[0][0]        \n",
      "__________________________________________________________________________________________________\n",
      "batch_normalization_5 (BatchNor (None, 24, 64)       256         conv1d_5[0][0]                   \n",
      "__________________________________________________________________________________________________\n",
      "activation_5 (Activation)       (None, 24, 64)       0           batch_normalization_5[0][0]      \n",
      "__________________________________________________________________________________________________\n",
      "spatial_dropout1d_2 (SpatialDro (None, 24, 64)       0           activation_5[0][0]               \n",
      "__________________________________________________________________________________________________\n",
      "bidirectional (Bidirectional)   (None, 512)          657408      spatial_dropout1d_2[0][0]        \n",
      "__________________________________________________________________________________________________\n",
      "dropout (Dropout)               (None, 512)          0           bidirectional[0][0]              \n",
      "__________________________________________________________________________________________________\n",
      "dense_4 (Dense)                 (None, 17)           8721        dropout[0][0]                    \n",
      "==================================================================================================\n",
      "Total params: 1,093,585\n",
      "Trainable params: 1,092,177\n",
      "Non-trainable params: 1,408\n",
      "__________________________________________________________________________________________________\n"
     ]
    }
   ],
   "source": [
    "model.summary()"
   ]
  },
  {
   "cell_type": "markdown",
   "metadata": {},
   "source": [
    "### Compile Model "
   ]
  },
  {
   "cell_type": "code",
   "execution_count": 17,
   "metadata": {},
   "outputs": [],
   "source": [
    "model.compile(optimizer='adam',loss='mse',metrics=[rmse, R2])"
   ]
  },
  {
   "cell_type": "markdown",
   "metadata": {},
   "source": [
    "### Train Model "
   ]
  },
  {
   "cell_type": "code",
   "execution_count": 18,
   "metadata": {},
   "outputs": [],
   "source": [
    "PATIENCE = 10\n",
    "BATCH_SIZE = 128\n",
    "EPOCHS = 50\n",
    "\n",
    "early = callbacks.EarlyStopping(monitor='val_loss', min_delta=0, patience=PATIENCE, verbose=1, mode='min', baseline=None, restore_best_weights=False)\n",
    "callback_list = [early]"
   ]
  },
  {
   "cell_type": "code",
   "execution_count": 19,
   "metadata": {},
   "outputs": [
    {
     "name": "stdout",
     "output_type": "stream",
     "text": [
      "Train on 98746 samples, validate on 12094 samples\n",
      "Epoch 1/50\n",
      "98746/98746 [==============================] - 32s 319us/sample - loss: 0.1098 - rmse: 0.3097 - R2: 0.5216 - val_loss: 0.0527 - val_rmse: 0.2080 - val_R2: 0.7719\n",
      "Epoch 2/50\n",
      "98746/98746 [==============================] - 21s 216us/sample - loss: 0.0692 - rmse: 0.2413 - R2: 0.7022 - val_loss: 0.0504 - val_rmse: 0.2007 - val_R2: 0.7846\n",
      "Epoch 3/50\n",
      "98746/98746 [==============================] - 21s 216us/sample - loss: 0.0609 - rmse: 0.2236 - R2: 0.7384 - val_loss: 0.0446 - val_rmse: 0.1891 - val_R2: 0.8083\n",
      "Epoch 4/50\n",
      "98746/98746 [==============================] - 21s 217us/sample - loss: 0.0557 - rmse: 0.2130 - R2: 0.7606 - val_loss: 0.0416 - val_rmse: 0.1802 - val_R2: 0.8208\n",
      "Epoch 5/50\n",
      "98746/98746 [==============================] - 21s 216us/sample - loss: 0.0528 - rmse: 0.2069 - R2: 0.7729 - val_loss: 0.0422 - val_rmse: 0.1802 - val_R2: 0.8200\n",
      "Epoch 6/50\n",
      "98746/98746 [==============================] - 21s 216us/sample - loss: 0.0504 - rmse: 0.2017 - R2: 0.7835 - val_loss: 0.0387 - val_rmse: 0.1738 - val_R2: 0.8350\n",
      "Epoch 7/50\n",
      "98746/98746 [==============================] - 21s 217us/sample - loss: 0.0484 - rmse: 0.1977 - R2: 0.7917 - val_loss: 0.0382 - val_rmse: 0.1724 - val_R2: 0.8370\n",
      "Epoch 8/50\n",
      "98746/98746 [==============================] - 21s 217us/sample - loss: 0.0471 - rmse: 0.1947 - R2: 0.7974 - val_loss: 0.0368 - val_rmse: 0.1695 - val_R2: 0.8415\n",
      "Epoch 9/50\n",
      "98746/98746 [==============================] - 21s 217us/sample - loss: 0.0458 - rmse: 0.1918 - R2: 0.8030 - val_loss: 0.0393 - val_rmse: 0.1720 - val_R2: 0.8317\n",
      "Epoch 10/50\n",
      "98746/98746 [==============================] - 21s 217us/sample - loss: 0.0445 - rmse: 0.1890 - R2: 0.8087 - val_loss: 0.0367 - val_rmse: 0.1677 - val_R2: 0.8428\n",
      "Epoch 11/50\n",
      "98746/98746 [==============================] - 21s 217us/sample - loss: 0.0435 - rmse: 0.1869 - R2: 0.8128 - val_loss: 0.0362 - val_rmse: 0.1657 - val_R2: 0.8441\n",
      "Epoch 12/50\n",
      "98746/98746 [==============================] - 21s 217us/sample - loss: 0.0426 - rmse: 0.1847 - R2: 0.8169 - val_loss: 0.0366 - val_rmse: 0.1658 - val_R2: 0.8435\n",
      "Epoch 13/50\n",
      "98746/98746 [==============================] - 21s 216us/sample - loss: 0.0419 - rmse: 0.1832 - R2: 0.8197 - val_loss: 0.0353 - val_rmse: 0.1656 - val_R2: 0.8473\n",
      "Epoch 14/50\n",
      "98746/98746 [==============================] - 21s 217us/sample - loss: 0.0410 - rmse: 0.1814 - R2: 0.8233 - val_loss: 0.0383 - val_rmse: 0.1685 - val_R2: 0.8359\n",
      "Epoch 15/50\n",
      "98746/98746 [==============================] - 21s 217us/sample - loss: 0.0405 - rmse: 0.1801 - R2: 0.8258 - val_loss: 0.0384 - val_rmse: 0.1679 - val_R2: 0.8365\n",
      "Epoch 16/50\n",
      "98746/98746 [==============================] - 21s 216us/sample - loss: 0.0399 - rmse: 0.1788 - R2: 0.8284 - val_loss: 0.0385 - val_rmse: 0.1689 - val_R2: 0.8352\n",
      "Epoch 17/50\n",
      "98746/98746 [==============================] - 22s 223us/sample - loss: 0.0393 - rmse: 0.1775 - R2: 0.8308 - val_loss: 0.0351 - val_rmse: 0.1625 - val_R2: 0.8495\n",
      "Epoch 18/50\n",
      "98746/98746 [==============================] - 22s 220us/sample - loss: 0.0385 - rmse: 0.1757 - R2: 0.8343 - val_loss: 0.0345 - val_rmse: 0.1609 - val_R2: 0.8530\n",
      "Epoch 19/50\n",
      "98746/98746 [==============================] - 22s 220us/sample - loss: 0.0381 - rmse: 0.1749 - R2: 0.8359 - val_loss: 0.0340 - val_rmse: 0.1601 - val_R2: 0.8535\n",
      "Epoch 20/50\n",
      "98746/98746 [==============================] - 21s 217us/sample - loss: 0.0378 - rmse: 0.1742 - R2: 0.8369 - val_loss: 0.0352 - val_rmse: 0.1620 - val_R2: 0.8488\n",
      "Epoch 21/50\n",
      "98746/98746 [==============================] - 21s 217us/sample - loss: 0.0375 - rmse: 0.1734 - R2: 0.8385 - val_loss: 0.0360 - val_rmse: 0.1634 - val_R2: 0.8464\n",
      "Epoch 22/50\n",
      "98746/98746 [==============================] - 21s 217us/sample - loss: 0.0371 - rmse: 0.1725 - R2: 0.8400 - val_loss: 0.0360 - val_rmse: 0.1634 - val_R2: 0.8448\n",
      "Epoch 23/50\n",
      "98746/98746 [==============================] - 21s 216us/sample - loss: 0.0364 - rmse: 0.1710 - R2: 0.8433 - val_loss: 0.0361 - val_rmse: 0.1637 - val_R2: 0.8459\n",
      "Epoch 24/50\n",
      "98746/98746 [==============================] - 21s 216us/sample - loss: 0.0362 - rmse: 0.1705 - R2: 0.8439 - val_loss: 0.0336 - val_rmse: 0.1583 - val_R2: 0.8552\n",
      "Epoch 25/50\n",
      "98746/98746 [==============================] - 21s 217us/sample - loss: 0.0358 - rmse: 0.1696 - R2: 0.8460 - val_loss: 0.0351 - val_rmse: 0.1615 - val_R2: 0.8492\n",
      "Epoch 26/50\n",
      "98746/98746 [==============================] - 21s 216us/sample - loss: 0.0353 - rmse: 0.1686 - R2: 0.8478 - val_loss: 0.0352 - val_rmse: 0.1608 - val_R2: 0.8491\n",
      "Epoch 27/50\n",
      "98746/98746 [==============================] - 21s 216us/sample - loss: 0.0352 - rmse: 0.1682 - R2: 0.8483 - val_loss: 0.0360 - val_rmse: 0.1623 - val_R2: 0.8469\n",
      "Epoch 28/50\n",
      "98746/98746 [==============================] - 21s 216us/sample - loss: 0.0347 - rmse: 0.1674 - R2: 0.8502 - val_loss: 0.0348 - val_rmse: 0.1603 - val_R2: 0.8508\n",
      "Epoch 29/50\n",
      "98746/98746 [==============================] - 21s 216us/sample - loss: 0.0347 - rmse: 0.1671 - R2: 0.8505 - val_loss: 0.0352 - val_rmse: 0.1613 - val_R2: 0.8482\n",
      "Epoch 30/50\n",
      "98746/98746 [==============================] - 21s 216us/sample - loss: 0.0339 - rmse: 0.1657 - R2: 0.8535 - val_loss: 0.0341 - val_rmse: 0.1588 - val_R2: 0.8545\n",
      "Epoch 31/50\n",
      "98746/98746 [==============================] - 21s 217us/sample - loss: 0.0340 - rmse: 0.1658 - R2: 0.8531 - val_loss: 0.0346 - val_rmse: 0.1584 - val_R2: 0.8515\n",
      "Epoch 32/50\n",
      "98746/98746 [==============================] - 21s 215us/sample - loss: 0.0337 - rmse: 0.1650 - R2: 0.8545 - val_loss: 0.0359 - val_rmse: 0.1603 - val_R2: 0.8469\n",
      "Epoch 33/50\n",
      "98746/98746 [==============================] - 21s 216us/sample - loss: 0.0334 - rmse: 0.1643 - R2: 0.8558 - val_loss: 0.0332 - val_rmse: 0.1571 - val_R2: 0.8573\n",
      "Epoch 34/50\n",
      "98746/98746 [==============================] - 21s 217us/sample - loss: 0.0333 - rmse: 0.1641 - R2: 0.8563 - val_loss: 0.0336 - val_rmse: 0.1574 - val_R2: 0.8552\n",
      "Epoch 35/50\n",
      "98746/98746 [==============================] - 21s 216us/sample - loss: 0.0327 - rmse: 0.1629 - R2: 0.8585 - val_loss: 0.0334 - val_rmse: 0.1569 - val_R2: 0.8564\n",
      "Epoch 36/50\n",
      "98746/98746 [==============================] - 21s 217us/sample - loss: 0.0328 - rmse: 0.1629 - R2: 0.8586 - val_loss: 0.0346 - val_rmse: 0.1581 - val_R2: 0.8515\n",
      "Epoch 37/50\n",
      "98746/98746 [==============================] - 21s 217us/sample - loss: 0.0324 - rmse: 0.1622 - R2: 0.8601 - val_loss: 0.0340 - val_rmse: 0.1571 - val_R2: 0.8541\n",
      "Epoch 38/50\n",
      "98746/98746 [==============================] - 21s 217us/sample - loss: 0.0322 - rmse: 0.1617 - R2: 0.8607 - val_loss: 0.0365 - val_rmse: 0.1617 - val_R2: 0.8446\n",
      "Epoch 39/50\n",
      "98746/98746 [==============================] - 21s 217us/sample - loss: 0.0320 - rmse: 0.1613 - R2: 0.8613 - val_loss: 0.0330 - val_rmse: 0.1556 - val_R2: 0.8578\n",
      "Epoch 40/50\n",
      "98746/98746 [==============================] - 21s 217us/sample - loss: 0.0318 - rmse: 0.1608 - R2: 0.8626 - val_loss: 0.0348 - val_rmse: 0.1572 - val_R2: 0.8522\n",
      "Epoch 41/50\n",
      "98746/98746 [==============================] - 21s 216us/sample - loss: 0.0319 - rmse: 0.1609 - R2: 0.8622 - val_loss: 0.0341 - val_rmse: 0.1570 - val_R2: 0.8544\n",
      "Epoch 42/50\n",
      "98746/98746 [==============================] - 21s 216us/sample - loss: 0.0316 - rmse: 0.1602 - R2: 0.8634 - val_loss: 0.0342 - val_rmse: 0.1571 - val_R2: 0.8529\n",
      "Epoch 43/50\n",
      "98746/98746 [==============================] - 21s 217us/sample - loss: 0.0312 - rmse: 0.1596 - R2: 0.8651 - val_loss: 0.0338 - val_rmse: 0.1558 - val_R2: 0.8555\n",
      "Epoch 44/50\n",
      "98746/98746 [==============================] - 21s 216us/sample - loss: 0.0311 - rmse: 0.1592 - R2: 0.8654 - val_loss: 0.0336 - val_rmse: 0.1560 - val_R2: 0.8559\n",
      "Epoch 45/50\n",
      "98746/98746 [==============================] - 21s 216us/sample - loss: 0.0308 - rmse: 0.1587 - R2: 0.8666 - val_loss: 0.0336 - val_rmse: 0.1558 - val_R2: 0.8550\n",
      "Epoch 46/50\n",
      "98746/98746 [==============================] - 21s 216us/sample - loss: 0.0307 - rmse: 0.1584 - R2: 0.8671 - val_loss: 0.0340 - val_rmse: 0.1561 - val_R2: 0.8546\n",
      "Epoch 47/50\n",
      "98746/98746 [==============================] - 21s 213us/sample - loss: 0.0304 - rmse: 0.1578 - R2: 0.8682 - val_loss: 0.0344 - val_rmse: 0.1569 - val_R2: 0.8529\n",
      "Epoch 48/50\n",
      "98746/98746 [==============================] - 21s 214us/sample - loss: 0.0305 - rmse: 0.1580 - R2: 0.8677 - val_loss: 0.0324 - val_rmse: 0.1538 - val_R2: 0.8611\n",
      "Epoch 49/50\n",
      "98746/98746 [==============================] - 21s 215us/sample - loss: 0.0302 - rmse: 0.1572 - R2: 0.8693 - val_loss: 0.0332 - val_rmse: 0.1547 - val_R2: 0.8583\n",
      "Epoch 50/50\n",
      "98746/98746 [==============================] - 21s 214us/sample - loss: 0.0301 - rmse: 0.1569 - R2: 0.8696 - val_loss: 0.0339 - val_rmse: 0.1565 - val_R2: 0.8540\n"
     ]
    }
   ],
   "source": [
    "history = model.fit(X_train,y_train,\n",
    "    batch_size=BATCH_SIZE,\n",
    "    epochs=EPOCHS,\n",
    "    validation_data=(X_val,y_val),\n",
    "    callbacks=callback_list)"
   ]
  },
  {
   "cell_type": "code",
   "execution_count": 20,
   "metadata": {},
   "outputs": [],
   "source": [
    "model.save('model_baseline.hdf5')"
   ]
  },
  {
   "cell_type": "markdown",
   "metadata": {},
   "source": [
    "### Evaluation "
   ]
  },
  {
   "cell_type": "code",
   "execution_count": 21,
   "metadata": {},
   "outputs": [
    {
     "data": {
      "text/plain": [
       "[0.03375698116232416, 0.1563362, 0.84711534]"
      ]
     },
     "execution_count": 21,
     "metadata": {},
     "output_type": "execute_result"
    }
   ],
   "source": [
    "model.evaluate(X_test,y_test,verbose=0)"
   ]
  },
  {
   "cell_type": "code",
   "execution_count": 22,
   "metadata": {},
   "outputs": [],
   "source": [
    "y_pred = model.predict(X_test)"
   ]
  },
  {
   "cell_type": "code",
   "execution_count": 23,
   "metadata": {},
   "outputs": [],
   "source": [
    "err = compute_rmse(y_test,y_pred, axis=0)"
   ]
  },
  {
   "cell_type": "code",
   "execution_count": 24,
   "metadata": {},
   "outputs": [
    {
     "name": "stdout",
     "output_type": "stream",
     "text": [
      "[0.16342768 0.14086562 0.14849178 0.20117811 0.16922748 0.22422665\n",
      " 0.25635736 0.10536106 0.13922235 0.24446311 0.13874895 0.17061567\n",
      " 0.17291206 0.26759069 0.18129253 0.15462481 0.15255724]\n"
     ]
    }
   ],
   "source": [
    "print(err)"
   ]
  },
  {
   "cell_type": "markdown",
   "metadata": {},
   "source": [
    "## 2.) Trained Embedding Layer "
   ]
  },
  {
   "cell_type": "markdown",
   "metadata": {},
   "source": [
    "### Defined Embedding Model"
   ]
  },
  {
   "cell_type": "code",
   "execution_count": 25,
   "metadata": {},
   "outputs": [],
   "source": [
    "PHONETIC_OUTPUT = len(set(z_train))\n",
    "EMBEDDED_FEATURE = 100\n",
    "\n",
    "pLSTM = partial(LSTM, kernel_initializer='he_uniform', return_sequences=True)\n",
    "\n",
    "def embeded_model(input_shape_1,input_shape_2):\n",
    "    inputs = keras.Input(shape=(input_shape_1,input_shape_2))\n",
    "    x = pLSTM(EMBEDDED_FEATURE)(inputs)\n",
    "    x = Flatten()(x)\n",
    "    outputs = Dense(PHONETIC_OUTPUT, activation='softmax', kernel_initializer='he_uniform')(x)\n",
    "    return keras.Model(inputs=inputs, outputs=outputs)"
   ]
  },
  {
   "cell_type": "code",
   "execution_count": 26,
   "metadata": {},
   "outputs": [
    {
     "name": "stdout",
     "output_type": "stream",
     "text": [
      "Model: \"model_1\"\n",
      "_________________________________________________________________\n",
      "Layer (type)                 Output Shape              Param #   \n",
      "=================================================================\n",
      "input_2 (InputLayer)         [(None, 24, 39)]          0         \n",
      "_________________________________________________________________\n",
      "lstm_1 (LSTM)                (None, 24, 100)           56000     \n",
      "_________________________________________________________________\n",
      "flatten (Flatten)            (None, 2400)              0         \n",
      "_________________________________________________________________\n",
      "dense_5 (Dense)              (None, 19)                45619     \n",
      "=================================================================\n",
      "Total params: 101,619\n",
      "Trainable params: 101,619\n",
      "Non-trainable params: 0\n",
      "_________________________________________________________________\n"
     ]
    }
   ],
   "source": [
    "embedded = embeded_model(24, 39)\n",
    "embedded.summary()"
   ]
  },
  {
   "cell_type": "markdown",
   "metadata": {},
   "source": [
    "### Compile Model "
   ]
  },
  {
   "cell_type": "code",
   "execution_count": 27,
   "metadata": {},
   "outputs": [],
   "source": [
    "embedded.compile(optimizer='adam',loss=tf.keras.losses.CategoricalCrossentropy(from_logits=True),metrics=['accuracy'])"
   ]
  },
  {
   "cell_type": "markdown",
   "metadata": {},
   "source": [
    "### Train Model "
   ]
  },
  {
   "cell_type": "code",
   "execution_count": 28,
   "metadata": {},
   "outputs": [],
   "source": [
    "PATIENCE = 10\n",
    "BATCH_SIZE = 128\n",
    "EPOCHS = 50\n",
    "\n",
    "early = callbacks.EarlyStopping(monitor='val_loss', min_delta=0, patience=PATIENCE, verbose=1, mode='min', baseline=None, restore_best_weights=False)\n",
    "callback_list = [early]"
   ]
  },
  {
   "cell_type": "code",
   "execution_count": 29,
   "metadata": {},
   "outputs": [
    {
     "name": "stdout",
     "output_type": "stream",
     "text": [
      "Train on 98746 samples, validate on 12094 samples\n",
      "Epoch 1/50\n",
      "98746/98746 [==============================] - 7s 67us/sample - loss: 2.3007 - accuracy: 0.7497 - val_loss: 2.1814 - val_accuracy: 0.8575\n",
      "Epoch 2/50\n",
      "98746/98746 [==============================] - 4s 41us/sample - loss: 2.2010 - accuracy: 0.8369 - val_loss: 2.1568 - val_accuracy: 0.8796\n",
      "Epoch 3/50\n",
      "98746/98746 [==============================] - 4s 41us/sample - loss: 2.1741 - accuracy: 0.8621 - val_loss: 2.1505 - val_accuracy: 0.8838\n",
      "Epoch 4/50\n",
      "98746/98746 [==============================] - 4s 42us/sample - loss: 2.1578 - accuracy: 0.8781 - val_loss: 2.1473 - val_accuracy: 0.8862\n",
      "Epoch 5/50\n",
      "98746/98746 [==============================] - 4s 41us/sample - loss: 2.1469 - accuracy: 0.8882 - val_loss: 2.1419 - val_accuracy: 0.8902\n",
      "Epoch 6/50\n",
      "98746/98746 [==============================] - 4s 41us/sample - loss: 2.1389 - accuracy: 0.8956 - val_loss: 2.1470 - val_accuracy: 0.8850\n",
      "Epoch 7/50\n",
      "98746/98746 [==============================] - 4s 41us/sample - loss: 2.1307 - accuracy: 0.9040 - val_loss: 2.1433 - val_accuracy: 0.8889\n",
      "Epoch 8/50\n",
      "98746/98746 [==============================] - 4s 42us/sample - loss: 2.1261 - accuracy: 0.9080 - val_loss: 2.1359 - val_accuracy: 0.8966\n",
      "Epoch 9/50\n",
      "98746/98746 [==============================] - 4s 41us/sample - loss: 2.1198 - accuracy: 0.9143 - val_loss: 2.1382 - val_accuracy: 0.8948\n",
      "Epoch 10/50\n",
      "98746/98746 [==============================] - 4s 41us/sample - loss: 2.1168 - accuracy: 0.9175 - val_loss: 2.1380 - val_accuracy: 0.8946\n",
      "Epoch 11/50\n",
      "98746/98746 [==============================] - 4s 41us/sample - loss: 2.1126 - accuracy: 0.9211 - val_loss: 2.1352 - val_accuracy: 0.8970\n",
      "Epoch 12/50\n",
      "98746/98746 [==============================] - 4s 42us/sample - loss: 2.1094 - accuracy: 0.9246 - val_loss: 2.1400 - val_accuracy: 0.8925\n",
      "Epoch 13/50\n",
      "98746/98746 [==============================] - 4s 41us/sample - loss: 2.1062 - accuracy: 0.9272 - val_loss: 2.1350 - val_accuracy: 0.8965\n",
      "Epoch 14/50\n",
      "98746/98746 [==============================] - 4s 41us/sample - loss: 2.1036 - accuracy: 0.9302 - val_loss: 2.1411 - val_accuracy: 0.8905\n",
      "Epoch 15/50\n",
      "98746/98746 [==============================] - 4s 41us/sample - loss: 2.1003 - accuracy: 0.9329 - val_loss: 2.1317 - val_accuracy: 0.9008\n",
      "Epoch 16/50\n",
      "98746/98746 [==============================] - 4s 42us/sample - loss: 2.0983 - accuracy: 0.9348 - val_loss: 2.1395 - val_accuracy: 0.8923\n",
      "Epoch 17/50\n",
      "98746/98746 [==============================] - 4s 41us/sample - loss: 2.0975 - accuracy: 0.9356 - val_loss: 2.1407 - val_accuracy: 0.8910\n",
      "Epoch 18/50\n",
      "98746/98746 [==============================] - 4s 41us/sample - loss: 2.0951 - accuracy: 0.9379 - val_loss: 2.1380 - val_accuracy: 0.8927\n",
      "Epoch 19/50\n",
      "98746/98746 [==============================] - 4s 41us/sample - loss: 2.0931 - accuracy: 0.9400 - val_loss: 2.1368 - val_accuracy: 0.8936\n",
      "Epoch 20/50\n",
      "98746/98746 [==============================] - 4s 42us/sample - loss: 2.0920 - accuracy: 0.9408 - val_loss: 2.1343 - val_accuracy: 0.8974\n",
      "Epoch 21/50\n",
      "98746/98746 [==============================] - 4s 41us/sample - loss: 2.0889 - accuracy: 0.9440 - val_loss: 2.1386 - val_accuracy: 0.8932\n",
      "Epoch 22/50\n",
      "98746/98746 [==============================] - 4s 41us/sample - loss: 2.0877 - accuracy: 0.9452 - val_loss: 2.1310 - val_accuracy: 0.9006\n",
      "Epoch 23/50\n",
      "98746/98746 [==============================] - 4s 41us/sample - loss: 2.0876 - accuracy: 0.9451 - val_loss: 2.1322 - val_accuracy: 0.8993\n",
      "Epoch 24/50\n",
      "98746/98746 [==============================] - 4s 42us/sample - loss: 2.0866 - accuracy: 0.9460 - val_loss: 2.1367 - val_accuracy: 0.8952\n",
      "Epoch 25/50\n",
      "98746/98746 [==============================] - 4s 41us/sample - loss: 2.0845 - accuracy: 0.9481 - val_loss: 2.1382 - val_accuracy: 0.8933\n",
      "Epoch 26/50\n",
      "98746/98746 [==============================] - 4s 41us/sample - loss: 2.0834 - accuracy: 0.9492 - val_loss: 2.1363 - val_accuracy: 0.8948\n",
      "Epoch 27/50\n",
      "98746/98746 [==============================] - 4s 42us/sample - loss: 2.0816 - accuracy: 0.9509 - val_loss: 2.1352 - val_accuracy: 0.8963\n",
      "Epoch 28/50\n",
      "98746/98746 [==============================] - 4s 41us/sample - loss: 2.0818 - accuracy: 0.9510 - val_loss: 2.1305 - val_accuracy: 0.9008\n",
      "Epoch 29/50\n",
      "98746/98746 [==============================] - 4s 41us/sample - loss: 2.0808 - accuracy: 0.9515 - val_loss: 2.1340 - val_accuracy: 0.8968\n",
      "Epoch 30/50\n",
      "98746/98746 [==============================] - 4s 41us/sample - loss: 2.0790 - accuracy: 0.9536 - val_loss: 2.1350 - val_accuracy: 0.8955\n",
      "Epoch 31/50\n",
      "98746/98746 [==============================] - 4s 42us/sample - loss: 2.0788 - accuracy: 0.9536 - val_loss: 2.1305 - val_accuracy: 0.9004\n",
      "Epoch 32/50\n",
      "98746/98746 [==============================] - 4s 41us/sample - loss: 2.0781 - accuracy: 0.9540 - val_loss: 2.1351 - val_accuracy: 0.8963\n",
      "Epoch 33/50\n",
      "98746/98746 [==============================] - 4s 41us/sample - loss: 2.0767 - accuracy: 0.9556 - val_loss: 2.1408 - val_accuracy: 0.8906\n",
      "Epoch 34/50\n",
      "98746/98746 [==============================] - 4s 41us/sample - loss: 2.0772 - accuracy: 0.9552 - val_loss: 2.1361 - val_accuracy: 0.8956\n",
      "Epoch 35/50\n",
      "98746/98746 [==============================] - 4s 42us/sample - loss: 2.0756 - accuracy: 0.9566 - val_loss: 2.1372 - val_accuracy: 0.8944\n",
      "Epoch 36/50\n",
      "98746/98746 [==============================] - 4s 41us/sample - loss: 2.0766 - accuracy: 0.9556 - val_loss: 2.1361 - val_accuracy: 0.8947\n",
      "Epoch 37/50\n",
      "98746/98746 [==============================] - 4s 41us/sample - loss: 2.0744 - accuracy: 0.9581 - val_loss: 2.1410 - val_accuracy: 0.8904\n",
      "Epoch 38/50\n",
      "98746/98746 [==============================] - 4s 41us/sample - loss: 2.0734 - accuracy: 0.9587 - val_loss: 2.1369 - val_accuracy: 0.8947\n",
      "Epoch 39/50\n",
      "98746/98746 [==============================] - 4s 42us/sample - loss: 2.0726 - accuracy: 0.9597 - val_loss: 2.1432 - val_accuracy: 0.8873\n",
      "Epoch 40/50\n",
      "98746/98746 [==============================] - 4s 41us/sample - loss: 2.0730 - accuracy: 0.9590 - val_loss: 2.1367 - val_accuracy: 0.8949\n",
      "Epoch 41/50\n",
      "98746/98746 [==============================] - 4s 41us/sample - loss: 2.0729 - accuracy: 0.9593 - val_loss: 2.1356 - val_accuracy: 0.8957\n",
      "Epoch 00041: early stopping\n"
     ]
    }
   ],
   "source": [
    "history = embedded.fit(X_train,z_train_oe,\n",
    "    batch_size=BATCH_SIZE,\n",
    "    epochs=EPOCHS,\n",
    "    validation_data=(X_val,z_val_oe),\n",
    "    callbacks=callback_list)"
   ]
  },
  {
   "cell_type": "code",
   "execution_count": 30,
   "metadata": {},
   "outputs": [],
   "source": [
    "embedded.save('embedded.hdf5')"
   ]
  },
  {
   "cell_type": "markdown",
   "metadata": {},
   "source": [
    "### Evaluated Model "
   ]
  },
  {
   "cell_type": "code",
   "execution_count": 31,
   "metadata": {},
   "outputs": [
    {
     "name": "stdout",
     "output_type": "stream",
     "text": [
      "Classification Report\n",
      "              precision    recall  f1-score   support\n",
      "\n",
      "           &       0.94      0.90      0.92       655\n",
      "           2       0.94      0.96      0.95       636\n",
      "           7       0.90      0.66      0.76       552\n",
      "           9       0.92      0.95      0.93       625\n",
      "           @       0.98      0.91      0.95       647\n",
      "           A       0.86      0.93      0.89       619\n",
      "           E       0.88      0.91      0.90       652\n",
      "          E:       0.93      0.94      0.94       629\n",
      "           M       0.87      0.94      0.90       650\n",
      "           O       0.80      0.86      0.83       674\n",
      "           Q       0.93      0.87      0.90       670\n",
      "           U       0.89      0.81      0.85       641\n",
      "           V       0.68      0.83      0.75       644\n",
      "           a       0.92      0.90      0.91       644\n",
      "           e       0.96      0.95      0.96       661\n",
      "           i       0.98      0.94      0.96       650\n",
      "           o       0.95      0.88      0.91       571\n",
      "           u       0.88      0.96      0.92       631\n",
      "           y       0.94      0.94      0.94       641\n",
      "\n",
      "    accuracy                           0.90     12092\n",
      "   macro avg       0.90      0.90      0.90     12092\n",
      "weighted avg       0.90      0.90      0.90     12092\n",
      "\n"
     ]
    }
   ],
   "source": [
    "z_pred = embedded.predict(X_test)\n",
    "evaluate_model(z_pred, z_test_oe)"
   ]
  },
  {
   "cell_type": "markdown",
   "metadata": {},
   "source": [
    "## 3.) Model with Embedding Feature "
   ]
  },
  {
   "cell_type": "markdown",
   "metadata": {},
   "source": [
    "### Embedded input model"
   ]
  },
  {
   "cell_type": "code",
   "execution_count": 32,
   "metadata": {},
   "outputs": [
    {
     "name": "stdout",
     "output_type": "stream",
     "text": [
      "Model: \"sequential\"\n",
      "_________________________________________________________________\n",
      "Layer (type)                 Output Shape              Param #   \n",
      "=================================================================\n",
      "lstm_1 (LSTM)                (None, 24, 100)           56000     \n",
      "=================================================================\n",
      "Total params: 56,000\n",
      "Trainable params: 0\n",
      "Non-trainable params: 56,000\n",
      "_________________________________________________________________\n"
     ]
    }
   ],
   "source": [
    "embedded = tf.keras.models.load_model('embedded.hdf5')\n",
    "\n",
    "embedded_layers = tf.keras.Sequential()\n",
    "for layer in embedded.layers[:-2]:\n",
    "    layer.trainable = False\n",
    "    embedded_layers.add(layer)\n",
    "embedded_layers.summary()\n",
    "\n",
    "N_OUTPUTS = 17\n",
    "\n",
    "pLSTM = partial(LSTM, kernel_initializer='he_uniform', return_sequences=True)\n",
    "pConv1D = partial(Conv1D, padding = 'same', activation = 'linear', kernel_initializer = 'he_uniform')\n",
    "\n",
    "def init_senet_w_emb(feature_layer=1, cnn_unit=64, first_kernel=11, res_unit=128, res_kernel=7,\n",
    "    bilstm = 1, bilstm_unit=256, \n",
    "    dropout_rate=0.3,\n",
    "    reduction_ratio = 2,\n",
    "    activation_fn='relu'):\n",
    "\n",
    "\n",
    "    def cnn_block(input_x, cnn_unit, kernel_size):\n",
    "        x = pConv1D(cnn_unit, kernel_size=kernel_size)(input_x)\n",
    "        x = BatchNormalization()(x)\n",
    "        x = Activation(activation_fn)(x)\n",
    "        return x\n",
    "\n",
    "    def se_block(input_x):\n",
    "        x = layers.GlobalAveragePooling1D()(input_x)\n",
    "        channel_shape = getattr(x, '_shape_val')[-1]\n",
    "        x = Reshape((1, channel_shape))(x)\n",
    "        x = Dense(channel_shape // reduction_ratio, activation=activation_fn, kernel_initializer='he_uniform')(x)\n",
    "        x = Dense(channel_shape, activation='tanh', kernel_initializer='he_uniform')(x)\n",
    "        return x\n",
    "\n",
    "    def residual_block(input_x):\n",
    "        x = cnn_block(input_x, res_unit,kernel_size=res_kernel)\n",
    "        x = pConv1D(res_unit, kernel_size=3)(x)\n",
    "        x = BatchNormalization()(x)\n",
    "        return x\n",
    "\n",
    "    def se_res_block(input_x):\n",
    "        res_x = residual_block(input_x)\n",
    "        se_x = se_block(res_x)\n",
    "        x = layers.Multiply()([res_x, se_x])\n",
    "        x = Activation(activation_fn)(x)\n",
    "#         input_x = cnn_block(input_x, cnn_unit=res_unit, kernel_size=1)\n",
    "        x = layers.Add()([x, input_x])\n",
    "        return x\n",
    "\n",
    "    def senet_nn(input_shape_1,input_shape_2):\n",
    "\n",
    "        input_x = keras.Input(shape=(input_shape_1,input_shape_2))\n",
    "        embedded = embedded_layers(input_x)\n",
    "        x = layers.Concatenate()([input_x, embedded])\n",
    "        x = cnn_block(input_x, 128, first_kernel)\n",
    "\n",
    "        for i in range(feature_layer):\n",
    "            x = se_res_block(x)\n",
    "        x = SpatialDropout1D(rate=dropout_rate)(x)\n",
    "        for i in range(feature_layer):\n",
    "            x = se_res_block(x)\n",
    "            x = SpatialDropout1D(rate=dropout_rate)(x)\n",
    "        x = cnn_block(x, cnn_unit=cnn_unit, kernel_size=1)\n",
    "        x = SpatialDropout1D(rate=dropout_rate)(x)\n",
    "        for i in range(bilstm-1):\n",
    "            x = Bidirectional(pLSTM(bilstm_unit))(x)\n",
    "            x = SpatialDropout1D(rate=dropout_rate)(x)\n",
    "        x = Bidirectional(pLSTM(bilstm_unit, return_sequences=False))(x)\n",
    "        x = Dropout(rate=dropout_rate)(x)\n",
    "        outputs = Dense(N_OUTPUTS, activation='linear', kernel_initializer='he_uniform')(x)\n",
    "        model = keras.Model(inputs=input_x, outputs=outputs)\n",
    "        return model\n",
    "\n",
    "    return senet_nn"
   ]
  },
  {
   "cell_type": "code",
   "execution_count": 33,
   "metadata": {},
   "outputs": [
    {
     "name": "stdout",
     "output_type": "stream",
     "text": [
      "Model: \"model_2\"\n",
      "__________________________________________________________________________________________________\n",
      "Layer (type)                    Output Shape         Param #     Connected to                     \n",
      "==================================================================================================\n",
      "input_3 (InputLayer)            [(None, 24, 39)]     0                                            \n",
      "__________________________________________________________________________________________________\n",
      "conv1d_6 (Conv1D)               (None, 24, 128)      55040       input_3[0][0]                    \n",
      "__________________________________________________________________________________________________\n",
      "batch_normalization_6 (BatchNor (None, 24, 128)      512         conv1d_6[0][0]                   \n",
      "__________________________________________________________________________________________________\n",
      "activation_6 (Activation)       (None, 24, 128)      0           batch_normalization_6[0][0]      \n",
      "__________________________________________________________________________________________________\n",
      "conv1d_7 (Conv1D)               (None, 24, 128)      114816      activation_6[0][0]               \n",
      "__________________________________________________________________________________________________\n",
      "batch_normalization_7 (BatchNor (None, 24, 128)      512         conv1d_7[0][0]                   \n",
      "__________________________________________________________________________________________________\n",
      "activation_7 (Activation)       (None, 24, 128)      0           batch_normalization_7[0][0]      \n",
      "__________________________________________________________________________________________________\n",
      "conv1d_8 (Conv1D)               (None, 24, 128)      49280       activation_7[0][0]               \n",
      "__________________________________________________________________________________________________\n",
      "batch_normalization_8 (BatchNor (None, 24, 128)      512         conv1d_8[0][0]                   \n",
      "__________________________________________________________________________________________________\n",
      "global_average_pooling1d_2 (Glo (None, 128)          0           batch_normalization_8[0][0]      \n",
      "__________________________________________________________________________________________________\n",
      "reshape_2 (Reshape)             (None, 1, 128)       0           global_average_pooling1d_2[0][0] \n",
      "__________________________________________________________________________________________________\n",
      "dense_6 (Dense)                 (None, 1, 64)        8256        reshape_2[0][0]                  \n",
      "__________________________________________________________________________________________________\n",
      "dense_7 (Dense)                 (None, 1, 128)       8320        dense_6[0][0]                    \n",
      "__________________________________________________________________________________________________\n",
      "multiply_2 (Multiply)           (None, 24, 128)      0           batch_normalization_8[0][0]      \n",
      "                                                                 dense_7[0][0]                    \n",
      "__________________________________________________________________________________________________\n",
      "activation_8 (Activation)       (None, 24, 128)      0           multiply_2[0][0]                 \n",
      "__________________________________________________________________________________________________\n",
      "add_2 (Add)                     (None, 24, 128)      0           activation_8[0][0]               \n",
      "                                                                 activation_6[0][0]               \n",
      "__________________________________________________________________________________________________\n",
      "spatial_dropout1d_3 (SpatialDro (None, 24, 128)      0           add_2[0][0]                      \n",
      "__________________________________________________________________________________________________\n",
      "conv1d_9 (Conv1D)               (None, 24, 128)      114816      spatial_dropout1d_3[0][0]        \n",
      "__________________________________________________________________________________________________\n",
      "batch_normalization_9 (BatchNor (None, 24, 128)      512         conv1d_9[0][0]                   \n",
      "__________________________________________________________________________________________________\n",
      "activation_9 (Activation)       (None, 24, 128)      0           batch_normalization_9[0][0]      \n",
      "__________________________________________________________________________________________________\n",
      "conv1d_10 (Conv1D)              (None, 24, 128)      49280       activation_9[0][0]               \n",
      "__________________________________________________________________________________________________\n",
      "batch_normalization_10 (BatchNo (None, 24, 128)      512         conv1d_10[0][0]                  \n",
      "__________________________________________________________________________________________________\n",
      "global_average_pooling1d_3 (Glo (None, 128)          0           batch_normalization_10[0][0]     \n",
      "__________________________________________________________________________________________________\n",
      "reshape_3 (Reshape)             (None, 1, 128)       0           global_average_pooling1d_3[0][0] \n",
      "__________________________________________________________________________________________________\n",
      "dense_8 (Dense)                 (None, 1, 64)        8256        reshape_3[0][0]                  \n",
      "__________________________________________________________________________________________________\n",
      "dense_9 (Dense)                 (None, 1, 128)       8320        dense_8[0][0]                    \n",
      "__________________________________________________________________________________________________\n",
      "multiply_3 (Multiply)           (None, 24, 128)      0           batch_normalization_10[0][0]     \n",
      "                                                                 dense_9[0][0]                    \n",
      "__________________________________________________________________________________________________\n",
      "activation_10 (Activation)      (None, 24, 128)      0           multiply_3[0][0]                 \n",
      "__________________________________________________________________________________________________\n",
      "add_3 (Add)                     (None, 24, 128)      0           activation_10[0][0]              \n",
      "                                                                 spatial_dropout1d_3[0][0]        \n",
      "__________________________________________________________________________________________________\n",
      "spatial_dropout1d_4 (SpatialDro (None, 24, 128)      0           add_3[0][0]                      \n",
      "__________________________________________________________________________________________________\n",
      "conv1d_11 (Conv1D)              (None, 24, 64)       8256        spatial_dropout1d_4[0][0]        \n",
      "__________________________________________________________________________________________________\n",
      "batch_normalization_11 (BatchNo (None, 24, 64)       256         conv1d_11[0][0]                  \n",
      "__________________________________________________________________________________________________\n",
      "activation_11 (Activation)      (None, 24, 64)       0           batch_normalization_11[0][0]     \n",
      "__________________________________________________________________________________________________\n",
      "spatial_dropout1d_5 (SpatialDro (None, 24, 64)       0           activation_11[0][0]              \n",
      "__________________________________________________________________________________________________\n",
      "bidirectional_1 (Bidirectional) (None, 512)          657408      spatial_dropout1d_5[0][0]        \n",
      "__________________________________________________________________________________________________\n",
      "dropout_1 (Dropout)             (None, 512)          0           bidirectional_1[0][0]            \n",
      "__________________________________________________________________________________________________\n",
      "dense_10 (Dense)                (None, 17)           8721        dropout_1[0][0]                  \n",
      "==================================================================================================\n",
      "Total params: 1,093,585\n",
      "Trainable params: 1,092,177\n",
      "Non-trainable params: 1,408\n",
      "__________________________________________________________________________________________________\n"
     ]
    }
   ],
   "source": [
    "emb_model = init_senet_w_emb()(24, 39)\n",
    "emb_model.summary()"
   ]
  },
  {
   "cell_type": "markdown",
   "metadata": {},
   "source": [
    "### Compile Model "
   ]
  },
  {
   "cell_type": "code",
   "execution_count": 34,
   "metadata": {},
   "outputs": [],
   "source": [
    "emb_model.compile(optimizer='adam',loss='mse',metrics=[rmse, R2])"
   ]
  },
  {
   "cell_type": "markdown",
   "metadata": {},
   "source": [
    "### Train Model "
   ]
  },
  {
   "cell_type": "code",
   "execution_count": 35,
   "metadata": {},
   "outputs": [],
   "source": [
    "PATIENCE = 10\n",
    "BATCH_SIZE = 128\n",
    "EPOCHS = 50\n",
    "\n",
    "early = callbacks.EarlyStopping(monitor='val_loss', min_delta=0, patience=PATIENCE, verbose=1, mode='min', baseline=None, restore_best_weights=False)\n",
    "callback_list = [early]"
   ]
  },
  {
   "cell_type": "code",
   "execution_count": 36,
   "metadata": {},
   "outputs": [
    {
     "name": "stdout",
     "output_type": "stream",
     "text": [
      "Train on 98746 samples, validate on 12094 samples\n",
      "Epoch 1/50\n",
      "98746/98746 - 29s - loss: 0.1100 - rmse: 0.3099 - R2: 0.5200 - val_loss: 0.0515 - val_rmse: 0.2054 - val_R2: 0.7769\n",
      "Epoch 2/50\n",
      "98746/98746 - 21s - loss: 0.0688 - rmse: 0.2405 - R2: 0.7035 - val_loss: 0.0467 - val_rmse: 0.1944 - val_R2: 0.7995\n",
      "Epoch 3/50\n",
      "98746/98746 - 21s - loss: 0.0607 - rmse: 0.2232 - R2: 0.7392 - val_loss: 0.0457 - val_rmse: 0.1887 - val_R2: 0.8032\n",
      "Epoch 4/50\n",
      "98746/98746 - 21s - loss: 0.0562 - rmse: 0.2138 - R2: 0.7583 - val_loss: 0.0448 - val_rmse: 0.1846 - val_R2: 0.8063\n",
      "Epoch 5/50\n",
      "98746/98746 - 21s - loss: 0.0534 - rmse: 0.2080 - R2: 0.7704 - val_loss: 0.0410 - val_rmse: 0.1781 - val_R2: 0.8246\n",
      "Epoch 6/50\n",
      "98746/98746 - 21s - loss: 0.0510 - rmse: 0.2032 - R2: 0.7805 - val_loss: 0.0401 - val_rmse: 0.1758 - val_R2: 0.8289\n",
      "Epoch 7/50\n",
      "98746/98746 - 21s - loss: 0.0492 - rmse: 0.1992 - R2: 0.7883 - val_loss: 0.0405 - val_rmse: 0.1766 - val_R2: 0.8273\n",
      "Epoch 8/50\n",
      "98746/98746 - 21s - loss: 0.0478 - rmse: 0.1962 - R2: 0.7943 - val_loss: 0.0371 - val_rmse: 0.1694 - val_R2: 0.8410\n",
      "Epoch 9/50\n",
      "98746/98746 - 21s - loss: 0.0463 - rmse: 0.1929 - R2: 0.8010 - val_loss: 0.0394 - val_rmse: 0.1715 - val_R2: 0.8319\n",
      "Epoch 10/50\n",
      "98746/98746 - 21s - loss: 0.0452 - rmse: 0.1905 - R2: 0.8057 - val_loss: 0.0358 - val_rmse: 0.1662 - val_R2: 0.8469\n",
      "Epoch 11/50\n",
      "98746/98746 - 21s - loss: 0.0441 - rmse: 0.1882 - R2: 0.8105 - val_loss: 0.0380 - val_rmse: 0.1694 - val_R2: 0.8364\n",
      "Epoch 12/50\n",
      "98746/98746 - 21s - loss: 0.0430 - rmse: 0.1858 - R2: 0.8151 - val_loss: 0.0371 - val_rmse: 0.1663 - val_R2: 0.8404\n",
      "Epoch 13/50\n",
      "98746/98746 - 21s - loss: 0.0425 - rmse: 0.1848 - R2: 0.8168 - val_loss: 0.0360 - val_rmse: 0.1660 - val_R2: 0.8444\n",
      "Epoch 14/50\n",
      "98746/98746 - 21s - loss: 0.0418 - rmse: 0.1831 - R2: 0.8199 - val_loss: 0.0370 - val_rmse: 0.1668 - val_R2: 0.8405\n",
      "Epoch 15/50\n",
      "98746/98746 - 21s - loss: 0.0408 - rmse: 0.1809 - R2: 0.8245 - val_loss: 0.0384 - val_rmse: 0.1679 - val_R2: 0.8378\n",
      "Epoch 16/50\n",
      "98746/98746 - 21s - loss: 0.0403 - rmse: 0.1799 - R2: 0.8264 - val_loss: 0.0369 - val_rmse: 0.1672 - val_R2: 0.8414\n",
      "Epoch 17/50\n",
      "98746/98746 - 21s - loss: 0.0397 - rmse: 0.1786 - R2: 0.8290 - val_loss: 0.0348 - val_rmse: 0.1629 - val_R2: 0.8503\n",
      "Epoch 18/50\n",
      "98746/98746 - 21s - loss: 0.0390 - rmse: 0.1771 - R2: 0.8321 - val_loss: 0.0339 - val_rmse: 0.1606 - val_R2: 0.8543\n",
      "Epoch 19/50\n",
      "98746/98746 - 21s - loss: 0.0386 - rmse: 0.1761 - R2: 0.8340 - val_loss: 0.0346 - val_rmse: 0.1608 - val_R2: 0.8518\n",
      "Epoch 20/50\n",
      "98746/98746 - 21s - loss: 0.0382 - rmse: 0.1752 - R2: 0.8353 - val_loss: 0.0358 - val_rmse: 0.1632 - val_R2: 0.8449\n",
      "Epoch 21/50\n",
      "98746/98746 - 21s - loss: 0.0376 - rmse: 0.1738 - R2: 0.8382 - val_loss: 0.0366 - val_rmse: 0.1643 - val_R2: 0.8436\n",
      "Epoch 22/50\n",
      "98746/98746 - 21s - loss: 0.0374 - rmse: 0.1733 - R2: 0.8390 - val_loss: 0.0358 - val_rmse: 0.1631 - val_R2: 0.8445\n",
      "Epoch 23/50\n",
      "98746/98746 - 21s - loss: 0.0368 - rmse: 0.1721 - R2: 0.8412 - val_loss: 0.0356 - val_rmse: 0.1622 - val_R2: 0.8477\n",
      "Epoch 24/50\n",
      "98746/98746 - 21s - loss: 0.0366 - rmse: 0.1716 - R2: 0.8419 - val_loss: 0.0357 - val_rmse: 0.1622 - val_R2: 0.8466\n",
      "Epoch 25/50\n",
      "98746/98746 - 21s - loss: 0.0362 - rmse: 0.1706 - R2: 0.8440 - val_loss: 0.0341 - val_rmse: 0.1597 - val_R2: 0.8541\n",
      "Epoch 26/50\n",
      "98746/98746 - 21s - loss: 0.0354 - rmse: 0.1691 - R2: 0.8472 - val_loss: 0.0354 - val_rmse: 0.1608 - val_R2: 0.8478\n",
      "Epoch 27/50\n",
      "98746/98746 - 21s - loss: 0.0354 - rmse: 0.1691 - R2: 0.8470 - val_loss: 0.0366 - val_rmse: 0.1638 - val_R2: 0.8442\n",
      "Epoch 28/50\n",
      "98746/98746 - 21s - loss: 0.0351 - rmse: 0.1682 - R2: 0.8484 - val_loss: 0.0342 - val_rmse: 0.1581 - val_R2: 0.8530\n",
      "Epoch 00028: early stopping\n"
     ]
    }
   ],
   "source": [
    "history = emb_model.fit(X_train,y_train,\n",
    "    batch_size=BATCH_SIZE,\n",
    "    epochs=EPOCHS,\n",
    "    verbose=2,\n",
    "    validation_data=(X_val,y_val),\n",
    "    callbacks=callback_list)"
   ]
  },
  {
   "cell_type": "code",
   "execution_count": 37,
   "metadata": {},
   "outputs": [],
   "source": [
    "emb_model.save('model_with_embedded.hdf5')"
   ]
  },
  {
   "cell_type": "markdown",
   "metadata": {},
   "source": [
    "## 4.) Evaluation "
   ]
  },
  {
   "cell_type": "code",
   "execution_count": 38,
   "metadata": {},
   "outputs": [],
   "source": [
    "emb_model = tf.keras.models.load_model('model_with_embedded.hdf5', custom_objects={'rmse': rmse, 'R2':R2})"
   ]
  },
  {
   "cell_type": "code",
   "execution_count": 39,
   "metadata": {},
   "outputs": [
    {
     "data": {
      "text/plain": [
       "[0.03374897229219958, 0.15754908, 0.84626794]"
      ]
     },
     "execution_count": 39,
     "metadata": {},
     "output_type": "execute_result"
    }
   ],
   "source": [
    "emb_model.evaluate(X_test,y_test,verbose=0)"
   ]
  },
  {
   "cell_type": "code",
   "execution_count": 40,
   "metadata": {},
   "outputs": [],
   "source": [
    "y_pred = emb_model.predict(X_test)"
   ]
  },
  {
   "cell_type": "markdown",
   "metadata": {},
   "source": [
    "### Check error by each data "
   ]
  },
  {
   "cell_type": "code",
   "execution_count": 41,
   "metadata": {},
   "outputs": [],
   "source": [
    "errs = compute_rmse(y_test,y_pred, axis=1)"
   ]
  },
  {
   "cell_type": "code",
   "execution_count": 42,
   "metadata": {},
   "outputs": [
    {
     "name": "stdout",
     "output_type": "stream",
     "text": [
      "[0.16342768 0.14086562 0.14849178 0.20117811 0.16922748 0.22422665\n",
      " 0.25635736 0.10536106 0.13922235 0.24446311 0.13874895 0.17061567\n",
      " 0.17291206 0.26759069 0.18129253 0.15462481 0.15255724]\n"
     ]
    }
   ],
   "source": [
    "print(err)"
   ]
  },
  {
   "cell_type": "markdown",
   "metadata": {},
   "source": [
    "### Error rank by highest "
   ]
  },
  {
   "cell_type": "code",
   "execution_count": 43,
   "metadata": {},
   "outputs": [],
   "source": [
    "err_df = pd.DataFrame({'phonetic':z_test, 'err':errs})"
   ]
  },
  {
   "cell_type": "code",
   "execution_count": 44,
   "metadata": {},
   "outputs": [
    {
     "data": {
      "text/html": [
       "<div>\n",
       "<style scoped>\n",
       "    .dataframe tbody tr th:only-of-type {\n",
       "        vertical-align: middle;\n",
       "    }\n",
       "\n",
       "    .dataframe tbody tr th {\n",
       "        vertical-align: top;\n",
       "    }\n",
       "\n",
       "    .dataframe thead th {\n",
       "        text-align: right;\n",
       "    }\n",
       "</style>\n",
       "<table border=\"1\" class=\"dataframe\">\n",
       "  <thead>\n",
       "    <tr style=\"text-align: right;\">\n",
       "      <th></th>\n",
       "      <th>phonetic</th>\n",
       "      <th>err</th>\n",
       "    </tr>\n",
       "  </thead>\n",
       "  <tbody>\n",
       "    <tr>\n",
       "      <th>0</th>\n",
       "      <td>2</td>\n",
       "      <td>0.140931</td>\n",
       "    </tr>\n",
       "    <tr>\n",
       "      <th>1</th>\n",
       "      <td>2</td>\n",
       "      <td>0.110135</td>\n",
       "    </tr>\n",
       "    <tr>\n",
       "      <th>2</th>\n",
       "      <td>O</td>\n",
       "      <td>0.097975</td>\n",
       "    </tr>\n",
       "    <tr>\n",
       "      <th>3</th>\n",
       "      <td>i</td>\n",
       "      <td>0.095773</td>\n",
       "    </tr>\n",
       "    <tr>\n",
       "      <th>4</th>\n",
       "      <td>Q</td>\n",
       "      <td>0.145450</td>\n",
       "    </tr>\n",
       "  </tbody>\n",
       "</table>\n",
       "</div>"
      ],
      "text/plain": [
       "  phonetic       err\n",
       "0        2  0.140931\n",
       "1        2  0.110135\n",
       "2        O  0.097975\n",
       "3        i  0.095773\n",
       "4        Q  0.145450"
      ]
     },
     "execution_count": 44,
     "metadata": {},
     "output_type": "execute_result"
    }
   ],
   "source": [
    "err_df.head()"
   ]
  },
  {
   "cell_type": "code",
   "execution_count": 45,
   "metadata": {},
   "outputs": [
    {
     "data": {
      "text/html": [
       "<div>\n",
       "<style scoped>\n",
       "    .dataframe tbody tr th:only-of-type {\n",
       "        vertical-align: middle;\n",
       "    }\n",
       "\n",
       "    .dataframe tbody tr th {\n",
       "        vertical-align: top;\n",
       "    }\n",
       "\n",
       "    .dataframe thead th {\n",
       "        text-align: right;\n",
       "    }\n",
       "</style>\n",
       "<table border=\"1\" class=\"dataframe\">\n",
       "  <thead>\n",
       "    <tr style=\"text-align: right;\">\n",
       "      <th></th>\n",
       "      <th>phonetic</th>\n",
       "      <th>err</th>\n",
       "    </tr>\n",
       "  </thead>\n",
       "  <tbody>\n",
       "    <tr>\n",
       "      <th>192</th>\n",
       "      <td>A</td>\n",
       "      <td>0.039040</td>\n",
       "    </tr>\n",
       "    <tr>\n",
       "      <th>4633</th>\n",
       "      <td>Q</td>\n",
       "      <td>0.042389</td>\n",
       "    </tr>\n",
       "    <tr>\n",
       "      <th>10310</th>\n",
       "      <td>A</td>\n",
       "      <td>0.043910</td>\n",
       "    </tr>\n",
       "    <tr>\n",
       "      <th>3107</th>\n",
       "      <td>A</td>\n",
       "      <td>0.045392</td>\n",
       "    </tr>\n",
       "    <tr>\n",
       "      <th>6532</th>\n",
       "      <td>a</td>\n",
       "      <td>0.045756</td>\n",
       "    </tr>\n",
       "    <tr>\n",
       "      <th>...</th>\n",
       "      <td>...</td>\n",
       "      <td>...</td>\n",
       "    </tr>\n",
       "    <tr>\n",
       "      <th>1190</th>\n",
       "      <td>9</td>\n",
       "      <td>0.722524</td>\n",
       "    </tr>\n",
       "    <tr>\n",
       "      <th>7173</th>\n",
       "      <td>&amp;</td>\n",
       "      <td>0.731410</td>\n",
       "    </tr>\n",
       "    <tr>\n",
       "      <th>575</th>\n",
       "      <td>7</td>\n",
       "      <td>0.732977</td>\n",
       "    </tr>\n",
       "    <tr>\n",
       "      <th>2917</th>\n",
       "      <td>&amp;</td>\n",
       "      <td>0.733672</td>\n",
       "    </tr>\n",
       "    <tr>\n",
       "      <th>7108</th>\n",
       "      <td>&amp;</td>\n",
       "      <td>0.782027</td>\n",
       "    </tr>\n",
       "  </tbody>\n",
       "</table>\n",
       "<p>12092 rows × 2 columns</p>\n",
       "</div>"
      ],
      "text/plain": [
       "      phonetic       err\n",
       "192          A  0.039040\n",
       "4633         Q  0.042389\n",
       "10310        A  0.043910\n",
       "3107         A  0.045392\n",
       "6532         a  0.045756\n",
       "...        ...       ...\n",
       "1190         9  0.722524\n",
       "7173         &  0.731410\n",
       "575          7  0.732977\n",
       "2917         &  0.733672\n",
       "7108         &  0.782027\n",
       "\n",
       "[12092 rows x 2 columns]"
      ]
     },
     "execution_count": 45,
     "metadata": {},
     "output_type": "execute_result"
    }
   ],
   "source": [
    "err_df.sort_values('err')"
   ]
  },
  {
   "cell_type": "code",
   "execution_count": 46,
   "metadata": {},
   "outputs": [
    {
     "data": {
      "text/plain": [
       "array([[<matplotlib.axes._subplots.AxesSubplot object at 0x00000152CF5EFB70>]],\n",
       "      dtype=object)"
      ]
     },
     "execution_count": 46,
     "metadata": {},
     "output_type": "execute_result"
    },
    {
     "data": {
      "image/png": "[encoded data removed]",
      "text/plain": [
       "<Figure size 432x288 with 1 Axes>"
      ]
     },
     "metadata": {
      "needs_background": "light"
     },
     "output_type": "display_data"
    }
   ],
   "source": [
    "err_df.hist('err')"
   ]
  },
  {
   "cell_type": "code",
   "execution_count": 47,
   "metadata": {},
   "outputs": [],
   "source": [
    "err_df_high = err_df[err_df['err'] > 0.15]"
   ]
  },
  {
   "cell_type": "code",
   "execution_count": 48,
   "metadata": {},
   "outputs": [
    {
     "data": {
      "text/html": [
       "<div>\n",
       "<style scoped>\n",
       "    .dataframe tbody tr th:only-of-type {\n",
       "        vertical-align: middle;\n",
       "    }\n",
       "\n",
       "    .dataframe tbody tr th {\n",
       "        vertical-align: top;\n",
       "    }\n",
       "\n",
       "    .dataframe thead th {\n",
       "        text-align: right;\n",
       "    }\n",
       "</style>\n",
       "<table border=\"1\" class=\"dataframe\">\n",
       "  <thead>\n",
       "    <tr style=\"text-align: right;\">\n",
       "      <th></th>\n",
       "      <th>phonetic</th>\n",
       "      <th>err</th>\n",
       "    </tr>\n",
       "  </thead>\n",
       "  <tbody>\n",
       "    <tr>\n",
       "      <th>5</th>\n",
       "      <td>&amp;</td>\n",
       "      <td>0.297255</td>\n",
       "    </tr>\n",
       "    <tr>\n",
       "      <th>6</th>\n",
       "      <td>e</td>\n",
       "      <td>0.155565</td>\n",
       "    </tr>\n",
       "    <tr>\n",
       "      <th>10</th>\n",
       "      <td>e</td>\n",
       "      <td>0.170402</td>\n",
       "    </tr>\n",
       "    <tr>\n",
       "      <th>13</th>\n",
       "      <td>&amp;</td>\n",
       "      <td>0.151975</td>\n",
       "    </tr>\n",
       "    <tr>\n",
       "      <th>15</th>\n",
       "      <td>&amp;</td>\n",
       "      <td>0.351055</td>\n",
       "    </tr>\n",
       "  </tbody>\n",
       "</table>\n",
       "</div>"
      ],
      "text/plain": [
       "   phonetic       err\n",
       "5         &  0.297255\n",
       "6         e  0.155565\n",
       "10        e  0.170402\n",
       "13        &  0.151975\n",
       "15        &  0.351055"
      ]
     },
     "execution_count": 48,
     "metadata": {},
     "output_type": "execute_result"
    }
   ],
   "source": [
    "err_df_high.head()"
   ]
  },
  {
   "cell_type": "code",
   "execution_count": 49,
   "metadata": {},
   "outputs": [
    {
     "data": {
      "text/plain": [
       "<matplotlib.axes._subplots.AxesSubplot at 0x152cf919208>"
      ]
     },
     "execution_count": 49,
     "metadata": {},
     "output_type": "execute_result"
    },
    {
     "data": {
      "image/png": "[encoded data removed]",
      "text/plain": [
       "<Figure size 432x288 with 1 Axes>"
      ]
     },
     "metadata": {
      "needs_background": "light"
     },
     "output_type": "display_data"
    }
   ],
   "source": [
    "err_df[err_df['err'] > 0.5].groupby('phonetic')['phonetic'].count().sort_values(ascending=False).plot.bar()"
   ]
  },
  {
   "cell_type": "code",
   "execution_count": 50,
   "metadata": {},
   "outputs": [
    {
     "data": {
      "text/plain": [
       "phonetic\n",
       "&     209\n",
       "2     150\n",
       "7     371\n",
       "9     251\n",
       "@     196\n",
       "A     126\n",
       "E     189\n",
       "E:    186\n",
       "M     196\n",
       "O     227\n",
       "Q     267\n",
       "U     235\n",
       "V     298\n",
       "a     198\n",
       "e     252\n",
       "i     279\n",
       "o     186\n",
       "u     197\n",
       "y     196\n",
       "Name: phonetic, dtype: int64"
      ]
     },
     "execution_count": 50,
     "metadata": {},
     "output_type": "execute_result"
    }
   ],
   "source": [
    "err_df_high.groupby('phonetic')['phonetic'].count()"
   ]
  },
  {
   "cell_type": "markdown",
   "metadata": {},
   "source": [
    "## Evaluate each param of each row"
   ]
  },
  {
   "cell_type": "code",
   "execution_count": 51,
   "metadata": {},
   "outputs": [],
   "source": [
    "se = compute_se(y_test,y_pred)\n",
    "errs = compute_rmse(y_test,y_pred, axis=1)"
   ]
  },
  {
   "cell_type": "code",
   "execution_count": 52,
   "metadata": {},
   "outputs": [],
   "source": [
    "df_se = pd.DataFrame(se, columns=[\"HX\",\"HY\",\"JA\",\"LP\",\"LD\",\"VS\",\"VO\",\"TCX\",\"TCY\",\"TTX\",\"TTY\",\"TBX\",\"TBY\",\"TS1\",\"TS2\",\"TS3\",\"TS4\"])"
   ]
  },
  {
   "cell_type": "code",
   "execution_count": 53,
   "metadata": {},
   "outputs": [],
   "source": [
    "df_se['phonetic'] = z_test\n",
    "df_se['mean_err'] = errs\n",
    "df_se['audio'] = a_test"
   ]
  },
  {
   "cell_type": "code",
   "execution_count": 54,
   "metadata": {},
   "outputs": [
    {
     "data": {
      "text/html": [
       "<div>\n",
       "<style scoped>\n",
       "    .dataframe tbody tr th:only-of-type {\n",
       "        vertical-align: middle;\n",
       "    }\n",
       "\n",
       "    .dataframe tbody tr th {\n",
       "        vertical-align: top;\n",
       "    }\n",
       "\n",
       "    .dataframe thead th {\n",
       "        text-align: right;\n",
       "    }\n",
       "</style>\n",
       "<table border=\"1\" class=\"dataframe\">\n",
       "  <thead>\n",
       "    <tr style=\"text-align: right;\">\n",
       "      <th></th>\n",
       "      <th>HX</th>\n",
       "      <th>HY</th>\n",
       "      <th>JA</th>\n",
       "      <th>LP</th>\n",
       "      <th>LD</th>\n",
       "      <th>VS</th>\n",
       "      <th>VO</th>\n",
       "      <th>TCX</th>\n",
       "      <th>TCY</th>\n",
       "      <th>TTX</th>\n",
       "      <th>TTY</th>\n",
       "      <th>TBX</th>\n",
       "      <th>TBY</th>\n",
       "      <th>TS1</th>\n",
       "      <th>TS2</th>\n",
       "      <th>TS3</th>\n",
       "      <th>TS4</th>\n",
       "      <th>phonetic</th>\n",
       "      <th>mean_err</th>\n",
       "      <th>audio</th>\n",
       "    </tr>\n",
       "  </thead>\n",
       "  <tbody>\n",
       "    <tr>\n",
       "      <th>0</th>\n",
       "      <td>0.013928</td>\n",
       "      <td>0.034768</td>\n",
       "      <td>0.057325</td>\n",
       "      <td>0.061897</td>\n",
       "      <td>0.008357</td>\n",
       "      <td>0.327412</td>\n",
       "      <td>0.306621</td>\n",
       "      <td>0.075086</td>\n",
       "      <td>0.125826</td>\n",
       "      <td>0.061458</td>\n",
       "      <td>0.021835</td>\n",
       "      <td>0.070493</td>\n",
       "      <td>0.207759</td>\n",
       "      <td>0.181334</td>\n",
       "      <td>0.072151</td>\n",
       "      <td>0.126017</td>\n",
       "      <td>0.004179</td>\n",
       "      <td>2</td>\n",
       "      <td>0.140931</td>\n",
       "      <td>[0.03047676, 0.02607328, 0.02177687, 0.0147435...</td>\n",
       "    </tr>\n",
       "    <tr>\n",
       "      <th>1</th>\n",
       "      <td>0.223792</td>\n",
       "      <td>0.053807</td>\n",
       "      <td>0.049493</td>\n",
       "      <td>0.078881</td>\n",
       "      <td>0.108626</td>\n",
       "      <td>0.269052</td>\n",
       "      <td>0.055595</td>\n",
       "      <td>0.094974</td>\n",
       "      <td>0.136904</td>\n",
       "      <td>0.008289</td>\n",
       "      <td>0.070980</td>\n",
       "      <td>0.077523</td>\n",
       "      <td>0.016608</td>\n",
       "      <td>0.100532</td>\n",
       "      <td>0.067455</td>\n",
       "      <td>0.007944</td>\n",
       "      <td>0.058322</td>\n",
       "      <td>2</td>\n",
       "      <td>0.110135</td>\n",
       "      <td>[0.0, 0.0, 0.0, 0.0, 0.0, 0.0, 0.0, 0.0, 0.0, ...</td>\n",
       "    </tr>\n",
       "    <tr>\n",
       "      <th>2</th>\n",
       "      <td>0.039658</td>\n",
       "      <td>0.041555</td>\n",
       "      <td>0.150124</td>\n",
       "      <td>0.054038</td>\n",
       "      <td>0.123018</td>\n",
       "      <td>0.113912</td>\n",
       "      <td>0.215230</td>\n",
       "      <td>0.031136</td>\n",
       "      <td>0.035159</td>\n",
       "      <td>0.039267</td>\n",
       "      <td>0.114198</td>\n",
       "      <td>0.062079</td>\n",
       "      <td>0.057162</td>\n",
       "      <td>0.155818</td>\n",
       "      <td>0.053354</td>\n",
       "      <td>0.049998</td>\n",
       "      <td>0.080367</td>\n",
       "      <td>O</td>\n",
       "      <td>0.097975</td>\n",
       "      <td>[0.016970541, 0.026040426, 0.33393437, 0.07212...</td>\n",
       "    </tr>\n",
       "    <tr>\n",
       "      <th>3</th>\n",
       "      <td>0.088391</td>\n",
       "      <td>0.018826</td>\n",
       "      <td>0.017995</td>\n",
       "      <td>0.279035</td>\n",
       "      <td>0.158209</td>\n",
       "      <td>0.025643</td>\n",
       "      <td>0.076012</td>\n",
       "      <td>0.002740</td>\n",
       "      <td>0.013970</td>\n",
       "      <td>0.099198</td>\n",
       "      <td>0.059670</td>\n",
       "      <td>0.124889</td>\n",
       "      <td>0.001723</td>\n",
       "      <td>0.041424</td>\n",
       "      <td>0.080630</td>\n",
       "      <td>0.010610</td>\n",
       "      <td>0.024136</td>\n",
       "      <td>i</td>\n",
       "      <td>0.095773</td>\n",
       "      <td>[0.0, 0.0, 0.0, 0.0, 0.0, 0.0, 0.0, 0.0, 0.0, ...</td>\n",
       "    </tr>\n",
       "    <tr>\n",
       "      <th>4</th>\n",
       "      <td>0.163511</td>\n",
       "      <td>0.085784</td>\n",
       "      <td>0.005386</td>\n",
       "      <td>0.010458</td>\n",
       "      <td>0.211310</td>\n",
       "      <td>0.054206</td>\n",
       "      <td>0.011667</td>\n",
       "      <td>0.022072</td>\n",
       "      <td>0.011920</td>\n",
       "      <td>0.023298</td>\n",
       "      <td>0.459579</td>\n",
       "      <td>0.101888</td>\n",
       "      <td>0.199704</td>\n",
       "      <td>0.094994</td>\n",
       "      <td>0.001859</td>\n",
       "      <td>0.016301</td>\n",
       "      <td>0.075792</td>\n",
       "      <td>Q</td>\n",
       "      <td>0.145450</td>\n",
       "      <td>[0.0, 0.0, 0.0, 0.0, 0.0, 0.0, 0.0, 0.0, 0.0, ...</td>\n",
       "    </tr>\n",
       "  </tbody>\n",
       "</table>\n",
       "</div>"
      ],
      "text/plain": [
       "         HX        HY        JA        LP        LD        VS        VO  \\\n",
       "0  0.013928  0.034768  0.057325  0.061897  0.008357  0.327412  0.306621   \n",
       "1  0.223792  0.053807  0.049493  0.078881  0.108626  0.269052  0.055595   \n",
       "2  0.039658  0.041555  0.150124  0.054038  0.123018  0.113912  0.215230   \n",
       "3  0.088391  0.018826  0.017995  0.279035  0.158209  0.025643  0.076012   \n",
       "4  0.163511  0.085784  0.005386  0.010458  0.211310  0.054206  0.011667   \n",
       "\n",
       "        TCX       TCY       TTX       TTY       TBX       TBY       TS1  \\\n",
       "0  0.075086  0.125826  0.061458  0.021835  0.070493  0.207759  0.181334   \n",
       "1  0.094974  0.136904  0.008289  0.070980  0.077523  0.016608  0.100532   \n",
       "2  0.031136  0.035159  0.039267  0.114198  0.062079  0.057162  0.155818   \n",
       "3  0.002740  0.013970  0.099198  0.059670  0.124889  0.001723  0.041424   \n",
       "4  0.022072  0.011920  0.023298  0.459579  0.101888  0.199704  0.094994   \n",
       "\n",
       "        TS2       TS3       TS4 phonetic  mean_err  \\\n",
       "0  0.072151  0.126017  0.004179        2  0.140931   \n",
       "1  0.067455  0.007944  0.058322        2  0.110135   \n",
       "2  0.053354  0.049998  0.080367        O  0.097975   \n",
       "3  0.080630  0.010610  0.024136        i  0.095773   \n",
       "4  0.001859  0.016301  0.075792        Q  0.145450   \n",
       "\n",
       "                                               audio  \n",
       "0  [0.03047676, 0.02607328, 0.02177687, 0.0147435...  \n",
       "1  [0.0, 0.0, 0.0, 0.0, 0.0, 0.0, 0.0, 0.0, 0.0, ...  \n",
       "2  [0.016970541, 0.026040426, 0.33393437, 0.07212...  \n",
       "3  [0.0, 0.0, 0.0, 0.0, 0.0, 0.0, 0.0, 0.0, 0.0, ...  \n",
       "4  [0.0, 0.0, 0.0, 0.0, 0.0, 0.0, 0.0, 0.0, 0.0, ...  "
      ]
     },
     "execution_count": 54,
     "metadata": {},
     "output_type": "execute_result"
    }
   ],
   "source": [
    "df_se.head()"
   ]
  },
  {
   "cell_type": "code",
   "execution_count": 55,
   "metadata": {},
   "outputs": [
    {
     "data": {
      "text/plain": [
       "<matplotlib.axes._subplots.AxesSubplot at 0x152cfa0d358>"
      ]
     },
     "execution_count": 55,
     "metadata": {},
     "output_type": "execute_result"
    },
    {
     "data": {
      "image/png": "[encoded data removed]",
      "text/plain": [
       "<Figure size 432x288 with 1 Axes>"
      ]
     },
     "metadata": {
      "needs_background": "light"
     },
     "output_type": "display_data"
    }
   ],
   "source": [
    "df_se[(df_se['phonetic'] == '7') & (df_se['mean_err'] > 0.5)]['TS4'].plot.hist()"
   ]
  },
  {
   "cell_type": "markdown",
   "metadata": {},
   "source": [
    "## EDA audio of testing data "
   ]
  },
  {
   "cell_type": "code",
   "execution_count": 56,
   "metadata": {},
   "outputs": [],
   "source": [
    "df_se_sort = df_se.sort_values('mean_err',ascending=False)\n",
    "df_se_sort.reset_index(drop=True, inplace=True)"
   ]
  },
  {
   "cell_type": "code",
   "execution_count": 57,
   "metadata": {},
   "outputs": [
    {
     "data": {
      "text/html": [
       "<div>\n",
       "<style scoped>\n",
       "    .dataframe tbody tr th:only-of-type {\n",
       "        vertical-align: middle;\n",
       "    }\n",
       "\n",
       "    .dataframe tbody tr th {\n",
       "        vertical-align: top;\n",
       "    }\n",
       "\n",
       "    .dataframe thead th {\n",
       "        text-align: right;\n",
       "    }\n",
       "</style>\n",
       "<table border=\"1\" class=\"dataframe\">\n",
       "  <thead>\n",
       "    <tr style=\"text-align: right;\">\n",
       "      <th></th>\n",
       "      <th>HX</th>\n",
       "      <th>HY</th>\n",
       "      <th>JA</th>\n",
       "      <th>LP</th>\n",
       "      <th>LD</th>\n",
       "      <th>VS</th>\n",
       "      <th>VO</th>\n",
       "      <th>TCX</th>\n",
       "      <th>TCY</th>\n",
       "      <th>TTX</th>\n",
       "      <th>TTY</th>\n",
       "      <th>TBX</th>\n",
       "      <th>TBY</th>\n",
       "      <th>TS1</th>\n",
       "      <th>TS2</th>\n",
       "      <th>TS3</th>\n",
       "      <th>TS4</th>\n",
       "      <th>phonetic</th>\n",
       "      <th>mean_err</th>\n",
       "      <th>audio</th>\n",
       "    </tr>\n",
       "  </thead>\n",
       "  <tbody>\n",
       "    <tr>\n",
       "      <th>0</th>\n",
       "      <td>0.710753</td>\n",
       "      <td>0.587594</td>\n",
       "      <td>0.369504</td>\n",
       "      <td>0.398695</td>\n",
       "      <td>0.996962</td>\n",
       "      <td>1.269399</td>\n",
       "      <td>1.233598</td>\n",
       "      <td>0.009169</td>\n",
       "      <td>0.690211</td>\n",
       "      <td>0.210949</td>\n",
       "      <td>0.143965</td>\n",
       "      <td>0.920339</td>\n",
       "      <td>0.704394</td>\n",
       "      <td>1.327637</td>\n",
       "      <td>0.541208</td>\n",
       "      <td>0.932953</td>\n",
       "      <td>0.559281</td>\n",
       "      <td>&amp;</td>\n",
       "      <td>0.782027</td>\n",
       "      <td>[0.052336212, 0.049636144, 0.054873876, 0.0609...</td>\n",
       "    </tr>\n",
       "    <tr>\n",
       "      <th>1</th>\n",
       "      <td>0.712101</td>\n",
       "      <td>0.305774</td>\n",
       "      <td>0.352733</td>\n",
       "      <td>0.166203</td>\n",
       "      <td>0.803425</td>\n",
       "      <td>1.015350</td>\n",
       "      <td>1.234057</td>\n",
       "      <td>0.014962</td>\n",
       "      <td>0.723865</td>\n",
       "      <td>0.196452</td>\n",
       "      <td>0.166923</td>\n",
       "      <td>0.874803</td>\n",
       "      <td>0.414167</td>\n",
       "      <td>1.292014</td>\n",
       "      <td>0.863222</td>\n",
       "      <td>1.015473</td>\n",
       "      <td>0.474971</td>\n",
       "      <td>&amp;</td>\n",
       "      <td>0.733672</td>\n",
       "      <td>[0.0, 0.0, 0.0, 0.0, 0.0, 0.0, 0.0, 0.0, 0.0, ...</td>\n",
       "    </tr>\n",
       "    <tr>\n",
       "      <th>3</th>\n",
       "      <td>0.688856</td>\n",
       "      <td>0.072608</td>\n",
       "      <td>0.368708</td>\n",
       "      <td>0.405895</td>\n",
       "      <td>1.044679</td>\n",
       "      <td>0.812638</td>\n",
       "      <td>1.287480</td>\n",
       "      <td>0.015699</td>\n",
       "      <td>0.640360</td>\n",
       "      <td>0.431142</td>\n",
       "      <td>0.135031</td>\n",
       "      <td>0.771422</td>\n",
       "      <td>0.571857</td>\n",
       "      <td>1.383786</td>\n",
       "      <td>0.823062</td>\n",
       "      <td>0.637546</td>\n",
       "      <td>0.607612</td>\n",
       "      <td>&amp;</td>\n",
       "      <td>0.731410</td>\n",
       "      <td>[0.0012514566, -0.00038389416, -0.001600003, -...</td>\n",
       "    </tr>\n",
       "    <tr>\n",
       "      <th>6</th>\n",
       "      <td>0.685121</td>\n",
       "      <td>0.173930</td>\n",
       "      <td>0.340893</td>\n",
       "      <td>0.263873</td>\n",
       "      <td>0.945189</td>\n",
       "      <td>1.246128</td>\n",
       "      <td>1.261761</td>\n",
       "      <td>0.034838</td>\n",
       "      <td>0.534414</td>\n",
       "      <td>0.322117</td>\n",
       "      <td>0.280611</td>\n",
       "      <td>0.682158</td>\n",
       "      <td>0.407848</td>\n",
       "      <td>1.073195</td>\n",
       "      <td>0.853633</td>\n",
       "      <td>0.618489</td>\n",
       "      <td>0.485611</td>\n",
       "      <td>&amp;</td>\n",
       "      <td>0.699727</td>\n",
       "      <td>[0.0, 0.0, 0.0, 0.0, 0.0, 0.0, 0.0, 0.0, 0.0, ...</td>\n",
       "    </tr>\n",
       "    <tr>\n",
       "      <th>8</th>\n",
       "      <td>0.686499</td>\n",
       "      <td>0.320386</td>\n",
       "      <td>0.279341</td>\n",
       "      <td>0.169526</td>\n",
       "      <td>0.744595</td>\n",
       "      <td>1.223197</td>\n",
       "      <td>0.968626</td>\n",
       "      <td>0.043615</td>\n",
       "      <td>0.538692</td>\n",
       "      <td>0.319012</td>\n",
       "      <td>0.099576</td>\n",
       "      <td>0.760214</td>\n",
       "      <td>0.480990</td>\n",
       "      <td>1.173229</td>\n",
       "      <td>0.867032</td>\n",
       "      <td>0.844318</td>\n",
       "      <td>0.408873</td>\n",
       "      <td>&amp;</td>\n",
       "      <td>0.681300</td>\n",
       "      <td>[0.0, 0.0, 0.0, 0.0, 0.0, 0.0, 0.0, 0.0, 0.0, ...</td>\n",
       "    </tr>\n",
       "  </tbody>\n",
       "</table>\n",
       "</div>"
      ],
      "text/plain": [
       "         HX        HY        JA        LP        LD        VS        VO  \\\n",
       "0  0.710753  0.587594  0.369504  0.398695  0.996962  1.269399  1.233598   \n",
       "1  0.712101  0.305774  0.352733  0.166203  0.803425  1.015350  1.234057   \n",
       "3  0.688856  0.072608  0.368708  0.405895  1.044679  0.812638  1.287480   \n",
       "6  0.685121  0.173930  0.340893  0.263873  0.945189  1.246128  1.261761   \n",
       "8  0.686499  0.320386  0.279341  0.169526  0.744595  1.223197  0.968626   \n",
       "\n",
       "        TCX       TCY       TTX       TTY       TBX       TBY       TS1  \\\n",
       "0  0.009169  0.690211  0.210949  0.143965  0.920339  0.704394  1.327637   \n",
       "1  0.014962  0.723865  0.196452  0.166923  0.874803  0.414167  1.292014   \n",
       "3  0.015699  0.640360  0.431142  0.135031  0.771422  0.571857  1.383786   \n",
       "6  0.034838  0.534414  0.322117  0.280611  0.682158  0.407848  1.073195   \n",
       "8  0.043615  0.538692  0.319012  0.099576  0.760214  0.480990  1.173229   \n",
       "\n",
       "        TS2       TS3       TS4 phonetic  mean_err  \\\n",
       "0  0.541208  0.932953  0.559281        &  0.782027   \n",
       "1  0.863222  1.015473  0.474971        &  0.733672   \n",
       "3  0.823062  0.637546  0.607612        &  0.731410   \n",
       "6  0.853633  0.618489  0.485611        &  0.699727   \n",
       "8  0.867032  0.844318  0.408873        &  0.681300   \n",
       "\n",
       "                                               audio  \n",
       "0  [0.052336212, 0.049636144, 0.054873876, 0.0609...  \n",
       "1  [0.0, 0.0, 0.0, 0.0, 0.0, 0.0, 0.0, 0.0, 0.0, ...  \n",
       "3  [0.0012514566, -0.00038389416, -0.001600003, -...  \n",
       "6  [0.0, 0.0, 0.0, 0.0, 0.0, 0.0, 0.0, 0.0, 0.0, ...  \n",
       "8  [0.0, 0.0, 0.0, 0.0, 0.0, 0.0, 0.0, 0.0, 0.0, ...  "
      ]
     },
     "execution_count": 57,
     "metadata": {},
     "output_type": "execute_result"
    }
   ],
   "source": [
    "df_se_sort[df_se_sort['phonetic'] == '&'].head(n=5)"
   ]
  },
  {
   "cell_type": "code",
   "execution_count": 58,
   "metadata": {},
   "outputs": [
    {
     "data": {
      "text/html": [
       "\n",
       "                <audio  controls=\"controls\" >\n",
       "                    <source src=\"data:audio/wav;base64,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\" type=\"audio/wav\" />\n",
       "                    Your browser does not support the audio element.\n",
       "                </audio>\n",
       "              "
      ],
      "text/plain": [
       "<IPython.lib.display.Audio object>"
      ]
     },
     "execution_count": 58,
     "metadata": {},
     "output_type": "execute_result"
    }
   ],
   "source": [
    "Audio(df_se_sort['audio'][0], rate=16000)"
   ]
  },
  {
   "cell_type": "code",
   "execution_count": 59,
   "metadata": {},
   "outputs": [
    {
     "data": {
      "text/html": [
       "<div>\n",
       "<style scoped>\n",
       "    .dataframe tbody tr th:only-of-type {\n",
       "        vertical-align: middle;\n",
       "    }\n",
       "\n",
       "    .dataframe tbody tr th {\n",
       "        vertical-align: top;\n",
       "    }\n",
       "\n",
       "    .dataframe thead th {\n",
       "        text-align: right;\n",
       "    }\n",
       "</style>\n",
       "<table border=\"1\" class=\"dataframe\">\n",
       "  <thead>\n",
       "    <tr style=\"text-align: right;\">\n",
       "      <th></th>\n",
       "      <th>HX</th>\n",
       "      <th>HY</th>\n",
       "      <th>JA</th>\n",
       "      <th>LP</th>\n",
       "      <th>LD</th>\n",
       "      <th>VS</th>\n",
       "      <th>VO</th>\n",
       "      <th>TCX</th>\n",
       "      <th>TCY</th>\n",
       "      <th>TTX</th>\n",
       "      <th>TTY</th>\n",
       "      <th>TBX</th>\n",
       "      <th>TBY</th>\n",
       "      <th>TS1</th>\n",
       "      <th>TS2</th>\n",
       "      <th>TS3</th>\n",
       "      <th>TS4</th>\n",
       "      <th>phonetic</th>\n",
       "      <th>mean_err</th>\n",
       "      <th>audio</th>\n",
       "    </tr>\n",
       "  </thead>\n",
       "  <tbody>\n",
       "    <tr>\n",
       "      <th>12018</th>\n",
       "      <td>0.026014</td>\n",
       "      <td>0.077944</td>\n",
       "      <td>0.070249</td>\n",
       "      <td>0.134137</td>\n",
       "      <td>0.001800</td>\n",
       "      <td>0.066682</td>\n",
       "      <td>0.002853</td>\n",
       "      <td>0.027363</td>\n",
       "      <td>0.030012</td>\n",
       "      <td>0.025399</td>\n",
       "      <td>0.033139</td>\n",
       "      <td>0.005343</td>\n",
       "      <td>0.057140</td>\n",
       "      <td>0.110335</td>\n",
       "      <td>0.024621</td>\n",
       "      <td>0.081993</td>\n",
       "      <td>0.011631</td>\n",
       "      <td>&amp;</td>\n",
       "      <td>0.059637</td>\n",
       "      <td>[0.0, 0.0, 0.0, 0.0, 0.0, 0.0, 0.0, 0.0, 0.0, ...</td>\n",
       "    </tr>\n",
       "    <tr>\n",
       "      <th>12047</th>\n",
       "      <td>0.110425</td>\n",
       "      <td>0.028072</td>\n",
       "      <td>0.114689</td>\n",
       "      <td>0.089873</td>\n",
       "      <td>0.034710</td>\n",
       "      <td>0.055709</td>\n",
       "      <td>0.006648</td>\n",
       "      <td>0.017717</td>\n",
       "      <td>0.009406</td>\n",
       "      <td>0.040349</td>\n",
       "      <td>0.057743</td>\n",
       "      <td>0.000390</td>\n",
       "      <td>0.078181</td>\n",
       "      <td>0.052768</td>\n",
       "      <td>0.027665</td>\n",
       "      <td>0.002817</td>\n",
       "      <td>0.015793</td>\n",
       "      <td>&amp;</td>\n",
       "      <td>0.056281</td>\n",
       "      <td>[0.0, 0.0, 0.0, 0.0, 0.0, 0.0, 0.0, 0.0, 0.0, ...</td>\n",
       "    </tr>\n",
       "    <tr>\n",
       "      <th>12053</th>\n",
       "      <td>0.047034</td>\n",
       "      <td>0.055303</td>\n",
       "      <td>0.102388</td>\n",
       "      <td>0.007499</td>\n",
       "      <td>0.030418</td>\n",
       "      <td>0.052109</td>\n",
       "      <td>0.023194</td>\n",
       "      <td>0.041007</td>\n",
       "      <td>0.017608</td>\n",
       "      <td>0.043595</td>\n",
       "      <td>0.023204</td>\n",
       "      <td>0.073937</td>\n",
       "      <td>0.051734</td>\n",
       "      <td>0.112092</td>\n",
       "      <td>0.067809</td>\n",
       "      <td>0.047360</td>\n",
       "      <td>0.021625</td>\n",
       "      <td>&amp;</td>\n",
       "      <td>0.055538</td>\n",
       "      <td>[0.0, 0.0, 0.0, 0.0, 0.0, 0.0, 0.0, 0.0, 0.0, ...</td>\n",
       "    </tr>\n",
       "    <tr>\n",
       "      <th>12074</th>\n",
       "      <td>0.109885</td>\n",
       "      <td>0.000068</td>\n",
       "      <td>0.065281</td>\n",
       "      <td>0.008221</td>\n",
       "      <td>0.076719</td>\n",
       "      <td>0.091554</td>\n",
       "      <td>0.010259</td>\n",
       "      <td>0.024032</td>\n",
       "      <td>0.006307</td>\n",
       "      <td>0.061694</td>\n",
       "      <td>0.026769</td>\n",
       "      <td>0.007651</td>\n",
       "      <td>0.031000</td>\n",
       "      <td>0.067899</td>\n",
       "      <td>0.045695</td>\n",
       "      <td>0.033716</td>\n",
       "      <td>0.002067</td>\n",
       "      <td>&amp;</td>\n",
       "      <td>0.051321</td>\n",
       "      <td>[-0.024614912, -0.027256025, -0.0038479252, 0....</td>\n",
       "    </tr>\n",
       "    <tr>\n",
       "      <th>12083</th>\n",
       "      <td>0.001166</td>\n",
       "      <td>0.044024</td>\n",
       "      <td>0.064616</td>\n",
       "      <td>0.004200</td>\n",
       "      <td>0.064010</td>\n",
       "      <td>0.087467</td>\n",
       "      <td>0.002739</td>\n",
       "      <td>0.049409</td>\n",
       "      <td>0.039001</td>\n",
       "      <td>0.040528</td>\n",
       "      <td>0.003892</td>\n",
       "      <td>0.049076</td>\n",
       "      <td>0.006176</td>\n",
       "      <td>0.083561</td>\n",
       "      <td>0.061314</td>\n",
       "      <td>0.042373</td>\n",
       "      <td>0.031856</td>\n",
       "      <td>&amp;</td>\n",
       "      <td>0.048207</td>\n",
       "      <td>[-0.009346896, -0.014247213, -0.01946641, -0.0...</td>\n",
       "    </tr>\n",
       "  </tbody>\n",
       "</table>\n",
       "</div>"
      ],
      "text/plain": [
       "             HX        HY        JA        LP        LD        VS        VO  \\\n",
       "12018  0.026014  0.077944  0.070249  0.134137  0.001800  0.066682  0.002853   \n",
       "12047  0.110425  0.028072  0.114689  0.089873  0.034710  0.055709  0.006648   \n",
       "12053  0.047034  0.055303  0.102388  0.007499  0.030418  0.052109  0.023194   \n",
       "12074  0.109885  0.000068  0.065281  0.008221  0.076719  0.091554  0.010259   \n",
       "12083  0.001166  0.044024  0.064616  0.004200  0.064010  0.087467  0.002739   \n",
       "\n",
       "            TCX       TCY       TTX       TTY       TBX       TBY       TS1  \\\n",
       "12018  0.027363  0.030012  0.025399  0.033139  0.005343  0.057140  0.110335   \n",
       "12047  0.017717  0.009406  0.040349  0.057743  0.000390  0.078181  0.052768   \n",
       "12053  0.041007  0.017608  0.043595  0.023204  0.073937  0.051734  0.112092   \n",
       "12074  0.024032  0.006307  0.061694  0.026769  0.007651  0.031000  0.067899   \n",
       "12083  0.049409  0.039001  0.040528  0.003892  0.049076  0.006176  0.083561   \n",
       "\n",
       "            TS2       TS3       TS4 phonetic  mean_err  \\\n",
       "12018  0.024621  0.081993  0.011631        &  0.059637   \n",
       "12047  0.027665  0.002817  0.015793        &  0.056281   \n",
       "12053  0.067809  0.047360  0.021625        &  0.055538   \n",
       "12074  0.045695  0.033716  0.002067        &  0.051321   \n",
       "12083  0.061314  0.042373  0.031856        &  0.048207   \n",
       "\n",
       "                                                   audio  \n",
       "12018  [0.0, 0.0, 0.0, 0.0, 0.0, 0.0, 0.0, 0.0, 0.0, ...  \n",
       "12047  [0.0, 0.0, 0.0, 0.0, 0.0, 0.0, 0.0, 0.0, 0.0, ...  \n",
       "12053  [0.0, 0.0, 0.0, 0.0, 0.0, 0.0, 0.0, 0.0, 0.0, ...  \n",
       "12074  [-0.024614912, -0.027256025, -0.0038479252, 0....  \n",
       "12083  [-0.009346896, -0.014247213, -0.01946641, -0.0...  "
      ]
     },
     "execution_count": 59,
     "metadata": {},
     "output_type": "execute_result"
    }
   ],
   "source": [
    "df_se_sort[df_se_sort['phonetic'] == '&'].tail(n=5)"
   ]
  },
  {
   "cell_type": "code",
   "execution_count": 60,
   "metadata": {},
   "outputs": [
    {
     "data": {
      "text/html": [
       "\n",
       "                <audio  controls=\"controls\" >\n",
       "                    <source src=\"data:audio/wav;base64,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\" type=\"audio/wav\" />\n",
       "                    Your browser does not support the audio element.\n",
       "                </audio>\n",
       "              "
      ],
      "text/plain": [
       "<IPython.lib.display.Audio object>"
      ]
     },
     "execution_count": 60,
     "metadata": {},
     "output_type": "execute_result"
    }
   ],
   "source": [
    "Audio(df_se_sort['audio'][12073], rate=16000)"
   ]
  },
  {
   "cell_type": "code",
   "execution_count": null,
   "metadata": {},
   "outputs": [],
   "source": []
  }
 ],
 "metadata": {
  "kernelspec": {
   "display_name": "Python 3",
   "language": "python",
   "name": "python3"
  },
  "language_info": {
   "codemirror_mode": {
    "name": "ipython",
    "version": 3
   },
   "file_extension": ".py",
   "mimetype": "text/x-python",
   "name": "python",
   "nbconvert_exporter": "python",
   "pygments_lexer": "ipython3",
   "version": "3.6.10"
  }
 },
 "nbformat": 4,
 "nbformat_minor": 4
}
