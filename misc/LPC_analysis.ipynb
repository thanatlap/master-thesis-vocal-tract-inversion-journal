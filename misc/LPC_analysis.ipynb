{
 "cells": [
  {
   "cell_type": "code",
   "execution_count": 1,
   "metadata": {},
   "outputs": [],
   "source": [
    "import librosa\n",
    "import numpy as np\n",
    "import pandas as pd\n",
    "import matplotlib.pyplot as plt\n",
    "import librosa.display\n",
    "from matplotlib import cm\n",
    "import seaborn as sns\n",
    "from functools import partial\n",
    "import sklearn\n",
    "from sklearn.decomposition import PCA\n",
    "from mpl_toolkits.mplot3d import Axes3D\n",
    "import ctypes\n",
    "from os import makedirs\n",
    "import os\n",
    "from os.path import join\n",
    "import shutil\n",
    "from IPython import display\n",
    "\n",
    "%matplotlib inline"
   ]
  },
  {
   "cell_type": "markdown",
   "metadata": {},
   "source": [
    "## Load Data "
   ]
  },
  {
   "cell_type": "code",
   "execution_count": 5,
   "metadata": {},
   "outputs": [],
   "source": [
    "def load_data(record_path, resyn_path):\n",
    "    \n",
    "    with open(join(record_path,'sound_set.txt'), 'r') as f:\n",
    "        data = np.array(f.read().split(','))\n",
    "    record_data = np.array([librosa.load(join(record_path, file+'.wav'), sr=16000)[0] for file in data])\n",
    "    resyn_data = np.array([librosa.load(join(resyn_path, 'sound{}.wav'.format(file)), sr=16000)[0] for file in range(81)])\n",
    "    \n",
    "    with open(join(record_path,'syllable_name.txt'), 'r') as f:\n",
    "        read_labels = np.array(f.read().split(','))\n",
    "    labels = np.concatenate([read_labels, read_labels], axis=0)\n",
    "    return record_data, resyn_data, labels"
   ]
  },
  {
   "cell_type": "code",
   "execution_count": 9,
   "metadata": {},
   "outputs": [],
   "source": [
    "RECORD_DATA = '../data/d_records/selected/'\n",
    "RESYN_DATA = '../experiment_2/result/predict_140_8/sound/'"
   ]
  },
  {
   "cell_type": "code",
   "execution_count": 10,
   "metadata": {},
   "outputs": [],
   "source": [
    "record_data, resyn_data, labels = load_data(RECORD_DATA, RESYN_DATA)"
   ]
  },
  {
   "cell_type": "code",
   "execution_count": null,
   "metadata": {},
   "outputs": [],
   "source": []
  }
 ],
 "metadata": {
  "kernelspec": {
   "display_name": "Python 3",
   "language": "python",
   "name": "python3"
  },
  "language_info": {
   "codemirror_mode": {
    "name": "ipython",
    "version": 3
   },
   "file_extension": ".py",
   "mimetype": "text/x-python",
   "name": "python",
   "nbconvert_exporter": "python",
   "pygments_lexer": "ipython3",
   "version": "3.6.10"
  }
 },
 "nbformat": 4,
 "nbformat_minor": 4
}
