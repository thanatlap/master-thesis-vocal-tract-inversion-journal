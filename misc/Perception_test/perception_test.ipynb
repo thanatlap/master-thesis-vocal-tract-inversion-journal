{
 "cells": [
  {
   "cell_type": "markdown",
   "metadata": {},
   "source": [
    "# Perception Test \n",
    "- Created 1 April 2020"
   ]
  },
  {
   "cell_type": "code",
   "execution_count": 28,
   "metadata": {},
   "outputs": [],
   "source": [
    "from __future__ import absolute_import, division, print_function, unicode_literals\n",
    "import numpy as np\n",
    "import pandas as pd\n",
    "import matplotlib.pyplot as plt\n",
    "from matplotlib import cm\n",
    "import os\n",
    "from os import makedirs\n",
    "from os.path import join\n",
    "import scipy\n",
    "\n",
    "import librosa"
   ]
  },
  {
   "cell_type": "markdown",
   "metadata": {},
   "source": [
    "## Load Speech & Label "
   ]
  },
  {
   "cell_type": "code",
   "execution_count": 40,
   "metadata": {},
   "outputs": [],
   "source": [
    "def load_data(record_path, resyn_path):\n",
    "    \n",
    "    with open(join(record_path,'sound_set.txt'), 'r') as f:\n",
    "        data = np.array(f.read().split(','))\n",
    "        \n",
    "    audio_data = np.array([librosa.load(join(resyn_path, 'sound{}.wav'.format(file)), sr=16000)[0] for file in range(81)])\n",
    "    with open(join(record_path,'syllable_name.txt'), 'r') as f:\n",
    "        labels = np.array(f.read().split(','))\n",
    "\n",
    "    return audio_data, labels"
   ]
  },
  {
   "cell_type": "code",
   "execution_count": 35,
   "metadata": {},
   "outputs": [],
   "source": [
    "audio_data, labels = load_data(RECORD_DATA, RESYN_DATA)"
   ]
  },
  {
   "cell_type": "code",
   "execution_count": 36,
   "metadata": {},
   "outputs": [
    {
     "name": "stdout",
     "output_type": "stream",
     "text": [
      "(162,)\n",
      "(162,)\n"
     ]
    }
   ],
   "source": [
    "print(audio_data.shape)\n",
    "print(labels.shape)"
   ]
  },
  {
   "cell_type": "markdown",
   "metadata": {},
   "source": [
    "## Shuffle Data"
   ]
  },
  {
   "cell_type": "code",
   "execution_count": 21,
   "metadata": {},
   "outputs": [],
   "source": [
    "def shuffle(audio_data, labels):\n",
    "\n",
    "    shuffle_idx = np.random.permutation(audio_data.shape[0])\n",
    "\n",
    "    audio_data_shuff = np.array([audio_data[i] for i in shuffle_idx])\n",
    "    labels_shuff = np.array([labels[i] for i in shuffle_idx])\n",
    "\n",
    "    return audio_data_shuff, labels_shuff, shuffle_idx"
   ]
  },
  {
   "cell_type": "markdown",
   "metadata": {},
   "source": [
    "## Created directory and export data"
   ]
  },
  {
   "cell_type": "code",
   "execution_count": 64,
   "metadata": {},
   "outputs": [],
   "source": [
    "def create_perception_set(audio_data, labels, idx):\n",
    "\n",
    "    folder = 'perception_set{}'.format(idx)\n",
    "    target_folder = 'target'\n",
    "    label = 'ans_set{}.csv'.format(idx)\n",
    "    form = 'form_set{}.csv'.format(idx)\n",
    "\n",
    "    audio_data, labels, _ = shuffle(audio_data, labels)\n",
    "    \n",
    "    makedirs(folder, exist_ok=True)\n",
    "    makedirs(target_folder, exist_ok=True)\n",
    "    pd.DataFrame(labels).to_csv(join(target_folder, label), header=None, index=None)\n",
    "    _ = [scipy.io.wavfile.write(join(folder,'sound{}.wav'.format(idx)), 16000, sig) for idx, sig in enumerate(audio_data)]\n",
    "    pd.DataFrame(np.array([['sound{}.wav'.format(idx),''] for idx, sig in enumerate(audio_data)]),\n",
    "                columns=['FILENAME', 'ANSWER']).to_csv(join(folder, form), index=None)"
   ]
  },
  {
   "cell_type": "code",
   "execution_count": 65,
   "metadata": {},
   "outputs": [],
   "source": [
    "create_perception_set(audio_data, labels, 1)"
   ]
  },
  {
   "cell_type": "markdown",
   "metadata": {},
   "source": [
    "## Run "
   ]
  },
  {
   "cell_type": "code",
   "execution_count": 66,
   "metadata": {},
   "outputs": [],
   "source": [
    "RECORD_DATA = '../../data/d_records/d_record_set_2/'\n",
    "RESYN_DATA = '../../experiment_2/result/predict_129_2/sound/'\n",
    "SET = 25"
   ]
  },
  {
   "cell_type": "code",
   "execution_count": 67,
   "metadata": {},
   "outputs": [],
   "source": [
    "audio_data, labels = load_data(RECORD_DATA, RESYN_DATA)"
   ]
  },
  {
   "cell_type": "code",
   "execution_count": null,
   "metadata": {},
   "outputs": [],
   "source": [
    "for idx in range(SET):\n",
    "    create_perception_set(audio_data, labels, idx)"
   ]
  },
  {
   "cell_type": "markdown",
   "metadata": {},
   "source": [
    "# Perception Analysis"
   ]
  },
  {
   "cell_type": "code",
   "execution_count": 106,
   "metadata": {},
   "outputs": [],
   "source": [
    "def transform_map(df, col=0):\n",
    "    df[col] = df[col].str.strip()\n",
    "    df[col] = df[col].str.replace('โอ','o')\n",
    "    df[col] = df[col].str.replace('ออ','O')\n",
    "    df[col] = df[col].str.replace('อา','a')\n",
    "    df[col] = df[col].str.replace('อี','i')\n",
    "    df[col] = df[col].str.replace('อู','u')\n",
    "    df[col] = df[col].str.replace('เอ','e')\n",
    "    df[col] = df[col].str.replace('แอ','E')\n",
    "    df[col] = df[col].str.replace('อือ','M')\n",
    "    df[col] = df[col].str.replace('เออ','7')\n",
    "    return df\n",
    "\n",
    "def inverse_transform_map(df, col=0):\n",
    "    df[col] = df[col].str.strip()\n",
    "    df[col] = df[col].str.replace('o','โอ')\n",
    "    df[col] = df[col].str.replace('O','ออ')\n",
    "    df[col] = df[col].str.replace('a','อา')\n",
    "    df[col] = df[col].str.replace('i','อี')\n",
    "    df[col] = df[col].str.replace('u','อู')\n",
    "    df[col] = df[col].str.replace('e','เอ')\n",
    "    df[col] = df[col].str.replace('E','แอ')\n",
    "    df[col] = df[col].str.replace('M','อือ')\n",
    "    df[col] = df[col].str.replace('7','เออ')\n",
    "    return df"
   ]
  },
  {
   "cell_type": "code",
   "execution_count": 68,
   "metadata": {},
   "outputs": [],
   "source": [
    "ANS_FILE = 'result'\n",
    "TARGET_FILE = 'target'\n",
    "SET = 3"
   ]
  },
  {
   "cell_type": "code",
   "execution_count": 121,
   "metadata": {},
   "outputs": [],
   "source": [
    "ans = pd.concat((pd.read_csv(join(ANS_FILE, 'form_set{}.csv'.format(idx))) for idx in range(SET))).reset_index(drop=True)\n",
    "target = pd.concat((pd.read_csv(join(TARGET_FILE, 'ans_set{}.csv'.format(idx)), header=None) for idx in range(SET))).reset_index(drop=True)"
   ]
  },
  {
   "cell_type": "code",
   "execution_count": 122,
   "metadata": {},
   "outputs": [],
   "source": [
    "ans_col = 'ANSWER'\n",
    "target_col = 0\n",
    "target = transform_map(target, col=target_col)\n",
    "ans = transform_map(ans, col=ans_col)"
   ]
  },
  {
   "cell_type": "code",
   "execution_count": 123,
   "metadata": {},
   "outputs": [],
   "source": [
    "data = np.concatenate([np.array([[i,idx, 1] for item in target[target_col].values.tolist() for idx,i in enumerate(item)]),np.array([ [i,idx, 0] for item in ans[ans_col].values.tolist() for idx, i in enumerate(item)])], axis=0)\n",
    "result = pd.DataFrame(data,columns=['phonetic', 'position', 'target'])\n",
    "result.to_csv('result.csv', index=None)"
   ]
  },
  {
   "cell_type": "code",
   "execution_count": 124,
   "metadata": {},
   "outputs": [
    {
     "data": {
      "text/html": [
       "<div>\n",
       "<style scoped>\n",
       "    .dataframe tbody tr th:only-of-type {\n",
       "        vertical-align: middle;\n",
       "    }\n",
       "\n",
       "    .dataframe tbody tr th {\n",
       "        vertical-align: top;\n",
       "    }\n",
       "\n",
       "    .dataframe thead th {\n",
       "        text-align: right;\n",
       "    }\n",
       "</style>\n",
       "<table border=\"1\" class=\"dataframe\">\n",
       "  <thead>\n",
       "    <tr style=\"text-align: right;\">\n",
       "      <th></th>\n",
       "      <th>phonetic</th>\n",
       "      <th>position</th>\n",
       "      <th>target</th>\n",
       "    </tr>\n",
       "  </thead>\n",
       "  <tbody>\n",
       "    <tr>\n",
       "      <th>0</th>\n",
       "      <td>u</td>\n",
       "      <td>0</td>\n",
       "      <td>1</td>\n",
       "    </tr>\n",
       "    <tr>\n",
       "      <th>1</th>\n",
       "      <td>M</td>\n",
       "      <td>1</td>\n",
       "      <td>1</td>\n",
       "    </tr>\n",
       "    <tr>\n",
       "      <th>2</th>\n",
       "      <td>E</td>\n",
       "      <td>0</td>\n",
       "      <td>1</td>\n",
       "    </tr>\n",
       "    <tr>\n",
       "      <th>3</th>\n",
       "      <td>M</td>\n",
       "      <td>1</td>\n",
       "      <td>1</td>\n",
       "    </tr>\n",
       "    <tr>\n",
       "      <th>4</th>\n",
       "      <td>O</td>\n",
       "      <td>0</td>\n",
       "      <td>1</td>\n",
       "    </tr>\n",
       "  </tbody>\n",
       "</table>\n",
       "</div>"
      ],
      "text/plain": [
       "  phonetic position target\n",
       "0        u        0      1\n",
       "1        M        1      1\n",
       "2        E        0      1\n",
       "3        M        1      1\n",
       "4        O        0      1"
      ]
     },
     "execution_count": 124,
     "metadata": {},
     "output_type": "execute_result"
    }
   ],
   "source": [
    "result.head()"
   ]
  },
  {
   "cell_type": "code",
   "execution_count": null,
   "metadata": {},
   "outputs": [],
   "source": []
  }
 ],
 "metadata": {
  "kernelspec": {
   "display_name": "Python 3",
   "language": "python",
   "name": "python3"
  },
  "language_info": {
   "codemirror_mode": {
    "name": "ipython",
    "version": 3
   },
   "file_extension": ".py",
   "mimetype": "text/x-python",
   "name": "python",
   "nbconvert_exporter": "python",
   "pygments_lexer": "ipython3",
   "version": "3.6.10"
  }
 },
 "nbformat": 4,
 "nbformat_minor": 4
}
