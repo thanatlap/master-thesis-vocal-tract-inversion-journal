{
 "cells": [
  {
   "cell_type": "code",
   "execution_count": 30,
   "metadata": {},
   "outputs": [],
   "source": [
    "from __future__ import absolute_import, division, print_function, unicode_literals\n",
    "import numpy as np\n",
    "from tensorflow.keras.datasets import boston_housing\n",
    "from tensorflow.keras.layers import Flatten, Dense\n",
    "from tensorflow.keras import models\n",
    "from tensorflow.keras import optimizers\n",
    "from tensorflow.keras import regularizers\n",
    "from tensorflow.keras import callbacks\n",
    "from tensorflow.keras import layers\n",
    "from tensorflow.keras import backend as K\n",
    "import tensorflow as tf\n",
    "\n",
    "from os.path import join"
   ]
  },
  {
   "cell_type": "code",
   "execution_count": 27,
   "metadata": {},
   "outputs": [],
   "source": [
    "def delete_params(params):\n",
    "    DEL_PARAMS_LIST = [2,8,15,16,21,22,23]\n",
    "    return np.delete(params,DEL_PARAMS_LIST , axis=1)"
   ]
  },
  {
   "cell_type": "code",
   "execution_count": 44,
   "metadata": {},
   "outputs": [],
   "source": [
    "def prep_data():\n",
    "\n",
    "    # load data from preprocess pipeline\n",
    "    dataset = np.load(join('../data/d_dataset_t2/aug_data','training_subsets.npz'))\n",
    "    X_train =dataset['X_train']\n",
    "    y_train= dataset['y_train']\n",
    "    X_val = dataset['X_val']\n",
    "    y_val = dataset['y_val']\n",
    "    X_test = dataset['X_test']\n",
    "    y_test = dataset['y_test']\n",
    "\n",
    "    y_train = delete_params(y_train)\n",
    "    y_val = delete_params(y_val)\n",
    "    y_test = delete_params(y_test)\n",
    "\n",
    "    return X_train, X_val, X_test, y_train, y_val, y_test"
   ]
  },
  {
   "cell_type": "code",
   "execution_count": 45,
   "metadata": {},
   "outputs": [],
   "source": [
    "X_train, X_val, X_test, y_train, y_val, y_test = prep_data()"
   ]
  },
  {
   "cell_type": "code",
   "execution_count": 69,
   "metadata": {},
   "outputs": [],
   "source": [
    "def rmse(y_true, y_pred):\n",
    "    return K.sqrt(K.mean(K.square(y_pred - y_true), axis=-1))\n",
    "\n",
    "def R2(y_true, y_pred):\n",
    "    SS_res =  K.sum(K.square( y_true-y_pred ))\n",
    "    SS_tot = K.sum(K.square( y_true - K.mean(y_true, axis = 0) ))\n",
    "    return   1 - (SS_res/(SS_tot + K.epsilon()))\n",
    "\n",
    "def r2(y_true, y_pred):\n",
    "    SS_res =  K.sum(K.square(y_true - y_pred), axis = 0) \n",
    "    SS_tot = K.sum(K.square(y_true - K.mean(y_true, axis = 0)), axis = 0) \n",
    "    return K.mean(1 - SS_res/(SS_tot + K.epsilon()), axis = -1 )\n",
    "\n",
    "def baseline(input_shape_1,input_shape_2):\n",
    "    model = tf.keras.Sequential()\n",
    "    model.add(Flatten(input_shape=(input_shape_1,input_shape_2)))\n",
    "    model.add(Dense(17, activation='linear'))\n",
    "    model.summary()\n",
    "    return model"
   ]
  },
  {
   "cell_type": "code",
   "execution_count": 70,
   "metadata": {},
   "outputs": [],
   "source": [
    "X_train = X_train[0:256]\n",
    "y_train = y_train[0:256]\n",
    "X_val = X_val[0:256]\n",
    "y_val = y_val[0:256]"
   ]
  },
  {
   "cell_type": "code",
   "execution_count": 71,
   "metadata": {},
   "outputs": [
    {
     "name": "stdout",
     "output_type": "stream",
     "text": [
      "Model: \"sequential_15\"\n",
      "_________________________________________________________________\n",
      "Layer (type)                 Output Shape              Param #   \n",
      "=================================================================\n",
      "flatten_9 (Flatten)          (None, 936)               0         \n",
      "_________________________________________________________________\n",
      "dense_12 (Dense)             (None, 17)                15929     \n",
      "=================================================================\n",
      "Total params: 15,929\n",
      "Trainable params: 15,929\n",
      "Non-trainable params: 0\n",
      "_________________________________________________________________\n",
      "Train on 256 samples, validate on 256 samples\n",
      "Epoch 1/5\n",
      "256/256 [==============================] - 1s 2ms/sample - loss: 2.1203 - rmse: 1.4194 - r2: -10.0787 - R2: -9.2421 - tf_R2: -9.2421 - val_loss: 1.8105 - val_rmse: 1.2979 - val_r2: -7.9390 - val_R2: -7.2183 - val_tf_R2: -7.2183\n",
      "Epoch 2/5\n",
      "256/256 [==============================] - 0s 97us/sample - loss: 1.7724 - rmse: 1.2971 - r2: -8.2369 - R2: -7.5614 - tf_R2: -7.5614 - val_loss: 1.5751 - val_rmse: 1.2078 - val_r2: -6.7666 - val_R2: -6.1497 - val_tf_R2: -6.1497\n",
      "Epoch 3/5\n",
      "256/256 [==============================] - 0s 97us/sample - loss: 1.4877 - rmse: 1.1877 - r2: -6.7297 - R2: -6.1864 - tf_R2: -6.1864 - val_loss: 1.3870 - val_rmse: 1.1308 - val_r2: -5.8317 - val_R2: -5.2958 - val_tf_R2: -5.2958\n",
      "Epoch 4/5\n",
      "256/256 [==============================] - 0s 94us/sample - loss: 1.2601 - rmse: 1.0926 - r2: -5.5245 - R2: -5.0868 - tf_R2: -5.0868 - val_loss: 1.2392 - val_rmse: 1.0665 - val_r2: -5.1003 - val_R2: -4.6250 - val_tf_R2: -4.6250\n",
      "Epoch 5/5\n",
      "256/256 [==============================] - 0s 86us/sample - loss: 1.0812 - rmse: 1.0120 - r2: -4.5783 - R2: -4.2228 - tf_R2: -4.2228 - val_loss: 1.1240 - val_rmse: 1.0139 - val_r2: -4.5344 - val_R2: -4.1023 - val_tf_R2: -4.1023\n"
     ]
    }
   ],
   "source": [
    "model = baseline(X_train.shape[1], X_train.shape[2])\n",
    "\n",
    "model.compile(optimizer='adam',loss='mse',metrics=[rmse, r2, R2])\n",
    "\n",
    "history = model.fit(X_train,y_train,\n",
    "        batch_size=256,\n",
    "        epochs=5,\n",
    "        validation_data=(X_val,y_val),\n",
    "        verbose=1)"
   ]
  },
  {
   "cell_type": "code",
   "execution_count": 60,
   "metadata": {},
   "outputs": [],
   "source": [
    "from sklearn.metrics import r2_score\n",
    "def compute_rmse(actual,pred, axis=0):\n",
    "    return np.sqrt((np.square(actual - pred)).mean(axis=axis)).mean(axis=axis)"
   ]
  },
  {
   "cell_type": "code",
   "execution_count": 72,
   "metadata": {},
   "outputs": [
    {
     "data": {
      "text/plain": [
       "-3.843225795186546"
      ]
     },
     "execution_count": 72,
     "metadata": {},
     "output_type": "execute_result"
    }
   ],
   "source": [
    "\n",
    "r2_score(y_train,model.predict(X_train))"
   ]
  },
  {
   "cell_type": "code",
   "execution_count": 73,
   "metadata": {},
   "outputs": [
    {
     "data": {
      "text/plain": [
       "0.9599243851198693"
      ]
     },
     "execution_count": 73,
     "metadata": {},
     "output_type": "execute_result"
    }
   ],
   "source": [
    "compute_rmse(y_train,model.predict(X_train))"
   ]
  },
  {
   "cell_type": "code",
   "execution_count": 74,
   "metadata": {},
   "outputs": [
    {
     "data": {
      "text/plain": [
       "[0.941914290189743, 0.9448743, -4.407457, -3.7666998, -3.7666998]"
      ]
     },
     "execution_count": 74,
     "metadata": {},
     "output_type": "execute_result"
    }
   ],
   "source": [
    "model.evaluate(X_train,y_train,verbose=False)"
   ]
  },
  {
   "cell_type": "code",
   "execution_count": 75,
   "metadata": {},
   "outputs": [
    {
     "data": {
      "text/plain": [
       "-4.534425924432747"
      ]
     },
     "execution_count": 75,
     "metadata": {},
     "output_type": "execute_result"
    }
   ],
   "source": [
    "r2_score(y_val,model.predict(X_val))"
   ]
  },
  {
   "cell_type": "code",
   "execution_count": 76,
   "metadata": {},
   "outputs": [
    {
     "data": {
      "text/plain": [
       "1.0495499872193153"
      ]
     },
     "execution_count": 76,
     "metadata": {},
     "output_type": "execute_result"
    }
   ],
   "source": [
    "compute_rmse(y_val,model.predict(X_val))"
   ]
  },
  {
   "cell_type": "code",
   "execution_count": 77,
   "metadata": {},
   "outputs": [
    {
     "data": {
      "text/plain": [
       "[1.1240263283252716, 1.0139403, -4.9303412, -4.249063, -4.249063]"
      ]
     },
     "execution_count": 77,
     "metadata": {},
     "output_type": "execute_result"
    }
   ],
   "source": [
    "model.evaluate(X_val,y_val,verbose=False)"
   ]
  },
  {
   "cell_type": "code",
   "execution_count": 65,
   "metadata": {},
   "outputs": [],
   "source": [
    "y_pred = model.predict(X_train)"
   ]
  },
  {
   "cell_type": "code",
   "execution_count": 66,
   "metadata": {},
   "outputs": [
    {
     "data": {
      "text/plain": [
       "(256, 17)"
      ]
     },
     "execution_count": 66,
     "metadata": {},
     "output_type": "execute_result"
    }
   ],
   "source": [
    "y_pred.shape"
   ]
  },
  {
   "cell_type": "code",
   "execution_count": 79,
   "metadata": {},
   "outputs": [
    {
     "data": {
      "text/plain": [
       "0.01424073"
      ]
     },
     "execution_count": 79,
     "metadata": {},
     "output_type": "execute_result"
    }
   ],
   "source": [
    "np.mean(y_pred)"
   ]
  },
  {
   "cell_type": "code",
   "execution_count": 86,
   "metadata": {},
   "outputs": [],
   "source": [
    "def numpy_R2(actual,pred):\n",
    "    SSR = np.sum(np.square(actual-pred))\n",
    "    SST = np.sum(np.square(actual-np.mean(actual, axis=0)))\n",
    "    return 1 - (SSR/SST)"
   ]
  },
  {
   "cell_type": "code",
   "execution_count": 87,
   "metadata": {},
   "outputs": [
    {
     "data": {
      "text/plain": [
       "-4.102331747344141"
      ]
     },
     "execution_count": 87,
     "metadata": {},
     "output_type": "execute_result"
    }
   ],
   "source": [
    "numpy_R2(y_val,model.predict(X_val))"
   ]
  },
  {
   "cell_type": "code",
   "execution_count": null,
   "metadata": {},
   "outputs": [],
   "source": []
  }
 ],
 "metadata": {
  "kernelspec": {
   "display_name": "Python 3",
   "language": "python",
   "name": "python3"
  },
  "language_info": {
   "codemirror_mode": {
    "name": "ipython",
    "version": 3
   },
   "file_extension": ".py",
   "mimetype": "text/x-python",
   "name": "python",
   "nbconvert_exporter": "python",
   "pygments_lexer": "ipython3",
   "version": "3.6.10"
  }
 },
 "nbformat": 4,
 "nbformat_minor": 4
}
