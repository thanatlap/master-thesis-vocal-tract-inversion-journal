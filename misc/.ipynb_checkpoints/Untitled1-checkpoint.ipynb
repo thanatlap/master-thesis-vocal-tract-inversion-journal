{
 "cells": [
  {
   "cell_type": "code",
   "execution_count": 7,
   "metadata": {},
   "outputs": [],
   "source": []
  },
  {
   "cell_type": "code",
   "execution_count": 51,
   "metadata": {},
   "outputs": [],
   "source": [
    "import numpy as np\n",
    "import os\n",
    "import pandas as pd\n",
    "\n",
    "def load_file_csv(file):\n",
    "    '''\n",
    "    Load data from csv file.\n",
    "    '''\n",
    "    if os.path.exists(file):\n",
    "        param_set = pd.read_csv(file)\n",
    "        return param_set\n",
    "    else:\n",
    "        raise ValueError('File %s not found!'%file)\n",
    "\n",
    "\n",
    "def create_speaker_from_csv(file):\n",
    "    '''\n",
    "    create speaker file using simulated speaker vocaltract\n",
    "    '''\n",
    "    param_set = load_file_csv(file)\n",
    "    \n",
    "    syllable_labels = param_set['PARAM'].values\n",
    "    syllable_params = param_set.drop(['PARAM'], axis=1).values\n",
    "    print(syllable_params)\n",
    "    param_names = [''.join(i for i in colname if not i.isdigit()) for colname in param_set.columns.values]\n",
    "    speaker_tail=open('resources/speaker_tail.txt','r').read() \n",
    "    speaker_head=open('resources/speaker_s0.speaker','r').read()  \n",
    "\n",
    "#     f = open('test_param.speaker', 'w')\n",
    "#     f.write(speaker_head)\n",
    "    # Loop through each parameter in the list\n",
    "    for idx, label in enumerate(syllable_labels):\n",
    "        print(label)\n",
    "#         f.write('<shape name=\"%s\">\\n'%(label))\n",
    "        for jdx, param in enumerate(syllable_params[idx]):\n",
    "#             f.write('<param name=\"%s\" value=\"%.2f\"/>\\n'%(param_names[jdx],param))\n",
    "#         f.write('</shape>\\n')\n",
    "#     # Close with tail part of the speaker file\n",
    "#     f.write(speaker_tail)\n",
    "#     f.close()"
   ]
  },
  {
   "cell_type": "code",
   "execution_count": 52,
   "metadata": {},
   "outputs": [
    {
     "name": "stdout",
     "output_type": "stream",
     "text": [
      "[[ 1.0000e+00 -5.3436e+00 -2.5000e-01 -2.4308e+00 -4.1000e-02  8.2510e-01\n",
      "   4.0000e-01 -1.0000e-01  0.0000e+00  2.5295e+00 -5.8050e-01  4.6583e+00\n",
      "  -8.9150e-01  3.7250e+00  8.2100e-01 -5.4100e-02 -9.2800e-01  1.1160e+00\n",
      "   1.1900e-01 -1.6500e-01 -5.2400e-01  0.0000e+00  0.0000e+00  0.0000e+00]\n",
      " [ 1.0000e+00 -6.0000e+00  0.0000e+00 -4.0217e+00  9.5000e-01  2.2330e-01\n",
      "   5.3470e-01 -1.0000e-01  0.0000e+00  4.3430e-01 -9.4210e-01  2.5891e+00\n",
      "  -6.9400e-01  2.4431e+00  3.5720e-01 -3.8430e-01 -2.6691e+00  1.4000e+00\n",
      "   2.1200e-01  1.2800e-01 -5.0000e-02 -5.0000e-02 -5.0000e-02 -5.0000e-02]\n",
      " [ 3.8550e-01 -3.8773e+00  0.0000e+00 -4.4288e+00 -1.7790e-01  9.5280e-01\n",
      "   7.2540e-01  1.0000e-02  0.0000e+00  1.7277e+00 -1.2765e+00  4.6663e+00\n",
      "  -1.4092e+00  3.1823e+00  6.5760e-01 -1.7668e+00 -1.5943e+00  9.6600e-01\n",
      "   1.8000e-01  2.8000e-01 -6.7200e-01 -5.0000e-02 -5.0000e-02 -5.0000e-02]\n",
      " [ 2.6670e-01 -5.2823e+00  0.0000e+00 -4.7830e+00  7.6960e-01  1.8420e-01\n",
      "   1.0000e-01 -1.0000e-02  0.0000e+00  1.8809e+00 -8.0760e-01  4.5130e+00\n",
      "  -1.5538e+00  3.2460e+00  6.2430e-01 -7.4500e-02 -1.4670e+00  1.3720e+00\n",
      "   5.2800e-01  2.8600e-01  3.1000e-01 -5.0000e-02 -5.0000e-02 -5.0000e-02]\n",
      " [ 0.0000e+00 -4.0694e+00 -5.0000e-02 -4.5044e+00  8.0000e-03  9.3840e-01\n",
      "   1.0000e+00  5.0000e-02  0.0000e+00  3.6410e-01 -1.7175e+00  4.3351e+00\n",
      "  -1.5577e+00  2.3297e+00 -3.1840e-01 -2.3996e+00 -2.7274e+00  1.0340e+00\n",
      "   2.1400e-01  3.6000e-01  2.0000e-03 -5.0000e-02 -5.0000e-02 -5.0000e-02]\n",
      " [ 5.8940e-01 -5.3054e+00 -5.0000e-02 -3.1482e+00 -6.4400e-02  6.7790e-01\n",
      "   5.4380e-01 -1.0000e-01  0.0000e+00  1.9501e+00 -1.6542e+00  4.6082e+00\n",
      "  -9.2480e-01  3.1525e+00  5.2130e-01 -9.3030e-01 -1.6542e+00  1.1440e+00\n",
      "   1.1920e+00  8.4400e-01 -3.2000e-02 -5.0000e-02 -5.0000e-02 -5.0000e-02]\n",
      " [ 3.4040e-01 -5.0757e+00  0.0000e+00 -5.0957e+00  4.3820e-01  4.6590e-01\n",
      "   8.5720e-01 -1.0000e-01  0.0000e+00 -4.5540e-01 -1.8116e+00  4.0587e+00\n",
      "  -1.7142e+00  2.4237e+00 -1.3512e+00 -2.0140e+00 -3.4084e+00 -6.8000e-02\n",
      "   4.2000e-01  2.5200e-01  2.7400e-01 -5.0000e-02 -5.0000e-02 -5.0000e-02]\n",
      " [ 8.2800e-02 -5.2489e+00 -1.0000e-01 -4.9272e+00  4.8790e-01  4.7040e-01\n",
      "   3.0000e-01 -1.0000e-01  0.0000e+00  2.4430e-01 -2.3406e+00  4.7690e+00\n",
      "  -1.3831e+00  2.4490e+00 -6.5890e-01 -1.9963e+00 -2.8270e+00  2.2400e-01\n",
      "   7.3400e-01  1.4000e+00  4.6000e-01 -5.0000e-02 -5.0000e-02 -5.0000e-02]\n",
      " [ 2.8060e-01 -6.0000e+00  0.0000e+00 -5.0351e+00  6.6730e-01  3.3680e-01\n",
      "   1.3020e-01 -1.0000e-01  0.0000e+00  5.5090e-01 -1.9506e+00  4.8183e+00\n",
      "  -1.1312e+00  2.6557e+00 -6.1780e-01 -1.3731e+00 -2.5722e+00  8.7400e-01\n",
      "   2.2000e-02  4.2400e-01  3.6400e-01 -5.0000e-02 -5.0000e-02 -5.0000e-02]]\n",
      "a1\n",
      "a2\n",
      "a3\n",
      "a4\n",
      "a5\n",
      "a6\n",
      "a7\n",
      "a8\n",
      "a9\n"
     ]
    }
   ],
   "source": [
    "create_speaker_from_csv('../data_generator/templates/default_param_set5.csv')"
   ]
  },
  {
   "cell_type": "code",
   "execution_count": null,
   "metadata": {},
   "outputs": [],
   "source": []
  }
 ],
 "metadata": {
  "kernelspec": {
   "display_name": "Python 3",
   "language": "python",
   "name": "python3"
  },
  "language_info": {
   "codemirror_mode": {
    "name": "ipython",
    "version": 3
   },
   "file_extension": ".py",
   "mimetype": "text/x-python",
   "name": "python",
   "nbconvert_exporter": "python",
   "pygments_lexer": "ipython3",
   "version": "3.6.10"
  }
 },
 "nbformat": 4,
 "nbformat_minor": 4
}
