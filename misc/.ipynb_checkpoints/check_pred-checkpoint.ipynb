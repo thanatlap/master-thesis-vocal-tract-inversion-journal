{
 "cells": [
  {
   "cell_type": "code",
   "execution_count": 1,
   "metadata": {},
   "outputs": [],
   "source": [
    "import numpy as np\n",
    "import matplotlib.pyplot as plt"
   ]
  },
  {
   "cell_type": "code",
   "execution_count": 5,
   "metadata": {},
   "outputs": [],
   "source": [
    "pred = np.load('y_pred.npy')\n",
    "target = np.load('../data/d_dataset_4/prep_exp10_l4/training_subsets.npz')['y_test']"
   ]
  },
  {
   "cell_type": "code",
   "execution_count": 8,
   "metadata": {},
   "outputs": [
    {
     "data": {
      "text/plain": [
       "array([ 0.00043244, -0.00081944,  0.00150655, -0.0013599 , -0.00427693,\n",
       "        0.00181691, -0.00251671, -0.00265061, -0.000285  ,  0.00036619,\n",
       "       -0.00123509, -0.00056774, -0.00150987, -0.00048191,  0.00578279,\n",
       "       -0.00176295, -0.00180956], dtype=float32)"
      ]
     },
     "execution_count": 8,
     "metadata": {},
     "output_type": "execute_result"
    }
   ],
   "source": [
    "pred[2]"
   ]
  },
  {
   "cell_type": "code",
   "execution_count": 9,
   "metadata": {},
   "outputs": [
    {
     "data": {
      "text/plain": [
       "array([ 0.00043247, -0.00081947,  0.00150655, -0.00135988, -0.00427696,\n",
       "        0.00181688, -0.00251671, -0.00265061, -0.00028497,  0.00036616,\n",
       "       -0.00123505, -0.00056774, -0.00150983, -0.00048188,  0.00578276,\n",
       "       -0.00176297, -0.00180957], dtype=float32)"
      ]
     },
     "execution_count": 9,
     "metadata": {},
     "output_type": "execute_result"
    }
   ],
   "source": [
    "pred[1]"
   ]
  },
  {
   "cell_type": "code",
   "execution_count": 10,
   "metadata": {},
   "outputs": [
    {
     "data": {
      "text/plain": [
       "array([ 0.00043241, -0.00081942,  0.00150655, -0.00135992, -0.00427691,\n",
       "        0.00181693, -0.00251671, -0.00265061, -0.00028502,  0.00036623,\n",
       "       -0.00123511, -0.00056774, -0.0015099 , -0.00048194,  0.00578282,\n",
       "       -0.00176292, -0.00180956], dtype=float32)"
      ]
     },
     "execution_count": 10,
     "metadata": {},
     "output_type": "execute_result"
    }
   ],
   "source": [
    "pred[0]"
   ]
  },
  {
   "cell_type": "code",
   "execution_count": 6,
   "metadata": {},
   "outputs": [
    {
     "data": {
      "text/plain": [
       "array([-0.0323659 ,  1.07735938,  0.53661644, -0.35692055, -0.3281819 ,\n",
       "        0.77143777, -1.56504448,  2.19454107,         nan, -0.64586447,\n",
       "       -0.94591418,  0.45903179, -1.20745423,  1.00013376, -0.62408496,\n",
       "       -1.11388694,  0.07702017, -0.29899548, -1.13504706,  1.28616879,\n",
       "        0.58898252, -0.23310375, -0.23278712, -0.23383206])"
      ]
     },
     "execution_count": 6,
     "metadata": {},
     "output_type": "execute_result"
    }
   ],
   "source": [
    "target[0]"
   ]
  },
  {
   "cell_type": "code",
   "execution_count": 11,
   "metadata": {},
   "outputs": [
    {
     "data": {
      "text/plain": [
       "array([ 0.45947512, -0.38381869,  0.53661644, -1.81455639,  0.29046985,\n",
       "       -0.49553343,  0.40445679, -0.84170315,         nan, -0.55054423,\n",
       "        0.10262985, -1.8623841 ,  0.03120496, -1.02473268, -0.14801781,\n",
       "        0.45137882, -0.44979542, -0.00766411, -1.40837128, -0.97341528,\n",
       "       -0.90989319, -0.23310375, -0.23278712, -0.23383206])"
      ]
     },
     "execution_count": 11,
     "metadata": {},
     "output_type": "execute_result"
    }
   ],
   "source": [
    "target[1]"
   ]
  },
  {
   "cell_type": "code",
   "execution_count": null,
   "metadata": {},
   "outputs": [],
   "source": [
    "target_feat = np.load('../data/d_dataset_4/prep_exp10_l4/training_subsets.npz')['y_test']"
   ]
  }
 ],
 "metadata": {
  "kernelspec": {
   "display_name": "Python 3",
   "language": "python",
   "name": "python3"
  },
  "language_info": {
   "codemirror_mode": {
    "name": "ipython",
    "version": 3
   },
   "file_extension": ".py",
   "mimetype": "text/x-python",
   "name": "python",
   "nbconvert_exporter": "python",
   "pygments_lexer": "ipython3",
   "version": "3.6.9"
  }
 },
 "nbformat": 4,
 "nbformat_minor": 4
}
