{
 "cells": [
  {
   "cell_type": "markdown",
   "metadata": {},
   "source": [
    "# Composed Recorded File\n",
    "composed all the recorded file from different folder into one file\n",
    "- Created: 02 April 2020"
   ]
  },
  {
   "cell_type": "code",
   "execution_count": 12,
   "metadata": {},
   "outputs": [],
   "source": [
    "from __future__ import absolute_import, division, print_function, unicode_literals\n",
    "import librosa\n",
    "import numpy as np\n",
    "import pandas as pd\n",
    "import math\n",
    "import matplotlib.pyplot as plt\n",
    "import librosa.display\n",
    "from matplotlib import cm\n",
    "from functools import partial\n",
    "\n",
    "import sklearn\n",
    "from sklearn.decomposition import PCA\n",
    "from os import makedirs\n",
    "import os\n",
    "from os.path import join\n",
    "import shutil\n",
    "from IPython import display\n",
    "import scipy\n",
    "\n",
    "%matplotlib inline"
   ]
  },
  {
   "cell_type": "code",
   "execution_count": 3,
   "metadata": {},
   "outputs": [],
   "source": [
    "np_load_old = partial(np.load)\n",
    "np.load = lambda *a,**k: np_load_old(*a, allow_pickle=True, **k)\n",
    "# np.random.seed(42)"
   ]
  },
  {
   "cell_type": "code",
   "execution_count": 19,
   "metadata": {},
   "outputs": [],
   "source": [
    "def composed_data():\n",
    "    \n",
    "    dataset = [1,2,3,4,5,6,7,8]\n",
    "    audio_data = []\n",
    "    output_folder = '../data/d_records/all'\n",
    "    \n",
    "    makedirs(output_folder, exist_ok=True)\n",
    "    \n",
    "    for idx in dataset:\n",
    "    \n",
    "        folder = '../data/d_records/d_record_set_{}'.format(idx)\n",
    "        filepath = join(folder,'sound_set.txt')\n",
    "        with open(filepath, 'r') as f:\n",
    "            data = np.array(f.read().split(','))\n",
    "        record_data = np.array([librosa.load(join(folder, file+'.wav'), sr=16000)[0] for file in data])\n",
    "    \n",
    "        audio_data.extend(record_data)\n",
    "        \n",
    "    _ = [scipy.io.wavfile.write(join(output_folder,'sound{}.wav'.format(idx)), 16000, sig) for idx, sig in enumerate(audio_data)]\n",
    "    \n",
    "    with open(join(output_folder,'sound_set.txt'), 'w') as f:\n",
    "        for i in range(len(audio_data)):\n",
    "            f.write('sound{},'.format(i))"
   ]
  },
  {
   "cell_type": "code",
   "execution_count": 20,
   "metadata": {},
   "outputs": [],
   "source": [
    "composed_data()"
   ]
  },
  {
   "cell_type": "code",
   "execution_count": null,
   "metadata": {},
   "outputs": [],
   "source": []
  }
 ],
 "metadata": {
  "kernelspec": {
   "display_name": "Python 3",
   "language": "python",
   "name": "python3"
  },
  "language_info": {
   "codemirror_mode": {
    "name": "ipython",
    "version": 3
   },
   "file_extension": ".py",
   "mimetype": "text/x-python",
   "name": "python",
   "nbconvert_exporter": "python",
   "pygments_lexer": "ipython3",
   "version": "3.6.10"
  }
 },
 "nbformat": 4,
 "nbformat_minor": 4
}
