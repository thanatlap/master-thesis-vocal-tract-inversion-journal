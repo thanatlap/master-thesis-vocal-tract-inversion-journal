{
 "cells": [
  {
   "cell_type": "markdown",
   "metadata": {},
   "source": [
    "# Feature Map Visualization\n",
    "ref: https://machinelearningmastery.com/how-to-visualize-filters-and-feature-maps-in-convolutional-neural-networks/ <br>\n",
    "ref: https://www.kdnuggets.com/2018/04/building-convolutional-neural-network-numpy-scratch.html"
   ]
  },
  {
   "cell_type": "code",
   "execution_count": 2,
   "metadata": {},
   "outputs": [],
   "source": [
    "from __future__ import absolute_import, division, print_function, unicode_literals\n",
    "import numpy as np\n",
    "import pandas as pd\n",
    "import matplotlib.pyplot as plt\n",
    "from matplotlib import cm\n",
    "import os\n",
    "from os.path import join\n",
    "import tensorflow as tf\n",
    "from tensorflow import keras\n",
    "\n",
    "from tensorflow.keras import models\n",
    "from tensorflow.keras import optimizers\n",
    "from tensorflow.keras import regularizers\n",
    "from tensorflow.keras import callbacks\n",
    "from time import time\n",
    "from datetime import datetime\n",
    "import shutil \n",
    "import argparse\n",
    "from functools import partial\n",
    "import pickle\n",
    "from IPython.display import Audio\n",
    "\n",
    "import tensorflow as tf\n",
    "from tensorflow import keras\n",
    "from tensorflow.keras import layers\n",
    "from tensorflow.keras import backend as K\n",
    "from tensorflow.keras import regularizers\n",
    "from tensorflow.keras.layers import Reshape, GRU, InputLayer, AlphaDropout, Activation, BatchNormalization, Dropout, Flatten, Dense, Bidirectional, LSTM, Conv1D, SpatialDropout1D, Concatenate, Multiply, Add\n",
    "\n",
    "from sklearn.model_selection import train_test_split\n",
    "from sklearn.metrics import classification_report, confusion_matrix\n",
    "from sklearn.preprocessing import OneHotEncoder"
   ]
  },
  {
   "cell_type": "code",
   "execution_count": 3,
   "metadata": {},
   "outputs": [],
   "source": [
    "np_load_old = partial(np.load)\n",
    "np.load = lambda *a,**k: np_load_old(*a, allow_pickle=True, **k)"
   ]
  },
  {
   "cell_type": "code",
   "execution_count": 4,
   "metadata": {},
   "outputs": [],
   "source": [
    "def rmse(y_true, y_pred):\n",
    "    return K.sqrt(K.mean(K.square(y_pred - y_true), axis=-1))\n",
    "\n",
    "def R2(y_true, y_pred):\n",
    "    SS_res =  K.sum(K.square(y_true - y_pred), axis = 0) \n",
    "    SS_tot = K.sum(K.square(y_true - K.mean(y_true, axis = 0)), axis = 0) \n",
    "    return K.mean(1 - (SS_res/SS_tot), axis=0)"
   ]
  },
  {
   "cell_type": "markdown",
   "metadata": {},
   "source": [
    "## Load Data "
   ]
  },
  {
   "cell_type": "code",
   "execution_count": 5,
   "metadata": {},
   "outputs": [],
   "source": [
    "#Function for preprocessing data\n",
    "def delete_params(params):\n",
    "    DEL_PARAMS_LIST = [2,8,15,16,21,22,23]\n",
    "    return np.delete(params,DEL_PARAMS_LIST , axis=1)"
   ]
  },
  {
   "cell_type": "code",
   "execution_count": 6,
   "metadata": {},
   "outputs": [
    {
     "name": "stdout",
     "output_type": "stream",
     "text": [
      "Eval features and labels (264, 24, 39) (264, 17)\n"
     ]
    }
   ],
   "source": [
    "dataset = np.load(join('../../data/d_eval','prep_data_13_2','eval_dataset.npz'))\n",
    "features =dataset['features']\n",
    "labels= dataset['labels']\n",
    "labels = delete_params(labels)\n",
    "print('Eval features and labels %s %s'%(str(features.shape),str(labels.shape)))"
   ]
  },
  {
   "cell_type": "markdown",
   "metadata": {},
   "source": [
    "## Load Model "
   ]
  },
  {
   "cell_type": "code",
   "execution_count": 7,
   "metadata": {},
   "outputs": [
    {
     "name": "stdout",
     "output_type": "stream",
     "text": [
      "Model: \"model\"\n",
      "__________________________________________________________________________________________________\n",
      "Layer (type)                    Output Shape         Param #     Connected to                     \n",
      "==================================================================================================\n",
      "input_1 (InputLayer)            [(None, 24, 39)]     0                                            \n",
      "__________________________________________________________________________________________________\n",
      "conv1d (Conv1D)                 (None, 24, 128)      35072       input_1[0][0]                    \n",
      "__________________________________________________________________________________________________\n",
      "batch_normalization (BatchNorma (None, 24, 128)      512         conv1d[0][0]                     \n",
      "__________________________________________________________________________________________________\n",
      "activation (Activation)         (None, 24, 128)      0           batch_normalization[0][0]        \n",
      "__________________________________________________________________________________________________\n",
      "global_average_pooling1d (Globa (None, 128)          0           activation[0][0]                 \n",
      "__________________________________________________________________________________________________\n",
      "reshape (Reshape)               (None, 1, 128)       0           global_average_pooling1d[0][0]   \n",
      "__________________________________________________________________________________________________\n",
      "dense (Dense)                   (None, 1, 64)        8256        reshape[0][0]                    \n",
      "__________________________________________________________________________________________________\n",
      "dense_1 (Dense)                 (None, 1, 128)       8320        dense[0][0]                      \n",
      "__________________________________________________________________________________________________\n",
      "multiply (Multiply)             (None, 24, 128)      0           dense_1[0][0]                    \n",
      "                                                                 activation[0][0]                 \n",
      "__________________________________________________________________________________________________\n",
      "conv1d_1 (Conv1D)               (None, 24, 128)      49280       multiply[0][0]                   \n",
      "__________________________________________________________________________________________________\n",
      "batch_normalization_1 (BatchNor (None, 24, 128)      512         conv1d_1[0][0]                   \n",
      "__________________________________________________________________________________________________\n",
      "activation_1 (Activation)       (None, 24, 128)      0           batch_normalization_1[0][0]      \n",
      "__________________________________________________________________________________________________\n",
      "conv1d_2 (Conv1D)               (None, 24, 128)      82048       activation_1[0][0]               \n",
      "__________________________________________________________________________________________________\n",
      "add (Add)                       (None, 24, 128)      0           conv1d_2[0][0]                   \n",
      "                                                                 activation[0][0]                 \n",
      "__________________________________________________________________________________________________\n",
      "batch_normalization_2 (BatchNor (None, 24, 128)      512         add[0][0]                        \n",
      "__________________________________________________________________________________________________\n",
      "dropout (Dropout)               (None, 24, 128)      0           batch_normalization_2[0][0]      \n",
      "__________________________________________________________________________________________________\n",
      "bidirectional (Bidirectional)   (None, 24, 256)      263168      dropout[0][0]                    \n",
      "__________________________________________________________________________________________________\n",
      "dropout_1 (Dropout)             (None, 24, 256)      0           bidirectional[0][0]              \n",
      "__________________________________________________________________________________________________\n",
      "bidirectional_1 (Bidirectional) (None, 24, 256)      394240      dropout_1[0][0]                  \n",
      "__________________________________________________________________________________________________\n",
      "dropout_2 (Dropout)             (None, 24, 256)      0           bidirectional_1[0][0]            \n",
      "__________________________________________________________________________________________________\n",
      "bidirectional_2 (Bidirectional) (None, 256)          394240      dropout_2[0][0]                  \n",
      "__________________________________________________________________________________________________\n",
      "dropout_3 (Dropout)             (None, 256)          0           bidirectional_2[0][0]            \n",
      "__________________________________________________________________________________________________\n",
      "dense_2 (Dense)                 (None, 17)           4369        dropout_3[0][0]                  \n",
      "==================================================================================================\n",
      "Total params: 1,240,529\n",
      "Trainable params: 1,239,761\n",
      "Non-trainable params: 768\n",
      "__________________________________________________________________________________________________\n"
     ]
    }
   ],
   "source": [
    "model = tf.keras.models.load_model('../../experiment_2/model/117_senet.h5', custom_objects={'rmse': rmse, 'R2':R2})\n",
    "model.summary()"
   ]
  },
  {
   "cell_type": "code",
   "execution_count": 8,
   "metadata": {},
   "outputs": [
    {
     "name": "stdout",
     "output_type": "stream",
     "text": [
      "Model: \"model\"\n",
      "__________________________________________________________________________________________________\n",
      "Layer (type)                    Output Shape         Param #     Connected to                     \n",
      "==================================================================================================\n",
      "input_1 (InputLayer)            [(None, 24, 39)]     0                                            \n",
      "__________________________________________________________________________________________________\n",
      "conv1d (Conv1D)                 (None, 24, 128)      35072       input_1[0][0]                    \n",
      "__________________________________________________________________________________________________\n",
      "batch_normalization (BatchNorma (None, 24, 128)      512         conv1d[0][0]                     \n",
      "__________________________________________________________________________________________________\n",
      "activation (Activation)         (None, 24, 128)      0           batch_normalization[0][0]        \n",
      "__________________________________________________________________________________________________\n",
      "global_average_pooling1d (Globa (None, 128)          0           activation[0][0]                 \n",
      "__________________________________________________________________________________________________\n",
      "reshape (Reshape)               (None, 1, 128)       0           global_average_pooling1d[0][0]   \n",
      "__________________________________________________________________________________________________\n",
      "dense (Dense)                   (None, 1, 64)        8256        reshape[0][0]                    \n",
      "__________________________________________________________________________________________________\n",
      "dense_1 (Dense)                 (None, 1, 128)       8320        dense[0][0]                      \n",
      "__________________________________________________________________________________________________\n",
      "multiply (Multiply)             (None, 24, 128)      0           dense_1[0][0]                    \n",
      "                                                                 activation[0][0]                 \n",
      "__________________________________________________________________________________________________\n",
      "conv1d_1 (Conv1D)               (None, 24, 128)      49280       multiply[0][0]                   \n",
      "__________________________________________________________________________________________________\n",
      "batch_normalization_1 (BatchNor (None, 24, 128)      512         conv1d_1[0][0]                   \n",
      "__________________________________________________________________________________________________\n",
      "activation_1 (Activation)       (None, 24, 128)      0           batch_normalization_1[0][0]      \n",
      "__________________________________________________________________________________________________\n",
      "conv1d_2 (Conv1D)               (None, 24, 128)      82048       activation_1[0][0]               \n",
      "__________________________________________________________________________________________________\n",
      "add (Add)                       (None, 24, 128)      0           conv1d_2[0][0]                   \n",
      "                                                                 activation[0][0]                 \n",
      "__________________________________________________________________________________________________\n",
      "batch_normalization_2 (BatchNor (None, 24, 128)      512         add[0][0]                        \n",
      "==================================================================================================\n",
      "Total params: 184,512\n",
      "Trainable params: 183,744\n",
      "Non-trainable params: 768\n",
      "__________________________________________________________________________________________________\n"
     ]
    }
   ],
   "source": [
    "features_list = [layer.output for layer in model.layers[:-8]]\n",
    "submodel = keras.Model(inputs=model.input, outputs=features_list)\n",
    "submodel.summary()"
   ]
  },
  {
   "cell_type": "code",
   "execution_count": 9,
   "metadata": {},
   "outputs": [],
   "source": [
    "extracted_features = submodel(features)"
   ]
  },
  {
   "cell_type": "code",
   "execution_count": 10,
   "metadata": {},
   "outputs": [
    {
     "data": {
      "text/plain": [
       "15"
      ]
     },
     "execution_count": 10,
     "metadata": {},
     "output_type": "execute_result"
    }
   ],
   "source": [
    "# the feature from each layer\n",
    "len(extracted_features)"
   ]
  },
  {
   "cell_type": "code",
   "execution_count": 11,
   "metadata": {},
   "outputs": [
    {
     "data": {
      "text/plain": [
       "<matplotlib.image.AxesImage at 0x1b0f3dc7a90>"
      ]
     },
     "execution_count": 11,
     "metadata": {},
     "output_type": "execute_result"
    },
    {
     "data": {
      "image/png": "[encoded data removed]",
      "text/plain": [
       "<Figure size 240x400 with 1 Axes>"
      ]
     },
     "metadata": {},
     "output_type": "display_data"
    }
   ],
   "source": [
    "plt.figure(num=None, figsize=(3, 5), dpi=80, facecolor='w', edgecolor='k')\n",
    "plt.imshow(np.swapaxes(extracted_features[12].numpy()[3], 0 ,1))"
   ]
  },
  {
   "cell_type": "code",
   "execution_count": 12,
   "metadata": {},
   "outputs": [
    {
     "data": {
      "text/plain": [
       "<matplotlib.image.AxesImage at 0x1b0f3b401d0>"
      ]
     },
     "execution_count": 12,
     "metadata": {},
     "output_type": "execute_result"
    },
    {
     "data": {
      "image/png": "[encoded data removed]",
      "text/plain": [
       "<Figure size 240x400 with 1 Axes>"
      ]
     },
     "metadata": {},
     "output_type": "display_data"
    }
   ],
   "source": [
    "plt.figure(num=None, figsize=(3, 5), dpi=80, facecolor='w', edgecolor='k')\n",
    "filters = extracted_features[8].numpy()\n",
    "f_min, f_max = filters.min(), filters.max()\n",
    "filters = (filters - f_min) / (f_max - f_min)\n",
    "plt.imshow(np.swapaxes(filters[3], 0 ,1))"
   ]
  },
  {
   "cell_type": "code",
   "execution_count": 13,
   "metadata": {},
   "outputs": [
    {
     "data": {
      "text/plain": [
       "<matplotlib.image.AxesImage at 0x1b0f388fda0>"
      ]
     },
     "execution_count": 13,
     "metadata": {},
     "output_type": "execute_result"
    },
    {
     "data": {
      "image/png": "[encoded data removed]",
      "text/plain": [
       "<Figure size 240x400 with 1 Axes>"
      ]
     },
     "metadata": {},
     "output_type": "display_data"
    }
   ],
   "source": [
    "plt.figure(num=None, figsize=(3, 5), dpi=80, facecolor='w', edgecolor='k')\n",
    "filters = extracted_features[1].numpy()\n",
    "f_min, f_max = filters.min(), filters.max()\n",
    "filters = (filters - f_min) / (f_max - f_min)\n",
    "plt.imshow(np.swapaxes(filters[3], 0 ,1))"
   ]
  },
  {
   "cell_type": "markdown",
   "metadata": {},
   "source": [
    "## Visualized Convolutional Weight "
   ]
  },
  {
   "cell_type": "code",
   "execution_count": 14,
   "metadata": {},
   "outputs": [
    {
     "name": "stdout",
     "output_type": "stream",
     "text": [
      "conv1d (7, 39, 128) 1\n",
      "conv1d_1 (3, 128, 128) 9\n",
      "conv1d_2 (5, 128, 128) 12\n"
     ]
    }
   ],
   "source": [
    "for idx, layer in enumerate(submodel.layers):\n",
    "    # check for convolutional layer\n",
    "    if 'conv' not in layer.name:\n",
    "        continue\n",
    "    # get filter weights\n",
    "    filters, biases = layer.get_weights()\n",
    "    print(layer.name, filters.shape, idx)"
   ]
  },
  {
   "cell_type": "code",
   "execution_count": 15,
   "metadata": {},
   "outputs": [],
   "source": [
    "filters, biases = submodel.layers[1].get_weights()"
   ]
  },
  {
   "cell_type": "code",
   "execution_count": 16,
   "metadata": {},
   "outputs": [],
   "source": [
    "def plot_mfcc(mfcc):\n",
    "    fig, ax = plt.subplots(figsize=(10,5))\n",
    "    cax = ax.imshow(np.swapaxes(mfcc, 0 ,1), interpolation='nearest', cmap=cm.coolwarm, origin='lower')\n",
    "    ax.set_title('MFCC')\n",
    "    plt.show()"
   ]
  },
  {
   "cell_type": "code",
   "execution_count": 17,
   "metadata": {},
   "outputs": [],
   "source": [
    "feat = np.pad(features[10], [(3, ), (0, )], mode='constant')\n",
    "f1 = filters[:,:,0]\n",
    "filter_size = f1.shape[0]\n",
    "result = np.zeros((24,39))\n",
    "for r in np.uint16(np.arange(filter_size/2,feat.shape[0]-filter_size/2-2)):\n",
    "    curr_region = feat[r:r+filter_size, :] \n",
    "    curr_result = curr_region * f1\n",
    "    conv_sum = np.sum(curr_result, axis=0)\n",
    "    result[r] = conv_sum\n",
    "# result = result[3:-3]"
   ]
  },
  {
   "cell_type": "code",
   "execution_count": 18,
   "metadata": {},
   "outputs": [
    {
     "data": {
      "image/png": "[encoded data removed]",
      "text/plain": [
       "<Figure size 720x360 with 1 Axes>"
      ]
     },
     "metadata": {
      "needs_background": "light"
     },
     "output_type": "display_data"
    },
    {
     "data": {
      "image/png": "[encoded data removed]",
      "text/plain": [
       "<Figure size 720x360 with 1 Axes>"
      ]
     },
     "metadata": {
      "needs_background": "light"
     },
     "output_type": "display_data"
    }
   ],
   "source": [
    "plot_mfcc(features[10][:,:13])\n",
    "plot_mfcc(result[:,:13])"
   ]
  },
  {
   "cell_type": "code",
   "execution_count": 22,
   "metadata": {},
   "outputs": [],
   "source": [
    "import librosa\n",
    "sig = librosa.feature.inverse.mfcc_to_audio(features[10][:,:13], n_mels=13)"
   ]
  },
  {
   "cell_type": "code",
   "execution_count": 25,
   "metadata": {},
   "outputs": [
    {
     "data": {
      "text/html": [
       "\n",
       "                <audio  controls=\"controls\" >\n",
       "                    <source src=\"data:audio/wav;base64,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\" type=\"audio/wav\" />\n",
       "                    Your browser does not support the audio element.\n",
       "                </audio>\n",
       "              "
      ],
      "text/plain": [
       "<IPython.lib.display.Audio object>"
      ]
     },
     "execution_count": 25,
     "metadata": {},
     "output_type": "execute_result"
    }
   ],
   "source": [
    "Audio(sig, rate=8000)"
   ]
  },
  {
   "cell_type": "markdown",
   "metadata": {},
   "source": [
    "## Feature Mapping "
   ]
  },
  {
   "cell_type": "code",
   "execution_count": 90,
   "metadata": {},
   "outputs": [],
   "source": [
    "fm_model = keras.Model(inputs=model.input, outputs=model.layers[1].output)\n",
    "feature_maps = fm_model.predict(features)"
   ]
  },
  {
   "cell_type": "code",
   "execution_count": 92,
   "metadata": {},
   "outputs": [
    {
     "data": {
      "text/plain": [
       "(264, 24, 128)"
      ]
     },
     "execution_count": 92,
     "metadata": {},
     "output_type": "execute_result"
    }
   ],
   "source": [
    "feature_maps.shape"
   ]
  },
  {
   "cell_type": "code",
   "execution_count": 94,
   "metadata": {},
   "outputs": [
    {
     "data": {
      "text/plain": [
       "<matplotlib.image.AxesImage at 0x1bcbf144160>"
      ]
     },
     "execution_count": 94,
     "metadata": {},
     "output_type": "execute_result"
    },
    {
     "data": {
      "image/png": "[encoded data removed]",
      "text/plain": [
       "<Figure size 240x800 with 1 Axes>"
      ]
     },
     "metadata": {},
     "output_type": "display_data"
    }
   ],
   "source": [
    "plt.figure(num=None, figsize=(3, 10), dpi=80, facecolor='w', edgecolor='k')\n",
    "plt.imshow(np.swapaxes(feature_maps[0], 0 ,1))"
   ]
  },
  {
   "cell_type": "code",
   "execution_count": null,
   "metadata": {},
   "outputs": [],
   "source": []
  }
 ],
 "metadata": {
  "kernelspec": {
   "display_name": "Python 3",
   "language": "python",
   "name": "python3"
  },
  "language_info": {
   "codemirror_mode": {
    "name": "ipython",
    "version": 3
   },
   "file_extension": ".py",
   "mimetype": "text/x-python",
   "name": "python",
   "nbconvert_exporter": "python",
   "pygments_lexer": "ipython3",
   "version": "3.6.10"
  }
 },
 "nbformat": 4,
 "nbformat_minor": 4
}
