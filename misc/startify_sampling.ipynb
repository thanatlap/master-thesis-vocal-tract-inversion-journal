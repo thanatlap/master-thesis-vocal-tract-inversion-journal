{
 "cells": [
  {
   "cell_type": "code",
   "execution_count": 1,
   "metadata": {},
   "outputs": [],
   "source": [
    "import numpy as np\n",
    "import matplotlib.pyplot as plt"
   ]
  },
  {
   "cell_type": "code",
   "execution_count": 2,
   "metadata": {},
   "outputs": [],
   "source": [
    "def import_dataset():\n",
    "    data = np.load('../data/d_dataset_p1/dataset.npz')\n",
    "    ns_aggregate_param = data['ns_aggregate_param'].tolist()\n",
    "    ns_aggregate_phonetic = data['ns_aggregate_phonetic'].tolist()\n",
    "    return ns_aggregate_param, ns_aggregate_phonetic"
   ]
  },
  {
   "cell_type": "code",
   "execution_count": 3,
   "metadata": {},
   "outputs": [],
   "source": [
    "param, phonetic = import_dataset()"
   ]
  },
  {
   "cell_type": "code",
   "execution_count": 4,
   "metadata": {},
   "outputs": [
    {
     "data": {
      "text/plain": [
       "40307"
      ]
     },
     "execution_count": 4,
     "metadata": {},
     "output_type": "execute_result"
    }
   ],
   "source": [
    "len(param)"
   ]
  },
  {
   "cell_type": "code",
   "execution_count": 5,
   "metadata": {},
   "outputs": [],
   "source": [
    "phonetic_hist = [item[0]+item[1] for item in phonetic]"
   ]
  },
  {
   "cell_type": "code",
   "execution_count": 6,
   "metadata": {},
   "outputs": [],
   "source": [
    "ratio = 0.8"
   ]
  },
  {
   "cell_type": "code",
   "execution_count": 7,
   "metadata": {},
   "outputs": [],
   "source": [
    "def split_data(audio, param, phonetic, val_test_ratio=0.3):\n",
    "    \n",
    "    total_size = len(phonetic)\n",
    "    train_size = int((1-val_test_ratio)*total_size)\n",
    "    data_idx = range(len(phonetic)) \n",
    "    \n",
    "    idx = np.random.choice(data_idx, size=train_size, replace = False)\n",
    "    train_audio = [audio[i] for i in idx]\n",
    "    train_param = [param[i] for i in idx]\n",
    "    train_phonetic = [phonetic[i] for i in idx]\n",
    "    \n",
    "    test_data_idx = [i for i in data_idx if i not in idx]\n",
    "    test_idx = np.random.choice(test_data_idx, size=int((total_size - train_size)/2), replace = False)\n",
    "    test_audio = [audio[i] for i in test_idx]\n",
    "    test_param = [param[i] for i in test_idx]\n",
    "    test_phonetic = [phonetic[i] for i in test_idx]\n",
    "    \n",
    "    val_data_idx = [i for i in data_idx if (i not in idx) or (i not in test_data_idx)]\n",
    "    val_audio = [audio[i] for i in val_data_idx]\n",
    "    val_param = [param[i] for i in val_data_idx]\n",
    "    val_phonetic = [phonetic[i] for i in val_data_idx]\n",
    "    \n",
    "    return train_audio, train_param, train_phonetic, test_audio, test_param, test_phonetic, val_audio, val_param, val_phonetic"
   ]
  },
  {
   "cell_type": "code",
   "execution_count": 18,
   "metadata": {},
   "outputs": [],
   "source": [
    "def split_data(param, phonetic, val_test_ratio=0.3):\n",
    "    \n",
    "    total_size = len(phonetic)\n",
    "    train_size = int((1-val_test_ratio)*total_size)\n",
    "    data_idx = range(len(phonetic)) \n",
    "    \n",
    "    idx = np.random.choice(data_idx, size=train_size, replace = False)\n",
    "\n",
    "    train_param = [param[i] for i in idx]\n",
    "    train_phonetic = [phonetic[i] for i in idx]\n",
    "    \n",
    "    test_data_idx = [i for i in data_idx if i not in idx]\n",
    "    test_idx = np.random.choice(test_data_idx, size=int((total_size - train_size)/2), replace = False)\n",
    "\n",
    "    test_param = [param[i] for i in test_idx]\n",
    "    test_phonetic = [phonetic[i] for i in test_idx]\n",
    "    \n",
    "    val_data_idx = [i for i in data_idx if (i not in idx) and (i not in test_idx)]\n",
    "    val_param = [param[i] for i in val_data_idx]\n",
    "    val_phonetic = [phonetic[i] for i in val_data_idx]\n",
    "    \n",
    "    return train_param, train_phonetic, test_param, test_phonetic, val_param, val_phonetic"
   ]
  },
  {
   "cell_type": "code",
   "execution_count": 19,
   "metadata": {},
   "outputs": [],
   "source": [
    "train_param, train_phonetic, test_param, test_phonetic, val_param, val_phonetic = split_data(param, phonetic, val_test_ratio=0.3)"
   ]
  },
  {
   "cell_type": "code",
   "execution_count": 20,
   "metadata": {},
   "outputs": [
    {
     "data": {
      "text/plain": [
       "'28214, 6046, 6047'"
      ]
     },
     "execution_count": 20,
     "metadata": {},
     "output_type": "execute_result"
    }
   ],
   "source": [
    "'{}, {}, {}'.format(len(train_param),len(test_phonetic),len(val_phonetic))"
   ]
  },
  {
   "cell_type": "code",
   "execution_count": 86,
   "metadata": {},
   "outputs": [
    {
     "name": "stdout",
     "output_type": "stream",
     "text": [
      "0\n"
     ]
    }
   ],
   "source": [
    "count = 0\n",
    "for i in train_param:\n",
    "    if i in val_param:\n",
    "        count += 1\n",
    "print(count)"
   ]
  },
  {
   "cell_type": "code",
   "execution_count": 88,
   "metadata": {},
   "outputs": [
    {
     "data": {
      "text/plain": [
       "6046"
      ]
     },
     "execution_count": 88,
     "metadata": {},
     "output_type": "execute_result"
    }
   ],
   "source": [
    "len(test_param)"
   ]
  },
  {
   "cell_type": "code",
   "execution_count": 89,
   "metadata": {},
   "outputs": [
    {
     "data": {
      "text/plain": [
       "28214"
      ]
     },
     "execution_count": 89,
     "metadata": {},
     "output_type": "execute_result"
    }
   ],
   "source": [
    "len(train_param)"
   ]
  },
  {
   "cell_type": "code",
   "execution_count": 93,
   "metadata": {},
   "outputs": [
    {
     "data": {
      "text/plain": [
       "6047"
      ]
     },
     "execution_count": 93,
     "metadata": {},
     "output_type": "execute_result"
    }
   ],
   "source": [
    "40307 - 6046 - 28214"
   ]
  },
  {
   "cell_type": "code",
   "execution_count": 57,
   "metadata": {},
   "outputs": [
    {
     "data": {
      "text/plain": [
       "<BarContainer object of 342 artists>"
      ]
     },
     "execution_count": 57,
     "metadata": {},
     "output_type": "execute_result"
    },
    {
     "data": {
      "image/png": "[encoded data removed]",
      "text/plain": [
       "<Figure size 432x288 with 1 Axes>"
      ]
     },
     "metadata": {
      "needs_background": "light"
     },
     "output_type": "display_data"
    }
   ],
   "source": [
    "unique, counts = np.unique(phonetic_hist, return_counts=True)\n",
    "numeric = dict(zip(unique, counts))\n",
    "plt.bar(unique, counts)"
   ]
  },
  {
   "cell_type": "code",
   "execution_count": 69,
   "metadata": {},
   "outputs": [],
   "source": [
    "train = [phonetic_hist[i] for i in a]"
   ]
  },
  {
   "cell_type": "code",
   "execution_count": 71,
   "metadata": {},
   "outputs": [
    {
     "data": {
      "text/plain": [
       "32245"
      ]
     },
     "execution_count": 71,
     "metadata": {},
     "output_type": "execute_result"
    }
   ],
   "source": [
    "len(train)"
   ]
  },
  {
   "cell_type": "code",
   "execution_count": 65,
   "metadata": {},
   "outputs": [
    {
     "data": {
      "text/plain": [
       "<BarContainer object of 342 artists>"
      ]
     },
     "execution_count": 65,
     "metadata": {},
     "output_type": "execute_result"
    },
    {
     "data": {
      "image/png": "[encoded data removed]",
      "text/plain": [
       "<Figure size 432x288 with 1 Axes>"
      ]
     },
     "metadata": {
      "needs_background": "light"
     },
     "output_type": "display_data"
    }
   ],
   "source": [
    "unique, counts = np.unique(train, return_counts=True)\n",
    "train_numeric = dict(zip(unique, counts))\n",
    "plt.bar(unique, counts)"
   ]
  },
  {
   "cell_type": "code",
   "execution_count": 73,
   "metadata": {},
   "outputs": [],
   "source": [
    "test = [phonetic_hist[i] for i in range(len(phonetic_hist)) if i not in a]"
   ]
  },
  {
   "cell_type": "code",
   "execution_count": 74,
   "metadata": {},
   "outputs": [
    {
     "data": {
      "text/plain": [
       "8062"
      ]
     },
     "execution_count": 74,
     "metadata": {},
     "output_type": "execute_result"
    }
   ],
   "source": [
    "len(test)"
   ]
  },
  {
   "cell_type": "code",
   "execution_count": 63,
   "metadata": {},
   "outputs": [
    {
     "data": {
      "text/plain": [
       "<BarContainer object of 342 artists>"
      ]
     },
     "execution_count": 63,
     "metadata": {},
     "output_type": "execute_result"
    },
    {
     "data": {
      "image/png": "[encoded data removed]",
      "text/plain": [
       "<Figure size 432x288 with 1 Axes>"
      ]
     },
     "metadata": {
      "needs_background": "light"
     },
     "output_type": "display_data"
    }
   ],
   "source": [
    "unique, counts = np.unique(test, return_counts=True)\n",
    "numeric = dict(zip(unique, counts))\n",
    "plt.bar(unique, counts)"
   ]
  },
  {
   "cell_type": "code",
   "execution_count": 66,
   "metadata": {},
   "outputs": [
    {
     "data": {
      "text/plain": [
       "{'&2': 112,\n",
       " '&7': 86,\n",
       " '&9': 93,\n",
       " '&@': 101,\n",
       " '&A': 92,\n",
       " '&E': 105,\n",
       " '&E:': 128,\n",
       " '&M': 87,\n",
       " '&O': 109,\n",
       " '&Q': 105,\n",
       " '&U': 91,\n",
       " '&V': 98,\n",
       " '&a': 102,\n",
       " '&e': 110,\n",
       " '&i': 94,\n",
       " '&o': 80,\n",
       " '&u': 86,\n",
       " '&y': 92,\n",
       " '2&': 103,\n",
       " '27': 91,\n",
       " '29': 98,\n",
       " '2@': 98,\n",
       " '2A': 94,\n",
       " '2E': 112,\n",
       " '2E:': 88,\n",
       " '2M': 87,\n",
       " '2O': 88,\n",
       " '2Q': 110,\n",
       " '2U': 78,\n",
       " '2V': 102,\n",
       " '2a': 83,\n",
       " '2e': 105,\n",
       " '2i': 79,\n",
       " '2o': 92,\n",
       " '2u': 113,\n",
       " '2y': 82,\n",
       " '7&': 70,\n",
       " '72': 100,\n",
       " '79': 91,\n",
       " '7@': 81,\n",
       " '7A': 88,\n",
       " '7E': 83,\n",
       " '7E:': 69,\n",
       " '7M': 70,\n",
       " '7O': 78,\n",
       " '7Q': 82,\n",
       " '7U': 93,\n",
       " '7V': 76,\n",
       " '7a': 82,\n",
       " '7e': 86,\n",
       " '7i': 78,\n",
       " '7o': 86,\n",
       " '7u': 84,\n",
       " '7y': 99,\n",
       " '9&': 86,\n",
       " '92': 75,\n",
       " '97': 92,\n",
       " '9@': 102,\n",
       " '9A': 87,\n",
       " '9E': 96,\n",
       " '9E:': 93,\n",
       " '9M': 102,\n",
       " '9O': 92,\n",
       " '9Q': 100,\n",
       " '9U': 90,\n",
       " '9V': 93,\n",
       " '9a': 89,\n",
       " '9e': 96,\n",
       " '9i': 82,\n",
       " '9o': 110,\n",
       " '9u': 87,\n",
       " '9y': 91,\n",
       " '@&': 93,\n",
       " '@2': 100,\n",
       " '@7': 85,\n",
       " '@9': 84,\n",
       " '@A': 109,\n",
       " '@E': 103,\n",
       " '@E:': 95,\n",
       " '@M': 130,\n",
       " '@O': 99,\n",
       " '@Q': 97,\n",
       " '@U': 97,\n",
       " '@V': 85,\n",
       " '@a': 92,\n",
       " '@e': 101,\n",
       " '@i': 79,\n",
       " '@o': 85,\n",
       " '@u': 90,\n",
       " '@y': 96,\n",
       " 'A&': 113,\n",
       " 'A2': 99,\n",
       " 'A7': 79,\n",
       " 'A9': 85,\n",
       " 'A@': 97,\n",
       " 'AE': 84,\n",
       " 'AE:': 80,\n",
       " 'AM': 98,\n",
       " 'AO': 98,\n",
       " 'AQ': 90,\n",
       " 'AU': 86,\n",
       " 'AV': 80,\n",
       " 'Aa': 85,\n",
       " 'Ae': 101,\n",
       " 'Ai': 87,\n",
       " 'Ao': 79,\n",
       " 'Au': 93,\n",
       " 'Ay': 87,\n",
       " 'E&': 93,\n",
       " 'E2': 107,\n",
       " 'E7': 73,\n",
       " 'E9': 114,\n",
       " 'E:&': 116,\n",
       " 'E:2': 89,\n",
       " 'E:7': 86,\n",
       " 'E:9': 87,\n",
       " 'E:@': 97,\n",
       " 'E:A': 107,\n",
       " 'E:E': 101,\n",
       " 'E:M': 99,\n",
       " 'E:O': 106,\n",
       " 'E:Q': 91,\n",
       " 'E:U': 96,\n",
       " 'E:V': 96,\n",
       " 'E:a': 115,\n",
       " 'E:e': 89,\n",
       " 'E:i': 110,\n",
       " 'E:o': 79,\n",
       " 'E:u': 91,\n",
       " 'E:y': 101,\n",
       " 'E@': 103,\n",
       " 'EA': 96,\n",
       " 'EE:': 105,\n",
       " 'EM': 72,\n",
       " 'EO': 97,\n",
       " 'EQ': 96,\n",
       " 'EU': 100,\n",
       " 'EV': 110,\n",
       " 'Ea': 105,\n",
       " 'Ee': 105,\n",
       " 'Ei': 84,\n",
       " 'Eo': 85,\n",
       " 'Eu': 89,\n",
       " 'Ey': 86,\n",
       " 'M&': 109,\n",
       " 'M2': 90,\n",
       " 'M7': 78,\n",
       " 'M9': 118,\n",
       " 'M@': 102,\n",
       " 'MA': 90,\n",
       " 'ME': 79,\n",
       " 'ME:': 84,\n",
       " 'MO': 103,\n",
       " 'MQ': 96,\n",
       " 'MU': 88,\n",
       " 'MV': 94,\n",
       " 'Ma': 105,\n",
       " 'Me': 100,\n",
       " 'Mi': 111,\n",
       " 'Mo': 84,\n",
       " 'Mu': 111,\n",
       " 'My': 84,\n",
       " 'O&': 106,\n",
       " 'O2': 117,\n",
       " 'O7': 75,\n",
       " 'O9': 79,\n",
       " 'O@': 103,\n",
       " 'OA': 106,\n",
       " 'OE': 87,\n",
       " 'OE:': 91,\n",
       " 'OM': 98,\n",
       " 'OQ': 95,\n",
       " 'OU': 97,\n",
       " 'OV': 89,\n",
       " 'Oa': 100,\n",
       " 'Oe': 96,\n",
       " 'Oi': 100,\n",
       " 'Oo': 80,\n",
       " 'Ou': 111,\n",
       " 'Oy': 93,\n",
       " 'Q&': 99,\n",
       " 'Q2': 102,\n",
       " 'Q7': 82,\n",
       " 'Q9': 113,\n",
       " 'Q@': 104,\n",
       " 'QA': 91,\n",
       " 'QE': 75,\n",
       " 'QE:': 108,\n",
       " 'QM': 83,\n",
       " 'QO': 115,\n",
       " 'QU': 96,\n",
       " 'QV': 111,\n",
       " 'Qa': 106,\n",
       " 'Qe': 100,\n",
       " 'Qi': 88,\n",
       " 'Qo': 86,\n",
       " 'Qu': 86,\n",
       " 'Qy': 83,\n",
       " 'U&': 94,\n",
       " 'U2': 102,\n",
       " 'U7': 65,\n",
       " 'U9': 114,\n",
       " 'U@': 95,\n",
       " 'UA': 97,\n",
       " 'UE': 113,\n",
       " 'UE:': 101,\n",
       " 'UM': 101,\n",
       " 'UO': 92,\n",
       " 'UQ': 92,\n",
       " 'UV': 122,\n",
       " 'Ua': 102,\n",
       " 'Ue': 101,\n",
       " 'Ui': 111,\n",
       " 'Uo': 86,\n",
       " 'Uu': 89,\n",
       " 'Uy': 103,\n",
       " 'V&': 103,\n",
       " 'V2': 99,\n",
       " 'V7': 74,\n",
       " 'V9': 88,\n",
       " 'V@': 92,\n",
       " 'VA': 113,\n",
       " 'VE': 96,\n",
       " 'VE:': 80,\n",
       " 'VM': 104,\n",
       " 'VO': 102,\n",
       " 'VQ': 79,\n",
       " 'VU': 102,\n",
       " 'Va': 104,\n",
       " 'Ve': 89,\n",
       " 'Vi': 81,\n",
       " 'Vo': 96,\n",
       " 'Vu': 100,\n",
       " 'Vy': 101,\n",
       " 'a&': 91,\n",
       " 'a2': 95,\n",
       " 'a7': 94,\n",
       " 'a9': 110,\n",
       " 'a@': 92,\n",
       " 'aA': 104,\n",
       " 'aE': 98,\n",
       " 'aE:': 95,\n",
       " 'aM': 106,\n",
       " 'aO': 104,\n",
       " 'aQ': 75,\n",
       " 'aU': 94,\n",
       " 'aV': 114,\n",
       " 'ae': 100,\n",
       " 'ai': 111,\n",
       " 'ao': 94,\n",
       " 'au': 98,\n",
       " 'ay': 103,\n",
       " 'e&': 92,\n",
       " 'e2': 103,\n",
       " 'e7': 101,\n",
       " 'e9': 95,\n",
       " 'e@': 102,\n",
       " 'eA': 102,\n",
       " 'eE': 101,\n",
       " 'eE:': 93,\n",
       " 'eM': 103,\n",
       " 'eO': 111,\n",
       " 'eQ': 110,\n",
       " 'eU': 93,\n",
       " 'eV': 91,\n",
       " 'ea': 105,\n",
       " 'ei': 80,\n",
       " 'eo': 81,\n",
       " 'eu': 81,\n",
       " 'ey': 75,\n",
       " 'i&': 86,\n",
       " 'i2': 99,\n",
       " 'i7': 75,\n",
       " 'i9': 103,\n",
       " 'i@': 97,\n",
       " 'iA': 91,\n",
       " 'iE': 98,\n",
       " 'iE:': 87,\n",
       " 'iM': 87,\n",
       " 'iO': 79,\n",
       " 'iQ': 106,\n",
       " 'iU': 101,\n",
       " 'iV': 96,\n",
       " 'ia': 102,\n",
       " 'ie': 94,\n",
       " 'io': 94,\n",
       " 'iu': 95,\n",
       " 'iy': 80,\n",
       " 'o&': 105,\n",
       " 'o2': 89,\n",
       " 'o7': 67,\n",
       " 'o9': 80,\n",
       " 'o@': 103,\n",
       " 'oA': 100,\n",
       " 'oE': 91,\n",
       " 'oE:': 81,\n",
       " 'oM': 86,\n",
       " 'oO': 96,\n",
       " 'oQ': 80,\n",
       " 'oU': 91,\n",
       " 'oV': 80,\n",
       " 'oa': 102,\n",
       " 'oe': 92,\n",
       " 'oi': 77,\n",
       " 'ou': 77,\n",
       " 'oy': 76,\n",
       " 'u&': 98,\n",
       " 'u2': 86,\n",
       " 'u7': 91,\n",
       " 'u9': 91,\n",
       " 'u@': 83,\n",
       " 'uA': 95,\n",
       " 'uE': 97,\n",
       " 'uE:': 111,\n",
       " 'uM': 95,\n",
       " 'uO': 104,\n",
       " 'uQ': 91,\n",
       " 'uU': 93,\n",
       " 'uV': 95,\n",
       " 'ua': 83,\n",
       " 'ue': 89,\n",
       " 'ui': 99,\n",
       " 'uo': 84,\n",
       " 'uy': 94,\n",
       " 'y&': 82,\n",
       " 'y2': 97,\n",
       " 'y7': 74,\n",
       " 'y9': 95,\n",
       " 'y@': 105,\n",
       " 'yA': 84,\n",
       " 'yE': 89,\n",
       " 'yE:': 110,\n",
       " 'yM': 109,\n",
       " 'yO': 97,\n",
       " 'yQ': 107,\n",
       " 'yU': 106,\n",
       " 'yV': 108,\n",
       " 'ya': 95,\n",
       " 'ye': 80,\n",
       " 'yi': 109,\n",
       " 'yo': 80,\n",
       " 'yu': 89}"
      ]
     },
     "execution_count": 66,
     "metadata": {},
     "output_type": "execute_result"
    }
   ],
   "source": [
    "train_numeric"
   ]
  },
  {
   "cell_type": "code",
   "execution_count": null,
   "metadata": {},
   "outputs": [],
   "source": []
  }
 ],
 "metadata": {
  "kernelspec": {
   "display_name": "Python 3",
   "language": "python",
   "name": "python3"
  },
  "language_info": {
   "codemirror_mode": {
    "name": "ipython",
    "version": 3
   },
   "file_extension": ".py",
   "mimetype": "text/x-python",
   "name": "python",
   "nbconvert_exporter": "python",
   "pygments_lexer": "ipython3",
   "version": "3.6.10"
  }
 },
 "nbformat": 4,
 "nbformat_minor": 4
}
