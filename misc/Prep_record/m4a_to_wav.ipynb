{
 "cells": [
  {
   "cell_type": "code",
   "execution_count": 1,
   "metadata": {},
   "outputs": [],
   "source": [
    "from __future__ import absolute_import, division, print_function, unicode_literals\n",
    "import numpy as np\n",
    "import pandas as pd\n",
    "import matplotlib.pyplot as plt\n",
    "import os\n",
    "from os.path import join\n",
    "import librosa\n",
    "from scipy.signal import wiener\n",
    "from joblib import dump, load\n",
    "from time import time\n",
    "from datetime import datetime\n",
    "import shutil \n",
    "import argparse\n",
    "from functools import partial\n",
    "import pickle\n",
    "from IPython.display import Audio\n",
    "import scipy\n",
    "from sklearn.model_selection import train_test_split\n",
    "from sklearn.metrics import classification_report, confusion_matrix\n",
    "from sklearn.preprocessing import OneHotEncoder\n",
    "from pydub import AudioSegment\n",
    "import pydub\n",
    "from pathlib import Path\n",
    "import simpleaudio"
   ]
  },
  {
   "cell_type": "code",
   "execution_count": 2,
   "metadata": {},
   "outputs": [],
   "source": [
    "np_load_old = partial(np.load)\n",
    "np.load = lambda *a,**k: np_load_old(*a, allow_pickle=True, **k)"
   ]
  },
  {
   "cell_type": "code",
   "execution_count": 5,
   "metadata": {},
   "outputs": [],
   "source": [
    "def convert_m4a_to_wav(data_path):\n",
    "    \n",
    "    data_path_ori = data_path+'/raw'\n",
    "    data_path= data_path+'/original'\n",
    "    \n",
    "    with open(join(data_path_ori,'sound_set.txt'), 'r') as f:\n",
    "        data = np.array(f.read().split(','))\n",
    "    audio_paths = [join(data_path_ori,file+'.m4a') for file in data]\n",
    "    audio_paths_wav = [join(data_path,file+'.wav') for file in data]\n",
    "    _ = [ AudioSegment.from_file(file).export(audio_paths_wav[idx], format='wav') for idx, file in enumerate(audio_paths) ]"
   ]
  },
  {
   "cell_type": "code",
   "execution_count": 7,
   "metadata": {},
   "outputs": [],
   "source": [
    "DATA_PATH = '../../data/d_records/d_record_sorn'\n",
    "\n",
    "AudioSegment.converter = '../../ffmpeg/bin/ffmpeg.exe'\n",
    "convert_m4a_to_wav(DATA_PATH)"
   ]
  },
  {
   "cell_type": "code",
   "execution_count": null,
   "metadata": {},
   "outputs": [],
   "source": []
  }
 ],
 "metadata": {
  "kernelspec": {
   "display_name": "Python 3",
   "language": "python",
   "name": "python3"
  },
  "language_info": {
   "codemirror_mode": {
    "name": "ipython",
    "version": 3
   },
   "file_extension": ".py",
   "mimetype": "text/x-python",
   "name": "python",
   "nbconvert_exporter": "python",
   "pygments_lexer": "ipython3",
   "version": "3.6.10"
  }
 },
 "nbformat": 4,
 "nbformat_minor": 4
}
