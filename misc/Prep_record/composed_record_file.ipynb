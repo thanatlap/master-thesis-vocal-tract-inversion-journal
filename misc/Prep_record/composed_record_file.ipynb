{
 "cells": [
  {
   "cell_type": "markdown",
   "metadata": {},
   "source": [
    "# Composed Recorded File\n",
    "composed all the recorded file from different folder into one file\n",
    "- Created: 02 April 2020"
   ]
  },
  {
   "cell_type": "code",
   "execution_count": 2,
   "metadata": {},
   "outputs": [],
   "source": [
    "from __future__ import absolute_import, division, print_function, unicode_literals\n",
    "import librosa\n",
    "import numpy as np\n",
    "import pandas as pd\n",
    "import math\n",
    "import matplotlib.pyplot as plt\n",
    "import librosa.display\n",
    "from matplotlib import cm\n",
    "from functools import partial\n",
    "\n",
    "import sklearn\n",
    "from sklearn.decomposition import PCA\n",
    "from os import makedirs\n",
    "import os\n",
    "from os.path import join\n",
    "import shutil\n",
    "from IPython import display\n",
    "import scipy\n",
    "\n",
    "%matplotlib inline"
   ]
  },
  {
   "cell_type": "code",
   "execution_count": 3,
   "metadata": {},
   "outputs": [],
   "source": [
    "np_load_old = partial(np.load)\n",
    "np.load = lambda *a,**k: np_load_old(*a, allow_pickle=True, **k)\n",
    "# np.random.seed(42)"
   ]
  },
  {
   "cell_type": "code",
   "execution_count": 19,
   "metadata": {},
   "outputs": [],
   "source": [
    "def composed_data():\n",
    "    \n",
    "    dataset = [1,2,3,4,5,6,7,8]\n",
    "    audio_data = []\n",
    "    output_folder = '../data/d_records/all'\n",
    "    \n",
    "    makedirs(output_folder, exist_ok=True)\n",
    "    \n",
    "    for idx in dataset:\n",
    "    \n",
    "        folder = '../data/d_records/d_record_set_{}'.format(idx)\n",
    "        filepath = join(folder,'sound_set.txt')\n",
    "        with open(filepath, 'r') as f:\n",
    "            data = np.array(f.read().split(','))\n",
    "        record_data = np.array([librosa.load(join(folder, file+'.wav'), sr=16000)[0] for file in data])\n",
    "    \n",
    "        audio_data.extend(record_data)\n",
    "        \n",
    "    _ = [scipy.io.wavfile.write(join(output_folder,'sound{}.wav'.format(idx)), 16000, sig) for idx, sig in enumerate(audio_data)]\n",
    "    \n",
    "    with open(join(output_folder,'sound_set.txt'), 'w') as f:\n",
    "        for i in range(len(audio_data)):\n",
    "            f.write('sound{},'.format(i))"
   ]
  },
  {
   "cell_type": "code",
   "execution_count": 20,
   "metadata": {},
   "outputs": [],
   "source": [
    "composed_data()"
   ]
  },
  {
   "cell_type": "code",
   "execution_count": 3,
   "metadata": {},
   "outputs": [
    {
     "ename": "TypeError",
     "evalue": "Required argument 'start' (pos 1) not found",
     "output_type": "error",
     "traceback": [
      "\u001b[1;31m---------------------------------------------------------------------------\u001b[0m",
      "\u001b[1;31mTypeError\u001b[0m                                 Traceback (most recent call last)",
      "\u001b[1;32m<ipython-input-3-600623f072f6>\u001b[0m in \u001b[0;36m<module>\u001b[1;34m\u001b[0m\n\u001b[1;32m----> 1\u001b[1;33m \u001b[0mnp\u001b[0m\u001b[1;33m.\u001b[0m\u001b[0marange\u001b[0m\u001b[1;33m(\u001b[0m\u001b[1;33m)\u001b[0m\u001b[1;33m\u001b[0m\u001b[1;33m\u001b[0m\u001b[0m\n\u001b[0m",
      "\u001b[1;31mTypeError\u001b[0m: Required argument 'start' (pos 1) not found"
     ]
    }
   ],
   "source": [
    "np.arange()"
   ]
  },
  {
   "cell_type": "code",
   "execution_count": 5,
   "metadata": {},
   "outputs": [
    {
     "data": {
      "text/plain": [
       "[1, 2, 3, 2, 3, 4]"
      ]
     },
     "execution_count": 5,
     "metadata": {},
     "output_type": "execute_result"
    }
   ],
   "source": [
    "a = [1,2,3]\n",
    "b = [2,3,4]\n",
    "a + b"
   ]
  },
  {
   "cell_type": "code",
   "execution_count": null,
   "metadata": {},
   "outputs": [],
   "source": []
  }
 ],
 "metadata": {
  "kernelspec": {
   "display_name": "Python 3",
   "language": "python",
   "name": "python3"
  },
  "language_info": {
   "codemirror_mode": {
    "name": "ipython",
    "version": 3
   },
   "file_extension": ".py",
   "mimetype": "text/x-python",
   "name": "python",
   "nbconvert_exporter": "python",
   "pygments_lexer": "ipython3",
   "version": "3.6.10"
  }
 },
 "nbformat": 4,
 "nbformat_minor": 4
}
