{
 "cells": [
  {
   "cell_type": "markdown",
   "metadata": {},
   "source": [
    "# MFCC preprocessing\n",
    "Prototype and playground for mfcc preprocessing"
   ]
  },
  {
   "cell_type": "code",
   "execution_count": 183,
   "metadata": {},
   "outputs": [],
   "source": [
    "import numpy as np\n",
    "import pickle"
   ]
  },
  {
   "cell_type": "markdown",
   "metadata": {},
   "source": [
    "Initialize toy data with different frame, each frame have same number of cepstral/item\n",
    "- (data, frame, cepstral)"
   ]
  },
  {
   "cell_type": "code",
   "execution_count": null,
   "metadata": {},
   "outputs": [],
   "source": [
    "mfcc = np.array([\n",
    "    np.array([[1,2,1],[2,2,2],[3,3,3],[3,3,3],[3,3,3]]),\n",
    "    np.array([[2,2,2],[3,3,3],[4,4,4],[4,4,4]]),\n",
    "    np.array([[3,3,3],[4,4,4],[5,5,5],[5,5,5],[5,5,5],[5,5,5]]),\n",
    "    np.array([[5,5,5],[6,6,6]])\n",
    "])"
   ]
  },
  {
   "cell_type": "markdown",
   "metadata": {},
   "source": [
    "## Normalizing"
   ]
  },
  {
   "cell_type": "code",
   "execution_count": 115,
   "metadata": {},
   "outputs": [
    {
     "data": {
      "text/plain": [
       "array([3.9125, 3.9625, 3.9125])"
      ]
     },
     "execution_count": 115,
     "metadata": {},
     "output_type": "execute_result"
    }
   ],
   "source": [
    "mfcc_mean = np.mean([np.mean(item, axis=0) for item in mfcc], axis=0)\n",
    "mfcc_mean"
   ]
  },
  {
   "cell_type": "code",
   "execution_count": 130,
   "metadata": {},
   "outputs": [
    {
     "data": {
      "text/plain": [
       "array([0.7232297 , 0.64570419, 0.7232297 ])"
      ]
     },
     "execution_count": 130,
     "metadata": {},
     "output_type": "execute_result"
    }
   ],
   "source": [
    "mfcc_std = np.mean([np.std(item, axis=0) for item in mfcc], axis=0)\n",
    "mfcc_std"
   ]
  },
  {
   "cell_type": "code",
   "execution_count": 131,
   "metadata": {},
   "outputs": [
    {
     "data": {
      "text/plain": [
       "[array([[-4.02707464, -3.03931743, -4.02707464],\n",
       "        [-2.64438807, -3.03931743, -2.64438807],\n",
       "        [-1.2617015 , -1.49062065, -1.2617015 ],\n",
       "        [-1.2617015 , -1.49062065, -1.2617015 ],\n",
       "        [-1.2617015 , -1.49062065, -1.2617015 ]]),\n",
       " array([[-2.64438807, -3.03931743, -2.64438807],\n",
       "        [-1.2617015 , -1.49062065, -1.2617015 ],\n",
       "        [ 0.12098508,  0.05807613,  0.12098508],\n",
       "        [ 0.12098508,  0.05807613,  0.12098508]]),\n",
       " array([[-1.2617015 , -1.49062065, -1.2617015 ],\n",
       "        [ 0.12098508,  0.05807613,  0.12098508],\n",
       "        [ 1.50367165,  1.60677291,  1.50367165],\n",
       "        [ 1.50367165,  1.60677291,  1.50367165],\n",
       "        [ 1.50367165,  1.60677291,  1.50367165],\n",
       "        [ 1.50367165,  1.60677291,  1.50367165]]),\n",
       " array([[1.50367165, 1.60677291, 1.50367165],\n",
       "        [2.88635822, 3.15546969, 2.88635822]])]"
      ]
     },
     "execution_count": 131,
     "metadata": {},
     "output_type": "execute_result"
    }
   ],
   "source": [
    "mfcc_sub = [(item-mfcc_mean)/mfcc_std for item in mfcc]\n",
    "mfcc_sub"
   ]
  },
  {
   "cell_type": "code",
   "execution_count": 132,
   "metadata": {},
   "outputs": [],
   "source": [
    "def normalize_mfcc_by_mean_cepstral(mfcc):\n",
    "    ceps_mean = np.mean([np.mean(item, axis=0) for item in mfcc], axis=0)\n",
    "    ceps_std = np.mean([np.std(item, axis=0) for item in mfcc], axis=0)\n",
    "    return np.array([(item-ceps_mean)/ceps_std for item in mfcc])"
   ]
  },
  {
   "cell_type": "code",
   "execution_count": 134,
   "metadata": {},
   "outputs": [],
   "source": [
    "norm_mfcc = normalize_mfcc_by_mean_cepstral(mfcc)"
   ]
  },
  {
   "cell_type": "markdown",
   "metadata": {},
   "source": [
    "## Padding"
   ]
  },
  {
   "cell_type": "code",
   "execution_count": 180,
   "metadata": {},
   "outputs": [
    {
     "data": {
      "text/plain": [
       "6"
      ]
     },
     "execution_count": 180,
     "metadata": {},
     "output_type": "execute_result"
    }
   ],
   "source": [
    "def find_max_length(x):\n",
    "    return max([item.shape[0] for item in x])\n",
    "\n",
    "find_max_length(norm_mfcc)"
   ]
  },
  {
   "cell_type": "code",
   "execution_count": 229,
   "metadata": {},
   "outputs": [
    {
     "data": {
      "text/plain": [
       "[array([[ 0.        ,  0.        ,  0.        ],\n",
       "        [-4.02707464, -3.03931743, -4.02707464],\n",
       "        [-2.64438807, -3.03931743, -2.64438807],\n",
       "        [-1.2617015 , -1.49062065, -1.2617015 ],\n",
       "        [-1.2617015 , -1.49062065, -1.2617015 ],\n",
       "        [-1.2617015 , -1.49062065, -1.2617015 ]]),\n",
       " array([[ 0.        ,  0.        ,  0.        ],\n",
       "        [ 0.        ,  0.        ,  0.        ],\n",
       "        [-2.64438807, -3.03931743, -2.64438807],\n",
       "        [-1.2617015 , -1.49062065, -1.2617015 ],\n",
       "        [ 0.12098508,  0.05807613,  0.12098508],\n",
       "        [ 0.12098508,  0.05807613,  0.12098508]]),\n",
       " array([[-1.2617015 , -1.49062065, -1.2617015 ],\n",
       "        [ 0.12098508,  0.05807613,  0.12098508],\n",
       "        [ 1.50367165,  1.60677291,  1.50367165],\n",
       "        [ 1.50367165,  1.60677291,  1.50367165],\n",
       "        [ 1.50367165,  1.60677291,  1.50367165],\n",
       "        [ 1.50367165,  1.60677291,  1.50367165]]),\n",
       " array([[0.        , 0.        , 0.        ],\n",
       "        [0.        , 0.        , 0.        ],\n",
       "        [0.        , 0.        , 0.        ],\n",
       "        [0.        , 0.        , 0.        ],\n",
       "        [1.50367165, 1.60677291, 1.50367165],\n",
       "        [2.88635822, 3.15546969, 2.88635822]])]"
      ]
     },
     "execution_count": 229,
     "metadata": {},
     "output_type": "execute_result"
    }
   ],
   "source": [
    "def pad_data(vector, pad_width, iaxis, kwargs):\n",
    "    pad_value = kwargs.get('padder', 0)\n",
    "    vector[:pad_width[0]] = pad_value\n",
    "\n",
    "max_length = find_max_length(norm_mfcc)\n",
    "[np.pad(item, [(max(0, max_length-item.shape[0]),0),(0,0)], pad_with) for item in norm_mfcc]"
   ]
  },
  {
   "cell_type": "markdown",
   "metadata": {},
   "source": [
    "## Preprocess from audio to mfcc\n",
    "- (data, feature, timeframe)"
   ]
  },
  {
   "cell_type": "code",
   "execution_count": 227,
   "metadata": {},
   "outputs": [],
   "source": [
    "import os\n",
    "import math\n",
    "from functools import partial\n",
    "import librosa\n",
    "from librosa import feature\n",
    "\n",
    "# np_load_old = partial(np.load)\n",
    "# np.load = lambda *a,**k: np_load_old(*a, allow_pickle=True, **k)"
   ]
  },
  {
   "cell_type": "code",
   "execution_count": 191,
   "metadata": {},
   "outputs": [],
   "source": [
    "audio_data = np.load(os.path.join('../data/d_dataset_t3','dataset.npz'))['ns_audio_data'][:20]"
   ]
  },
  {
   "cell_type": "code",
   "execution_count": 194,
   "metadata": {},
   "outputs": [
    {
     "data": {
      "text/plain": [
       "(20,)"
      ]
     },
     "execution_count": 194,
     "metadata": {},
     "output_type": "execute_result"
    }
   ],
   "source": [
    "audio_data.shape"
   ]
  },
  {
   "cell_type": "code",
   "execution_count": 192,
   "metadata": {},
   "outputs": [],
   "source": [
    "def split_audio(audio_data):\n",
    "    # split audio\n",
    "    split_audio = np.array([data[:math.ceil(0.5*len(data))] if j == 0 else data[math.floor(0.5*len(data)):] for i, data in enumerate(audio_data) for j in range(2)])\n",
    "    return split_audio"
   ]
  },
  {
   "cell_type": "code",
   "execution_count": 197,
   "metadata": {},
   "outputs": [],
   "source": [
    "split_audio_data = split_audio(audio_data)"
   ]
  },
  {
   "cell_type": "code",
   "execution_count": 198,
   "metadata": {},
   "outputs": [
    {
     "data": {
      "text/plain": [
       "(40,)"
      ]
     },
     "execution_count": 198,
     "metadata": {},
     "output_type": "execute_result"
    }
   ],
   "source": [
    "split_audio_data.shape"
   ]
  },
  {
   "cell_type": "code",
   "execution_count": 221,
   "metadata": {},
   "outputs": [],
   "source": [
    "outputs = []\n",
    "for data in split_audio_data:\n",
    "    mfcc = feature.mfcc(data, sr=16000, n_mfcc = 13)\n",
    "    outputs.append(np.swapaxes(np.concatenate((mfcc,feature.delta(mfcc),feature.delta(mfcc, order=2)),axis=0),0,1))"
   ]
  },
  {
   "cell_type": "code",
   "execution_count": 222,
   "metadata": {},
   "outputs": [],
   "source": [
    "outputs = np.array(outputs)"
   ]
  },
  {
   "cell_type": "code",
   "execution_count": 225,
   "metadata": {},
   "outputs": [],
   "source": [
    "outputs = normalize_mfcc_by_mean_cepstral(outputs)\n",
    "max_length = find_max_length(outputs)\n",
    "outputs = np.array([np.pad(item, [(0,max(0, max_length-item.shape[0])),(0,0)], pad_with) for item in outputs])"
   ]
  },
  {
   "cell_type": "code",
   "execution_count": 226,
   "metadata": {},
   "outputs": [
    {
     "data": {
      "text/plain": [
       "(40, 23, 39)"
      ]
     },
     "execution_count": 226,
     "metadata": {},
     "output_type": "execute_result"
    }
   ],
   "source": [
    "outputs.shape"
   ]
  },
  {
   "cell_type": "code",
   "execution_count": null,
   "metadata": {},
   "outputs": [],
   "source": []
  }
 ],
 "metadata": {
  "kernelspec": {
   "display_name": "Python 3",
   "language": "python",
   "name": "python3"
  },
  "language_info": {
   "codemirror_mode": {
    "name": "ipython",
    "version": 3
   },
   "file_extension": ".py",
   "mimetype": "text/x-python",
   "name": "python",
   "nbconvert_exporter": "python",
   "pygments_lexer": "ipython3",
   "version": "3.6.10"
  }
 },
 "nbformat": 4,
 "nbformat_minor": 4
}
