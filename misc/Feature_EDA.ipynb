{
 "cells": [
  {
   "cell_type": "markdown",
   "metadata": {},
   "source": [
    "# Compare Synthesized Acoustic with Recorded Acoustic "
   ]
  },
  {
   "cell_type": "code",
   "execution_count": 1,
   "metadata": {},
   "outputs": [],
   "source": [
    "import numpy as np\n",
    "import librosa\n",
    "import matplotlib.pyplot as plt\n",
    "import librosa.display\n",
    "import librosa\n",
    "from librosa import feature\n",
    "from IPython import display\n",
    "from matplotlib import cm\n",
    "from functools import partial\n",
    "np_load_old = partial(np.load)\n",
    "np.load = lambda *a,**k: np_load_old(*a, allow_pickle=True, **k)\n",
    "\n",
    "%matplotlib inline"
   ]
  },
  {
   "cell_type": "code",
   "execution_count": 33,
   "metadata": {},
   "outputs": [],
   "source": [
    "mfcc_syn = np.load('../data/feature_eda/prep_exp11/features.npy')\n",
    "mfcc_record = np.load('../data/d_records/d_record_set_2/prep_exp11/features.npy')"
   ]
  },
  {
   "cell_type": "code",
   "execution_count": 30,
   "metadata": {},
   "outputs": [],
   "source": [
    "def plot_mfcc(mfcc, idx=1):\n",
    "    fig, ax = plt.subplots(figsize=(10,5))\n",
    "    cax = ax.imshow(np.swapaxes(mfcc[idx], 0 ,1)[:13], interpolation='nearest', cmap=cm.coolwarm, origin='lower')\n",
    "    ax.set_title('MFCC')\n",
    "\n",
    "    plt.show()"
   ]
  },
  {
   "cell_type": "code",
   "execution_count": 37,
   "metadata": {},
   "outputs": [
    {
     "data": {
      "image/png": "[encoded data removed]",
      "text/plain": [
       "<Figure size 720x360 with 1 Axes>"
      ]
     },
     "metadata": {
      "needs_background": "light"
     },
     "output_type": "display_data"
    }
   ],
   "source": [
    "plot_mfcc(mfcc_syn, idx=0)"
   ]
  },
  {
   "cell_type": "code",
   "execution_count": 38,
   "metadata": {},
   "outputs": [
    {
     "data": {
      "image/png": "[encoded data removed]",
      "text/plain": [
       "<Figure size 720x360 with 1 Axes>"
      ]
     },
     "metadata": {
      "needs_background": "light"
     },
     "output_type": "display_data"
    }
   ],
   "source": [
    "plot_mfcc(mfcc_record, idx=0)"
   ]
  },
  {
   "cell_type": "code",
   "execution_count": 42,
   "metadata": {},
   "outputs": [
    {
     "data": {
      "text/plain": [
       "array(['a:;1', 'i:;2', 'a:;1', 'u:;2', 'a:;1', 'e:;2', 'a:;1', 'E;2',\n",
       "       'a:;1', 'o;2', 'a:;1', '@;2', 'a:;1', '9;2', 'a:;1', 'O;2', 'i:;1',\n",
       "       'a:;2', 'i:;1', 'u:;2', 'i:;1', 'e:;2', 'i:;1', 'E;2', 'i:;1',\n",
       "       'o;2', 'i:;1', '@;2', 'i:;1', '9;2', 'i:;1', 'O;2', 'u:;1', 'a:;2',\n",
       "       'u:;1', 'i:;2', 'u:;1', 'e:;2', 'u:;1', 'E;2', 'u:;1', 'o;2',\n",
       "       'u:;1', '@;2', 'u:;1', '9;2', 'u:;1', 'O;2', 'e:;1', 'a:;2',\n",
       "       'e:;1', 'i:;2', 'e:;1', 'u:;2', 'e:;1', 'E;2', 'e:;1', 'o;2',\n",
       "       'e:;1', '@;2', 'e:;1', '9;2', 'e:;1', 'O;2', 'E;1', 'a:;2', 'E;1',\n",
       "       'i:;2', 'E;1', 'u:;2', 'E;1', 'e:;2', 'E;1', 'o;2', 'E;1', '@;2',\n",
       "       'E;1', '9;2', 'E;1', 'O;2', 'o;1', 'a:;2', 'o;1', 'i:;2', 'o;1',\n",
       "       'u:;2', 'o;1', 'e:;2', 'o;1', 'E;2', 'o;1', '@;2', 'o;1', '9;2',\n",
       "       'o;1', 'O;2', '@;1', 'a:;2', '@;1', 'i:;2', '@;1', 'u:;2', '@;1',\n",
       "       'e:;2', '@;1', 'E;2', '@;1', 'o;2', '@;1', '9;2', '@;1', 'O;2',\n",
       "       '9;1', 'a:;2', '9;1', 'i:;2', '9;1', 'u:;2', '9;1', 'e:;2', '9;1',\n",
       "       'E;2', '9;1', 'o;2', '9;1', '@;2', '9;1', 'O;2', 'O;1', 'a:;2',\n",
       "       'O;1', 'i:;2', 'O;1', 'u:;2', 'O;1', 'e:;2', 'O;1', 'E;2', 'O;1',\n",
       "       'o;2', 'O;1', '@;2', 'O;1', '9;2'], dtype='<U4')"
      ]
     },
     "execution_count": 42,
     "metadata": {},
     "output_type": "execute_result"
    }
   ],
   "source": [
    "np.load('../data/d_eval/syllable_name.npy')"
   ]
  },
  {
   "cell_type": "code",
   "execution_count": null,
   "metadata": {},
   "outputs": [],
   "source": []
  }
 ],
 "metadata": {
  "kernelspec": {
   "display_name": "Python 3",
   "language": "python",
   "name": "python3"
  },
  "language_info": {
   "codemirror_mode": {
    "name": "ipython",
    "version": 3
   },
   "file_extension": ".py",
   "mimetype": "text/x-python",
   "name": "python",
   "nbconvert_exporter": "python",
   "pygments_lexer": "ipython3",
   "version": "3.6.10"
  }
 },
 "nbformat": 4,
 "nbformat_minor": 4
}
