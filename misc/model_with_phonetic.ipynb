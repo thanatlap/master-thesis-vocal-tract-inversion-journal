{
 "cells": [
  {
   "cell_type": "markdown",
   "metadata": {},
   "source": [
    "# Speech + Phonetic AAI Model"
   ]
  },
  {
   "cell_type": "code",
   "execution_count": 160,
   "metadata": {},
   "outputs": [],
   "source": [
    "from __future__ import absolute_import, division, print_function, unicode_literals\n",
    "import numpy as np\n",
    "import pandas as pd\n",
    "import matplotlib.pyplot as plt\n",
    "import os\n",
    "from os.path import join\n",
    "import tensorflow as tf\n",
    "from tensorflow import keras\n",
    "\n",
    "from tensorflow.keras import models\n",
    "from tensorflow.keras import optimizers\n",
    "from tensorflow.keras import regularizers\n",
    "from tensorflow.keras import callbacks\n",
    "from time import time\n",
    "from datetime import datetime\n",
    "import shutil \n",
    "import argparse\n",
    "from functools import partial\n",
    "import pickle\n",
    "from IPython.display import Audio\n",
    "\n",
    "import tensorflow as tf\n",
    "from tensorflow import keras\n",
    "from tensorflow.keras import layers\n",
    "from tensorflow.keras import backend as K\n",
    "from tensorflow.keras import regularizers\n",
    "from tensorflow.keras.layers import Reshape, GRU, InputLayer, AlphaDropout, Activation, BatchNormalization, Dropout, Flatten, Dense, Bidirectional, LSTM, Conv1D, SpatialDropout1D, Concatenate\n",
    "\n",
    "from sklearn.model_selection import train_test_split\n",
    "from sklearn.metrics import classification_report, confusion_matrix\n",
    "from sklearn.preprocessing import OneHotEncoder"
   ]
  },
  {
   "cell_type": "code",
   "execution_count": 127,
   "metadata": {},
   "outputs": [],
   "source": [
    "np_load_old = partial(np.load)\n",
    "np.load = lambda *a,**k: np_load_old(*a, allow_pickle=True, **k)"
   ]
  },
  {
   "cell_type": "markdown",
   "metadata": {},
   "source": [
    "## Metric Function"
   ]
  },
  {
   "cell_type": "code",
   "execution_count": 128,
   "metadata": {},
   "outputs": [],
   "source": [
    "def rmse(y_true, y_pred):\n",
    "    return K.sqrt(K.mean(K.square(y_pred - y_true), axis=-1))\n",
    "\n",
    "def R2(y_true, y_pred):\n",
    "    SS_res =  K.sum(K.square(y_true - y_pred), axis = 0) \n",
    "    SS_tot = K.sum(K.square(y_true - K.mean(y_true, axis = 0)), axis = 0) \n",
    "    return K.mean(1 - (SS_res/SS_tot), axis=0)"
   ]
  },
  {
   "cell_type": "markdown",
   "metadata": {},
   "source": [
    "## Utility Functions"
   ]
  },
  {
   "cell_type": "code",
   "execution_count": 129,
   "metadata": {},
   "outputs": [],
   "source": [
    "#Function for preprocessing data\n",
    "def delete_params(params):\n",
    "    '''\n",
    "    This function remove JX, WC, TRX, TRY, and MS1,2,3 paramter\n",
    "    '''\n",
    "    DEL_PARAMS_LIST = [2,8,15,16,21,22,23]\n",
    "    return np.delete(params,DEL_PARAMS_LIST , axis=1)"
   ]
  },
  {
   "cell_type": "code",
   "execution_count": 130,
   "metadata": {},
   "outputs": [],
   "source": [
    "def compute_rmse(actual,pred, axis=1):\n",
    "    # Compute RMSE by row (axis=1) result in rmse of each data\n",
    "    # Compute RMSE by column (axis=0) result in rmse of each label\n",
    "    return np.sqrt((np.square(actual - pred)).mean(axis=axis))"
   ]
  },
  {
   "cell_type": "code",
   "execution_count": 131,
   "metadata": {},
   "outputs": [],
   "source": [
    "def evaluate_model(y_pred, label):\n",
    "    y_pred = enc.inverse_transform(y_pred)\n",
    "    label = enc.inverse_transform(label)\n",
    "    print('Confusion Matrix')\n",
    "    print(confusion_matrix(label, y_pred))\n",
    "    print('Classification Report')\n",
    "    print(classification_report(label, y_pred))"
   ]
  },
  {
   "cell_type": "code",
   "execution_count": 132,
   "metadata": {},
   "outputs": [],
   "source": [
    "def compute_se(actual,pred):\n",
    "    return np.sqrt((np.square(actual - pred)))"
   ]
  },
  {
   "cell_type": "markdown",
   "metadata": {},
   "source": [
    "## Load Data "
   ]
  },
  {
   "cell_type": "code",
   "execution_count": 133,
   "metadata": {},
   "outputs": [],
   "source": [
    "def prep_data():\n",
    "\n",
    "    # load data from preprocess pipeline\n",
    "    dataset = np.load(join('../data/d_dataset_p1/prep_data_13_2','training_subsets.npz'))\n",
    "    X_train =dataset['X_train']\n",
    "    y_train= dataset['y_train']\n",
    "    z_train= dataset['z_train']\n",
    "    X_val = dataset['X_val']\n",
    "    y_val = dataset['y_val']\n",
    "    z_val = dataset['z_val']\n",
    "    X_test = dataset['X_test']\n",
    "    y_test = dataset['y_test']\n",
    "    z_test = dataset['z_test']\n",
    "    a_test = dataset['audio_test']\n",
    "    a_val = dataset['audio_val']\n",
    "    \n",
    "    y_train = delete_params(y_train)\n",
    "    y_val = delete_params(y_val)\n",
    "    y_test = delete_params(y_test)\n",
    "\n",
    "    print('Train features and labels %s %s'%(str(X_train.shape),str(y_train.shape)))\n",
    "    print('Validating features and labels %s %s'%(str(X_val.shape),str(y_val.shape)))\n",
    "    print('Test features and labels %s %s'%(str(X_test.shape),str(y_test.shape)))\n",
    "\n",
    "    return X_train, X_val, X_test, y_train, y_val, y_test, z_train, z_val, z_test, a_test, a_val"
   ]
  },
  {
   "cell_type": "code",
   "execution_count": 134,
   "metadata": {},
   "outputs": [
    {
     "name": "stdout",
     "output_type": "stream",
     "text": [
      "Train features and labels (98746, 24, 39) (98746, 17)\n",
      "Validating features and labels (12094, 24, 39) (12094, 17)\n",
      "Test features and labels (12092, 24, 39) (12092, 17)\n"
     ]
    }
   ],
   "source": [
    "X_train, X_val, X_test, y_train, y_val, y_test, z_train, z_val, z_test, a_test, a_val = prep_data()"
   ]
  },
  {
   "cell_type": "code",
   "execution_count": 135,
   "metadata": {},
   "outputs": [
    {
     "name": "stdout",
     "output_type": "stream",
     "text": [
      "{'A', 'O', '@', '2', 'V', 'E', 'y', 'Q', 'M', 'i', '9', 'o', '7', 'U', 'e', 'a', '&', 'E:', 'u'}\n"
     ]
    }
   ],
   "source": [
    "print(set(z_test))"
   ]
  },
  {
   "cell_type": "code",
   "execution_count": 136,
   "metadata": {},
   "outputs": [
    {
     "name": "stdout",
     "output_type": "stream",
     "text": [
      "Train features and labels (98746, 24, 39) (98746, 17) (98746,)\n",
      "Validating features and labels (12094, 24, 39) (12094, 17) (12094,)\n",
      "Test features and labels (12092, 24, 39) (12092, 17) (12092,)\n"
     ]
    }
   ],
   "source": [
    "print('Train features and labels {} {} {}'.format(str(X_train.shape),str(y_train.shape),str(z_train.shape)))\n",
    "print('Validating features and labels {} {} {}'.format(str(X_val.shape),str(y_val.shape),str(z_val.shape)))\n",
    "print('Test features and labels {} {} {}'.format(str(X_test.shape),str(y_test.shape),str(z_test.shape)))"
   ]
  },
  {
   "cell_type": "markdown",
   "metadata": {},
   "source": [
    "### One-hot label "
   ]
  },
  {
   "cell_type": "code",
   "execution_count": 137,
   "metadata": {},
   "outputs": [],
   "source": [
    "z_train_oe=z_train.reshape(-1,1)\n",
    "z_val_oe=z_val.reshape(-1,1)\n",
    "z_test_oe=z_test.reshape(-1,1)"
   ]
  },
  {
   "cell_type": "code",
   "execution_count": 138,
   "metadata": {},
   "outputs": [],
   "source": [
    "enc = OneHotEncoder(handle_unknown = 'ignore')\n",
    "enc.fit(z_train_oe)\n",
    "\n",
    "z_train_oe = enc.transform(z_train_oe).toarray()\n",
    "z_test_oe = enc.transform(z_test_oe).toarray()\n",
    "z_val_oe = enc.transform(z_val_oe).toarray()"
   ]
  },
  {
   "cell_type": "code",
   "execution_count": 139,
   "metadata": {},
   "outputs": [
    {
     "data": {
      "text/plain": [
       "(98746, 19)"
      ]
     },
     "execution_count": 139,
     "metadata": {},
     "output_type": "execute_result"
    }
   ],
   "source": [
    "z_train_oe.shape"
   ]
  },
  {
   "cell_type": "code",
   "execution_count": 140,
   "metadata": {},
   "outputs": [
    {
     "data": {
      "text/plain": [
       "(12094, 19)"
      ]
     },
     "execution_count": 140,
     "metadata": {},
     "output_type": "execute_result"
    }
   ],
   "source": [
    "z_val_oe.shape"
   ]
  },
  {
   "cell_type": "code",
   "execution_count": 141,
   "metadata": {},
   "outputs": [
    {
     "data": {
      "text/plain": [
       "array([0., 0., 0., 0., 0., 0., 0., 0., 0., 0., 0., 0., 0., 0., 1., 0., 0.,\n",
       "       0., 0.])"
      ]
     },
     "execution_count": 141,
     "metadata": {},
     "output_type": "execute_result"
    }
   ],
   "source": [
    "z_train_oe[1]"
   ]
  },
  {
   "cell_type": "markdown",
   "metadata": {},
   "source": [
    "## Defined Model "
   ]
  },
  {
   "cell_type": "code",
   "execution_count": 12,
   "metadata": {},
   "outputs": [],
   "source": [
    "N_OUTPUTS = 17\n",
    "\n",
    "pLSTM = partial(LSTM,\n",
    "    kernel_initializer='he_uniform',\n",
    "    return_sequences=True)\n",
    "\n",
    "pDense = partial(Dense,\n",
    "    kernel_initializer='he_normal',\n",
    "    activation='elu')\n",
    "\n",
    "def init_bilstm(unit=128, bi_layer_num=3, drop_rate=0.2):\n",
    "\n",
    "    def bilstm(input_shape_1,input_shape_2):\n",
    "        \n",
    "        input_x = keras.Input(shape=(input_shape_1,input_shape_2))\n",
    "        # feature extraction layers\n",
    "        x = input_x\n",
    "        for i in range(bi_layer_num-1):\n",
    "            x = Bidirectional(pLSTM(unit))(x)\n",
    "            if drop_rate: \n",
    "                x = SpatialDropout1D(rate=drop_rate)(x)\n",
    "        # output layers\n",
    "        x = Bidirectional(pLSTM(unit*2, return_sequences=False))(x)\n",
    "        if drop_rate: \n",
    "            x = Dropout(rate=drop_rate)(x)\n",
    "        x = pDense(1024, activation='relu')(x)\n",
    "        outputs_param = pDense(N_OUTPUTS, activation='linear')(x)\n",
    "        \n",
    "        model = keras.Model(inputs=input_x, outputs=outputs_param)\n",
    "        # model.summary()\n",
    "        return model\n",
    "    return bilstm"
   ]
  },
  {
   "cell_type": "code",
   "execution_count": 13,
   "metadata": {},
   "outputs": [],
   "source": [
    "model = init_bilstm()(24, 39)"
   ]
  },
  {
   "cell_type": "code",
   "execution_count": 14,
   "metadata": {},
   "outputs": [
    {
     "name": "stdout",
     "output_type": "stream",
     "text": [
      "Model: \"model\"\n",
      "_________________________________________________________________\n",
      "Layer (type)                 Output Shape              Param #   \n",
      "=================================================================\n",
      "input_1 (InputLayer)         [(None, 24, 39)]          0         \n",
      "_________________________________________________________________\n",
      "bidirectional (Bidirectional (None, 24, 256)           172032    \n",
      "_________________________________________________________________\n",
      "spatial_dropout1d (SpatialDr (None, 24, 256)           0         \n",
      "_________________________________________________________________\n",
      "bidirectional_1 (Bidirection (None, 24, 256)           394240    \n",
      "_________________________________________________________________\n",
      "spatial_dropout1d_1 (Spatial (None, 24, 256)           0         \n",
      "_________________________________________________________________\n",
      "bidirectional_2 (Bidirection (None, 512)               1050624   \n",
      "_________________________________________________________________\n",
      "dropout (Dropout)            (None, 512)               0         \n",
      "_________________________________________________________________\n",
      "dense (Dense)                (None, 1024)              525312    \n",
      "_________________________________________________________________\n",
      "dense_1 (Dense)              (None, 17)                17425     \n",
      "=================================================================\n",
      "Total params: 2,159,633\n",
      "Trainable params: 2,159,633\n",
      "Non-trainable params: 0\n",
      "_________________________________________________________________\n"
     ]
    }
   ],
   "source": [
    "model.summary()"
   ]
  },
  {
   "cell_type": "markdown",
   "metadata": {},
   "source": [
    "## Compile Model "
   ]
  },
  {
   "cell_type": "code",
   "execution_count": 16,
   "metadata": {},
   "outputs": [],
   "source": [
    "model.compile(optimizer='adam',loss='mse',metrics=[rmse, R2])"
   ]
  },
  {
   "cell_type": "markdown",
   "metadata": {},
   "source": [
    "## Train Model "
   ]
  },
  {
   "cell_type": "code",
   "execution_count": 17,
   "metadata": {},
   "outputs": [],
   "source": [
    "PATIENCE = 10\n",
    "BATCH_SIZE = 128\n",
    "EPOCHS = 30"
   ]
  },
  {
   "cell_type": "code",
   "execution_count": 18,
   "metadata": {},
   "outputs": [],
   "source": [
    "early = callbacks.EarlyStopping(monitor='val_loss', min_delta=0, patience=PATIENCE, verbose=1, mode='min', baseline=None, restore_best_weights=False)\n",
    "callback_list = [early]"
   ]
  },
  {
   "cell_type": "code",
   "execution_count": 19,
   "metadata": {},
   "outputs": [
    {
     "name": "stdout",
     "output_type": "stream",
     "text": [
      "Train on 98746 samples, validate on 12094 samples\n",
      "Epoch 1/30\n",
      "98746/98746 [==============================] - 36s 368us/sample - loss: 0.0734 - rmse: 0.2469 - R2: 0.6812 - val_loss: 0.0404 - val_rmse: 0.1809 - val_R2: 0.8270\n",
      "Epoch 2/30\n",
      "98746/98746 [==============================] - 21s 216us/sample - loss: 0.0477 - rmse: 0.1954 - R2: 0.7945 - val_loss: 0.0362 - val_rmse: 0.1705 - val_R2: 0.8449\n",
      "Epoch 3/30\n",
      "98746/98746 [==============================] - 21s 215us/sample - loss: 0.0415 - rmse: 0.1815 - R2: 0.8215 - val_loss: 0.0343 - val_rmse: 0.1622 - val_R2: 0.8542\n",
      "Epoch 4/30\n",
      "98746/98746 [==============================] - 21s 214us/sample - loss: 0.0377 - rmse: 0.1729 - R2: 0.8375 - val_loss: 0.0349 - val_rmse: 0.1619 - val_R2: 0.8497\n",
      "Epoch 5/30\n",
      "98746/98746 [==============================] - 21s 215us/sample - loss: 0.0350 - rmse: 0.1669 - R2: 0.8489 - val_loss: 0.0347 - val_rmse: 0.1608 - val_R2: 0.8521\n",
      "Epoch 6/30\n",
      "98746/98746 [==============================] - 21s 214us/sample - loss: 0.0330 - rmse: 0.1622 - R2: 0.8577 - val_loss: 0.0327 - val_rmse: 0.1566 - val_R2: 0.8598\n",
      "Epoch 7/30\n",
      "98746/98746 [==============================] - 21s 215us/sample - loss: 0.0314 - rmse: 0.1587 - R2: 0.8642 - val_loss: 0.0346 - val_rmse: 0.1576 - val_R2: 0.8526\n",
      "Epoch 8/30\n",
      "98746/98746 [==============================] - 21s 212us/sample - loss: 0.0301 - rmse: 0.1556 - R2: 0.8697 - val_loss: 0.0326 - val_rmse: 0.1552 - val_R2: 0.8603\n",
      "Epoch 9/30\n",
      "98746/98746 [==============================] - 21s 212us/sample - loss: 0.0290 - rmse: 0.1529 - R2: 0.8744 - val_loss: 0.0326 - val_rmse: 0.1540 - val_R2: 0.8609\n",
      "Epoch 10/30\n",
      "98746/98746 [==============================] - 21s 212us/sample - loss: 0.0278 - rmse: 0.1502 - R2: 0.8795 - val_loss: 0.0329 - val_rmse: 0.1526 - val_R2: 0.8597\n",
      "Epoch 11/30\n",
      "98746/98746 [==============================] - 21s 213us/sample - loss: 0.0266 - rmse: 0.1475 - R2: 0.8843 - val_loss: 0.0307 - val_rmse: 0.1495 - val_R2: 0.8686\n",
      "Epoch 12/30\n",
      "98746/98746 [==============================] - 21s 213us/sample - loss: 0.0259 - rmse: 0.1456 - R2: 0.8876 - val_loss: 0.0324 - val_rmse: 0.1520 - val_R2: 0.8621\n",
      "Epoch 13/30\n",
      "98746/98746 [==============================] - 21s 212us/sample - loss: 0.0254 - rmse: 0.1443 - R2: 0.8899 - val_loss: 0.0335 - val_rmse: 0.1539 - val_R2: 0.8574\n",
      "Epoch 14/30\n",
      "98746/98746 [==============================] - 21s 213us/sample - loss: 0.0246 - rmse: 0.1426 - R2: 0.8930 - val_loss: 0.0337 - val_rmse: 0.1533 - val_R2: 0.8562\n",
      "Epoch 15/30\n",
      "98746/98746 [==============================] - 21s 213us/sample - loss: 0.0238 - rmse: 0.1404 - R2: 0.8965 - val_loss: 0.0316 - val_rmse: 0.1502 - val_R2: 0.8652\n",
      "Epoch 16/30\n",
      "98746/98746 [==============================] - 21s 213us/sample - loss: 0.0233 - rmse: 0.1392 - R2: 0.8987 - val_loss: 0.0342 - val_rmse: 0.1534 - val_R2: 0.8539\n",
      "Epoch 17/30\n",
      "98746/98746 [==============================] - 21s 213us/sample - loss: 0.0230 - rmse: 0.1384 - R2: 0.8998 - val_loss: 0.0321 - val_rmse: 0.1501 - val_R2: 0.8625\n",
      "Epoch 18/30\n",
      "98746/98746 [==============================] - 21s 213us/sample - loss: 0.0228 - rmse: 0.1377 - R2: 0.9010 - val_loss: 0.0332 - val_rmse: 0.1519 - val_R2: 0.8579\n",
      "Epoch 19/30\n",
      "98746/98746 [==============================] - 21s 213us/sample - loss: 0.0221 - rmse: 0.1363 - R2: 0.9035 - val_loss: 0.0313 - val_rmse: 0.1489 - val_R2: 0.8656\n",
      "Epoch 20/30\n",
      "98746/98746 [==============================] - 21s 212us/sample - loss: 0.0217 - rmse: 0.1351 - R2: 0.9055 - val_loss: 0.0331 - val_rmse: 0.1510 - val_R2: 0.8595\n",
      "Epoch 21/30\n",
      "98746/98746 [==============================] - 21s 212us/sample - loss: 0.0215 - rmse: 0.1344 - R2: 0.9064 - val_loss: 0.0332 - val_rmse: 0.1507 - val_R2: 0.8578\n",
      "Epoch 00021: early stopping\n"
     ]
    }
   ],
   "source": [
    "history = model.fit(X_train,y_train,\n",
    "    batch_size=BATCH_SIZE,\n",
    "    epochs=EPOCHS,\n",
    "    validation_data=(X_val,y_val),\n",
    "    callbacks=callback_list)"
   ]
  },
  {
   "cell_type": "code",
   "execution_count": 20,
   "metadata": {},
   "outputs": [],
   "source": [
    "model.save('model_baseline.hdf5')"
   ]
  },
  {
   "cell_type": "markdown",
   "metadata": {},
   "source": [
    "## Evaluation "
   ]
  },
  {
   "cell_type": "code",
   "execution_count": 21,
   "metadata": {},
   "outputs": [
    {
     "data": {
      "text/plain": [
       "[0.032602244376239105, 0.14959863, 0.8500039]"
      ]
     },
     "execution_count": 21,
     "metadata": {},
     "output_type": "execute_result"
    }
   ],
   "source": [
    "model.evaluate(X_test,y_test,verbose=0)"
   ]
  },
  {
   "cell_type": "code",
   "execution_count": 22,
   "metadata": {},
   "outputs": [],
   "source": [
    "y_pred = model.predict(X_test)"
   ]
  },
  {
   "cell_type": "code",
   "execution_count": 24,
   "metadata": {},
   "outputs": [],
   "source": [
    "err = compute_rmse(y_test,y_pred, axis=0)"
   ]
  },
  {
   "cell_type": "code",
   "execution_count": 25,
   "metadata": {},
   "outputs": [
    {
     "name": "stdout",
     "output_type": "stream",
     "text": [
      "[0.15738225 0.13672984 0.14865203 0.19487172 0.16036555 0.21226606\n",
      " 0.25415587 0.10173931 0.1306819  0.24195167 0.13813107 0.1652471\n",
      " 0.17270515 0.26993943 0.18364394 0.15410301 0.15102673]\n"
     ]
    }
   ],
   "source": [
    "print(err)"
   ]
  },
  {
   "cell_type": "markdown",
   "metadata": {},
   "source": [
    "## Defined Model + Phonetic"
   ]
  },
  {
   "cell_type": "code",
   "execution_count": 26,
   "metadata": {},
   "outputs": [],
   "source": [
    "N_OUTPUTS = 17\n",
    "\n",
    "pLSTM = partial(LSTM,\n",
    "    kernel_initializer='he_uniform',\n",
    "    return_sequences=True)\n",
    "\n",
    "pDense = partial(Dense,\n",
    "    kernel_initializer='he_normal',\n",
    "    activation='elu')\n",
    "\n",
    "def init_bilstm_pho(unit=128, bi_layer_num=3, drop_rate=0.2):\n",
    "\n",
    "    def bilstm(input_shape_1,input_shape_2):\n",
    "        \n",
    "        input_x = keras.Input(shape=(input_shape_1,input_shape_2))\n",
    "        # feature extraction layers\n",
    "        x = input_x\n",
    "        z = input_x\n",
    "        for i in range(bi_layer_num-1):\n",
    "            x = Bidirectional(pLSTM(unit))(x)\n",
    "            if drop_rate: \n",
    "                x = SpatialDropout1D(rate=drop_rate)(x)\n",
    "        # output layers\n",
    "        x = Bidirectional(pLSTM(unit*2, return_sequences=False))(x)\n",
    "        if drop_rate: \n",
    "            x = Dropout(rate=drop_rate)(x)\n",
    "                \n",
    "        for i in range(bi_layer_num-2):\n",
    "            z = Bidirectional(pLSTM(unit))(z)\n",
    "            if drop_rate: \n",
    "                z = SpatialDropout1D(rate=drop_rate)(z)\n",
    "        z = Bidirectional(pLSTM(unit*2, return_sequences=False))(z)\n",
    "        if drop_rate: \n",
    "            z = Dropout(rate=drop_rate)(z)\n",
    "        z = pDense(100, activation='relu')(z)\n",
    "        outputs_pho = pDense(19, activation='softmax', name='pho')(x)\n",
    "        \n",
    "        x = Concatenate()([x,z])\n",
    "        x = pDense(512, activation='relu')(x)\n",
    "        outputs_param = pDense(N_OUTPUTS, activation='linear', name='param')(x)\n",
    "        \n",
    "        model = keras.Model(inputs=input_x, outputs=[outputs_param, outputs_pho])\n",
    "        # model.summary()\n",
    "        return model\n",
    "    return bilstm"
   ]
  },
  {
   "cell_type": "code",
   "execution_count": 27,
   "metadata": {},
   "outputs": [],
   "source": [
    "model_pho = init_bilstm_pho()(24, 39)"
   ]
  },
  {
   "cell_type": "code",
   "execution_count": 28,
   "metadata": {},
   "outputs": [
    {
     "name": "stdout",
     "output_type": "stream",
     "text": [
      "Model: \"model_1\"\n",
      "__________________________________________________________________________________________________\n",
      "Layer (type)                    Output Shape         Param #     Connected to                     \n",
      "==================================================================================================\n",
      "input_2 (InputLayer)            [(None, 24, 39)]     0                                            \n",
      "__________________________________________________________________________________________________\n",
      "bidirectional_3 (Bidirectional) (None, 24, 256)      172032      input_2[0][0]                    \n",
      "__________________________________________________________________________________________________\n",
      "spatial_dropout1d_2 (SpatialDro (None, 24, 256)      0           bidirectional_3[0][0]            \n",
      "__________________________________________________________________________________________________\n",
      "bidirectional_6 (Bidirectional) (None, 24, 256)      172032      input_2[0][0]                    \n",
      "__________________________________________________________________________________________________\n",
      "bidirectional_4 (Bidirectional) (None, 24, 256)      394240      spatial_dropout1d_2[0][0]        \n",
      "__________________________________________________________________________________________________\n",
      "spatial_dropout1d_4 (SpatialDro (None, 24, 256)      0           bidirectional_6[0][0]            \n",
      "__________________________________________________________________________________________________\n",
      "spatial_dropout1d_3 (SpatialDro (None, 24, 256)      0           bidirectional_4[0][0]            \n",
      "__________________________________________________________________________________________________\n",
      "bidirectional_7 (Bidirectional) (None, 512)          1050624     spatial_dropout1d_4[0][0]        \n",
      "__________________________________________________________________________________________________\n",
      "bidirectional_5 (Bidirectional) (None, 512)          1050624     spatial_dropout1d_3[0][0]        \n",
      "__________________________________________________________________________________________________\n",
      "dropout_2 (Dropout)             (None, 512)          0           bidirectional_7[0][0]            \n",
      "__________________________________________________________________________________________________\n",
      "dropout_1 (Dropout)             (None, 512)          0           bidirectional_5[0][0]            \n",
      "__________________________________________________________________________________________________\n",
      "dense_2 (Dense)                 (None, 100)          51300       dropout_2[0][0]                  \n",
      "__________________________________________________________________________________________________\n",
      "concatenate (Concatenate)       (None, 612)          0           dropout_1[0][0]                  \n",
      "                                                                 dense_2[0][0]                    \n",
      "__________________________________________________________________________________________________\n",
      "dense_3 (Dense)                 (None, 512)          313856      concatenate[0][0]                \n",
      "__________________________________________________________________________________________________\n",
      "param (Dense)                   (None, 17)           8721        dense_3[0][0]                    \n",
      "__________________________________________________________________________________________________\n",
      "pho (Dense)                     (None, 19)           9747        dropout_1[0][0]                  \n",
      "==================================================================================================\n",
      "Total params: 3,223,176\n",
      "Trainable params: 3,223,176\n",
      "Non-trainable params: 0\n",
      "__________________________________________________________________________________________________\n"
     ]
    }
   ],
   "source": [
    "model_pho.summary()"
   ]
  },
  {
   "cell_type": "code",
   "execution_count": 29,
   "metadata": {},
   "outputs": [],
   "source": [
    "losses = {\n",
    "    \"param\": \"mse\",\n",
    "    \"pho\": tf.keras.losses.CategoricalCrossentropy(from_logits=True),\n",
    "}\n",
    "lossWeights = {\"param\": 1.0, \"pho\": 1.0}"
   ]
  },
  {
   "cell_type": "code",
   "execution_count": 30,
   "metadata": {},
   "outputs": [],
   "source": [
    "metrics = {\n",
    "    \"param\": [rmse, R2],\n",
    "    \"pho\": \"accuracy\",\n",
    "}"
   ]
  },
  {
   "cell_type": "markdown",
   "metadata": {},
   "source": [
    "## Compile Model "
   ]
  },
  {
   "cell_type": "code",
   "execution_count": 31,
   "metadata": {},
   "outputs": [],
   "source": [
    "model_pho.compile(optimizer='adam',loss=losses, loss_weights=lossWeights, metrics=metrics)"
   ]
  },
  {
   "cell_type": "markdown",
   "metadata": {},
   "source": [
    "## Train Model "
   ]
  },
  {
   "cell_type": "code",
   "execution_count": 32,
   "metadata": {},
   "outputs": [],
   "source": [
    "PATIENCE = 10\n",
    "BATCH_SIZE = 128\n",
    "EPOCHS = 30"
   ]
  },
  {
   "cell_type": "code",
   "execution_count": 33,
   "metadata": {},
   "outputs": [],
   "source": [
    "early = callbacks.EarlyStopping(monitor='param_loss', min_delta=0, patience=PATIENCE, verbose=1, mode='min', baseline=None, restore_best_weights=False)\n",
    "callback_list = [early]"
   ]
  },
  {
   "cell_type": "code",
   "execution_count": 34,
   "metadata": {
    "collapsed": true,
    "jupyter": {
     "outputs_hidden": true
    }
   },
   "outputs": [
    {
     "name": "stdout",
     "output_type": "stream",
     "text": [
      "Train on 98746 samples, validate on 12094 samples\n",
      "Epoch 1/30\n",
      "98746/98746 - 54s - loss: 2.3965 - param_loss: 0.0713 - pho_loss: 2.3251 - param_rmse: 0.2419 - param_R2: 0.6899 - pho_accuracy: 0.7161 - val_loss: 2.2395 - val_param_loss: 0.0432 - val_pho_loss: 2.1963 - val_param_rmse: 0.1845 - val_param_R2: 0.8155 - val_pho_accuracy: 0.8358\n",
      "Epoch 2/30\n",
      "98746/98746 - 32s - loss: 2.2864 - param_loss: 0.0470 - pho_loss: 2.2394 - param_rmse: 0.1938 - param_R2: 0.7974 - pho_accuracy: 0.7928 - val_loss: 2.2200 - val_param_loss: 0.0391 - val_pho_loss: 2.1806 - val_param_rmse: 0.1743 - val_param_R2: 0.8325 - val_pho_accuracy: 0.8508\n",
      "Epoch 3/30\n",
      "98746/98746 - 32s - loss: 2.2617 - param_loss: 0.0411 - pho_loss: 2.2205 - param_rmse: 0.1814 - param_R2: 0.8224 - pho_accuracy: 0.8113 - val_loss: 2.2225 - val_param_loss: 0.0378 - val_pho_loss: 2.1845 - val_param_rmse: 0.1686 - val_param_R2: 0.8387 - val_pho_accuracy: 0.8463\n",
      "Epoch 4/30\n",
      "98746/98746 - 32s - loss: 2.2534 - param_loss: 0.0379 - pho_loss: 2.2155 - param_rmse: 0.1742 - param_R2: 0.8360 - pho_accuracy: 0.8159 - val_loss: 2.2068 - val_param_loss: 0.0376 - val_pho_loss: 2.1694 - val_param_rmse: 0.1683 - val_param_R2: 0.8397 - val_pho_accuracy: 0.8617\n",
      "Epoch 5/30\n",
      "98746/98746 - 32s - loss: 2.2420 - param_loss: 0.0350 - pho_loss: 2.2069 - param_rmse: 0.1678 - param_R2: 0.8482 - pho_accuracy: 0.8244 - val_loss: 2.1991 - val_param_loss: 0.0359 - val_pho_loss: 2.1632 - val_param_rmse: 0.1643 - val_param_R2: 0.8459 - val_pho_accuracy: 0.8679\n",
      "Epoch 6/30\n",
      "98746/98746 - 32s - loss: 2.2315 - param_loss: 0.0329 - pho_loss: 2.1987 - param_rmse: 0.1630 - param_R2: 0.8573 - pho_accuracy: 0.8331 - val_loss: 2.1984 - val_param_loss: 0.0353 - val_pho_loss: 2.1630 - val_param_rmse: 0.1624 - val_param_R2: 0.8492 - val_pho_accuracy: 0.8680\n",
      "Epoch 7/30\n",
      "98746/98746 - 32s - loss: 2.2261 - param_loss: 0.0312 - pho_loss: 2.1949 - param_rmse: 0.1592 - param_R2: 0.8649 - pho_accuracy: 0.8367 - val_loss: 2.1949 - val_param_loss: 0.0344 - val_pho_loss: 2.1605 - val_param_rmse: 0.1597 - val_param_R2: 0.8526 - val_pho_accuracy: 0.8699\n",
      "Epoch 8/30\n",
      "98746/98746 - 32s - loss: 2.2220 - param_loss: 0.0301 - pho_loss: 2.1919 - param_rmse: 0.1565 - param_R2: 0.8694 - pho_accuracy: 0.8391 - val_loss: 2.2073 - val_param_loss: 0.0341 - val_pho_loss: 2.1731 - val_param_rmse: 0.1581 - val_param_R2: 0.8547 - val_pho_accuracy: 0.8576\n",
      "Epoch 9/30\n",
      "98746/98746 - 32s - loss: 2.2154 - param_loss: 0.0289 - pho_loss: 2.1865 - param_rmse: 0.1539 - param_R2: 0.8742 - pho_accuracy: 0.8444 - val_loss: 2.1822 - val_param_loss: 0.0330 - val_pho_loss: 2.1492 - val_param_rmse: 0.1569 - val_param_R2: 0.8583 - val_pho_accuracy: 0.8822\n",
      "Epoch 10/30\n",
      "98746/98746 - 32s - loss: 2.2151 - param_loss: 0.0278 - pho_loss: 2.1872 - param_rmse: 0.1513 - param_R2: 0.8791 - pho_accuracy: 0.8441 - val_loss: 2.1867 - val_param_loss: 0.0351 - val_pho_loss: 2.1515 - val_param_rmse: 0.1589 - val_param_R2: 0.8508 - val_pho_accuracy: 0.8792\n",
      "Epoch 11/30\n",
      "98746/98746 - 32s - loss: 2.2085 - param_loss: 0.0270 - pho_loss: 2.1815 - param_rmse: 0.1492 - param_R2: 0.8824 - pho_accuracy: 0.8496 - val_loss: 2.2014 - val_param_loss: 0.0348 - val_pho_loss: 2.1667 - val_param_rmse: 0.1585 - val_param_R2: 0.8511 - val_pho_accuracy: 0.8647\n",
      "Epoch 12/30\n",
      "98746/98746 - 32s - loss: 2.2081 - param_loss: 0.0263 - pho_loss: 2.1818 - param_rmse: 0.1477 - param_R2: 0.8853 - pho_accuracy: 0.8492 - val_loss: 2.1882 - val_param_loss: 0.0339 - val_pho_loss: 2.1542 - val_param_rmse: 0.1569 - val_param_R2: 0.8552 - val_pho_accuracy: 0.8768\n",
      "Epoch 13/30\n",
      "98746/98746 - 32s - loss: 2.2071 - param_loss: 0.0255 - pho_loss: 2.1817 - param_rmse: 0.1459 - param_R2: 0.8888 - pho_accuracy: 0.8495 - val_loss: 2.1869 - val_param_loss: 0.0354 - val_pho_loss: 2.1516 - val_param_rmse: 0.1580 - val_param_R2: 0.8493 - val_pho_accuracy: 0.8788\n",
      "Epoch 14/30\n",
      "98746/98746 - 32s - loss: 2.2043 - param_loss: 0.0248 - pho_loss: 2.1795 - param_rmse: 0.1442 - param_R2: 0.8919 - pho_accuracy: 0.8514 - val_loss: 2.1895 - val_param_loss: 0.0333 - val_pho_loss: 2.1563 - val_param_rmse: 0.1543 - val_param_R2: 0.8576 - val_pho_accuracy: 0.8748\n",
      "Epoch 15/30\n",
      "98746/98746 - 32s - loss: 2.2003 - param_loss: 0.0244 - pho_loss: 2.1759 - param_rmse: 0.1433 - param_R2: 0.8935 - pho_accuracy: 0.8550 - val_loss: 2.1762 - val_param_loss: 0.0352 - val_pho_loss: 2.1411 - val_param_rmse: 0.1572 - val_param_R2: 0.8508 - val_pho_accuracy: 0.8902\n",
      "Epoch 16/30\n",
      "98746/98746 - 32s - loss: 2.1983 - param_loss: 0.0238 - pho_loss: 2.1745 - param_rmse: 0.1418 - param_R2: 0.8961 - pho_accuracy: 0.8568 - val_loss: 2.1876 - val_param_loss: 0.0346 - val_pho_loss: 2.1531 - val_param_rmse: 0.1564 - val_param_R2: 0.8531 - val_pho_accuracy: 0.8775\n",
      "Epoch 17/30\n",
      "98746/98746 - 32s - loss: 2.1951 - param_loss: 0.0233 - pho_loss: 2.1718 - param_rmse: 0.1407 - param_R2: 0.8980 - pho_accuracy: 0.8592 - val_loss: 2.1827 - val_param_loss: 0.0337 - val_pho_loss: 2.1492 - val_param_rmse: 0.1542 - val_param_R2: 0.8560 - val_pho_accuracy: 0.8822\n",
      "Epoch 18/30\n",
      "98746/98746 - 32s - loss: 2.1961 - param_loss: 0.0230 - pho_loss: 2.1731 - param_rmse: 0.1399 - param_R2: 0.8994 - pho_accuracy: 0.8582 - val_loss: 2.1838 - val_param_loss: 0.0349 - val_pho_loss: 2.1493 - val_param_rmse: 0.1557 - val_param_R2: 0.8516 - val_pho_accuracy: 0.8819\n",
      "Epoch 19/30\n",
      "98746/98746 - 32s - loss: 2.2000 - param_loss: 0.0229 - pho_loss: 2.1771 - param_rmse: 0.1395 - param_R2: 0.9000 - pho_accuracy: 0.8538 - val_loss: 2.1915 - val_param_loss: 0.0356 - val_pho_loss: 2.1560 - val_param_rmse: 0.1570 - val_param_R2: 0.8491 - val_pho_accuracy: 0.8756\n",
      "Epoch 20/30\n",
      "98746/98746 - 32s - loss: 2.1930 - param_loss: 0.0224 - pho_loss: 2.1707 - param_rmse: 0.1383 - param_R2: 0.9021 - pho_accuracy: 0.8602 - val_loss: 2.2064 - val_param_loss: 0.0342 - val_pho_loss: 2.1722 - val_param_rmse: 0.1555 - val_param_R2: 0.8542 - val_pho_accuracy: 0.8589\n",
      "Epoch 21/30\n",
      "98746/98746 - 32s - loss: 2.1896 - param_loss: 0.0220 - pho_loss: 2.1677 - param_rmse: 0.1373 - param_R2: 0.9038 - pho_accuracy: 0.8635 - val_loss: 2.1900 - val_param_loss: 0.0346 - val_pho_loss: 2.1553 - val_param_rmse: 0.1559 - val_param_R2: 0.8529 - val_pho_accuracy: 0.8750\n",
      "Epoch 22/30\n",
      "98746/98746 - 32s - loss: 2.1882 - param_loss: 0.0219 - pho_loss: 2.1663 - param_rmse: 0.1370 - param_R2: 0.9041 - pho_accuracy: 0.8647 - val_loss: 2.1802 - val_param_loss: 0.0338 - val_pho_loss: 2.1463 - val_param_rmse: 0.1537 - val_param_R2: 0.8561 - val_pho_accuracy: 0.8847\n",
      "Epoch 23/30\n",
      "98746/98746 - 32s - loss: 2.1866 - param_loss: 0.0214 - pho_loss: 2.1652 - param_rmse: 0.1358 - param_R2: 0.9062 - pho_accuracy: 0.8657 - val_loss: 2.1831 - val_param_loss: 0.0337 - val_pho_loss: 2.1494 - val_param_rmse: 0.1537 - val_param_R2: 0.8561 - val_pho_accuracy: 0.8818\n",
      "Epoch 24/30\n",
      "98746/98746 - 32s - loss: 2.1889 - param_loss: 0.0211 - pho_loss: 2.1678 - param_rmse: 0.1352 - param_R2: 0.9076 - pho_accuracy: 0.8633 - val_loss: 2.1869 - val_param_loss: 0.0351 - val_pho_loss: 2.1519 - val_param_rmse: 0.1553 - val_param_R2: 0.8510 - val_pho_accuracy: 0.8788\n",
      "Epoch 25/30\n",
      "98746/98746 - 32s - loss: 2.1867 - param_loss: 0.0211 - pho_loss: 2.1657 - param_rmse: 0.1348 - param_R2: 0.9077 - pho_accuracy: 0.8652 - val_loss: 2.1761 - val_param_loss: 0.0344 - val_pho_loss: 2.1421 - val_param_rmse: 0.1551 - val_param_R2: 0.8535 - val_pho_accuracy: 0.8897\n",
      "Epoch 26/30\n",
      "98746/98746 - 32s - loss: 2.1820 - param_loss: 0.0206 - pho_loss: 2.1614 - param_rmse: 0.1337 - param_R2: 0.9098 - pho_accuracy: 0.8697 - val_loss: 2.1857 - val_param_loss: 0.0331 - val_pho_loss: 2.1530 - val_param_rmse: 0.1530 - val_param_R2: 0.8577 - val_pho_accuracy: 0.8786\n",
      "Epoch 27/30\n",
      "98746/98746 - 32s - loss: 2.1859 - param_loss: 0.0207 - pho_loss: 2.1653 - param_rmse: 0.1338 - param_R2: 0.9095 - pho_accuracy: 0.8658 - val_loss: 2.1737 - val_param_loss: 0.0320 - val_pho_loss: 2.1420 - val_param_rmse: 0.1507 - val_param_R2: 0.8636 - val_pho_accuracy: 0.8893\n",
      "Epoch 28/30\n",
      "98746/98746 - 33s - loss: 2.1842 - param_loss: 0.0205 - pho_loss: 2.1637 - param_rmse: 0.1334 - param_R2: 0.9101 - pho_accuracy: 0.8672 - val_loss: 2.1855 - val_param_loss: 0.0334 - val_pho_loss: 2.1524 - val_param_rmse: 0.1526 - val_param_R2: 0.8576 - val_pho_accuracy: 0.8791\n",
      "Epoch 29/30\n",
      "98746/98746 - 33s - loss: 2.1804 - param_loss: 0.0199 - pho_loss: 2.1604 - param_rmse: 0.1319 - param_R2: 0.9128 - pho_accuracy: 0.8704 - val_loss: 2.1958 - val_param_loss: 0.0345 - val_pho_loss: 2.1613 - val_param_rmse: 0.1540 - val_param_R2: 0.8531 - val_pho_accuracy: 0.8693\n",
      "Epoch 30/30\n",
      "98746/98746 - 32s - loss: 2.1821 - param_loss: 0.0198 - pho_loss: 2.1622 - param_rmse: 0.1316 - param_R2: 0.9131 - pho_accuracy: 0.8688 - val_loss: 2.1781 - val_param_loss: 0.0349 - val_pho_loss: 2.1434 - val_param_rmse: 0.1547 - val_param_R2: 0.8509 - val_pho_accuracy: 0.8872\n"
     ]
    }
   ],
   "source": [
    "history = model_pho.fit(X_train,{\"param\": y_train, \"pho\": z_train_oe},\n",
    "    batch_size=BATCH_SIZE,\n",
    "    epochs=EPOCHS,\n",
    "    verbose=2,\n",
    "    validation_data=(X_val,{\"param\": y_val, \"pho\": z_val_oe}),\n",
    "    callbacks=callback_list)"
   ]
  },
  {
   "cell_type": "code",
   "execution_count": 35,
   "metadata": {},
   "outputs": [],
   "source": [
    "model_pho.save('model_baseline_pho.hdf5')"
   ]
  },
  {
   "cell_type": "markdown",
   "metadata": {},
   "source": [
    "## Evaluation"
   ]
  },
  {
   "cell_type": "code",
   "execution_count": 39,
   "metadata": {},
   "outputs": [],
   "source": [
    "y_pred, y_pho_pred = model_pho.predict(X_test)"
   ]
  },
  {
   "cell_type": "code",
   "execution_count": 40,
   "metadata": {},
   "outputs": [
    {
     "name": "stdout",
     "output_type": "stream",
     "text": [
      "[0.16499175 0.13846306 0.15626041 0.20971853 0.16883098 0.22409996\n",
      " 0.26204728 0.10337965 0.13968868 0.25097486 0.14635381 0.16778201\n",
      " 0.18071192 0.27521861 0.18504289 0.15457323 0.15504013]\n"
     ]
    }
   ],
   "source": [
    "err = compute_rmse(y_test,y_pred, axis=0)\n",
    "print(err)"
   ]
  },
  {
   "cell_type": "code",
   "execution_count": 45,
   "metadata": {},
   "outputs": [
    {
     "name": "stdout",
     "output_type": "stream",
     "text": [
      "Confusion Matrix\n",
      "[[608   0   1  15   0   0   0   0   0   6  13   1   5  37   0   0   0   0\n",
      "    0]\n",
      " [  0 668   0   1   0   0   0   0   2   0   0   1   0   0   0   0   0   2\n",
      "   13]\n",
      " [  6   1 365   4   0   3   0   0   5  80   8  14  67  11   0   0   2   0\n",
      "    0]\n",
      " [ 14   0   0 622   0   0   2   0   6   0   5   6   4   0   0   0   0   0\n",
      "    0]\n",
      " [  1   0   0  12 595   0  31   1   0   0   0   0   0   0   0   0   0   0\n",
      "    0]\n",
      " [  0   0   0   0   0 550   0   0   0   0  13   0  19  20   0   0   0   0\n",
      "    0]\n",
      " [  0   0   0   1  12   0 614  36   0   0   1   0   0   1   0   0   0   0\n",
      "    0]\n",
      " [  0   0   0   0   0   1  17 600   0   0   0   0   0   0   7   0   0   0\n",
      "    0]\n",
      " [  0   1  18   4   0   0   0   0 598   0   0  29   0   0   0   0   0   0\n",
      "    0]\n",
      " [  5   0  18   2   0   1   0   0   3 562   7  11  47   1   0   0   8   0\n",
      "    0]\n",
      " [ 16   0   1   3   0  44   2   0   0   1 546   0  10  10   0   0   0   0\n",
      "    0]\n",
      " [  5   1  16   0   0   0   0   0  54   5   0 537   0   0   0   0   5  24\n",
      "    0]\n",
      " [  1   1   8   3   0  24   1   0   2 109   6   1 448   6   0   0   0   0\n",
      "    0]\n",
      " [ 10   0   1   4   0  18   3   0   0   0   8   0  19 617   0   0   0   0\n",
      "    0]\n",
      " [  0   1   0   0   0   0   0  15   0   0   0   0   0   0 604   4   0   0\n",
      "    2]\n",
      " [  0   1   0   0   0   0   0   0   0   0   0   0   0   0  45 555   0   0\n",
      "   16]\n",
      " [  0   2  13   0   0   0   0   0   0   7   0  14   0   0   0   0 521  43\n",
      "    0]\n",
      " [  0   1   4   0   0   0   0   0   3   0   0  12   0   0   0   0  12 587\n",
      "    0]\n",
      " [  0  42   1   0   0   0   0   0   0   0   0   0   0   0   2   3   0   1\n",
      "  566]]\n",
      "Classification Report\n",
      "              precision    recall  f1-score   support\n",
      "\n",
      "           &       0.91      0.89      0.90       686\n",
      "           2       0.93      0.97      0.95       687\n",
      "           7       0.82      0.64      0.72       566\n",
      "           9       0.93      0.94      0.94       659\n",
      "           @       0.98      0.93      0.95       640\n",
      "           A       0.86      0.91      0.88       602\n",
      "           E       0.92      0.92      0.92       665\n",
      "          E:       0.92      0.96      0.94       625\n",
      "           M       0.89      0.92      0.90       650\n",
      "           O       0.73      0.85      0.78       665\n",
      "           Q       0.90      0.86      0.88       633\n",
      "           U       0.86      0.83      0.84       647\n",
      "           V       0.72      0.73      0.73       610\n",
      "           a       0.88      0.91      0.89       680\n",
      "           e       0.92      0.96      0.94       626\n",
      "           i       0.99      0.90      0.94       617\n",
      "           o       0.95      0.87      0.91       600\n",
      "           u       0.89      0.95      0.92       619\n",
      "           y       0.95      0.92      0.93       615\n",
      "\n",
      "    accuracy                           0.89     12092\n",
      "   macro avg       0.89      0.89      0.89     12092\n",
      "weighted avg       0.89      0.89      0.89     12092\n",
      "\n"
     ]
    }
   ],
   "source": [
    "evaluate_model(y_pho_pred, z_test_oe)"
   ]
  },
  {
   "cell_type": "markdown",
   "metadata": {},
   "source": [
    "## Embedded Model "
   ]
  },
  {
   "cell_type": "code",
   "execution_count": 15,
   "metadata": {},
   "outputs": [],
   "source": [
    "N_OUTPUTS = 17\n",
    "\n",
    "pLSTM = partial(LSTM,\n",
    "    kernel_initializer='he_uniform',\n",
    "    return_sequences=True)\n",
    "\n",
    "pDense = partial(Dense,\n",
    "    kernel_initializer='he_normal',\n",
    "    activation='elu')\n",
    "\n",
    "def init_embeded_pho(unit=128, drop_rate=0.2):\n",
    "    \n",
    "    def embeded(input_shape_1,input_shape_2):\n",
    "        inputs = keras.Input(shape=(input_shape_1,input_shape_2))\n",
    "        x = pLSTM(100)(inputs)\n",
    "        x = Flatten()(x)\n",
    "        outputs = pDense(19, activation='softmax')(x)\n",
    "        return keras.Model(inputs=inputs, outputs=outputs)\n",
    "    return embeded"
   ]
  },
  {
   "cell_type": "code",
   "execution_count": 16,
   "metadata": {},
   "outputs": [
    {
     "name": "stdout",
     "output_type": "stream",
     "text": [
      "Model: \"model\"\n",
      "_________________________________________________________________\n",
      "Layer (type)                 Output Shape              Param #   \n",
      "=================================================================\n",
      "input_1 (InputLayer)         [(None, 24, 39)]          0         \n",
      "_________________________________________________________________\n",
      "lstm (LSTM)                  (None, 24, 100)           56000     \n",
      "_________________________________________________________________\n",
      "flatten (Flatten)            (None, 2400)              0         \n",
      "_________________________________________________________________\n",
      "dense (Dense)                (None, 19)                45619     \n",
      "=================================================================\n",
      "Total params: 101,619\n",
      "Trainable params: 101,619\n",
      "Non-trainable params: 0\n",
      "_________________________________________________________________\n"
     ]
    }
   ],
   "source": [
    "embedded = init_embeded_pho()(24, 39)\n",
    "embedded.summary()"
   ]
  },
  {
   "cell_type": "markdown",
   "metadata": {},
   "source": [
    "## Compile Model "
   ]
  },
  {
   "cell_type": "code",
   "execution_count": 17,
   "metadata": {},
   "outputs": [],
   "source": [
    "embedded.compile(optimizer='adam',loss=tf.keras.losses.CategoricalCrossentropy(from_logits=True),metrics=['accuracy'])"
   ]
  },
  {
   "cell_type": "markdown",
   "metadata": {},
   "source": [
    "## Train Model "
   ]
  },
  {
   "cell_type": "code",
   "execution_count": 18,
   "metadata": {},
   "outputs": [],
   "source": [
    "PATIENCE = 10\n",
    "BATCH_SIZE = 128\n",
    "EPOCHS = 40"
   ]
  },
  {
   "cell_type": "code",
   "execution_count": 19,
   "metadata": {},
   "outputs": [],
   "source": [
    "early = callbacks.EarlyStopping(monitor='val_loss', min_delta=0, patience=PATIENCE, verbose=1, mode='min', baseline=None, restore_best_weights=False)\n",
    "callback_list = [early]"
   ]
  },
  {
   "cell_type": "code",
   "execution_count": 20,
   "metadata": {},
   "outputs": [
    {
     "name": "stdout",
     "output_type": "stream",
     "text": [
      "Train on 98746 samples, validate on 12094 samples\n",
      "Epoch 1/40\n",
      "98746/98746 - 9s - loss: 2.3028 - accuracy: 0.7467 - val_loss: 2.1871 - val_accuracy: 0.8489\n",
      "Epoch 2/40\n",
      "98746/98746 - 4s - loss: 2.2026 - accuracy: 0.8357 - val_loss: 2.1597 - val_accuracy: 0.8771\n",
      "Epoch 3/40\n",
      "98746/98746 - 4s - loss: 2.1749 - accuracy: 0.8615 - val_loss: 2.1528 - val_accuracy: 0.8809\n",
      "Epoch 4/40\n",
      "98746/98746 - 4s - loss: 2.1597 - accuracy: 0.8762 - val_loss: 2.1466 - val_accuracy: 0.8883\n",
      "Epoch 5/40\n",
      "98746/98746 - 4s - loss: 2.1488 - accuracy: 0.8864 - val_loss: 2.1504 - val_accuracy: 0.8827\n",
      "Epoch 6/40\n",
      "98746/98746 - 4s - loss: 2.1401 - accuracy: 0.8951 - val_loss: 2.1470 - val_accuracy: 0.8852\n",
      "Epoch 7/40\n",
      "98746/98746 - 4s - loss: 2.1343 - accuracy: 0.9003 - val_loss: 2.1399 - val_accuracy: 0.8931\n",
      "Epoch 8/40\n",
      "98746/98746 - 4s - loss: 2.1283 - accuracy: 0.9061 - val_loss: 2.1421 - val_accuracy: 0.8904\n",
      "Epoch 9/40\n",
      "98746/98746 - 4s - loss: 2.1235 - accuracy: 0.9103 - val_loss: 2.1462 - val_accuracy: 0.8859\n",
      "Epoch 10/40\n",
      "98746/98746 - 4s - loss: 2.1194 - accuracy: 0.9144 - val_loss: 2.1489 - val_accuracy: 0.8837\n",
      "Epoch 11/40\n",
      "98746/98746 - 4s - loss: 2.1148 - accuracy: 0.9186 - val_loss: 2.1410 - val_accuracy: 0.8918\n",
      "Epoch 12/40\n",
      "98746/98746 - 4s - loss: 2.1119 - accuracy: 0.9215 - val_loss: 2.1360 - val_accuracy: 0.8954\n",
      "Epoch 13/40\n",
      "98746/98746 - 4s - loss: 2.1078 - accuracy: 0.9256 - val_loss: 2.1382 - val_accuracy: 0.8934\n",
      "Epoch 14/40\n",
      "98746/98746 - 4s - loss: 2.1045 - accuracy: 0.9292 - val_loss: 2.1363 - val_accuracy: 0.8952\n",
      "Epoch 15/40\n",
      "98746/98746 - 4s - loss: 2.1031 - accuracy: 0.9302 - val_loss: 2.1374 - val_accuracy: 0.8951\n",
      "Epoch 16/40\n",
      "98746/98746 - 4s - loss: 2.1017 - accuracy: 0.9314 - val_loss: 2.1368 - val_accuracy: 0.8948\n",
      "Epoch 17/40\n",
      "98746/98746 - 4s - loss: 2.0980 - accuracy: 0.9351 - val_loss: 2.1412 - val_accuracy: 0.8898\n",
      "Epoch 18/40\n",
      "98746/98746 - 4s - loss: 2.0967 - accuracy: 0.9365 - val_loss: 2.1330 - val_accuracy: 0.8991\n",
      "Epoch 19/40\n",
      "98746/98746 - 4s - loss: 2.0943 - accuracy: 0.9388 - val_loss: 2.1318 - val_accuracy: 0.9001\n",
      "Epoch 20/40\n",
      "98746/98746 - 4s - loss: 2.0925 - accuracy: 0.9404 - val_loss: 2.1323 - val_accuracy: 0.9002\n",
      "Epoch 21/40\n",
      "98746/98746 - 4s - loss: 2.0912 - accuracy: 0.9416 - val_loss: 2.1436 - val_accuracy: 0.8885\n",
      "Epoch 22/40\n",
      "98746/98746 - 4s - loss: 2.0905 - accuracy: 0.9424 - val_loss: 2.1335 - val_accuracy: 0.8979\n",
      "Epoch 23/40\n",
      "98746/98746 - 4s - loss: 2.0885 - accuracy: 0.9443 - val_loss: 2.1374 - val_accuracy: 0.8950\n",
      "Epoch 24/40\n",
      "98746/98746 - 4s - loss: 2.0871 - accuracy: 0.9455 - val_loss: 2.1334 - val_accuracy: 0.8989\n",
      "Epoch 25/40\n",
      "98746/98746 - 4s - loss: 2.0857 - accuracy: 0.9469 - val_loss: 2.1354 - val_accuracy: 0.8964\n",
      "Epoch 26/40\n",
      "98746/98746 - 4s - loss: 2.0840 - accuracy: 0.9486 - val_loss: 2.1367 - val_accuracy: 0.8957\n",
      "Epoch 27/40\n",
      "98746/98746 - 4s - loss: 2.0844 - accuracy: 0.9480 - val_loss: 2.1406 - val_accuracy: 0.8903\n",
      "Epoch 28/40\n",
      "98746/98746 - 4s - loss: 2.0823 - accuracy: 0.9503 - val_loss: 2.1338 - val_accuracy: 0.8970\n",
      "Epoch 29/40\n",
      "98746/98746 - 4s - loss: 2.0820 - accuracy: 0.9505 - val_loss: 2.1371 - val_accuracy: 0.8942\n",
      "Epoch 00029: early stopping\n"
     ]
    }
   ],
   "source": [
    "history = embedded.fit(X_train,z_train_oe,\n",
    "    batch_size=BATCH_SIZE,\n",
    "    epochs=EPOCHS,\n",
    "    verbose=2,\n",
    "    validation_data=(X_val,z_val_oe),\n",
    "    callbacks=callback_list)"
   ]
  },
  {
   "cell_type": "code",
   "execution_count": 21,
   "metadata": {},
   "outputs": [],
   "source": [
    "embedded.save('embedded.hdf5')"
   ]
  },
  {
   "cell_type": "code",
   "execution_count": 22,
   "metadata": {},
   "outputs": [
    {
     "name": "stdout",
     "output_type": "stream",
     "text": [
      "Confusion Matrix\n",
      "[[604   0   1  29   0   0   0   0   0  10  16   0  11  15   0   0   0   0\n",
      "    0]\n",
      " [  0 658   2   3   0   0   0   0   0   0   1   0   0   0   0   0   0   5\n",
      "   18]\n",
      " [  2   1 338   2   0   4   0   0   4  83   3  15 104   2   0   0   7   1\n",
      "    0]\n",
      " [  6   1   0 641   0   0   2   0   5   0   0   0   3   1   0   0   0   0\n",
      "    0]\n",
      " [  2   0   0   3 583   0  46   5   0   0   0   0   0   0   0   1   0   0\n",
      "    0]\n",
      " [  0   0   0   0   0 564   0   0   0   1  14   0  17   6   0   0   0   0\n",
      "    0]\n",
      " [  0   0   0   6   7   0 620  27   1   0   1   0   0   3   0   0   0   0\n",
      "    0]\n",
      " [  0   0   0   1   0   1  24 595   0   0   0   0   0   0   4   0   0   0\n",
      "    0]\n",
      " [  0   5  12   4   0   0   0   0 601   1   0  22   0   0   0   0   0   5\n",
      "    0]\n",
      " [  3   0   8   2   0   0   0   0   0 600   4  11  29   0   0   0   8   0\n",
      "    0]\n",
      " [ 11   0   0   5   0  33   4   0   0   6 554   0  15   4   0   0   0   0\n",
      "    1]\n",
      " [  0   1   8   0   0   0   0   0  50  10   1 514   3   0   0   0   3  56\n",
      "    1]\n",
      " [  2   0   3   3   0  19   1   0   2 103   4   1 472   0   0   0   0   0\n",
      "    0]\n",
      " [ 11   0   1   2   0  27   2   0   0   2   6   0  33 596   0   0   0   0\n",
      "    0]\n",
      " [  0   3   0   0   0   0   0  14   2   0   0   0   0   0 601   5   0   0\n",
      "    1]\n",
      " [  0   0   0   0   0   0   0   1   1   0   0   0   0   0  44 551   0   0\n",
      "   20]\n",
      " [  0   0   1   0   0   0   0   0   0   8   0  10   1   0   0   0 536  44\n",
      "    0]\n",
      " [  0   1   7   0   0   0   0   0   2   0   0  10   0   0   0   0   9 590\n",
      "    0]\n",
      " [  0  38   0   0   0   0   0   0   0   0   1   0   0   0   1   1   0   0\n",
      "  574]]\n",
      "Classification Report\n",
      "              precision    recall  f1-score   support\n",
      "\n",
      "           &       0.94      0.88      0.91       686\n",
      "           2       0.93      0.96      0.94       687\n",
      "           7       0.89      0.60      0.71       566\n",
      "           9       0.91      0.97      0.94       659\n",
      "           @       0.99      0.91      0.95       640\n",
      "           A       0.87      0.94      0.90       602\n",
      "           E       0.89      0.93      0.91       665\n",
      "          E:       0.93      0.95      0.94       625\n",
      "           M       0.90      0.92      0.91       650\n",
      "           O       0.73      0.90      0.81       665\n",
      "           Q       0.92      0.88      0.89       633\n",
      "           U       0.88      0.79      0.84       647\n",
      "           V       0.69      0.77      0.73       610\n",
      "           a       0.95      0.88      0.91       680\n",
      "           e       0.92      0.96      0.94       626\n",
      "           i       0.99      0.89      0.94       617\n",
      "           o       0.95      0.89      0.92       600\n",
      "           u       0.84      0.95      0.89       619\n",
      "           y       0.93      0.93      0.93       615\n",
      "\n",
      "    accuracy                           0.89     12092\n",
      "   macro avg       0.90      0.89      0.89     12092\n",
      "weighted avg       0.90      0.89      0.89     12092\n",
      "\n"
     ]
    }
   ],
   "source": [
    "y_pred = embedded.predict(X_test)\n",
    "evaluate_model(y_pred, z_test_oe)"
   ]
  },
  {
   "cell_type": "code",
   "execution_count": 23,
   "metadata": {},
   "outputs": [],
   "source": [
    "embedded = tf.keras.models.load_model('embedded.hdf5')"
   ]
  },
  {
   "cell_type": "code",
   "execution_count": 24,
   "metadata": {},
   "outputs": [
    {
     "name": "stdout",
     "output_type": "stream",
     "text": [
      "Model: \"sequential\"\n",
      "_________________________________________________________________\n",
      "Layer (type)                 Output Shape              Param #   \n",
      "=================================================================\n",
      "lstm (LSTM)                  (None, 24, 100)           56000     \n",
      "_________________________________________________________________\n",
      "flatten (Flatten)            (None, 2400)              0         \n",
      "=================================================================\n",
      "Total params: 56,000\n",
      "Trainable params: 56,000\n",
      "Non-trainable params: 0\n",
      "_________________________________________________________________\n"
     ]
    }
   ],
   "source": [
    "model = tf.keras.Sequential()\n",
    "for layer in embedded.layers[:-1]:\n",
    "    model.add(layer)\n",
    "model.summary()"
   ]
  },
  {
   "cell_type": "code",
   "execution_count": 25,
   "metadata": {},
   "outputs": [],
   "source": [
    "y_pred = model.predict(X_test)"
   ]
  },
  {
   "cell_type": "code",
   "execution_count": 26,
   "metadata": {},
   "outputs": [
    {
     "data": {
      "text/plain": [
       "(12092, 2400)"
      ]
     },
     "execution_count": 26,
     "metadata": {},
     "output_type": "execute_result"
    }
   ],
   "source": [
    "y_pred.shape"
   ]
  },
  {
   "cell_type": "markdown",
   "metadata": {},
   "source": [
    "## Test Embedding"
   ]
  },
  {
   "cell_type": "code",
   "execution_count": 117,
   "metadata": {},
   "outputs": [],
   "source": [
    "from scipy.spatial.distance import cosine"
   ]
  },
  {
   "cell_type": "code",
   "execution_count": 118,
   "metadata": {},
   "outputs": [
    {
     "name": "stdout",
     "output_type": "stream",
     "text": [
      "[(0, 'O'), (1, '2'), (2, 'U'), (3, 'o'), (4, '@'), (5, '9'), (6, 'u'), (7, 'E'), (8, '2'), (9, '2'), (10, 'A'), (11, '@'), (12, 'y'), (13, 'i'), (14, 'E'), (15, 'Q'), (16, 'u'), (17, 'o'), (18, '7'), (19, 'E:'), (20, '9'), (21, 'E:'), (22, '&'), (23, 'V'), (24, 'E:'), (25, 'o'), (26, '7'), (27, 'a'), (28, '2'), (29, 'i')]\n"
     ]
    }
   ],
   "source": [
    "print([(idx, item) for idx, item in enumerate(z_test.tolist()[:30])])"
   ]
  },
  {
   "cell_type": "code",
   "execution_count": 129,
   "metadata": {},
   "outputs": [],
   "source": [
    "def cosine_sim(idx, idx2):\n",
    "    sim = 1 - cosine(y_pred[idx], y_pred[idx2])\n",
    "    if sim > 0.40:\n",
    "        print('{} {}: {}'.format(z_test[idx], z_test[idx2],sim))"
   ]
  },
  {
   "cell_type": "code",
   "execution_count": 130,
   "metadata": {
    "collapsed": true,
    "jupyter": {
     "outputs_hidden": true
    }
   },
   "outputs": [
    {
     "name": "stdout",
     "output_type": "stream",
     "text": [
      "O O: 1.0\n",
      "2 2: 1.0\n",
      "2 2: 0.5821772217750549\n",
      "U U: 1.0\n",
      "o o: 1.0\n",
      "@ @: 1.0\n",
      "9 9: 1.0\n",
      "9 9: 0.6471675634384155\n",
      "u u: 1.0\n",
      "E E: 1.0\n",
      "E E: 0.6792986392974854\n",
      "2 2: 0.5821772217750549\n",
      "2 2: 1.0\n",
      "2 2: 1.0\n",
      "A A: 1.0\n",
      "@ @: 1.0\n",
      "y y: 1.0\n",
      "i i: 1.0\n",
      "i E:: 0.43088242411613464\n",
      "i i: 0.4158954620361328\n",
      "E E: 0.6792986392974854\n",
      "E E: 1.0\n",
      "Q Q: 1.0\n",
      "u u: 1.0\n",
      "o o: 1.0\n",
      "7 7: 1.0\n",
      "7 7: 0.4666718542575836\n",
      "E: E:: 1.0\n",
      "E: E:: 0.4112861156463623\n",
      "E: E:: 0.5355876088142395\n",
      "9 9: 0.6471675634384155\n",
      "9 9: 1.0\n",
      "E: E:: 0.4112861156463623\n",
      "E: E:: 1.0\n",
      "E: E:: 0.4070873558521271\n",
      "& &: 1.0\n",
      "V V: 1.0\n",
      "E: i: 0.43088242411613464\n",
      "E: E:: 0.5355876088142395\n",
      "E: E:: 0.4070873558521271\n",
      "E: E:: 1.0\n",
      "o o: 1.0\n",
      "7 7: 0.4666718542575836\n",
      "7 7: 1.0\n",
      "a a: 1.0\n",
      "2 2: 1.0\n",
      "i i: 0.4158954620361328\n",
      "i i: 1.0\n"
     ]
    }
   ],
   "source": [
    "for i in range(30):\n",
    "    for j in range(30):\n",
    "        cosine_sim(i, j)"
   ]
  },
  {
   "cell_type": "markdown",
   "metadata": {},
   "source": [
    "# Model with Embedding "
   ]
  },
  {
   "cell_type": "markdown",
   "metadata": {},
   "source": [
    "## Baseline "
   ]
  },
  {
   "cell_type": "code",
   "execution_count": 23,
   "metadata": {},
   "outputs": [],
   "source": [
    "N_OUTPUTS = 17\n",
    "\n",
    "pLSTM = partial(LSTM,\n",
    "    kernel_initializer='he_uniform',\n",
    "    return_sequences=True)\n",
    "\n",
    "pDense = partial(Dense,\n",
    "    kernel_initializer='he_normal',\n",
    "    activation='elu')\n",
    "\n",
    "def init_bilstm(unit=128, bi_layer_num=3, drop_rate=0.2):\n",
    "\n",
    "    def bilstm(input_shape_1,input_shape_2):\n",
    "        \n",
    "        input_x = keras.Input(shape=(input_shape_1,input_shape_2))\n",
    "        # feature extraction layers\n",
    "        x = input_x\n",
    "        for i in range(bi_layer_num-1):\n",
    "            x = Bidirectional(pLSTM(unit))(x)\n",
    "            if drop_rate: \n",
    "                x = SpatialDropout1D(rate=drop_rate)(x)\n",
    "        # output layers\n",
    "        x = Bidirectional(pLSTM(unit, return_sequences=False))(x)\n",
    "        if drop_rate: \n",
    "            x = Dropout(rate=drop_rate)(x)\n",
    "        outputs_param = pDense(N_OUTPUTS, activation='linear')(x)\n",
    "        \n",
    "        model = keras.Model(inputs=input_x, outputs=outputs_param)\n",
    "        # model.summary()\n",
    "        return model\n",
    "    return bilstm"
   ]
  },
  {
   "cell_type": "code",
   "execution_count": 28,
   "metadata": {},
   "outputs": [
    {
     "name": "stdout",
     "output_type": "stream",
     "text": [
      "Model: \"model_1\"\n",
      "_________________________________________________________________\n",
      "Layer (type)                 Output Shape              Param #   \n",
      "=================================================================\n",
      "input_2 (InputLayer)         [(None, 24, 39)]          0         \n",
      "_________________________________________________________________\n",
      "bidirectional (Bidirectional (None, 24, 256)           172032    \n",
      "_________________________________________________________________\n",
      "spatial_dropout1d (SpatialDr (None, 24, 256)           0         \n",
      "_________________________________________________________________\n",
      "bidirectional_1 (Bidirection (None, 24, 256)           394240    \n",
      "_________________________________________________________________\n",
      "spatial_dropout1d_1 (Spatial (None, 24, 256)           0         \n",
      "_________________________________________________________________\n",
      "bidirectional_2 (Bidirection (None, 256)               394240    \n",
      "_________________________________________________________________\n",
      "dropout (Dropout)            (None, 256)               0         \n",
      "_________________________________________________________________\n",
      "dense_1 (Dense)              (None, 17)                4369      \n",
      "=================================================================\n",
      "Total params: 964,881\n",
      "Trainable params: 964,881\n",
      "Non-trainable params: 0\n",
      "_________________________________________________________________\n"
     ]
    }
   ],
   "source": [
    "model = init_bilstm()(24, 39)\n",
    "model.summary()"
   ]
  },
  {
   "cell_type": "markdown",
   "metadata": {},
   "source": [
    "## Compile Model "
   ]
  },
  {
   "cell_type": "code",
   "execution_count": 29,
   "metadata": {},
   "outputs": [],
   "source": [
    "model.compile(optimizer='adam',loss='mse',metrics=[rmse, R2])"
   ]
  },
  {
   "cell_type": "markdown",
   "metadata": {},
   "source": [
    "## Train Model "
   ]
  },
  {
   "cell_type": "code",
   "execution_count": 30,
   "metadata": {},
   "outputs": [],
   "source": [
    "PATIENCE = 10\n",
    "BATCH_SIZE = 128\n",
    "EPOCHS = 30"
   ]
  },
  {
   "cell_type": "code",
   "execution_count": 31,
   "metadata": {},
   "outputs": [],
   "source": [
    "early = callbacks.EarlyStopping(monitor='val_loss', min_delta=0, patience=PATIENCE, verbose=1, mode='min', baseline=None, restore_best_weights=False)\n",
    "callback_list = [early]"
   ]
  },
  {
   "cell_type": "code",
   "execution_count": 32,
   "metadata": {},
   "outputs": [
    {
     "name": "stdout",
     "output_type": "stream",
     "text": [
      "Train on 98746 samples, validate on 12094 samples\n",
      "Epoch 1/30\n",
      "98746/98746 [==============================] - 29s 291us/sample - loss: 0.0784 - rmse: 0.2571 - R2: 0.6587 - val_loss: 0.0436 - val_rmse: 0.1841 - val_R2: 0.8149\n",
      "Epoch 2/30\n",
      "98746/98746 [==============================] - 16s 163us/sample - loss: 0.0498 - rmse: 0.2014 - R2: 0.7853 - val_loss: 0.0382 - val_rmse: 0.1709 - val_R2: 0.8370\n",
      "Epoch 3/30\n",
      "98746/98746 [==============================] - 16s 164us/sample - loss: 0.0434 - rmse: 0.1873 - R2: 0.8127 - val_loss: 0.0349 - val_rmse: 0.1629 - val_R2: 0.8511\n",
      "Epoch 4/30\n",
      "98746/98746 [==============================] - 16s 164us/sample - loss: 0.0398 - rmse: 0.1794 - R2: 0.8281 - val_loss: 0.0375 - val_rmse: 0.1656 - val_R2: 0.8401\n",
      "Epoch 5/30\n",
      "98746/98746 [==============================] - 16s 164us/sample - loss: 0.0374 - rmse: 0.1739 - R2: 0.8385 - val_loss: 0.0403 - val_rmse: 0.1689 - val_R2: 0.8309\n",
      "Epoch 6/30\n",
      "98746/98746 [==============================] - 16s 164us/sample - loss: 0.0355 - rmse: 0.1696 - R2: 0.8466 - val_loss: 0.0356 - val_rmse: 0.1609 - val_R2: 0.8490\n",
      "Epoch 7/30\n",
      "98746/98746 [==============================] - 16s 164us/sample - loss: 0.0339 - rmse: 0.1660 - R2: 0.8533 - val_loss: 0.0351 - val_rmse: 0.1583 - val_R2: 0.8507\n",
      "Epoch 8/30\n",
      "98746/98746 [==============================] - 16s 163us/sample - loss: 0.0327 - rmse: 0.1633 - R2: 0.8585 - val_loss: 0.0355 - val_rmse: 0.1598 - val_R2: 0.8491\n",
      "Epoch 9/30\n",
      "98746/98746 [==============================] - 16s 163us/sample - loss: 0.0316 - rmse: 0.1609 - R2: 0.8631 - val_loss: 0.0343 - val_rmse: 0.1573 - val_R2: 0.8537\n",
      "Epoch 10/30\n",
      "98746/98746 [==============================] - 16s 164us/sample - loss: 0.0304 - rmse: 0.1583 - R2: 0.8680 - val_loss: 0.0344 - val_rmse: 0.1566 - val_R2: 0.8533\n",
      "Epoch 11/30\n",
      "98746/98746 [==============================] - 16s 162us/sample - loss: 0.0294 - rmse: 0.1560 - R2: 0.8721 - val_loss: 0.0341 - val_rmse: 0.1556 - val_R2: 0.8549\n",
      "Epoch 12/30\n",
      "98746/98746 [==============================] - 16s 162us/sample - loss: 0.0286 - rmse: 0.1543 - R2: 0.8758 - val_loss: 0.0355 - val_rmse: 0.1576 - val_R2: 0.8491\n",
      "Epoch 13/30\n",
      "98746/98746 [==============================] - 16s 162us/sample - loss: 0.0279 - rmse: 0.1527 - R2: 0.8784 - val_loss: 0.0359 - val_rmse: 0.1577 - val_R2: 0.8461\n",
      "Epoch 14/30\n",
      "98746/98746 [==============================] - 16s 162us/sample - loss: 0.0277 - rmse: 0.1519 - R2: 0.8796 - val_loss: 0.0340 - val_rmse: 0.1553 - val_R2: 0.8544\n",
      "Epoch 15/30\n",
      "98746/98746 [==============================] - 16s 161us/sample - loss: 0.0272 - rmse: 0.1507 - R2: 0.8817 - val_loss: 0.0332 - val_rmse: 0.1527 - val_R2: 0.8585\n",
      "Epoch 16/30\n",
      "98746/98746 [==============================] - 16s 161us/sample - loss: 0.0263 - rmse: 0.1489 - R2: 0.8854 - val_loss: 0.0336 - val_rmse: 0.1537 - val_R2: 0.8570\n",
      "Epoch 17/30\n",
      "98746/98746 [==============================] - 16s 161us/sample - loss: 0.0259 - rmse: 0.1479 - R2: 0.8870 - val_loss: 0.0328 - val_rmse: 0.1520 - val_R2: 0.8600\n",
      "Epoch 18/30\n",
      "98746/98746 [==============================] - 16s 162us/sample - loss: 0.0253 - rmse: 0.1466 - R2: 0.8894 - val_loss: 0.0331 - val_rmse: 0.1516 - val_R2: 0.8590\n",
      "Epoch 19/30\n",
      "98746/98746 [==============================] - 16s 161us/sample - loss: 0.0253 - rmse: 0.1464 - R2: 0.8895 - val_loss: 0.0333 - val_rmse: 0.1519 - val_R2: 0.8581\n",
      "Epoch 20/30\n",
      "98746/98746 [==============================] - 16s 162us/sample - loss: 0.0248 - rmse: 0.1455 - R2: 0.8915 - val_loss: 0.0333 - val_rmse: 0.1517 - val_R2: 0.8580\n",
      "Epoch 21/30\n",
      "98746/98746 [==============================] - 16s 164us/sample - loss: 0.0246 - rmse: 0.1448 - R2: 0.8926 - val_loss: 0.0324 - val_rmse: 0.1499 - val_R2: 0.8615\n",
      "Epoch 22/30\n",
      "98746/98746 [==============================] - 16s 164us/sample - loss: 0.0239 - rmse: 0.1432 - R2: 0.8956 - val_loss: 0.0321 - val_rmse: 0.1504 - val_R2: 0.8625\n",
      "Epoch 23/30\n",
      "98746/98746 [==============================] - 16s 164us/sample - loss: 0.0239 - rmse: 0.1431 - R2: 0.8954 - val_loss: 0.0349 - val_rmse: 0.1541 - val_R2: 0.8513\n",
      "Epoch 24/30\n",
      "98746/98746 [==============================] - 16s 164us/sample - loss: 0.0236 - rmse: 0.1424 - R2: 0.8967 - val_loss: 0.0323 - val_rmse: 0.1496 - val_R2: 0.8616\n",
      "Epoch 25/30\n",
      "98746/98746 [==============================] - 16s 164us/sample - loss: 0.0233 - rmse: 0.1417 - R2: 0.8981 - val_loss: 0.0327 - val_rmse: 0.1500 - val_R2: 0.8610\n",
      "Epoch 26/30\n",
      "98746/98746 [==============================] - 16s 164us/sample - loss: 0.0231 - rmse: 0.1411 - R2: 0.8991 - val_loss: 0.0328 - val_rmse: 0.1510 - val_R2: 0.8596\n",
      "Epoch 27/30\n",
      "98746/98746 [==============================] - 16s 164us/sample - loss: 0.0228 - rmse: 0.1405 - R2: 0.9001 - val_loss: 0.0332 - val_rmse: 0.1511 - val_R2: 0.8581\n",
      "Epoch 28/30\n",
      "98746/98746 [==============================] - 16s 164us/sample - loss: 0.0227 - rmse: 0.1402 - R2: 0.9008 - val_loss: 0.0345 - val_rmse: 0.1526 - val_R2: 0.8540\n",
      "Epoch 29/30\n",
      "98746/98746 [==============================] - 16s 164us/sample - loss: 0.0224 - rmse: 0.1394 - R2: 0.9017 - val_loss: 0.0336 - val_rmse: 0.1516 - val_R2: 0.8563\n",
      "Epoch 30/30\n",
      "98746/98746 [==============================] - 16s 166us/sample - loss: 0.0224 - rmse: 0.1392 - R2: 0.9021 - val_loss: 0.0326 - val_rmse: 0.1493 - val_R2: 0.8606\n"
     ]
    }
   ],
   "source": [
    "history = model.fit(X_train,y_train,\n",
    "    batch_size=BATCH_SIZE,\n",
    "    epochs=EPOCHS,\n",
    "    validation_data=(X_val,y_val),\n",
    "    callbacks=callback_list)"
   ]
  },
  {
   "cell_type": "code",
   "execution_count": 33,
   "metadata": {},
   "outputs": [],
   "source": [
    "model.save('model_baseline_2.hdf5')"
   ]
  },
  {
   "cell_type": "markdown",
   "metadata": {},
   "source": [
    "## Evaluation "
   ]
  },
  {
   "cell_type": "code",
   "execution_count": 34,
   "metadata": {},
   "outputs": [
    {
     "data": {
      "text/plain": [
       "[0.03239709647693383, 0.1489216, 0.8514758]"
      ]
     },
     "execution_count": 34,
     "metadata": {},
     "output_type": "execute_result"
    }
   ],
   "source": [
    "model.evaluate(X_test,y_test,verbose=0)"
   ]
  },
  {
   "cell_type": "code",
   "execution_count": 35,
   "metadata": {},
   "outputs": [],
   "source": [
    "y_pred = model.predict(X_test)"
   ]
  },
  {
   "cell_type": "code",
   "execution_count": 36,
   "metadata": {},
   "outputs": [],
   "source": [
    "err = compute_rmse(y_test,y_pred, axis=0)"
   ]
  },
  {
   "cell_type": "code",
   "execution_count": 37,
   "metadata": {},
   "outputs": [
    {
     "name": "stdout",
     "output_type": "stream",
     "text": [
      "[0.1568435  0.1333071  0.14723637 0.20025707 0.16252713 0.21058316\n",
      " 0.25390446 0.09769458 0.13031462 0.24590375 0.13846071 0.16655805\n",
      " 0.16988616 0.26658766 0.17800331 0.15121139 0.15160024]\n"
     ]
    }
   ],
   "source": [
    "print(err)"
   ]
  },
  {
   "cell_type": "markdown",
   "metadata": {},
   "source": [
    "## Embedded input model"
   ]
  },
  {
   "cell_type": "code",
   "execution_count": 24,
   "metadata": {},
   "outputs": [
    {
     "name": "stdout",
     "output_type": "stream",
     "text": [
      "Model: \"sequential\"\n",
      "_________________________________________________________________\n",
      "Layer (type)                 Output Shape              Param #   \n",
      "=================================================================\n",
      "lstm (LSTM)                  (None, 24, 100)           56000     \n",
      "=================================================================\n",
      "Total params: 56,000\n",
      "Trainable params: 0\n",
      "Non-trainable params: 56,000\n",
      "_________________________________________________________________\n"
     ]
    }
   ],
   "source": [
    "N_OUTPUTS = 17\n",
    "\n",
    "pLSTM = partial(LSTM,\n",
    "    kernel_initializer='he_uniform',\n",
    "    return_sequences=True)\n",
    "\n",
    "pDense = partial(Dense,\n",
    "    kernel_initializer='he_normal',\n",
    "    activation='elu')\n",
    "\n",
    "embedded = tf.keras.models.load_model('embedded.hdf5')\n",
    "\n",
    "embedded_layers = tf.keras.Sequential()\n",
    "for layer in embedded.layers[:-2]:\n",
    "    layer.trainable = False\n",
    "    embedded_layers.add(layer)\n",
    "embedded_layers.summary()\n",
    "\n",
    "def init_embeded_bilstm(unit=128, bi_layer_num=3, drop_rate=0.2):\n",
    "\n",
    "    def bilstm(input_shape_1,input_shape_2):\n",
    "        \n",
    "        input_x = keras.Input(shape=(input_shape_1,input_shape_2))\n",
    "        \n",
    "        emb = embedded_layers(input_x)\n",
    "        \n",
    "        # feature extraction layers\n",
    "        x = Concatenate()([input_x,emb])\n",
    "        for i in range(bi_layer_num-1):\n",
    "            x = Bidirectional(pLSTM(unit))(x)\n",
    "            if drop_rate: \n",
    "                x = SpatialDropout1D(rate=drop_rate)(x)\n",
    "        # output layers\n",
    "        x = Bidirectional(pLSTM(unit, return_sequences=False))(x)\n",
    "        if drop_rate: \n",
    "            x = Dropout(rate=drop_rate)(x)\n",
    "        outputs_param = pDense(N_OUTPUTS, activation='linear')(x)\n",
    "        \n",
    "        model = keras.Model(inputs=input_x, outputs=outputs_param)\n",
    "        # model.summary()\n",
    "        return model\n",
    "    return bilstm"
   ]
  },
  {
   "cell_type": "code",
   "execution_count": 25,
   "metadata": {},
   "outputs": [
    {
     "name": "stdout",
     "output_type": "stream",
     "text": [
      "Model: \"model_1\"\n",
      "__________________________________________________________________________________________________\n",
      "Layer (type)                    Output Shape         Param #     Connected to                     \n",
      "==================================================================================================\n",
      "input_2 (InputLayer)            [(None, 24, 39)]     0                                            \n",
      "__________________________________________________________________________________________________\n",
      "sequential (Sequential)         (None, 24, 100)      56000       input_2[0][0]                    \n",
      "__________________________________________________________________________________________________\n",
      "concatenate (Concatenate)       (None, 24, 139)      0           input_2[0][0]                    \n",
      "                                                                 sequential[1][0]                 \n",
      "__________________________________________________________________________________________________\n",
      "bidirectional (Bidirectional)   (None, 24, 256)      274432      concatenate[0][0]                \n",
      "__________________________________________________________________________________________________\n",
      "spatial_dropout1d (SpatialDropo (None, 24, 256)      0           bidirectional[0][0]              \n",
      "__________________________________________________________________________________________________\n",
      "bidirectional_1 (Bidirectional) (None, 24, 256)      394240      spatial_dropout1d[0][0]          \n",
      "__________________________________________________________________________________________________\n",
      "spatial_dropout1d_1 (SpatialDro (None, 24, 256)      0           bidirectional_1[0][0]            \n",
      "__________________________________________________________________________________________________\n",
      "bidirectional_2 (Bidirectional) (None, 256)          394240      spatial_dropout1d_1[0][0]        \n",
      "__________________________________________________________________________________________________\n",
      "dropout (Dropout)               (None, 256)          0           bidirectional_2[0][0]            \n",
      "__________________________________________________________________________________________________\n",
      "dense_1 (Dense)                 (None, 17)           4369        dropout[0][0]                    \n",
      "==================================================================================================\n",
      "Total params: 1,123,281\n",
      "Trainable params: 1,067,281\n",
      "Non-trainable params: 56,000\n",
      "__________________________________________________________________________________________________\n"
     ]
    }
   ],
   "source": [
    "emb_model = init_embeded_bilstm()(24, 39)\n",
    "emb_model.summary()"
   ]
  },
  {
   "cell_type": "markdown",
   "metadata": {},
   "source": [
    "## Compile Model "
   ]
  },
  {
   "cell_type": "code",
   "execution_count": 26,
   "metadata": {},
   "outputs": [],
   "source": [
    "emb_model.compile(optimizer='adam',loss='mse',metrics=[rmse, R2])"
   ]
  },
  {
   "cell_type": "markdown",
   "metadata": {},
   "source": [
    "## Train Model "
   ]
  },
  {
   "cell_type": "code",
   "execution_count": 27,
   "metadata": {},
   "outputs": [],
   "source": [
    "PATIENCE = 10\n",
    "BATCH_SIZE = 128\n",
    "EPOCHS = 30"
   ]
  },
  {
   "cell_type": "code",
   "execution_count": 28,
   "metadata": {},
   "outputs": [],
   "source": [
    "early = callbacks.EarlyStopping(monitor='val_loss', min_delta=0, patience=PATIENCE, verbose=1, mode='min', baseline=None, restore_best_weights=False)\n",
    "callback_list = [early]"
   ]
  },
  {
   "cell_type": "code",
   "execution_count": 29,
   "metadata": {},
   "outputs": [
    {
     "name": "stdout",
     "output_type": "stream",
     "text": [
      "Train on 98746 samples, validate on 12094 samples\n",
      "Epoch 1/30\n",
      "98746/98746 - 44s - loss: 0.0594 - rmse: 0.2215 - R2: 0.7398 - val_loss: 0.0375 - val_rmse: 0.1684 - val_R2: 0.8401\n",
      "Epoch 2/30\n",
      "98746/98746 - 25s - loss: 0.0378 - rmse: 0.1764 - R2: 0.8370 - val_loss: 0.0364 - val_rmse: 0.1630 - val_R2: 0.8447\n",
      "Epoch 3/30\n",
      "98746/98746 - 23s - loss: 0.0343 - rmse: 0.1676 - R2: 0.8520 - val_loss: 0.0367 - val_rmse: 0.1620 - val_R2: 0.8441\n",
      "Epoch 4/30\n",
      "98746/98746 - 24s - loss: 0.0325 - rmse: 0.1628 - R2: 0.8598 - val_loss: 0.0358 - val_rmse: 0.1603 - val_R2: 0.8471\n",
      "Epoch 5/30\n",
      "98746/98746 - 25s - loss: 0.0307 - rmse: 0.1587 - R2: 0.8672 - val_loss: 0.0365 - val_rmse: 0.1606 - val_R2: 0.8452\n",
      "Epoch 6/30\n",
      "98746/98746 - 25s - loss: 0.0296 - rmse: 0.1559 - R2: 0.8721 - val_loss: 0.0356 - val_rmse: 0.1583 - val_R2: 0.8483\n",
      "Epoch 7/30\n",
      "98746/98746 - 25s - loss: 0.0284 - rmse: 0.1532 - R2: 0.8766 - val_loss: 0.0345 - val_rmse: 0.1562 - val_R2: 0.8522\n",
      "Epoch 8/30\n",
      "98746/98746 - 24s - loss: 0.0275 - rmse: 0.1509 - R2: 0.8805 - val_loss: 0.0344 - val_rmse: 0.1551 - val_R2: 0.8534\n",
      "Epoch 9/30\n",
      "98746/98746 - 23s - loss: 0.0267 - rmse: 0.1490 - R2: 0.8839 - val_loss: 0.0359 - val_rmse: 0.1579 - val_R2: 0.8468\n",
      "Epoch 10/30\n",
      "98746/98746 - 25s - loss: 0.0264 - rmse: 0.1480 - R2: 0.8854 - val_loss: 0.0338 - val_rmse: 0.1541 - val_R2: 0.8555\n",
      "Epoch 11/30\n",
      "98746/98746 - 25s - loss: 0.0255 - rmse: 0.1459 - R2: 0.8892 - val_loss: 0.0353 - val_rmse: 0.1557 - val_R2: 0.8493\n",
      "Epoch 12/30\n",
      "98746/98746 - 24s - loss: 0.0249 - rmse: 0.1446 - R2: 0.8916 - val_loss: 0.0342 - val_rmse: 0.1543 - val_R2: 0.8540\n",
      "Epoch 13/30\n",
      "98746/98746 - 23s - loss: 0.0245 - rmse: 0.1436 - R2: 0.8931 - val_loss: 0.0344 - val_rmse: 0.1537 - val_R2: 0.8540\n",
      "Epoch 14/30\n",
      "98746/98746 - 24s - loss: 0.0239 - rmse: 0.1419 - R2: 0.8960 - val_loss: 0.0336 - val_rmse: 0.1515 - val_R2: 0.8568\n",
      "Epoch 15/30\n",
      "98746/98746 - 23s - loss: 0.0235 - rmse: 0.1411 - R2: 0.8977 - val_loss: 0.0344 - val_rmse: 0.1525 - val_R2: 0.8536\n",
      "Epoch 16/30\n",
      "98746/98746 - 23s - loss: 0.0230 - rmse: 0.1399 - R2: 0.8995 - val_loss: 0.0343 - val_rmse: 0.1526 - val_R2: 0.8538\n",
      "Epoch 17/30\n",
      "98746/98746 - 23s - loss: 0.0227 - rmse: 0.1391 - R2: 0.9008 - val_loss: 0.0343 - val_rmse: 0.1525 - val_R2: 0.8544\n",
      "Epoch 18/30\n",
      "98746/98746 - 23s - loss: 0.0223 - rmse: 0.1382 - R2: 0.9024 - val_loss: 0.0340 - val_rmse: 0.1512 - val_R2: 0.8557\n",
      "Epoch 19/30\n",
      "98746/98746 - 24s - loss: 0.0221 - rmse: 0.1376 - R2: 0.9036 - val_loss: 0.0350 - val_rmse: 0.1531 - val_R2: 0.8516\n",
      "Epoch 20/30\n",
      "98746/98746 - 24s - loss: 0.0217 - rmse: 0.1366 - R2: 0.9051 - val_loss: 0.0351 - val_rmse: 0.1534 - val_R2: 0.8510\n",
      "Epoch 21/30\n",
      "98746/98746 - 24s - loss: 0.0214 - rmse: 0.1359 - R2: 0.9062 - val_loss: 0.0348 - val_rmse: 0.1531 - val_R2: 0.8519\n",
      "Epoch 22/30\n",
      "98746/98746 - 23s - loss: 0.0212 - rmse: 0.1353 - R2: 0.9073 - val_loss: 0.0341 - val_rmse: 0.1518 - val_R2: 0.8550\n",
      "Epoch 23/30\n",
      "98746/98746 - 23s - loss: 0.0206 - rmse: 0.1340 - R2: 0.9096 - val_loss: 0.0344 - val_rmse: 0.1521 - val_R2: 0.8536\n",
      "Epoch 24/30\n",
      "98746/98746 - 23s - loss: 0.0209 - rmse: 0.1346 - R2: 0.9085 - val_loss: 0.0351 - val_rmse: 0.1532 - val_R2: 0.8514\n",
      "Epoch 00024: early stopping\n"
     ]
    }
   ],
   "source": [
    "history = emb_model.fit(X_train,y_train,\n",
    "    batch_size=BATCH_SIZE,\n",
    "    epochs=EPOCHS,\n",
    "    verbose=2,\n",
    "    validation_data=(X_val,y_val),\n",
    "    callbacks=callback_list)"
   ]
  },
  {
   "cell_type": "code",
   "execution_count": 30,
   "metadata": {},
   "outputs": [],
   "source": [
    "emb_model.save('model_embedded_bilstm.hdf5')"
   ]
  },
  {
   "cell_type": "markdown",
   "metadata": {},
   "source": [
    "## Evaluation "
   ]
  },
  {
   "cell_type": "code",
   "execution_count": 17,
   "metadata": {},
   "outputs": [],
   "source": [
    "emb_model = tf.keras.models.load_model('model_embedded_bilstm.hdf5', custom_objects={'rmse': rmse, 'R2':R2})"
   ]
  },
  {
   "cell_type": "code",
   "execution_count": 55,
   "metadata": {},
   "outputs": [
    {
     "data": {
      "text/plain": [
       "[0.03327701454338276, 0.14917862, 0.8477405]"
      ]
     },
     "execution_count": 55,
     "metadata": {},
     "output_type": "execute_result"
    }
   ],
   "source": [
    "emb_model.evaluate(X_test,y_test,verbose=0)"
   ]
  },
  {
   "cell_type": "code",
   "execution_count": 142,
   "metadata": {},
   "outputs": [],
   "source": [
    "y_pred = emb_model.predict(X_test)"
   ]
  },
  {
   "cell_type": "markdown",
   "metadata": {},
   "source": [
    "### Check error by each data "
   ]
  },
  {
   "cell_type": "code",
   "execution_count": 143,
   "metadata": {},
   "outputs": [],
   "source": [
    "errs = compute_rmse(y_test,y_pred, axis=1)"
   ]
  },
  {
   "cell_type": "code",
   "execution_count": 144,
   "metadata": {},
   "outputs": [
    {
     "name": "stdout",
     "output_type": "stream",
     "text": [
      "[0.11166411 0.06921014 0.08983744 ... 0.08429862 0.04483162 0.11878191]\n"
     ]
    }
   ],
   "source": [
    "print(err)"
   ]
  },
  {
   "cell_type": "markdown",
   "metadata": {},
   "source": [
    "### Error rank by highest "
   ]
  },
  {
   "cell_type": "code",
   "execution_count": 145,
   "metadata": {},
   "outputs": [],
   "source": [
    "err_df = pd.DataFrame({'phonetic':z_test, 'err':errs})"
   ]
  },
  {
   "cell_type": "code",
   "execution_count": 146,
   "metadata": {},
   "outputs": [
    {
     "data": {
      "text/html": [
       "<div>\n",
       "<style scoped>\n",
       "    .dataframe tbody tr th:only-of-type {\n",
       "        vertical-align: middle;\n",
       "    }\n",
       "\n",
       "    .dataframe tbody tr th {\n",
       "        vertical-align: top;\n",
       "    }\n",
       "\n",
       "    .dataframe thead th {\n",
       "        text-align: right;\n",
       "    }\n",
       "</style>\n",
       "<table border=\"1\" class=\"dataframe\">\n",
       "  <thead>\n",
       "    <tr style=\"text-align: right;\">\n",
       "      <th></th>\n",
       "      <th>phonetic</th>\n",
       "      <th>err</th>\n",
       "    </tr>\n",
       "  </thead>\n",
       "  <tbody>\n",
       "    <tr>\n",
       "      <th>0</th>\n",
       "      <td>2</td>\n",
       "      <td>0.121431</td>\n",
       "    </tr>\n",
       "    <tr>\n",
       "      <th>1</th>\n",
       "      <td>2</td>\n",
       "      <td>0.067091</td>\n",
       "    </tr>\n",
       "    <tr>\n",
       "      <th>2</th>\n",
       "      <td>O</td>\n",
       "      <td>0.089768</td>\n",
       "    </tr>\n",
       "    <tr>\n",
       "      <th>3</th>\n",
       "      <td>i</td>\n",
       "      <td>0.092908</td>\n",
       "    </tr>\n",
       "    <tr>\n",
       "      <th>4</th>\n",
       "      <td>Q</td>\n",
       "      <td>0.161480</td>\n",
       "    </tr>\n",
       "  </tbody>\n",
       "</table>\n",
       "</div>"
      ],
      "text/plain": [
       "  phonetic       err\n",
       "0        2  0.121431\n",
       "1        2  0.067091\n",
       "2        O  0.089768\n",
       "3        i  0.092908\n",
       "4        Q  0.161480"
      ]
     },
     "execution_count": 146,
     "metadata": {},
     "output_type": "execute_result"
    }
   ],
   "source": [
    "err_df.head()"
   ]
  },
  {
   "cell_type": "code",
   "execution_count": 147,
   "metadata": {},
   "outputs": [
    {
     "data": {
      "text/html": [
       "<div>\n",
       "<style scoped>\n",
       "    .dataframe tbody tr th:only-of-type {\n",
       "        vertical-align: middle;\n",
       "    }\n",
       "\n",
       "    .dataframe tbody tr th {\n",
       "        vertical-align: top;\n",
       "    }\n",
       "\n",
       "    .dataframe thead th {\n",
       "        text-align: right;\n",
       "    }\n",
       "</style>\n",
       "<table border=\"1\" class=\"dataframe\">\n",
       "  <thead>\n",
       "    <tr style=\"text-align: right;\">\n",
       "      <th></th>\n",
       "      <th>phonetic</th>\n",
       "      <th>err</th>\n",
       "    </tr>\n",
       "  </thead>\n",
       "  <tbody>\n",
       "    <tr>\n",
       "      <th>1120</th>\n",
       "      <td>O</td>\n",
       "      <td>0.034730</td>\n",
       "    </tr>\n",
       "    <tr>\n",
       "      <th>6010</th>\n",
       "      <td>A</td>\n",
       "      <td>0.034919</td>\n",
       "    </tr>\n",
       "    <tr>\n",
       "      <th>6532</th>\n",
       "      <td>a</td>\n",
       "      <td>0.035045</td>\n",
       "    </tr>\n",
       "    <tr>\n",
       "      <th>2753</th>\n",
       "      <td>y</td>\n",
       "      <td>0.036230</td>\n",
       "    </tr>\n",
       "    <tr>\n",
       "      <th>528</th>\n",
       "      <td>E:</td>\n",
       "      <td>0.036260</td>\n",
       "    </tr>\n",
       "    <tr>\n",
       "      <th>...</th>\n",
       "      <td>...</td>\n",
       "      <td>...</td>\n",
       "    </tr>\n",
       "    <tr>\n",
       "      <th>5324</th>\n",
       "      <td>&amp;</td>\n",
       "      <td>0.727914</td>\n",
       "    </tr>\n",
       "    <tr>\n",
       "      <th>187</th>\n",
       "      <td>V</td>\n",
       "      <td>0.728262</td>\n",
       "    </tr>\n",
       "    <tr>\n",
       "      <th>311</th>\n",
       "      <td>&amp;</td>\n",
       "      <td>0.744372</td>\n",
       "    </tr>\n",
       "    <tr>\n",
       "      <th>7173</th>\n",
       "      <td>&amp;</td>\n",
       "      <td>0.765260</td>\n",
       "    </tr>\n",
       "    <tr>\n",
       "      <th>2210</th>\n",
       "      <td>&amp;</td>\n",
       "      <td>0.766471</td>\n",
       "    </tr>\n",
       "  </tbody>\n",
       "</table>\n",
       "<p>12092 rows × 2 columns</p>\n",
       "</div>"
      ],
      "text/plain": [
       "     phonetic       err\n",
       "1120        O  0.034730\n",
       "6010        A  0.034919\n",
       "6532        a  0.035045\n",
       "2753        y  0.036230\n",
       "528        E:  0.036260\n",
       "...       ...       ...\n",
       "5324        &  0.727914\n",
       "187         V  0.728262\n",
       "311         &  0.744372\n",
       "7173        &  0.765260\n",
       "2210        &  0.766471\n",
       "\n",
       "[12092 rows x 2 columns]"
      ]
     },
     "execution_count": 147,
     "metadata": {},
     "output_type": "execute_result"
    }
   ],
   "source": [
    "err_df.sort_values('err')"
   ]
  },
  {
   "cell_type": "code",
   "execution_count": 148,
   "metadata": {},
   "outputs": [
    {
     "data": {
      "text/plain": [
       "array([[<matplotlib.axes._subplots.AxesSubplot object at 0x00000272CD5FA588>]],\n",
       "      dtype=object)"
      ]
     },
     "execution_count": 148,
     "metadata": {},
     "output_type": "execute_result"
    },
    {
     "data": {
      "image/png": "[encoded data removed]",
      "text/plain": [
       "<Figure size 432x288 with 1 Axes>"
      ]
     },
     "metadata": {
      "needs_background": "light"
     },
     "output_type": "display_data"
    }
   ],
   "source": [
    "err_df.hist('err')"
   ]
  },
  {
   "cell_type": "code",
   "execution_count": 149,
   "metadata": {},
   "outputs": [],
   "source": [
    "err_df_high = err_df[err_df['err'] > 0.15]"
   ]
  },
  {
   "cell_type": "code",
   "execution_count": 150,
   "metadata": {},
   "outputs": [
    {
     "data": {
      "text/html": [
       "<div>\n",
       "<style scoped>\n",
       "    .dataframe tbody tr th:only-of-type {\n",
       "        vertical-align: middle;\n",
       "    }\n",
       "\n",
       "    .dataframe tbody tr th {\n",
       "        vertical-align: top;\n",
       "    }\n",
       "\n",
       "    .dataframe thead th {\n",
       "        text-align: right;\n",
       "    }\n",
       "</style>\n",
       "<table border=\"1\" class=\"dataframe\">\n",
       "  <thead>\n",
       "    <tr style=\"text-align: right;\">\n",
       "      <th></th>\n",
       "      <th>phonetic</th>\n",
       "      <th>err</th>\n",
       "    </tr>\n",
       "  </thead>\n",
       "  <tbody>\n",
       "    <tr>\n",
       "      <th>4</th>\n",
       "      <td>Q</td>\n",
       "      <td>0.161480</td>\n",
       "    </tr>\n",
       "    <tr>\n",
       "      <th>5</th>\n",
       "      <td>&amp;</td>\n",
       "      <td>0.182963</td>\n",
       "    </tr>\n",
       "    <tr>\n",
       "      <th>10</th>\n",
       "      <td>e</td>\n",
       "      <td>0.193200</td>\n",
       "    </tr>\n",
       "    <tr>\n",
       "      <th>15</th>\n",
       "      <td>&amp;</td>\n",
       "      <td>0.151449</td>\n",
       "    </tr>\n",
       "    <tr>\n",
       "      <th>19</th>\n",
       "      <td>2</td>\n",
       "      <td>0.162316</td>\n",
       "    </tr>\n",
       "  </tbody>\n",
       "</table>\n",
       "</div>"
      ],
      "text/plain": [
       "   phonetic       err\n",
       "4         Q  0.161480\n",
       "5         &  0.182963\n",
       "10        e  0.193200\n",
       "15        &  0.151449\n",
       "19        2  0.162316"
      ]
     },
     "execution_count": 150,
     "metadata": {},
     "output_type": "execute_result"
    }
   ],
   "source": [
    "err_df_high.head()"
   ]
  },
  {
   "cell_type": "code",
   "execution_count": 151,
   "metadata": {},
   "outputs": [
    {
     "data": {
      "text/plain": [
       "<matplotlib.axes._subplots.AxesSubplot at 0x2723ebe51d0>"
      ]
     },
     "execution_count": 151,
     "metadata": {},
     "output_type": "execute_result"
    },
    {
     "data": {
      "image/png": "[encoded data removed]",
      "text/plain": [
       "<Figure size 432x288 with 1 Axes>"
      ]
     },
     "metadata": {
      "needs_background": "light"
     },
     "output_type": "display_data"
    }
   ],
   "source": [
    "err_df[err_df['err'] > 0.5].groupby('phonetic')['phonetic'].count().sort_values(ascending=False).plot.bar()"
   ]
  },
  {
   "cell_type": "code",
   "execution_count": 152,
   "metadata": {},
   "outputs": [
    {
     "data": {
      "text/plain": [
       "phonetic\n",
       "&     152\n",
       "2     114\n",
       "7     312\n",
       "9     186\n",
       "@     129\n",
       "A     126\n",
       "E     193\n",
       "E:    127\n",
       "M     235\n",
       "O     164\n",
       "Q     216\n",
       "U     180\n",
       "V     212\n",
       "a     160\n",
       "e     176\n",
       "i     226\n",
       "o     145\n",
       "u     148\n",
       "y     148\n",
       "Name: phonetic, dtype: int64"
      ]
     },
     "execution_count": 152,
     "metadata": {},
     "output_type": "execute_result"
    }
   ],
   "source": [
    "err_df_high.groupby('phonetic')['phonetic'].count()"
   ]
  },
  {
   "cell_type": "markdown",
   "metadata": {},
   "source": [
    "## Evaluate each param of each row"
   ]
  },
  {
   "cell_type": "code",
   "execution_count": 153,
   "metadata": {},
   "outputs": [],
   "source": [
    "se = compute_se(y_test,y_pred)\n",
    "errs = compute_rmse(y_test,y_pred, axis=1)"
   ]
  },
  {
   "cell_type": "code",
   "execution_count": 154,
   "metadata": {},
   "outputs": [],
   "source": [
    "df_se = pd.DataFrame(se, columns=[\"HX\",\"HY\",\"JA\",\"LP\",\"LD\",\"VS\",\"VO\",\"TCX\",\"TCY\",\"TTX\",\"TTY\",\"TBX\",\"TBY\",\"TS1\",\"TS2\",\"TS3\",\"TS4\"])"
   ]
  },
  {
   "cell_type": "code",
   "execution_count": 155,
   "metadata": {},
   "outputs": [],
   "source": [
    "df_se['phonetic'] = z_test\n",
    "df_se['mean_err'] = errs\n",
    "df_se['audio'] = a_test"
   ]
  },
  {
   "cell_type": "code",
   "execution_count": 156,
   "metadata": {},
   "outputs": [
    {
     "data": {
      "text/html": [
       "<div>\n",
       "<style scoped>\n",
       "    .dataframe tbody tr th:only-of-type {\n",
       "        vertical-align: middle;\n",
       "    }\n",
       "\n",
       "    .dataframe tbody tr th {\n",
       "        vertical-align: top;\n",
       "    }\n",
       "\n",
       "    .dataframe thead th {\n",
       "        text-align: right;\n",
       "    }\n",
       "</style>\n",
       "<table border=\"1\" class=\"dataframe\">\n",
       "  <thead>\n",
       "    <tr style=\"text-align: right;\">\n",
       "      <th></th>\n",
       "      <th>HX</th>\n",
       "      <th>HY</th>\n",
       "      <th>JA</th>\n",
       "      <th>LP</th>\n",
       "      <th>LD</th>\n",
       "      <th>VS</th>\n",
       "      <th>VO</th>\n",
       "      <th>TCX</th>\n",
       "      <th>TCY</th>\n",
       "      <th>TTX</th>\n",
       "      <th>TTY</th>\n",
       "      <th>TBX</th>\n",
       "      <th>TBY</th>\n",
       "      <th>TS1</th>\n",
       "      <th>TS2</th>\n",
       "      <th>TS3</th>\n",
       "      <th>TS4</th>\n",
       "      <th>phonetic</th>\n",
       "      <th>mean_err</th>\n",
       "      <th>audio</th>\n",
       "    </tr>\n",
       "  </thead>\n",
       "  <tbody>\n",
       "    <tr>\n",
       "      <th>0</th>\n",
       "      <td>0.022174</td>\n",
       "      <td>0.061488</td>\n",
       "      <td>0.019927</td>\n",
       "      <td>0.018761</td>\n",
       "      <td>0.006598</td>\n",
       "      <td>0.300054</td>\n",
       "      <td>0.295900</td>\n",
       "      <td>0.000850</td>\n",
       "      <td>0.102922</td>\n",
       "      <td>0.006510</td>\n",
       "      <td>0.010075</td>\n",
       "      <td>0.000918</td>\n",
       "      <td>0.130769</td>\n",
       "      <td>0.176245</td>\n",
       "      <td>0.039091</td>\n",
       "      <td>0.086492</td>\n",
       "      <td>0.010521</td>\n",
       "      <td>2</td>\n",
       "      <td>0.121431</td>\n",
       "      <td>[0.03047676, 0.02607328, 0.02177687, 0.0147435...</td>\n",
       "    </tr>\n",
       "    <tr>\n",
       "      <th>1</th>\n",
       "      <td>0.147639</td>\n",
       "      <td>0.012120</td>\n",
       "      <td>0.018323</td>\n",
       "      <td>0.005361</td>\n",
       "      <td>0.019185</td>\n",
       "      <td>0.081494</td>\n",
       "      <td>0.058105</td>\n",
       "      <td>0.027587</td>\n",
       "      <td>0.105365</td>\n",
       "      <td>0.021292</td>\n",
       "      <td>0.046956</td>\n",
       "      <td>0.053635</td>\n",
       "      <td>0.091418</td>\n",
       "      <td>0.124690</td>\n",
       "      <td>0.006603</td>\n",
       "      <td>0.041476</td>\n",
       "      <td>0.027556</td>\n",
       "      <td>2</td>\n",
       "      <td>0.067091</td>\n",
       "      <td>[0.0, 0.0, 0.0, 0.0, 0.0, 0.0, 0.0, 0.0, 0.0, ...</td>\n",
       "    </tr>\n",
       "    <tr>\n",
       "      <th>2</th>\n",
       "      <td>0.055975</td>\n",
       "      <td>0.045816</td>\n",
       "      <td>0.154573</td>\n",
       "      <td>0.073162</td>\n",
       "      <td>0.065121</td>\n",
       "      <td>0.067778</td>\n",
       "      <td>0.190482</td>\n",
       "      <td>0.001135</td>\n",
       "      <td>0.066062</td>\n",
       "      <td>0.036586</td>\n",
       "      <td>0.092204</td>\n",
       "      <td>0.065032</td>\n",
       "      <td>0.049728</td>\n",
       "      <td>0.175899</td>\n",
       "      <td>0.003359</td>\n",
       "      <td>0.018951</td>\n",
       "      <td>0.071955</td>\n",
       "      <td>O</td>\n",
       "      <td>0.089768</td>\n",
       "      <td>[0.016970541, 0.026040426, 0.33393437, 0.07212...</td>\n",
       "    </tr>\n",
       "    <tr>\n",
       "      <th>3</th>\n",
       "      <td>0.078314</td>\n",
       "      <td>0.069676</td>\n",
       "      <td>0.001433</td>\n",
       "      <td>0.236791</td>\n",
       "      <td>0.194301</td>\n",
       "      <td>0.067175</td>\n",
       "      <td>0.033828</td>\n",
       "      <td>0.007061</td>\n",
       "      <td>0.009583</td>\n",
       "      <td>0.070383</td>\n",
       "      <td>0.059727</td>\n",
       "      <td>0.034163</td>\n",
       "      <td>0.006280</td>\n",
       "      <td>0.037509</td>\n",
       "      <td>0.151717</td>\n",
       "      <td>0.015675</td>\n",
       "      <td>0.041629</td>\n",
       "      <td>i</td>\n",
       "      <td>0.092908</td>\n",
       "      <td>[0.0, 0.0, 0.0, 0.0, 0.0, 0.0, 0.0, 0.0, 0.0, ...</td>\n",
       "    </tr>\n",
       "    <tr>\n",
       "      <th>4</th>\n",
       "      <td>0.058790</td>\n",
       "      <td>0.096246</td>\n",
       "      <td>0.006789</td>\n",
       "      <td>0.003208</td>\n",
       "      <td>0.201357</td>\n",
       "      <td>0.055927</td>\n",
       "      <td>0.065633</td>\n",
       "      <td>0.056336</td>\n",
       "      <td>0.011343</td>\n",
       "      <td>0.114255</td>\n",
       "      <td>0.524291</td>\n",
       "      <td>0.090268</td>\n",
       "      <td>0.202745</td>\n",
       "      <td>0.154637</td>\n",
       "      <td>0.028841</td>\n",
       "      <td>0.066194</td>\n",
       "      <td>0.113653</td>\n",
       "      <td>Q</td>\n",
       "      <td>0.161480</td>\n",
       "      <td>[0.0, 0.0, 0.0, 0.0, 0.0, 0.0, 0.0, 0.0, 0.0, ...</td>\n",
       "    </tr>\n",
       "  </tbody>\n",
       "</table>\n",
       "</div>"
      ],
      "text/plain": [
       "         HX        HY        JA        LP        LD        VS        VO  \\\n",
       "0  0.022174  0.061488  0.019927  0.018761  0.006598  0.300054  0.295900   \n",
       "1  0.147639  0.012120  0.018323  0.005361  0.019185  0.081494  0.058105   \n",
       "2  0.055975  0.045816  0.154573  0.073162  0.065121  0.067778  0.190482   \n",
       "3  0.078314  0.069676  0.001433  0.236791  0.194301  0.067175  0.033828   \n",
       "4  0.058790  0.096246  0.006789  0.003208  0.201357  0.055927  0.065633   \n",
       "\n",
       "        TCX       TCY       TTX       TTY       TBX       TBY       TS1  \\\n",
       "0  0.000850  0.102922  0.006510  0.010075  0.000918  0.130769  0.176245   \n",
       "1  0.027587  0.105365  0.021292  0.046956  0.053635  0.091418  0.124690   \n",
       "2  0.001135  0.066062  0.036586  0.092204  0.065032  0.049728  0.175899   \n",
       "3  0.007061  0.009583  0.070383  0.059727  0.034163  0.006280  0.037509   \n",
       "4  0.056336  0.011343  0.114255  0.524291  0.090268  0.202745  0.154637   \n",
       "\n",
       "        TS2       TS3       TS4 phonetic  mean_err  \\\n",
       "0  0.039091  0.086492  0.010521        2  0.121431   \n",
       "1  0.006603  0.041476  0.027556        2  0.067091   \n",
       "2  0.003359  0.018951  0.071955        O  0.089768   \n",
       "3  0.151717  0.015675  0.041629        i  0.092908   \n",
       "4  0.028841  0.066194  0.113653        Q  0.161480   \n",
       "\n",
       "                                               audio  \n",
       "0  [0.03047676, 0.02607328, 0.02177687, 0.0147435...  \n",
       "1  [0.0, 0.0, 0.0, 0.0, 0.0, 0.0, 0.0, 0.0, 0.0, ...  \n",
       "2  [0.016970541, 0.026040426, 0.33393437, 0.07212...  \n",
       "3  [0.0, 0.0, 0.0, 0.0, 0.0, 0.0, 0.0, 0.0, 0.0, ...  \n",
       "4  [0.0, 0.0, 0.0, 0.0, 0.0, 0.0, 0.0, 0.0, 0.0, ...  "
      ]
     },
     "execution_count": 156,
     "metadata": {},
     "output_type": "execute_result"
    }
   ],
   "source": [
    "df_se.head()"
   ]
  },
  {
   "cell_type": "code",
   "execution_count": 121,
   "metadata": {},
   "outputs": [
    {
     "data": {
      "text/plain": [
       "<matplotlib.axes._subplots.AxesSubplot at 0x2723eb75940>"
      ]
     },
     "execution_count": 121,
     "metadata": {},
     "output_type": "execute_result"
    },
    {
     "data": {
      "image/png": "[encoded data removed]",
      "text/plain": [
       "<Figure size 432x288 with 1 Axes>"
      ]
     },
     "metadata": {
      "needs_background": "light"
     },
     "output_type": "display_data"
    }
   ],
   "source": [
    "df_se[(df_se['phonetic'] == '7') & (df_se['mean_err'] > 0.5)]['TS4'].plot.hist()"
   ]
  },
  {
   "cell_type": "markdown",
   "metadata": {},
   "source": [
    "## EDA audio of testing data "
   ]
  },
  {
   "cell_type": "code",
   "execution_count": 173,
   "metadata": {},
   "outputs": [],
   "source": [
    "df_se_sort = df_se.sort_values('mean_err',ascending=False)\n",
    "df_se_sort.reset_index(drop=True, inplace=True)"
   ]
  },
  {
   "cell_type": "code",
   "execution_count": 215,
   "metadata": {},
   "outputs": [
    {
     "data": {
      "text/html": [
       "<div>\n",
       "<style scoped>\n",
       "    .dataframe tbody tr th:only-of-type {\n",
       "        vertical-align: middle;\n",
       "    }\n",
       "\n",
       "    .dataframe tbody tr th {\n",
       "        vertical-align: top;\n",
       "    }\n",
       "\n",
       "    .dataframe thead th {\n",
       "        text-align: right;\n",
       "    }\n",
       "</style>\n",
       "<table border=\"1\" class=\"dataframe\">\n",
       "  <thead>\n",
       "    <tr style=\"text-align: right;\">\n",
       "      <th></th>\n",
       "      <th>HX</th>\n",
       "      <th>HY</th>\n",
       "      <th>JA</th>\n",
       "      <th>LP</th>\n",
       "      <th>LD</th>\n",
       "      <th>VS</th>\n",
       "      <th>VO</th>\n",
       "      <th>TCX</th>\n",
       "      <th>TCY</th>\n",
       "      <th>TTX</th>\n",
       "      <th>TTY</th>\n",
       "      <th>TBX</th>\n",
       "      <th>TBY</th>\n",
       "      <th>TS1</th>\n",
       "      <th>TS2</th>\n",
       "      <th>TS3</th>\n",
       "      <th>TS4</th>\n",
       "      <th>phonetic</th>\n",
       "      <th>mean_err</th>\n",
       "      <th>audio</th>\n",
       "    </tr>\n",
       "  </thead>\n",
       "  <tbody>\n",
       "    <tr>\n",
       "      <th>0</th>\n",
       "      <td>0.664692</td>\n",
       "      <td>0.441207</td>\n",
       "      <td>0.322623</td>\n",
       "      <td>0.482189</td>\n",
       "      <td>0.810838</td>\n",
       "      <td>1.281890</td>\n",
       "      <td>1.119328</td>\n",
       "      <td>0.153846</td>\n",
       "      <td>0.783302</td>\n",
       "      <td>0.249519</td>\n",
       "      <td>0.140264</td>\n",
       "      <td>1.020483</td>\n",
       "      <td>0.503561</td>\n",
       "      <td>1.250012</td>\n",
       "      <td>0.811591</td>\n",
       "      <td>0.935526</td>\n",
       "      <td>0.591536</td>\n",
       "      <td>&amp;</td>\n",
       "      <td>0.766471</td>\n",
       "      <td>[0.006525553, 0.01001169, 0.1284806, 0.0277639...</td>\n",
       "    </tr>\n",
       "    <tr>\n",
       "      <th>1</th>\n",
       "      <td>0.793946</td>\n",
       "      <td>0.019759</td>\n",
       "      <td>0.414293</td>\n",
       "      <td>0.458114</td>\n",
       "      <td>0.995455</td>\n",
       "      <td>0.787040</td>\n",
       "      <td>1.279365</td>\n",
       "      <td>0.025928</td>\n",
       "      <td>0.771578</td>\n",
       "      <td>0.579290</td>\n",
       "      <td>0.119644</td>\n",
       "      <td>0.754042</td>\n",
       "      <td>0.600746</td>\n",
       "      <td>1.467994</td>\n",
       "      <td>0.869459</td>\n",
       "      <td>0.706246</td>\n",
       "      <td>0.641149</td>\n",
       "      <td>&amp;</td>\n",
       "      <td>0.765260</td>\n",
       "      <td>[0.0012514566, -0.00038389416, -0.001600003, -...</td>\n",
       "    </tr>\n",
       "    <tr>\n",
       "      <th>2</th>\n",
       "      <td>0.696698</td>\n",
       "      <td>0.196412</td>\n",
       "      <td>0.338644</td>\n",
       "      <td>0.345511</td>\n",
       "      <td>0.918705</td>\n",
       "      <td>1.266298</td>\n",
       "      <td>1.491339</td>\n",
       "      <td>0.055294</td>\n",
       "      <td>0.521751</td>\n",
       "      <td>0.360764</td>\n",
       "      <td>0.286188</td>\n",
       "      <td>0.680752</td>\n",
       "      <td>0.398347</td>\n",
       "      <td>1.177321</td>\n",
       "      <td>0.941843</td>\n",
       "      <td>0.588952</td>\n",
       "      <td>0.510309</td>\n",
       "      <td>&amp;</td>\n",
       "      <td>0.744372</td>\n",
       "      <td>[0.0, 0.0, 0.0, 0.0, 0.0, 0.0, 0.0, 0.0, 0.0, ...</td>\n",
       "    </tr>\n",
       "    <tr>\n",
       "      <th>4</th>\n",
       "      <td>0.587403</td>\n",
       "      <td>0.016597</td>\n",
       "      <td>0.316835</td>\n",
       "      <td>0.601370</td>\n",
       "      <td>1.034259</td>\n",
       "      <td>0.984241</td>\n",
       "      <td>1.260394</td>\n",
       "      <td>0.061953</td>\n",
       "      <td>0.539019</td>\n",
       "      <td>0.318522</td>\n",
       "      <td>0.045738</td>\n",
       "      <td>0.611658</td>\n",
       "      <td>0.614369</td>\n",
       "      <td>1.439379</td>\n",
       "      <td>0.726755</td>\n",
       "      <td>0.656136</td>\n",
       "      <td>0.627074</td>\n",
       "      <td>&amp;</td>\n",
       "      <td>0.727914</td>\n",
       "      <td>[0.005676958, 0.015730796, 0.011855525, -0.002...</td>\n",
       "    </tr>\n",
       "    <tr>\n",
       "      <th>6</th>\n",
       "      <td>0.407856</td>\n",
       "      <td>0.185749</td>\n",
       "      <td>0.300075</td>\n",
       "      <td>0.458909</td>\n",
       "      <td>0.898188</td>\n",
       "      <td>1.172327</td>\n",
       "      <td>1.346107</td>\n",
       "      <td>0.063154</td>\n",
       "      <td>0.608451</td>\n",
       "      <td>0.369349</td>\n",
       "      <td>0.197767</td>\n",
       "      <td>0.722983</td>\n",
       "      <td>0.400103</td>\n",
       "      <td>1.244811</td>\n",
       "      <td>0.922416</td>\n",
       "      <td>0.710490</td>\n",
       "      <td>0.425595</td>\n",
       "      <td>&amp;</td>\n",
       "      <td>0.720026</td>\n",
       "      <td>[0.0, 0.0, 0.0, 0.0, 0.0, 0.0, 0.0, 0.0, 0.0, ...</td>\n",
       "    </tr>\n",
       "  </tbody>\n",
       "</table>\n",
       "</div>"
      ],
      "text/plain": [
       "         HX        HY        JA        LP        LD        VS        VO  \\\n",
       "0  0.664692  0.441207  0.322623  0.482189  0.810838  1.281890  1.119328   \n",
       "1  0.793946  0.019759  0.414293  0.458114  0.995455  0.787040  1.279365   \n",
       "2  0.696698  0.196412  0.338644  0.345511  0.918705  1.266298  1.491339   \n",
       "4  0.587403  0.016597  0.316835  0.601370  1.034259  0.984241  1.260394   \n",
       "6  0.407856  0.185749  0.300075  0.458909  0.898188  1.172327  1.346107   \n",
       "\n",
       "        TCX       TCY       TTX       TTY       TBX       TBY       TS1  \\\n",
       "0  0.153846  0.783302  0.249519  0.140264  1.020483  0.503561  1.250012   \n",
       "1  0.025928  0.771578  0.579290  0.119644  0.754042  0.600746  1.467994   \n",
       "2  0.055294  0.521751  0.360764  0.286188  0.680752  0.398347  1.177321   \n",
       "4  0.061953  0.539019  0.318522  0.045738  0.611658  0.614369  1.439379   \n",
       "6  0.063154  0.608451  0.369349  0.197767  0.722983  0.400103  1.244811   \n",
       "\n",
       "        TS2       TS3       TS4 phonetic  mean_err  \\\n",
       "0  0.811591  0.935526  0.591536        &  0.766471   \n",
       "1  0.869459  0.706246  0.641149        &  0.765260   \n",
       "2  0.941843  0.588952  0.510309        &  0.744372   \n",
       "4  0.726755  0.656136  0.627074        &  0.727914   \n",
       "6  0.922416  0.710490  0.425595        &  0.720026   \n",
       "\n",
       "                                               audio  \n",
       "0  [0.006525553, 0.01001169, 0.1284806, 0.0277639...  \n",
       "1  [0.0012514566, -0.00038389416, -0.001600003, -...  \n",
       "2  [0.0, 0.0, 0.0, 0.0, 0.0, 0.0, 0.0, 0.0, 0.0, ...  \n",
       "4  [0.005676958, 0.015730796, 0.011855525, -0.002...  \n",
       "6  [0.0, 0.0, 0.0, 0.0, 0.0, 0.0, 0.0, 0.0, 0.0, ...  "
      ]
     },
     "execution_count": 215,
     "metadata": {},
     "output_type": "execute_result"
    }
   ],
   "source": [
    "df_se_sort[df_se_sort['phonetic'] == '&'].head(n=5)"
   ]
  },
  {
   "cell_type": "code",
   "execution_count": 216,
   "metadata": {},
   "outputs": [
    {
     "data": {
      "text/html": [
       "\n",
       "                <audio  controls=\"controls\" >\n",
       "                    <source src=\"data:audio/wav;base64,UklGRihIAABXQVZFZm10IBAAAAABAAEAgD4AAAB9AAACABAAZGF0YQRIAACABvkJ/3+oG5LZvR3l6i8ORPYdBpr8agH3/xf/nAHy/VoCev2GAov9SwLm/eEBa/5QAfb+yQBv/10Ay/8LAAsA3v8zAMX/RAC+/z4Axv8yANP/JQDk/xkA7P8PAPT/CAD6/wQA/v8BAAAAAAAAAAAAAAAAAAAAAAAAAAAAAAAAAAAAAAAAAAAAAAAAAAAAAAAAAAAAAAAAAAAAAAAAAAAAAAAAAAAAAAAAAAAAAAAAAAAAAAAAAAAAAAAAAAAAAAAAAAAAAAAAAAAAAAAAAAAAAAAAAAAAAAAAAAAAAAAAAAAAAAAAAAAAAAAAAAAAAAAAAAAAAAAAAAAAAAAAAAAAAAAAAAAAAAAAAAAAAAAAAAAAAAAAAAAAAAAAAAAAAAAAAAAAAAAAAAAAAAAAAAAAAAAAAAAAAAAAAAAAAAAAAAAAAAAAAAAAAAAAAAAAAAAAAAAAAAAAAAAAAAAAAAAAAAAAAAAAAAAAAAAAAAAAAAAAAAAAAAAAAAAAAAAAAAAAAAAAAAAAAAAAAAAAAAAAAAAAAAAAAAAAAAAAAAAAAAAAAAAAAAAAAAAAAAAAAAAAAAAAAAAAAAAAAAAAAAAAAAAAAAAAAAAAAAAAAAAAAAAAAAAAAAAAAAAAAAAAAAAAAAAAAAAAAAAAAAAAAAAAAAAAAAAAAAAAAAAAAAAAAAAAAAAAAAAAAAAAAAAAAAAAAAAAAAAAAAAAAAAAAAAAAAAAAAAAAAAAAAAAAAAAAAAAAAAAAAAAAAAAAAAAAAAAAAAAAAAAAAAAAAAAAAAAAAAAAAAAAAAAAAAAAAAAAAAAAAAAAAAAAAAAAAAAAAAAAAAAAAAAAAAAAAAAAAAAAAAAAAAAAAAAAAAAAAAAAAAAAAAAAAAAAAAAAAAAAAAAAAAAAAAAAAAABgAIAAcABwAHAAcABwAIAAcACAAHAAgABgAOAA0ABgAIAAcABwAJABAADwAPAA8ADwAPABQAEQAOABYAFwAXABYAGgAfAB4AHwAeAB8AHgAfAB4AHwAmACcAJQAqAC8ALgAuAC8ALgAvAC0AMgA2ADcAPwA9AD4APgA+AD0AQwBHAEQATABNAFIAVgBVAFUAVQBVAFUAVQBaAF8AZwB0AHsAgQB/AHsAggCEAIQAhACFAJEAkwCWAJ0AmgCdAJQAlACPAIwAlACYAKYAqwCsALIAswCyALQArACtALIAugDCAMcA0QDWANQA0QDOAMMAwgDCAMgAzgDSANoA2QDbANYA0QDLAMoAyQDMANIA2ADlAOkA6gDlAOAA2gDaANkA3QDiAOMA6QDvAO8A5wDkAN0A2QDaANkA2wDgAOcA6QDpAOgA4wDcANkA2QDaAN8A5gDoAO0A7ADpAOYA4QDaANoA2QDcAOIA4gDqAOgA4wDcANoA1wDSANEA1gDZANwA4QDiAN4A2gDYANIA0QDNANIA0gDaANkA2gDWANEA0ADJAMsAyQDKAMoAygDKANMAzQDKAMcAwQDDAMIAwgDEAMsAygDKAMoAygDKAMQAwgDCAMMAywDJAM0AzgDIAMEAtACyALMAswCyALYAvADCAMMAwgDCAMIAwgDCAMMAzQDXANwA4QDoAOcA4QDbANkA2gDZAN0A4wDoAOoA7gDpAOkA6ADgAOIA4ADmAPIA+QD+AAEBAAEAAfgA+QD4APkA/gAEAQgBCQERAQsBBgEBAfoA+AD5APkA+AD+AAEBAAH7APUA8QDqAOkA4wDiAOsA6ADqAOgA4wDeANMAxwCxAKQAlwCYAJsAkwCOAIsAiQB7AHMAZgBfAFkAVQBVAFUAWwBWAFUATgA9AC4AHQASAA0ABwAHAAAAAAAAAPb/7P/g/87/xP/A/7n/wv/B/8j/yf/C/73/sP+r/6T/o/+j/6v/s/+4/7v/uv+0/7L/rv+q/6v/sf+9/8f/0f/e/+H/5P/p//D/+P/9/wcAFQArADkATgBdAGYAcgB8AIgAjQCTAKgAwgDWAO0AAQEXAS0BOQFHAV4BcgGJAZ0BtgHYAfUBDwIlAjoCSwJZAmICdAKKAp8CtQLKAuAC9AL/AgMDDAMXAyIDLQM3A0sDXQNmA3MDdwNwA28DcANvA3ADbwNwA24DagNgA1EDRQMvAxoDBAPwAtkCyAK2ApoCfwJeAjMCDgLmAbsBjwFlATkBCgHVAJsAZQAkAOX/mv9Q//r+n/4z/or9b/z2+qT5qfjk9xf3Y/YF9s71dPX+9In0B/Ro8+HylvKY8qbym/KR8nXyUfIY8sDxUvEB8efwBfFN8cHxX/IV89zzufTe9Uf3y/hr+iL83/1l/2IA2wDqAN4ATgFvApEDvwPxAh8CfwF/AAj/nP15/Fv7ifqR+lf7Dfww/PP73PtM/Dr9ZP6O/84AYAI4BCoGMQi1CgQOBRJ4FggbAh9tIRUiiyFgIIweERycGccXfhZUFQgUiBLXEBkPtw0fDXQNiA4lEBkSJxQMFlwXzBeLFx0X4BbSFskW1RboFqAWxBV8FNMSmBCLDfoJ/AblBHAD3wFiAIL/1/78/ab8Q/sj+k/5svhb+Fj4OPid95D2JPWW89Hxuu+y7Qfsq+pZ6dPn++Uc5O/hct/q3JHaeth61qjUDdOB0bnPec3OygfIOMWywpXBtMSR0I/nbQImE68WiheOHLYfHhyaGAMaiRs9GnwbfCDFIGMVFAGP7DLe9tbR097RfdGs1BzbnuGl5aPnW+ir57XnKe8+AToWMyR7Kxcy7Te+ODc0sy2rJlMfDho0GSIbFBujFEYHa/dU6qzhXdve1SvTSdaV3hPoPfC69kr6kPnp98D7QQY+EuUbtCSALrQ33jzbO/g0eyoUIIAY5BMcEeIOyQslBwECof0z+Xzzfe627lz1vf5OB8kOYRXrGXEb0BqIGS0YjxcyGS8dLyF6IkQg5hsdF3oSqg0NCUgGEwetCmUOWRBpEIcOiArLBVwCEQHIAHIBJgRDCPsKkAr2B64EXAEe/nv7Gvrk+Ur6qvos+lH4zPQD8Pbqv+Yh5ATjfeLw4avheOEc4CTdRdl61RjSB88Kze/L+8p6yRLHjsMYv4u6mriJv17VHPaxDhAVOhUHHPAiCh/0F3kXUBnhFt0W3B5PJWUe2Qlu8Z7eStRBz0XLisiCyinSn9sh4ovlDue95RLio+Sh9XQOxiC9KRoy/TucQGg9WjYNLpAkjBwDGvscRCBXHWoRGgCV8CbmOd761YTP1c8B2GLjwO2s9sn8v/yw+CP5jAKfDwIa0CKtLdg50ULUROY+LjM5JuAbNhVaESgP4gy4CHUDIv8B+170ZOxE6YnumfhZAuUKFhOkGYscFBw/GusX2RU4Fi8aqh/sIvUh1R3RGOsTkw6cCOcDbwNLByoMQw8mEAQPYgsjBrwBsP8E/0f/4wH1BmkLNAzYCW8G+AJr/yv8Mvq5+Tr6JPtG+/759PY28pDsfOdO5N7iMOKM4XLhwOEW4WfeXNph1qXSG8+BzDnLbcoiyf3GycOJv9e6u7iHv8LV9PYXD+cUIRWyHAck5B/FGFcY3xmZFl8WeB7aJLEdxwhd8L3ds9ORziLK/sbPyIrQCdrB4J7kbOZQ5aDhXOTM9csOpCA2KdQxDTzvQOM9Aze9Lv0kqhz3GdUcDSDhHKgQUv8r8BTmPt7h1SXPbM+c1/ribO2a9gf9Jf0y+QT64gPxEBUb7SMPL4M7nER1Rj5ANjQJJ3scexVJEd8OdgxECCsDFf8B+zb0HOwk6cTu8/ifAjYLnBNJGh8dihykGisY5BU7Fj0asR/IIq8hhx2GGJwTKg4HCEMD5gLvBtULug5kD+QNIgr4BMwA2f4g/qH+mQHgBisLxgtMCdcFVgK6/ob7oflB+a35fvrI+lb55vXv8GrrdeZM4/nhQuG14JDgwOAP4EPdKdkM1UDRx80qy8bJAMmUxx/FxcGTveC5eLvayWDn8QWLEyMUJBjjIZYjcRzWGIgaBBmZFRManyJeIj4TUvtM5ZXX+NB+zAbIt8agy+fUIN074lnlDuZH47bhOOxyA7sZkiUULRs3TT/zP6g6LzMXKn0gwRovG7Ie9B7VFv8GHvYJ6uDh9tnO0SfO2NI83Sjo7/E2+rL9DfvU+OP+jQtbF2UgeirtNkBCrEfsRO46iS1fIZ4YAhOvD2sNHAouBYoA0/x092rvcelj61z0r/6gBy4QDhjMHHwd3huOGfkW0BU0GGId1yGbIokfqhq2FYwQjwrEBDoCnwSdCYYN+w5ADlMLjAa3Adb+o/2H/XH/FgQ9CZkLWQr5BlYDv/9W/NL5qvjk+Mv5Wfql+Qb3hPLh7HnnfuN24bzgLeDD38/fjt+j3eHZf9V30enN8srxyNjHp8aQxFPBhb1oum28D8uu6LAGZROXE+YXFCLRI+4c5RnAG7wZ/RVjGqAimyHSERH6o+Rr1xDRysxEyLLGTctB1FrcZOGV5KrlS+Mw4lDtwQSVGskl/Cz5NhE/lj+COoEzlSr1IE0bsxvSHm0eyRXNBRz1Vemb4ffZ8tFlzg3TRN3s53nxsfk4/bf6A/m1/7UMcxhSIUsrlzeNQqJHt0S7OnItdiHmGE8Tzw8/DaQJkAT1/0z8GfdJ75/p8esV9Un/CghlECcY2Rx3He4bxBlFFzwWrRi6HekhXCIfH04adRVWEGwKxwRnAtYEuwlyDaYOjg2RCvMFUQGT/nH9kf2a/zwEPQlSC8wJbwbdAl7/Hfyw+ZX4r/h2+f35Dvk69s3xO+zf5hTjHuE74IzfJ99A39PextwM2bDUjdDszP3JAMjGxnrFUcMHwFC8QbqWv2vTjPMNDeQTlhPjGhUkMCKFG98aeRy1GJAWNh3eI+IdJAoo8lzf9dTYz2vLR8c2x2XNmNam3Qbi5eQe5TziHeQr9PsMfR/xJ6wvAjoWQHQ+rDhNMeEn4B4LG94cah9xHN8Qz/9p8HDmUd9m1xXQ2c7J1Ybgqurh8z37xfyb+UL67wNpEfUb2yT7L4c85EVQSMJCEDeTKXke7BbsEbMO+gvUB6cCav6j+oD0p+xP6YXuw/iFAvgKZRN9GsYdWR13GxYZvhatFkMach+CIowhhh2dGLYTUg4+CFQDmgJZBisL3g3xDRYMlAjRA8f/qP0b/fH9+gDyBRkK6wpwCNcEaAEp/in7DvlX+Lj4UvlQ+cX3P/RP79Hp/uTE4Vbght+83nredN6O3c3ax9aF0o3OL8uAyKzGTcWpw+HAVb1jujm8FsoT59gFZRM3E6QWPCFDJLgdmRrtHHAb8BZeGqMiPyKqEqT6BOWN10PROc3OyK/GYMrs0uja8t9B48zk7eKv4UjsxwNqGuIliiwjNpA+pT/kOlE02ytMIkIcTBxHH+seVRYnBhr1EemI4VnaadJyzofSZ9zj5kbwkviF/Gf6mvgq/5UM/RhAImMsyzjLQ9hI6kXzO4guOCKBGdMTIhBvDcAJhQST/7z7rPYW723prOsB9YL/WwimEF4YJR3FHRkc5hmNF4QW1hjsHSAiiSIyHzsaRhUiEE8KvwRQArUEogksDcsNSwxXCQUFmQC5/cb8Wf2q/xQEygj0ClwJxgUyAvX+3vt0+Uz4Qfjc+CP5Jvgh9XDwDOv55SniDuA134ve4d2i3SPdGdtd1/zS185Ay0vILcacxOjCacAZvTu6BbzKyfTmFAazExQTQRYUIXEk4h3NGpUdTxxyF4Ia1iKQItgSjPq45F3XP9FIzbnIe8YRymfSUdpE36XiZeSl4k3h2eu3A60aFCZrLPk1mT6yPwE7kzRjLNsinRyEHIQfOh98Fi4G5PTR6GvhVNpn0kjOTtIq3Irmxe8q+Fv8OvpV+Ab/wgyAGeIiHC2jOZlEd0llRlk8zC5eIpQZ5BM7EIMNzgl5BE7/Zftv9tnuOOmd6yj12f+qCPUQuBhsHeEdIhz0GZcXkhbxGBceTiKmIjgfKBoYFfAPGgqMBCUCoASjCRUNbg2xC7MIVwTb//D8Jvzs/FX/0AOJCJQK5Qg3BZEBYP5U++n4ufe591P4p/h191X0oe8b6ufkA+EQ3yject3O3Hnc19uv2d/VQNEMzWnJVcb1wznCgMDgvQC7dLqDwufZOPtQEQ4UDRO3G4gkQyGfGz4dIh9nGq4Y1B+wJP4aOgTU6+Ta0NL8zunKIce/xy7OdNZK3CDg4uIF473gbuUy+ScTmiMeKocxWzvuPx09WTeAMJInZx+tHPoerSBRG/4MsvoK7GHjEN2s1WTPx8+81zHij+sv9KX6DPv/99j6HgfeFfUgviqxNsJC/kmGSZNBrjQcJ58c6RWvEcgOlguGBqgA/Puv9zTxUup66S/xgPxJBowOgBaAHEge3hy9GoMY0hbdF1scaiFJI9Qg0BtsFkURzQsZBlcCIwOlB8kLqAzzCkcIqQQwAGn8MvsR/CT+ugFgBpcJFgmvBb0BnP7J+xz5U/fg9k33nPfB9iD0x+946hfln+Dw3czcOtxm25ra+9lz2P3UTtDYyxPIw8S5wYW/kr1du7257LylzKzruwosFlwTqhV1IM0jrR3UG9cfCh8uGtUcLCRWIp4Qf/ZF4DTU5c8LzfTI98aJykvSGdkl3S3gCOK44JTgLe36BokeEik6LtA2hz7sPuc5uDM1LJQjFB5hHjQh6h93FVADJvFk5ezetNig0XPORtNh3U3n2O989/D6mfhf95L/Ng+qHX4ojTPbP2hJEUy5Rhg75iykIGQYfBONEP8NywlhAzD9iPhM81vsRuiZ7LP3KwMeDPYTwxo1HpwdUxsqGV8XMxdkGtofpyPvIkgeShi0EnwNEQhaAwUCQAXqCdkLiQr8B/wE2QBU/Bn61frt/Mb/2QPzBxwJZwYzAsn+AfxH+Sz3LvY69pL29vXR8w7wEeux5bngFt1W273a8dnp2AjYx9YN1KnPx8qNxvTCmb+ovGe6Abm/uZ3CytqY/Q0VZhcwFK4aKyONIHkb4x1HIdYdOBxyIi4m1BsJBLjpMtc9zyDNycqyx0zIa84g1tfagN2t3yrgi97A44j4TBSdJl8tdDPOO50/bDx1NsovpSeNIH8e2SBrIs8clQ2K+RXp2t9U2hvUqc6tzxzY5uLx67nzefmb+Vv2MvlrBlcXEyV2MHw8eEc1TSxLskGJM34lVRtIFeQR0A8CDWEH/P+8+dj0we666Ovo2vFy/iIJdhGwGJcdSB4qHM8Z6BfkFqAYix3RIo8kZCE9G7sUDQ/cCd4E2AERA4UH5AqsCl4IfwXeAQz9hPlb+V37//1yAdQFkQhwB1oDVP9U/JX5Ivej9VD1k/Vf9drzlPAD7MnmfeH33CbaQNnD2KjXcNZq1WHTj890yszFzMH+vWy64bcct3+6nchA5o8IWxmrF2cWjx4FI7EdEBt2HzEhgR07H3gm8SW1FR/78eFC0l3M9MrhyFrHHcpo0VbYv9ue3eDeDt5r3djnMQH/G4cqezDJN9U+Wz9KOu0ztix+JDgfkx/JIqQiohmuB1/zheRz3LjWpNBZzYfR1Nt75hDvSvYL+tj3UfXA+4wLrxyHKhE3dkOyTCRPoklrPQwumiDvF2ITHRF3DyAMkwXH/WT3xfE46+/mrOou9icDag2BFfkb/B7RHecakRj9FvcWMxr3H5AkmSTnH/MYIBJBDBcH0gJoASIEaQhSCioJnwZ2A+/+PPo2+Gz57fu3/qsCyQYmCIYFKwF6/Yz6tfeN9bb0tvSv9NzzmvHS7ePoduNS3iLaEdhx17bWltV81ArTONCNy2rG4sHAvZO5QrY+tVK5kchb5z4K8hoJGa0XpB8pI+wcRBpaH3QhEh6JIFAogCf+FXP65eAJ0fHKcsnGx/zGaMoL0vTY/Ns/3QDertz02xnnZAHHHG0rrTFTOTpA5z8AOk4z/yvZI+Ie8h/II6ojJRqeB9/ypeMt2zHVH89XzEnRLtwW56LvtfYN+k/3gfRB+6kLXh2rK8o4nUWaTkVQ70kOPUMtqh8oF/4SKRHKD2QMuwW2/fv2+vA16i3mh+qj9gAEdg6TFuEcgh/VHakaPhjAFv0Wfhp+ICAl9ST4H8QYsRGhC2AGPwIrASEEaAgpCtEIMAbgAhv+V/mT9xb5qvuP/rACyAbpBxgFoADq/M35+PYC9T30PvQz9FDz1/Dw7PbneOI83S/ZKNd21svVrNR/0+LR3s4YytDEIsDiu6i3oLTdtMK8yNJK9kEULRwpGNga/yJmIZQafhsNIVwgPB4/JK0qbCP8C2Lv99g7zW7J/MdvxmvHGM061bTav9yS3VndHNul3Zjv6wxtJI4u6DRcPedBcT51N4gwjyjtIGYehyEFJbohCBRn/wTsa98n2OnRcMyhzNLUpuDd6vPyAPmt+Wz1YfW9AAsT9SP4MYk/jkvBUbFP9kXjNvQm/RpvFKwRlBDiDjgKnQK/+kv0yO1g52Tmr+6C/DsJuxI4GjAfqh+qHHEZSBdPFuIX4BwAIwEmoCM9HasVyw74CAoE/wC1AZgFCwl3CXwHoASSAH/7y/ec9+n5lPzy/1oEnwcPByUDw/5H+zn4kfUi9Obz+fOS8/vx4e506jHlkd+u2nHXE9aS1arUedMX0hbQP8wDx8rBT73euOe0ULPMt6DIDuk7DGAcLRodGQwhjyN0HMYZRB+dIXYeuCEVKuMoHRZG+XTf5s/Eyd7HWcZMxoPKftJZ2VPcP91i3X3bytrF5hMC0x1OLMUy+DrcQeJAHTrxMnkrLCNkHhAggyR6JGoaMQc18ufiDdqX02XNDcvU0F3cj+dS8Gr3T/rr9u/zGvs8DH8eYy07O3JIPlEFUn5KuDxKLFYe3hUkEtoQxA9jDIoFW/1j9gbwB+lV5XvqXvcpBdMPEBgzHkggBB51GtgXWRbTFsoaHyG8JUsl8h9kGBYR1QqABYYB0gAMBCgIzwmDCNgFPgI8/aX4Lvf3+K37t/7pAvYG6AfRBDEAcPxP+XL2b/TU8wv04/Ox8jjwTuwT54vhOtxJ2GHWwNUC1dzTutIU0c7N4ciew9S+VroWtmKz3bQowAnbLwAhGfkbURjBHT4khB+qGeMcsiF4H3UfVSd2K00fwgRP6FzUJMtiyNTGxsU4yEDPLteK2/ncW91d3A/a7N909mkUeyiaMK03BUBYQhA9tjWCLj0mkx/pHg4jnSWvH1oP3vm/58bc9dWAzwPLfs2W153jPu3x9Ov5p/gt9Mz2CAUaGHcogDY9RCtPHFOCTpJCZTLoIkwYCBMgEVgQJA59CFIApvhK8njrzeVa5w7ydACKDHIVbxw6IEkfthuXGLQWVRbyGMMemCQ9JmYiNhuME9gMOQesAokAcgKrBnYJEQm1BoYD7P7a+Sz3FPik+m79IwGDBeEHHgazAYz9RPo99+L01fPJ87/z/vLl8GvttOhB48jdM9mL1pnV9NTD03/SIdGFzhLKysTcv1W7xbZJs2ezF7zG0674JhbaHN4YcBxQJHghRBqtG0MhHyCKHrMlGCyyIwcL4O2a1znMb8jAxkDFx8Y1zZvV7drQ3HXdu9wR2g/ddfCODn0lPy8fNu0+B0P1PpU3TTACKHIgZx4PIq4l8yF8E1P+++qc3iLXi9ATy9zLz9T/4FbriPNz+YH55fRB9WsBYBSRJd4zwkHATW9TcFC8Rfg1xSXlGaUTSBF0EMYO2Qn7ARD6j/PY7H/mI+ZO76P9bArpE0wb7B/rH5EcLhkKF0EWIRhuHaIjZSaLI8AcBBUgDkoIagOXAKUBrAXoCBcJ+Ab0A7H/hvop92T34Pmg/A4AegR1B4IGZAID/pX6qvcW9Zrzb/Nn877y8vDU7T7pz+NO3nDZP9b+1HjUWdPt0YjQTs4oysPEjb/VujG2j7Kusl684dW6++oXRB1cGcQdMiUXIc8ZxRtgIeQf/R7aJvssSiNYCbjr8dU0y5DHrcVoxL7G581g1kvbB91s3TTcI9kR3fLxjhDQJh4wVDdOQNJD8D4ZN5IvGyfCH0QeaSIpJtUhjBLk/MPpst0h1jnP9Mmiy1zV2+Eu7HH0FPpt+XP0ZPWNAvEVLiekNbJDiE+MVJlQ5kSJNE4ksBjTEtcQaxCyDnAJYQF4+evy9uu15S/mPPDn/q8LFRVhHJcgAiBSHN4YvBYSFk4Y+x08JKImTCMsHEkUWw2LB7YCGQBkAVsFeAiUCHEGRwO3/qr5p/Yx97H5fPwVAHUENQfyBb4BV/3P+bn2JfTS8rTytfL78QjwyOwG6HniwNzU1/zUztMm0wjSn9Aez4zMLciUwjC9Fbh+s9uw5LTUxnPpCA77HbUbYxulIwollRx1GckeECF/HvEiPCw3K8AXmfl63mTOK8jFxbbDJMSpyaLSx9m13ILd+tz02ZzYLOWqARQe7SwNNAg9Q0TmQlY7KzPZKlIixR3zHy4ltiWOG6YH/vFj4hbZztHnyrTITs++27XnAPFU+N/6xPZX89n66QxlIE0wqj4pTNhUy1TQS3U8EivCHDcU4BBkEN0PXgwmBbT8mvXr7sDnceR46k744QbrEQcayx9JIVceOxpgF/sVyBYSG7shgyasJZsfhRf6D7AJXAR6AMX/pAKCBiEI8AYnBA8ADPvl9gL29/e6+t399gHdBYYGSgOa/qP6Tvdv9HLy1/HV8Vbx9O9G7TPp6+MW3ozYkdSf0uDR7tB3z/bN+ctIyN/CM727t9ay/q+ctIjIZe1cEQIfOhxuHRYmyCVvHLQZ4R4XIAMe+iNrLQ0rARYe91rc+Mwfx2vE8cHawprJjtOx2n3dKt4x3VvZSdi15m4ECiDBLTs18T7uRbtDhjurMp4p6yDuHMYfRSV2JU4aqgVD8EvhHNhC0APJdsdCz4PcvuhF8pL5dfud9pfzUvwtD4wiLjKyQEVOg1Z3VUdL4DofKQIb3BLuD8sPaA+tCzEE5/sK9SruzeYT5E/r1vliCDoTRxvUIMAhSh75GRwXvRXTFpEbdSLkJlwl2R6gFjIP+QiJA6v/NP9SAj4GzQeFBo8DYP9p+or2APb396P62P0aAtMFIQa9AgH+CPql9r3zzPEa8QbxofAq713sKOi/4tzcVNd707PR3NCzz0zOxcyfysnGR8Fcu8y1M7EfsJi5BtVN/QoaBh/eG6QhmyjYIloaXRvuH2ce8x5BKPUuNyWcCrnr1tS1yavFxsLowALED8361nXcTN503j3cw9dc2xbxdRDNJpIwCzkVQ99GfUF9OFkvtiUOHt8cqyExJnoiEBP5/KPpXd0A1bvMtMa4yKbTYuG+7Nj1rvt8+r70pvVaA4wXfylxOPVGEFP0V/xSkkWsM5sinRa3ED0Pfg8vDt8IswAJ+YHyKuu65K3lqvArAG4NBhdLHi8iBiG9HMgYUxatFSAYNx7EJAwnOSOGG2UTeQybBnsBof6g/40D4gY6BzQFsAER/VH4u/Vg9rL4j/tC/5sDLwbUBJgA/ftE+Bj1evIH8ZrwcfCt77LtWeqd5dzf0NnU1NjRi9C8z3DO7swty2fItcPrvd63j7KTrwG0YshK7nESoB/uHPce1Se7JvwcDBqeHhofZh1YJBwuVivbFe/2/dtozF/GfMO5wIrB0sic00vbPN7a3p7dQtkA2N/m6ARAIMotzzUUQBVHvkRfPPkyDynnHyMcVx/7JCElChpvBQrwF+HH14fPx8c4xnPONtzm6OnyePoW/PH2BfQp/UYQtiOjM2JC6E/sV4RWoktoOhwo0xnIEf0OEw/kDjILtAOE+7/01O1m5vnjsOub+lEJNRRUHKghNSKHHhYa9RZ9FbQWrRuxIgInTSWFHh0Wow53CAADFv+r/uEB6gV3By0GGwO1/r35FPas9bn3gPrc/RQCsQXQBUgCdf1q+SX2O/Nb8aTwhfAB8HDuketS59fh1Ntn1p/SwtD1z8fOTM2yy3TJhcXxv+a5PbQUsP6wDr8B4BoIAR5EHgEdTiXrKDwg2xkUHcQfSx32IJErji71HrgBEeRR0K3Hc8R5wXHAh8Xozz7Zg93H3nHeAdsc14vf/vlzGHgq6DKAPMBFrEahP1Y2oyy8IpEcoR01IyUmKR8RDcD2S+Wn2mPS/smOxYLKR9fQ5JnvTPh//Bv5/POM+EQJfx1fLiw9gksTVh1YTFDMQDouKB71E4wP5g4rD+oMfwYk/v32ePDh6Nnj7ucv9awE1hCxGT0grCIiIJsbARjnFfgVmxlWIBYmiyYrIQAZGRGaCv0EMQBF/k0AeAQpB8UGNARaAKP7Q/ej9e/2ffmI/HYAoQQ5BtQDL//I+kD3K/Tg8bDwbfAr8AHvr+zj6Mfj690j2KDTMdEy0DvP0M0gzEDKDcfmwfC7E7Y5sa2vULgG03T7ZhlcH10c6yFUKfsjDRtkG60fFh5xHugnNC83JkMMS+2w1dPJe8V+wkbA9sLty2XWb9yM3sveptz718jarO8GDwMmNDDMOBlDd0eUQqI5KzAUJv4djxw4Id8ltiLyEwb+YOrE3VfV6cxCxrDHddJl4BbskfXK+/f6PvWe9dgC3BbbKOM3dUbmUlBY3FOyRqU0OSPmFq8Q5w4eDw8O/gjuAEr55vKd6+bkYuX+74T//gy3FioeWCJwIS4dHRmFFqgV7hfjHYokDidxI+AbwhPPDO4GuQGk/lz/MAO0BjsHTAXcAWv9mvjU9Vv2o/hp+xD/dwMsBhMF4wA4/Hn4SvWc8vvwgfBg8Invs+2D6tflGuAg2gbVyNFw0JnPTs7dzDTLlcj6ww2++7ehslCvH7PUxmfsUBGVHyEd0R65J0EnZx3rGXQeSB9gHegjFy4oLEwXTfjV3MfMaMZqw4/ALcFCyAzT+toT3tbetd1O2ZHXquWJA2Ifay1yNco/QEdARfw8kTOsKVYgJhweH9UkfCXqGn0G5fCf4R3Yvc/Sx9XFss1x20rodfJD+kH8MPfg83b8ag8hIy0z7UGiTwtYBldvTFU73yhNGu4R9A4GD+wOZwsCBMH79fQe7qXm0OMY6/P50wjZEwgcjyFhIs0eThojF5cVlRZdG2Qi8SZ5JdkedRbvDrwIRAMv/4H+mQGgBVAHGwYgA97+7/kr9pn1ivc9+oD9vwF5BdQFdQKp/ZD5MvZC8znxW/A78MbvQu6Z63nn8OHG2zvWXNJk0IbPbs7wzETLGck6xZq/Zrm7s6ivELFuwODijgqFHgoesh12Jvwozh8cGoYdnx8cHbQhaCw8LlodlP9S4lvPTsfww9XAHMC4xV3Qedmb3eTeUN6K2gnX0uAz/BwaISuIM4U9c0a+Rms/DzYcLCMiXxzfHY4jCSY1HnsLUPVv5ADapNE5yTXF1crn12jlOvDf+JP8ufgK9LL5NguXH2UwKj89TTdXalivT3Q/tCzqHCATHQ+9DvsOUwyNBTn9N/ap7yfoxuPH6Jb2HAb/EZgawiC1ItwfQBu9F9IVKhYMGuAgZSZNJmUgCBhDEPIJVQS7/xf+TQBsBNUGLwZiA1v/o/qI9kr11vZ2+Yj8ggCKBLgFDANC/uj5hvZ/80HxKPDX71zvEe6X68Tnh+Js3LnWZtL6z+/O4s1rzKLKisj5xKa/aLmMs4CvWrGnwe/kJwzZHgcecx58J0Mp1R+aGhUeTx/HHBgi9yzjLf8bDP5C4dHO2saAw0rArr+hxY7Qt9nV3Rbfbt5T2gvX6OHz/UYbiCsDNFE+D0feRmk/9TWwK48hChzwHbUjxyVTHT0KR/TC43zZ/9CEyNzE/spL2M/luPBd+bz8jPgh9Kz6lAyrICUx2D/rTZBXSVgYT6Y+0SsvHLYS8Q6hDrkO5QsDBcX89/Vg79TnxONY6Xb3wAZ1EgobGiG9IrsfLxu/F9AVMhZiGkshiCYUJvMfmhfuD6UJEQRv/9H9KABYBK4G9QUdAx3/Xvpf9lb11vZi+X/8mgCOBI4FsgL5/Zj5FvYj8+nwxO9t7wTvve0860Dn+OHO2wPWt9Fpz2TOSM3MyxnK+8c9xLq+S7iGsguvJLNkx43tGxLCH6EdOyBZKRAoIx73Gtwekx7SHE8khy7JK2QWnPeQ3H3M6sWqwpq/IsBjx5fS59pY3kHfCN5N2cXXkeaGBLgfXy3gNaZA/kfiRbM9IjSgKc0fuBvtHpwk1CTnGZkFUvBM4dLXMM/8xg/FLc0J2xror/Ku+n38WPec9Pr9ORG0JHY0D0OfULNYPVdATMw6JyiiGXgRlg6TDkIOhgocAxz7nvTj7Y7mK+Ts6+f6owmAFJIc7CGKIuMecBpSF74VyhazG6Yi5SYSJS4exxV4Dm8I8wK6/s39zwDgBJcGUAUiAgX+WPnb9Wz1Sffu+S79aAHrBCAFpwHY/MT4bfWK8nDweu8q76HuHO1T6gzmc+BR2s3U4tDwzv/N1sw0y2DJ9MbkwhW9q7ZgsUWv7Lao0CH5UhihH0Ad+CKtKp0laxwKHIQfdx3LHYIndC9mJywOYu8O1/3J7cSuwRi/ScE/ylzVONzU3jrfFd0N2APaJu5GDbkkrC/EOHtDVkj7Qzs7djGoJugdBByQIGclviLHFET/XetB3nTVwcyQxUvGstDa3iPrNvUL/JP73PX39eIC7RYvKXI4BkeHUzlZGFX2R441lyPIFkYQWw6NDpMNuQjNADD56/LN6x7lSOWh7zn/8gzrFnEeqyLdIacdhBm9Fq8VwRebHVYkCieQI+4brxO9DOgGngEs/nj+IwLPBa0GzAROAfH8UfiR9eT1C/jW+nD+xgKsBboEkwDW+/P3u/QM8lfwsO9m75nu4Oyu6ezkKd8X2fLTotAhz0TO+MxFy3LJxsY/wkq8BLbjsGqvk7hQ1Cj9Mhp/Hx4dgiNYKj4kmhsaHIofYR2EHpkogC+NJRkLV+wW1U/Jx8SowWi/VMLAy33Wu9z73hffi9yz1ynb+PA1EGUmkzCxOR5EDkjyQvM5ITCIJWEdUBwzIb8lISL/Ehv9w+lS3anU/ct2xUTHVtJ34HnsLfZE/AL7SfVe9k0EpxjBKuY5a0h+VERZE1QiRocz+CHPFeYPdg7LDoENPggkAJD4MfL46qPkzuUM8c8AOQ7gFw8fxiJxIQ8dBhlqFq8VMxhXHuckEycAIyEb8RIWDFgGNwFC/ij/CwOGBvcGzwQjAZn8/feZ9Ur2oviQ+z7/iwMWBqoEUwCr++33zfRC8sHwRfAS8C3vKe2/6fLkHd8o2UzUUdH/zy3P5c04zFnKo8fuwgq98baysUuvabXBzGz0LBbXH7kckyAIKdElMxzNGkQfoB7DHRImCC9xKa8Rb/Lc2PbKs8XPwi7Ax8H3ydTU49tx3ujeNN2G2N7Yq+q/CTEjCi9NN9RBuEckRGQ75jG+J98eJxwsIIglPCRoFwUCTu1r34DWGM69xmzG7M/33VTqLfQ9+7r7GPaR9Kn/WBMsJrA1ZkSPUYtYvFWrSeU30iVaGCMR4A4RD38ONgpqAnX64/PO7JflZ+SQ7fD8LguQFWUdOSIOIg0evBnOFpEVQxfAHK8jOyeeJGsdERXUDc8HdALz/jb/1QKjBqsHDAa+AkT+U/kd9jH2Uvg2+8L+GwNQBtEF7AEr/UX5A/ZV86rxG/H48E/wq+6W6xvnbuF721HW9dJt0afQjM8CzlfM/MnjxTTAR7q9tHOwULDRu8HZLgL6G6ce4ButIpgojSHWGSkcWCBGHvQf0Sn6LpcilgYZ6KXSvshKxXrC9cDlxG/O99e33DbeJd6V21rX8tz+9FIU3CjGMXw6J0S2RoFAaDdBLqYkth2GHawilCZXIYYQG/pw5/nb3NOqy1PGtcl41QDj8O2u9s37mPkD9G72eQWyGSMrDTqRSC9U61fNUahDizH5IMwVhhBfD50P4Q0PCL7/Lfij8R3qJeRm5mXy6AGwDvcXAR9fIpwgOBx5GC0W0RXTGEAfhSULJ5QithqvEugLGQYrAQL/3wAJBQQI1geZBf4BIP1I+P71Kfet+Z78iQD1BBwHKAW1ADT8pviT9RPz8/HL8ajxw/Cn7iTrKuZX4Ina4NVF003SmdFG0NbOLs1VyorFxr9LuvW0o7BusE+77dfn/+sabx4cGxwhmydwIZwZ3Bu/IP4esR8SKesugCP1B17podNvydjFTsPWwWPFMc5b1zfcwN3M3Yfbldd33HjzyxItKEgxezkgQyBGR0B6N8QukSVxHrYdriLCJv0hmRFK+1noltyH1JjMOMf1ySDVdOJI7e/1Pvua+Qr0wfUwBFUY7im/ODhHElNaV+RRaUS/MiAirBYkEccP7g9ODqgIXACs+BLyoep+5B/ml/H5AN4NPBdZHv0hnCBaHI8YTRbcFaEY0B4vJRon+CI7GzkTYwyJBqQBRv/uAAkFDgj1B8MFTgKK/Zr4FfYN95P5evxLALcEGAdkBe8Advz7+Of1X/MW8tTxxfHs8NbuZuuh5v/gI9s/1m/TaNKi0UvQ6s5uzb/KA8Y4wMa6dbXfsP6vibl61Ev8fRnGHjEbQyCWJ2Aizxk+G50gSB8UHwUoGS+XJc4K5Ose1drJ3cVgw83B2sRJzbbWAdyx3dXd29ut1xTbl/AkEPQmpDCtOJVCZEYCQSw4nS9xJsYeYx0yItImDiOVE2X9zelZ3SDVPc1ex0rJ7dNZ4XDsQfUk+xX6WPTp9GYCiBZkKFA35UVLUlVXuFLtRXE0diNjF3AR3Q8CEKIOVgkwAVz5tvJS68fkcuUl8If/xQxrFsId4CHuIK4czRh8FsUVHRgbHsIkNieGIwUc+xP+DAcH+AE7/2QATQSmBwQIBAaSAvb9Cvkv9tH2QfkK/K3/KATpBqwFWAHI/C35+PU/8+Xxt/GX8cfw5u6i6/LmHeEp21XWXtMX0lTRKdC/zhjNZsr5xTjAeLoataew/68zulXWmv6HGrEeWxs8IeIn5SHyGbsbkiDqHnsf3SggL2wkSgmG6hrUb8m1xQzDb8GwxIvNDdcV3Mrd8d2k22fXrdsj8qkRmCcFMV45LENzRtpADDgxL8slaR6SHYEiwyZzIoYSKPzh6NzcsdSqzPLGZ8ly1N3h4uzB9Vv71Pkw9Ir1pwPzF8YptTgzRy5TtVd3UhlFTDNuIrcWERGnD9QPVQ7QCIYAyPgx8s7qgOTM5Q/xhQCTDRQXUB4JIsYgexymGFIWvhVlGIweBSUgJyEjbhtUE2UMjwaIAfL+QQA0BGgHoweMBf8BUf2B+OL1p/YW+e/7tP8eBJgGHwXNACf8jfhr9dDyaPEq8RbxJvAr7tTqGOYx4CfaWNVt0hzRU9Adz6rN7MsYyW7Efr6KuEOzbq90scTBseTPC60ejh0MHZ4l3Ce1HpgZyh00IMwdSiLFLAwuRxzt/fPgvM48xzzEXMELwd/GMdGl2UPdRt6d3d/Z0NZ04YT9ahvvK+szpj0sRuxFST4SNaUrSCLxHKseaSSNJgcengpM9LDjlNlk0U7J7cUKzArZIuZ+8Lv4Bvzy92rzh/lrC8AfUjD7PhBN1latV7ZOrD5ZLPQcehOyD2wPjA+YDJ4FNP0b9mnv1Oeo4wrp//ZQBggShBqTIGsidh/hGo8X1BVMFl0aQiGcJlMmUiD9F0MQ4AlRBNz/ef70AAwFQgeABrIDo//R+rr2iPUT97T53fzyAPwEDwY4A3r+Ivqx9qrzefFz8Efw9u+/7j7sS+j54szcA9fC0obQmM+pzk/NmMtzydnFcsAruke0yq/jr5u8e9xTBVAd2B4mHfQkjClfIT4ayRzgH3kdhCA9K2kvRCFxBC/mSNHHxzfENsHWv17Emc5m2Cvdod5Q3gbbudbA3TD3QxaeKXgy9zuWRVVHu0B6N8UtnCPWHGsd+yJ4Jlog7g6E+GfmLtvV0lfKJ8VGya/VfeOz7r73e/yJ+RT0uvf0B4Icyi2oPA5LIVbiWJhRXkKmLxcfVhSeD+QONg8nDfIGlf5K99bwUeng4zfnF/TSA1IQVxkNINMikiD3GzwYCRbXFTEZ2h/wJc4mrCF7GXgR6QozBU4A9f2i/70DnwZ3Bu8DIgB1+xb3RfVj9ur45PvI//oD2wWuAwf/iPrz9ufzZvEQ8LnvZu9R7hPsbOhe42bdX9e80hTQ3s7dzVvMu8rByHTFXsAouhq0kK99sMa+WuChCC0elR77HbQmAioOIaUaiR2IH8YcFCEZLM4u1x5sAd3jItBGx6PDccBTv4DEOs/z2J7dAN+F3uXa7taq32v6vBh8KiAzMj2cRntHbUAON/IslSJIHHwdLyP2Jb8ekQxq9h3lX9rv0VHJssTAyavWcOSX74j4vfw8+Uz0XvmTCu4eui9+PrRMD1fNWJdQsEDJLZAdbRMlD4YOuQ5XDM8Fgv179hrwnOjT40vo1/VjBXsRSxqoIOIiPyCrGxQYAhYIFsMZlyA5JmgmvyBvGJsQNQqbBNr/wP3A//YDpAYyBncDkf/c+r72UfWl9in5LvwpADkErgU2A5P+FPqH9oDzI/Ha73jvGe/q7Z/r0eeZ4pTcytY20p7PkM6PzQPMP8pDyODEp79UuVSzTa+gscHC7ua5DS4fAx4iH1IoPymRH8gaPx7uHoQclCJ3LYQtuBqP/CbgMc6QxiXD4r96v8rF99AU2hXeR9+D3iraJtfp4o3/YhzhK3I0Dz+HR+JGMT+tNT0r+CDEGxIe0yN6JXscDQlF8ynjKdmR0PjHn8RKy9TYReY98d353/xg+FX0ofsADu8hPDLqQN5OKVhKWI5Otz3PKmAbNRKjDnEOgQ5vC28ERvyV9QTvgOff4w/qevivBycTmhuAIdginh8GG6YXzRVUFqwaoiGxJtIlcB8LF38PSQmyAyr/sf05AGkEpAbOBcgCxP4r+lr2Z/UK9575q/zOAK0EiwWCAqv9gvkK9vvyx/C172Hv0e6E7f7q++aG4X3bzdWP0WrPXc5EzafL6Mm+x+zDdL4euGyyJq99s0nI1u7hErMfVR1rIJEp4ScHHjQbDR+KHtociiSXLlUrgBWx9vbbPczdxaDCjr8owJzH19L82l/eSt8D3kPZ+tdo55gFXiCXLRI250AQSMdFhT0CNGgpnh+4GwgfnySRJFwZ2gTB7wrhoNcBz+fGJ8VwzV/bX+jh8tn6cvxB97z0jf4IEmYlJDW1QxRR3VgeV9VLNzqgJ0UZRxF7Dn4OJg5BCsECzvpf9KntaeZP5F7shPssCuMU3xwTIn4iuR5VGkkXwRXpFuob3yLwJt4k4R17FTcOPgjOAqj+0P3lAPsEogZOBRQC7v1V+QP2oPV/9yb6Yf2dAR4FOAWhAdX8wvhT9X3ymfCr70LvrO4j7Uzq9OVb4FHa6dQM0R/PMM4DzVLLcckIxwXDYL3htnexGK/vtZDOzvZPF8AfGx06In0qByakHN0bih/GHYUd7CZ2L18o2g8D8RfYZsoixQjCOr/+wJvJ2NTw26zeQt9O3TPYVdmN7JULzSMzLyY4/EJRSGlE0TsKMjgnOh74G0AgZSVvI/8VjgBK7OHe+NU0zdDFB8b1zxLekeq99ND7wfsN9on12gERFtQoLTisRmNTfFmzVcpIbTZGJBwXSRBXDp8Oww0MCR0BY/kV8x7sS+UC5QXvr/6mDLMWOR6eIgEizx2WGc0WqBWGFz8dECQSJ9MjQBznE+UMFAe/AQv+Bf6dAXgFhwavBDsBAf15+KX1v/XP95T6CP5KAmgFwwSlANP78veo9NjxGfBq7wfvMe6X7H3pzeT/3vrYztM40JHOrs1czJvKtMgXxrTBo7tDtUmwqK+2uhTZCwICHBcfoB2LJfIqTiOAGwQdhx+6HFQfQiqXL+4iKAcA6QrTQ8gQxNHA0r6bwrzMYdcf3RffKd8U3DzXwdzW9M4TASh3MV47pkVPSF5CSDkpLzQkohyDHOAhviWsIF0QWvrT5xzchNOWypbEt8eu09Thn+1L99X8iPr49N/3cwfyG4EtYjzFSiVWiln0UgJE+jDNH3UUOw8tDnYOuQzkBrT+h/dR8frpR+To5kLzCAPdDyAZ+B8MIxshkRy3GEoWzhXHGDwfdSW2Jtkhvxm5ESQLfQVoAHf9jf6gAuMFFAajA/H/gvs19zb1FfZp+ED7G/9RA2cFoQMZ/4H6wfaM8wXxfu/t7pjuku2G6wjo6eLW3ODWDNIez9fNz8xly5PJgcdVxEq/4rjZshivqLL/xbrr1xBfH8MdeyDUKe4oEh+OGx0fgx5bHMwjWi41LGUX+/jO3RzN+8WHwke/XL9VxqHRU9pB3mHfUt6q2brX1+VrA7seuyx5NXVAJkh6Rpw+NjV5KiMgoxuNHjAkqiQzGkUGGfHX4SjYf88Px5zENszx2THnEPKB+rf8xffd9PL9ARF3JD80y0JkULFYl1fyTKw72igFGpARfQ5YDv8NXwoaAzD7wfQn7t/mQeSf63b6QQk/FGkc4yGuIi4fwxqUF+cVthZ2G2kiziYbJUoe9hWmDpsIBwOc/k/9EQA7BDcGFAXlAfD9Yfnw9U/1+vaN+bb83gB4BOsEjQG//Ij4JfU+8gXw7O6O7u7tduzA6ZHlDODf2TLUNNAtzu7MzcsIyiPIt8WywfG7ebVPsOiv0bui2jgDHBzXHhgebCZhK4IjEhzFHaAfWxxJH20qJS++Id4FMOj10lzI5MNVwHK+VsKJzCLXCN1P317fG9x518PdSva9FBAofjG1O/RFXEh0Qms5MS8VJHQceRzLIVQlux8UD2b5eef620bTT8p1xMLHxtPD4aDtc/fi/H76WvUG+TkJyh3xLo49tUukVopZelIzQzIwJx8CFPwO8Q0SDgYM+QXl/fv27/DH6XrksOdh9AEEhRCNGTMgAyPlIHgcxRhvFg0WEhmIH4UlViYpIfoYFxG7CjQFHAAl/VP+WgJyBXAF4QJA//X65/Yi9Rf2Y/gq+9/+/wL7BAsDdv7b+Tz2L/Ob8PnuYu707cXso+oO5+bh6tv81TTRVs7yzNvLUspIyBLG2sKwvUy3lLFnrz63+NAV+csXNh+THQwkxSt+JowdNh37HwsdSB1eJ1Iv5yarDYHvp9dmysjEKMFrvnjAO8lw1Njb7d6i34Lda9iS2r/ubw1QJCkvrzjdQ9BIi0QqPGAyGifOHaEbHSDTJPoh/hPz/oXrit6E1YXMOcW8xejPCd6S6gf1MPzh+1728vZbBKMYvSqbOf1HTlSZWSpV60deNUAjXhbgDwMOCA7CDMUH8/+n+K/y0utr5fLlgvALAJINVhfCHtoi8yHLHcQZDRfzFegXsB1KJLom+iI9Gx4TZAypBl8Bqv2a/SgBzwSvBbADQAAi/Nn3WPWh9bz3WPrD/QoC4wTmA77/F/tG9wn0OvFP73juCe4m7WLrQ+iH46TdgtdN0unOO80vzNHKAsn+xgvEfL87uQmzXK9Isx3H3uwwERwftx0gIYkqGClkH0Qceh9GHiYc1CMvLnArSRYw+IvdO80ExkbC+740vynGb9E62lDeqd+V3unZWtj85nwEHx+oLJI1yUBMSHtGvD5cNXcqACB/G2we2SPyIzsZWAWP8LjhF9hLz+PGm8ROzPjZIucm8rb6zfzp93D1/v4mEkkl4DRqQ91Q0lh4V6VMNDtuKKsZUxFEDgwOjQ3SCZACzvqP9ATu3+ab5EjsGfuwCYwUtRwZIrAiJR/eGrgXBBbmFq0bjSKrJsUk7R2mFWgOeQgIA6v+hv1SAFoELQb5BNUB2/1a+Qb2kPVV98/5/fwqAbIE8QSGAdP8zPhv9W/yUvBE78TuDu6r7Avqy+U14C7artS20LHOpc1dzKnK6ciJxo7C27yDtjGxdK8VuEzTCvx8GVsfSB3wIxQrESVSHJgcsR8bHfkdLihpL9Yl1Qtm7d/VmsnSxG3B0L6DweHK1dVq3PTefN8V3f7XCttw8H0PwSUJMHA5LERqSKVD3Dr4MAMmgx0FHK0gRiXzITUTiP096sLdBNUbzDfFpsZ/0ZffvOvT9V38YvvC9a/2ZASIGHIqeTn5RzBUUFmBVNRGRTSJIiMW5g8pDmYOKw0GCBEAsPiI8lvr6OTL5cPwWQDADYQX5x7eIrUhdh1rGbwWyhUQGBAeoSTvJggjUxsyE2UMowZcARb+r/6GAhgGtga7BEAB1fw/+Mv1TfZw+Dj75f5MA+oFrgSAAOP7EPjH9Cnye/DX75Lv2e4S7bzp9+Qs3xDZCdT80IrPsc5zzd/LGspIx6nCy7yJtkmxJa+AtqDP2/f0F94f2RyzIaspQiXkGz4beh8kHuwdFSdkLwkoDA/z70vXN8pPxVPC0b/0wZrKd9U23KHe+9773C/YpNkQ7WoMqCSrLzw4y0LsR6lD2TpRMfImTR49HKYgqSV0I6kV+/+964TeytVGzS/GrcbQ0O3eHuvr9LD7c/uw9Sf1YQE6FZIn0zaLRVVSi1j/VGpIZDaEJJkX3RDODvYOIQ58CZgB1/lr8zbsOeXb5MPuM/4LDCwW3R1fIt4hyB2ZGcUWnxWRF1sdJyQqJxQksBx1FF4NbgcYArj+K//uAqwGhAfABWQC7f0a+Rz2VPZ7+Eb76P5PA14GjgWLAd788Pib9eLySfG38J7wCPBS7hfrhObg4NTarNVn0vTQJtD/zpPN5ctkyRfFUb9EubizvK8SscS/UeEpCTweAh7DHBAlbSimH4cZLh0GIJ4dcyHxK3UuQx6VAALjwc+Sx3vEnMHNwCbGbtBq2W3dgd4I3pLaA9cQ4AH7cBkYK0MzwDzERWFGJz/bNV0suSLOHBIesSNvJvsebAwM9tPkSNoh0urJwsUJy+fXUOXs71/4Rvy2+Knzj/iICbMdgC5ePblLJVbxV+pPT0DSLewd6xOzDyEPZQ8DDYAGG/7g9jXwhein4wXog/X7BA4R3RlQIJ4i9x9oG9YXzxX7Fc4ZpSBPJqImKyHzGBYRkwrcBD8At/4oAWcF1Ac5B6gEuwDE+1b3x/U799v59vwmAWgFzAYxBH7/DPuJ94T0Q/JJ8TbxBPHf72/tm+l35HLepthd1CjSPtFT0A7Pnc2xy1rIK8NFvWe3WrJZr3azHceM7FMRVx+VHNcdsyZaJr4cshnFHv4f5B0ZJBEuDCwGF/H3k9y8zKvG8MNkwRXC+MhZ08fai9003ifdDNmN18XlyQPUH8YteTVuP5JGdUQzPCUzxCnSINIc0h91JdwlDBtiBo/wSOH81/7Pc8iixoTOA9xw6Dfyvfmj+6L2XfP5++EObyJjMiRB2U49V2BWGExlO0Qp4RqpEqoPkQ9eD8wLTgT8+xL1K+6j5sPj/uq2+XsIcxOgGzQhFSKWHjQaHhelFbcWjRuDIgcnpyUgH8UWPw8BCYgDof89/4MChQYCCLEGwgNv/1/6dPbu9fP3r/oN/mECGQZfBugCGP4T+sr28/MI8lDxRPHd8E7ve+xZ6Pbi9Nx+16XT2NEF0eHPfs4PzdnK/saFway7C7YmsVyv+Lb1z+b3zRdnH8wbMiBKKB8k4xriGgggIx9/HgonPy/7J8gOg+8V133K1MUXw+HAHcN0y6TVztvm3UDectzm14bZBO15DOgkzy/lNzNCOkfCQuk53DBEJ/Ye3BxAIVgmBiTxFQoAtetz3tjVrM32xqnHvdGH30Hrj/QZ+/D6JfV89MkAERXDJyA3x0V3Um5Yi1TyRzQ2iSSvFyERSg+ND6QOywmrAaP5CPPq6w7ly+TJ7lX+MwwpFqodDiJ0IUUdJBmPFqQVpRdoHTYkPScUJJgcTxQoDTsHFwLt/oD/PwPbBpMHtAVBAsn95vje9T72lfhl+/P+SgNEBm4FVgGl/M/4rfX28lnx4fC38AXwM+4G62zmveDC2pLVWdLq0AzQy85VzazLDMmyxOS+27hMs2SvT7EaweXjbwvAHrgdNh3uJVcoGx+nGbMdESCTHRsiuixGLskcfP5e4ejONMchxEHBw8BuxunQntlX3WPe2N0Y2sfWH+Ed/RwbuCvFM5I9PUYtRqE+aTXnK0IiwBx2HjMkbSYaHucKmfTd46nZidFUya3Frcu42N/lXPC7+CP8IfiK85P5bAvJH4MwOD89TQhX+FcMT+M+ayzdHFcTgQ8zD1oPfwyGBRj9DPZt7+rnsOP16PL2WQYNEpMarCCBIpEfABuZF88VQRZLGikhkSZVJlQg+Bc0ENoJRgTN/23+5gAGBUQHewasA5n/vfqM9lf1B/e++d/88QD4BBMGNQNq/hL6lfad83fxd/BD8PXvqu4g7Cro3uLK3O3WrtJ20JjPoM4vzX/LZsm3xUjAAboctKuvALARvVPdGAaTHb4eFh0kJYIpOSE+GgEd/x9/HbsgZStJL9Yg0AOm5f/Qv8dAxCfB0r93xM3Oe9gj3Y3eTd722qnWFN7c99oWzymQMi08wkVfR6tAYjeVLXUj2Bx1HQcjbyYwIIEOC/gU5gfbsNIOyhHFcMn01bTj0e7c93f8Yfn+8/T3fwgeHW8uUD2dS3NW+lh1UfNBKC+0HiUUeg/GDi8PEA2tBjv+BfeP8APpxeNv54f0OwSrEKgZNyDEImUg0xsfGPcV7RVkGQ8g/yXAJnkhLxkwEaoKDgUuAOb9pv/VA7cGdwbeAwQAafsT91b1jfYA+fn76P8aBNwFpgMN/4764vbJ82fxF/Cm70zvYO4g7FroUeNf3WfXwNIW0PrO7M12zNXK3ciZxYbANroXtKGvUbBZvq/fFQgEHpIe4h18JvYpJSGkGm4dfR/VHPAg6CvpLlIfDgJj5G7QZMe/w3/A\" type=\"audio/wav\" />\n",
       "                    Your browser does not support the audio element.\n",
       "                </audio>\n",
       "              "
      ],
      "text/plain": [
       "<IPython.lib.display.Audio object>"
      ]
     },
     "execution_count": 216,
     "metadata": {},
     "output_type": "execute_result"
    }
   ],
   "source": [
    "Audio(df_se_sort['audio'][0], rate=16000)"
   ]
  },
  {
   "cell_type": "code",
   "execution_count": 217,
   "metadata": {},
   "outputs": [
    {
     "data": {
      "text/html": [
       "<div>\n",
       "<style scoped>\n",
       "    .dataframe tbody tr th:only-of-type {\n",
       "        vertical-align: middle;\n",
       "    }\n",
       "\n",
       "    .dataframe tbody tr th {\n",
       "        vertical-align: top;\n",
       "    }\n",
       "\n",
       "    .dataframe thead th {\n",
       "        text-align: right;\n",
       "    }\n",
       "</style>\n",
       "<table border=\"1\" class=\"dataframe\">\n",
       "  <thead>\n",
       "    <tr style=\"text-align: right;\">\n",
       "      <th></th>\n",
       "      <th>HX</th>\n",
       "      <th>HY</th>\n",
       "      <th>JA</th>\n",
       "      <th>LP</th>\n",
       "      <th>LD</th>\n",
       "      <th>VS</th>\n",
       "      <th>VO</th>\n",
       "      <th>TCX</th>\n",
       "      <th>TCY</th>\n",
       "      <th>TTX</th>\n",
       "      <th>TTY</th>\n",
       "      <th>TBX</th>\n",
       "      <th>TBY</th>\n",
       "      <th>TS1</th>\n",
       "      <th>TS2</th>\n",
       "      <th>TS3</th>\n",
       "      <th>TS4</th>\n",
       "      <th>phonetic</th>\n",
       "      <th>mean_err</th>\n",
       "      <th>audio</th>\n",
       "    </tr>\n",
       "  </thead>\n",
       "  <tbody>\n",
       "    <tr>\n",
       "      <th>12073</th>\n",
       "      <td>0.046639</td>\n",
       "      <td>0.069662</td>\n",
       "      <td>0.001109</td>\n",
       "      <td>0.040464</td>\n",
       "      <td>0.004909</td>\n",
       "      <td>0.011730</td>\n",
       "      <td>0.003624</td>\n",
       "      <td>0.012097</td>\n",
       "      <td>0.064916</td>\n",
       "      <td>0.016601</td>\n",
       "      <td>0.003051</td>\n",
       "      <td>0.056303</td>\n",
       "      <td>0.001542</td>\n",
       "      <td>0.025911</td>\n",
       "      <td>0.061337</td>\n",
       "      <td>0.082857</td>\n",
       "      <td>0.032844</td>\n",
       "      <td>&amp;</td>\n",
       "      <td>0.041328</td>\n",
       "      <td>[0.07384272, -0.08132631, 0.3420766, 0.5936177...</td>\n",
       "    </tr>\n",
       "    <tr>\n",
       "      <th>12077</th>\n",
       "      <td>0.037757</td>\n",
       "      <td>0.057475</td>\n",
       "      <td>0.046583</td>\n",
       "      <td>0.036482</td>\n",
       "      <td>0.013505</td>\n",
       "      <td>0.013068</td>\n",
       "      <td>0.003729</td>\n",
       "      <td>0.009773</td>\n",
       "      <td>0.005531</td>\n",
       "      <td>0.012906</td>\n",
       "      <td>0.041517</td>\n",
       "      <td>0.082495</td>\n",
       "      <td>0.039344</td>\n",
       "      <td>0.060018</td>\n",
       "      <td>0.054379</td>\n",
       "      <td>0.038632</td>\n",
       "      <td>0.021412</td>\n",
       "      <td>&amp;</td>\n",
       "      <td>0.040203</td>\n",
       "      <td>[0.0, 0.0, 0.0, 0.0, 0.0, 0.0, 0.0, 0.0, 0.0, ...</td>\n",
       "    </tr>\n",
       "    <tr>\n",
       "      <th>12079</th>\n",
       "      <td>0.000552</td>\n",
       "      <td>0.022493</td>\n",
       "      <td>0.066073</td>\n",
       "      <td>0.007805</td>\n",
       "      <td>0.003690</td>\n",
       "      <td>0.037833</td>\n",
       "      <td>0.028507</td>\n",
       "      <td>0.007104</td>\n",
       "      <td>0.000706</td>\n",
       "      <td>0.015256</td>\n",
       "      <td>0.059171</td>\n",
       "      <td>0.040602</td>\n",
       "      <td>0.092363</td>\n",
       "      <td>0.054456</td>\n",
       "      <td>0.029250</td>\n",
       "      <td>0.037773</td>\n",
       "      <td>0.022240</td>\n",
       "      <td>&amp;</td>\n",
       "      <td>0.039777</td>\n",
       "      <td>[0.0, 0.0, 0.0, 0.0, 0.0, 0.0, 0.0, 0.0, 0.0, ...</td>\n",
       "    </tr>\n",
       "    <tr>\n",
       "      <th>12080</th>\n",
       "      <td>0.000955</td>\n",
       "      <td>0.056821</td>\n",
       "      <td>0.020390</td>\n",
       "      <td>0.111553</td>\n",
       "      <td>0.001538</td>\n",
       "      <td>0.020480</td>\n",
       "      <td>0.012361</td>\n",
       "      <td>0.012025</td>\n",
       "      <td>0.004037</td>\n",
       "      <td>0.007233</td>\n",
       "      <td>0.003038</td>\n",
       "      <td>0.052204</td>\n",
       "      <td>0.002035</td>\n",
       "      <td>0.061057</td>\n",
       "      <td>0.038951</td>\n",
       "      <td>0.035376</td>\n",
       "      <td>0.011198</td>\n",
       "      <td>&amp;</td>\n",
       "      <td>0.039286</td>\n",
       "      <td>[-0.009346896, -0.014247213, -0.01946641, -0.0...</td>\n",
       "    </tr>\n",
       "    <tr>\n",
       "      <th>12083</th>\n",
       "      <td>0.023274</td>\n",
       "      <td>0.034553</td>\n",
       "      <td>0.044819</td>\n",
       "      <td>0.007170</td>\n",
       "      <td>0.013173</td>\n",
       "      <td>0.036044</td>\n",
       "      <td>0.031448</td>\n",
       "      <td>0.000621</td>\n",
       "      <td>0.006548</td>\n",
       "      <td>0.015247</td>\n",
       "      <td>0.032072</td>\n",
       "      <td>0.110520</td>\n",
       "      <td>0.029689</td>\n",
       "      <td>0.043860</td>\n",
       "      <td>0.032214</td>\n",
       "      <td>0.039460</td>\n",
       "      <td>0.018535</td>\n",
       "      <td>&amp;</td>\n",
       "      <td>0.038745</td>\n",
       "      <td>[0.028598325, 0.02491797, 0.020594096, 0.01584...</td>\n",
       "    </tr>\n",
       "  </tbody>\n",
       "</table>\n",
       "</div>"
      ],
      "text/plain": [
       "             HX        HY        JA        LP        LD        VS        VO  \\\n",
       "12073  0.046639  0.069662  0.001109  0.040464  0.004909  0.011730  0.003624   \n",
       "12077  0.037757  0.057475  0.046583  0.036482  0.013505  0.013068  0.003729   \n",
       "12079  0.000552  0.022493  0.066073  0.007805  0.003690  0.037833  0.028507   \n",
       "12080  0.000955  0.056821  0.020390  0.111553  0.001538  0.020480  0.012361   \n",
       "12083  0.023274  0.034553  0.044819  0.007170  0.013173  0.036044  0.031448   \n",
       "\n",
       "            TCX       TCY       TTX       TTY       TBX       TBY       TS1  \\\n",
       "12073  0.012097  0.064916  0.016601  0.003051  0.056303  0.001542  0.025911   \n",
       "12077  0.009773  0.005531  0.012906  0.041517  0.082495  0.039344  0.060018   \n",
       "12079  0.007104  0.000706  0.015256  0.059171  0.040602  0.092363  0.054456   \n",
       "12080  0.012025  0.004037  0.007233  0.003038  0.052204  0.002035  0.061057   \n",
       "12083  0.000621  0.006548  0.015247  0.032072  0.110520  0.029689  0.043860   \n",
       "\n",
       "            TS2       TS3       TS4 phonetic  mean_err  \\\n",
       "12073  0.061337  0.082857  0.032844        &  0.041328   \n",
       "12077  0.054379  0.038632  0.021412        &  0.040203   \n",
       "12079  0.029250  0.037773  0.022240        &  0.039777   \n",
       "12080  0.038951  0.035376  0.011198        &  0.039286   \n",
       "12083  0.032214  0.039460  0.018535        &  0.038745   \n",
       "\n",
       "                                                   audio  \n",
       "12073  [0.07384272, -0.08132631, 0.3420766, 0.5936177...  \n",
       "12077  [0.0, 0.0, 0.0, 0.0, 0.0, 0.0, 0.0, 0.0, 0.0, ...  \n",
       "12079  [0.0, 0.0, 0.0, 0.0, 0.0, 0.0, 0.0, 0.0, 0.0, ...  \n",
       "12080  [-0.009346896, -0.014247213, -0.01946641, -0.0...  \n",
       "12083  [0.028598325, 0.02491797, 0.020594096, 0.01584...  "
      ]
     },
     "execution_count": 217,
     "metadata": {},
     "output_type": "execute_result"
    }
   ],
   "source": [
    "df_se_sort[df_se_sort['phonetic'] == '&'].tail(n=5)"
   ]
  },
  {
   "cell_type": "code",
   "execution_count": 222,
   "metadata": {},
   "outputs": [
    {
     "data": {
      "text/html": [
       "\n",
       "                <audio  controls=\"controls\" >\n",
       "                    <source src=\"data:audio/wav;base64,UklGRsBLAABXQVZFZm10IBAAAAABAAEAgD4AAAB9AAACABAAZGF0YZxLAACBCm/0qjB0VOjVYuhyd9ZbPZnHsPRCEBbwlFzCHfbSxKFQ0b5UC/9/BLU0L4jjKw+R+oD+UgZr9nwLnPONDOTzQwvh9dAIlvgEBlT7ZgO7/UQBkf/B/8oA0v51AWX+qwFY/pQBiv5RAdn+/QAu/6oAev9mALb/MwDf/xMA+P8AAAUA+P8KAPX/CQD2/wkA+P8HAPv/BQD8/wMA/f8CAP7/AQD//wEA//8AAAAAAAAAAAAAAAAAAAAAAAAAAAAAAAAAAAAAAAAAAAAAAAAAAAAAAAAAAAAAAAAAAAAAAAAAAAAAAAAAAAAAAAAAAAAAAAAAAAAAAAAAAAAAAAAAAAAAAAAAAAAAAAAAAAAAAAAAAAAAAAAAAAAAAAAAAAAAAAAAAAAAAAAAAAAAAAAAAAAAAAAAAAAAAAAAAAAAAAAAAAAAAAAAAAAAAAAAAAAAAAAAAAAAAAAAAAAAAAAAAAAAAAAAAAAAAAAAAAAAAAAAAAAAAAAAAAAAAAAAAAAAAAAAAAAAAAAAAAAAAAAAAAAAAAAAAAAAAAAAAAAAAAAAAAAAAAAAAAAAAAAAAAAAAAAAAAAAAAAAAAAAAAAAAAAAAAAAAAAAAAAAAAAAAAAAAAAAAAAAAAAAAAAAAAAAAAAAAAAAAAAAAAAAAAAAAAAAAAAAAAAAAAAAAAAAAAAAAAAAAAAAAAAAAAAAAAAAAAAAAAAAAAAAAAAAAAAAAAAAAAAAAAAAAAAAAAAAAAAAAAAAAAAAAAAAAAAAAAAAAAAAAAAAAAAAAAAAAAAAAAAAAAAAAAAAAAAAAAAAAAAAAAAAAAAAAAAAAAAAAAAAAAAAAAAAAAAAAAAAAAAAAAAAAAAAAAAAAAAAAAAAAAAAAAAAAAAAAAAAAAAAAAAAAAAAAAEAAQABAAEAAQABAAIAAgACAAIAAgACAAIAAgACAAIAAgADAAMAAwADAAMAAwADAAMAAwADAAMAAwAEAAQABQAGAAYABgAGAAYABgAGAAYABgAGAAcABwAHAAkACAAJAAoACQAKAAoACAAJAAoACgALAA0ADQANAA4ADgAPAA8ADgAOAA8ADwAQABEAEgASABMAFAAVABUAFAATABQAFAAVABcAFwAYABkAGwAeACAAIQAgAB8AHwAfACAAIAAgACAAIQAjACMAJAAkACMAIwAjACMAIwAjACMAJAAmACgAKgArACoAKQApACgAJwAmACYAJgAnACgAKAApACgAKQAoACgAJwAmACUAJAAlACcAKAApACoAKQApACkAKAAnACUAJAAkACUAJgAmACYAJgAnACYAJQAkACQAIgAiACMAIwAlACUAJQAlACUAJQAlACQAIwAjACMAIwAkACQAJAAlACUAJQAlACUAJAAjACMAJAAlACUAJgAmACcAKAApACgAJwAoACgAJwAoACkAKQAqACoAKwAsACwAKwArACsAKwAsAC0ALQAuAC8ALwAvADAAMQAwADEAMAAxADAAMQAxADIAMwAzADQANAAzADIAMwA0ADQANAA0ADQANQA1ADYANgA1ADUANAAzADEALwAuAC8AMAAwADAAMAAxADIAMQAwAC8ALgAtACwALAAsAC0ALQAsACwAKwAqACkAJwAkACIAIgAiACIAIgAhACEAIQAgAB4AHQAbABkAGAAXABYAFgAWABUAFQATABIADwANAAsACQAIAAgABwAGAAYABQAFAAQAAwACAAAAAAAAAP/////+//7////////////+//3//f/9//z/+//4//f/+P/6//3///8AAAAAAQAEAAUABgAHAAgACgANABAAEwAWABkAHAAfACIAJAAmACcAKQAsADAANgA6AD4AQwBHAE0AUABUAFgAWwBeAGMAaABsAHEAdQB6AH4AggCFAIcAiQCMAI8AkgCWAJkAnACfAKIApQCnAKgAqgCqAKsArACsAK0ArQCtAK4ArQCsAKoApwCkAKEAngCZAJQAjQCGAIEAfgB6AHQAbgBnAGAAWgBRAEgAPQAzACgAHgATAAcA/P/v/+D/0f+//6L/af8K/5/+SP4M/uz91P26/az9rP24/cH9uv2l/YD9Wf02/Rr9C/0J/Q39Df0F/fX85vzc/NP8xvzA/M78Af1e/eT9h/49//n/ogAnAXkBlQGGAVIB+gCSAEsAOwA2ACIA/P/N/7X/lP9b/x//7/7e/uP+E/96//z/hwABAVwBkQGRAW4BQQESAcsAcQAqABkAUADkAPkBdAPhBL8F6wWtBWAFHAXFBEcExgOBA5oDAwSEBNsE5QSvBF8EDwTaA9sDGAR1BNAEHQVnBaEFnwU6BYUEvwMmA9ICswKnApsCjAJnAvkBNwFSAGr/uP5L/uj9wf3v/VP+vf7p/sb+af4A/p79Lf29/F38Gfz6++f7tvth+wD7j/oK+m/50vhS+PT3r/dq9yf38/a/9nn2CfZh9ZX05PPS85P1sfqOAvEI7QrlCVQIPQg6CPoFegIj/9/8cvsc+9v8Qv+fAAEAkf2x+j34SPeA+PX6nfwZ/db+NAOICMUL9guVCm8IbgXgAVH/7P52/5P/Of/H/nD+I/44/kr+6Pyf+Vf27PXA+KD84P+3ApoFugdzCFwIOAizB+EFGAO1AJT/zP85AZcDogXvBcMEdQOyAg0C+wDQ/1P/3/9AATUDdwVKB+gHUwcmBtEEigOWAhwC+AEAAmQCbQOtBBQFHgRtAggBVQAsAFMArQA0AfcBCwM7BAoFHgWPBMED+wJOAsgBcgE/AfoAmQB+AJgAdAD1/y7/ff4i/gf+B/76/dX9oP2G/Zz9pP1l/e78Yfy/+wj7UPq5+VX5+viF+Ab4jPcX95X2CfZs9a701/ME80LylvFJ8XzyR/c1AO8IhQzKC7gJPgnuCSEIWwSBANv9Vfxh+5z8KP/tALYAAv5b+vT2BvXO9bL4QPvn+xP9YAG4B2YMPg3XC7QJyAbxAoP/mP5o/+3/sv8P/3D+xf11/Zn9kfwx+e30XPMO9rj6wP79AWUFVwicCYwJVgkkCccH+gQrApkAjwDbAUoEwgZYB9MF1QOfAucBygBe/5T+Ev+dAMcCUQWcB6wIOwj3BoAFFgT9AmkCOQIpAlMCMAOSBEgFYwRhApIAqv93/6L/BACZAHABngIABBUFYQXjBAsEOgN+AtkBbQFDARUBrQB1AI8AiwAkAFH/d/73/cj9x/3A/aL9bP1L/Wn9jP1i/e78YfzG+xP7SvqX+Sn52/h1+PT3dPf99nz27vVQ9Yn0oPO28t/xK/HY8BnyKveNAIkJDA0pDAQKrwl2CoMIjwSQAOT9X/x3+9j8d/83AeUACf46+qf2pPR/9YP4EPud+9j8ZwEFCMkMiA0IDM0JxgbQAlf/gP5e/+X/qv8I/2X+sv1n/Y39Z/zH+FL0zvK29Yz6qf74AXwFhQjQCcEJiwlXCeYH/gQjApUAngANArIEUAfaBykG/gOoAtgBowAd/0X+y/5wAMACdQXaB+gIZAgMB4YFEAT4Am0CRwI9AnACXgPOBH0FdwRMAmUAdv9K/37/5/+CAGUBpAIYBDMFdQXnBAMEKwNlAq4BOQEcAfkAoAB2AIgAgwAbAEP/Zv7b/aL9l/2O/XP9O/0e/UT9Zv03/bv8JPyE+9D6AvpK+dz4kvgz+Lj3Nfe29iv2mfX29CT0KfMn8kHxn/DV8LbzSvuMBS8MFQ0XC4UJWgobCswGjQL0/v38qfvd+1T+twCRAdT/QPxo+Ev1lfTA9vL5Zfu6+4n+owT6CsoNGw0lC3cI3ATNAIv+4/66/9r/X//A/hr+hv2d/V/95fpJ9r3yjPPs96f8QwCjAyMHaQntCbgJnwnoCI0GawMbAV4ALgFuA4MGYQiYB0cFUANGAk8BzP9h/hv+Qf9cAQ8E3Qa5COgI0AdJBrwEagOeAlkCTgJYAuMCOwSCBVYFeAMnAab/Jv9C/53/GwDRAOcBXgPHBIAFQgVoBHwDpALKARUB2ADbAK4AegBtAHwAXAC5/87+Bv6S/Wb9XP1T/SX98fz//DL9L/3M/C38ifvk+h76Svmy+F74Gvi49zr3sfYd9ob16/Qn9CnzBvL28EfwvfBF9Jj82ga2DAANwQp6CYYK3wlSBgACgP6b/Fr7Gfzm/jgBrwF6/8T79/cL9bD0JPc7+lP7x/sh/5cFtAv7DQoN8goHCCUEJwBm/gz/y//F/0D/sf4S/pn9zf1V/WD6hfVb8tTzgPgm/bIAJwSNB4cJ6AnHCbUJuAgMBuUCzgBYAHYBFwRbB/IIvgc3BUEDNQIhAYb/Hv74/UX/kQF+BFwHAwniCJsHAwZ0BDUDjQJiAmACdwIpA6EEzQVNBSQDwQBV//b+NP+l/ycA3QABApAD+wSRBSMFKgQvA0ECTAGlAJMAqQCXAGsAWQB3AE4Anf+p/tD9Uv0k/Sn9Iv3q/L781/wJ/fj8ffzJ+x/7d/qk+dL4RvgB+Mr3bPfp9k/2rPUP9Wj0jfNr8ifxJvAr8OfyWfrRBAEMUA1WC4MJRApQCj8H+wId/9f8VfuM+1H+EgETAk0ApvzP+JT1kPR19qD5K/tt+wT+DASnCuINfA2cC9UI/wS4AGD+zf64/9L/U//G/j7+uv3f/cD9VvuL9pDy/fJF9yL87P9iA+oGOwnZCcoJ1QkrCbYGagP/ADkAGwGaAxkHUwmdCA8GvwN6Am8B3P9B/rj9tP7ZAMsD6gb2CCIJ7QdLBq8EXAOfAm0CcgKAAgkDcATYBboFuQMhAV//yv7+/n//BQCkAKUBJwO4BJAFTgVPBDkDMgIpAXMAXwCOAJkAaABEAGwAYwDQ/9X+2v02/fT8//wI/dj8oPyj/Nf82vxt/LP7APtW+oX5rfgT+Mz3ofdP9872LfZ/9dj0LfRU8yry0PDS71TwaPRe/ZQH6wzxDKQKjAmaCqEJBgbAAU7+Svzy+hL8Qf/DARECcv+H+7n3AvXr9HP3UPog+7z7gP8vBhoMDg4ZDQUL5werA5P/K/4Y/9r/t/8b/5f+Df6//RL+cP0e+gj1E/Lp87D4Rf3eAHwE1QeOCcwJyAnYCbMIvAV5AnwARADBAd4EZAjFCTEIawVbAz0CBAFD/9X9wf0l/5kBxgTOB1YJ8AhyB74FLQQLA4oCfgKHAqgCegMSBSkGXAXmAl8A8v6p/g3/ov8xAOIABwKfAxIFnAUJBeUDtwKJAYIAGgBHAJQAjgBBAEIAeABPAJH/cv5z/d38vfzd/Nv8pfx1/In8tfyT/Pz7OvuL+s357Pgf+Kz3hvda9/T2XPaq9ff0RvSC83vyIfHf79bvJvOE+xMGbAwqDRcLnAmCCvsJqAZ2As7+lvz1+ob7nf6AAWoCPQBO/Fj4UvXJ9Pz28/kF+2H7lv4EBVsL/w1kDYkLowh7BA0ACv7K/sH/y/81/6L+Hf7E/Rn+0P3u+t71OPI987z3dfwxANkDaAduCckJuwnkCRgJWgbvAp8AIAB2AY0EVwg2CuwIDwa7A3cCRQF8/9n9hP27/hIBPAR2B1UJLwm6B/QFUgQhA5cCiwKcArQCZAP0BD8GtwVRA5wA7/58/tj+d/8RAL0AygFQA9YEjwUjBf0DrQJaAT4A0/8TAIkAkQA4AC0AbABlALf/h/5l/a78gfyn/Lf8jfxS/FL8efxh/NL7EPtb+pf5sPjZ92H3Rfcl98T2JPZn9ar07PMb8wTyofCS743wGPZQAKcJLQ1WDDEKCArCCp4ItQSkAMD9xfu2+qD88P8/AvQBw/6i+tH2vvSZ9YL4s/rs+kb8OwEzCA0N6w2yDIEKEAdyAqz+D/4w/8//jv/p/l/+2f3i/Ub++fzP+M3zGPIG9d35Dv6pAYQFnAjDCbgJyAnDCR4I0QSwAR4AfQDIApoG4gkxCs4H8gQkAwkCfACJ/mP92f2q/24CywWXCIwJqQjuBiQFqgPOApMCpAKwAvkCIgTOBVwGwwTwAZj/gv6A/gn/rv9TACsBcwIGBD4FbwWVBD4DyAFrAKL/qv9AAJsAVwAVAEAAegAoABz/yv3B/Ev8VPx//H38Qvwa/C/8Ofzc+yn7bfqu+cz42fcr9/f28Paz9iT2YvWZ9M7z9PLn8Zbwnu/18ET33AFzCgoN1gsBCnEKzgoGCO8DCAB9/Y37yfoD/TQARgKjAVX+Ofp59sj0GfYX+c760vq4/EwCOQlcDbENYAwlCpQG4AFq/iD+Lf+s/2P/yv4//sH9+v1O/pH8CPhO82jy0PWC+mr+CAL7BekI1Qm5Cc8JoQmxB1YEYgEaAOUAvgPaB7QKPwp1B6wEDgPiARAABv4i/f79HAARA20G7wiBCWMIlAbMBHIDyAKwAsgC0wI+A50EOAZOBjQEQQEe/03+d/4K/6r/XgBaAboCPQQ5BSIFDQR+AuUApf8d/4r/UAB9ADIADQBPAIQA8P+f/iz9Nvzn+wX8Ofwr/Or7y/vY+7n7OvuB+r/58vj/9w73ivZ89nv2I/Zv9Zj0t/PJ8rvxjPDo7wLyXPkDBDELkgzyCrgJ7wq2CjEHzwIi/wf9Rfsn+7X9kgAaAuMAlP2v+Tn2IPUB9+z57PrZ+pT96AOOCpgNPw3GC3EJugUgAVP+Yv4m/2D/Dv+W/g/+rf0i/j/+1Pvj9tPyLPMj94P7//6VAoIGHwnTCcIJ2wlMCesGmAMLAUYApQEKBRoJDQurCa4GRAT2Ap0Bdv+A/R39f/7wAAsENQcoCTUJ5gchBngETwPVAtIC4ALwApwDNgWIBucFTgNyALv+S/6c/iH/s/99AKkBKAOJBCMFmgQ4A5EBFQAJ/+D+mP85AEMABQAIAGcAXwBv/+D9ePy5+5P7xfvm+7v7fftv+237JfuF+rr58vga+Bn3Qvbo9e/11vVW9Yf0kfOH8mvxaPCM8Ff0Qf0bB9kLswu+CZoJQwv+Ce0FXAER/jn84/r/+9v+KQGbAW7/FvyM+Ov18/V/+On6/vpZ+2n/ZwYjDKcNmwzQCh8IHQQJAH/+8v4+/wD/i/4y/rv9p/1N/sf9Ufov9YvyqPQq+RD9JwC6A0UHNwmrCdAJ6QmoCKsFiQLCAPsAUQM2B5IK5QpsCHwFtAOrAu0Agf79/HL9eP9NAowFPQhBCY8IBwdqBRMEQgP9Av4C/AIwA0sEAAaUBt8E1QFg/1j+aP7e/k//2f/EACUCtwPRBL8EeAO/AUYAJf+p/hL/xf8nAA8A6/8zAHQA6v9z/sn8qvs9+1z7l/uH+zn7APv3+t/6b/qe+bv47PcI9yD2h/Vh9Vr1BfVP9FPzLPIB8V3wDvKH+K0CIArXC1UKzwgRCucKQQj0A7L/DP02+/H6bP01AKIBhABv/Rr6H/f29Xn3T/qF+x779vymAoUJRA05DbcLeAkfBt8BCv/2/oD/SP+V/gX+sv1q/dz9R/51/N33dfM58wv3jfve/uYBagUcCCoJdQndCZ0JYQcABHUB3wB3As4Fjwk5C60JowZIBCYD7gGv/4X9B/13/v4AHgQ7Bw0J9AiTB/QFoQTAA1ADKAMXAxcDtwNHBZMG3QUiAy8Ah/5B/rH+LP+U/zYATgHRAkIEvQTEA/UBVAAt/6T+2f51/wMAEwDh/wAAWQAtAPb+NP3G+xP7EftX+2b7Hvu++o/6ifpR+qD5rfjG9/D2FvZg9Q71+fS69B30JPP38dHwlvCX88n76AVbC28LWgmTCFkKKgroBqUC2/57/LH6WPtc/u0AoAGJ/xv8yvhh9lj2tvhU+6f7dPuK/v0ELAt8DcMMDgt5CLQElQDG/lb/w/9G/1r+tv1S/Uj9B/4B/jf7Ovbb8jb0sPjw/AAAIQNsBmsIAwlXCdQJKAlnBg8DGgF0AfYDrge+CvYKfAiCBa4DvQInAcH+Hv13/XL/LwJaBRwIPwmKCOIGUQVBBLQDdwNSAy0DRwNBBOUFjwbxBNwBSP84/lv+5v5a/9D/kAC9ATYDVgQ+BM0C8gBz/5f+gf7//rb/FgDr/8P/AwBJALX/Iv5c/Cn7zfr/+jv7IPu3+lP6Lvoj+sH57Pjx9wv3NfZn9dn0pvSB9BD0NvMO8uvwtfDE8xf8VgawC4ALJglKCBgK5AmwBpQC9f6R/J36M/tQ/gABsAFy/9j7bfgW9lL2//i5+/D7pPu8/j4FXAuDDbMM+wpdCIYEZwC2/mz/8f91/3D+of0X/Qv95P3w/SH7GvbN8kr04Pgt/UgAagOWBmQI0ggeCbIJHAllBg4DHAGOATAE9wfnCt8KOAg8BYADngINAbP+Kv2i/az/aAKFBTQIRAmACNAGOwUzBLkDjQNtA0ADUgNLBOgFfwbOBLQBL/8w/l/+8f5q/+b/pwDKASsDMQQEBJUCxwBM/3v+cP78/sf/JADr/7b/7v8uAJT//f03/Af7s/rt+ij7CPuY+ir6Avr0+Y35ufi+99n2AvY09an0d/RL9NDz4PKu8a3wMfHi9Zr/8Ag7DOUKeQijCFoK9whSBUIBK/7q+2D6+vtB/4kBVAFV/pz6Tves9ev2Hfo//M37OPyeAI8Hmwx6DToMQgpABw8Da//C/rr/+P9A/zD+bP3k/CX9Dv5f/Zn5lfSx8pf1bfpV/lQBnQR0B6IIzQg3CasJcghRBT4CBgFIAn0FRwlZCzAKGQdnBBwDLAJBAP79G/09/pgAfAOTBs4INQn9BzsGzwT+A64DkgNvA0MDjQPWBFAGLAbKA60Apf4j/o3+H/+T/yIAAwE9Ao0DNgSLA+MBJwDe/lL+gf44//r/HADN/7L/AAAMABL/Uv2p+8L6rvr1+hn71/pa+v355fnA+TD5RvhP93L2mfXX9Gz0RvQF9FvzRfIU8Zbw7/KG+hcFlQv+C5AJDginCQkKIwcnA3n/DP3g+r/6ov2hANoBBgBa/LT4//XZ9Xf4o/tP/K77CP4zBMAKjw34DFIL3QgqBdgApf4//wYAwP+9/sT9Ev3N/JX9BP6/+9f27PKu8xn4qvz0/xIDWAZUCL8I5QiACVEJ+gacA10BewHyA7oH5QozC6EIdAWAA58COQHr/jf9fP1y/yMCNgX9B0gJtAgJB2IFSwTOA6kDkQNiA1kDJgS7BYYGFQUEAlX/Kf5F/tr+W//Y/5AAoAHuAvQD4wOXAtQAUf9x/lH+0/6z/y0A/v+v/8v/EgCb/yD+TvwB+5f6yPoK+/X6hfoJ+tL5wfll+Zv4ove99ub1EvV49Dj0DvSV86PyavGI8K7xkff0AWYKcgx6CisI+QhPCjMIXwRyAL/9hftf+of8yv/GAfQAkf3F+Y72c/Vh99X6fvzM+9r8DAILCT4NZQ3uC8YJeAYVAun+3/7l//n/If8P/kT9vfw0/Q3+zPx2+LDz2PKG9mL7Cv8XAnYF/AfACMkIQwmPCesHpgTiAT0BFgOgBjsKhAuXCUwG3wPOArUBlf+G/S/9x/5UAU4ESQcgCREJlgfXBY8E6wO4A6MDfANXA9ADQAV5BroF8wL1/1L+Iv6p/jX/rv9TAEgBggKiA+ED4gI4AaH/mv5E/pP+cv8hAB4AwP+p//H/wf+L/rv8NvuO+p765vrt+o/6Bvq1+aP5Yfmx+L330fb/9Sn1cvQT9ObziPOt8nrxjvCa8Vv3vwFnCp8MqAovCNYIOwoyCF8EdgDT/af7ZPpl/KP/uwEOAbH90vl+9kT1LvfF+p/89Pvd/O8B9ghHDXYN+gvYCZIGKALe/sb+3v8KAEH/KP5L/az8Ev33/dX8kfi487/yY/ZM+wP/FgJ+BQ4IzQjACCgJfgn1B8QEBwJiATwDwgZTCpYLoQlGBssDswKbAYP/fP0z/df+ZwFbBE0HIgkVCZsH2QWTBPIDxQO0A48DaQPZAzwFbQauBecC6P9G/hr+pP4y/63/VQBJAXUCgAOrA6oCCAF8/4L+Kv55/mD/GAAaALb/kf/P/5v/Z/6X/BP7bPp5+r76wfpe+tL5f/ln+R/5a/h094r2u/Xj9CX0vPOH8x7zOPIR8bLwe/Os+1sGWgxNDIEJ+QeWCZgJcwZtAg3//Pzx+vT6w/2oAM0Bzf/5+yL4YfV/9Zb4Dfyz/CX8xv4oBYUL1w3qDB0LjQixBFEAYP43/xoA5P/n/tr98vyL/Ff9s/01+y72lPLk85/4Lv1zALID/ga9CNYIwwhECfkInQZ7A60BTQIaBdUIfgsWCxII0gT8AhMChABJ/gb92v0iAOcC4wVlCFYJegi5BigFOQThA9EDwwOaA54DdwTlBUUGZwRBAdH++P1G/uL+Zf/1/8QAzQHZAmMD6QKSAfz/z/40/iD+z/7I/zUA9P+D/4L/mP/w/l39mPuA+j36cvqb+mX62fld+Sr5/Ph5+Jn3o/bV9Qn1MvSM8zfz6/I48i/x0PCR88b7fAaODJMMvAkCCHUJaglEBjYC2P7v/BH7F/u9/X8ArAHK/wX8Hfg89T/1WvgE/Ob8dfwI/1UFrAv9Df8MGguCCKwESABF/hb/CADx/wr/Af4D/Xf8Jv2A/Rb7HvaF8tjzofhC/Y8A1QMsB/II+wjCCB4Jxwh/BoUD6AGoAnAFCQmHCwsLAQixBMQCyQE+AB3+Av3//V4AJQMRBnsIWAlyCLEGJwVABOkD2APRA7gDwQOJBNkFIAY2BBUBtf7q/UH+4v5p////0QDMAa4CCAN+Ai8Buf+6/ij+Fv7N/sP/NwDx/2//VP9V/6j+F/1h+1v6HfpJ+mb6IvqP+Rf54Pil+Bn4MfdD9oH1vPTj8yzzxfJj8qjx6PDh8YD35wHNClANawuUCKcIxAm8B+QD8v+E/dH7yfqI/Fn/TQHgAMb94vlE9q30bvZT+tv8tPyi/W0CTAmpDcsNFQzFCYQGJAK2/nH+lv8IAI3/mP6d/ab8p/xh/Wf8Yvia85DyP/Zc+0L/aALjBZMITAnxCOwIAQmMB7AEawIyAjIEgQenCpsLiQkPBloDBQLVAOj+Of1b/Vb/BwLoBKIHPgkKCYMHzgWdBAgE1wPPA8wDxgMnBEUFKAY5BW4Cjf8O/v39mP4y/73/dABcAUICzgKiAp4BKAAG/1f+Av5l/k7/DgAbAJr/Pv83/+X+sP3z+5z6EPoV+j/6I/ql+Rf5xfiR+Cv4Yvdq9pn14vQQ9DjzofI68qXx+/C/8dj29wBOCmoN2AvxCJsIuwnpBygEJgCJ/eD7y/pl/C3/JgHuAAv+PPqM9qL0A/bL+af8yfyR/QgC1wiMDf4NWAwECtAGhALk/lb+b//4/5z/vf7Q/c78mfxA/Xv8u/jk82jywvXp+gH/LwKpBYAIaQkXCfUIAAmnB+AEmgJeAlEEhgeZCqULwwlXBn0D9wG7ANv+L/1C/Tr/8QHOBIgHNQkZCZ0H6AW3BB4E5gPUA9UD2wM2BDgFEQY8BYoCpP8N/un9gP4i/7H/ZwBKASICpQJ+AoQBEQDw/kv+//1d/jz//P8WAJz/N/8k/9T+qf3y+5j6BfoE+in6DPqQ+f74pfhq+Af4RfdL9nj1wfT28x3zefIG8nLx8PBG8lf44AJbC3MNcQu9CPEIrAlIB2YDgv8o/YP71vrm/KD/SAGGAF79kPkI9pn0evZb+sP8w/wm/kADAQr6DeINFAyXCScGvwGP/nr+jv/t/3X/mv6v/bn8s/w9/ff7zPdA86bylPaz+5P/ywJMBt0IfAkcCQoJ5wgyB1oEaAKkAu0EMQj5CnkLMAnCBR8DswFXAGn+AP2B/bf/fAJdBfkHWgnsCE8HqQWaBBkE5gPTA9MD5gNhBG8FCgbPBPIBO//t/fr9nP46/9H/kQBzATkCnAJQAjQBxv/C/jD+Bf6G/mb/CgACAIH/LP8Y/6T+UP2c+2n6+fkH+iP68Pln+d74jPhM+Nr3B/cT9kj1kPTB8+zyU/La8T3x/PBM89f6nwWFDDkNrAqBCFwJWAlRBksCsP6z/Bb7Hvuo/TUAXgHY/2H8kfhd9cD0Yvc6+9380fwo/w8FgAtNDocNigvUCA8FpwBA/sL+uv/b/zz/Yf5u/Zv84fwq/Rv7cPaQ8lLz7vfW/GkAtQMoBzsJcwkSCRoJpgh5BqgDOAIOA7cFAwlfCxsLUgj1BKsCYQHc/+n96vz2/WsAPAMdBoMIbwmWCNsGVQVuBAgE3gPQA9MD9gOfBLUF7wUrBCgBvf7W/R3+yP5g////zQCuAWQCogIdAtYAc/+T/hf+F/69/pv/FwDk/2P/KP8O/2L+3vw5+zv69vkS+iH61PlB+cP4fvg5+K73yfba9Rn1XvSH877yNPK18RLxLfGb9HH98QcvDccM7gl8CKgJ0AhfBUsBE/5N/NL6lvtd/q0ARQEW/3L7o/fj9B/1XPjt+9n8CP1SAMoGogxZDhsN9QoFCPcDw/8u/gz/2P/C/wb/Kv4r/ZD8DP3y/CD6NPU+8jr0PPnT/TABmATcB28JWwkLCR0JSgjCBR8DNgKVA4UGwwmZC5kKdgdCBE0CEgFi/4L9+vx8/hoB8gPLBuoIYAkzCG8GDgVNBPsD2APQA9UDDwTiBOoFsgV4A3AAXv7T/UX+8P6E/ywAAQHXAW4ChQLUAXgAOv94/g/+Pv4A/9T/IgDE/0T/G//y/g7+bfzq+h36+vkb+hT6rPkX+ar4aPgZ+HX3h/ao9fD0MPRQ85XyFfKJ8fDwmPFd9lEA/QmDDSoMQwmzCM4JEghSBEUAgv3V+7L6O/wQ/xAB+QA3/nf6vvad9Ln1Z/lv/MP8fv3NAZcIiA02DqEMTAoWB8gCAv9C/k//4/+Z/8z+7f3t/J78NP2I/O34CvRC8mH1i/rF/gYChgV8CIsJQwkSCRIJwwf9BKsCXQI/BGQHcgqeC+gJjgaeA/YBsQDZ/iz9MP0e/9cBtQR3BzoJNQnBBwcG0AQyBO8D0wPPA9oDNAQsBQgGSgWsAsL/F/7h/XL+F/+r/18AOgEDAn4CZgJ9ARIA9v5M/gP+Yf42//T/EACY/yv/Ef/H/qP98vuX+v359vkV+vX5ePnn+Ij4Sfjn9yr3NvZh9av03/P/8lHy0fE88eTwwvKr+XcEIAxwDR0LrQhDCZAJvQa+Avz+1fwz++/6WP3//10BIwDO/P/4nvWZ9OD2xPrE/L/8s/5RBPMKRw7HDd0LOgmRBR0BVv6b/qH/3f9S/3/+lv2w/ND8M/13+/f2wPLr8kT3TvwIAFED1AYnCYwJKQkjCc4Iywb2A14CCwOXBdYISgtGC60ISQXSAm0B7//8/d78w/0sAP0C2wVWCG8JvQgKB3kFiQQcBOwD1wPZA/oDjwSZBfAFWgRkAd/+1P0F/q3+Sf/p/68AfwEeAl8C/gHUAIH/nf4X/hf+tv6T/xcA5P9V/wf/8f5a/uf8Q/s1+uH59fkA+rH5IPmf+E34BfiB96T2u/X49ED0YvOK8u7xZ/Hj8IvxLvYHANcJlw1eDHoJzwjhCSMIXQRMAHf9xvuh+i78D/8MAfQAPf6M+tj2mvSO9ST5Qfy4/H39wwGICJANWA7MDHYKOQfmAhD/Of5A/9T/k//U/gP+Bv2l/Cr9gPz0+A/0KvIs9Vr6pv70AXoFfwiiCWMJKgkeCcwHCgXGApACfwSWB4AKlQvlCZkGpAPiAYUArf4R/Sn9Jf/jAb8Eewc9CToJyAcPBt0ERQQBBN4D1gPmA0IELAX1BTAFmAK3/w7+1f1j/gz/pf9bACsB2QE+AicCRgHr/9n+Mf75/WP+Nv/t//3/f/8M/+z+nv53/cr7dvrf+dT56/nA+UD5r/hK+AP4nffe9u71GvVi9JHzqvLs8V/x3vBA8RL1O/6bCHgN2Az/CcYI4wmkCPoE4QDA/f37oPq9+6v+3gAnAbv+HPtl98P0HvVi+NP7r/ws/eMAgQcbDYMOLg33Ct0HpQOB/yX+Ev/H/6T/9P4w/j39q/wW/bz8o/m29BPyY/R5+Qf+bQHsBCoIogmHCTwJNgkmCIAFDQOOAkIEPAcwCpILRgogBwcEDQKlANz+J/39/Mv+gQFZBCAHFglbCRAIUAYIBWEEFgTrA9sD6QM1BAYF3wVfBf8CDgAw/sf9Qf7u/ov/PgAHAa0BEAIQAlUBCADp/jP+8v1P/hr/2f/9/4b/Bv/c/qD+mP3z+4z63fnD+dj5tPk7+an4Ofjr94z32/bx9Rf1XvSS86by3PFF8c/wUfFc9bL+9wiVDc4M9AnfCPoJjQjJBKsAmv3Z+4r60PvO/vMAFwGM/u36Qfe49DD1ffjX+6D8Pv0sAd8HUw2ODikN6wrBB3gDX/8l/hn/wv+V/+b+Kf47/bT8H/2m/Gn5evQH8or0qfkr/pABFwVMCLQJkwlMCT8JEQhXBesCggJLBE0HPAqICygK/wbzAwMClADC/hT9Af3h/pwBdwQ9BysJYAkICEYGAgVdBBIE5gPWA+MDNgQQBecFVQXmAvv/Kf7K/Uj+8/6S/0gAFAG8ASACGwJWAQAA4P4u/vD9VP4h/9v/+P+A/wf/5P6i/pD95vuE+tz5yPnd+bn5Pfmq+D748veS99328fUY9V/0kvOo8uPxTvHV8E3xRvWP/t0IjA3QDPcJ2Aj0CZUI1wS7AKX95PuR+sv7xP7rABoBmf77+kz3u/Qp9XT41vuk/Dn9FgHCB0ENiQ4rDe8KyQeFA2n/Jf4Y/8P/mv/q/iv+O/2y/B39rvx7+Yz0DPKA9J35If6GAQsFQwivCY8JRgk8CRYIXgXqAnACLgQyBy4Kjgs5ChEHAAQPAqYA1f4f/f380f6KAWYEMgcmCWMJDwhKBgIFWQQPBOQD1APhAzIEDgXsBWUF+wIJADD+zP1I/vT+kv9HABYByQE2AjMCcAEXAPH+PP75/Vf+Iv/g/wIAjv8Y//X+uP6r/QD8m/rw+dv59PnU+Vv5yPhd+BP4tvcF9xn2QvWL9MHz3fIe8o7xAvH/8Mrz4/uuBvkMPA2UCrIIrgk3CdwFwgFE/lr8zfo8+wP+dwBQAXP/8fsx+CP1x/SU90/7t/zf/L3/9gUvDIYOjA19C50IpAQ/ACn+0v6y/7v/HP9W/m39rvz8/An9l/rI9UXyjvNd+DD9uQAgBJAHeQmZCT0JOgmHCB4GXgM8AmQDMAZkCXAL1wryB64EewIeAXn/lP3f/DT+xwCfA34GyAiACX0IuAZCBW8EEgTkA9AD1AMHBMQEzQXMBc4DygCM/s/9KP7V/nD/GADnALYBTAJzAuEBkwBH/3j+DP4y/uj+uf8VAMb/Rv8U//L+Jv6S/AL7Ivrw+Q36Cvqp+RT5nfhV+Aj4dPeM9qj17vQx9Fbzj/IC8nbx5PCY8Wz2awATCpENNQxSCcsI3QkMCEEEMwBw/cL7pfo+/Bf/EgHwACj+bfq29pb0sfVd+WP8u/yF/eUBsgieDUcOrwxWChcHvwL6/kD+TP/c/5H/yP7w/fT8pfw1/Xz82Pj48zryYPWO+sn+DQKUBY0ImglTCSAJGAm9B+wEjwI5AhgERAdjCp4L7gmWBqYD/wG5AN7+Lf0s/RX/zgG0BH8HSQlECc0HDAbPBC0E6QPMA8UD0QMwBDIFFwZbBboCzP8c/uX9dv4d/6//ZQBHASICrgKYAqsBNAAL/2H+Ff5t/kD/+v8bAKr/Sf82/+v+yf0U/Lf6H/ob+j/6Jfqq+Rj5vPiC+Cb4bPd49qT17/Qq9FPzr/I+8qXx6fBg8eX1uf+cCW8NNgxBCZEI0glRCJ4EhQCv/fz7sPoF/N3+BwEmAXf+qvrh9qX0qPVU+XT8wvw//VYBKQhbDTgOrgxpCk0HCQMi/zv+S//t/6b/zv7o/eb8lvxA/b38Q/lF9DjyJvVR+pT+zwFMBVQIeAk1CQUJHgn1BzEFrwIZAskD8AY2CrALJQrIBscDJgL7ACv/V/0f/eL+kAFzBEcHLAlKCecHJQbaBCsE5gPNA8kDzAMZBBgFGQaLBf4C/f8x/uj9dv4Z/6b/VQA6ASoC1ALNAuMBZwAk/2/+Ff5T/if/8P8lAL//Wv9N/xD/AP5J/Nb6LPoi+k/6Q/rS+Tz52/io+FT4oPeo9sv1E/VO9Hvz2fJx8uTxEvHr8Af0qPxdBwMNzQzsCU0ImwkfCcwFrQFb/on85PpY+xD+kgB3AW7/t/vR9/X0E/VJ+PP74PzC/Lr/LAZPDE4OJQ0TC0YIUAT8/y7+Bv/o/9f/C/8d/hn9f/wT/TP9jvqP9UTy9vPr+JL96gBGBJ0HTQlDCfYIJgmICBYGRAMFAh4DBgZ7CakL4grAB3UEggJoAcb/v/3u/Dn+wwCcA4UGyAhrCVkIkwYdBUgE8APVA9ADywPxA8EE7wXxBdUDtwB+/tj9RP7t/nn/GADzAOcBsALmAj8C4QB+/6X+K/41/vP+1v86AOz/b/9Q/zv/cv7T/DT7T/ol+lH6XvoH+m75+/jD+ID46/f+9hb2XfWc9MfzE/On8jPyZ/G48CfyofhsA6MLWw0ZC3UI/wjMCVAHUwNx/zL9dPvB+uL8s/92AZoARP1U+dL1ovTR9sf64vyU/AD+XQNECg8Oxg3yC4AJCQaKAXP+jf6t//z/Zf9z/nr9lfzH/HH9CPyd9wfzsvLa9u77q//eAmYG3whfCQAJEQkECUAHTgRDAm0CugQiCBELiQsZCZsFFwPaAYoAhf4H/YP9tv95AmMFBwhlCe0ISQeiBYwECwTfA9QDzgPRA1EEfgUtBuIE7gEw//D9C/6w/kX/1P+WAIUBaALiApICagHv/93+Q/4L/ov+eP8eABEAjP9F/0P/0f52/bb7ffoR+if6Tfoe+pP5CPm8+If4FvhB90j2fPXD9O/zH/OW8i3yhPHM8KvxGPeAAbUKgg3AC9oIvQjZCd4HBgQAAHT9wvu2+nH8R/9AAekA5f0D+k/2iPQc9v/5tvyx/JL9RgIzCcQNDQ5ZDP0JtwZUAsP+Xf5///7/kf+q/rf9uPye/FD9avx4+JnzVvLo9Rf7H/9SAtcFogh1CRwJCAkVCaQHyQSEAlMCVgScB7YKrQuqCTEGZAPyAbgAzf4h/Ub9S/8HAuwEqgdNCR4JlwfhBbIEHQTlA9QD0wPVAzYESAUhBjUFcAKK/wL+7f2L/ir/uP9vAFQBLgKwAogCiQEXAP7+Vf4K/nD+U/8PAB4Am/83/yn/2P6k/en7lfoI+g36MvoR+o75/vin+G74CfhD90z2fPXF9PTzGPN48gXyavHP8Ojxrvc5AhoLjQ2pC9cI5QjOCZMHsAO1/0L9lfu++rD8e/9JAbkAof3H+ST2gvQ89iH6tPyy/Nz9zgKtCfQNCA5GDNQJcgYEAqD+Zf6B//D/gf+k/rj9vPyq/Eb9LPwV+Fnza/Ix9l/7WP+RAhsGzgiGCSkJEwkFCWwHlASIAqMC1AQQCOoKkAtjCfAFNgO+AWsAf/4C/Wn9lP9XAjgF3wdZCQUJcAfGBa4EJwTwA9sD2gPoA1YEXgULBuwEGAJR/+/98P2Q/jD/xP+BAFoBFQJ3AjwCMwHP/87+Mf4D/n/+YP8MAAMAef8W/wL/nP5T/Z/7Y/ro+fD5CfrV+Uv5v/hn+CX4tvfm9vP1J/Vw9JrzuPIR8o/x+/AG8Sb0svxnBysNEQ1ICp0ItQkFCZsFgwEl/k38y/pu+zz+nABQAUP/q/vf9/H04vTu9537xfzx/A0AcAZ+DH8OXg0/C1EISAT4/yb+7/7G/8H/Ff9E/kv9mvz//Pn8T/pp9Sry1vPI+IT9+QBkBMMHfwmCCSoJMglsCPQFUANlAr0DmQa6CY0LrQqkB2YETAL4AEz/dP3r/Gv+CQHhA7cG4QhvCVAIjgYrBWoEEwToA9kD4gMbBNsE0wWmBYIDgABk/sj9Mv7e/nj/IgDvAK8BLwJEAqEBUgAd/1v++f0v/u7+wP8NAK7/J//x/sf+5/1M/Mj6+PnM+eT51/ls+db4YvgW+ML3Hvcy9lD1lPTQ8+jyGPKB8fnw4vBR8/H6zAW7DHEN6grICJ0JbQk2BiICg/5+/OP6D/vH/VgAXQGz/z38ffhK9Z70K/f6+qf8xvxV/2AFzAuJDr4NvgvxCA0FlAAz/rn+qP/E/zD/bf6K/bf86fwT/eT6LvZZ8i7z1vfI/G0A0QNSB2sJqQlKCUQJsAhoBqIDZwJ4AzIGVQlqC/oKMwjkBI8CHQF8/5j9zvwO/p0AcwNOBqYIfwmYCNcGXAWFBCUE8wPZA94DDwS4BLQFxgXoA+4AnP7H/RD+uv5b/wMAzQCKAQoCMwK3AX4APf9o/vv9Iv7U/qj/CAC5/y7/7P7N/g7+g/zx+gX6x/na+dT5c/ne+GL4Dvi/9yv3SPZj9aH04/P98iPyg/H58NfwEPNf+joFiwyLDR4L2giUCZEJbQZXAqT+i/zs+u76mv0+AF4B2f9w/LX4cPWR9PD2w/qa/Lj8GP8DBYsLiA7eDekLKAlRBc8APP6m/pz/wv83/3f+nP3D/Ob8Hv0X+3T2cfL88ob3h/w8AJ0DJwdgCbUJVglLCcYIjwbAA2oCYAMKBiwJVgsMC18IDwWpAiwBj/+n/cj88v15AE4DKQaPCIMJsAj0Bm8FkQQsBPcD2wPdAwkEqgSnBc8FDAQVAbP+yf0I/rH+Uv/7/8IAfwEAAi4CvgGOAEj/bP76/Rv+yf6e/wYAvP8w/+r+zv4b/pf8APsK+sX51/nT+Xb54vhj+A34vvcv91D2afWn9OnzBfMo8oTx+vDU8PnyKPoBBXYMkg0xC+IIjwmcCYIGawKx/pL88frj+oj9MgBeAeb/gfzK+H/1jfTa9qz6lfy0/AL/3gRwC4UO6A33Cz0JawXlAED+n/6Y/8L/Of97/qP9yPzk/CH9KvuO9nzy6/Jo9278KgCJAxcHXAm5CVsJTQnOCJ0GyQNkAkwD8AUVCU0LFgtzCCIFtgI3AZv/sv3H/OP9ZwA8AxgGhgiFCbsI/wZ3BZMELAT3A9oD2wMEBKQEpAXWBR4EKQG//sz9Bf6t/k//9/+/AH4BBAI2AskBmwBR/3L+/P0Z/sX+mv8FAMD/NP/u/tP+Jv6k/Ar7EPrI+dv52Pl++er4avgU+Mb3Ovdb9nP1sfTz8xHzNfKQ8QXxzvC68pb5ZwQ2DKANXAvtCHgJswm9BqwC4P6s/Aj7z/pa/RAAWwEPALv8A/mk9YT0qfZ8+pD8rfzD/nQEGwt0DvwNGAxqCasFJAFR/o/+j//G/0X/hv6w/c782/wp/V772/ah8sPyGvct/Pr/UwPmBkYJugldCUsJ3wjIBu8DbAIyA8MF6gg7Cy4LpQhPBdACTAG4/839yPzH/T0AEgPuBWgIggnPCBkHiAWcBDAE+QPbA9oDAASWBJcF3wVEBFUB2f7P/fz9o/5G/+z/sgBzAf0BNQLUAa4AYf99/gD+FP64/o//BADI/zz/7v7X/jX+vfwe+xj6yPnX+dn5hPnx+G/4F/jL90P3aPZ+9bn0/vMc8z3ylfEJ8cnwifIh+eUD/wusDYML/QhnCccJ7AbdAgb/wfwa+7/6NP33/1oBLwDm/C/5xPV99Hz2T/qG/Kf8k/4gBNgKaA4PDjMMkgngBVkBX/6C/of/yP9O/4/+vP3V/NX8LP2F+xn3wPKi8tj29PvR/ygDvgY3Cb4JYQlLCe4I7AYQBHUCIgOkBckIKws9C8oIdAXmAlkBy//f/cj8sf0eAPECzQVQCH8J3wgvB5gFpAQ1BP0D3QPbA/0DjASKBeIFXwR3Ae3+0/31/Zr+Pv/j/6cAZwHxASwC1QG3AGn/f/7+/Qv+q/6D/wAAyv88/+n+0f47/sr8J/sZ+sH5zfnQ+X/57fhp+A74wfc892T2ePWx9PXzEvMv8oDx9vDH8LjylfllBDwMqg1nC/kIgQm6Cb0GqALd/qf8AfvK+lz9GQBgAQwAtPz/+KL1fvSe9m/6hPyo/MX+egQlC34OBA4gDHIJrgUkAU7+j/6O/8P/Q/+H/rX91Pze/Cb9WPvU9pjyuvIT9yb89/9VA+oGTQnBCWQJUgnjCMgG7QNsAjQDxAXmCDMLKAuiCE8FzwJFAbH/x/3F/Mf9PwASA/AFawiGCdQIHgeNBZ8EMgT6A9oD2gMABJUEkwXbBUIEVAHY/tD9+v2g/kT/6/+uAGQB4QEaAsEBogBf/3f++P0R/rf+jv8AALv/Kf/Z/sL+If6q/A77CPq2+cH5vvlm+dX4U/j296j3HvdF9lz1mPTY8+7yB/JX8dLw3/CJ82P7Qgb1DHsN5wrjCMoJbAkGBt8BTP5P/Ln6Efvv/YAAYQGF/wP8Ufg19aL0O/f2+or8wfyS/8kFJQyrDsQNvgvhCOIEZQAk/r/+pP+y/x7/aP6Q/cn8/fwJ/av63fUu8kDzA/js/I4A/QOAB4oJvwlkCVwJqQhDBooDfwK/A4IGiAloC80K+we+BHIC8AA9/2T9xvwy/tMAqAN7BsMIhAmKCMsGWQWNBDEE+wPfA+QDGQTEBLQFpQWwA7sAgv7B/RH+u/5f/wsAzABqAcsB7wFzAUgAGv9E/ub9Kf7j/rP/+P+Q//z+vf6d/s39Pvy4+tr5ovmv+Zj5LPma+Bv4wvdq98728PUN9U70hfOR8qzxAvGe8HrxLvYEAPUJ1w2qDM0JHgkqCkIIRgQiAEH9h/ti+hT8Mf8zAfAAD/5n+tP2kfRf9dD45/t6/HL97wHTCOANnQ4QDbwKZwfwAgL/Kf4z/73/dv/J/hj+Mv3L/DL9ZvzD+NPz7fH49DH6j/70AZEFqAjZCaYJbQlQCdsH+wTAArECvQTGB4EKcgvECY4GpgPJAUUAYf7b/B39Of8CAtwElQdYCVUJ3gcjBvQEXgQWBOgD2QPrA0oELQXkBRAFeQKl/wf+zP1U/v/+pP9gABoBngHqAdgBBQG+/6/+Af7m/WX+O//h/9T/Rv/Q/rf+Yv4w/YX7Ovqq+Z75qPlt+en4Wvjs95v3Lvdv9oT1rvTw8xLzGfJM8bzwvPAa83f6WAWzDLUNSAsJCcUJtAlpBjYCff5j/MH60Pqk/WMAcwHF/0T8nPhq9Yb00vaQ+mX8mvwo/zgFywu5Dv4NCQxECVgFwAAs/qD+lv+y/yf/d/6w/eH8+vwc/fn6Q/ZE8t7yd/d+/D0ArANCB38J2AmACXEJ2giKBrkDhAKhA1cGWglSC+sKPwj/BJkCBAFQ/2z9r/wB/pwAcgNFBqIIjQm1CPcGeQWgBD4EBgTlA+YDFQSyBKAFsQXhA/MAof7C/f/9p/5O//3/vQBUAa8B2QFzAVoAKv9I/uL9IP7a/qz/+f+T//j+tP6c/uD9WfzL+uD5n/mq+ZX5Lvmc+Bn4ufdk99D2+fUX9Vf0kPOe8rbxCPGh8G/xAva//8UJ1A29DN8JGwkuClwIYQQ2AEb9iPta+vz7Hf8qAfcAIv58+uz2nfRU9bb42ft2/GD9ywGsCNENpg4gDdEKgwcRAxP/Jf4r/7n/df/I/hv+Of3M/DX9d/zj+PDz6vHc9BL6ef7eAXkFmwjaCa0JdQlYCekHBwW6ApgCmASmB28KdAvXCagGuwPcAVkAcv7f/A/9Iv/rAcgEhwdVCV8J7wcuBvgEXQQUBOcD1QPmA0QEKAXqBSUFlQK6/xD+zf1S/v7+ov9eAB8BrQEAAvUBJgHb/8b+Ff7x/W3+Qv/s/+X/Wv/k/s3+gf5W/ar7WvrG+bz5zPmX+RP5hPgW+Mj3Yven9r/17PQz9Fzzb/Kq8RXxu/Di8VL3ogHjCs4NLAxiCTAJBwqzB68Dpv8H/Vn7gvqQ/IX/QAGiAJr98fll9oH0z/V3+Tz8kfzh/c4CqwkdDl4OsAw9CsIGQgKz/kn+Vv/C/2j/s/70/Qj9yvw2/Rn8Hvhe8zHyw/X3+hz/cgINBucIzwmGCVoJJAl0B5EElQLWAhgFNQjXCnALaQkfBlgDoAEZAC7+z/xT/ZX/ZAJABeYHbQklCZEH4gXMBEkECgTkA9sD8wNnBFkF7wXSBBECVf/u/d39dv4f/8L/ggBGAdkBJQL4AQEBrf+r/hT+B/6V/mz/AQDm/1v/+P7k/nj+K/1/+0/62/ng+e35rfkh+ZT4Mvjo93b3sPbI9f30SfRz85Ly4vFS8dXwgfEY9un/zgmnDXkMmQnoCPwJNghgBEUAY/2v+4n6G/wL/wkB7wA5/pP65vad9Hv1Afkk/Kj8dv3BAYwIoA1xDuwMmApUB/gCFP8y/jX/x/+H/87+CP4V/bH8MP2B/Pb4D/Qc8hb1QfqW/usBdgWHCLYJfglCCS8J1AcFBbECbAJTBGwHYwqMC/EJrwa5A/ABjgC0/hH9H/0V/9QBtQR6B0kJUAngBx8G5QRHBAEE3APPA9wDOgQrBQAGRgWyAsv/Gf7a/Wb+EP+q/2EANgHyAWQCUQJxAQkA6/5C/gj+b/4///L/BgCP/yX/DP/B/p397vuX+v/5+fkV+u/5cPnd+Hr4OPjX9x73L/Zc9aj04PMC81LyzfEx8dnwxfLH+Z0EOAxyDRgLswhYCZoJtAarAub+wvwf++T6Wf0BAFwBHADD/PT4k/WX9Or2zfq//Lf8u/5sBBELWQ7RDeULPQmKBRABT/6Z/p3/1f9I/3f+kP2x/Nn8O/1v++P2sfLu8lP3WfwPAF0D5QY1CZcJNAkuCdIIwgbcAy4CwwJIBZsIMwtJC7YIUAXfAoUBDAAU/uf8vP0bAO0C1wVfCIEJ0QgaB4AFhAQQBN8DygPJA+YDhASjBQwGfASAAfD+3/0P/rn+U//v/7gAmgFcAq8CSQISAaf/t/4w/h/+t/6T/xsA9P90/zP/IP+N/hn9bvtb+gj6IPo0+u/5Xvnc+JP4U/jW9/n2C/ZI9ZD0vfPv8mPy5/E28dbw+vJk+kYFbgxJDcEKfghZCYAJiQZ7As3+xvwe+wD7fv0fAG8BBwCP/K74Y/Wv9EX3LPva/LP83/69BFULVA6eDaYL/QhCBcwAQP60/rj/4P9B/2H+bP2X/OL8Rf1O+5/2kvIk87b3qvxCAI0DDAc0CXYJFQkiCcUIpwbJAzgC8wKUBe4IZws8C3gIEAW/AnsB/P/9/eT82/1KAB0DAgZ2CHUJqgjvBmMFdgQNBOMD1APTA/ADlQS0BQIGSwRCAcj+1/0b/sX+W//2/8QAqgFoArACNgL0AI7/qP4n/h/+wf6i/yQA8/9v/zL/IP9//v/8VftO+gb6JPo2+uv5V/nX+I/4TvjJ9+f2+fU49X/0qfPf8lry3/Eq8djwNvPx+tcFoww2DZQKdAhuCWoJWQZEAqn+sfwJ+xX7pv08AG8B3/9Y/HX4QfW99H73XPve/Lr8Gv8iBaILXg6KDYkL0wgHBZUAOP7H/sL/3v81/1P+WP2O/Or8Pf0b+1L2cvJP8wH45fxuAMADNgdCCXEJEQknCbYIgAajAyUC8gKdBf0IawskC0sI5wSqAnIB7//x/en88v1mADkDIgaOCHkJnQjfBlYFawQDBNoDzwPOA+wDmgS+BQAGNAQmAbn+1v0j/s7+Y//+/80AsgFvArMCMgLrAIv/qv4l/iH+yP6p/yYA7P9m/yz/Gf9v/un8RPtD+v/5Hvot+t/5SfnO+In4R/i999b26vUr9W/0k/PI8kPyxPET8ezww/MQ/OAG9gwODUkKcwiSCS4J6gXQAWD+g/zr+kz7/v14AGgBi//u+w34CPXd9N/3ovvZ/ND8n//oBScMaA5cDUkLeAiMBCwAKv7m/s//1P8h/0H+Qv2M/Pv8Iv2q+sP1RfKs8434U/3GACMEiQdfCWoJEAkoCYwILgZuA0ACXQMtBnYJkAvlCuEHkQR0AjoBnv+t/en8N/7GAJwDewa/CG8JaQinBjUFYwQHBOED1wPZAwQEwATSBdQFzgO/AIL+z/0w/tz+cP8SAOMAugFYAoAC5wGZAFD/g/4O/ij+4P69/yIAz/9G/xD/8/4r/pX8APsc+uj5BvoH+qf5Efmb+FX4Cfhw94T2nvXh9CL0QPN18unxYfHW8KPxr/bVAFwKoQ0oDEQJ2QjgCfAHIAQTAGD9s/up+mD8Ov8jAeEABP5C+o/2hPS/9Xj5a/y2/J79JQL5CMANRQ6jDEAK8waTAuL+R/5X/9//j//G/uv96/yj/DH9YPyf+MPzNPKC9bf66f4vAroFpAifCVMJJQkYCasH3wSvApkCowTJB68KnAu8CV4GegPQAXcAmP4G/Tv9Tf8PAu4EpQdNCSoJqAf0Bc0EPAT8A90D2APpA0wEQgX/BRgFaAKO///92/1x/hj/sf9pAD0B8AFVAjICQgHi/9b+Nf4B/nL+Sf/7/wIAf/8S//f+oP5s/bz7cPrl+eL5+vnL+Ub5t/hX+BH4qffk9vP1IvVr9Jnzs/L/8Xbx6fAW8Xn0Rf3iB1ENAg0yCrEIzwnmCF0FQQH5/Sr8svqH+2f+twBCAQ//dPuw99309PQV+K37uPwE/WAA3wbDDIoOVA0rCysIDQTI/yL++v7E/7P/Bv89/kj9ovwK/eL8DPof9RnyBfQI+bT9JAGaBO8HkgmJCTYJOQlUCMYFMANoAt8DxQbZCYkLhgp0B0MENgLbACX/Wf3x/Iz+MwEMBN8G+ghvCT8IfAYhBWcEFATnA9YD4QMgBOkE2gWSBVgDXABU/sr9OP7l/oH/LgD9ALcBLwI8Ao0BOAAG/0r+8f00/vb+wv8DAJ7/Hf/s/rv+zP0q/LD66/nG+d75yvla+cX4U/gH+LD3B/cY9jb1evSz88ry+/Fk8d/w/vAK9Gf8JwcsDTwNhgrGCM0JIAmnBYwBIv5A/Lj6U/s0/p4ATwFC/7T79/f/9Mf0qvda+6f85/wCAGAGegyYDocNbgt9CG0EDQAi/uL+uf+2/xT/VP5r/bH8//zw/FT6dvUg8qnzkPha/eEAVAS/B5EJoglJCUYJeQj6BUkDVQKrA4gGpwmCC7cKwQeFBFwC8wA//2X92fxW/vcA0gOsBuMIgAloCKAGNgVwBBgE6APUA9sDFwTZBNMFrQWTA5MAbv7G/SX+0v5x/x4A7QCsAS0CRgKqAVwAHf9V/vX9Lv7s/rn/BgCq/yj/9f7M/u79UfzM+vn5zPnl+db5bfnY+GP4FfjC9yL3OPZU9Zf01PPt8h7yhvH78OLwSPPb+rUFswxzDe8KyQibCXMJPgYpAoj+gPzm+gr7vv1RAFwBuf9G/If4UfWc9CL38vqm/MX8S/9PBcALhw7BDcQL+QgXBZ4ANf63/qf/xP8x/2/+jf25/Or8Fv3u+jr2X/Ip88v3v/xmAMgDSgdpCaoJSwlDCbIIbAaiA14CZQMcBkUJZgsBCz4I7wSYAiYBh/+g/c78Bf6SAGkDRQahCIEJngjeBl8FhQQkBPID2QPcAwsEtQS1Bc8F9wP6AKT+yv0R/rz+W/8DAM4AkAEYAkUCygGQAEr/cv4D/ib+1/6q/w4Aw/85//n+2/4h/pf8A/sV+tb57Pno+Yr59fh5+Cj42vdJ92f2gvXE9Aj0JvNS8rXxKPHO8FDyj/g3A6gLqA2fC/4IQAnNCSgHKANA/+X8Pfu3+gD9yf9PAV4ALP1x+fH1fvRY9i76jvys/FX+pgNqCkQOFw5HDLUJHQadAXf+c/59/8//XP+Z/sP91fzJ/DT9wft79/vyiPKR9rX7of/vAoIGFAm0CVgJPQn3CBcHNQRlAtICMwVmCAELWwsNCa8FDgOHAQ8AIv7g/I/94P+uApAFKAh6CfoIUgevBakELQT0A9YD0gPuA3QEfAX9BaUExQEf/+T99v2Z/j3/2/+eAHEBGAJoAhoC/gCc/6b+G/4L/pv+c/8EAOf/Yv8P//n+dv4U/Wj7R/rj+e/5APq9+S75p/hR+Az4kve99s71BvVO9HjznPL48W/x4vBO8WP11f4MCYMNqAzECb0I4gl+CM8EtgCu/fT7o/rf+8P+6AAdAZr+8Pow96z0Q/Ww+Ar8ufw+/R4BzQc/DXMOCQ3HCqYHZgNZ/yv+Jf/R/6P/6P4b/iH9ofwf/bL8c/mC9BnyqPQ=\" type=\"audio/wav\" />\n",
       "                    Your browser does not support the audio element.\n",
       "                </audio>\n",
       "              "
      ],
      "text/plain": [
       "<IPython.lib.display.Audio object>"
      ]
     },
     "execution_count": 222,
     "metadata": {},
     "output_type": "execute_result"
    }
   ],
   "source": [
    "Audio(df_se_sort['audio'][12073], rate=16000)"
   ]
  },
  {
   "cell_type": "code",
   "execution_count": null,
   "metadata": {},
   "outputs": [],
   "source": []
  }
 ],
 "metadata": {
  "kernelspec": {
   "display_name": "Python 3",
   "language": "python",
   "name": "python3"
  },
  "language_info": {
   "codemirror_mode": {
    "name": "ipython",
    "version": 3
   },
   "file_extension": ".py",
   "mimetype": "text/x-python",
   "name": "python",
   "nbconvert_exporter": "python",
   "pygments_lexer": "ipython3",
   "version": "3.6.10"
  }
 },
 "nbformat": 4,
 "nbformat_minor": 4
}
