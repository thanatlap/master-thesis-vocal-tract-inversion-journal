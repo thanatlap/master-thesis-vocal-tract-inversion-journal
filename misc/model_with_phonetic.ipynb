{
 "cells": [
  {
   "cell_type": "markdown",
   "metadata": {},
   "source": [
    "# Speech + Phonetic AAI Model"
   ]
  },
  {
   "cell_type": "code",
   "execution_count": 1,
   "metadata": {},
   "outputs": [],
   "source": [
    "from __future__ import absolute_import, division, print_function, unicode_literals\n",
    "import numpy as np\n",
    "import matplotlib.pyplot as plt\n",
    "import os\n",
    "from os.path import join\n",
    "import tensorflow as tf\n",
    "from tensorflow import keras\n",
    "\n",
    "from tensorflow.keras import models\n",
    "from tensorflow.keras import optimizers\n",
    "from tensorflow.keras import regularizers\n",
    "from tensorflow.keras import callbacks\n",
    "from time import time\n",
    "from datetime import datetime\n",
    "import shutil \n",
    "import argparse\n",
    "from functools import partial\n",
    "import pickle\n",
    "\n",
    "import tensorflow as tf\n",
    "from tensorflow import keras\n",
    "from tensorflow.keras import layers\n",
    "from tensorflow.keras import backend as K\n",
    "from tensorflow.keras import regularizers\n",
    "from tensorflow.keras.layers import Reshape, GRU, InputLayer, AlphaDropout, Activation, BatchNormalization, Dropout, Flatten, Dense, Bidirectional, LSTM, Conv1D\n",
    "\n",
    "from sklearn.model_selection import train_test_split\n",
    "from sklearn.metrics import classification_report, confusion_matrix\n",
    "from sklearn.preprocessing import OneHotEncoder"
   ]
  },
  {
   "cell_type": "markdown",
   "metadata": {},
   "source": [
    "## Utility Functions"
   ]
  },
  {
   "cell_type": "code",
   "execution_count": 4,
   "metadata": {},
   "outputs": [],
   "source": [
    "#Function for preprocessing data\n",
    "def delete_params(params):\n",
    "    '''\n",
    "    This function remove JX, WC, TRX, TRY, and MS1,2,3 paramter\n",
    "    '''\n",
    "    DEL_PARAMS_LIST = [2,8,15,16,21,22,23]\n",
    "    return np.delete(params,DEL_PARAMS_LIST , axis=1)"
   ]
  },
  {
   "cell_type": "markdown",
   "metadata": {},
   "source": [
    "## Load Data "
   ]
  },
  {
   "cell_type": "code",
   "execution_count": 5,
   "metadata": {},
   "outputs": [],
   "source": [
    "def prep_data():\n",
    "\n",
    "    # load data from preprocess pipeline\n",
    "    dataset = np.load(join('../data/d_dataset_p1/prep_data_13','training_subsets.npz'))\n",
    "    X_train =dataset['X_train']\n",
    "    y_train= dataset['y_train']\n",
    "    z_train= dataset['z_train']\n",
    "    X_val = dataset['X_val']\n",
    "    y_val = dataset['y_val']\n",
    "    z_val = dataset['z_val']\n",
    "    X_test = dataset['X_test']\n",
    "    y_test = dataset['y_test']\n",
    "    z_test = dataset['z_test']\n",
    "    \n",
    "    y_train = delete_params(y_train)\n",
    "    y_val = delete_params(y_val)\n",
    "    y_test = delete_params(y_test)\n",
    "\n",
    "    print('Train features and labels %s %s'%(str(X_train.shape),str(y_train.shape)))\n",
    "    print('Validating features and labels %s %s'%(str(X_val.shape),str(y_val.shape)))\n",
    "    print('Test features and labels %s %s'%(str(X_test.shape),str(y_test.shape)))\n",
    "\n",
    "    return X_train, X_val, X_test, y_train, y_val, y_test, z_train, z_val, z_test"
   ]
  },
  {
   "cell_type": "code",
   "execution_count": 6,
   "metadata": {},
   "outputs": [
    {
     "name": "stdout",
     "output_type": "stream",
     "text": [
      "Train features and labels (98746, 24, 39) (98746, 17)\n",
      "Validating features and labels (12094, 24, 39) (12094, 17)\n",
      "Test features and labels (12092, 24, 39) (12092, 17)\n"
     ]
    }
   ],
   "source": [
    "X_train, X_val, X_test, y_train, y_val, y_test, z_train, z_val, z_test = prep_data()"
   ]
  },
  {
   "cell_type": "code",
   "execution_count": 10,
   "metadata": {},
   "outputs": [
    {
     "name": "stdout",
     "output_type": "stream",
     "text": [
      "{'9', '2', 'u', 'E', 'V', 'i', 'A', '&', 'e', '7', 'E:', 'O', 'y', 'M', 'o', 'a', 'U', '@', 'Q'}\n"
     ]
    }
   ],
   "source": [
    "print(set(z_test))"
   ]
  },
  {
   "cell_type": "code",
   "execution_count": 13,
   "metadata": {},
   "outputs": [
    {
     "name": "stdout",
     "output_type": "stream",
     "text": [
      "Train features and labels (98746, 24, 39) (98746, 17) (98746,)\n",
      "Validating features and labels (12094, 24, 39) (12094, 17) (12094,)\n",
      "Test features and labels (12092, 24, 39) (12092, 17) (12092,)\n"
     ]
    }
   ],
   "source": [
    "print('Train features and labels {} {} {}'.format(str(X_train.shape),str(y_train.shape),str(z_train.shape)))\n",
    "print('Validating features and labels {} {} {}'.format(str(X_val.shape),str(y_val.shape),str(z_val.shape)))\n",
    "print('Test features and labels {} {} {}'.format(str(X_test.shape),str(y_test.shape),str(z_test.shape)))"
   ]
  },
  {
   "cell_type": "markdown",
   "metadata": {},
   "source": [
    "### One-hot label "
   ]
  },
  {
   "cell_type": "code",
   "execution_count": 14,
   "metadata": {},
   "outputs": [],
   "source": [
    "z_train_oe=z_train.reshape(-1,1)\n",
    "z_test_oe=z_val.reshape(-1,1)\n",
    "z_val_oe=z_test.reshape(-1,1)"
   ]
  },
  {
   "cell_type": "code",
   "execution_count": 15,
   "metadata": {},
   "outputs": [],
   "source": [
    "enc = OneHotEncoder(handle_unknown = 'ignore')\n",
    "enc.fit(z_train_oe)\n",
    "\n",
    "z_train_oe = enc.transform(z_train_oe).toarray()\n",
    "z_test_oe = enc.transform(z_test_oe).toarray()\n",
    "z_val_oe = enc.transform(z_val_oe).toarray()"
   ]
  },
  {
   "cell_type": "code",
   "execution_count": 16,
   "metadata": {},
   "outputs": [
    {
     "data": {
      "text/plain": [
       "(98746, 19)"
      ]
     },
     "execution_count": 16,
     "metadata": {},
     "output_type": "execute_result"
    }
   ],
   "source": [
    "z_train_oe.shape"
   ]
  },
  {
   "cell_type": "code",
   "execution_count": 17,
   "metadata": {},
   "outputs": [
    {
     "data": {
      "text/plain": [
       "array([0., 0., 0., 0., 0., 0., 0., 0., 0., 1., 0., 0., 0., 0., 0., 0., 0.,\n",
       "       0., 0.])"
      ]
     },
     "execution_count": 17,
     "metadata": {},
     "output_type": "execute_result"
    }
   ],
   "source": [
    "z_train_oe[1]"
   ]
  },
  {
   "cell_type": "markdown",
   "metadata": {},
   "source": [
    "## Defined Model "
   ]
  },
  {
   "cell_type": "code",
   "execution_count": 18,
   "metadata": {},
   "outputs": [],
   "source": [
    "N_OUTPUTS = 17\n",
    "\n",
    "pLSTM = partial(LSTM,\n",
    "    kernel_initializer='he_uniform',\n",
    "    return_sequences=True)\n",
    "\n",
    "pDense = partial(Dense,\n",
    "    kernel_initializer='he_normal',\n",
    "    activation='elu')\n",
    "\n",
    "def init_bilstm(unit=128, bi_layer_num=3, drop_rate=0.2):\n",
    "\n",
    "    def bilstm(input_shape_1,input_shape_2):\n",
    "        \n",
    "        input_x = keras.Input(shape=(input_shape_1,input_shape_2))\n",
    "        # feature extraction layers\n",
    "        x = input_x\n",
    "        for i in range(bi_layer_num-1):\n",
    "            x = Bidirectional(pLSTM(unit))(x)\n",
    "            if drop_rate: \n",
    "                x = SpatialDropout1D(rate=drop_rate)(x)\n",
    "        # output layers\n",
    "        x = Bidirectional(pLSTM(unit, return_sequences=False))(x)\n",
    "        if drop_rate: \n",
    "            x = Dropout(rate=drop_rate)(x)\n",
    "        outputs_param = pDense(N_OUTPUTS, activation='linear')(x)\n",
    "        \n",
    "        model = keras.Model(inputs=input_x, outputs=[outputs_param, outputs_pho])\n",
    "        # model.summary()\n",
    "        return model\n",
    "    return bilstm"
   ]
  },
  {
   "cell_type": "code",
   "execution_count": 12,
   "metadata": {},
   "outputs": [],
   "source": [
    "model = init_bilstm()(24, 39)"
   ]
  },
  {
   "cell_type": "code",
   "execution_count": 13,
   "metadata": {},
   "outputs": [
    {
     "name": "stdout",
     "output_type": "stream",
     "text": [
      "Model: \"sequential\"\n",
      "_________________________________________________________________\n",
      "Layer (type)                 Output Shape              Param #   \n",
      "=================================================================\n",
      "bidirectional (Bidirectional (None, 24, 256)           172032    \n",
      "_________________________________________________________________\n",
      "dropout (Dropout)            (None, 24, 256)           0         \n",
      "_________________________________________________________________\n",
      "bidirectional_1 (Bidirection (None, 24, 256)           394240    \n",
      "_________________________________________________________________\n",
      "dropout_1 (Dropout)          (None, 24, 256)           0         \n",
      "_________________________________________________________________\n",
      "bidirectional_2 (Bidirection (None, 256)               394240    \n",
      "_________________________________________________________________\n",
      "dropout_2 (Dropout)          (None, 256)               0         \n",
      "_________________________________________________________________\n",
      "dense (Dense)                (None, 19)                4883      \n",
      "=================================================================\n",
      "Total params: 965,395\n",
      "Trainable params: 965,395\n",
      "Non-trainable params: 0\n",
      "_________________________________________________________________\n"
     ]
    }
   ],
   "source": [
    "model.summary()"
   ]
  },
  {
   "cell_type": "code",
   "execution_count": 14,
   "metadata": {},
   "outputs": [],
   "source": [
    "model.compile(optimizer='adam',loss=tf.keras.losses.CategoricalCrossentropy(from_logits=True),metrics=['accuracy'])"
   ]
  },
  {
   "cell_type": "markdown",
   "metadata": {},
   "source": [
    "## Train Model "
   ]
  },
  {
   "cell_type": "code",
   "execution_count": 15,
   "metadata": {},
   "outputs": [],
   "source": [
    "PATIENCE = 10\n",
    "BATCH_SIZE = 128\n",
    "EPOCHS = 50"
   ]
  },
  {
   "cell_type": "code",
   "execution_count": 16,
   "metadata": {},
   "outputs": [],
   "source": [
    "early = callbacks.EarlyStopping(monitor='val_loss', min_delta=0, patience=PATIENCE, verbose=1, mode='max', baseline=None, restore_best_weights=False)\n",
    "callback_list = [early]"
   ]
  },
  {
   "cell_type": "code",
   "execution_count": 17,
   "metadata": {},
   "outputs": [
    {
     "name": "stdout",
     "output_type": "stream",
     "text": [
      "Train on 98746 samples, validate on 6046 samples\n",
      "Epoch 1/50\n",
      "98746/98746 [==============================] - 30s 306us/sample - loss: 2.2939 - accuracy: 0.7463 - val_loss: 2.1865 - val_accuracy: 0.8467\n",
      "Epoch 2/50\n",
      "98746/98746 [==============================] - 16s 160us/sample - loss: 2.2212 - accuracy: 0.8113 - val_loss: 2.1693 - val_accuracy: 0.8635\n",
      "Epoch 3/50\n",
      "98746/98746 [==============================] - 16s 163us/sample - loss: 2.2043 - accuracy: 0.8279 - val_loss: 2.1602 - val_accuracy: 0.8710\n",
      "Epoch 4/50\n",
      "98746/98746 [==============================] - 16s 161us/sample - loss: 2.1909 - accuracy: 0.8411 - val_loss: 2.1640 - val_accuracy: 0.8682\n",
      "Epoch 5/50\n",
      "98746/98746 [==============================] - 16s 160us/sample - loss: 2.1815 - accuracy: 0.8502 - val_loss: 2.1572 - val_accuracy: 0.8730\n",
      "Epoch 6/50\n",
      "98746/98746 [==============================] - 16s 159us/sample - loss: 2.1779 - accuracy: 0.8537 - val_loss: 2.1505 - val_accuracy: 0.8806\n",
      "Epoch 7/50\n",
      "98746/98746 [==============================] - 16s 159us/sample - loss: 2.1730 - accuracy: 0.8583 - val_loss: 2.1573 - val_accuracy: 0.8740\n",
      "Epoch 8/50\n",
      "98746/98746 [==============================] - 16s 160us/sample - loss: 2.1673 - accuracy: 0.8643 - val_loss: 2.1655 - val_accuracy: 0.8649\n",
      "Epoch 9/50\n",
      "98746/98746 [==============================] - 16s 159us/sample - loss: 2.1642 - accuracy: 0.8672 - val_loss: 2.1544 - val_accuracy: 0.8776\n",
      "Epoch 10/50\n",
      "98746/98746 [==============================] - 16s 160us/sample - loss: 2.1621 - accuracy: 0.8695 - val_loss: 2.1506 - val_accuracy: 0.8809\n",
      "Epoch 11/50\n",
      "98746/98746 [==============================] - 16s 159us/sample - loss: 2.1626 - accuracy: 0.8686 - val_loss: 2.1469 - val_accuracy: 0.8837\n",
      "Epoch 00011: early stopping\n"
     ]
    }
   ],
   "source": [
    "history = model.fit(X_train,y_train_oe,\n",
    "    batch_size=BATCH_SIZE,\n",
    "    epochs=EPOCHS,\n",
    "    validation_data=(X_val,y_val_oe),\n",
    "    callbacks=callback_list)"
   ]
  },
  {
   "cell_type": "code",
   "execution_count": 19,
   "metadata": {},
   "outputs": [],
   "source": [
    "model.save('model_embedding.hdf5')"
   ]
  },
  {
   "cell_type": "markdown",
   "metadata": {},
   "source": [
    "## Evaluation "
   ]
  },
  {
   "cell_type": "code",
   "execution_count": 20,
   "metadata": {},
   "outputs": [
    {
     "data": {
      "text/plain": [
       "[2.146353620036406, 0.88488257]"
      ]
     },
     "execution_count": 20,
     "metadata": {},
     "output_type": "execute_result"
    }
   ],
   "source": [
    "model.evaluate(X_test,y_test_oe,verbose=0)"
   ]
  },
  {
   "cell_type": "code",
   "execution_count": 24,
   "metadata": {},
   "outputs": [],
   "source": [
    "def evaluate_model(feature, label, model):\n",
    "    y_pred = model.predict(feature)\n",
    "#     y_pred = np.argmax(y_pred, axis=1)\n",
    "#     label = np.argmax(label, axis=1)\n",
    "    y_pred = enc.inverse_transform(y_pred)\n",
    "    label = enc.inverse_transform(label)\n",
    "    print('Confusion Matrix')\n",
    "    print(confusion_matrix(label, y_pred))\n",
    "    print('Classification Report')\n",
    "    print(classification_report(label, y_pred))"
   ]
  },
  {
   "cell_type": "code",
   "execution_count": 25,
   "metadata": {},
   "outputs": [
    {
     "name": "stdout",
     "output_type": "stream",
     "text": [
      "Confusion Matrix\n",
      "[[296   0   0   9   0   0   1   0   0   1   9   0   4  24   0   0   0   0\n",
      "    0]\n",
      " [  0 322   0   1   0   0   0   0   0   0   0   1   0   0   0   0   0   1\n",
      "   11]\n",
      " [  5   0 156   5   0   2   0   0   5  45   3  13  43   3   0   0   1   1\n",
      "    0]\n",
      " [  3   0   0 291   1   0   1   0   1   0   3   0   0   2   0   0   0   0\n",
      "    0]\n",
      " [  0   0   0   3 303   0  21   1   0   0   0   0   0   0   0   0   0   0\n",
      "    0]\n",
      " [  0   0   0   0   0 272   0   1   0   0   9   0  11   3   0   0   0   0\n",
      "    0]\n",
      " [  0   0   0   1   7   0 311  11   0   0   1   0   0   2   0   0   0   0\n",
      "    0]\n",
      " [  0   0   0   0   0   0  12 307   0   0   0   0   0   0   4   0   0   0\n",
      "    1]\n",
      " [  0   6   1   1   0   0   0   0 308   0   0   5   0   0   0   0   0   2\n",
      "    1]\n",
      " [  1   0   4   1   0   0   0   0   1 288   4   1  18   0   0   0   1   2\n",
      "    0]\n",
      " [  5   0   0   2   0   9   3   0   0   2 275   0  12   4   0   0   0   0\n",
      "    0]\n",
      " [  0   2   3   1   0   0   0   0  47   8   1 252   0   0   0   0   2   5\n",
      "    0]\n",
      " [  4   0   2   4   0   9   0   0   0  57   3   0 219   1   0   0   0   0\n",
      "    0]\n",
      " [  1   0   0   0   0  14   1   0   0   0   2   0  14 301   0   0   0   0\n",
      "    0]\n",
      " [  0   1   0   0   0   0   0  12   0   0   0   0   0   0 308   3   0   0\n",
      "    1]\n",
      " [  0   0   0   0   0   0   0   0   0   0   0   0   0   0  29 272   0   0\n",
      "   10]\n",
      " [  0   0   1   0   0   0   0   0   0   3   0  12   0   0   0   0 285   9\n",
      "    0]\n",
      " [  0   0   1   0   0   0   0   0   3   0   0  42   0   0   0   0   4 287\n",
      "    1]\n",
      " [  0   9   0   0   0   0   0   0   0   0   0   0   0   0   1   0   0   0\n",
      "  297]]\n",
      "Classification Report\n",
      "              precision    recall  f1-score   support\n",
      "\n",
      "           &       0.94      0.86      0.90       344\n",
      "           2       0.95      0.96      0.95       336\n",
      "           7       0.93      0.55      0.69       282\n",
      "           9       0.91      0.96      0.94       302\n",
      "           @       0.97      0.92      0.95       328\n",
      "           A       0.89      0.92      0.90       296\n",
      "           E       0.89      0.93      0.91       333\n",
      "          E:       0.92      0.95      0.94       324\n",
      "           M       0.84      0.95      0.89       324\n",
      "           O       0.71      0.90      0.79       321\n",
      "           Q       0.89      0.88      0.88       312\n",
      "           U       0.77      0.79      0.78       321\n",
      "           V       0.68      0.73      0.71       299\n",
      "           a       0.89      0.90      0.89       333\n",
      "           e       0.90      0.95      0.92       325\n",
      "           i       0.99      0.87      0.93       311\n",
      "           o       0.97      0.92      0.95       310\n",
      "           u       0.93      0.85      0.89       338\n",
      "           y       0.92      0.97      0.94       307\n",
      "\n",
      "    accuracy                           0.88      6046\n",
      "   macro avg       0.89      0.88      0.88      6046\n",
      "weighted avg       0.89      0.88      0.88      6046\n",
      "\n"
     ]
    }
   ],
   "source": [
    "evaluate_model(X_test, y_test_oe, model)"
   ]
  },
  {
   "cell_type": "code",
   "execution_count": null,
   "metadata": {},
   "outputs": [],
   "source": []
  },
  {
   "cell_type": "code",
   "execution_count": null,
   "metadata": {},
   "outputs": [],
   "source": []
  }
 ],
 "metadata": {
  "kernelspec": {
   "display_name": "Python 3",
   "language": "python",
   "name": "python3"
  },
  "language_info": {
   "codemirror_mode": {
    "name": "ipython",
    "version": 3
   },
   "file_extension": ".py",
   "mimetype": "text/x-python",
   "name": "python",
   "nbconvert_exporter": "python",
   "pygments_lexer": "ipython3",
   "version": "3.6.10"
  }
 },
 "nbformat": 4,
 "nbformat_minor": 4
}
