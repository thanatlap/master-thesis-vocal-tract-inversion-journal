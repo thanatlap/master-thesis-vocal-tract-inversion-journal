{
 "cells": [
  {
   "cell_type": "code",
   "execution_count": 1,
   "metadata": {},
   "outputs": [],
   "source": [
    "import numpy as np\n",
    "import pandas as pd\n",
    "import matplotlib.pyplot as plt\n",
    "import matplotlib\n",
    "import seaborn as sns\n",
    "from os.path import join\n",
    "import scipy \n",
    "from scipy.stats import ttest_ind\n",
    "import matplotlib.patches as mpatches"
   ]
  },
  {
   "cell_type": "code",
   "execution_count": 20,
   "metadata": {},
   "outputs": [],
   "source": [
    "def sep_label_position(df):\n",
    "    df[['Label','Position']] = df['Label'].str.split(';', expand=True) \n",
    "    return df\n",
    "\n",
    "def prep_df(df, is_disyllable):\n",
    "    if is_disyllable:\n",
    "        df = sep_label_position(df)\n",
    "    return df\n",
    "\n",
    "def custome_reindex(df):\n",
    "    return df.reindex([\"a:\", \"i:\", \"u:\",\"e:\",\"E\",\"@\",\"9\",\"o\",\"O\"])\n",
    "\n",
    "def custome_reindex_type2(df):\n",
    "    return df.reindex([\"a:\", \"i:\", \"u:\",\"e:\",'ɛ:','ə:','œ:','o:','ɔ:', 'ɑ:','ø:','ʊ:'])\n",
    "\n",
    "def custome_reindex_type3(df):\n",
    "    return df.reindex([\"a:\", \"i:\", \"u:\",\"e:\",'ɛ:','ɯ:','ɤ:','o:','ɔ:'])\n",
    "\n",
    "def change_label_set_1(datapoint_df):\n",
    "    datapoint_df.at['E', 'Label']= 'ɛ:' \n",
    "    datapoint_df.at['O', 'Label']= 'ɔ:'\n",
    "    datapoint_df.at['9', 'Label']= 'œ:'\n",
    "    datapoint_df.at['@', 'Label']= 'ə:'\n",
    "    datapoint_df.at['o', 'Label']= 'o:'\n",
    "    datapoint_df.at['a', 'Label']= 'a:'\n",
    "    datapoint_df.at['i', 'Label']= 'i:'\n",
    "    datapoint_df.at['e', 'Label']= 'e:'\n",
    "    datapoint_df.at['u', 'Label']= 'u:'\n",
    "    datapoint_df.at['A', 'Label']= 'ɑ:'\n",
    "    datapoint_df.at['2', 'Label']= 'ø:'\n",
    "    datapoint_df.at['U', 'Label']= 'ʊ:'\n",
    "\n",
    "    return datapoint_df\n",
    "\n",
    "def set_datapoint_index(df):\n",
    "    df_temp = df.copy()\n",
    "    df_temp['Label_idx'] = df_temp['Label']\n",
    "    return df_temp.set_index('Label_idx')\n",
    "\n",
    "def compute_formant_rmse(formant_df, dir_path, is_disyllable):\n",
    "    \n",
    "    formant_df = set_datapoint_index(formant_df)\n",
    "    formant_df = change_label_set_1(formant_df)\n",
    "    print(formant_df)\n",
    "    \n",
    "    if is_disyllable:\n",
    "        formant_rmse = formant_df.groupby(['Label', 'Position']).mean().pivot_table(index=['Label'],columns='Position',values=['F1','F2','F3'],fill_value=0)\n",
    "        formant_rmse.columns = ['-'.join(col).strip() for col in formant_rmse.columns.values]\n",
    "    else:\n",
    "        formant_rmse = formant_df.copy().set_index('Label')\n",
    "        \n",
    "\n",
    "    formant_rmse = custome_reindex_type2(formant_rmse)\n",
    "    print(formant_rmse)\n",
    "#     formant_rmse.to_csv(join(dir_path,'formant_rmse_exp'+str(experiment_num)+'.csv'))"
   ]
  },
  {
   "cell_type": "code",
   "execution_count": 21,
   "metadata": {},
   "outputs": [
    {
     "name": "stdout",
     "output_type": "stream",
     "text": [
      "[INFO] read data\n",
      "   Label          F1         F2         F3\n",
      "0      a   53.830254  85.460072  18.439791\n",
      "1      i    7.453714   1.754129  21.400730\n",
      "2      u   25.433845   5.855370   2.077361\n",
      "3      e   30.946919   1.562398   6.606631\n",
      "4      E    0.078104   5.262098  12.720756\n",
      "5      o   13.726055  13.757846   4.966258\n",
      "6      @    3.621555  12.695338   7.953335\n",
      "7      9    0.201692   5.203173   5.746503\n",
      "8      O   17.985567   2.829152   1.163172\n",
      "9      A    3.337730   9.156382   5.791201\n",
      "10     2  227.143271   9.485673  32.380740\n",
      "11     U   12.099280  10.593507   5.716131\n",
      "[INFO] compute formant rmse\n",
      "          Label          F1         F2         F3\n",
      "Label_idx                                        \n",
      "a            a:   53.830254  85.460072  18.439791\n",
      "i            i:    7.453714   1.754129  21.400730\n",
      "u            u:   25.433845   5.855370   2.077361\n",
      "e            e:   30.946919   1.562398   6.606631\n",
      "E            ɛ:    0.078104   5.262098  12.720756\n",
      "o            o:   13.726055  13.757846   4.966258\n",
      "@            ə:    3.621555  12.695338   7.953335\n",
      "9            œ:    0.201692   5.203173   5.746503\n",
      "O            ɔ:   17.985567   2.829152   1.163172\n",
      "A            ɑ:    3.337730   9.156382   5.791201\n",
      "2            ø:  227.143271   9.485673  32.380740\n",
      "U            ʊ:   12.099280  10.593507   5.716131\n",
      "               F1         F2         F3\n",
      "Label                                  \n",
      "a:      53.830254  85.460072  18.439791\n",
      "i:       7.453714   1.754129  21.400730\n",
      "u:      25.433845   5.855370   2.077361\n",
      "e:      30.946919   1.562398   6.606631\n",
      "ɛ:       0.078104   5.262098  12.720756\n",
      "ə:       3.621555  12.695338   7.953335\n",
      "œ:       0.201692   5.203173   5.746503\n",
      "o:      13.726055  13.757846   4.966258\n",
      "ɔ:      17.985567   2.829152   1.163172\n",
      "ɑ:       3.337730   9.156382   5.791201\n",
      "ø:     227.143271   9.485673  32.380740\n",
      "ʊ:      12.099280  10.593507   5.716131\n"
     ]
    }
   ],
   "source": [
    "is_disyllable = False\n",
    "dir_path = ''\n",
    "\n",
    "print('[INFO] read data')\n",
    "formant_df = pd.read_csv('formant_df.csv')\n",
    "formant_df = prep_df(formant_df, is_disyllable)\n",
    "print(formant_df)\n",
    "\n",
    "print('[INFO] compute formant rmse')\n",
    "compute_formant_rmse(formant_df, dir_path, is_disyllable)"
   ]
  },
  {
   "cell_type": "code",
   "execution_count": null,
   "metadata": {},
   "outputs": [],
   "source": [
    "generate_eval_result(experiment_num, mode='eval', label_set=1, output_path=None)"
   ]
  },
  {
   "cell_type": "code",
   "execution_count": 22,
   "metadata": {},
   "outputs": [
    {
     "data": {
      "text/plain": [
       "True"
      ]
     },
     "execution_count": 22,
     "metadata": {},
     "output_type": "execute_result"
    }
   ],
   "source": [
    "81 in range(78,86)"
   ]
  },
  {
   "cell_type": "code",
   "execution_count": 78,
   "metadata": {},
   "outputs": [],
   "source": [
    "df = sep_label_position(pd.read_csv('data_point.csv'))\n",
    "df = df.groupby(['Label','Target','Position']).mean().reset_index()\n",
    "F11 = df[(df['Position']=='1') & (df['Target'] == 0)]['F1'].values - df[(df['Position']=='1') & (df['Target'] == 1)]['F1'].values\n",
    "F12 = df[(df['Position']=='1') & (df['Target'] == 0)]['F2'].values - df[(df['Position']=='1') & (df['Target'] == 1)]['F2'].values\n",
    "F13 = df[(df['Position']=='1') & (df['Target'] == 0)]['F3'].values - df[(df['Position']=='1') & (df['Target'] == 1)]['F3'].values\n",
    "F21 = df[(df['Position']=='2') & (df['Target'] == 0)]['F1'].values - df[(df['Position']=='2') & (df['Target'] == 1)]['F1'].values\n",
    "F22 = df[(df['Position']=='2') & (df['Target'] == 0)]['F2'].values - df[(df['Position']=='2') & (df['Target'] == 1)]['F2'].values\n",
    "F23 = df[(df['Position']=='2') & (df['Target'] == 0)]['F3'].values - df[(df['Position']=='2') & (df['Target'] == 1)]['F3'].values\n",
    "label = np.array(['2', '9', '@', 'A', 'E', 'O', 'U', 'a', 'e', 'i', 'o', 'u'])"
   ]
  },
  {
   "cell_type": "code",
   "execution_count": 79,
   "metadata": {},
   "outputs": [
    {
     "data": {
      "text/html": [
       "<div>\n",
       "<style scoped>\n",
       "    .dataframe tbody tr th:only-of-type {\n",
       "        vertical-align: middle;\n",
       "    }\n",
       "\n",
       "    .dataframe tbody tr th {\n",
       "        vertical-align: top;\n",
       "    }\n",
       "\n",
       "    .dataframe thead th {\n",
       "        text-align: right;\n",
       "    }\n",
       "</style>\n",
       "<table border=\"1\" class=\"dataframe\">\n",
       "  <thead>\n",
       "    <tr style=\"text-align: right;\">\n",
       "      <th>index</th>\n",
       "      <th>F11</th>\n",
       "      <th>F12</th>\n",
       "      <th>F13</th>\n",
       "      <th>F21</th>\n",
       "      <th>F22</th>\n",
       "      <th>F23</th>\n",
       "    </tr>\n",
       "  </thead>\n",
       "  <tbody>\n",
       "    <tr>\n",
       "      <th>0</th>\n",
       "      <td>10.817822</td>\n",
       "      <td>57.163509</td>\n",
       "      <td>-104.602627</td>\n",
       "      <td>5.680288</td>\n",
       "      <td>50.793002</td>\n",
       "      <td>-92.670401</td>\n",
       "    </tr>\n",
       "  </tbody>\n",
       "</table>\n",
       "</div>"
      ],
      "text/plain": [
       "index        F11        F12         F13       F21        F22        F23\n",
       "0      10.817822  57.163509 -104.602627  5.680288  50.793002 -92.670401"
      ]
     },
     "execution_count": 79,
     "metadata": {},
     "output_type": "execute_result"
    }
   ],
   "source": [
    "data = pd.DataFrame({'label': label, \n",
    "                     'F11': F11, \n",
    "                    'F12': F12, \n",
    "                    'F13': F13, \n",
    "                    'F21': F21, \n",
    "                    'F22': F22, \n",
    "                    'F23': F23, })\n",
    "pd.DataFrame(data.mean()).reset_index().pivot_table(columns='index',values=[0],fill_value=0)"
   ]
  },
  {
   "cell_type": "code",
   "execution_count": null,
   "metadata": {},
   "outputs": [],
   "source": []
  },
  {
   "cell_type": "code",
   "execution_count": null,
   "metadata": {},
   "outputs": [],
   "source": []
  }
 ],
 "metadata": {
  "kernelspec": {
   "display_name": "Python 3",
   "language": "python",
   "name": "python3"
  },
  "language_info": {
   "codemirror_mode": {
    "name": "ipython",
    "version": 3
   },
   "file_extension": ".py",
   "mimetype": "text/x-python",
   "name": "python",
   "nbconvert_exporter": "python",
   "pygments_lexer": "ipython3",
   "version": "3.6.10"
  }
 },
 "nbformat": 4,
 "nbformat_minor": 4
}
