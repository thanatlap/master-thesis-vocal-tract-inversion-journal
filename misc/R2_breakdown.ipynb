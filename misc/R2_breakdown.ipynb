{
 "cells": [
  {
   "cell_type": "code",
   "execution_count": 180,
   "metadata": {},
   "outputs": [],
   "source": [
    "from __future__ import absolute_import, division, print_function, unicode_literals\n",
    "import numpy as np\n",
    "from tensorflow.keras.layers import Flatten, Dense\n",
    "from tensorflow.keras import models\n",
    "from tensorflow.keras import optimizers\n",
    "from tensorflow.keras import regularizers\n",
    "from tensorflow.keras import callbacks\n",
    "from tensorflow.keras import layers\n",
    "from tensorflow.keras import backend as K\n",
    "import tensorflow as tf\n",
    "\n",
    "from random import seed\n",
    "seed(1)\n",
    "\n",
    "from os.path import join"
   ]
  },
  {
   "cell_type": "code",
   "execution_count": 181,
   "metadata": {},
   "outputs": [],
   "source": [
    "def delete_params(params):\n",
    "    DEL_PARAMS_LIST = [2,8,15,16,21,22,23]\n",
    "    return np.delete(params,DEL_PARAMS_LIST , axis=1)"
   ]
  },
  {
   "cell_type": "code",
   "execution_count": 182,
   "metadata": {},
   "outputs": [],
   "source": [
    "def prep_data():\n",
    "\n",
    "    # load data from preprocess pipeline\n",
    "    dataset = np.load(join('../data/d_dataset_t2/aug_data','training_subsets.npz'))\n",
    "    X_train =dataset['X_train']\n",
    "    y_train= dataset['y_train']\n",
    "    X_val = dataset['X_val']\n",
    "    y_val = dataset['y_val']\n",
    "    X_test = dataset['X_test']\n",
    "    y_test = dataset['y_test']\n",
    "\n",
    "    y_train = delete_params(y_train)\n",
    "    y_val = delete_params(y_val)\n",
    "    y_test = delete_params(y_test)\n",
    "\n",
    "    return X_train, X_val, X_test, y_train, y_val, y_test"
   ]
  },
  {
   "cell_type": "code",
   "execution_count": 183,
   "metadata": {},
   "outputs": [],
   "source": [
    "X_train, X_val, X_test, y_train, y_val, y_test = prep_data()"
   ]
  },
  {
   "cell_type": "code",
   "execution_count": 184,
   "metadata": {},
   "outputs": [],
   "source": [
    "def rmse(y_true, y_pred):\n",
    "    return K.sqrt(K.mean(K.square(y_pred - y_true), axis=-1))\n",
    "\n",
    "def R2(y_true, y_pred):\n",
    "    SS_res =  K.sum(K.square( y_true-y_pred ))\n",
    "    SS_tot = K.sum(K.square( y_true - K.mean(y_true, axis = 0) ))\n",
    "    return   1 - (SS_res/(SS_tot + K.epsilon()))\n",
    "\n",
    "def r2(y_true, y_pred):\n",
    "    SS_res =  K.sum(K.square(y_true - y_pred), axis = 0) \n",
    "    SS_tot = K.sum(K.square(y_true - K.mean(y_true, axis = 0)), axis = 0) \n",
    "    return K.mean(1 - (SS_res/SS_tot), axis=0)\n",
    "\n",
    "def baseline(input_shape_1,input_shape_2):\n",
    "    model = tf.keras.Sequential()\n",
    "    model.add(Flatten(input_shape=(input_shape_1,input_shape_2)))\n",
    "    model.add(Dense(17, activation='linear'))\n",
    "    model.summary()\n",
    "    return model"
   ]
  },
  {
   "cell_type": "code",
   "execution_count": 185,
   "metadata": {},
   "outputs": [],
   "source": [
    "X_train = X_train[0:512]\n",
    "y_train = y_train[0:512]\n",
    "X_val = X_val[0:512]\n",
    "y_val = y_val[0:512]"
   ]
  },
  {
   "cell_type": "code",
   "execution_count": 186,
   "metadata": {},
   "outputs": [
    {
     "name": "stdout",
     "output_type": "stream",
     "text": [
      "Model: \"sequential_16\"\n",
      "_________________________________________________________________\n",
      "Layer (type)                 Output Shape              Param #   \n",
      "=================================================================\n",
      "flatten_16 (Flatten)         (None, 936)               0         \n",
      "_________________________________________________________________\n",
      "dense_16 (Dense)             (None, 17)                15929     \n",
      "=================================================================\n",
      "Total params: 15,929\n",
      "Trainable params: 15,929\n",
      "Non-trainable params: 0\n",
      "_________________________________________________________________\n",
      "Train on 512 samples, validate on 512 samples\n",
      "512/512 [==============================] - 0s 853us/sample - loss: 1.9014 - rmse: 1.3327 - r2: -9.0443 - val_loss: 1.4866 - val_rmse: 1.1817 - val_r2: -6.6071\n"
     ]
    }
   ],
   "source": [
    "tf.random.set_seed(42)\n",
    "model = baseline(X_train.shape[1], X_train.shape[2])\n",
    "\n",
    "model.compile(optimizer='adam',loss='mse',metrics=[rmse, r2])\n",
    "\n",
    "history = model.fit(X_train,y_train,\n",
    "        batch_size=256,\n",
    "        epochs=1,\n",
    "        validation_data=(X_val,y_val),\n",
    "        verbose=1)"
   ]
  },
  {
   "cell_type": "code",
   "execution_count": 187,
   "metadata": {},
   "outputs": [],
   "source": [
    "from sklearn.metrics import r2_score\n",
    "def compute_rmse(actual,pred, axis=0):\n",
    "    return np.sqrt((np.square(actual - pred)).mean(axis=axis)).mean(axis=axis)\n",
    "\n",
    "def numpy_R2(actual,pred):\n",
    "    SSR = np.sum(np.square(actual-pred), axis=0)\n",
    "    SST = np.sum(np.square(actual-np.mean(actual, axis=0)), axis=0)\n",
    "    return np.mean(1 - (SSR/SST))"
   ]
  },
  {
   "cell_type": "code",
   "execution_count": 188,
   "metadata": {},
   "outputs": [],
   "source": [
    "def compare_result(feature, actual, model):\n",
    "    print('[SK] R2: %.4f, RMSE: %.4f'%(r2_score(actual,model.predict(feature)),compute_rmse(actual,model.predict(feature))))\n",
    "    res = model.evaluate(feature,actual,verbose=False)\n",
    "    print('[TF] R2: %.4f, RMSE: %.4f'%(res[2],res[1]))"
   ]
  },
  {
   "cell_type": "code",
   "execution_count": 189,
   "metadata": {},
   "outputs": [
    {
     "name": "stdout",
     "output_type": "stream",
     "text": [
      "[SK] R2: -6.6824, RMSE: 1.2073\n",
      "[TF] R2: -7.3960, RMSE: 1.1715\n"
     ]
    }
   ],
   "source": [
    "compare_result(X_train, y_train, model)"
   ]
  },
  {
   "cell_type": "code",
   "execution_count": 190,
   "metadata": {},
   "outputs": [
    {
     "name": "stdout",
     "output_type": "stream",
     "text": [
      "[SK] R2: -6.5806, RMSE: 1.2097\n",
      "[TF] R2: -7.1838, RMSE: 1.1817\n"
     ]
    }
   ],
   "source": [
    "compare_result(X_val, y_val, model)"
   ]
  },
  {
   "cell_type": "markdown",
   "metadata": {},
   "source": [
    "## Breakdown"
   ]
  },
  {
   "cell_type": "code",
   "execution_count": 191,
   "metadata": {},
   "outputs": [],
   "source": [
    "y_pred = model.predict(X_train)"
   ]
  },
  {
   "cell_type": "markdown",
   "metadata": {},
   "source": [
    "### SSR"
   ]
  },
  {
   "cell_type": "code",
   "execution_count": 192,
   "metadata": {},
   "outputs": [
    {
     "data": {
      "text/plain": [
       "array([1034.44012006,  596.44214731,  539.48515714,  611.26677043,\n",
       "        612.95225564,  821.82963648,  973.79616587,  823.94333075,\n",
       "        796.56202416,  832.38496613,  702.17198335,  568.82452522,\n",
       "        751.79345445,  749.44477869,  781.88009753,  640.35734209,\n",
       "        963.54336283])"
      ]
     },
     "execution_count": 192,
     "metadata": {},
     "output_type": "execute_result"
    }
   ],
   "source": [
    "np.sum(np.square(y_train-y_pred), axis=0)"
   ]
  },
  {
   "cell_type": "code",
   "execution_count": 193,
   "metadata": {},
   "outputs": [
    {
     "data": {
      "text/plain": [
       "<tf.Tensor: id=25713, shape=(17,), dtype=float64, numpy=\n",
       "array([1034.44012006,  596.44214731,  539.48515714,  611.26677043,\n",
       "        612.95225564,  821.82963648,  973.79616587,  823.94333075,\n",
       "        796.56202416,  832.38496613,  702.17198335,  568.82452522,\n",
       "        751.79345445,  749.44477869,  781.88009753,  640.35734209,\n",
       "        963.54336283])>"
      ]
     },
     "execution_count": 193,
     "metadata": {},
     "output_type": "execute_result"
    }
   ],
   "source": [
    "K.sum(K.square(y_train - y_pred), axis = 0) "
   ]
  },
  {
   "cell_type": "markdown",
   "metadata": {},
   "source": [
    "## SST"
   ]
  },
  {
   "cell_type": "code",
   "execution_count": 194,
   "metadata": {},
   "outputs": [
    {
     "data": {
      "text/plain": [
       "array([100.59569011, 107.02731931,  57.42602122,  93.18631381,\n",
       "       159.78934101, 141.74241398, 194.46468125, 151.20102942,\n",
       "        87.40076859, 119.63628027,  74.07852528,  87.84156185,\n",
       "       107.00587661, 104.17985248,  78.83435227,  87.27858287,\n",
       "        63.39210709])"
      ]
     },
     "execution_count": 194,
     "metadata": {},
     "output_type": "execute_result"
    }
   ],
   "source": [
    "np.sum(np.square(y_train-np.mean(y_train, axis=0)), axis=0)"
   ]
  },
  {
   "cell_type": "code",
   "execution_count": 195,
   "metadata": {},
   "outputs": [
    {
     "data": {
      "text/plain": [
       "<tf.Tensor: id=25720, shape=(17,), dtype=float64, numpy=\n",
       "array([100.59569011, 107.02731931,  57.42602122,  93.18631381,\n",
       "       159.78934101, 141.74241398, 194.46468125, 151.20102942,\n",
       "        87.40076859, 119.63628027,  74.07852528,  87.84156185,\n",
       "       107.00587661, 104.17985248,  78.83435227,  87.27858287,\n",
       "        63.39210709])>"
      ]
     },
     "execution_count": 195,
     "metadata": {},
     "output_type": "execute_result"
    }
   ],
   "source": [
    "y_train_tensor = tf.convert_to_tensor(y_train)\n",
    "K.sum(K.square(y_train_tensor - K.mean(y_train_tensor, axis = 0)), axis = 0)"
   ]
  },
  {
   "cell_type": "markdown",
   "metadata": {},
   "source": [
    "## R2 "
   ]
  },
  {
   "cell_type": "code",
   "execution_count": 196,
   "metadata": {},
   "outputs": [
    {
     "data": {
      "text/plain": [
       "-6.682410482590197"
      ]
     },
     "execution_count": 196,
     "metadata": {},
     "output_type": "execute_result"
    }
   ],
   "source": [
    "SSR = np.sum(np.square(y_train-y_pred), axis=0)\n",
    "SST = np.sum(np.square(y_train-np.mean(y_train, axis=0)), axis=0)\n",
    "np.mean(1 - (SSR/SST))"
   ]
  },
  {
   "cell_type": "code",
   "execution_count": 197,
   "metadata": {},
   "outputs": [
    {
     "data": {
      "text/plain": [
       "<tf.Tensor: id=25737, shape=(), dtype=float64, numpy=-6.682410473981724>"
      ]
     },
     "execution_count": 197,
     "metadata": {},
     "output_type": "execute_result"
    }
   ],
   "source": [
    "SSR = K.sum(K.square(y_train - y_pred), axis = 0) \n",
    "SST = K.sum(K.square(y_train_tensor - K.mean(y_train_tensor, axis = 0)), axis = 0)\n",
    "K.mean(1 - SSR/(SST + K.epsilon()), axis=-1)"
   ]
  },
  {
   "cell_type": "code",
   "execution_count": 198,
   "metadata": {},
   "outputs": [
    {
     "data": {
      "text/plain": [
       "<tf.Tensor: id=25753, shape=(), dtype=float64, numpy=-6.682410482590197>"
      ]
     },
     "execution_count": 198,
     "metadata": {},
     "output_type": "execute_result"
    }
   ],
   "source": [
    "r2(y_train_tensor, y_pred)"
   ]
  },
  {
   "cell_type": "code",
   "execution_count": null,
   "metadata": {},
   "outputs": [],
   "source": []
  },
  {
   "cell_type": "code",
   "execution_count": null,
   "metadata": {},
   "outputs": [],
   "source": []
  }
 ],
 "metadata": {
  "kernelspec": {
   "display_name": "Python 3",
   "language": "python",
   "name": "python3"
  },
  "language_info": {
   "codemirror_mode": {
    "name": "ipython",
    "version": 3
   },
   "file_extension": ".py",
   "mimetype": "text/x-python",
   "name": "python",
   "nbconvert_exporter": "python",
   "pygments_lexer": "ipython3",
   "version": "3.6.10"
  }
 },
 "nbformat": 4,
 "nbformat_minor": 4
}
