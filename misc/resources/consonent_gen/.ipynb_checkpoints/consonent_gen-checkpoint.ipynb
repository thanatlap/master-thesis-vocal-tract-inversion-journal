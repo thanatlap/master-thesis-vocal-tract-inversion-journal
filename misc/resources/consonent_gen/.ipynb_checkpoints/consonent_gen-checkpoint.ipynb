{
 "cells": [
  {
   "cell_type": "code",
   "execution_count": 1,
   "metadata": {},
   "outputs": [],
   "source": [
    "import ctypes\n",
    "import os\n",
    "from os.path import join\n",
    "from glob import glob\n",
    "import shutil\n",
    "import numpy as np\n",
    "import pandas as pd\n",
    "import math"
   ]
  },
  {
   "cell_type": "code",
   "execution_count": 3,
   "metadata": {},
   "outputs": [],
   "source": [
    "VTL_FILE = 'VTL/VocalTractLabApi.dll'\n",
    "\n",
    "if os.path.exists(VTL_FILE):\n",
    "    # Call VTL application\n",
    "    VTL = ctypes.cdll.LoadLibrary(VTL_FILE)\n",
    "    version = ctypes.c_char_p(b'                                ')\n",
    "    VTL.vtlGetVersion(version)\n",
    "else:\n",
    "    raise ValueError('Path %s does not exist'%VTL_FILE)"
   ]
  },
  {
   "cell_type": "code",
   "execution_count": null,
   "metadata": {},
   "outputs": [],
   "source": [
    "SPEAKER_FILE = ''\n",
    "GES_FILE = ''\n",
    "OUTPUT_FILE = ''\n",
    "FEEDBACK_FILE = ''"
   ]
  },
  {
   "cell_type": "code",
   "execution_count": null,
   "metadata": {},
   "outputs": [],
   "source": [
    "speaker_file_name = ctypes.c_char_p(str.encode(SPEAKER_FILE))\n",
    "gesture_file_name = ctypes.c_char_p(str.encode(GES_FILE))\n",
    "wav_file_name = ctypes.c_char_p(str.encode(OUTPUT_FILE))\n",
    "feedback_file_name = ctypes.c_char_p(str.encode(FEEDBACK_FILE))\n",
    "# generated wave\n",
    "failure = VTL.vtlGesToWav(speaker_file_name,  # input\n",
    "                          gesture_file_name,  # input\n",
    "                          wav_file_name,  # output\n",
    "                          feedback_file_name)  # output\n",
    "\t# keep tract of any failure\n",
    "\toutput.put(failure)"
   ]
  }
 ],
 "metadata": {
  "kernelspec": {
   "display_name": "Python 3",
   "language": "python",
   "name": "python3"
  },
  "language_info": {
   "codemirror_mode": {
    "name": "ipython",
    "version": 3
   },
   "file_extension": ".py",
   "mimetype": "text/x-python",
   "name": "python",
   "nbconvert_exporter": "python",
   "pygments_lexer": "ipython3",
   "version": "3.6.8"
  }
 },
 "nbformat": 4,
 "nbformat_minor": 2
}
