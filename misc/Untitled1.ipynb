{
 "cells": [
  {
   "cell_type": "code",
   "execution_count": 7,
   "metadata": {},
   "outputs": [],
   "source": []
  },
  {
   "cell_type": "code",
   "execution_count": 47,
   "metadata": {},
   "outputs": [],
   "source": [
    "import numpy as np\n",
    "import os\n",
    "import pandas as pd\n",
    "\n",
    "def load_file_csv(file):\n",
    "    '''\n",
    "    Load data from csv file.\n",
    "    '''\n",
    "    if os.path.exists(file):\n",
    "        param_set = pd.read_csv(file)\n",
    "        return param_set\n",
    "    else:\n",
    "        raise ValueError('File %s not found!'%file)\n",
    "\n",
    "\n",
    "def create_speaker_from_csv(file):\n",
    "    '''\n",
    "    create speaker file using simulated speaker vocaltract\n",
    "    '''\n",
    "    param_set = load_file_csv(file)\n",
    "    \n",
    "    syllable_labels = param_set['PARAM'].values\n",
    "    syllable_params = param_set.drop(['PARAM'], axis=1).values\n",
    "    param_names = [''.join(i for i in colname if not i.isdigit()) for colname in param_set.columns.values]\n",
    "    speaker_tail=open('resources/speaker_tail.txt','r').read() \n",
    "    speaker_head=open('resources/speaker_s0.speaker','r').read()  \n",
    "\n",
    "    f = open('test_param.speaker', 'w')\n",
    "    f.write(speaker_head)\n",
    "    # Loop through each parameter in the list\n",
    "    for idx, label in enumerate(syllable_labels):\n",
    "        f.write('<shape name=\"%s\">\\n'%(label))\n",
    "        for jdx, param in enumerate(syllable_params[idx]):\n",
    "            f.write('<param name=\"%s\" value=\"%.2f\"/>\\n'%(param_names[jdx],param))\n",
    "        f.write('</shape>\\n')\n",
    "    # Close with tail part of the speaker file\n",
    "    f.write(speaker_tail)\n",
    "    f.close()"
   ]
  },
  {
   "cell_type": "code",
   "execution_count": 48,
   "metadata": {},
   "outputs": [],
   "source": [
    "create_speaker_from_csv('../data_generator/templates/default_param_set5.csv')"
   ]
  },
  {
   "cell_type": "code",
   "execution_count": null,
   "metadata": {},
   "outputs": [],
   "source": []
  }
 ],
 "metadata": {
  "kernelspec": {
   "display_name": "Python 3",
   "language": "python",
   "name": "python3"
  },
  "language_info": {
   "codemirror_mode": {
    "name": "ipython",
    "version": 3
   },
   "file_extension": ".py",
   "mimetype": "text/x-python",
   "name": "python",
   "nbconvert_exporter": "python",
   "pygments_lexer": "ipython3",
   "version": "3.6.10"
  }
 },
 "nbformat": 4,
 "nbformat_minor": 4
}
