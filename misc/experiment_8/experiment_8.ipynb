{
 "cells": [
  {
   "cell_type": "markdown",
   "metadata": {},
   "source": [
    "# Experiment on AAI Model Architectures\n",
    "- Created: 10 Mar 2020\n",
    "- Data: param_draft2\n",
    "- Increase data size and change model architecture\n",
    "- Identity SE, between (cnn and bilstm) embedding feature \n",
    "- expeirment 18 19"
   ]
  },
  {
   "cell_type": "code",
   "execution_count": 1,
   "metadata": {},
   "outputs": [],
   "source": [
    "from __future__ import absolute_import, division, print_function, unicode_literals\n",
    "import numpy as np\n",
    "import pandas as pd\n",
    "import matplotlib.pyplot as plt\n",
    "import os\n",
    "from os.path import join\n",
    "import tensorflow as tf\n",
    "from tensorflow import keras\n",
    "\n",
    "from tensorflow.keras import models\n",
    "from tensorflow.keras import optimizers\n",
    "from tensorflow.keras import regularizers\n",
    "from tensorflow.keras import callbacks\n",
    "from time import time\n",
    "from datetime import datetime\n",
    "import shutil \n",
    "import argparse\n",
    "from functools import partial\n",
    "import pickle\n",
    "from IPython.display import Audio\n",
    "\n",
    "import tensorflow as tf\n",
    "from tensorflow import keras\n",
    "from tensorflow.keras import layers\n",
    "from tensorflow.keras import backend as K\n",
    "from tensorflow.keras import regularizers\n",
    "from tensorflow.keras.layers import Reshape, GRU, InputLayer, AlphaDropout, Activation, BatchNormalization, Dropout, Flatten, Dense, Bidirectional, LSTM, Conv1D, SpatialDropout1D, Concatenate, Multiply, Add\n",
    "\n",
    "from sklearn.model_selection import train_test_split\n",
    "from sklearn.metrics import classification_report, confusion_matrix\n",
    "from sklearn.preprocessing import OneHotEncoder"
   ]
  },
  {
   "cell_type": "code",
   "execution_count": 2,
   "metadata": {},
   "outputs": [],
   "source": [
    "np_load_old = partial(np.load)\n",
    "np.load = lambda *a,**k: np_load_old(*a, allow_pickle=True, **k)"
   ]
  },
  {
   "cell_type": "code",
   "execution_count": 3,
   "metadata": {},
   "outputs": [],
   "source": [
    "tf.random.set_seed(42)"
   ]
  },
  {
   "cell_type": "markdown",
   "metadata": {},
   "source": [
    "## Metric Function"
   ]
  },
  {
   "cell_type": "code",
   "execution_count": 4,
   "metadata": {},
   "outputs": [],
   "source": [
    "def rmse(y_true, y_pred):\n",
    "    return K.sqrt(K.mean(K.square(y_pred - y_true), axis=-1))\n",
    "\n",
    "def R2(y_true, y_pred):\n",
    "    SS_res =  K.sum(K.square(y_true - y_pred), axis = 0) \n",
    "    SS_tot = K.sum(K.square(y_true - K.mean(y_true, axis = 0)), axis = 0) \n",
    "    return K.mean(1 - (SS_res/SS_tot), axis=0)"
   ]
  },
  {
   "cell_type": "markdown",
   "metadata": {},
   "source": [
    "## Utility Functions"
   ]
  },
  {
   "cell_type": "code",
   "execution_count": 5,
   "metadata": {},
   "outputs": [],
   "source": [
    "#Function for preprocessing data\n",
    "def delete_params(params):\n",
    "    '''\n",
    "    This function remove JX, WC, TRX, TRY, and MS1,2,3 paramter\n",
    "    '''\n",
    "    DEL_PARAMS_LIST = [2,8,15,16,21,22,23]\n",
    "    return np.delete(params,DEL_PARAMS_LIST , axis=1)"
   ]
  },
  {
   "cell_type": "code",
   "execution_count": 6,
   "metadata": {},
   "outputs": [],
   "source": [
    "def compute_rmse(actual,pred, axis=1):\n",
    "    # Compute RMSE by row (axis=1) result in rmse of each data\n",
    "    # Compute RMSE by column (axis=0) result in rmse of each label\n",
    "    return np.sqrt((np.square(actual - pred)).mean(axis=axis))"
   ]
  },
  {
   "cell_type": "code",
   "execution_count": 7,
   "metadata": {},
   "outputs": [],
   "source": [
    "def evaluate_model(y_pred, label):\n",
    "    y_pred = enc.inverse_transform(y_pred)\n",
    "    label = enc.inverse_transform(label)\n",
    "#     print('Confusion Matrix')\n",
    "#     print(confusion_matrix(label, y_pred))\n",
    "    print('Classification Report')\n",
    "    print(classification_report(label, y_pred))"
   ]
  },
  {
   "cell_type": "code",
   "execution_count": 8,
   "metadata": {},
   "outputs": [],
   "source": [
    "def compute_se(actual,pred):\n",
    "    return np.sqrt((np.square(actual - pred)))"
   ]
  },
  {
   "cell_type": "markdown",
   "metadata": {},
   "source": [
    "## Load Data "
   ]
  },
  {
   "cell_type": "code",
   "execution_count": 9,
   "metadata": {},
   "outputs": [],
   "source": [
    "def prep_data():\n",
    "\n",
    "    # load data from preprocess pipeline\n",
    "    dataset = np.load(join('../../data/d_dataset_p2/prep_data_13','training_subsets.npz'))\n",
    "    X_train =dataset['X_train']\n",
    "    y_train= dataset['y_train']\n",
    "    z_train= dataset['z_train']\n",
    "    X_val = dataset['X_val']\n",
    "    y_val = dataset['y_val']\n",
    "    z_val = dataset['z_val']\n",
    "    X_test = dataset['X_test']\n",
    "    y_test = dataset['y_test']\n",
    "    z_test = dataset['z_test']\n",
    "    a_test = dataset['audio_test']\n",
    "    a_val = dataset['audio_val']\n",
    "    \n",
    "    y_train = delete_params(y_train)\n",
    "    y_val = delete_params(y_val)\n",
    "    y_test = delete_params(y_test)\n",
    "\n",
    "    print('Train features and labels %s %s'%(str(X_train.shape),str(y_train.shape)))\n",
    "    print('Validating features and labels %s %s'%(str(X_val.shape),str(y_val.shape)))\n",
    "    print('Test features and labels %s %s'%(str(X_test.shape),str(y_test.shape)))\n",
    "\n",
    "    return X_train, X_val, X_test, y_train, y_val, y_test, z_train, z_val, z_test, a_test, a_val"
   ]
  },
  {
   "cell_type": "code",
   "execution_count": 10,
   "metadata": {},
   "outputs": [
    {
     "name": "stdout",
     "output_type": "stream",
     "text": [
      "Train features and labels (76260, 24, 39) (76260, 17)\n",
      "Validating features and labels (9340, 24, 39) (9340, 17)\n",
      "Test features and labels (9338, 24, 39) (9338, 17)\n"
     ]
    }
   ],
   "source": [
    "X_train, X_val, X_test, y_train, y_val, y_test, z_train, z_val, z_test, a_test, a_val = prep_data()"
   ]
  },
  {
   "cell_type": "code",
   "execution_count": 11,
   "metadata": {},
   "outputs": [
    {
     "name": "stdout",
     "output_type": "stream",
     "text": [
      "{'E', 'O', 'y', 'E:', '9', 'a', '2', 'e', 'i', 'u', 'o', '@', 'A', 'U'}\n"
     ]
    }
   ],
   "source": [
    "print(set(z_test))"
   ]
  },
  {
   "cell_type": "code",
   "execution_count": 12,
   "metadata": {},
   "outputs": [
    {
     "name": "stdout",
     "output_type": "stream",
     "text": [
      "Train features and labels (76260, 24, 39) (76260, 17) (76260,)\n",
      "Validating features and labels (9340, 24, 39) (9340, 17) (9340,)\n",
      "Test features and labels (9338, 24, 39) (9338, 17) (9338,)\n"
     ]
    }
   ],
   "source": [
    "print('Train features and labels {} {} {}'.format(str(X_train.shape),str(y_train.shape),str(z_train.shape)))\n",
    "print('Validating features and labels {} {} {}'.format(str(X_val.shape),str(y_val.shape),str(z_val.shape)))\n",
    "print('Test features and labels {} {} {}'.format(str(X_test.shape),str(y_test.shape),str(z_test.shape)))"
   ]
  },
  {
   "cell_type": "markdown",
   "metadata": {},
   "source": [
    "### One-hot label "
   ]
  },
  {
   "cell_type": "code",
   "execution_count": 13,
   "metadata": {},
   "outputs": [],
   "source": [
    "z_train_oe=z_train.reshape(-1,1)\n",
    "z_val_oe=z_val.reshape(-1,1)\n",
    "z_test_oe=z_test.reshape(-1,1)\n",
    "\n",
    "enc = OneHotEncoder(handle_unknown = 'ignore')\n",
    "enc.fit(z_train_oe)\n",
    "\n",
    "z_train_oe = enc.transform(z_train_oe).toarray()\n",
    "z_test_oe = enc.transform(z_test_oe).toarray()\n",
    "z_val_oe = enc.transform(z_val_oe).toarray()"
   ]
  },
  {
   "cell_type": "markdown",
   "metadata": {},
   "source": [
    "## 1.) Train Baseline Model\n",
    "- Model without embedding feature"
   ]
  },
  {
   "cell_type": "markdown",
   "metadata": {},
   "source": [
    "### Defined Model without Embedded Feature"
   ]
  },
  {
   "cell_type": "code",
   "execution_count": 14,
   "metadata": {},
   "outputs": [],
   "source": [
    "N_OUTPUTS = 17\n",
    "\n",
    "pLSTM = partial(LSTM, kernel_initializer='he_uniform', return_sequences=True)\n",
    "pConv1D = partial(Conv1D, padding = 'same', activation = 'linear', kernel_initializer = 'he_uniform')\n",
    "\n",
    "def init_senet(feature_layer=1, cnn_unit=128, first_kernel=13, res_kernel=7,\n",
    "    bilstm = 1, bilstm_unit=256, \n",
    "    dropout_rate=0.3,\n",
    "    reduction_ratio = 2,\n",
    "    activation_fn='relu'):\n",
    "\n",
    "\n",
    "    def cnn_block(input_x, cnn_unit, kernel_size):\n",
    "        x = pConv1D(cnn_unit, kernel_size=kernel_size)(input_x)\n",
    "        x = BatchNormalization()(x)\n",
    "        x = Activation(activation_fn)(x)\n",
    "        return x\n",
    "    \n",
    "    def residual_block(input_x):\n",
    "        x = pConv1D(cnn_unit, kernel_size=res_kernel)(input_x)\n",
    "        x = BatchNormalization()(x)\n",
    "        x = Activation(activation_fn)(x)\n",
    "        x = pConv1D(cnn_unit, kernel_size=5)(x)\n",
    "        return x\n",
    "\n",
    "    def se_block(input_x):\n",
    "        x = layers.GlobalAveragePooling1D()(input_x)\n",
    "        channel_shape = getattr(x, '_shape_val')[-1]\n",
    "        x = Reshape((1, channel_shape))(x)\n",
    "        x = Dense(channel_shape // reduction_ratio, activation=activation_fn, kernel_initializer='he_uniform')(x)\n",
    "        x = Dense(channel_shape, activation='tanh', kernel_initializer='he_uniform')(x)\n",
    "        x = layers.Multiply()([x, input_x])\n",
    "        return x\n",
    "\n",
    "    def se_res_block(input_x):\n",
    "        se_x = se_block(input_x)\n",
    "        re_x = residual_block(se_x)\n",
    "        x = keras.layers.Add()([re_x, input_x])\n",
    "        x = BatchNormalization()(x)\n",
    "        output = Activation(activation_fn)(x)\n",
    "        return x\n",
    "\n",
    "    def senet_nn(input_shape_1,input_shape_2):\n",
    "\n",
    "        input_x = keras.Input(shape=(input_shape_1,input_shape_2))\n",
    "        x = cnn_block(input_x, cnn_unit, first_kernel)\n",
    "        for i in range(feature_layer):\n",
    "            x = se_res_block(x)\n",
    "        x = SpatialDropout1D(rate=dropout_rate)(x)\n",
    "        for i in range(feature_layer):\n",
    "            x = se_res_block(x)\n",
    "            x = SpatialDropout1D(rate=dropout_rate)(x)\n",
    "        for i in range(bilstm-1):\n",
    "            x = Bidirectional(pLSTM(bilstm_unit))(x)\n",
    "            x = SpatialDropout1D(rate=dropout_rate)(x)\n",
    "        x = Bidirectional(pLSTM(bilstm_unit, return_sequences=False))(x)\n",
    "        x = Dropout(rate=dropout_rate)(x)\n",
    "        outputs = Dense(N_OUTPUTS, activation='linear', kernel_initializer='he_uniform')(x)\n",
    "        model = keras.Model(inputs=input_x, outputs=outputs)\n",
    "        return model\n",
    "\n",
    "    return senet_nn"
   ]
  },
  {
   "cell_type": "code",
   "execution_count": 15,
   "metadata": {},
   "outputs": [],
   "source": [
    "model = init_senet()(24, 39)"
   ]
  },
  {
   "cell_type": "code",
   "execution_count": 16,
   "metadata": {},
   "outputs": [
    {
     "name": "stdout",
     "output_type": "stream",
     "text": [
      "Model: \"model\"\n",
      "__________________________________________________________________________________________________\n",
      "Layer (type)                    Output Shape         Param #     Connected to                     \n",
      "==================================================================================================\n",
      "input_1 (InputLayer)            [(None, 24, 39)]     0                                            \n",
      "__________________________________________________________________________________________________\n",
      "conv1d (Conv1D)                 (None, 24, 128)      65024       input_1[0][0]                    \n",
      "__________________________________________________________________________________________________\n",
      "batch_normalization (BatchNorma (None, 24, 128)      512         conv1d[0][0]                     \n",
      "__________________________________________________________________________________________________\n",
      "activation (Activation)         (None, 24, 128)      0           batch_normalization[0][0]        \n",
      "__________________________________________________________________________________________________\n",
      "global_average_pooling1d (Globa (None, 128)          0           activation[0][0]                 \n",
      "__________________________________________________________________________________________________\n",
      "reshape (Reshape)               (None, 1, 128)       0           global_average_pooling1d[0][0]   \n",
      "__________________________________________________________________________________________________\n",
      "dense (Dense)                   (None, 1, 64)        8256        reshape[0][0]                    \n",
      "__________________________________________________________________________________________________\n",
      "dense_1 (Dense)                 (None, 1, 128)       8320        dense[0][0]                      \n",
      "__________________________________________________________________________________________________\n",
      "multiply (Multiply)             (None, 24, 128)      0           dense_1[0][0]                    \n",
      "                                                                 activation[0][0]                 \n",
      "__________________________________________________________________________________________________\n",
      "conv1d_1 (Conv1D)               (None, 24, 128)      114816      multiply[0][0]                   \n",
      "__________________________________________________________________________________________________\n",
      "batch_normalization_1 (BatchNor (None, 24, 128)      512         conv1d_1[0][0]                   \n",
      "__________________________________________________________________________________________________\n",
      "activation_1 (Activation)       (None, 24, 128)      0           batch_normalization_1[0][0]      \n",
      "__________________________________________________________________________________________________\n",
      "conv1d_2 (Conv1D)               (None, 24, 128)      82048       activation_1[0][0]               \n",
      "__________________________________________________________________________________________________\n",
      "add (Add)                       (None, 24, 128)      0           conv1d_2[0][0]                   \n",
      "                                                                 activation[0][0]                 \n",
      "__________________________________________________________________________________________________\n",
      "batch_normalization_2 (BatchNor (None, 24, 128)      512         add[0][0]                        \n",
      "__________________________________________________________________________________________________\n",
      "spatial_dropout1d (SpatialDropo (None, 24, 128)      0           batch_normalization_2[0][0]      \n",
      "__________________________________________________________________________________________________\n",
      "global_average_pooling1d_1 (Glo (None, 128)          0           spatial_dropout1d[0][0]          \n",
      "__________________________________________________________________________________________________\n",
      "reshape_1 (Reshape)             (None, 1, 128)       0           global_average_pooling1d_1[0][0] \n",
      "__________________________________________________________________________________________________\n",
      "dense_2 (Dense)                 (None, 1, 64)        8256        reshape_1[0][0]                  \n",
      "__________________________________________________________________________________________________\n",
      "dense_3 (Dense)                 (None, 1, 128)       8320        dense_2[0][0]                    \n",
      "__________________________________________________________________________________________________\n",
      "multiply_1 (Multiply)           (None, 24, 128)      0           dense_3[0][0]                    \n",
      "                                                                 spatial_dropout1d[0][0]          \n",
      "__________________________________________________________________________________________________\n",
      "conv1d_3 (Conv1D)               (None, 24, 128)      114816      multiply_1[0][0]                 \n",
      "__________________________________________________________________________________________________\n",
      "batch_normalization_3 (BatchNor (None, 24, 128)      512         conv1d_3[0][0]                   \n",
      "__________________________________________________________________________________________________\n",
      "activation_3 (Activation)       (None, 24, 128)      0           batch_normalization_3[0][0]      \n",
      "__________________________________________________________________________________________________\n",
      "conv1d_4 (Conv1D)               (None, 24, 128)      82048       activation_3[0][0]               \n",
      "__________________________________________________________________________________________________\n",
      "add_1 (Add)                     (None, 24, 128)      0           conv1d_4[0][0]                   \n",
      "                                                                 spatial_dropout1d[0][0]          \n",
      "__________________________________________________________________________________________________\n",
      "batch_normalization_4 (BatchNor (None, 24, 128)      512         add_1[0][0]                      \n",
      "__________________________________________________________________________________________________\n",
      "spatial_dropout1d_1 (SpatialDro (None, 24, 128)      0           batch_normalization_4[0][0]      \n",
      "__________________________________________________________________________________________________\n",
      "bidirectional (Bidirectional)   (None, 512)          788480      spatial_dropout1d_1[0][0]        \n",
      "__________________________________________________________________________________________________\n",
      "dropout (Dropout)               (None, 512)          0           bidirectional[0][0]              \n",
      "__________________________________________________________________________________________________\n",
      "dense_4 (Dense)                 (None, 17)           8721        dropout[0][0]                    \n",
      "==================================================================================================\n",
      "Total params: 1,291,665\n",
      "Trainable params: 1,290,385\n",
      "Non-trainable params: 1,280\n",
      "__________________________________________________________________________________________________\n"
     ]
    }
   ],
   "source": [
    "model.summary()"
   ]
  },
  {
   "cell_type": "markdown",
   "metadata": {},
   "source": [
    "### Compile Model "
   ]
  },
  {
   "cell_type": "code",
   "execution_count": 17,
   "metadata": {},
   "outputs": [],
   "source": [
    "model.compile(optimizer='adam',loss='mse',metrics=[rmse, R2])"
   ]
  },
  {
   "cell_type": "markdown",
   "metadata": {},
   "source": [
    "### Train Model "
   ]
  },
  {
   "cell_type": "code",
   "execution_count": 18,
   "metadata": {},
   "outputs": [],
   "source": [
    "PATIENCE = 10\n",
    "BATCH_SIZE = 128\n",
    "EPOCHS = 100\n",
    "\n",
    "early = callbacks.EarlyStopping(monitor='val_loss', min_delta=0, patience=PATIENCE, verbose=1, mode='min', baseline=None, restore_best_weights=False)\n",
    "callback_list = [early]"
   ]
  },
  {
   "cell_type": "code",
   "execution_count": 19,
   "metadata": {},
   "outputs": [
    {
     "name": "stdout",
     "output_type": "stream",
     "text": [
      "Train on 76260 samples, validate on 9340 samples\n",
      "Epoch 1/100\n",
      "76260/76260 [==============================] - 24s 312us/sample - loss: 0.0865 - rmse: 0.2693 - R2: 0.6465 - val_loss: 0.0348 - val_rmse: 0.1712 - val_R2: 0.8588\n",
      "Epoch 2/100\n",
      "76260/76260 [==============================] - 15s 192us/sample - loss: 0.0494 - rmse: 0.2043 - R2: 0.7994 - val_loss: 0.0298 - val_rmse: 0.1583 - val_R2: 0.8787\n",
      "Epoch 3/100\n",
      "76260/76260 [==============================] - 15s 192us/sample - loss: 0.0439 - rmse: 0.1914 - R2: 0.8219 - val_loss: 0.0296 - val_rmse: 0.1561 - val_R2: 0.8801\n",
      "Epoch 4/100\n",
      "76260/76260 [==============================] - 15s 191us/sample - loss: 0.0412 - rmse: 0.1849 - R2: 0.8327 - val_loss: 0.0297 - val_rmse: 0.1559 - val_R2: 0.8787\n",
      "Epoch 5/100\n",
      "76260/76260 [==============================] - 15s 193us/sample - loss: 0.0390 - rmse: 0.1799 - R2: 0.8418 - val_loss: 0.0263 - val_rmse: 0.1483 - val_R2: 0.8929\n",
      "Epoch 6/100\n",
      "76260/76260 [==============================] - 15s 192us/sample - loss: 0.0377 - rmse: 0.1765 - R2: 0.8469 - val_loss: 0.0281 - val_rmse: 0.1522 - val_R2: 0.8848\n",
      "Epoch 7/100\n",
      "76260/76260 [==============================] - 15s 195us/sample - loss: 0.0363 - rmse: 0.1734 - R2: 0.8525 - val_loss: 0.0262 - val_rmse: 0.1479 - val_R2: 0.8929\n",
      "Epoch 8/100\n",
      "76260/76260 [==============================] - 15s 192us/sample - loss: 0.0352 - rmse: 0.1705 - R2: 0.8571 - val_loss: 0.0254 - val_rmse: 0.1453 - val_R2: 0.8963\n",
      "Epoch 9/100\n",
      "76260/76260 [==============================] - 15s 193us/sample - loss: 0.0341 - rmse: 0.1681 - R2: 0.8612 - val_loss: 0.0262 - val_rmse: 0.1475 - val_R2: 0.8928\n",
      "Epoch 10/100\n",
      "76260/76260 [==============================] - 15s 192us/sample - loss: 0.0339 - rmse: 0.1673 - R2: 0.8623 - val_loss: 0.0246 - val_rmse: 0.1428 - val_R2: 0.8990\n",
      "Epoch 11/100\n",
      "76260/76260 [==============================] - 15s 193us/sample - loss: 0.0328 - rmse: 0.1648 - R2: 0.8667 - val_loss: 0.0255 - val_rmse: 0.1451 - val_R2: 0.8956\n",
      "Epoch 12/100\n",
      "76260/76260 [==============================] - 15s 192us/sample - loss: 0.0322 - rmse: 0.1632 - R2: 0.8694 - val_loss: 0.0248 - val_rmse: 0.1427 - val_R2: 0.8990\n",
      "Epoch 13/100\n",
      "76260/76260 [==============================] - 15s 192us/sample - loss: 0.0317 - rmse: 0.1619 - R2: 0.8711 - val_loss: 0.0251 - val_rmse: 0.1435 - val_R2: 0.8978\n",
      "Epoch 14/100\n",
      "76260/76260 [==============================] - 15s 192us/sample - loss: 0.0311 - rmse: 0.1605 - R2: 0.8735 - val_loss: 0.0240 - val_rmse: 0.1409 - val_R2: 0.9017\n",
      "Epoch 15/100\n",
      "76260/76260 [==============================] - 15s 193us/sample - loss: 0.0309 - rmse: 0.1599 - R2: 0.8745 - val_loss: 0.0250 - val_rmse: 0.1430 - val_R2: 0.8972\n",
      "Epoch 16/100\n",
      "76260/76260 [==============================] - 15s 193us/sample - loss: 0.0302 - rmse: 0.1582 - R2: 0.8773 - val_loss: 0.0239 - val_rmse: 0.1393 - val_R2: 0.9024\n",
      "Epoch 17/100\n",
      "76260/76260 [==============================] - 14s 190us/sample - loss: 0.0297 - rmse: 0.1571 - R2: 0.8792 - val_loss: 0.0237 - val_rmse: 0.1399 - val_R2: 0.9030\n",
      "Epoch 18/100\n",
      "76260/76260 [==============================] - 15s 191us/sample - loss: 0.0295 - rmse: 0.1563 - R2: 0.8803 - val_loss: 0.0241 - val_rmse: 0.1405 - val_R2: 0.9013\n",
      "Epoch 19/100\n",
      "76260/76260 [==============================] - 14s 190us/sample - loss: 0.0290 - rmse: 0.1552 - R2: 0.8823 - val_loss: 0.0231 - val_rmse: 0.1380 - val_R2: 0.9054\n",
      "Epoch 20/100\n",
      "76260/76260 [==============================] - 15s 191us/sample - loss: 0.0286 - rmse: 0.1543 - R2: 0.8836 - val_loss: 0.0242 - val_rmse: 0.1409 - val_R2: 0.9016\n",
      "Epoch 21/100\n",
      "76260/76260 [==============================] - 15s 191us/sample - loss: 0.0284 - rmse: 0.1537 - R2: 0.8847 - val_loss: 0.0226 - val_rmse: 0.1358 - val_R2: 0.9073\n",
      "Epoch 22/100\n",
      "76260/76260 [==============================] - 15s 193us/sample - loss: 0.0281 - rmse: 0.1528 - R2: 0.8861 - val_loss: 0.0230 - val_rmse: 0.1373 - val_R2: 0.9061\n",
      "Epoch 23/100\n",
      "76260/76260 [==============================] - 15s 192us/sample - loss: 0.0275 - rmse: 0.1515 - R2: 0.8884 - val_loss: 0.0239 - val_rmse: 0.1384 - val_R2: 0.9022\n",
      "Epoch 24/100\n",
      "76260/76260 [==============================] - 15s 191us/sample - loss: 0.0275 - rmse: 0.1515 - R2: 0.8884 - val_loss: 0.0228 - val_rmse: 0.1360 - val_R2: 0.9069\n",
      "Epoch 25/100\n",
      "76260/76260 [==============================] - 15s 190us/sample - loss: 0.0272 - rmse: 0.1507 - R2: 0.8894 - val_loss: 0.0235 - val_rmse: 0.1375 - val_R2: 0.9030\n",
      "Epoch 26/100\n",
      "76260/76260 [==============================] - 15s 191us/sample - loss: 0.0270 - rmse: 0.1501 - R2: 0.8903 - val_loss: 0.0227 - val_rmse: 0.1356 - val_R2: 0.9070\n",
      "Epoch 27/100\n",
      "76260/76260 [==============================] - 15s 191us/sample - loss: 0.0266 - rmse: 0.1492 - R2: 0.8921 - val_loss: 0.0221 - val_rmse: 0.1342 - val_R2: 0.9096\n",
      "Epoch 28/100\n",
      "76260/76260 [==============================] - 15s 191us/sample - loss: 0.0264 - rmse: 0.1486 - R2: 0.8930 - val_loss: 0.0234 - val_rmse: 0.1363 - val_R2: 0.9041\n",
      "Epoch 29/100\n",
      "76260/76260 [==============================] - 15s 191us/sample - loss: 0.0263 - rmse: 0.1483 - R2: 0.8934 - val_loss: 0.0231 - val_rmse: 0.1362 - val_R2: 0.9053\n",
      "Epoch 30/100\n",
      "76260/76260 [==============================] - 15s 191us/sample - loss: 0.0259 - rmse: 0.1476 - R2: 0.8947 - val_loss: 0.0232 - val_rmse: 0.1365 - val_R2: 0.9049\n",
      "Epoch 31/100\n",
      "76260/76260 [==============================] - 15s 190us/sample - loss: 0.0260 - rmse: 0.1475 - R2: 0.8945 - val_loss: 0.0223 - val_rmse: 0.1341 - val_R2: 0.9087\n",
      "Epoch 32/100\n",
      "76260/76260 [==============================] - 15s 191us/sample - loss: 0.0256 - rmse: 0.1465 - R2: 0.8963 - val_loss: 0.0222 - val_rmse: 0.1339 - val_R2: 0.9085\n",
      "Epoch 33/100\n",
      "76260/76260 [==============================] - 15s 191us/sample - loss: 0.0255 - rmse: 0.1462 - R2: 0.8965 - val_loss: 0.0222 - val_rmse: 0.1333 - val_R2: 0.9085\n",
      "Epoch 34/100\n",
      "76260/76260 [==============================] - 15s 192us/sample - loss: 0.0252 - rmse: 0.1456 - R2: 0.8978 - val_loss: 0.0223 - val_rmse: 0.1345 - val_R2: 0.9086\n",
      "Epoch 35/100\n",
      "76260/76260 [==============================] - 15s 191us/sample - loss: 0.0251 - rmse: 0.1454 - R2: 0.8979 - val_loss: 0.0226 - val_rmse: 0.1340 - val_R2: 0.9075\n",
      "Epoch 36/100\n",
      "76260/76260 [==============================] - 15s 192us/sample - loss: 0.0250 - rmse: 0.1451 - R2: 0.8985 - val_loss: 0.0224 - val_rmse: 0.1342 - val_R2: 0.9082\n",
      "Epoch 37/100\n",
      "76260/76260 [==============================] - 15s 194us/sample - loss: 0.0246 - rmse: 0.1441 - R2: 0.9002 - val_loss: 0.0212 - val_rmse: 0.1315 - val_R2: 0.9137\n",
      "Epoch 38/100\n",
      "76260/76260 [==============================] - 15s 193us/sample - loss: 0.0244 - rmse: 0.1437 - R2: 0.9010 - val_loss: 0.0219 - val_rmse: 0.1325 - val_R2: 0.9099\n",
      "Epoch 39/100\n",
      "76260/76260 [==============================] - 15s 192us/sample - loss: 0.0245 - rmse: 0.1438 - R2: 0.9005 - val_loss: 0.0216 - val_rmse: 0.1323 - val_R2: 0.9110\n",
      "Epoch 40/100\n",
      "76260/76260 [==============================] - 15s 192us/sample - loss: 0.0242 - rmse: 0.1430 - R2: 0.9021 - val_loss: 0.0233 - val_rmse: 0.1356 - val_R2: 0.9042\n",
      "Epoch 41/100\n",
      "76260/76260 [==============================] - 15s 192us/sample - loss: 0.0241 - rmse: 0.1428 - R2: 0.9022 - val_loss: 0.0223 - val_rmse: 0.1333 - val_R2: 0.9083\n",
      "Epoch 42/100\n",
      "76260/76260 [==============================] - 15s 191us/sample - loss: 0.0240 - rmse: 0.1425 - R2: 0.9026 - val_loss: 0.0224 - val_rmse: 0.1334 - val_R2: 0.9078\n",
      "Epoch 43/100\n",
      "76260/76260 [==============================] - 15s 192us/sample - loss: 0.0239 - rmse: 0.1422 - R2: 0.9030 - val_loss: 0.0219 - val_rmse: 0.1318 - val_R2: 0.9100\n",
      "Epoch 44/100\n",
      "76260/76260 [==============================] - 15s 193us/sample - loss: 0.0239 - rmse: 0.1420 - R2: 0.9032 - val_loss: 0.0220 - val_rmse: 0.1325 - val_R2: 0.9092\n",
      "Epoch 45/100\n",
      "76260/76260 [==============================] - 15s 192us/sample - loss: 0.0237 - rmse: 0.1416 - R2: 0.9040 - val_loss: 0.0223 - val_rmse: 0.1327 - val_R2: 0.9084\n",
      "Epoch 46/100\n",
      "76260/76260 [==============================] - 15s 192us/sample - loss: 0.0232 - rmse: 0.1405 - R2: 0.9060 - val_loss: 0.0219 - val_rmse: 0.1316 - val_R2: 0.9095\n",
      "Epoch 47/100\n",
      "76260/76260 [==============================] - 15s 192us/sample - loss: 0.0231 - rmse: 0.1401 - R2: 0.9065 - val_loss: 0.0217 - val_rmse: 0.1310 - val_R2: 0.9113\n",
      "Epoch 00047: early stopping\n"
     ]
    }
   ],
   "source": [
    "history = model.fit(X_train,y_train,\n",
    "    batch_size=BATCH_SIZE,\n",
    "    epochs=EPOCHS,\n",
    "    validation_data=(X_val,y_val),\n",
    "    callbacks=callback_list)"
   ]
  },
  {
   "cell_type": "code",
   "execution_count": 20,
   "metadata": {},
   "outputs": [],
   "source": [
    "model.save('model_baseline.hdf5')"
   ]
  },
  {
   "cell_type": "markdown",
   "metadata": {},
   "source": [
    "### Evaluation "
   ]
  },
  {
   "cell_type": "code",
   "execution_count": 21,
   "metadata": {},
   "outputs": [
    {
     "data": {
      "text/plain": [
       "[0.021333456100466344, 0.13107087, 0.9068755]"
      ]
     },
     "execution_count": 21,
     "metadata": {},
     "output_type": "execute_result"
    }
   ],
   "source": [
    "model.evaluate(X_test,y_test,verbose=0)"
   ]
  },
  {
   "cell_type": "code",
   "execution_count": 22,
   "metadata": {},
   "outputs": [],
   "source": [
    "y_pred = model.predict(X_test)"
   ]
  },
  {
   "cell_type": "code",
   "execution_count": 23,
   "metadata": {},
   "outputs": [],
   "source": [
    "err = compute_rmse(y_test,y_pred, axis=0)"
   ]
  },
  {
   "cell_type": "code",
   "execution_count": 24,
   "metadata": {},
   "outputs": [
    {
     "name": "stdout",
     "output_type": "stream",
     "text": [
      "[0.14802968 0.1238302  0.11760226 0.13537583 0.14616304 0.18171417\n",
      " 0.1972374  0.09663979 0.10550494 0.14068942 0.1553495  0.13189059\n",
      " 0.13570785 0.18416007 0.14786757 0.14296236 0.15346536]\n"
     ]
    }
   ],
   "source": [
    "print(err)"
   ]
  },
  {
   "cell_type": "markdown",
   "metadata": {},
   "source": [
    "## 2.) Model with (Between) Embedding Feature  "
   ]
  },
  {
   "cell_type": "markdown",
   "metadata": {},
   "source": [
    "### Defined (Between) Embedding Model"
   ]
  },
  {
   "cell_type": "code",
   "execution_count": 25,
   "metadata": {},
   "outputs": [],
   "source": [
    "PHONETIC_OUTPUT = len(set(z_train))\n",
    "EMBEDDED_FEATURE = 128\n",
    "\n",
    "pLSTM = partial(LSTM, kernel_initializer='he_uniform', return_sequences=True)\n",
    "\n",
    "def embeded_model(input_shape_1,input_shape_2):\n",
    "    inputs = keras.Input(shape=(input_shape_1,input_shape_2))\n",
    "    x = pLSTM(EMBEDDED_FEATURE)(inputs)\n",
    "    x = Flatten()(x)\n",
    "    outputs = Dense(PHONETIC_OUTPUT, activation='softmax', kernel_initializer='he_uniform')(x)\n",
    "    return keras.Model(inputs=inputs, outputs=outputs)"
   ]
  },
  {
   "cell_type": "code",
   "execution_count": 26,
   "metadata": {},
   "outputs": [
    {
     "name": "stdout",
     "output_type": "stream",
     "text": [
      "Model: \"model_1\"\n",
      "_________________________________________________________________\n",
      "Layer (type)                 Output Shape              Param #   \n",
      "=================================================================\n",
      "input_2 (InputLayer)         [(None, 24, 39)]          0         \n",
      "_________________________________________________________________\n",
      "lstm_1 (LSTM)                (None, 24, 128)           86016     \n",
      "_________________________________________________________________\n",
      "flatten (Flatten)            (None, 3072)              0         \n",
      "_________________________________________________________________\n",
      "dense_5 (Dense)              (None, 14)                43022     \n",
      "=================================================================\n",
      "Total params: 129,038\n",
      "Trainable params: 129,038\n",
      "Non-trainable params: 0\n",
      "_________________________________________________________________\n"
     ]
    }
   ],
   "source": [
    "embedded = embeded_model(24, 39)\n",
    "embedded.summary()"
   ]
  },
  {
   "cell_type": "markdown",
   "metadata": {},
   "source": [
    "### Compile Model "
   ]
  },
  {
   "cell_type": "code",
   "execution_count": 27,
   "metadata": {},
   "outputs": [],
   "source": [
    "embedded.compile(optimizer='adam',loss=tf.keras.losses.CategoricalCrossentropy(from_logits=True),metrics=['accuracy'])"
   ]
  },
  {
   "cell_type": "markdown",
   "metadata": {},
   "source": [
    "### Train Model "
   ]
  },
  {
   "cell_type": "code",
   "execution_count": 28,
   "metadata": {},
   "outputs": [],
   "source": [
    "PATIENCE = 10\n",
    "BATCH_SIZE = 128\n",
    "EPOCHS = 100\n",
    "\n",
    "early = callbacks.EarlyStopping(monitor='val_loss', min_delta=0, patience=PATIENCE, verbose=1, mode='min', baseline=None, restore_best_weights=False)\n",
    "callback_list = [early]"
   ]
  },
  {
   "cell_type": "code",
   "execution_count": 29,
   "metadata": {},
   "outputs": [
    {
     "name": "stdout",
     "output_type": "stream",
     "text": [
      "Train on 76260 samples, validate on 9340 samples\n",
      "Epoch 1/100\n",
      "76260/76260 - 6s - loss: 1.9345 - accuracy: 0.8369 - val_loss: 1.8428 - val_accuracy: 0.9164\n",
      "Epoch 2/100\n",
      "76260/76260 - 3s - loss: 1.8546 - accuracy: 0.9050 - val_loss: 1.8327 - val_accuracy: 0.9243\n",
      "Epoch 3/100\n",
      "76260/76260 - 3s - loss: 1.8370 - accuracy: 0.9209 - val_loss: 1.8195 - val_accuracy: 0.9375\n",
      "Epoch 4/100\n",
      "76260/76260 - 3s - loss: 1.8255 - accuracy: 0.9323 - val_loss: 1.8175 - val_accuracy: 0.9394\n",
      "Epoch 5/100\n",
      "76260/76260 - 3s - loss: 1.8183 - accuracy: 0.9389 - val_loss: 1.8141 - val_accuracy: 0.9422\n",
      "Epoch 6/100\n",
      "76260/76260 - 3s - loss: 1.8135 - accuracy: 0.9427 - val_loss: 1.8163 - val_accuracy: 0.9394\n",
      "Epoch 7/100\n",
      "76260/76260 - 3s - loss: 1.8091 - accuracy: 0.9475 - val_loss: 1.8134 - val_accuracy: 0.9429\n",
      "Epoch 8/100\n",
      "76260/76260 - 3s - loss: 1.8056 - accuracy: 0.9507 - val_loss: 1.8210 - val_accuracy: 0.9345\n",
      "Epoch 9/100\n",
      "76260/76260 - 3s - loss: 1.8022 - accuracy: 0.9545 - val_loss: 1.8110 - val_accuracy: 0.9441\n",
      "Epoch 10/100\n",
      "76260/76260 - 3s - loss: 1.7992 - accuracy: 0.9569 - val_loss: 1.8149 - val_accuracy: 0.9405\n",
      "Epoch 11/100\n",
      "76260/76260 - 3s - loss: 1.7970 - accuracy: 0.9592 - val_loss: 1.8098 - val_accuracy: 0.9460\n",
      "Epoch 12/100\n",
      "76260/76260 - 3s - loss: 1.7952 - accuracy: 0.9607 - val_loss: 1.8099 - val_accuracy: 0.9445\n",
      "Epoch 13/100\n",
      "76260/76260 - 3s - loss: 1.7948 - accuracy: 0.9609 - val_loss: 1.8102 - val_accuracy: 0.9453\n",
      "Epoch 14/100\n",
      "76260/76260 - 3s - loss: 1.7917 - accuracy: 0.9642 - val_loss: 1.8094 - val_accuracy: 0.9459\n",
      "Epoch 15/100\n",
      "76260/76260 - 3s - loss: 1.7905 - accuracy: 0.9655 - val_loss: 1.8073 - val_accuracy: 0.9478\n",
      "Epoch 16/100\n",
      "76260/76260 - 3s - loss: 1.7885 - accuracy: 0.9668 - val_loss: 1.8184 - val_accuracy: 0.9372\n",
      "Epoch 17/100\n",
      "76260/76260 - 3s - loss: 1.7886 - accuracy: 0.9672 - val_loss: 1.8120 - val_accuracy: 0.9442\n",
      "Epoch 18/100\n",
      "76260/76260 - 3s - loss: 1.7874 - accuracy: 0.9682 - val_loss: 1.8111 - val_accuracy: 0.9446\n",
      "Epoch 19/100\n",
      "76260/76260 - 3s - loss: 1.7863 - accuracy: 0.9694 - val_loss: 1.8146 - val_accuracy: 0.9410\n",
      "Epoch 20/100\n",
      "76260/76260 - 3s - loss: 1.7860 - accuracy: 0.9694 - val_loss: 1.8089 - val_accuracy: 0.9460\n",
      "Epoch 21/100\n",
      "76260/76260 - 3s - loss: 1.7844 - accuracy: 0.9712 - val_loss: 1.8057 - val_accuracy: 0.9495\n",
      "Epoch 22/100\n",
      "76260/76260 - 3s - loss: 1.7835 - accuracy: 0.9719 - val_loss: 1.8066 - val_accuracy: 0.9479\n",
      "Epoch 23/100\n",
      "76260/76260 - 3s - loss: 1.7828 - accuracy: 0.9728 - val_loss: 1.8090 - val_accuracy: 0.9464\n",
      "Epoch 24/100\n",
      "76260/76260 - 3s - loss: 1.7818 - accuracy: 0.9735 - val_loss: 1.8057 - val_accuracy: 0.9498\n",
      "Epoch 25/100\n",
      "76260/76260 - 3s - loss: 1.7808 - accuracy: 0.9745 - val_loss: 1.8124 - val_accuracy: 0.9425\n",
      "Epoch 26/100\n",
      "76260/76260 - 3s - loss: 1.7813 - accuracy: 0.9742 - val_loss: 1.8093 - val_accuracy: 0.9450\n",
      "Epoch 27/100\n",
      "76260/76260 - 3s - loss: 1.7803 - accuracy: 0.9751 - val_loss: 1.8082 - val_accuracy: 0.9467\n",
      "Epoch 28/100\n",
      "76260/76260 - 3s - loss: 1.7796 - accuracy: 0.9758 - val_loss: 1.8121 - val_accuracy: 0.9427\n",
      "Epoch 29/100\n",
      "76260/76260 - 3s - loss: 1.7808 - accuracy: 0.9745 - val_loss: 1.8061 - val_accuracy: 0.9490\n",
      "Epoch 30/100\n",
      "76260/76260 - 3s - loss: 1.7799 - accuracy: 0.9754 - val_loss: 1.8114 - val_accuracy: 0.9439\n",
      "Epoch 31/100\n",
      "76260/76260 - 3s - loss: 1.7785 - accuracy: 0.9768 - val_loss: 1.8103 - val_accuracy: 0.9448\n",
      "Epoch 00031: early stopping\n"
     ]
    }
   ],
   "source": [
    "history = embedded.fit(X_train,z_train_oe,\n",
    "    batch_size=BATCH_SIZE,\n",
    "    epochs=EPOCHS,\n",
    "    verbose=2,\n",
    "    validation_data=(X_val,z_val_oe),\n",
    "    callbacks=callback_list)"
   ]
  },
  {
   "cell_type": "code",
   "execution_count": 30,
   "metadata": {},
   "outputs": [],
   "source": [
    "embedded.save('between_embedded.hdf5')"
   ]
  },
  {
   "cell_type": "code",
   "execution_count": 31,
   "metadata": {},
   "outputs": [
    {
     "name": "stdout",
     "output_type": "stream",
     "text": [
      "Classification Report\n",
      "              precision    recall  f1-score   support\n",
      "\n",
      "           2       0.95      0.98      0.96       701\n",
      "           9       0.97      0.98      0.98       688\n",
      "           @       0.98      0.96      0.97       635\n",
      "           A       0.94      0.95      0.95       645\n",
      "           E       0.94      0.95      0.94       697\n",
      "          E:       0.94      0.95      0.94       655\n",
      "           O       0.92      0.96      0.94       729\n",
      "           U       0.93      0.91      0.92       687\n",
      "           a       0.95      0.94      0.94       689\n",
      "           e       0.91      0.96      0.93       644\n",
      "           i       0.99      0.92      0.95       684\n",
      "           o       0.97      0.88      0.92       634\n",
      "           u       0.90      0.95      0.92       659\n",
      "           y       0.96      0.94      0.95       591\n",
      "\n",
      "    accuracy                           0.94      9338\n",
      "   macro avg       0.95      0.94      0.94      9338\n",
      "weighted avg       0.95      0.94      0.94      9338\n",
      "\n"
     ]
    }
   ],
   "source": [
    "z_pred = embedded.predict(X_test)\n",
    "evaluate_model(z_pred, z_test_oe)"
   ]
  },
  {
   "cell_type": "markdown",
   "metadata": {},
   "source": [
    "### Embedded input model"
   ]
  },
  {
   "cell_type": "code",
   "execution_count": 32,
   "metadata": {},
   "outputs": [
    {
     "name": "stdout",
     "output_type": "stream",
     "text": [
      "Model: \"sequential\"\n",
      "_________________________________________________________________\n",
      "Layer (type)                 Output Shape              Param #   \n",
      "=================================================================\n",
      "lstm_1 (LSTM)                (None, 24, 128)           86016     \n",
      "=================================================================\n",
      "Total params: 86,016\n",
      "Trainable params: 0\n",
      "Non-trainable params: 86,016\n",
      "_________________________________________________________________\n"
     ]
    }
   ],
   "source": [
    "# embedded = tf.keras.models.load_model('pre_embedded.hdf5')\n",
    "\n",
    "embedded_layers = tf.keras.Sequential()\n",
    "for layer in embedded.layers[:-2]:\n",
    "    layer.trainable = False\n",
    "    embedded_layers.add(layer)\n",
    "embedded_layers.summary()\n",
    "\n",
    "N_OUTPUTS = 17\n",
    "\n",
    "pLSTM = partial(LSTM, kernel_initializer='he_uniform', return_sequences=True)\n",
    "pConv1D = partial(Conv1D, padding = 'same', activation = 'linear', kernel_initializer = 'he_uniform')\n",
    "\n",
    "def init_senet_w_emb(feature_layer=1, cnn_unit=128, first_kernel=13, res_kernel=7,\n",
    "    bilstm = 1, bilstm_unit=256, \n",
    "    dropout_rate=0.3,\n",
    "    reduction_ratio = 2,\n",
    "    activation_fn='relu'):\n",
    "\n",
    "    def cnn_block(input_x, cnn_unit, kernel_size):\n",
    "        x = pConv1D(cnn_unit, kernel_size=kernel_size)(input_x)\n",
    "        x = BatchNormalization()(x)\n",
    "        x = Activation(activation_fn)(x)\n",
    "        return x\n",
    "    \n",
    "    def residual_block(input_x):\n",
    "        x = pConv1D(cnn_unit, kernel_size=res_kernel)(input_x)\n",
    "        x = BatchNormalization()(x)\n",
    "        x = Activation(activation_fn)(x)\n",
    "        x = pConv1D(cnn_unit, kernel_size=5)(x)\n",
    "        return x\n",
    "\n",
    "    def se_block(input_x):\n",
    "        x = layers.GlobalAveragePooling1D()(input_x)\n",
    "        channel_shape = getattr(x, '_shape_val')[-1]\n",
    "        x = Reshape((1, channel_shape))(x)\n",
    "        x = Dense(channel_shape // reduction_ratio, activation=activation_fn, kernel_initializer='he_uniform')(x)\n",
    "        x = Dense(channel_shape, activation='tanh', kernel_initializer='he_uniform')(x)\n",
    "        x = layers.Multiply()([x, input_x])\n",
    "        return x\n",
    "\n",
    "    def se_res_block(input_x):\n",
    "        se_x = se_block(input_x)\n",
    "        re_x = residual_block(se_x)\n",
    "        x = keras.layers.Add()([re_x, input_x])\n",
    "        x = BatchNormalization()(x)\n",
    "        output = Activation(activation_fn)(x)\n",
    "        return x\n",
    "\n",
    "    def senet_nn(input_shape_1,input_shape_2):\n",
    "\n",
    "        input_x = keras.Input(shape=(input_shape_1,input_shape_2))\n",
    "        x = cnn_block(input_x, cnn_unit, first_kernel)\n",
    "        for i in range(feature_layer):\n",
    "            x = se_res_block(x)\n",
    "        x = SpatialDropout1D(rate=dropout_rate)(x)\n",
    "        for i in range(feature_layer):\n",
    "            x = se_res_block(x)\n",
    "            x = SpatialDropout1D(rate=dropout_rate)(x)\n",
    "        # Embedded\n",
    "        embedded = embedded_layers(input_x)\n",
    "        x = layers.Concatenate()([x, embedded])\n",
    "        for i in range(bilstm-1):\n",
    "            x = Bidirectional(pLSTM(bilstm_unit))(x)\n",
    "            x = SpatialDropout1D(rate=dropout_rate)(x)\n",
    "        x = Bidirectional(pLSTM(bilstm_unit, return_sequences=False))(x)\n",
    "        x = Dropout(rate=dropout_rate)(x)\n",
    "        outputs = Dense(N_OUTPUTS, activation='linear', kernel_initializer='he_uniform')(x)\n",
    "        model = keras.Model(inputs=input_x, outputs=outputs)\n",
    "        return model\n",
    "\n",
    "    return senet_nn"
   ]
  },
  {
   "cell_type": "code",
   "execution_count": 33,
   "metadata": {},
   "outputs": [
    {
     "name": "stdout",
     "output_type": "stream",
     "text": [
      "Model: \"model_2\"\n",
      "__________________________________________________________________________________________________\n",
      "Layer (type)                    Output Shape         Param #     Connected to                     \n",
      "==================================================================================================\n",
      "input_3 (InputLayer)            [(None, 24, 39)]     0                                            \n",
      "__________________________________________________________________________________________________\n",
      "conv1d_5 (Conv1D)               (None, 24, 128)      65024       input_3[0][0]                    \n",
      "__________________________________________________________________________________________________\n",
      "batch_normalization_5 (BatchNor (None, 24, 128)      512         conv1d_5[0][0]                   \n",
      "__________________________________________________________________________________________________\n",
      "activation_5 (Activation)       (None, 24, 128)      0           batch_normalization_5[0][0]      \n",
      "__________________________________________________________________________________________________\n",
      "global_average_pooling1d_2 (Glo (None, 128)          0           activation_5[0][0]               \n",
      "__________________________________________________________________________________________________\n",
      "reshape_2 (Reshape)             (None, 1, 128)       0           global_average_pooling1d_2[0][0] \n",
      "__________________________________________________________________________________________________\n",
      "dense_6 (Dense)                 (None, 1, 64)        8256        reshape_2[0][0]                  \n",
      "__________________________________________________________________________________________________\n",
      "dense_7 (Dense)                 (None, 1, 128)       8320        dense_6[0][0]                    \n",
      "__________________________________________________________________________________________________\n",
      "multiply_2 (Multiply)           (None, 24, 128)      0           dense_7[0][0]                    \n",
      "                                                                 activation_5[0][0]               \n",
      "__________________________________________________________________________________________________\n",
      "conv1d_6 (Conv1D)               (None, 24, 128)      114816      multiply_2[0][0]                 \n",
      "__________________________________________________________________________________________________\n",
      "batch_normalization_6 (BatchNor (None, 24, 128)      512         conv1d_6[0][0]                   \n",
      "__________________________________________________________________________________________________\n",
      "activation_6 (Activation)       (None, 24, 128)      0           batch_normalization_6[0][0]      \n",
      "__________________________________________________________________________________________________\n",
      "conv1d_7 (Conv1D)               (None, 24, 128)      82048       activation_6[0][0]               \n",
      "__________________________________________________________________________________________________\n",
      "add_2 (Add)                     (None, 24, 128)      0           conv1d_7[0][0]                   \n",
      "                                                                 activation_5[0][0]               \n",
      "__________________________________________________________________________________________________\n",
      "batch_normalization_7 (BatchNor (None, 24, 128)      512         add_2[0][0]                      \n",
      "__________________________________________________________________________________________________\n",
      "spatial_dropout1d_2 (SpatialDro (None, 24, 128)      0           batch_normalization_7[0][0]      \n",
      "__________________________________________________________________________________________________\n",
      "global_average_pooling1d_3 (Glo (None, 128)          0           spatial_dropout1d_2[0][0]        \n",
      "__________________________________________________________________________________________________\n",
      "reshape_3 (Reshape)             (None, 1, 128)       0           global_average_pooling1d_3[0][0] \n",
      "__________________________________________________________________________________________________\n",
      "dense_8 (Dense)                 (None, 1, 64)        8256        reshape_3[0][0]                  \n",
      "__________________________________________________________________________________________________\n",
      "dense_9 (Dense)                 (None, 1, 128)       8320        dense_8[0][0]                    \n",
      "__________________________________________________________________________________________________\n",
      "multiply_3 (Multiply)           (None, 24, 128)      0           dense_9[0][0]                    \n",
      "                                                                 spatial_dropout1d_2[0][0]        \n",
      "__________________________________________________________________________________________________\n",
      "conv1d_8 (Conv1D)               (None, 24, 128)      114816      multiply_3[0][0]                 \n",
      "__________________________________________________________________________________________________\n",
      "batch_normalization_8 (BatchNor (None, 24, 128)      512         conv1d_8[0][0]                   \n",
      "__________________________________________________________________________________________________\n",
      "activation_8 (Activation)       (None, 24, 128)      0           batch_normalization_8[0][0]      \n",
      "__________________________________________________________________________________________________\n",
      "conv1d_9 (Conv1D)               (None, 24, 128)      82048       activation_8[0][0]               \n",
      "__________________________________________________________________________________________________\n",
      "add_3 (Add)                     (None, 24, 128)      0           conv1d_9[0][0]                   \n",
      "                                                                 spatial_dropout1d_2[0][0]        \n",
      "__________________________________________________________________________________________________\n",
      "batch_normalization_9 (BatchNor (None, 24, 128)      512         add_3[0][0]                      \n",
      "__________________________________________________________________________________________________\n",
      "spatial_dropout1d_3 (SpatialDro (None, 24, 128)      0           batch_normalization_9[0][0]      \n",
      "__________________________________________________________________________________________________\n",
      "sequential (Sequential)         (None, 24, 128)      86016       input_3[0][0]                    \n",
      "__________________________________________________________________________________________________\n",
      "concatenate (Concatenate)       (None, 24, 256)      0           spatial_dropout1d_3[0][0]        \n",
      "                                                                 sequential[1][0]                 \n",
      "__________________________________________________________________________________________________\n",
      "bidirectional_1 (Bidirectional) (None, 512)          1050624     concatenate[0][0]                \n",
      "__________________________________________________________________________________________________\n",
      "dropout_1 (Dropout)             (None, 512)          0           bidirectional_1[0][0]            \n",
      "__________________________________________________________________________________________________\n",
      "dense_10 (Dense)                (None, 17)           8721        dropout_1[0][0]                  \n",
      "==================================================================================================\n",
      "Total params: 1,639,825\n",
      "Trainable params: 1,552,529\n",
      "Non-trainable params: 87,296\n",
      "__________________________________________________________________________________________________\n"
     ]
    }
   ],
   "source": [
    "emb_model = init_senet_w_emb()(24, 39)\n",
    "emb_model.summary()"
   ]
  },
  {
   "cell_type": "markdown",
   "metadata": {},
   "source": [
    "### Compile Model "
   ]
  },
  {
   "cell_type": "code",
   "execution_count": 34,
   "metadata": {},
   "outputs": [],
   "source": [
    "emb_model.compile(optimizer='adam',loss='mse',metrics=[rmse, R2])"
   ]
  },
  {
   "cell_type": "markdown",
   "metadata": {},
   "source": [
    "### Train Model "
   ]
  },
  {
   "cell_type": "code",
   "execution_count": 35,
   "metadata": {},
   "outputs": [],
   "source": [
    "PATIENCE = 10\n",
    "BATCH_SIZE = 128\n",
    "EPOCHS = 100\n",
    "\n",
    "early = callbacks.EarlyStopping(monitor='val_loss', min_delta=0, patience=PATIENCE, verbose=1, mode='min', baseline=None, restore_best_weights=False)\n",
    "callback_list = [early]"
   ]
  },
  {
   "cell_type": "code",
   "execution_count": 36,
   "metadata": {},
   "outputs": [
    {
     "name": "stdout",
     "output_type": "stream",
     "text": [
      "Train on 76260 samples, validate on 9340 samples\n",
      "Epoch 1/100\n",
      "76260/76260 - 26s - loss: 0.0600 - rmse: 0.2225 - R2: 0.7551 - val_loss: 0.0281 - val_rmse: 0.1555 - val_R2: 0.8863\n",
      "Epoch 2/100\n",
      "76260/76260 - 16s - loss: 0.0321 - rmse: 0.1682 - R2: 0.8708 - val_loss: 0.0261 - val_rmse: 0.1480 - val_R2: 0.8938\n",
      "Epoch 3/100\n",
      "76260/76260 - 16s - loss: 0.0288 - rmse: 0.1592 - R2: 0.8839 - val_loss: 0.0250 - val_rmse: 0.1438 - val_R2: 0.8981\n",
      "Epoch 4/100\n",
      "76260/76260 - 16s - loss: 0.0272 - rmse: 0.1547 - R2: 0.8902 - val_loss: 0.0256 - val_rmse: 0.1441 - val_R2: 0.8954\n",
      "Epoch 5/100\n",
      "76260/76260 - 16s - loss: 0.0263 - rmse: 0.1518 - R2: 0.8940 - val_loss: 0.0242 - val_rmse: 0.1409 - val_R2: 0.9012\n",
      "Epoch 6/100\n",
      "76260/76260 - 16s - loss: 0.0250 - rmse: 0.1485 - R2: 0.8989 - val_loss: 0.0249 - val_rmse: 0.1411 - val_R2: 0.8984\n",
      "Epoch 7/100\n",
      "76260/76260 - 16s - loss: 0.0244 - rmse: 0.1465 - R2: 0.9013 - val_loss: 0.0243 - val_rmse: 0.1398 - val_R2: 0.9002\n",
      "Epoch 8/100\n",
      "76260/76260 - 16s - loss: 0.0236 - rmse: 0.1442 - R2: 0.9042 - val_loss: 0.0240 - val_rmse: 0.1383 - val_R2: 0.9016\n",
      "Epoch 9/100\n",
      "76260/76260 - 16s - loss: 0.0227 - rmse: 0.1414 - R2: 0.9082 - val_loss: 0.0242 - val_rmse: 0.1388 - val_R2: 0.9009\n",
      "Epoch 10/100\n",
      "76260/76260 - 16s - loss: 0.0219 - rmse: 0.1392 - R2: 0.9111 - val_loss: 0.0236 - val_rmse: 0.1367 - val_R2: 0.9033\n",
      "Epoch 11/100\n",
      "76260/76260 - 16s - loss: 0.0212 - rmse: 0.1372 - R2: 0.9142 - val_loss: 0.0238 - val_rmse: 0.1375 - val_R2: 0.9025\n",
      "Epoch 12/100\n",
      "76260/76260 - 16s - loss: 0.0207 - rmse: 0.1356 - R2: 0.9162 - val_loss: 0.0235 - val_rmse: 0.1368 - val_R2: 0.9035\n",
      "Epoch 13/100\n",
      "76260/76260 - 16s - loss: 0.0200 - rmse: 0.1337 - R2: 0.9190 - val_loss: 0.0234 - val_rmse: 0.1361 - val_R2: 0.9043\n",
      "Epoch 14/100\n",
      "76260/76260 - 16s - loss: 0.0193 - rmse: 0.1318 - R2: 0.9215 - val_loss: 0.0232 - val_rmse: 0.1358 - val_R2: 0.9054\n",
      "Epoch 15/100\n",
      "76260/76260 - 16s - loss: 0.0189 - rmse: 0.1306 - R2: 0.9232 - val_loss: 0.0237 - val_rmse: 0.1365 - val_R2: 0.9026\n",
      "Epoch 16/100\n",
      "76260/76260 - 16s - loss: 0.0185 - rmse: 0.1295 - R2: 0.9248 - val_loss: 0.0233 - val_rmse: 0.1357 - val_R2: 0.9048\n",
      "Epoch 17/100\n",
      "76260/76260 - 16s - loss: 0.0180 - rmse: 0.1277 - R2: 0.9270 - val_loss: 0.0230 - val_rmse: 0.1349 - val_R2: 0.9060\n",
      "Epoch 18/100\n",
      "76260/76260 - 16s - loss: 0.0176 - rmse: 0.1267 - R2: 0.9284 - val_loss: 0.0234 - val_rmse: 0.1360 - val_R2: 0.9038\n",
      "Epoch 19/100\n",
      "76260/76260 - 16s - loss: 0.0173 - rmse: 0.1256 - R2: 0.9300 - val_loss: 0.0231 - val_rmse: 0.1355 - val_R2: 0.9054\n",
      "Epoch 20/100\n",
      "76260/76260 - 16s - loss: 0.0168 - rmse: 0.1242 - R2: 0.9316 - val_loss: 0.0234 - val_rmse: 0.1354 - val_R2: 0.9042\n",
      "Epoch 21/100\n",
      "76260/76260 - 16s - loss: 0.0166 - rmse: 0.1234 - R2: 0.9326 - val_loss: 0.0231 - val_rmse: 0.1348 - val_R2: 0.9057\n",
      "Epoch 22/100\n",
      "76260/76260 - 16s - loss: 0.0162 - rmse: 0.1223 - R2: 0.9340 - val_loss: 0.0232 - val_rmse: 0.1349 - val_R2: 0.9053\n",
      "Epoch 23/100\n",
      "76260/76260 - 16s - loss: 0.0160 - rmse: 0.1213 - R2: 0.9352 - val_loss: 0.0232 - val_rmse: 0.1348 - val_R2: 0.9051\n",
      "Epoch 24/100\n",
      "76260/76260 - 16s - loss: 0.0156 - rmse: 0.1200 - R2: 0.9368 - val_loss: 0.0234 - val_rmse: 0.1354 - val_R2: 0.9039\n",
      "Epoch 25/100\n",
      "76260/76260 - 16s - loss: 0.0153 - rmse: 0.1190 - R2: 0.9380 - val_loss: 0.0233 - val_rmse: 0.1352 - val_R2: 0.9044\n",
      "Epoch 26/100\n",
      "76260/76260 - 16s - loss: 0.0150 - rmse: 0.1182 - R2: 0.9389 - val_loss: 0.0233 - val_rmse: 0.1348 - val_R2: 0.9049\n",
      "Epoch 27/100\n",
      "76260/76260 - 16s - loss: 0.0149 - rmse: 0.1176 - R2: 0.9394 - val_loss: 0.0234 - val_rmse: 0.1354 - val_R2: 0.9044\n",
      "Epoch 00027: early stopping\n"
     ]
    }
   ],
   "source": [
    "history = emb_model.fit(X_train,y_train,\n",
    "    batch_size=BATCH_SIZE,\n",
    "    epochs=EPOCHS,\n",
    "    verbose=2,\n",
    "    validation_data=(X_val,y_val),\n",
    "    callbacks=callback_list)"
   ]
  },
  {
   "cell_type": "code",
   "execution_count": 37,
   "metadata": {},
   "outputs": [],
   "source": [
    "emb_model.save('model_with_between_embedded.hdf5')"
   ]
  },
  {
   "cell_type": "markdown",
   "metadata": {},
   "source": [
    "## Evaluated "
   ]
  },
  {
   "cell_type": "code",
   "execution_count": 38,
   "metadata": {},
   "outputs": [
    {
     "data": {
      "text/plain": [
       "[0.023991584899508357, 0.13682516, 0.89542127]"
      ]
     },
     "execution_count": 38,
     "metadata": {},
     "output_type": "execute_result"
    }
   ],
   "source": [
    "emb_model.evaluate(X_test,y_test,verbose=0)"
   ]
  },
  {
   "cell_type": "code",
   "execution_count": 39,
   "metadata": {},
   "outputs": [],
   "source": [
    "y_pred = emb_model.predict(X_test)"
   ]
  },
  {
   "cell_type": "code",
   "execution_count": 40,
   "metadata": {},
   "outputs": [
    {
     "data": {
      "text/plain": [
       "array([0.15725741, 0.13023314, 0.12257382, 0.13846153, 0.149905  ,\n",
       "       0.19663773, 0.21238299, 0.09826318, 0.10816463, 0.15315914,\n",
       "       0.16422893, 0.13787745, 0.1428603 , 0.20068486, 0.15966288,\n",
       "       0.15068992, 0.1613956 ])"
      ]
     },
     "execution_count": 40,
     "metadata": {},
     "output_type": "execute_result"
    }
   ],
   "source": [
    "compute_rmse(y_test,y_pred, axis=0)"
   ]
  },
  {
   "cell_type": "code",
   "execution_count": null,
   "metadata": {},
   "outputs": [],
   "source": []
  }
 ],
 "metadata": {
  "kernelspec": {
   "display_name": "Python 3",
   "language": "python",
   "name": "python3"
  },
  "language_info": {
   "codemirror_mode": {
    "name": "ipython",
    "version": 3
   },
   "file_extension": ".py",
   "mimetype": "text/x-python",
   "name": "python",
   "nbconvert_exporter": "python",
   "pygments_lexer": "ipython3",
   "version": "3.6.10"
  }
 },
 "nbformat": 4,
 "nbformat_minor": 4
}
