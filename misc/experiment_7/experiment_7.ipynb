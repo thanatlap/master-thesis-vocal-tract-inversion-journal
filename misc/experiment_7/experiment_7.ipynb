{
 "cells": [
  {
   "cell_type": "markdown",
   "metadata": {},
   "source": [
    "# Experiment on AAI Model Architectures\n",
    "- Created: 10 Mar 2020\n",
    "- Data: param_draft2\n",
    "- Increase data size and change model architecture\n",
    "- Identity SE, between (cnn and bilstm) embedding feature \n",
    "- expeirment 18 19"
   ]
  },
  {
   "cell_type": "code",
   "execution_count": 1,
   "metadata": {},
   "outputs": [],
   "source": [
    "from __future__ import absolute_import, division, print_function, unicode_literals\n",
    "import numpy as np\n",
    "import pandas as pd\n",
    "import matplotlib.pyplot as plt\n",
    "import os\n",
    "from os.path import join\n",
    "import tensorflow as tf\n",
    "from tensorflow import keras\n",
    "\n",
    "from tensorflow.keras import models\n",
    "from tensorflow.keras import optimizers\n",
    "from tensorflow.keras import regularizers\n",
    "from tensorflow.keras import callbacks\n",
    "from time import time\n",
    "from datetime import datetime\n",
    "import shutil \n",
    "import argparse\n",
    "from functools import partial\n",
    "import pickle\n",
    "from IPython.display import Audio\n",
    "\n",
    "import tensorflow as tf\n",
    "from tensorflow import keras\n",
    "from tensorflow.keras import layers\n",
    "from tensorflow.keras import backend as K\n",
    "from tensorflow.keras import regularizers\n",
    "from tensorflow.keras.layers import Reshape, GRU, InputLayer, AlphaDropout, Activation, BatchNormalization, Dropout, Flatten, Dense, Bidirectional, LSTM, Conv1D, SpatialDropout1D, Concatenate, Multiply, Add\n",
    "\n",
    "from sklearn.model_selection import train_test_split\n",
    "from sklearn.metrics import classification_report, confusion_matrix\n",
    "from sklearn.preprocessing import OneHotEncoder"
   ]
  },
  {
   "cell_type": "code",
   "execution_count": 2,
   "metadata": {},
   "outputs": [],
   "source": [
    "np_load_old = partial(np.load)\n",
    "np.load = lambda *a,**k: np_load_old(*a, allow_pickle=True, **k)"
   ]
  },
  {
   "cell_type": "code",
   "execution_count": 3,
   "metadata": {},
   "outputs": [],
   "source": [
    "tf.random.set_seed(42)"
   ]
  },
  {
   "cell_type": "markdown",
   "metadata": {},
   "source": [
    "## Metric Function"
   ]
  },
  {
   "cell_type": "code",
   "execution_count": 4,
   "metadata": {},
   "outputs": [],
   "source": [
    "def rmse(y_true, y_pred):\n",
    "    return K.sqrt(K.mean(K.square(y_pred - y_true), axis=-1))\n",
    "\n",
    "def R2(y_true, y_pred):\n",
    "    SS_res =  K.sum(K.square(y_true - y_pred), axis = 0) \n",
    "    SS_tot = K.sum(K.square(y_true - K.mean(y_true, axis = 0)), axis = 0) \n",
    "    return K.mean(1 - (SS_res/SS_tot), axis=0)"
   ]
  },
  {
   "cell_type": "markdown",
   "metadata": {},
   "source": [
    "## Utility Functions"
   ]
  },
  {
   "cell_type": "code",
   "execution_count": 5,
   "metadata": {},
   "outputs": [],
   "source": [
    "#Function for preprocessing data\n",
    "def delete_params(params):\n",
    "    '''\n",
    "    This function remove JX, WC, TRX, TRY, and MS1,2,3 paramter\n",
    "    '''\n",
    "    DEL_PARAMS_LIST = [2,8,15,16,21,22,23]\n",
    "    return np.delete(params,DEL_PARAMS_LIST , axis=1)"
   ]
  },
  {
   "cell_type": "code",
   "execution_count": 6,
   "metadata": {},
   "outputs": [],
   "source": [
    "def compute_rmse(actual,pred, axis=1):\n",
    "    # Compute RMSE by row (axis=1) result in rmse of each data\n",
    "    # Compute RMSE by column (axis=0) result in rmse of each label\n",
    "    return np.sqrt((np.square(actual - pred)).mean(axis=axis))"
   ]
  },
  {
   "cell_type": "code",
   "execution_count": 7,
   "metadata": {},
   "outputs": [],
   "source": [
    "def evaluate_model(y_pred, label):\n",
    "    y_pred = enc.inverse_transform(y_pred)\n",
    "    label = enc.inverse_transform(label)\n",
    "#     print('Confusion Matrix')\n",
    "#     print(confusion_matrix(label, y_pred))\n",
    "    print('Classification Report')\n",
    "    print(classification_report(label, y_pred))"
   ]
  },
  {
   "cell_type": "code",
   "execution_count": 8,
   "metadata": {},
   "outputs": [],
   "source": [
    "def compute_se(actual,pred):\n",
    "    return np.sqrt((np.square(actual - pred)))"
   ]
  },
  {
   "cell_type": "markdown",
   "metadata": {},
   "source": [
    "## Load Data "
   ]
  },
  {
   "cell_type": "code",
   "execution_count": 9,
   "metadata": {},
   "outputs": [],
   "source": [
    "def prep_data():\n",
    "\n",
    "    # load data from preprocess pipeline\n",
    "    dataset = np.load(join('../../data/d_dataset_p2/prep_data_13','training_subsets.npz'))\n",
    "    X_train =dataset['X_train']\n",
    "    y_train= dataset['y_train']\n",
    "    z_train= dataset['z_train']\n",
    "    X_val = dataset['X_val']\n",
    "    y_val = dataset['y_val']\n",
    "    z_val = dataset['z_val']\n",
    "    X_test = dataset['X_test']\n",
    "    y_test = dataset['y_test']\n",
    "    z_test = dataset['z_test']\n",
    "    a_test = dataset['audio_test']\n",
    "    a_val = dataset['audio_val']\n",
    "    \n",
    "    y_train = delete_params(y_train)\n",
    "    y_val = delete_params(y_val)\n",
    "    y_test = delete_params(y_test)\n",
    "\n",
    "    print('Train features and labels %s %s'%(str(X_train.shape),str(y_train.shape)))\n",
    "    print('Validating features and labels %s %s'%(str(X_val.shape),str(y_val.shape)))\n",
    "    print('Test features and labels %s %s'%(str(X_test.shape),str(y_test.shape)))\n",
    "\n",
    "    return X_train, X_val, X_test, y_train, y_val, y_test, z_train, z_val, z_test, a_test, a_val"
   ]
  },
  {
   "cell_type": "code",
   "execution_count": 10,
   "metadata": {},
   "outputs": [
    {
     "name": "stdout",
     "output_type": "stream",
     "text": [
      "Train features and labels (76260, 24, 39) (76260, 17)\n",
      "Validating features and labels (9340, 24, 39) (9340, 17)\n",
      "Test features and labels (9338, 24, 39) (9338, 17)\n"
     ]
    }
   ],
   "source": [
    "X_train, X_val, X_test, y_train, y_val, y_test, z_train, z_val, z_test, a_test, a_val = prep_data()"
   ]
  },
  {
   "cell_type": "code",
   "execution_count": 11,
   "metadata": {},
   "outputs": [
    {
     "name": "stdout",
     "output_type": "stream",
     "text": [
      "{'@', 'e', 'A', '9', 'E', 'u', '2', 'U', 'E:', 'i', 'O', 'o', 'a', 'y'}\n"
     ]
    }
   ],
   "source": [
    "print(set(z_test))"
   ]
  },
  {
   "cell_type": "code",
   "execution_count": 12,
   "metadata": {},
   "outputs": [
    {
     "name": "stdout",
     "output_type": "stream",
     "text": [
      "Train features and labels (76260, 24, 39) (76260, 17) (76260,)\n",
      "Validating features and labels (9340, 24, 39) (9340, 17) (9340,)\n",
      "Test features and labels (9338, 24, 39) (9338, 17) (9338,)\n"
     ]
    }
   ],
   "source": [
    "print('Train features and labels {} {} {}'.format(str(X_train.shape),str(y_train.shape),str(z_train.shape)))\n",
    "print('Validating features and labels {} {} {}'.format(str(X_val.shape),str(y_val.shape),str(z_val.shape)))\n",
    "print('Test features and labels {} {} {}'.format(str(X_test.shape),str(y_test.shape),str(z_test.shape)))"
   ]
  },
  {
   "cell_type": "markdown",
   "metadata": {},
   "source": [
    "### One-hot label "
   ]
  },
  {
   "cell_type": "code",
   "execution_count": 13,
   "metadata": {},
   "outputs": [],
   "source": [
    "z_train_oe=z_train.reshape(-1,1)\n",
    "z_val_oe=z_val.reshape(-1,1)\n",
    "z_test_oe=z_test.reshape(-1,1)\n",
    "\n",
    "enc = OneHotEncoder(handle_unknown = 'ignore')\n",
    "enc.fit(z_train_oe)\n",
    "\n",
    "z_train_oe = enc.transform(z_train_oe).toarray()\n",
    "z_test_oe = enc.transform(z_test_oe).toarray()\n",
    "z_val_oe = enc.transform(z_val_oe).toarray()"
   ]
  },
  {
   "cell_type": "markdown",
   "metadata": {},
   "source": [
    "## 1.) Train Baseline Model\n",
    "- Model without embedding feature"
   ]
  },
  {
   "cell_type": "markdown",
   "metadata": {},
   "source": [
    "### Defined Model without Embedded Feature"
   ]
  },
  {
   "cell_type": "code",
   "execution_count": 14,
   "metadata": {},
   "outputs": [],
   "source": [
    "N_OUTPUTS = 17\n",
    "\n",
    "pLSTM = partial(LSTM, kernel_initializer='he_uniform', return_sequences=True)\n",
    "pConv1D = partial(Conv1D, padding = 'same', activation = 'linear', kernel_initializer = 'he_uniform')\n",
    "\n",
    "def init_senet(feature_layer=1, cnn_unit=128, first_kernel=13, res_unit=128, res_kernel=7,\n",
    "    bilstm = 1, bilstm_unit=256, \n",
    "    dropout_rate=0.3,\n",
    "    reduction_ratio = 2,\n",
    "    activation_fn='relu'):\n",
    "\n",
    "\n",
    "    def cnn_block(input_x, cnn_unit, kernel_size):\n",
    "        x = pConv1D(cnn_unit, kernel_size=kernel_size)(input_x)\n",
    "        x = BatchNormalization()(x)\n",
    "        x = Activation(activation_fn)(x)\n",
    "        return x\n",
    "    \n",
    "    def residual_block(input_x):\n",
    "        x = pConv1D(res_unit, kernel_size=res_kernel)(input_x)\n",
    "        x = BatchNormalization()(x)\n",
    "        x = Activation(activation_fn)(x)\n",
    "        x = pConv1D(res_unit, kernel_size=3)(x)\n",
    "        return x\n",
    "\n",
    "    def se_block(input_x):\n",
    "        x = layers.GlobalAveragePooling1D()(input_x)\n",
    "        channel_shape = getattr(x, '_shape_val')[-1]\n",
    "        x = Reshape((1, channel_shape))(x)\n",
    "        x = Dense(channel_shape // reduction_ratio, activation=activation_fn, kernel_initializer='he_uniform')(x)\n",
    "        x = Dense(channel_shape, activation='tanh', kernel_initializer='he_uniform')(x)\n",
    "        x = layers.Multiply()([x, input_x])\n",
    "        return x\n",
    "\n",
    "    def se_res_block(input_x):\n",
    "        se_x = se_block(input_x)\n",
    "        re_x = residual_block(input_x)\n",
    "        x = keras.layers.Add()([re_x, se_x])\n",
    "        x = BatchNormalization()(x)\n",
    "        output = Activation(activation_fn)(x)\n",
    "        return x\n",
    "\n",
    "    def senet_nn(input_shape_1,input_shape_2):\n",
    "\n",
    "        input_x = keras.Input(shape=(input_shape_1,input_shape_2))\n",
    "        x = cnn_block(input_x, cnn_unit, first_kernel)\n",
    "        for i in range(feature_layer):\n",
    "            x = se_res_block(x)\n",
    "        x = SpatialDropout1D(rate=dropout_rate)(x)\n",
    "        for i in range(feature_layer):\n",
    "            x = se_res_block(x)\n",
    "            x = SpatialDropout1D(rate=dropout_rate)(x)\n",
    "#         x = cnn_block(x, cnn_unit=cnn_unit, kernel_size=1)\n",
    "#         x = SpatialDropout1D(rate=dropout_rate)(x)\n",
    "        for i in range(bilstm-1):\n",
    "            x = Bidirectional(pLSTM(bilstm_unit))(x)\n",
    "            x = SpatialDropout1D(rate=dropout_rate)(x)\n",
    "        x = Bidirectional(pLSTM(bilstm_unit, return_sequences=False))(x)\n",
    "        x = Dropout(rate=dropout_rate)(x)\n",
    "        outputs = Dense(N_OUTPUTS, activation='linear', kernel_initializer='he_uniform')(x)\n",
    "        model = keras.Model(inputs=input_x, outputs=outputs)\n",
    "        return model\n",
    "\n",
    "    return senet_nn"
   ]
  },
  {
   "cell_type": "code",
   "execution_count": 15,
   "metadata": {},
   "outputs": [],
   "source": [
    "model = init_senet()(24, 39)"
   ]
  },
  {
   "cell_type": "code",
   "execution_count": 16,
   "metadata": {},
   "outputs": [
    {
     "name": "stdout",
     "output_type": "stream",
     "text": [
      "Model: \"model\"\n",
      "__________________________________________________________________________________________________\n",
      "Layer (type)                    Output Shape         Param #     Connected to                     \n",
      "==================================================================================================\n",
      "input_1 (InputLayer)            [(None, 24, 39)]     0                                            \n",
      "__________________________________________________________________________________________________\n",
      "conv1d (Conv1D)                 (None, 24, 128)      65024       input_1[0][0]                    \n",
      "__________________________________________________________________________________________________\n",
      "batch_normalization (BatchNorma (None, 24, 128)      512         conv1d[0][0]                     \n",
      "__________________________________________________________________________________________________\n",
      "activation (Activation)         (None, 24, 128)      0           batch_normalization[0][0]        \n",
      "__________________________________________________________________________________________________\n",
      "global_average_pooling1d (Globa (None, 128)          0           activation[0][0]                 \n",
      "__________________________________________________________________________________________________\n",
      "conv1d_1 (Conv1D)               (None, 24, 128)      114816      activation[0][0]                 \n",
      "__________________________________________________________________________________________________\n",
      "reshape (Reshape)               (None, 1, 128)       0           global_average_pooling1d[0][0]   \n",
      "__________________________________________________________________________________________________\n",
      "batch_normalization_1 (BatchNor (None, 24, 128)      512         conv1d_1[0][0]                   \n",
      "__________________________________________________________________________________________________\n",
      "dense (Dense)                   (None, 1, 64)        8256        reshape[0][0]                    \n",
      "__________________________________________________________________________________________________\n",
      "activation_1 (Activation)       (None, 24, 128)      0           batch_normalization_1[0][0]      \n",
      "__________________________________________________________________________________________________\n",
      "dense_1 (Dense)                 (None, 1, 128)       8320        dense[0][0]                      \n",
      "__________________________________________________________________________________________________\n",
      "conv1d_2 (Conv1D)               (None, 24, 128)      49280       activation_1[0][0]               \n",
      "__________________________________________________________________________________________________\n",
      "multiply (Multiply)             (None, 24, 128)      0           dense_1[0][0]                    \n",
      "                                                                 activation[0][0]                 \n",
      "__________________________________________________________________________________________________\n",
      "add (Add)                       (None, 24, 128)      0           conv1d_2[0][0]                   \n",
      "                                                                 multiply[0][0]                   \n",
      "__________________________________________________________________________________________________\n",
      "batch_normalization_2 (BatchNor (None, 24, 128)      512         add[0][0]                        \n",
      "__________________________________________________________________________________________________\n",
      "spatial_dropout1d (SpatialDropo (None, 24, 128)      0           batch_normalization_2[0][0]      \n",
      "__________________________________________________________________________________________________\n",
      "global_average_pooling1d_1 (Glo (None, 128)          0           spatial_dropout1d[0][0]          \n",
      "__________________________________________________________________________________________________\n",
      "conv1d_3 (Conv1D)               (None, 24, 128)      114816      spatial_dropout1d[0][0]          \n",
      "__________________________________________________________________________________________________\n",
      "reshape_1 (Reshape)             (None, 1, 128)       0           global_average_pooling1d_1[0][0] \n",
      "__________________________________________________________________________________________________\n",
      "batch_normalization_3 (BatchNor (None, 24, 128)      512         conv1d_3[0][0]                   \n",
      "__________________________________________________________________________________________________\n",
      "dense_2 (Dense)                 (None, 1, 64)        8256        reshape_1[0][0]                  \n",
      "__________________________________________________________________________________________________\n",
      "activation_3 (Activation)       (None, 24, 128)      0           batch_normalization_3[0][0]      \n",
      "__________________________________________________________________________________________________\n",
      "dense_3 (Dense)                 (None, 1, 128)       8320        dense_2[0][0]                    \n",
      "__________________________________________________________________________________________________\n",
      "conv1d_4 (Conv1D)               (None, 24, 128)      49280       activation_3[0][0]               \n",
      "__________________________________________________________________________________________________\n",
      "multiply_1 (Multiply)           (None, 24, 128)      0           dense_3[0][0]                    \n",
      "                                                                 spatial_dropout1d[0][0]          \n",
      "__________________________________________________________________________________________________\n",
      "add_1 (Add)                     (None, 24, 128)      0           conv1d_4[0][0]                   \n",
      "                                                                 multiply_1[0][0]                 \n",
      "__________________________________________________________________________________________________\n",
      "batch_normalization_4 (BatchNor (None, 24, 128)      512         add_1[0][0]                      \n",
      "__________________________________________________________________________________________________\n",
      "spatial_dropout1d_1 (SpatialDro (None, 24, 128)      0           batch_normalization_4[0][0]      \n",
      "__________________________________________________________________________________________________\n",
      "bidirectional (Bidirectional)   (None, 512)          788480      spatial_dropout1d_1[0][0]        \n",
      "__________________________________________________________________________________________________\n",
      "dropout (Dropout)               (None, 512)          0           bidirectional[0][0]              \n",
      "__________________________________________________________________________________________________\n",
      "dense_4 (Dense)                 (None, 17)           8721        dropout[0][0]                    \n",
      "==================================================================================================\n",
      "Total params: 1,226,129\n",
      "Trainable params: 1,224,849\n",
      "Non-trainable params: 1,280\n",
      "__________________________________________________________________________________________________\n"
     ]
    }
   ],
   "source": [
    "model.summary()"
   ]
  },
  {
   "cell_type": "markdown",
   "metadata": {},
   "source": [
    "### Compile Model "
   ]
  },
  {
   "cell_type": "code",
   "execution_count": 17,
   "metadata": {},
   "outputs": [],
   "source": [
    "model.compile(optimizer='adam',loss='mse',metrics=[rmse, R2])"
   ]
  },
  {
   "cell_type": "markdown",
   "metadata": {},
   "source": [
    "### Train Model "
   ]
  },
  {
   "cell_type": "code",
   "execution_count": 18,
   "metadata": {},
   "outputs": [],
   "source": [
    "PATIENCE = 10\n",
    "BATCH_SIZE = 128\n",
    "EPOCHS = 100\n",
    "\n",
    "early = callbacks.EarlyStopping(monitor='val_loss', min_delta=0, patience=PATIENCE, verbose=1, mode='min', baseline=None, restore_best_weights=False)\n",
    "callback_list = [early]"
   ]
  },
  {
   "cell_type": "code",
   "execution_count": 19,
   "metadata": {},
   "outputs": [
    {
     "name": "stdout",
     "output_type": "stream",
     "text": [
      "Train on 76260 samples, validate on 9340 samples\n",
      "Epoch 1/100\n",
      "76260/76260 [==============================] - 23s 307us/sample - loss: 0.0856 - rmse: 0.2680 - R2: 0.6492 - val_loss: 0.0355 - val_rmse: 0.1733 - val_R2: 0.8558\n",
      "Epoch 2/100\n",
      "76260/76260 [==============================] - 14s 190us/sample - loss: 0.0497 - rmse: 0.2047 - R2: 0.7983 - val_loss: 0.0318 - val_rmse: 0.1620 - val_R2: 0.8707\n",
      "Epoch 3/100\n",
      "76260/76260 [==============================] - 14s 190us/sample - loss: 0.0445 - rmse: 0.1925 - R2: 0.8196 - val_loss: 0.0295 - val_rmse: 0.1571 - val_R2: 0.8797\n",
      "Epoch 4/100\n",
      "76260/76260 [==============================] - 15s 193us/sample - loss: 0.0417 - rmse: 0.1861 - R2: 0.8308 - val_loss: 0.0279 - val_rmse: 0.1532 - val_R2: 0.8864\n",
      "Epoch 5/100\n",
      "76260/76260 [==============================] - 15s 193us/sample - loss: 0.0397 - rmse: 0.1815 - R2: 0.8387 - val_loss: 0.0270 - val_rmse: 0.1514 - val_R2: 0.8902\n",
      "Epoch 6/100\n",
      "76260/76260 [==============================] - 15s 192us/sample - loss: 0.0379 - rmse: 0.1773 - R2: 0.8461 - val_loss: 0.0272 - val_rmse: 0.1504 - val_R2: 0.8892\n",
      "Epoch 7/100\n",
      "76260/76260 [==============================] - 15s 192us/sample - loss: 0.0368 - rmse: 0.1746 - R2: 0.8504 - val_loss: 0.0274 - val_rmse: 0.1503 - val_R2: 0.8885\n",
      "Epoch 8/100\n",
      "76260/76260 [==============================] - 15s 192us/sample - loss: 0.0359 - rmse: 0.1725 - R2: 0.8541 - val_loss: 0.0257 - val_rmse: 0.1462 - val_R2: 0.8952\n",
      "Epoch 9/100\n",
      "76260/76260 [==============================] - 15s 191us/sample - loss: 0.0348 - rmse: 0.1698 - R2: 0.8587 - val_loss: 0.0259 - val_rmse: 0.1470 - val_R2: 0.8941\n",
      "Epoch 10/100\n",
      "76260/76260 [==============================] - 15s 191us/sample - loss: 0.0341 - rmse: 0.1680 - R2: 0.8615 - val_loss: 0.0247 - val_rmse: 0.1438 - val_R2: 0.8996\n",
      "Epoch 11/100\n",
      "76260/76260 [==============================] - 15s 191us/sample - loss: 0.0332 - rmse: 0.1661 - R2: 0.8653 - val_loss: 0.0247 - val_rmse: 0.1433 - val_R2: 0.8992\n",
      "Epoch 12/100\n",
      "76260/76260 [==============================] - 15s 192us/sample - loss: 0.0326 - rmse: 0.1644 - R2: 0.8678 - val_loss: 0.0260 - val_rmse: 0.1450 - val_R2: 0.8924\n",
      "Epoch 13/100\n",
      "76260/76260 [==============================] - 15s 192us/sample - loss: 0.0319 - rmse: 0.1628 - R2: 0.8705 - val_loss: 0.0265 - val_rmse: 0.1470 - val_R2: 0.8923\n",
      "Epoch 14/100\n",
      "76260/76260 [==============================] - 15s 192us/sample - loss: 0.0313 - rmse: 0.1612 - R2: 0.8730 - val_loss: 0.0244 - val_rmse: 0.1421 - val_R2: 0.9002\n",
      "Epoch 15/100\n",
      "76260/76260 [==============================] - 15s 192us/sample - loss: 0.0306 - rmse: 0.1597 - R2: 0.8756 - val_loss: 0.0244 - val_rmse: 0.1429 - val_R2: 0.9002\n",
      "Epoch 16/100\n",
      "76260/76260 [==============================] - 15s 193us/sample - loss: 0.0303 - rmse: 0.1591 - R2: 0.8769 - val_loss: 0.0239 - val_rmse: 0.1401 - val_R2: 0.9022\n",
      "Epoch 17/100\n",
      "76260/76260 [==============================] - 15s 193us/sample - loss: 0.0301 - rmse: 0.1584 - R2: 0.8776 - val_loss: 0.0237 - val_rmse: 0.1402 - val_R2: 0.9031\n",
      "Epoch 18/100\n",
      "76260/76260 [==============================] - 15s 192us/sample - loss: 0.0293 - rmse: 0.1564 - R2: 0.8811 - val_loss: 0.0240 - val_rmse: 0.1406 - val_R2: 0.9012\n",
      "Epoch 19/100\n",
      "76260/76260 [==============================] - 15s 191us/sample - loss: 0.0291 - rmse: 0.1558 - R2: 0.8819 - val_loss: 0.0241 - val_rmse: 0.1410 - val_R2: 0.9013\n",
      "Epoch 20/100\n",
      "76260/76260 [==============================] - 15s 191us/sample - loss: 0.0286 - rmse: 0.1546 - R2: 0.8837 - val_loss: 0.0254 - val_rmse: 0.1438 - val_R2: 0.8962\n",
      "Epoch 21/100\n",
      "76260/76260 [==============================] - 15s 192us/sample - loss: 0.0284 - rmse: 0.1541 - R2: 0.8850 - val_loss: 0.0233 - val_rmse: 0.1378 - val_R2: 0.9044\n",
      "Epoch 22/100\n",
      "76260/76260 [==============================] - 15s 193us/sample - loss: 0.0281 - rmse: 0.1534 - R2: 0.8858 - val_loss: 0.0234 - val_rmse: 0.1389 - val_R2: 0.9050\n",
      "Epoch 23/100\n",
      "76260/76260 [==============================] - 15s 196us/sample - loss: 0.0276 - rmse: 0.1522 - R2: 0.8881 - val_loss: 0.0240 - val_rmse: 0.1399 - val_R2: 0.9018\n",
      "Epoch 24/100\n",
      "76260/76260 [==============================] - 15s 193us/sample - loss: 0.0274 - rmse: 0.1517 - R2: 0.8886 - val_loss: 0.0229 - val_rmse: 0.1366 - val_R2: 0.9066\n",
      "Epoch 25/100\n",
      "76260/76260 [==============================] - 15s 192us/sample - loss: 0.0270 - rmse: 0.1507 - R2: 0.8902 - val_loss: 0.0235 - val_rmse: 0.1384 - val_R2: 0.9036\n",
      "Epoch 26/100\n",
      "76260/76260 [==============================] - 15s 193us/sample - loss: 0.0267 - rmse: 0.1500 - R2: 0.8914 - val_loss: 0.0228 - val_rmse: 0.1368 - val_R2: 0.9063\n",
      "Epoch 27/100\n",
      "76260/76260 [==============================] - 15s 193us/sample - loss: 0.0265 - rmse: 0.1495 - R2: 0.8923 - val_loss: 0.0219 - val_rmse: 0.1345 - val_R2: 0.9102\n",
      "Epoch 28/100\n",
      "76260/76260 [==============================] - 15s 193us/sample - loss: 0.0263 - rmse: 0.1489 - R2: 0.8930 - val_loss: 0.0245 - val_rmse: 0.1401 - val_R2: 0.8997\n",
      "Epoch 29/100\n",
      "76260/76260 [==============================] - 15s 193us/sample - loss: 0.0262 - rmse: 0.1486 - R2: 0.8937 - val_loss: 0.0227 - val_rmse: 0.1364 - val_R2: 0.9071\n",
      "Epoch 30/100\n",
      "76260/76260 [==============================] - 15s 193us/sample - loss: 0.0259 - rmse: 0.1479 - R2: 0.8947 - val_loss: 0.0230 - val_rmse: 0.1362 - val_R2: 0.9056\n",
      "Epoch 31/100\n",
      "76260/76260 [==============================] - 15s 193us/sample - loss: 0.0257 - rmse: 0.1473 - R2: 0.8957 - val_loss: 0.0223 - val_rmse: 0.1343 - val_R2: 0.9084\n",
      "Epoch 32/100\n",
      "76260/76260 [==============================] - 15s 193us/sample - loss: 0.0256 - rmse: 0.1470 - R2: 0.8962 - val_loss: 0.0220 - val_rmse: 0.1345 - val_R2: 0.9097\n",
      "Epoch 33/100\n",
      "76260/76260 [==============================] - 15s 193us/sample - loss: 0.0253 - rmse: 0.1463 - R2: 0.8971 - val_loss: 0.0238 - val_rmse: 0.1375 - val_R2: 0.9013\n",
      "Epoch 34/100\n",
      "76260/76260 [==============================] - 15s 193us/sample - loss: 0.0250 - rmse: 0.1454 - R2: 0.8987 - val_loss: 0.0217 - val_rmse: 0.1334 - val_R2: 0.9114\n",
      "Epoch 35/100\n",
      "76260/76260 [==============================] - 15s 193us/sample - loss: 0.0250 - rmse: 0.1455 - R2: 0.8984 - val_loss: 0.0222 - val_rmse: 0.1347 - val_R2: 0.9092\n",
      "Epoch 36/100\n",
      "76260/76260 [==============================] - 15s 192us/sample - loss: 0.0246 - rmse: 0.1444 - R2: 0.9002 - val_loss: 0.0218 - val_rmse: 0.1330 - val_R2: 0.9106\n",
      "Epoch 37/100\n",
      "76260/76260 [==============================] - 15s 191us/sample - loss: 0.0246 - rmse: 0.1445 - R2: 0.9004 - val_loss: 0.0219 - val_rmse: 0.1338 - val_R2: 0.9097\n",
      "Epoch 38/100\n",
      "76260/76260 [==============================] - 15s 191us/sample - loss: 0.0242 - rmse: 0.1436 - R2: 0.9017 - val_loss: 0.0226 - val_rmse: 0.1346 - val_R2: 0.9076\n",
      "Epoch 39/100\n",
      "76260/76260 [==============================] - 15s 192us/sample - loss: 0.0243 - rmse: 0.1437 - R2: 0.9015 - val_loss: 0.0216 - val_rmse: 0.1327 - val_R2: 0.9118\n",
      "Epoch 40/100\n",
      "76260/76260 [==============================] - 15s 191us/sample - loss: 0.0240 - rmse: 0.1429 - R2: 0.9025 - val_loss: 0.0220 - val_rmse: 0.1335 - val_R2: 0.9104\n",
      "Epoch 41/100\n",
      "76260/76260 [==============================] - 15s 191us/sample - loss: 0.0238 - rmse: 0.1424 - R2: 0.9036 - val_loss: 0.0222 - val_rmse: 0.1334 - val_R2: 0.9085\n",
      "Epoch 42/100\n",
      "76260/76260 [==============================] - 15s 191us/sample - loss: 0.0238 - rmse: 0.1423 - R2: 0.9035 - val_loss: 0.0218 - val_rmse: 0.1333 - val_R2: 0.9105\n",
      "Epoch 43/100\n",
      "76260/76260 [==============================] - 15s 192us/sample - loss: 0.0235 - rmse: 0.1418 - R2: 0.9044 - val_loss: 0.0214 - val_rmse: 0.1318 - val_R2: 0.9125\n",
      "Epoch 44/100\n",
      "76260/76260 [==============================] - 15s 192us/sample - loss: 0.0232 - rmse: 0.1410 - R2: 0.9058 - val_loss: 0.0221 - val_rmse: 0.1335 - val_R2: 0.9096\n",
      "Epoch 45/100\n",
      "76260/76260 [==============================] - 15s 191us/sample - loss: 0.0233 - rmse: 0.1412 - R2: 0.9053 - val_loss: 0.0220 - val_rmse: 0.1333 - val_R2: 0.9101\n",
      "Epoch 46/100\n",
      "76260/76260 [==============================] - 15s 195us/sample - loss: 0.0230 - rmse: 0.1404 - R2: 0.9067 - val_loss: 0.0234 - val_rmse: 0.1362 - val_R2: 0.9041\n",
      "Epoch 47/100\n",
      "76260/76260 [==============================] - 15s 196us/sample - loss: 0.0233 - rmse: 0.1410 - R2: 0.9055 - val_loss: 0.0213 - val_rmse: 0.1311 - val_R2: 0.9126\n",
      "Epoch 48/100\n",
      "76260/76260 [==============================] - 15s 194us/sample - loss: 0.0227 - rmse: 0.1397 - R2: 0.9079 - val_loss: 0.0214 - val_rmse: 0.1320 - val_R2: 0.9123\n",
      "Epoch 49/100\n",
      "76260/76260 [==============================] - 15s 193us/sample - loss: 0.0228 - rmse: 0.1398 - R2: 0.9076 - val_loss: 0.0211 - val_rmse: 0.1311 - val_R2: 0.9136\n",
      "Epoch 50/100\n",
      "76260/76260 [==============================] - 15s 193us/sample - loss: 0.0226 - rmse: 0.1392 - R2: 0.9085 - val_loss: 0.0217 - val_rmse: 0.1322 - val_R2: 0.9108\n",
      "Epoch 51/100\n",
      "76260/76260 [==============================] - 15s 193us/sample - loss: 0.0226 - rmse: 0.1392 - R2: 0.9085 - val_loss: 0.0220 - val_rmse: 0.1336 - val_R2: 0.9093\n",
      "Epoch 52/100\n",
      "76260/76260 [==============================] - 15s 193us/sample - loss: 0.0226 - rmse: 0.1393 - R2: 0.9082 - val_loss: 0.0213 - val_rmse: 0.1312 - val_R2: 0.9127\n",
      "Epoch 53/100\n",
      "76260/76260 [==============================] - 15s 192us/sample - loss: 0.0224 - rmse: 0.1386 - R2: 0.9092 - val_loss: 0.0218 - val_rmse: 0.1321 - val_R2: 0.9104\n",
      "Epoch 54/100\n",
      "76260/76260 [==============================] - 15s 191us/sample - loss: 0.0222 - rmse: 0.1382 - R2: 0.9101 - val_loss: 0.0222 - val_rmse: 0.1326 - val_R2: 0.9091\n",
      "Epoch 55/100\n",
      "76260/76260 [==============================] - 15s 192us/sample - loss: 0.0219 - rmse: 0.1375 - R2: 0.9112 - val_loss: 0.0214 - val_rmse: 0.1304 - val_R2: 0.9125\n",
      "Epoch 56/100\n",
      "76260/76260 [==============================] - 15s 191us/sample - loss: 0.0221 - rmse: 0.1379 - R2: 0.9105 - val_loss: 0.0215 - val_rmse: 0.1315 - val_R2: 0.9116\n",
      "Epoch 57/100\n",
      "76260/76260 [==============================] - 15s 191us/sample - loss: 0.0218 - rmse: 0.1373 - R2: 0.9117 - val_loss: 0.0213 - val_rmse: 0.1303 - val_R2: 0.9125\n",
      "Epoch 58/100\n",
      "76260/76260 [==============================] - 15s 191us/sample - loss: 0.0218 - rmse: 0.1372 - R2: 0.9114 - val_loss: 0.0222 - val_rmse: 0.1327 - val_R2: 0.9088\n",
      "Epoch 59/100\n",
      "76260/76260 [==============================] - 15s 191us/sample - loss: 0.0218 - rmse: 0.1371 - R2: 0.9117 - val_loss: 0.0208 - val_rmse: 0.1297 - val_R2: 0.9148\n",
      "Epoch 60/100\n",
      "76260/76260 [==============================] - 15s 192us/sample - loss: 0.0216 - rmse: 0.1367 - R2: 0.9124 - val_loss: 0.0221 - val_rmse: 0.1320 - val_R2: 0.9092\n",
      "Epoch 61/100\n",
      "76260/76260 [==============================] - 15s 191us/sample - loss: 0.0217 - rmse: 0.1370 - R2: 0.9120 - val_loss: 0.0211 - val_rmse: 0.1298 - val_R2: 0.9134\n",
      "Epoch 62/100\n",
      "76260/76260 [==============================] - 15s 192us/sample - loss: 0.0214 - rmse: 0.1360 - R2: 0.9134 - val_loss: 0.0224 - val_rmse: 0.1322 - val_R2: 0.9077\n",
      "Epoch 63/100\n",
      "76260/76260 [==============================] - 15s 191us/sample - loss: 0.0215 - rmse: 0.1362 - R2: 0.9130 - val_loss: 0.0216 - val_rmse: 0.1311 - val_R2: 0.9114\n",
      "Epoch 64/100\n",
      "76260/76260 [==============================] - 15s 191us/sample - loss: 0.0212 - rmse: 0.1356 - R2: 0.9141 - val_loss: 0.0215 - val_rmse: 0.1313 - val_R2: 0.9118\n",
      "Epoch 65/100\n",
      "76260/76260 [==============================] - 15s 191us/sample - loss: 0.0211 - rmse: 0.1354 - R2: 0.9145 - val_loss: 0.0219 - val_rmse: 0.1319 - val_R2: 0.9100\n",
      "Epoch 66/100\n",
      "76260/76260 [==============================] - 15s 191us/sample - loss: 0.0211 - rmse: 0.1353 - R2: 0.9145 - val_loss: 0.0221 - val_rmse: 0.1319 - val_R2: 0.9092\n",
      "Epoch 67/100\n",
      "76260/76260 [==============================] - 15s 191us/sample - loss: 0.0211 - rmse: 0.1352 - R2: 0.9145 - val_loss: 0.0221 - val_rmse: 0.1318 - val_R2: 0.9090\n",
      "Epoch 68/100\n",
      "76260/76260 [==============================] - 15s 191us/sample - loss: 0.0211 - rmse: 0.1352 - R2: 0.9145 - val_loss: 0.0215 - val_rmse: 0.1302 - val_R2: 0.9119\n",
      "Epoch 69/100\n",
      "76260/76260 [==============================] - 15s 192us/sample - loss: 0.0208 - rmse: 0.1346 - R2: 0.9158 - val_loss: 0.0208 - val_rmse: 0.1292 - val_R2: 0.9148\n",
      "Epoch 00069: early stopping\n"
     ]
    }
   ],
   "source": [
    "history = model.fit(X_train,y_train,\n",
    "    batch_size=BATCH_SIZE,\n",
    "    epochs=EPOCHS,\n",
    "    validation_data=(X_val,y_val),\n",
    "    callbacks=callback_list)"
   ]
  },
  {
   "cell_type": "code",
   "execution_count": 20,
   "metadata": {},
   "outputs": [],
   "source": [
    "model.save('model_baseline.hdf5')"
   ]
  },
  {
   "cell_type": "markdown",
   "metadata": {},
   "source": [
    "### Evaluation "
   ]
  },
  {
   "cell_type": "code",
   "execution_count": 21,
   "metadata": {},
   "outputs": [
    {
     "data": {
      "text/plain": [
       "[0.020886541145753366, 0.12938069, 0.9083808]"
      ]
     },
     "execution_count": 21,
     "metadata": {},
     "output_type": "execute_result"
    }
   ],
   "source": [
    "model.evaluate(X_test,y_test,verbose=0)"
   ]
  },
  {
   "cell_type": "code",
   "execution_count": 22,
   "metadata": {},
   "outputs": [],
   "source": [
    "y_pred = model.predict(X_test)"
   ]
  },
  {
   "cell_type": "code",
   "execution_count": 23,
   "metadata": {},
   "outputs": [],
   "source": [
    "err = compute_rmse(y_test,y_pred, axis=0)"
   ]
  },
  {
   "cell_type": "code",
   "execution_count": 24,
   "metadata": {},
   "outputs": [
    {
     "name": "stdout",
     "output_type": "stream",
     "text": [
      "[0.14535961 0.1230976  0.11669075 0.13202935 0.14240909 0.18208138\n",
      " 0.19922448 0.09230688 0.1004147  0.14001313 0.15391854 0.13222808\n",
      " 0.13385844 0.18009826 0.15112436 0.13686979 0.1526696 ]\n"
     ]
    }
   ],
   "source": [
    "print(err)"
   ]
  },
  {
   "cell_type": "markdown",
   "metadata": {},
   "source": [
    "## 2.) Model with (Between) Embedding Feature  "
   ]
  },
  {
   "cell_type": "markdown",
   "metadata": {},
   "source": [
    "### Defined (Between) Embedding Model"
   ]
  },
  {
   "cell_type": "code",
   "execution_count": 14,
   "metadata": {},
   "outputs": [],
   "source": [
    "PHONETIC_OUTPUT = len(set(z_train))\n",
    "EMBEDDED_FEATURE = 128\n",
    "\n",
    "pLSTM = partial(LSTM, kernel_initializer='he_uniform', return_sequences=True)\n",
    "\n",
    "def embeded_model(input_shape_1,input_shape_2):\n",
    "    inputs = keras.Input(shape=(input_shape_1,input_shape_2))\n",
    "    x = pLSTM(EMBEDDED_FEATURE)(inputs)\n",
    "    x = Flatten()(x)\n",
    "    outputs = Dense(PHONETIC_OUTPUT, activation='softmax', kernel_initializer='he_uniform')(x)\n",
    "    return keras.Model(inputs=inputs, outputs=outputs)"
   ]
  },
  {
   "cell_type": "code",
   "execution_count": 15,
   "metadata": {},
   "outputs": [
    {
     "name": "stdout",
     "output_type": "stream",
     "text": [
      "Model: \"model\"\n",
      "_________________________________________________________________\n",
      "Layer (type)                 Output Shape              Param #   \n",
      "=================================================================\n",
      "input_1 (InputLayer)         [(None, 24, 39)]          0         \n",
      "_________________________________________________________________\n",
      "lstm (LSTM)                  (None, 24, 128)           86016     \n",
      "_________________________________________________________________\n",
      "flatten (Flatten)            (None, 3072)              0         \n",
      "_________________________________________________________________\n",
      "dense (Dense)                (None, 14)                43022     \n",
      "=================================================================\n",
      "Total params: 129,038\n",
      "Trainable params: 129,038\n",
      "Non-trainable params: 0\n",
      "_________________________________________________________________\n"
     ]
    }
   ],
   "source": [
    "embedded = embeded_model(24, 39)\n",
    "embedded.summary()"
   ]
  },
  {
   "cell_type": "markdown",
   "metadata": {},
   "source": [
    "### Compile Model "
   ]
  },
  {
   "cell_type": "code",
   "execution_count": 16,
   "metadata": {},
   "outputs": [],
   "source": [
    "embedded.compile(optimizer='adam',loss=tf.keras.losses.CategoricalCrossentropy(from_logits=True),metrics=['accuracy'])"
   ]
  },
  {
   "cell_type": "markdown",
   "metadata": {},
   "source": [
    "### Train Model "
   ]
  },
  {
   "cell_type": "code",
   "execution_count": 17,
   "metadata": {},
   "outputs": [],
   "source": [
    "PATIENCE = 10\n",
    "BATCH_SIZE = 128\n",
    "EPOCHS = 100\n",
    "\n",
    "early = callbacks.EarlyStopping(monitor='val_loss', min_delta=0, patience=PATIENCE, verbose=1, mode='min', baseline=None, restore_best_weights=False)\n",
    "callback_list = [early]"
   ]
  },
  {
   "cell_type": "code",
   "execution_count": 18,
   "metadata": {},
   "outputs": [
    {
     "name": "stdout",
     "output_type": "stream",
     "text": [
      "Train on 76260 samples, validate on 9340 samples\n",
      "Epoch 1/100\n",
      "76260/76260 - 7s - loss: 1.9392 - accuracy: 0.8312 - val_loss: 1.8428 - val_accuracy: 0.9176\n",
      "Epoch 2/100\n",
      "76260/76260 - 3s - loss: 1.8554 - accuracy: 0.9041 - val_loss: 1.8232 - val_accuracy: 0.9346\n",
      "Epoch 3/100\n",
      "76260/76260 - 3s - loss: 1.8366 - accuracy: 0.9213 - val_loss: 1.8199 - val_accuracy: 0.9366\n",
      "Epoch 4/100\n",
      "76260/76260 - 3s - loss: 1.8273 - accuracy: 0.9304 - val_loss: 1.8223 - val_accuracy: 0.9344\n",
      "Epoch 5/100\n",
      "76260/76260 - 3s - loss: 1.8185 - accuracy: 0.9383 - val_loss: 1.8194 - val_accuracy: 0.9364\n",
      "Epoch 6/100\n",
      "76260/76260 - 3s - loss: 1.8135 - accuracy: 0.9432 - val_loss: 1.8164 - val_accuracy: 0.9395\n",
      "Epoch 7/100\n",
      "76260/76260 - 3s - loss: 1.8097 - accuracy: 0.9470 - val_loss: 1.8188 - val_accuracy: 0.9372\n",
      "Epoch 8/100\n",
      "76260/76260 - 3s - loss: 1.8058 - accuracy: 0.9505 - val_loss: 1.8179 - val_accuracy: 0.9380\n",
      "Epoch 9/100\n",
      "76260/76260 - 3s - loss: 1.8029 - accuracy: 0.9533 - val_loss: 1.8118 - val_accuracy: 0.9448\n",
      "Epoch 10/100\n",
      "76260/76260 - 3s - loss: 1.8009 - accuracy: 0.9552 - val_loss: 1.8120 - val_accuracy: 0.9437\n",
      "Epoch 11/100\n",
      "76260/76260 - 3s - loss: 1.7969 - accuracy: 0.9594 - val_loss: 1.8112 - val_accuracy: 0.9446\n",
      "Epoch 12/100\n",
      "76260/76260 - 3s - loss: 1.7957 - accuracy: 0.9603 - val_loss: 1.8112 - val_accuracy: 0.9441\n",
      "Epoch 13/100\n",
      "76260/76260 - 3s - loss: 1.7950 - accuracy: 0.9609 - val_loss: 1.8161 - val_accuracy: 0.9390\n",
      "Epoch 14/100\n",
      "76260/76260 - 3s - loss: 1.7929 - accuracy: 0.9629 - val_loss: 1.8128 - val_accuracy: 0.9427\n",
      "Epoch 15/100\n",
      "76260/76260 - 3s - loss: 1.7917 - accuracy: 0.9642 - val_loss: 1.8105 - val_accuracy: 0.9455\n",
      "Epoch 16/100\n",
      "76260/76260 - 3s - loss: 1.7896 - accuracy: 0.9661 - val_loss: 1.8120 - val_accuracy: 0.9434\n",
      "Epoch 17/100\n",
      "76260/76260 - 3s - loss: 1.7897 - accuracy: 0.9662 - val_loss: 1.8119 - val_accuracy: 0.9430\n",
      "Epoch 18/100\n",
      "76260/76260 - 3s - loss: 1.7882 - accuracy: 0.9674 - val_loss: 1.8123 - val_accuracy: 0.9425\n",
      "Epoch 19/100\n",
      "76260/76260 - 3s - loss: 1.7875 - accuracy: 0.9681 - val_loss: 1.8097 - val_accuracy: 0.9456\n",
      "Epoch 20/100\n",
      "76260/76260 - 3s - loss: 1.7863 - accuracy: 0.9691 - val_loss: 1.8100 - val_accuracy: 0.9454\n",
      "Epoch 21/100\n",
      "76260/76260 - 3s - loss: 1.7855 - accuracy: 0.9701 - val_loss: 1.8114 - val_accuracy: 0.9429\n",
      "Epoch 22/100\n",
      "76260/76260 - 3s - loss: 1.7841 - accuracy: 0.9715 - val_loss: 1.8062 - val_accuracy: 0.9491\n",
      "Epoch 23/100\n",
      "76260/76260 - 3s - loss: 1.7836 - accuracy: 0.9716 - val_loss: 1.8135 - val_accuracy: 0.9414\n",
      "Epoch 24/100\n",
      "76260/76260 - 3s - loss: 1.7839 - accuracy: 0.9717 - val_loss: 1.8087 - val_accuracy: 0.9461\n",
      "Epoch 25/100\n",
      "76260/76260 - 3s - loss: 1.7834 - accuracy: 0.9721 - val_loss: 1.8098 - val_accuracy: 0.9459\n",
      "Epoch 26/100\n",
      "76260/76260 - 3s - loss: 1.7826 - accuracy: 0.9729 - val_loss: 1.8089 - val_accuracy: 0.9463\n",
      "Epoch 27/100\n",
      "76260/76260 - 3s - loss: 1.7801 - accuracy: 0.9753 - val_loss: 1.8125 - val_accuracy: 0.9423\n",
      "Epoch 28/100\n",
      "76260/76260 - 3s - loss: 1.7809 - accuracy: 0.9747 - val_loss: 1.8089 - val_accuracy: 0.9461\n",
      "Epoch 29/100\n",
      "76260/76260 - 3s - loss: 1.7801 - accuracy: 0.9752 - val_loss: 1.8162 - val_accuracy: 0.9388\n",
      "Epoch 30/100\n",
      "76260/76260 - 3s - loss: 1.7789 - accuracy: 0.9764 - val_loss: 1.8082 - val_accuracy: 0.9467\n",
      "Epoch 31/100\n",
      "76260/76260 - 3s - loss: 1.7794 - accuracy: 0.9759 - val_loss: 1.8143 - val_accuracy: 0.9408\n",
      "Epoch 32/100\n",
      "76260/76260 - 3s - loss: 1.7786 - accuracy: 0.9768 - val_loss: 1.8080 - val_accuracy: 0.9470\n",
      "Epoch 00032: early stopping\n"
     ]
    }
   ],
   "source": [
    "history = embedded.fit(X_train,z_train_oe,\n",
    "    batch_size=BATCH_SIZE,\n",
    "    epochs=EPOCHS,\n",
    "    verbose=2,\n",
    "    validation_data=(X_val,z_val_oe),\n",
    "    callbacks=callback_list)"
   ]
  },
  {
   "cell_type": "code",
   "execution_count": 19,
   "metadata": {},
   "outputs": [],
   "source": [
    "embedded.save('between_embedded.hdf5')"
   ]
  },
  {
   "cell_type": "code",
   "execution_count": 20,
   "metadata": {},
   "outputs": [
    {
     "name": "stdout",
     "output_type": "stream",
     "text": [
      "Classification Report\n",
      "              precision    recall  f1-score   support\n",
      "\n",
      "           2       0.96      0.96      0.96       701\n",
      "           9       0.99      0.98      0.98       688\n",
      "           @       0.95      0.98      0.97       635\n",
      "           A       0.91      0.98      0.95       645\n",
      "           E       0.92      0.95      0.93       697\n",
      "          E:       0.93      0.93      0.93       655\n",
      "           O       0.95      0.94      0.94       729\n",
      "           U       0.93      0.93      0.93       687\n",
      "           a       0.98      0.93      0.95       689\n",
      "           e       0.95      0.93      0.94       644\n",
      "           i       0.98      0.94      0.96       684\n",
      "           o       0.95      0.89      0.92       634\n",
      "           u       0.91      0.95      0.93       659\n",
      "           y       0.93      0.97      0.95       591\n",
      "\n",
      "    accuracy                           0.95      9338\n",
      "   macro avg       0.95      0.95      0.95      9338\n",
      "weighted avg       0.95      0.95      0.95      9338\n",
      "\n"
     ]
    }
   ],
   "source": [
    "z_pred = embedded.predict(X_test)\n",
    "evaluate_model(z_pred, z_test_oe)"
   ]
  },
  {
   "cell_type": "markdown",
   "metadata": {},
   "source": [
    "### Embedded input model"
   ]
  },
  {
   "cell_type": "code",
   "execution_count": 21,
   "metadata": {},
   "outputs": [
    {
     "name": "stdout",
     "output_type": "stream",
     "text": [
      "Model: \"sequential\"\n",
      "_________________________________________________________________\n",
      "Layer (type)                 Output Shape              Param #   \n",
      "=================================================================\n",
      "lstm (LSTM)                  (None, 24, 128)           86016     \n",
      "=================================================================\n",
      "Total params: 86,016\n",
      "Trainable params: 0\n",
      "Non-trainable params: 86,016\n",
      "_________________________________________________________________\n"
     ]
    }
   ],
   "source": [
    "# embedded = tf.keras.models.load_model('pre_embedded.hdf5')\n",
    "\n",
    "embedded_layers = tf.keras.Sequential()\n",
    "for layer in embedded.layers[:-2]:\n",
    "    layer.trainable = False\n",
    "    embedded_layers.add(layer)\n",
    "embedded_layers.summary()\n",
    "\n",
    "N_OUTPUTS = 17\n",
    "\n",
    "pLSTM = partial(LSTM, kernel_initializer='he_uniform', return_sequences=True)\n",
    "pConv1D = partial(Conv1D, padding = 'same', activation = 'linear', kernel_initializer = 'he_uniform')\n",
    "\n",
    "def init_senet_w_emb(feature_layer=1, cnn_unit=128, first_kernel=13, res_unit=128, res_kernel=7,\n",
    "    bilstm = 1, bilstm_unit=256, \n",
    "    dropout_rate=0.3,\n",
    "    reduction_ratio = 2,\n",
    "    activation_fn='relu'):\n",
    "\n",
    "    def cnn_block(input_x, cnn_unit, kernel_size):\n",
    "        x = pConv1D(cnn_unit, kernel_size=kernel_size)(input_x)\n",
    "        x = BatchNormalization()(x)\n",
    "        x = Activation(activation_fn)(x)\n",
    "        return x\n",
    "    \n",
    "    def residual_block(input_x):\n",
    "        x = pConv1D(res_unit, kernel_size=res_kernel)(input_x)\n",
    "        x = BatchNormalization()(x)\n",
    "        x = Activation(activation_fn)(x)\n",
    "        x = pConv1D(res_unit, kernel_size=3)(x)\n",
    "        return x\n",
    "\n",
    "    def se_block(input_x):\n",
    "        x = layers.GlobalAveragePooling1D()(input_x)\n",
    "        channel_shape = getattr(x, '_shape_val')[-1]\n",
    "        x = Reshape((1, channel_shape))(x)\n",
    "        x = Dense(channel_shape // reduction_ratio, activation=activation_fn, kernel_initializer='he_uniform')(x)\n",
    "        x = Dense(channel_shape, activation='tanh', kernel_initializer='he_uniform')(x)\n",
    "        x = layers.Multiply()([x, input_x])\n",
    "        return x\n",
    "\n",
    "    def se_res_block(input_x):\n",
    "        se_x = se_block(input_x)\n",
    "        re_x = residual_block(input_x)\n",
    "        x = keras.layers.Add()([re_x, se_x])\n",
    "        x = BatchNormalization()(x)\n",
    "        output = Activation(activation_fn)(x)\n",
    "        return x\n",
    "\n",
    "    def senet_nn(input_shape_1,input_shape_2):\n",
    "\n",
    "        input_x = keras.Input(shape=(input_shape_1,input_shape_2))\n",
    "        x = cnn_block(input_x, cnn_unit, first_kernel)\n",
    "        for i in range(feature_layer):\n",
    "            x = se_res_block(x)\n",
    "        x = SpatialDropout1D(rate=dropout_rate)(x)\n",
    "        for i in range(feature_layer):\n",
    "            x = se_res_block(x)\n",
    "            x = SpatialDropout1D(rate=dropout_rate)(x)\n",
    "#         x = cnn_block(x, cnn_unit=cnn_unit, kernel_size=1)\n",
    "        # Embedded\n",
    "        embedded = embedded_layers(input_x)\n",
    "        x = layers.Concatenate()([x, embedded])\n",
    "#         x = SpatialDropout1D(rate=dropout_rate)(x)\n",
    "        for i in range(bilstm-1):\n",
    "            x = Bidirectional(pLSTM(bilstm_unit))(x)\n",
    "            x = SpatialDropout1D(rate=dropout_rate)(x)\n",
    "        x = Bidirectional(pLSTM(bilstm_unit, return_sequences=False))(x)\n",
    "        x = Dropout(rate=dropout_rate)(x)\n",
    "        outputs = Dense(N_OUTPUTS, activation='linear', kernel_initializer='he_uniform')(x)\n",
    "        model = keras.Model(inputs=input_x, outputs=outputs)\n",
    "        return model\n",
    "\n",
    "    return senet_nn"
   ]
  },
  {
   "cell_type": "code",
   "execution_count": 22,
   "metadata": {},
   "outputs": [
    {
     "name": "stdout",
     "output_type": "stream",
     "text": [
      "Model: \"model_1\"\n",
      "__________________________________________________________________________________________________\n",
      "Layer (type)                    Output Shape         Param #     Connected to                     \n",
      "==================================================================================================\n",
      "input_2 (InputLayer)            [(None, 24, 39)]     0                                            \n",
      "__________________________________________________________________________________________________\n",
      "conv1d (Conv1D)                 (None, 24, 128)      65024       input_2[0][0]                    \n",
      "__________________________________________________________________________________________________\n",
      "batch_normalization (BatchNorma (None, 24, 128)      512         conv1d[0][0]                     \n",
      "__________________________________________________________________________________________________\n",
      "activation (Activation)         (None, 24, 128)      0           batch_normalization[0][0]        \n",
      "__________________________________________________________________________________________________\n",
      "global_average_pooling1d (Globa (None, 128)          0           activation[0][0]                 \n",
      "__________________________________________________________________________________________________\n",
      "conv1d_1 (Conv1D)               (None, 24, 128)      114816      activation[0][0]                 \n",
      "__________________________________________________________________________________________________\n",
      "reshape (Reshape)               (None, 1, 128)       0           global_average_pooling1d[0][0]   \n",
      "__________________________________________________________________________________________________\n",
      "batch_normalization_1 (BatchNor (None, 24, 128)      512         conv1d_1[0][0]                   \n",
      "__________________________________________________________________________________________________\n",
      "dense_1 (Dense)                 (None, 1, 64)        8256        reshape[0][0]                    \n",
      "__________________________________________________________________________________________________\n",
      "activation_1 (Activation)       (None, 24, 128)      0           batch_normalization_1[0][0]      \n",
      "__________________________________________________________________________________________________\n",
      "dense_2 (Dense)                 (None, 1, 128)       8320        dense_1[0][0]                    \n",
      "__________________________________________________________________________________________________\n",
      "conv1d_2 (Conv1D)               (None, 24, 128)      49280       activation_1[0][0]               \n",
      "__________________________________________________________________________________________________\n",
      "multiply (Multiply)             (None, 24, 128)      0           dense_2[0][0]                    \n",
      "                                                                 activation[0][0]                 \n",
      "__________________________________________________________________________________________________\n",
      "add (Add)                       (None, 24, 128)      0           conv1d_2[0][0]                   \n",
      "                                                                 multiply[0][0]                   \n",
      "__________________________________________________________________________________________________\n",
      "batch_normalization_2 (BatchNor (None, 24, 128)      512         add[0][0]                        \n",
      "__________________________________________________________________________________________________\n",
      "spatial_dropout1d (SpatialDropo (None, 24, 128)      0           batch_normalization_2[0][0]      \n",
      "__________________________________________________________________________________________________\n",
      "global_average_pooling1d_1 (Glo (None, 128)          0           spatial_dropout1d[0][0]          \n",
      "__________________________________________________________________________________________________\n",
      "conv1d_3 (Conv1D)               (None, 24, 128)      114816      spatial_dropout1d[0][0]          \n",
      "__________________________________________________________________________________________________\n",
      "reshape_1 (Reshape)             (None, 1, 128)       0           global_average_pooling1d_1[0][0] \n",
      "__________________________________________________________________________________________________\n",
      "batch_normalization_3 (BatchNor (None, 24, 128)      512         conv1d_3[0][0]                   \n",
      "__________________________________________________________________________________________________\n",
      "dense_3 (Dense)                 (None, 1, 64)        8256        reshape_1[0][0]                  \n",
      "__________________________________________________________________________________________________\n",
      "activation_3 (Activation)       (None, 24, 128)      0           batch_normalization_3[0][0]      \n",
      "__________________________________________________________________________________________________\n",
      "dense_4 (Dense)                 (None, 1, 128)       8320        dense_3[0][0]                    \n",
      "__________________________________________________________________________________________________\n",
      "conv1d_4 (Conv1D)               (None, 24, 128)      49280       activation_3[0][0]               \n",
      "__________________________________________________________________________________________________\n",
      "multiply_1 (Multiply)           (None, 24, 128)      0           dense_4[0][0]                    \n",
      "                                                                 spatial_dropout1d[0][0]          \n",
      "__________________________________________________________________________________________________\n",
      "add_1 (Add)                     (None, 24, 128)      0           conv1d_4[0][0]                   \n",
      "                                                                 multiply_1[0][0]                 \n",
      "__________________________________________________________________________________________________\n",
      "batch_normalization_4 (BatchNor (None, 24, 128)      512         add_1[0][0]                      \n",
      "__________________________________________________________________________________________________\n",
      "spatial_dropout1d_1 (SpatialDro (None, 24, 128)      0           batch_normalization_4[0][0]      \n",
      "__________________________________________________________________________________________________\n",
      "sequential (Sequential)         (None, 24, 128)      86016       input_2[0][0]                    \n",
      "__________________________________________________________________________________________________\n",
      "concatenate (Concatenate)       (None, 24, 256)      0           spatial_dropout1d_1[0][0]        \n",
      "                                                                 sequential[1][0]                 \n",
      "__________________________________________________________________________________________________\n",
      "bidirectional (Bidirectional)   (None, 512)          1050624     concatenate[0][0]                \n",
      "__________________________________________________________________________________________________\n",
      "dropout (Dropout)               (None, 512)          0           bidirectional[0][0]              \n",
      "__________________________________________________________________________________________________\n",
      "dense_5 (Dense)                 (None, 17)           8721        dropout[0][0]                    \n",
      "==================================================================================================\n",
      "Total params: 1,574,289\n",
      "Trainable params: 1,486,993\n",
      "Non-trainable params: 87,296\n",
      "__________________________________________________________________________________________________\n"
     ]
    }
   ],
   "source": [
    "emb_model = init_senet_w_emb()(24, 39)\n",
    "emb_model.summary()"
   ]
  },
  {
   "cell_type": "markdown",
   "metadata": {},
   "source": [
    "### Compile Model "
   ]
  },
  {
   "cell_type": "code",
   "execution_count": 23,
   "metadata": {},
   "outputs": [],
   "source": [
    "emb_model.compile(optimizer='adam',loss='mse',metrics=[rmse, R2])"
   ]
  },
  {
   "cell_type": "markdown",
   "metadata": {},
   "source": [
    "### Train Model "
   ]
  },
  {
   "cell_type": "code",
   "execution_count": 24,
   "metadata": {},
   "outputs": [],
   "source": [
    "PATIENCE = 10\n",
    "BATCH_SIZE = 128\n",
    "EPOCHS = 100\n",
    "\n",
    "early = callbacks.EarlyStopping(monitor='val_loss', min_delta=0, patience=PATIENCE, verbose=1, mode='min', baseline=None, restore_best_weights=False)\n",
    "callback_list = [early]"
   ]
  },
  {
   "cell_type": "code",
   "execution_count": 25,
   "metadata": {},
   "outputs": [
    {
     "name": "stdout",
     "output_type": "stream",
     "text": [
      "Train on 76260 samples, validate on 9340 samples\n",
      "Epoch 1/100\n",
      "76260/76260 - 26s - loss: 0.0586 - rmse: 0.2198 - R2: 0.7608 - val_loss: 0.0281 - val_rmse: 0.1553 - val_R2: 0.8862\n",
      "Epoch 2/100\n",
      "76260/76260 - 16s - loss: 0.0322 - rmse: 0.1682 - R2: 0.8704 - val_loss: 0.0268 - val_rmse: 0.1491 - val_R2: 0.8911\n",
      "Epoch 3/100\n",
      "76260/76260 - 16s - loss: 0.0292 - rmse: 0.1599 - R2: 0.8825 - val_loss: 0.0255 - val_rmse: 0.1450 - val_R2: 0.8962\n",
      "Epoch 4/100\n",
      "76260/76260 - 16s - loss: 0.0277 - rmse: 0.1557 - R2: 0.8883 - val_loss: 0.0252 - val_rmse: 0.1431 - val_R2: 0.8971\n",
      "Epoch 5/100\n",
      "76260/76260 - 16s - loss: 0.0269 - rmse: 0.1534 - R2: 0.8914 - val_loss: 0.0251 - val_rmse: 0.1427 - val_R2: 0.8978\n",
      "Epoch 6/100\n",
      "76260/76260 - 16s - loss: 0.0257 - rmse: 0.1501 - R2: 0.8962 - val_loss: 0.0250 - val_rmse: 0.1416 - val_R2: 0.8981\n",
      "Epoch 7/100\n",
      "76260/76260 - 16s - loss: 0.0251 - rmse: 0.1481 - R2: 0.8987 - val_loss: 0.0247 - val_rmse: 0.1406 - val_R2: 0.8987\n",
      "Epoch 8/100\n",
      "76260/76260 - 16s - loss: 0.0242 - rmse: 0.1458 - R2: 0.9020 - val_loss: 0.0240 - val_rmse: 0.1388 - val_R2: 0.9016\n",
      "Epoch 9/100\n",
      "76260/76260 - 16s - loss: 0.0236 - rmse: 0.1439 - R2: 0.9045 - val_loss: 0.0243 - val_rmse: 0.1387 - val_R2: 0.9004\n",
      "Epoch 10/100\n",
      "76260/76260 - 16s - loss: 0.0226 - rmse: 0.1411 - R2: 0.9084 - val_loss: 0.0240 - val_rmse: 0.1378 - val_R2: 0.9016\n",
      "Epoch 11/100\n",
      "76260/76260 - 16s - loss: 0.0220 - rmse: 0.1392 - R2: 0.9109 - val_loss: 0.0245 - val_rmse: 0.1392 - val_R2: 0.8994\n",
      "Epoch 12/100\n",
      "76260/76260 - 16s - loss: 0.0215 - rmse: 0.1378 - R2: 0.9128 - val_loss: 0.0240 - val_rmse: 0.1378 - val_R2: 0.9015\n",
      "Epoch 13/100\n",
      "76260/76260 - 16s - loss: 0.0209 - rmse: 0.1362 - R2: 0.9151 - val_loss: 0.0236 - val_rmse: 0.1372 - val_R2: 0.9037\n",
      "Epoch 14/100\n",
      "76260/76260 - 16s - loss: 0.0204 - rmse: 0.1345 - R2: 0.9174 - val_loss: 0.0241 - val_rmse: 0.1375 - val_R2: 0.9013\n",
      "Epoch 15/100\n",
      "76260/76260 - 16s - loss: 0.0198 - rmse: 0.1329 - R2: 0.9197 - val_loss: 0.0234 - val_rmse: 0.1361 - val_R2: 0.9042\n",
      "Epoch 16/100\n",
      "76260/76260 - 16s - loss: 0.0193 - rmse: 0.1315 - R2: 0.9217 - val_loss: 0.0231 - val_rmse: 0.1355 - val_R2: 0.9056\n",
      "Epoch 17/100\n",
      "76260/76260 - 16s - loss: 0.0188 - rmse: 0.1301 - R2: 0.9237 - val_loss: 0.0237 - val_rmse: 0.1364 - val_R2: 0.9032\n",
      "Epoch 18/100\n",
      "76260/76260 - 16s - loss: 0.0183 - rmse: 0.1286 - R2: 0.9258 - val_loss: 0.0235 - val_rmse: 0.1361 - val_R2: 0.9038\n",
      "Epoch 19/100\n",
      "76260/76260 - 16s - loss: 0.0181 - rmse: 0.1280 - R2: 0.9265 - val_loss: 0.0232 - val_rmse: 0.1356 - val_R2: 0.9050\n",
      "Epoch 20/100\n",
      "76260/76260 - 16s - loss: 0.0177 - rmse: 0.1268 - R2: 0.9280 - val_loss: 0.0238 - val_rmse: 0.1368 - val_R2: 0.9031\n",
      "Epoch 21/100\n",
      "76260/76260 - 16s - loss: 0.0172 - rmse: 0.1254 - R2: 0.9300 - val_loss: 0.0234 - val_rmse: 0.1356 - val_R2: 0.9045\n",
      "Epoch 22/100\n",
      "76260/76260 - 16s - loss: 0.0170 - rmse: 0.1247 - R2: 0.9308 - val_loss: 0.0234 - val_rmse: 0.1358 - val_R2: 0.9043\n",
      "Epoch 23/100\n",
      "76260/76260 - 16s - loss: 0.0165 - rmse: 0.1232 - R2: 0.9327 - val_loss: 0.0237 - val_rmse: 0.1363 - val_R2: 0.9032\n",
      "Epoch 24/100\n",
      "76260/76260 - 16s - loss: 0.0162 - rmse: 0.1221 - R2: 0.9342 - val_loss: 0.0237 - val_rmse: 0.1364 - val_R2: 0.9031\n",
      "Epoch 25/100\n",
      "76260/76260 - 16s - loss: 0.0161 - rmse: 0.1217 - R2: 0.9346 - val_loss: 0.0236 - val_rmse: 0.1360 - val_R2: 0.9033\n",
      "Epoch 26/100\n",
      "76260/76260 - 16s - loss: 0.0158 - rmse: 0.1207 - R2: 0.9357 - val_loss: 0.0237 - val_rmse: 0.1361 - val_R2: 0.9032\n",
      "Epoch 00026: early stopping\n"
     ]
    }
   ],
   "source": [
    "history = emb_model.fit(X_train,y_train,\n",
    "    batch_size=BATCH_SIZE,\n",
    "    epochs=EPOCHS,\n",
    "    verbose=2,\n",
    "    validation_data=(X_val,y_val),\n",
    "    callbacks=callback_list)"
   ]
  },
  {
   "cell_type": "code",
   "execution_count": 26,
   "metadata": {},
   "outputs": [],
   "source": [
    "emb_model.save('model_with_between_embedded.hdf5')"
   ]
  },
  {
   "cell_type": "markdown",
   "metadata": {},
   "source": [
    "## Evaluated "
   ]
  },
  {
   "cell_type": "code",
   "execution_count": 27,
   "metadata": {},
   "outputs": [
    {
     "data": {
      "text/plain": [
       "[0.023792340254826398, 0.13660981, 0.8965779]"
      ]
     },
     "execution_count": 27,
     "metadata": {},
     "output_type": "execute_result"
    }
   ],
   "source": [
    "emb_model.evaluate(X_test,y_test,verbose=0)"
   ]
  },
  {
   "cell_type": "code",
   "execution_count": 28,
   "metadata": {},
   "outputs": [],
   "source": [
    "y_pred = emb_model.predict(X_test)"
   ]
  },
  {
   "cell_type": "code",
   "execution_count": 29,
   "metadata": {},
   "outputs": [
    {
     "data": {
      "text/plain": [
       "array([0.15502277, 0.13169323, 0.12194111, 0.13957697, 0.15122224,\n",
       "       0.19693145, 0.21309529, 0.09659721, 0.10947966, 0.15003618,\n",
       "       0.16279915, 0.13803637, 0.14098625, 0.19930146, 0.15732932,\n",
       "       0.14854874, 0.16087504])"
      ]
     },
     "execution_count": 29,
     "metadata": {},
     "output_type": "execute_result"
    }
   ],
   "source": [
    "compute_rmse(y_test,y_pred, axis=0)"
   ]
  },
  {
   "cell_type": "code",
   "execution_count": null,
   "metadata": {},
   "outputs": [],
   "source": []
  }
 ],
 "metadata": {
  "kernelspec": {
   "display_name": "Python 3",
   "language": "python",
   "name": "python3"
  },
  "language_info": {
   "codemirror_mode": {
    "name": "ipython",
    "version": 3
   },
   "file_extension": ".py",
   "mimetype": "text/x-python",
   "name": "python",
   "nbconvert_exporter": "python",
   "pygments_lexer": "ipython3",
   "version": "3.6.10"
  }
 },
 "nbformat": 4,
 "nbformat_minor": 4
}
