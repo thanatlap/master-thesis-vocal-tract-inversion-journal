{
 "cells": [
  {
   "cell_type": "markdown",
   "metadata": {},
   "source": [
    "# Experiment on AAI Model Architectures\n",
    "- Created: 10 Mar 2020\n",
    "- Data: param_draft1 40k\n",
    "- Increase data size and change model architecture\n",
    "- Identity SE, between (cnn and bilstm) embedding feature \n",
    "- expeirment 20 21"
   ]
  },
  {
   "cell_type": "code",
   "execution_count": 1,
   "metadata": {},
   "outputs": [],
   "source": [
    "from __future__ import absolute_import, division, print_function, unicode_literals\n",
    "import numpy as np\n",
    "import pandas as pd\n",
    "import matplotlib.pyplot as plt\n",
    "import os\n",
    "from os.path import join\n",
    "import tensorflow as tf\n",
    "from tensorflow import keras\n",
    "\n",
    "from tensorflow.keras import models\n",
    "from tensorflow.keras import optimizers\n",
    "from tensorflow.keras import regularizers\n",
    "from tensorflow.keras import callbacks\n",
    "from time import time\n",
    "from datetime import datetime\n",
    "import shutil \n",
    "import argparse\n",
    "from functools import partial\n",
    "import pickle\n",
    "from IPython.display import Audio\n",
    "\n",
    "import tensorflow as tf\n",
    "from tensorflow import keras\n",
    "from tensorflow.keras import layers\n",
    "from tensorflow.keras import backend as K\n",
    "from tensorflow.keras import regularizers\n",
    "from tensorflow.keras.layers import Reshape, GRU, InputLayer, AlphaDropout, Activation, BatchNormalization, Dropout, Flatten, Dense, Bidirectional, LSTM, Conv1D, SpatialDropout1D, Concatenate, Multiply, Add\n",
    "\n",
    "from sklearn.model_selection import train_test_split\n",
    "from sklearn.metrics import classification_report, confusion_matrix\n",
    "from sklearn.preprocessing import OneHotEncoder"
   ]
  },
  {
   "cell_type": "code",
   "execution_count": 2,
   "metadata": {},
   "outputs": [],
   "source": [
    "np_load_old = partial(np.load)\n",
    "np.load = lambda *a,**k: np_load_old(*a, allow_pickle=True, **k)"
   ]
  },
  {
   "cell_type": "code",
   "execution_count": 3,
   "metadata": {},
   "outputs": [],
   "source": [
    "tf.random.set_seed(42)"
   ]
  },
  {
   "cell_type": "markdown",
   "metadata": {},
   "source": [
    "## Metric Function"
   ]
  },
  {
   "cell_type": "code",
   "execution_count": 4,
   "metadata": {},
   "outputs": [],
   "source": [
    "def rmse(y_true, y_pred):\n",
    "    return K.sqrt(K.mean(K.square(y_pred - y_true), axis=-1))\n",
    "\n",
    "def R2(y_true, y_pred):\n",
    "    SS_res =  K.sum(K.square(y_true - y_pred), axis = 0) \n",
    "    SS_tot = K.sum(K.square(y_true - K.mean(y_true, axis = 0)), axis = 0) \n",
    "    return K.mean(1 - (SS_res/SS_tot), axis=0)"
   ]
  },
  {
   "cell_type": "markdown",
   "metadata": {},
   "source": [
    "## Utility Functions"
   ]
  },
  {
   "cell_type": "code",
   "execution_count": 5,
   "metadata": {},
   "outputs": [],
   "source": [
    "#Function for preprocessing data\n",
    "def delete_params(params):\n",
    "    '''\n",
    "    This function remove JX, WC, TRX, TRY, and MS1,2,3 paramter\n",
    "    '''\n",
    "    DEL_PARAMS_LIST = [2,8,15,16,21,22,23]\n",
    "    return np.delete(params,DEL_PARAMS_LIST , axis=1)"
   ]
  },
  {
   "cell_type": "code",
   "execution_count": 6,
   "metadata": {},
   "outputs": [],
   "source": [
    "def compute_rmse(actual,pred, axis=1):\n",
    "    # Compute RMSE by row (axis=1) result in rmse of each data\n",
    "    # Compute RMSE by column (axis=0) result in rmse of each label\n",
    "    return np.sqrt((np.square(actual - pred)).mean(axis=axis))"
   ]
  },
  {
   "cell_type": "code",
   "execution_count": 7,
   "metadata": {},
   "outputs": [],
   "source": [
    "def evaluate_model(y_pred, label):\n",
    "    y_pred = enc.inverse_transform(y_pred)\n",
    "    label = enc.inverse_transform(label)\n",
    "#     print('Confusion Matrix')\n",
    "#     print(confusion_matrix(label, y_pred))\n",
    "    print('Classification Report')\n",
    "    print(classification_report(label, y_pred))"
   ]
  },
  {
   "cell_type": "code",
   "execution_count": 8,
   "metadata": {},
   "outputs": [],
   "source": [
    "def compute_se(actual,pred):\n",
    "    return np.sqrt((np.square(actual - pred)))"
   ]
  },
  {
   "cell_type": "markdown",
   "metadata": {},
   "source": [
    "## Load Data "
   ]
  },
  {
   "cell_type": "code",
   "execution_count": 9,
   "metadata": {},
   "outputs": [],
   "source": [
    "def prep_data():\n",
    "\n",
    "    # load data from preprocess pipeline\n",
    "    dataset = np.load(join('../../data/d_dataset_p1/prep_data_13_2','training_subsets.npz'))\n",
    "    X_train =dataset['X_train']\n",
    "    y_train= dataset['y_train']\n",
    "    z_train= dataset['z_train']\n",
    "    X_val = dataset['X_val']\n",
    "    y_val = dataset['y_val']\n",
    "    z_val = dataset['z_val']\n",
    "    X_test = dataset['X_test']\n",
    "    y_test = dataset['y_test']\n",
    "    z_test = dataset['z_test']\n",
    "    a_test = dataset['audio_test']\n",
    "    a_val = dataset['audio_val']\n",
    "    \n",
    "    y_train = delete_params(y_train)\n",
    "    y_val = delete_params(y_val)\n",
    "    y_test = delete_params(y_test)\n",
    "\n",
    "    print('Train features and labels %s %s'%(str(X_train.shape),str(y_train.shape)))\n",
    "    print('Validating features and labels %s %s'%(str(X_val.shape),str(y_val.shape)))\n",
    "    print('Test features and labels %s %s'%(str(X_test.shape),str(y_test.shape)))\n",
    "\n",
    "    return X_train, X_val, X_test, y_train, y_val, y_test, z_train, z_val, z_test, a_test, a_val"
   ]
  },
  {
   "cell_type": "code",
   "execution_count": 10,
   "metadata": {},
   "outputs": [
    {
     "name": "stdout",
     "output_type": "stream",
     "text": [
      "Train features and labels (98746, 24, 39) (98746, 17)\n",
      "Validating features and labels (12094, 24, 39) (12094, 17)\n",
      "Test features and labels (12092, 24, 39) (12092, 17)\n"
     ]
    }
   ],
   "source": [
    "X_train, X_val, X_test, y_train, y_val, y_test, z_train, z_val, z_test, a_test, a_val = prep_data()"
   ]
  },
  {
   "cell_type": "code",
   "execution_count": 11,
   "metadata": {},
   "outputs": [
    {
     "name": "stdout",
     "output_type": "stream",
     "text": [
      "{'i', 'E', 'V', '&', 'U', '9', 'u', 'O', 'e', 'M', '2', 'E:', '7', 'y', 'a', '@', 'o', 'Q', 'A'}\n"
     ]
    }
   ],
   "source": [
    "print(set(z_test))"
   ]
  },
  {
   "cell_type": "code",
   "execution_count": 12,
   "metadata": {},
   "outputs": [
    {
     "name": "stdout",
     "output_type": "stream",
     "text": [
      "Train features and labels (98746, 24, 39) (98746, 17) (98746,)\n",
      "Validating features and labels (12094, 24, 39) (12094, 17) (12094,)\n",
      "Test features and labels (12092, 24, 39) (12092, 17) (12092,)\n"
     ]
    }
   ],
   "source": [
    "print('Train features and labels {} {} {}'.format(str(X_train.shape),str(y_train.shape),str(z_train.shape)))\n",
    "print('Validating features and labels {} {} {}'.format(str(X_val.shape),str(y_val.shape),str(z_val.shape)))\n",
    "print('Test features and labels {} {} {}'.format(str(X_test.shape),str(y_test.shape),str(z_test.shape)))"
   ]
  },
  {
   "cell_type": "markdown",
   "metadata": {},
   "source": [
    "### One-hot label "
   ]
  },
  {
   "cell_type": "code",
   "execution_count": 13,
   "metadata": {},
   "outputs": [],
   "source": [
    "z_train_oe=z_train.reshape(-1,1)\n",
    "z_val_oe=z_val.reshape(-1,1)\n",
    "z_test_oe=z_test.reshape(-1,1)\n",
    "\n",
    "enc = OneHotEncoder(handle_unknown = 'ignore')\n",
    "enc.fit(z_train_oe)\n",
    "\n",
    "z_train_oe = enc.transform(z_train_oe).toarray()\n",
    "z_test_oe = enc.transform(z_test_oe).toarray()\n",
    "z_val_oe = enc.transform(z_val_oe).toarray()"
   ]
  },
  {
   "cell_type": "markdown",
   "metadata": {},
   "source": [
    "## 1.) Train Baseline Model\n",
    "- Model without embedding feature"
   ]
  },
  {
   "cell_type": "markdown",
   "metadata": {},
   "source": [
    "### Defined Model without Embedded Feature"
   ]
  },
  {
   "cell_type": "code",
   "execution_count": 14,
   "metadata": {},
   "outputs": [],
   "source": [
    "N_OUTPUTS = 17\n",
    "\n",
    "pLSTM = partial(LSTM, kernel_initializer='he_uniform', return_sequences=True)\n",
    "pConv1D = partial(Conv1D, padding = 'same', activation = 'linear', kernel_initializer = 'he_uniform')\n",
    "\n",
    "def init_senet(feature_layer=1, cnn_unit=128, first_kernel=13, res_unit=128, res_kernel=7,\n",
    "    bilstm = 1, bilstm_unit=256, \n",
    "    dropout_rate=0.3,\n",
    "    reduction_ratio = 2,\n",
    "    activation_fn='relu'):\n",
    "\n",
    "\n",
    "    def cnn_block(input_x, cnn_unit, kernel_size):\n",
    "        x = pConv1D(cnn_unit, kernel_size=kernel_size)(input_x)\n",
    "        x = BatchNormalization()(x)\n",
    "        x = Activation(activation_fn)(x)\n",
    "        return x\n",
    "    \n",
    "    def residual_block(input_x):\n",
    "        x = pConv1D(res_unit, kernel_size=res_kernel)(input_x)\n",
    "        x = BatchNormalization()(x)\n",
    "        x = Activation(activation_fn)(x)\n",
    "        x = pConv1D(res_unit, kernel_size=3)(x)\n",
    "        return x\n",
    "\n",
    "    def se_block(input_x):\n",
    "        x = layers.GlobalAveragePooling1D()(input_x)\n",
    "        channel_shape = getattr(x, '_shape_val')[-1]\n",
    "        x = Reshape((1, channel_shape))(x)\n",
    "        x = Dense(channel_shape // reduction_ratio, activation=activation_fn, kernel_initializer='he_uniform')(x)\n",
    "        x = Dense(channel_shape, activation='tanh', kernel_initializer='he_uniform')(x)\n",
    "        x = layers.Multiply()([x, input_x])\n",
    "        return x\n",
    "\n",
    "    def se_res_block(input_x):\n",
    "        se_x = se_block(input_x)\n",
    "        re_x = residual_block(input_x)\n",
    "        x = keras.layers.Add()([re_x, se_x])\n",
    "        x = BatchNormalization()(x)\n",
    "        output = Activation(activation_fn)(x)\n",
    "        return x\n",
    "\n",
    "    def senet_nn(input_shape_1,input_shape_2):\n",
    "\n",
    "        input_x = keras.Input(shape=(input_shape_1,input_shape_2))\n",
    "        x = cnn_block(input_x, cnn_unit, first_kernel)\n",
    "        for i in range(feature_layer):\n",
    "            x = se_res_block(x)\n",
    "        x = SpatialDropout1D(rate=dropout_rate)(x)\n",
    "        for i in range(feature_layer):\n",
    "            x = se_res_block(x)\n",
    "            x = SpatialDropout1D(rate=dropout_rate)(x)\n",
    "#         x = cnn_block(x, cnn_unit=cnn_unit, kernel_size=1)\n",
    "#         x = SpatialDropout1D(rate=dropout_rate)(x)\n",
    "        for i in range(bilstm-1):\n",
    "            x = Bidirectional(pLSTM(bilstm_unit))(x)\n",
    "            x = SpatialDropout1D(rate=dropout_rate)(x)\n",
    "        x = Bidirectional(pLSTM(bilstm_unit, return_sequences=False))(x)\n",
    "        x = Dropout(rate=dropout_rate)(x)\n",
    "        outputs = Dense(N_OUTPUTS, activation='linear', kernel_initializer='he_uniform')(x)\n",
    "        model = keras.Model(inputs=input_x, outputs=outputs)\n",
    "        return model\n",
    "\n",
    "    return senet_nn"
   ]
  },
  {
   "cell_type": "code",
   "execution_count": 15,
   "metadata": {},
   "outputs": [],
   "source": [
    "model = init_senet()(24, 39)"
   ]
  },
  {
   "cell_type": "code",
   "execution_count": 16,
   "metadata": {},
   "outputs": [
    {
     "name": "stdout",
     "output_type": "stream",
     "text": [
      "Model: \"model\"\n",
      "__________________________________________________________________________________________________\n",
      "Layer (type)                    Output Shape         Param #     Connected to                     \n",
      "==================================================================================================\n",
      "input_1 (InputLayer)            [(None, 24, 39)]     0                                            \n",
      "__________________________________________________________________________________________________\n",
      "conv1d (Conv1D)                 (None, 24, 128)      65024       input_1[0][0]                    \n",
      "__________________________________________________________________________________________________\n",
      "batch_normalization (BatchNorma (None, 24, 128)      512         conv1d[0][0]                     \n",
      "__________________________________________________________________________________________________\n",
      "activation (Activation)         (None, 24, 128)      0           batch_normalization[0][0]        \n",
      "__________________________________________________________________________________________________\n",
      "global_average_pooling1d (Globa (None, 128)          0           activation[0][0]                 \n",
      "__________________________________________________________________________________________________\n",
      "conv1d_1 (Conv1D)               (None, 24, 128)      114816      activation[0][0]                 \n",
      "__________________________________________________________________________________________________\n",
      "reshape (Reshape)               (None, 1, 128)       0           global_average_pooling1d[0][0]   \n",
      "__________________________________________________________________________________________________\n",
      "batch_normalization_1 (BatchNor (None, 24, 128)      512         conv1d_1[0][0]                   \n",
      "__________________________________________________________________________________________________\n",
      "dense (Dense)                   (None, 1, 64)        8256        reshape[0][0]                    \n",
      "__________________________________________________________________________________________________\n",
      "activation_1 (Activation)       (None, 24, 128)      0           batch_normalization_1[0][0]      \n",
      "__________________________________________________________________________________________________\n",
      "dense_1 (Dense)                 (None, 1, 128)       8320        dense[0][0]                      \n",
      "__________________________________________________________________________________________________\n",
      "conv1d_2 (Conv1D)               (None, 24, 128)      49280       activation_1[0][0]               \n",
      "__________________________________________________________________________________________________\n",
      "multiply (Multiply)             (None, 24, 128)      0           dense_1[0][0]                    \n",
      "                                                                 activation[0][0]                 \n",
      "__________________________________________________________________________________________________\n",
      "add (Add)                       (None, 24, 128)      0           conv1d_2[0][0]                   \n",
      "                                                                 multiply[0][0]                   \n",
      "__________________________________________________________________________________________________\n",
      "batch_normalization_2 (BatchNor (None, 24, 128)      512         add[0][0]                        \n",
      "__________________________________________________________________________________________________\n",
      "spatial_dropout1d (SpatialDropo (None, 24, 128)      0           batch_normalization_2[0][0]      \n",
      "__________________________________________________________________________________________________\n",
      "global_average_pooling1d_1 (Glo (None, 128)          0           spatial_dropout1d[0][0]          \n",
      "__________________________________________________________________________________________________\n",
      "conv1d_3 (Conv1D)               (None, 24, 128)      114816      spatial_dropout1d[0][0]          \n",
      "__________________________________________________________________________________________________\n",
      "reshape_1 (Reshape)             (None, 1, 128)       0           global_average_pooling1d_1[0][0] \n",
      "__________________________________________________________________________________________________\n",
      "batch_normalization_3 (BatchNor (None, 24, 128)      512         conv1d_3[0][0]                   \n",
      "__________________________________________________________________________________________________\n",
      "dense_2 (Dense)                 (None, 1, 64)        8256        reshape_1[0][0]                  \n",
      "__________________________________________________________________________________________________\n",
      "activation_3 (Activation)       (None, 24, 128)      0           batch_normalization_3[0][0]      \n",
      "__________________________________________________________________________________________________\n",
      "dense_3 (Dense)                 (None, 1, 128)       8320        dense_2[0][0]                    \n",
      "__________________________________________________________________________________________________\n",
      "conv1d_4 (Conv1D)               (None, 24, 128)      49280       activation_3[0][0]               \n",
      "__________________________________________________________________________________________________\n",
      "multiply_1 (Multiply)           (None, 24, 128)      0           dense_3[0][0]                    \n",
      "                                                                 spatial_dropout1d[0][0]          \n",
      "__________________________________________________________________________________________________\n",
      "add_1 (Add)                     (None, 24, 128)      0           conv1d_4[0][0]                   \n",
      "                                                                 multiply_1[0][0]                 \n",
      "__________________________________________________________________________________________________\n",
      "batch_normalization_4 (BatchNor (None, 24, 128)      512         add_1[0][0]                      \n",
      "__________________________________________________________________________________________________\n",
      "spatial_dropout1d_1 (SpatialDro (None, 24, 128)      0           batch_normalization_4[0][0]      \n",
      "__________________________________________________________________________________________________\n",
      "bidirectional (Bidirectional)   (None, 512)          788480      spatial_dropout1d_1[0][0]        \n",
      "__________________________________________________________________________________________________\n",
      "dropout (Dropout)               (None, 512)          0           bidirectional[0][0]              \n",
      "__________________________________________________________________________________________________\n",
      "dense_4 (Dense)                 (None, 17)           8721        dropout[0][0]                    \n",
      "==================================================================================================\n",
      "Total params: 1,226,129\n",
      "Trainable params: 1,224,849\n",
      "Non-trainable params: 1,280\n",
      "__________________________________________________________________________________________________\n"
     ]
    }
   ],
   "source": [
    "model.summary()"
   ]
  },
  {
   "cell_type": "markdown",
   "metadata": {},
   "source": [
    "### Compile Model "
   ]
  },
  {
   "cell_type": "code",
   "execution_count": 17,
   "metadata": {},
   "outputs": [],
   "source": [
    "model.compile(optimizer='adam',loss='mse',metrics=[rmse, R2])"
   ]
  },
  {
   "cell_type": "markdown",
   "metadata": {},
   "source": [
    "### Train Model "
   ]
  },
  {
   "cell_type": "code",
   "execution_count": 18,
   "metadata": {},
   "outputs": [],
   "source": [
    "PATIENCE = 10\n",
    "BATCH_SIZE = 128\n",
    "EPOCHS = 100\n",
    "\n",
    "early = callbacks.EarlyStopping(monitor='val_loss', min_delta=0, patience=PATIENCE, verbose=1, mode='min', baseline=None, restore_best_weights=False)\n",
    "callback_list = [early]"
   ]
  },
  {
   "cell_type": "code",
   "execution_count": 19,
   "metadata": {},
   "outputs": [
    {
     "name": "stdout",
     "output_type": "stream",
     "text": [
      "Train on 98746 samples, validate on 12094 samples\n",
      "Epoch 1/100\n",
      "98746/98746 [==============================] - 28s 285us/sample - loss: 0.0929 - rmse: 0.2808 - R2: 0.5937 - val_loss: 0.0449 - val_rmse: 0.1893 - val_R2: 0.8063\n",
      "Epoch 2/100\n",
      "98746/98746 [==============================] - 19s 188us/sample - loss: 0.0598 - rmse: 0.2222 - R2: 0.7427 - val_loss: 0.0433 - val_rmse: 0.1843 - val_R2: 0.8143\n",
      "Epoch 3/100\n",
      "98746/98746 [==============================] - 20s 206us/sample - loss: 0.0538 - rmse: 0.2093 - R2: 0.7682 - val_loss: 0.0413 - val_rmse: 0.1788 - val_R2: 0.8221\n",
      "Epoch 4/100\n",
      "98746/98746 [==============================] - 20s 202us/sample - loss: 0.0501 - rmse: 0.2011 - R2: 0.7841 - val_loss: 0.0441 - val_rmse: 0.1817 - val_R2: 0.8084\n",
      "Epoch 5/100\n",
      "98746/98746 [==============================] - 20s 200us/sample - loss: 0.0477 - rmse: 0.1959 - R2: 0.7946 - val_loss: 0.0430 - val_rmse: 0.1785 - val_R2: 0.8171\n",
      "Epoch 6/100\n",
      "98746/98746 [==============================] - 20s 201us/sample - loss: 0.0462 - rmse: 0.1924 - R2: 0.8011 - val_loss: 0.0367 - val_rmse: 0.1684 - val_R2: 0.8421\n",
      "Epoch 7/100\n",
      "98746/98746 [==============================] - 20s 201us/sample - loss: 0.0445 - rmse: 0.1888 - R2: 0.8082 - val_loss: 0.0402 - val_rmse: 0.1727 - val_R2: 0.8274\n",
      "Epoch 8/100\n",
      "98746/98746 [==============================] - 20s 202us/sample - loss: 0.0431 - rmse: 0.1856 - R2: 0.8140 - val_loss: 0.0376 - val_rmse: 0.1687 - val_R2: 0.8381\n",
      "Epoch 9/100\n",
      "98746/98746 [==============================] - 20s 202us/sample - loss: 0.0420 - rmse: 0.1831 - R2: 0.8191 - val_loss: 0.0390 - val_rmse: 0.1691 - val_R2: 0.8344\n",
      "Epoch 10/100\n",
      "98746/98746 [==============================] - 19s 192us/sample - loss: 0.0410 - rmse: 0.1809 - R2: 0.8232 - val_loss: 0.0354 - val_rmse: 0.1637 - val_R2: 0.8479\n",
      "Epoch 11/100\n",
      "98746/98746 [==============================] - 19s 189us/sample - loss: 0.0400 - rmse: 0.1786 - R2: 0.8277 - val_loss: 0.0373 - val_rmse: 0.1663 - val_R2: 0.8405\n",
      "Epoch 12/100\n",
      "98746/98746 [==============================] - 19s 188us/sample - loss: 0.0394 - rmse: 0.1773 - R2: 0.8300 - val_loss: 0.0367 - val_rmse: 0.1634 - val_R2: 0.8433\n",
      "Epoch 13/100\n",
      "98746/98746 [==============================] - 19s 189us/sample - loss: 0.0383 - rmse: 0.1749 - R2: 0.8348 - val_loss: 0.0346 - val_rmse: 0.1612 - val_R2: 0.8516\n",
      "Epoch 14/100\n",
      "98746/98746 [==============================] - 19s 189us/sample - loss: 0.0380 - rmse: 0.1740 - R2: 0.8360 - val_loss: 0.0389 - val_rmse: 0.1682 - val_R2: 0.8342\n",
      "Epoch 15/100\n",
      "98746/98746 [==============================] - 19s 189us/sample - loss: 0.0373 - rmse: 0.1726 - R2: 0.8390 - val_loss: 0.0377 - val_rmse: 0.1655 - val_R2: 0.8391\n",
      "Epoch 16/100\n",
      "98746/98746 [==============================] - 19s 189us/sample - loss: 0.0367 - rmse: 0.1713 - R2: 0.8418 - val_loss: 0.0369 - val_rmse: 0.1643 - val_R2: 0.8416\n",
      "Epoch 17/100\n",
      "98746/98746 [==============================] - 19s 190us/sample - loss: 0.0362 - rmse: 0.1702 - R2: 0.8435 - val_loss: 0.0349 - val_rmse: 0.1599 - val_R2: 0.8501\n",
      "Epoch 18/100\n",
      "98746/98746 [==============================] - 19s 190us/sample - loss: 0.0355 - rmse: 0.1685 - R2: 0.8468 - val_loss: 0.0331 - val_rmse: 0.1563 - val_R2: 0.8581\n",
      "Epoch 19/100\n",
      "98746/98746 [==============================] - 19s 190us/sample - loss: 0.0351 - rmse: 0.1675 - R2: 0.8488 - val_loss: 0.0348 - val_rmse: 0.1594 - val_R2: 0.8504\n",
      "Epoch 20/100\n",
      "98746/98746 [==============================] - 19s 190us/sample - loss: 0.0348 - rmse: 0.1668 - R2: 0.8495 - val_loss: 0.0353 - val_rmse: 0.1596 - val_R2: 0.8487\n",
      "Epoch 21/100\n",
      "98746/98746 [==============================] - 19s 189us/sample - loss: 0.0344 - rmse: 0.1661 - R2: 0.8511 - val_loss: 0.0352 - val_rmse: 0.1595 - val_R2: 0.8496\n",
      "Epoch 22/100\n",
      "98746/98746 [==============================] - 19s 190us/sample - loss: 0.0337 - rmse: 0.1646 - R2: 0.8541 - val_loss: 0.0342 - val_rmse: 0.1583 - val_R2: 0.8531\n",
      "Epoch 23/100\n",
      "98746/98746 [==============================] - 19s 189us/sample - loss: 0.0334 - rmse: 0.1637 - R2: 0.8557 - val_loss: 0.0356 - val_rmse: 0.1607 - val_R2: 0.8476\n",
      "Epoch 24/100\n",
      "98746/98746 [==============================] - 19s 191us/sample - loss: 0.0330 - rmse: 0.1629 - R2: 0.8573 - val_loss: 0.0351 - val_rmse: 0.1599 - val_R2: 0.8476\n",
      "Epoch 25/100\n",
      "98746/98746 [==============================] - 19s 189us/sample - loss: 0.0330 - rmse: 0.1627 - R2: 0.8575 - val_loss: 0.0347 - val_rmse: 0.1582 - val_R2: 0.8513\n",
      "Epoch 26/100\n",
      "98746/98746 [==============================] - 19s 190us/sample - loss: 0.0322 - rmse: 0.1610 - R2: 0.8607 - val_loss: 0.0357 - val_rmse: 0.1595 - val_R2: 0.8449\n",
      "Epoch 27/100\n",
      "98746/98746 [==============================] - 19s 189us/sample - loss: 0.0321 - rmse: 0.1608 - R2: 0.8612 - val_loss: 0.0341 - val_rmse: 0.1564 - val_R2: 0.8551\n",
      "Epoch 28/100\n",
      "98746/98746 [==============================] - 19s 190us/sample - loss: 0.0318 - rmse: 0.1601 - R2: 0.8623 - val_loss: 0.0345 - val_rmse: 0.1576 - val_R2: 0.8519\n",
      "Epoch 00028: early stopping\n"
     ]
    }
   ],
   "source": [
    "history = model.fit(X_train,y_train,\n",
    "    batch_size=BATCH_SIZE,\n",
    "    epochs=EPOCHS,\n",
    "    validation_data=(X_val,y_val),\n",
    "    callbacks=callback_list)"
   ]
  },
  {
   "cell_type": "code",
   "execution_count": 20,
   "metadata": {},
   "outputs": [],
   "source": [
    "model.save('model_baseline_dp1.hdf5')"
   ]
  },
  {
   "cell_type": "markdown",
   "metadata": {},
   "source": [
    "### Evaluation "
   ]
  },
  {
   "cell_type": "code",
   "execution_count": 21,
   "metadata": {},
   "outputs": [
    {
     "data": {
      "text/plain": [
       "[0.03393776446033739, 0.15680017, 0.8459989]"
      ]
     },
     "execution_count": 21,
     "metadata": {},
     "output_type": "execute_result"
    }
   ],
   "source": [
    "model.evaluate(X_test,y_test,verbose=0)"
   ]
  },
  {
   "cell_type": "code",
   "execution_count": 22,
   "metadata": {},
   "outputs": [],
   "source": [
    "y_pred = model.predict(X_test)"
   ]
  },
  {
   "cell_type": "code",
   "execution_count": 23,
   "metadata": {},
   "outputs": [],
   "source": [
    "err = compute_rmse(y_test,y_pred, axis=0)"
   ]
  },
  {
   "cell_type": "code",
   "execution_count": 24,
   "metadata": {},
   "outputs": [
    {
     "name": "stdout",
     "output_type": "stream",
     "text": [
      "[0.16298977 0.1422034  0.15376249 0.20005407 0.16684956 0.22112424\n",
      " 0.25571529 0.10210641 0.13830007 0.24698465 0.14288077 0.16797964\n",
      " 0.17510188 0.27332954 0.18182119 0.15415196 0.15161589]\n"
     ]
    }
   ],
   "source": [
    "print(err)"
   ]
  },
  {
   "cell_type": "markdown",
   "metadata": {},
   "source": [
    "## 2.) Model with (Between) Embedding Feature  "
   ]
  },
  {
   "cell_type": "markdown",
   "metadata": {},
   "source": [
    "### Defined (Between) Embedding Model"
   ]
  },
  {
   "cell_type": "code",
   "execution_count": 25,
   "metadata": {},
   "outputs": [],
   "source": [
    "PHONETIC_OUTPUT = len(set(z_train))\n",
    "EMBEDDED_FEATURE = 128\n",
    "\n",
    "pLSTM = partial(LSTM, kernel_initializer='he_uniform', return_sequences=True)\n",
    "\n",
    "def embeded_model(input_shape_1,input_shape_2):\n",
    "    inputs = keras.Input(shape=(input_shape_1,input_shape_2))\n",
    "    x = pLSTM(EMBEDDED_FEATURE)(inputs)\n",
    "    x = Flatten()(x)\n",
    "    outputs = Dense(PHONETIC_OUTPUT, activation='softmax', kernel_initializer='he_uniform')(x)\n",
    "    return keras.Model(inputs=inputs, outputs=outputs)"
   ]
  },
  {
   "cell_type": "code",
   "execution_count": 26,
   "metadata": {},
   "outputs": [
    {
     "name": "stdout",
     "output_type": "stream",
     "text": [
      "Model: \"model_1\"\n",
      "_________________________________________________________________\n",
      "Layer (type)                 Output Shape              Param #   \n",
      "=================================================================\n",
      "input_2 (InputLayer)         [(None, 24, 39)]          0         \n",
      "_________________________________________________________________\n",
      "lstm_1 (LSTM)                (None, 24, 128)           86016     \n",
      "_________________________________________________________________\n",
      "flatten (Flatten)            (None, 3072)              0         \n",
      "_________________________________________________________________\n",
      "dense_5 (Dense)              (None, 19)                58387     \n",
      "=================================================================\n",
      "Total params: 144,403\n",
      "Trainable params: 144,403\n",
      "Non-trainable params: 0\n",
      "_________________________________________________________________\n"
     ]
    }
   ],
   "source": [
    "embedded = embeded_model(24, 39)\n",
    "embedded.summary()"
   ]
  },
  {
   "cell_type": "markdown",
   "metadata": {},
   "source": [
    "### Compile Model "
   ]
  },
  {
   "cell_type": "code",
   "execution_count": 27,
   "metadata": {},
   "outputs": [],
   "source": [
    "embedded.compile(optimizer='adam',loss=tf.keras.losses.CategoricalCrossentropy(from_logits=True),metrics=['accuracy'])"
   ]
  },
  {
   "cell_type": "markdown",
   "metadata": {},
   "source": [
    "### Train Model "
   ]
  },
  {
   "cell_type": "code",
   "execution_count": 28,
   "metadata": {},
   "outputs": [],
   "source": [
    "PATIENCE = 10\n",
    "BATCH_SIZE = 128\n",
    "EPOCHS = 100\n",
    "\n",
    "early = callbacks.EarlyStopping(monitor='val_loss', min_delta=0, patience=PATIENCE, verbose=1, mode='min', baseline=None, restore_best_weights=False)\n",
    "callback_list = [early]"
   ]
  },
  {
   "cell_type": "code",
   "execution_count": 29,
   "metadata": {},
   "outputs": [
    {
     "name": "stdout",
     "output_type": "stream",
     "text": [
      "Train on 98746 samples, validate on 12094 samples\n",
      "Epoch 1/100\n",
      "98746/98746 - 6s - loss: 2.2888 - accuracy: 0.7590 - val_loss: 2.1787 - val_accuracy: 0.8577\n",
      "Epoch 2/100\n",
      "98746/98746 - 4s - loss: 2.1934 - accuracy: 0.8429 - val_loss: 2.1607 - val_accuracy: 0.8739\n",
      "Epoch 3/100\n",
      "98746/98746 - 4s - loss: 2.1671 - accuracy: 0.8681 - val_loss: 2.1500 - val_accuracy: 0.8844\n",
      "Epoch 4/100\n",
      "98746/98746 - 4s - loss: 2.1511 - accuracy: 0.8838 - val_loss: 2.1510 - val_accuracy: 0.8823\n",
      "Epoch 5/100\n",
      "98746/98746 - 4s - loss: 2.1400 - accuracy: 0.8942 - val_loss: 2.1447 - val_accuracy: 0.8873\n",
      "Epoch 6/100\n",
      "98746/98746 - 4s - loss: 2.1325 - accuracy: 0.9013 - val_loss: 2.1374 - val_accuracy: 0.8952\n",
      "Epoch 7/100\n",
      "98746/98746 - 4s - loss: 2.1252 - accuracy: 0.9081 - val_loss: 2.1369 - val_accuracy: 0.8955\n",
      "Epoch 8/100\n",
      "98746/98746 - 4s - loss: 2.1204 - accuracy: 0.9128 - val_loss: 2.1389 - val_accuracy: 0.8929\n",
      "Epoch 9/100\n",
      "98746/98746 - 4s - loss: 2.1149 - accuracy: 0.9184 - val_loss: 2.1391 - val_accuracy: 0.8936\n",
      "Epoch 10/100\n",
      "98746/98746 - 4s - loss: 2.1111 - accuracy: 0.9216 - val_loss: 2.1422 - val_accuracy: 0.8901\n",
      "Epoch 11/100\n",
      "98746/98746 - 4s - loss: 2.1077 - accuracy: 0.9251 - val_loss: 2.1428 - val_accuracy: 0.8886\n",
      "Epoch 12/100\n",
      "98746/98746 - 4s - loss: 2.1039 - accuracy: 0.9290 - val_loss: 2.1465 - val_accuracy: 0.8853\n",
      "Epoch 13/100\n",
      "98746/98746 - 4s - loss: 2.1016 - accuracy: 0.9312 - val_loss: 2.1375 - val_accuracy: 0.8947\n",
      "Epoch 14/100\n",
      "98746/98746 - 4s - loss: 2.0996 - accuracy: 0.9331 - val_loss: 2.1357 - val_accuracy: 0.8958\n",
      "Epoch 15/100\n",
      "98746/98746 - 4s - loss: 2.0974 - accuracy: 0.9352 - val_loss: 2.1385 - val_accuracy: 0.8937\n",
      "Epoch 16/100\n",
      "98746/98746 - 4s - loss: 2.0945 - accuracy: 0.9380 - val_loss: 2.1380 - val_accuracy: 0.8933\n",
      "Epoch 17/100\n",
      "98746/98746 - 4s - loss: 2.0925 - accuracy: 0.9399 - val_loss: 2.1405 - val_accuracy: 0.8899\n",
      "Epoch 18/100\n",
      "98746/98746 - 4s - loss: 2.0903 - accuracy: 0.9424 - val_loss: 2.1410 - val_accuracy: 0.8904\n",
      "Epoch 19/100\n",
      "98746/98746 - 4s - loss: 2.0872 - accuracy: 0.9453 - val_loss: 2.1294 - val_accuracy: 0.9027\n",
      "Epoch 20/100\n",
      "98746/98746 - 4s - loss: 2.0887 - accuracy: 0.9435 - val_loss: 2.1408 - val_accuracy: 0.8909\n",
      "Epoch 21/100\n",
      "98746/98746 - 4s - loss: 2.0857 - accuracy: 0.9466 - val_loss: 2.1403 - val_accuracy: 0.8919\n",
      "Epoch 22/100\n",
      "98746/98746 - 4s - loss: 2.0847 - accuracy: 0.9474 - val_loss: 2.1420 - val_accuracy: 0.8895\n",
      "Epoch 23/100\n",
      "98746/98746 - 4s - loss: 2.0830 - accuracy: 0.9491 - val_loss: 2.1357 - val_accuracy: 0.8966\n",
      "Epoch 24/100\n",
      "98746/98746 - 4s - loss: 2.0811 - accuracy: 0.9511 - val_loss: 2.1444 - val_accuracy: 0.8870\n",
      "Epoch 25/100\n",
      "98746/98746 - 4s - loss: 2.0797 - accuracy: 0.9527 - val_loss: 2.1415 - val_accuracy: 0.8905\n",
      "Epoch 26/100\n",
      "98746/98746 - 4s - loss: 2.0790 - accuracy: 0.9533 - val_loss: 2.1384 - val_accuracy: 0.8937\n",
      "Epoch 27/100\n",
      "98746/98746 - 4s - loss: 2.0795 - accuracy: 0.9529 - val_loss: 2.1377 - val_accuracy: 0.8933\n",
      "Epoch 28/100\n",
      "98746/98746 - 4s - loss: 2.0777 - accuracy: 0.9543 - val_loss: 2.1362 - val_accuracy: 0.8953\n",
      "Epoch 29/100\n",
      "98746/98746 - 4s - loss: 2.0757 - accuracy: 0.9563 - val_loss: 2.1443 - val_accuracy: 0.8866\n",
      "Epoch 00029: early stopping\n"
     ]
    }
   ],
   "source": [
    "history = embedded.fit(X_train,z_train_oe,\n",
    "    batch_size=BATCH_SIZE,\n",
    "    epochs=EPOCHS,\n",
    "    verbose=2,\n",
    "    validation_data=(X_val,z_val_oe),\n",
    "    callbacks=callback_list)"
   ]
  },
  {
   "cell_type": "code",
   "execution_count": 30,
   "metadata": {},
   "outputs": [],
   "source": [
    "embedded.save('between_embedded_dp1.hdf5')"
   ]
  },
  {
   "cell_type": "code",
   "execution_count": 31,
   "metadata": {},
   "outputs": [
    {
     "name": "stdout",
     "output_type": "stream",
     "text": [
      "Classification Report\n",
      "              precision    recall  f1-score   support\n",
      "\n",
      "           &       0.94      0.89      0.92       655\n",
      "           2       0.94      0.97      0.95       636\n",
      "           7       0.94      0.55      0.70       552\n",
      "           9       0.93      0.91      0.92       625\n",
      "           @       0.99      0.87      0.92       647\n",
      "           A       0.85      0.95      0.90       619\n",
      "           E       0.84      0.96      0.90       652\n",
      "          E:       0.97      0.93      0.95       629\n",
      "           M       0.84      0.94      0.89       650\n",
      "           O       0.71      0.91      0.80       674\n",
      "           Q       0.94      0.86      0.90       670\n",
      "           U       0.90      0.77      0.83       641\n",
      "           V       0.70      0.78      0.74       644\n",
      "           a       0.93      0.90      0.91       644\n",
      "           e       0.92      0.96      0.94       661\n",
      "           i       0.98      0.90      0.94       650\n",
      "           o       0.94      0.89      0.91       571\n",
      "           u       0.88      0.96      0.92       631\n",
      "           y       0.94      0.94      0.94       641\n",
      "\n",
      "    accuracy                           0.89     12092\n",
      "   macro avg       0.90      0.89      0.89     12092\n",
      "weighted avg       0.90      0.89      0.89     12092\n",
      "\n"
     ]
    }
   ],
   "source": [
    "z_pred = embedded.predict(X_test)\n",
    "evaluate_model(z_pred, z_test_oe)"
   ]
  },
  {
   "cell_type": "markdown",
   "metadata": {},
   "source": [
    "### Embedded input model"
   ]
  },
  {
   "cell_type": "code",
   "execution_count": 32,
   "metadata": {},
   "outputs": [
    {
     "name": "stdout",
     "output_type": "stream",
     "text": [
      "Model: \"sequential\"\n",
      "_________________________________________________________________\n",
      "Layer (type)                 Output Shape              Param #   \n",
      "=================================================================\n",
      "lstm_1 (LSTM)                (None, 24, 128)           86016     \n",
      "=================================================================\n",
      "Total params: 86,016\n",
      "Trainable params: 0\n",
      "Non-trainable params: 86,016\n",
      "_________________________________________________________________\n"
     ]
    }
   ],
   "source": [
    "# embedded = tf.keras.models.load_model('pre_embedded.hdf5')\n",
    "\n",
    "embedded_layers = tf.keras.Sequential()\n",
    "for layer in embedded.layers[:-2]:\n",
    "    layer.trainable = False\n",
    "    embedded_layers.add(layer)\n",
    "embedded_layers.summary()\n",
    "\n",
    "N_OUTPUTS = 17\n",
    "\n",
    "pLSTM = partial(LSTM, kernel_initializer='he_uniform', return_sequences=True)\n",
    "pConv1D = partial(Conv1D, padding = 'same', activation = 'linear', kernel_initializer = 'he_uniform')\n",
    "\n",
    "def init_senet_w_emb(feature_layer=1, cnn_unit=128, first_kernel=13, res_unit=128, res_kernel=7,\n",
    "    bilstm = 1, bilstm_unit=256, \n",
    "    dropout_rate=0.3,\n",
    "    reduction_ratio = 2,\n",
    "    activation_fn='relu'):\n",
    "\n",
    "    def cnn_block(input_x, cnn_unit, kernel_size):\n",
    "        x = pConv1D(cnn_unit, kernel_size=kernel_size)(input_x)\n",
    "        x = BatchNormalization()(x)\n",
    "        x = Activation(activation_fn)(x)\n",
    "        return x\n",
    "    \n",
    "    def residual_block(input_x):\n",
    "        x = pConv1D(res_unit, kernel_size=res_kernel)(input_x)\n",
    "        x = BatchNormalization()(x)\n",
    "        x = Activation(activation_fn)(x)\n",
    "        x = pConv1D(res_unit, kernel_size=3)(x)\n",
    "        return x\n",
    "\n",
    "    def se_block(input_x):\n",
    "        x = layers.GlobalAveragePooling1D()(input_x)\n",
    "        channel_shape = getattr(x, '_shape_val')[-1]\n",
    "        x = Reshape((1, channel_shape))(x)\n",
    "        x = Dense(channel_shape // reduction_ratio, activation=activation_fn, kernel_initializer='he_uniform')(x)\n",
    "        x = Dense(channel_shape, activation='tanh', kernel_initializer='he_uniform')(x)\n",
    "        x = layers.Multiply()([x, input_x])\n",
    "        return x\n",
    "\n",
    "    def se_res_block(input_x):\n",
    "        se_x = se_block(input_x)\n",
    "        re_x = residual_block(input_x)\n",
    "        x = keras.layers.Add()([re_x, se_x])\n",
    "        x = BatchNormalization()(x)\n",
    "        output = Activation(activation_fn)(x)\n",
    "        return x\n",
    "\n",
    "    def senet_nn(input_shape_1,input_shape_2):\n",
    "\n",
    "        input_x = keras.Input(shape=(input_shape_1,input_shape_2))\n",
    "        x = cnn_block(input_x, cnn_unit, first_kernel)\n",
    "        for i in range(feature_layer):\n",
    "            x = se_res_block(x)\n",
    "        x = SpatialDropout1D(rate=dropout_rate)(x)\n",
    "        for i in range(feature_layer):\n",
    "            x = se_res_block(x)\n",
    "            x = SpatialDropout1D(rate=dropout_rate)(x)\n",
    "#         x = cnn_block(x, cnn_unit=cnn_unit, kernel_size=1)\n",
    "        # Embedded\n",
    "        embedded = embedded_layers(input_x)\n",
    "        x = layers.Concatenate()([x, embedded])\n",
    "#         x = SpatialDropout1D(rate=dropout_rate)(x)\n",
    "        for i in range(bilstm-1):\n",
    "            x = Bidirectional(pLSTM(bilstm_unit))(x)\n",
    "            x = SpatialDropout1D(rate=dropout_rate)(x)\n",
    "        x = Bidirectional(pLSTM(bilstm_unit, return_sequences=False))(x)\n",
    "        x = Dropout(rate=dropout_rate)(x)\n",
    "        outputs = Dense(N_OUTPUTS, activation='linear', kernel_initializer='he_uniform')(x)\n",
    "        model = keras.Model(inputs=input_x, outputs=outputs)\n",
    "        return model\n",
    "\n",
    "    return senet_nn"
   ]
  },
  {
   "cell_type": "code",
   "execution_count": 33,
   "metadata": {},
   "outputs": [
    {
     "name": "stdout",
     "output_type": "stream",
     "text": [
      "Model: \"model_2\"\n",
      "__________________________________________________________________________________________________\n",
      "Layer (type)                    Output Shape         Param #     Connected to                     \n",
      "==================================================================================================\n",
      "input_3 (InputLayer)            [(None, 24, 39)]     0                                            \n",
      "__________________________________________________________________________________________________\n",
      "conv1d_5 (Conv1D)               (None, 24, 128)      65024       input_3[0][0]                    \n",
      "__________________________________________________________________________________________________\n",
      "batch_normalization_5 (BatchNor (None, 24, 128)      512         conv1d_5[0][0]                   \n",
      "__________________________________________________________________________________________________\n",
      "activation_5 (Activation)       (None, 24, 128)      0           batch_normalization_5[0][0]      \n",
      "__________________________________________________________________________________________________\n",
      "global_average_pooling1d_2 (Glo (None, 128)          0           activation_5[0][0]               \n",
      "__________________________________________________________________________________________________\n",
      "conv1d_6 (Conv1D)               (None, 24, 128)      114816      activation_5[0][0]               \n",
      "__________________________________________________________________________________________________\n",
      "reshape_2 (Reshape)             (None, 1, 128)       0           global_average_pooling1d_2[0][0] \n",
      "__________________________________________________________________________________________________\n",
      "batch_normalization_6 (BatchNor (None, 24, 128)      512         conv1d_6[0][0]                   \n",
      "__________________________________________________________________________________________________\n",
      "dense_6 (Dense)                 (None, 1, 64)        8256        reshape_2[0][0]                  \n",
      "__________________________________________________________________________________________________\n",
      "activation_6 (Activation)       (None, 24, 128)      0           batch_normalization_6[0][0]      \n",
      "__________________________________________________________________________________________________\n",
      "dense_7 (Dense)                 (None, 1, 128)       8320        dense_6[0][0]                    \n",
      "__________________________________________________________________________________________________\n",
      "conv1d_7 (Conv1D)               (None, 24, 128)      49280       activation_6[0][0]               \n",
      "__________________________________________________________________________________________________\n",
      "multiply_2 (Multiply)           (None, 24, 128)      0           dense_7[0][0]                    \n",
      "                                                                 activation_5[0][0]               \n",
      "__________________________________________________________________________________________________\n",
      "add_2 (Add)                     (None, 24, 128)      0           conv1d_7[0][0]                   \n",
      "                                                                 multiply_2[0][0]                 \n",
      "__________________________________________________________________________________________________\n",
      "batch_normalization_7 (BatchNor (None, 24, 128)      512         add_2[0][0]                      \n",
      "__________________________________________________________________________________________________\n",
      "spatial_dropout1d_2 (SpatialDro (None, 24, 128)      0           batch_normalization_7[0][0]      \n",
      "__________________________________________________________________________________________________\n",
      "global_average_pooling1d_3 (Glo (None, 128)          0           spatial_dropout1d_2[0][0]        \n",
      "__________________________________________________________________________________________________\n",
      "conv1d_8 (Conv1D)               (None, 24, 128)      114816      spatial_dropout1d_2[0][0]        \n",
      "__________________________________________________________________________________________________\n",
      "reshape_3 (Reshape)             (None, 1, 128)       0           global_average_pooling1d_3[0][0] \n",
      "__________________________________________________________________________________________________\n",
      "batch_normalization_8 (BatchNor (None, 24, 128)      512         conv1d_8[0][0]                   \n",
      "__________________________________________________________________________________________________\n",
      "dense_8 (Dense)                 (None, 1, 64)        8256        reshape_3[0][0]                  \n",
      "__________________________________________________________________________________________________\n",
      "activation_8 (Activation)       (None, 24, 128)      0           batch_normalization_8[0][0]      \n",
      "__________________________________________________________________________________________________\n",
      "dense_9 (Dense)                 (None, 1, 128)       8320        dense_8[0][0]                    \n",
      "__________________________________________________________________________________________________\n",
      "conv1d_9 (Conv1D)               (None, 24, 128)      49280       activation_8[0][0]               \n",
      "__________________________________________________________________________________________________\n",
      "multiply_3 (Multiply)           (None, 24, 128)      0           dense_9[0][0]                    \n",
      "                                                                 spatial_dropout1d_2[0][0]        \n",
      "__________________________________________________________________________________________________\n",
      "add_3 (Add)                     (None, 24, 128)      0           conv1d_9[0][0]                   \n",
      "                                                                 multiply_3[0][0]                 \n",
      "__________________________________________________________________________________________________\n",
      "batch_normalization_9 (BatchNor (None, 24, 128)      512         add_3[0][0]                      \n",
      "__________________________________________________________________________________________________\n",
      "spatial_dropout1d_3 (SpatialDro (None, 24, 128)      0           batch_normalization_9[0][0]      \n",
      "__________________________________________________________________________________________________\n",
      "sequential (Sequential)         (None, 24, 128)      86016       input_3[0][0]                    \n",
      "__________________________________________________________________________________________________\n",
      "concatenate (Concatenate)       (None, 24, 256)      0           spatial_dropout1d_3[0][0]        \n",
      "                                                                 sequential[1][0]                 \n",
      "__________________________________________________________________________________________________\n",
      "bidirectional_1 (Bidirectional) (None, 512)          1050624     concatenate[0][0]                \n",
      "__________________________________________________________________________________________________\n",
      "dropout_1 (Dropout)             (None, 512)          0           bidirectional_1[0][0]            \n",
      "__________________________________________________________________________________________________\n",
      "dense_10 (Dense)                (None, 17)           8721        dropout_1[0][0]                  \n",
      "==================================================================================================\n",
      "Total params: 1,574,289\n",
      "Trainable params: 1,486,993\n",
      "Non-trainable params: 87,296\n",
      "__________________________________________________________________________________________________\n"
     ]
    }
   ],
   "source": [
    "emb_model = init_senet_w_emb()(24, 39)\n",
    "emb_model.summary()"
   ]
  },
  {
   "cell_type": "markdown",
   "metadata": {},
   "source": [
    "### Compile Model "
   ]
  },
  {
   "cell_type": "code",
   "execution_count": 34,
   "metadata": {},
   "outputs": [],
   "source": [
    "emb_model.compile(optimizer='adam',loss='mse',metrics=[rmse, R2])"
   ]
  },
  {
   "cell_type": "markdown",
   "metadata": {},
   "source": [
    "### Train Model "
   ]
  },
  {
   "cell_type": "code",
   "execution_count": 35,
   "metadata": {},
   "outputs": [],
   "source": [
    "PATIENCE = 10\n",
    "BATCH_SIZE = 128\n",
    "EPOCHS = 100\n",
    "\n",
    "early = callbacks.EarlyStopping(monitor='val_loss', min_delta=0, patience=PATIENCE, verbose=1, mode='min', baseline=None, restore_best_weights=False)\n",
    "callback_list = [early]"
   ]
  },
  {
   "cell_type": "code",
   "execution_count": 36,
   "metadata": {},
   "outputs": [
    {
     "name": "stdout",
     "output_type": "stream",
     "text": [
      "Train on 98746 samples, validate on 12094 samples\n",
      "Epoch 1/100\n",
      "98746/98746 - 30s - loss: 0.0605 - rmse: 0.2230 - R2: 0.7344 - val_loss: 0.0374 - val_rmse: 0.1713 - val_R2: 0.8398\n",
      "Epoch 2/100\n",
      "98746/98746 - 21s - loss: 0.0364 - rmse: 0.1745 - R2: 0.8434 - val_loss: 0.0363 - val_rmse: 0.1639 - val_R2: 0.8444\n",
      "Epoch 3/100\n",
      "98746/98746 - 21s - loss: 0.0333 - rmse: 0.1665 - R2: 0.8566 - val_loss: 0.0364 - val_rmse: 0.1624 - val_R2: 0.8450\n",
      "Epoch 4/100\n",
      "98746/98746 - 21s - loss: 0.0316 - rmse: 0.1620 - R2: 0.8636 - val_loss: 0.0353 - val_rmse: 0.1606 - val_R2: 0.8483\n",
      "Epoch 5/100\n",
      "98746/98746 - 21s - loss: 0.0304 - rmse: 0.1588 - R2: 0.8687 - val_loss: 0.0353 - val_rmse: 0.1599 - val_R2: 0.8483\n",
      "Epoch 6/100\n",
      "98746/98746 - 21s - loss: 0.0290 - rmse: 0.1555 - R2: 0.8742 - val_loss: 0.0358 - val_rmse: 0.1587 - val_R2: 0.8468\n",
      "Epoch 7/100\n",
      "98746/98746 - 21s - loss: 0.0279 - rmse: 0.1525 - R2: 0.8789 - val_loss: 0.0351 - val_rmse: 0.1582 - val_R2: 0.8491\n",
      "Epoch 8/100\n",
      "98746/98746 - 21s - loss: 0.0269 - rmse: 0.1502 - R2: 0.8827 - val_loss: 0.0346 - val_rmse: 0.1570 - val_R2: 0.8507\n",
      "Epoch 9/100\n",
      "98746/98746 - 21s - loss: 0.0257 - rmse: 0.1473 - R2: 0.8878 - val_loss: 0.0355 - val_rmse: 0.1575 - val_R2: 0.8485\n",
      "Epoch 10/100\n",
      "98746/98746 - 21s - loss: 0.0248 - rmse: 0.1450 - R2: 0.8916 - val_loss: 0.0352 - val_rmse: 0.1570 - val_R2: 0.8489\n",
      "Epoch 11/100\n",
      "98746/98746 - 21s - loss: 0.0238 - rmse: 0.1427 - R2: 0.8959 - val_loss: 0.0358 - val_rmse: 0.1570 - val_R2: 0.8463\n",
      "Epoch 12/100\n",
      "98746/98746 - 21s - loss: 0.0230 - rmse: 0.1408 - R2: 0.8990 - val_loss: 0.0346 - val_rmse: 0.1557 - val_R2: 0.8512\n",
      "Epoch 13/100\n",
      "98746/98746 - 21s - loss: 0.0225 - rmse: 0.1395 - R2: 0.9010 - val_loss: 0.0350 - val_rmse: 0.1563 - val_R2: 0.8500\n",
      "Epoch 14/100\n",
      "98746/98746 - 21s - loss: 0.0217 - rmse: 0.1376 - R2: 0.9044 - val_loss: 0.0355 - val_rmse: 0.1571 - val_R2: 0.8483\n",
      "Epoch 15/100\n",
      "98746/98746 - 21s - loss: 0.0210 - rmse: 0.1360 - R2: 0.9071 - val_loss: 0.0356 - val_rmse: 0.1571 - val_R2: 0.8475\n",
      "Epoch 16/100\n",
      "98746/98746 - 21s - loss: 0.0203 - rmse: 0.1342 - R2: 0.9101 - val_loss: 0.0346 - val_rmse: 0.1553 - val_R2: 0.8520\n",
      "Epoch 17/100\n",
      "98746/98746 - 21s - loss: 0.0198 - rmse: 0.1328 - R2: 0.9122 - val_loss: 0.0354 - val_rmse: 0.1569 - val_R2: 0.8486\n",
      "Epoch 18/100\n",
      "98746/98746 - 21s - loss: 0.0194 - rmse: 0.1318 - R2: 0.9137 - val_loss: 0.0347 - val_rmse: 0.1555 - val_R2: 0.8511\n",
      "Epoch 19/100\n",
      "98746/98746 - 21s - loss: 0.0193 - rmse: 0.1314 - R2: 0.9145 - val_loss: 0.0344 - val_rmse: 0.1551 - val_R2: 0.8524\n",
      "Epoch 20/100\n",
      "98746/98746 - 21s - loss: 0.0186 - rmse: 0.1294 - R2: 0.9173 - val_loss: 0.0341 - val_rmse: 0.1546 - val_R2: 0.8533\n",
      "Epoch 21/100\n",
      "98746/98746 - 21s - loss: 0.0183 - rmse: 0.1285 - R2: 0.9186 - val_loss: 0.0347 - val_rmse: 0.1556 - val_R2: 0.8511\n",
      "Epoch 22/100\n",
      "98746/98746 - 21s - loss: 0.0181 - rmse: 0.1280 - R2: 0.9194 - val_loss: 0.0344 - val_rmse: 0.1549 - val_R2: 0.8528\n",
      "Epoch 23/100\n",
      "98746/98746 - 21s - loss: 0.0177 - rmse: 0.1268 - R2: 0.9211 - val_loss: 0.0351 - val_rmse: 0.1556 - val_R2: 0.8494\n",
      "Epoch 24/100\n",
      "98746/98746 - 21s - loss: 0.0174 - rmse: 0.1259 - R2: 0.9222 - val_loss: 0.0343 - val_rmse: 0.1553 - val_R2: 0.8522\n",
      "Epoch 25/100\n",
      "98746/98746 - 21s - loss: 0.0172 - rmse: 0.1252 - R2: 0.9232 - val_loss: 0.0349 - val_rmse: 0.1557 - val_R2: 0.8505\n",
      "Epoch 26/100\n",
      "98746/98746 - 21s - loss: 0.0169 - rmse: 0.1242 - R2: 0.9247 - val_loss: 0.0344 - val_rmse: 0.1549 - val_R2: 0.8520\n",
      "Epoch 27/100\n",
      "98746/98746 - 21s - loss: 0.0168 - rmse: 0.1238 - R2: 0.9250 - val_loss: 0.0351 - val_rmse: 0.1558 - val_R2: 0.8496\n",
      "Epoch 28/100\n",
      "98746/98746 - 21s - loss: 0.0166 - rmse: 0.1231 - R2: 0.9260 - val_loss: 0.0347 - val_rmse: 0.1554 - val_R2: 0.8517\n",
      "Epoch 29/100\n",
      "98746/98746 - 21s - loss: 0.0163 - rmse: 0.1222 - R2: 0.9272 - val_loss: 0.0343 - val_rmse: 0.1547 - val_R2: 0.8527\n",
      "Epoch 30/100\n",
      "98746/98746 - 21s - loss: 0.0159 - rmse: 0.1210 - R2: 0.9287 - val_loss: 0.0350 - val_rmse: 0.1555 - val_R2: 0.8499\n",
      "Epoch 00030: early stopping\n"
     ]
    }
   ],
   "source": [
    "history = emb_model.fit(X_train,y_train,\n",
    "    batch_size=BATCH_SIZE,\n",
    "    epochs=EPOCHS,\n",
    "    verbose=2,\n",
    "    validation_data=(X_val,y_val),\n",
    "    callbacks=callback_list)"
   ]
  },
  {
   "cell_type": "code",
   "execution_count": 37,
   "metadata": {},
   "outputs": [],
   "source": [
    "emb_model.save('model_with_between_embedded_dp1.hdf5')"
   ]
  },
  {
   "cell_type": "markdown",
   "metadata": {},
   "source": [
    "## Evaluated "
   ]
  },
  {
   "cell_type": "code",
   "execution_count": 38,
   "metadata": {},
   "outputs": [
    {
     "data": {
      "text/plain": [
       "[0.03432742265594388, 0.1549069, 0.8438866]"
      ]
     },
     "execution_count": 38,
     "metadata": {},
     "output_type": "execute_result"
    }
   ],
   "source": [
    "emb_model.evaluate(X_test,y_test,verbose=0)"
   ]
  },
  {
   "cell_type": "code",
   "execution_count": 39,
   "metadata": {},
   "outputs": [],
   "source": [
    "y_pred = emb_model.predict(X_test)"
   ]
  },
  {
   "cell_type": "code",
   "execution_count": 40,
   "metadata": {},
   "outputs": [
    {
     "data": {
      "text/plain": [
       "array([0.16488171, 0.14267572, 0.15189093, 0.20126693, 0.1664796 ,\n",
       "       0.219056  , 0.26207463, 0.10280186, 0.13552491, 0.24797773,\n",
       "       0.14020805, 0.16877097, 0.17340989, 0.27765885, 0.1818688 ,\n",
       "       0.16000507, 0.15377611])"
      ]
     },
     "execution_count": 40,
     "metadata": {},
     "output_type": "execute_result"
    }
   ],
   "source": [
    "compute_rmse(y_test,y_pred, axis=0)"
   ]
  },
  {
   "cell_type": "code",
   "execution_count": null,
   "metadata": {},
   "outputs": [],
   "source": []
  }
 ],
 "metadata": {
  "kernelspec": {
   "display_name": "Python 3",
   "language": "python",
   "name": "python3"
  },
  "language_info": {
   "codemirror_mode": {
    "name": "ipython",
    "version": 3
   },
   "file_extension": ".py",
   "mimetype": "text/x-python",
   "name": "python",
   "nbconvert_exporter": "python",
   "pygments_lexer": "ipython3",
   "version": "3.6.10"
  }
 },
 "nbformat": 4,
 "nbformat_minor": 4
}
