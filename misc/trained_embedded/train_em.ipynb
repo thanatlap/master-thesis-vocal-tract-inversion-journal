{
 "cells": [
  {
   "cell_type": "markdown",
   "metadata": {},
   "source": [
    "## Trained Embedded Layer\n",
    "- created: 23 MArch 2020"
   ]
  },
  {
   "cell_type": "code",
   "execution_count": 1,
   "metadata": {},
   "outputs": [],
   "source": [
    "from __future__ import absolute_import, division, print_function, unicode_literals\n",
    "import numpy as np\n",
    "import pandas as pd\n",
    "import matplotlib.pyplot as plt\n",
    "import os\n",
    "from os.path import join\n",
    "import tensorflow as tf\n",
    "from tensorflow import keras\n",
    "\n",
    "from tensorflow.keras import models\n",
    "from tensorflow.keras import optimizers\n",
    "from tensorflow.keras import regularizers\n",
    "from tensorflow.keras import callbacks\n",
    "from time import time\n",
    "from datetime import datetime\n",
    "import shutil \n",
    "import argparse\n",
    "from functools import partial\n",
    "import pickle\n",
    "from IPython.display import Audio\n",
    "\n",
    "import tensorflow as tf\n",
    "from tensorflow import keras\n",
    "from tensorflow.keras import layers\n",
    "from tensorflow.keras import backend as K\n",
    "from tensorflow.keras import regularizers\n",
    "from tensorflow.keras.layers import Reshape, GRU, InputLayer, AlphaDropout, Activation, BatchNormalization, Dropout, Flatten, Dense, Bidirectional, LSTM, Conv1D, SpatialDropout1D, Concatenate, Multiply, Add\n",
    "\n",
    "from sklearn.model_selection import train_test_split\n",
    "from sklearn.metrics import classification_report, confusion_matrix\n",
    "from sklearn.preprocessing import OneHotEncoder"
   ]
  },
  {
   "cell_type": "code",
   "execution_count": 2,
   "metadata": {},
   "outputs": [],
   "source": [
    "np_load_old = partial(np.load)\n",
    "np.load = lambda *a,**k: np_load_old(*a, allow_pickle=True, **k)\n",
    "tf.random.set_seed(42)"
   ]
  },
  {
   "cell_type": "markdown",
   "metadata": {},
   "source": [
    "## Load Data "
   ]
  },
  {
   "cell_type": "code",
   "execution_count": 3,
   "metadata": {},
   "outputs": [],
   "source": [
    "def prep_data(data_path):\n",
    "\n",
    "    # load data from preprocess pipeline\n",
    "    dataset = np.load(join(data_path,'training_subsets.npz'))\n",
    "    X_train =dataset['X_train']\n",
    "    z_train= dataset['z_train']\n",
    "    X_val = dataset['X_val']\n",
    "    z_val = dataset['z_val']\n",
    "    X_test = dataset['X_test']\n",
    "    z_test = dataset['z_test']\n",
    "    a_test = dataset['audio_test']\n",
    "    a_val = dataset['audio_val']\n",
    "    \n",
    "    print('Train features and labels %s %s'%(str(X_train.shape),str(z_train.shape)))\n",
    "    print('Validating features and labels %s %s'%(str(X_val.shape),str(z_val.shape)))\n",
    "    print('Test features and labels %s %s'%(str(X_test.shape),str(z_test.shape)))\n",
    "\n",
    "    return X_train, X_val, X_test, z_train, z_val, z_test, a_test, a_val"
   ]
  },
  {
   "cell_type": "code",
   "execution_count": 4,
   "metadata": {},
   "outputs": [
    {
     "name": "stdout",
     "output_type": "stream",
     "text": [
      "Train features and labels (102624, 24, 39) (102624,)\n",
      "Validating features and labels (12568, 24, 39) (12568,)\n",
      "Test features and labels (12568, 24, 39) (12568,)\n"
     ]
    }
   ],
   "source": [
    "DATA_PATH = '../../data/d_dataset_p2/prep_data_13'\n",
    "X_train, X_val, X_test, z_train, z_val, z_test, a_test, a_val = prep_data(DATA_PATH)"
   ]
  },
  {
   "cell_type": "code",
   "execution_count": 5,
   "metadata": {},
   "outputs": [
    {
     "name": "stdout",
     "output_type": "stream",
     "text": [
      "{'2', 'e', 'A', '@', 'U', 'a', '9', 'i', 'u', 'y', 'O', 'E:', 'o', 'E'}\n"
     ]
    }
   ],
   "source": [
    "print(set(z_test))"
   ]
  },
  {
   "cell_type": "markdown",
   "metadata": {},
   "source": [
    "### One-hot label "
   ]
  },
  {
   "cell_type": "code",
   "execution_count": 6,
   "metadata": {},
   "outputs": [],
   "source": [
    "z_train_oe=z_train.reshape(-1,1)\n",
    "z_val_oe=z_val.reshape(-1,1)\n",
    "z_test_oe=z_test.reshape(-1,1)\n",
    "\n",
    "enc = OneHotEncoder(handle_unknown = 'ignore')\n",
    "enc.fit(z_train_oe)\n",
    "\n",
    "z_train_oe = enc.transform(z_train_oe).toarray()\n",
    "z_test_oe = enc.transform(z_test_oe).toarray()\n",
    "z_val_oe = enc.transform(z_val_oe).toarray()"
   ]
  },
  {
   "cell_type": "markdown",
   "metadata": {},
   "source": [
    "### Defined (Between) Embedding Model"
   ]
  },
  {
   "cell_type": "code",
   "execution_count": 8,
   "metadata": {},
   "outputs": [],
   "source": [
    "PHONETIC_OUTPUT = len(set(z_train))\n",
    "EMBEDDED_FEATURE = 64\n",
    "\n",
    "pLSTM = partial(LSTM, kernel_initializer='he_uniform', return_sequences=True)\n",
    "\n",
    "def embeded_model(input_shape_1,input_shape_2):\n",
    "    inputs = keras.Input(shape=(input_shape_1,input_shape_2))\n",
    "    x = pLSTM(EMBEDDED_FEATURE)(inputs)\n",
    "    x = Flatten()(x)\n",
    "    outputs = Dense(PHONETIC_OUTPUT, activation='softmax', kernel_initializer='he_uniform')(x)\n",
    "    return keras.Model(inputs=inputs, outputs=outputs)"
   ]
  },
  {
   "cell_type": "code",
   "execution_count": 10,
   "metadata": {},
   "outputs": [
    {
     "name": "stdout",
     "output_type": "stream",
     "text": [
      "Model: \"model_1\"\n",
      "_________________________________________________________________\n",
      "Layer (type)                 Output Shape              Param #   \n",
      "=================================================================\n",
      "input_2 (InputLayer)         [(None, 24, 39)]          0         \n",
      "_________________________________________________________________\n",
      "lstm_1 (LSTM)                (None, 24, 64)            26624     \n",
      "_________________________________________________________________\n",
      "flatten_1 (Flatten)          (None, 1536)              0         \n",
      "_________________________________________________________________\n",
      "dense_1 (Dense)              (None, 14)                21518     \n",
      "=================================================================\n",
      "Total params: 48,142\n",
      "Trainable params: 48,142\n",
      "Non-trainable params: 0\n",
      "_________________________________________________________________\n"
     ]
    }
   ],
   "source": [
    "embedded = embeded_model(24, 39)\n",
    "embedded.summary()"
   ]
  },
  {
   "cell_type": "markdown",
   "metadata": {},
   "source": [
    "### Compile Model "
   ]
  },
  {
   "cell_type": "code",
   "execution_count": 11,
   "metadata": {},
   "outputs": [],
   "source": [
    "embedded.compile(optimizer='adam',loss=tf.keras.losses.CategoricalCrossentropy(from_logits=True),metrics=['accuracy'])"
   ]
  },
  {
   "cell_type": "markdown",
   "metadata": {},
   "source": [
    "### Train Model "
   ]
  },
  {
   "cell_type": "code",
   "execution_count": 12,
   "metadata": {},
   "outputs": [],
   "source": [
    "PATIENCE = 10\n",
    "BATCH_SIZE = 128\n",
    "EPOCHS = 100\n",
    "\n",
    "early = callbacks.EarlyStopping(monitor='val_loss', min_delta=0, patience=PATIENCE, verbose=1, mode='min', baseline=None, restore_best_weights=False)\n",
    "callback_list = [early]"
   ]
  },
  {
   "cell_type": "code",
   "execution_count": 13,
   "metadata": {},
   "outputs": [
    {
     "name": "stdout",
     "output_type": "stream",
     "text": [
      "Train on 102624 samples, validate on 12568 samples\n",
      "Epoch 1/100\n",
      "102624/102624 - 8s - loss: 1.9330 - accuracy: 0.8425 - val_loss: 1.8285 - val_accuracy: 0.9336\n",
      "Epoch 2/100\n",
      "102624/102624 - 4s - loss: 1.8520 - accuracy: 0.9086 - val_loss: 1.8160 - val_accuracy: 0.9416\n",
      "Epoch 3/100\n",
      "102624/102624 - 4s - loss: 1.8359 - accuracy: 0.9231 - val_loss: 1.8114 - val_accuracy: 0.9462\n",
      "Epoch 4/100\n",
      "102624/102624 - 4s - loss: 1.8249 - accuracy: 0.9336 - val_loss: 1.8098 - val_accuracy: 0.9471\n",
      "Epoch 5/100\n",
      "102624/102624 - 6s - loss: 1.8191 - accuracy: 0.9388 - val_loss: 1.8113 - val_accuracy: 0.9450\n",
      "Epoch 6/100\n",
      "102624/102624 - 4s - loss: 1.8139 - accuracy: 0.9435 - val_loss: 1.8093 - val_accuracy: 0.9472\n",
      "Epoch 7/100\n",
      "102624/102624 - 4s - loss: 1.8101 - accuracy: 0.9472 - val_loss: 1.8050 - val_accuracy: 0.9500\n",
      "Epoch 8/100\n",
      "102624/102624 - 4s - loss: 1.8067 - accuracy: 0.9506 - val_loss: 1.8088 - val_accuracy: 0.9466\n",
      "Epoch 9/100\n",
      "102624/102624 - 4s - loss: 1.8045 - accuracy: 0.9525 - val_loss: 1.8084 - val_accuracy: 0.9466\n",
      "Epoch 10/100\n",
      "102624/102624 - 4s - loss: 1.8021 - accuracy: 0.9544 - val_loss: 1.8045 - val_accuracy: 0.9511\n",
      "Epoch 11/100\n",
      "102624/102624 - 4s - loss: 1.7997 - accuracy: 0.9571 - val_loss: 1.8050 - val_accuracy: 0.9505\n",
      "Epoch 12/100\n",
      "102624/102624 - 4s - loss: 1.7979 - accuracy: 0.9586 - val_loss: 1.8065 - val_accuracy: 0.9488\n",
      "Epoch 13/100\n",
      "102624/102624 - 4s - loss: 1.7967 - accuracy: 0.9595 - val_loss: 1.8048 - val_accuracy: 0.9511\n",
      "Epoch 14/100\n",
      "102624/102624 - 4s - loss: 1.7950 - accuracy: 0.9615 - val_loss: 1.8028 - val_accuracy: 0.9524\n",
      "Epoch 15/100\n",
      "102624/102624 - 4s - loss: 1.7939 - accuracy: 0.9624 - val_loss: 1.8049 - val_accuracy: 0.9500\n",
      "Epoch 16/100\n",
      "102624/102624 - 4s - loss: 1.7922 - accuracy: 0.9639 - val_loss: 1.8034 - val_accuracy: 0.9526\n",
      "Epoch 17/100\n",
      "102624/102624 - 4s - loss: 1.7912 - accuracy: 0.9652 - val_loss: 1.8039 - val_accuracy: 0.9513\n",
      "Epoch 18/100\n",
      "102624/102624 - 4s - loss: 1.7901 - accuracy: 0.9661 - val_loss: 1.8069 - val_accuracy: 0.9485\n",
      "Epoch 19/100\n",
      "102624/102624 - 4s - loss: 1.7895 - accuracy: 0.9666 - val_loss: 1.8009 - val_accuracy: 0.9541\n",
      "Epoch 20/100\n",
      "102624/102624 - 4s - loss: 1.7884 - accuracy: 0.9677 - val_loss: 1.8086 - val_accuracy: 0.9465\n",
      "Epoch 21/100\n",
      "102624/102624 - 4s - loss: 1.7875 - accuracy: 0.9685 - val_loss: 1.8063 - val_accuracy: 0.9485\n",
      "Epoch 22/100\n",
      "102624/102624 - 4s - loss: 1.7867 - accuracy: 0.9692 - val_loss: 1.8024 - val_accuracy: 0.9523\n",
      "Epoch 23/100\n",
      "102624/102624 - 4s - loss: 1.7871 - accuracy: 0.9689 - val_loss: 1.8022 - val_accuracy: 0.9525\n",
      "Epoch 24/100\n",
      "102624/102624 - 4s - loss: 1.7853 - accuracy: 0.9707 - val_loss: 1.8011 - val_accuracy: 0.9541\n",
      "Epoch 25/100\n",
      "102624/102624 - 4s - loss: 1.7842 - accuracy: 0.9717 - val_loss: 1.8034 - val_accuracy: 0.9509\n",
      "Epoch 26/100\n",
      "102624/102624 - 4s - loss: 1.7845 - accuracy: 0.9715 - val_loss: 1.8022 - val_accuracy: 0.9526\n",
      "Epoch 27/100\n",
      "102624/102624 - 4s - loss: 1.7837 - accuracy: 0.9722 - val_loss: 1.8047 - val_accuracy: 0.9506\n",
      "Epoch 28/100\n",
      "102624/102624 - 4s - loss: 1.7826 - accuracy: 0.9734 - val_loss: 1.8050 - val_accuracy: 0.9502\n",
      "Epoch 29/100\n",
      "102624/102624 - 4s - loss: 1.7830 - accuracy: 0.9728 - val_loss: 1.8012 - val_accuracy: 0.9539\n",
      "Epoch 00029: early stopping\n"
     ]
    }
   ],
   "source": [
    "history = embedded.fit(X_train,z_train_oe,\n",
    "    batch_size=BATCH_SIZE,\n",
    "    epochs=EPOCHS,\n",
    "    verbose=2,\n",
    "    validation_data=(X_val,z_val_oe),\n",
    "    callbacks=callback_list)"
   ]
  },
  {
   "cell_type": "code",
   "execution_count": 14,
   "metadata": {},
   "outputs": [],
   "source": [
    "embedded.save('between_embedded.hdf5')"
   ]
  },
  {
   "cell_type": "code",
   "execution_count": 15,
   "metadata": {},
   "outputs": [],
   "source": [
    "def evaluate_model(y_pred, label):\n",
    "    y_pred = enc.inverse_transform(y_pred)\n",
    "    label = enc.inverse_transform(label)\n",
    "#     print('Confusion Matrix')\n",
    "#     print(confusion_matrix(label, y_pred))\n",
    "    print('Classification Report')\n",
    "    print(classification_report(label, y_pred))"
   ]
  },
  {
   "cell_type": "code",
   "execution_count": 16,
   "metadata": {},
   "outputs": [
    {
     "name": "stdout",
     "output_type": "stream",
     "text": [
      "Classification Report\n",
      "              precision    recall  f1-score   support\n",
      "\n",
      "           2       0.96      0.98      0.97       934\n",
      "           9       0.97      0.98      0.98       886\n",
      "           @       0.98      0.97      0.97       903\n",
      "           A       0.94      0.97      0.96       888\n",
      "           E       0.95      0.95      0.95       890\n",
      "          E:       0.95      0.95      0.95       879\n",
      "           O       0.95      0.97      0.96       964\n",
      "           U       0.93      0.96      0.94       890\n",
      "           a       0.98      0.94      0.96       942\n",
      "           e       0.94      0.97      0.96       894\n",
      "           i       0.98      0.94      0.96       903\n",
      "           o       0.94      0.90      0.92       835\n",
      "           u       0.92      0.93      0.93       895\n",
      "           y       0.96      0.95      0.96       865\n",
      "\n",
      "    accuracy                           0.95     12568\n",
      "   macro avg       0.95      0.95      0.95     12568\n",
      "weighted avg       0.95      0.95      0.95     12568\n",
      "\n"
     ]
    }
   ],
   "source": [
    "z_pred = embedded.predict(X_test)\n",
    "evaluate_model(z_pred, z_test_oe)"
   ]
  },
  {
   "cell_type": "code",
   "execution_count": null,
   "metadata": {},
   "outputs": [],
   "source": []
  }
 ],
 "metadata": {
  "kernelspec": {
   "display_name": "Python 3",
   "language": "python",
   "name": "python3"
  },
  "language_info": {
   "codemirror_mode": {
    "name": "ipython",
    "version": 3
   },
   "file_extension": ".py",
   "mimetype": "text/x-python",
   "name": "python",
   "nbconvert_exporter": "python",
   "pygments_lexer": "ipython3",
   "version": "3.6.10"
  }
 },
 "nbformat": 4,
 "nbformat_minor": 4
}
