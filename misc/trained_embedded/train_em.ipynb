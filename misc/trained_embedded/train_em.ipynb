{
 "cells": [
  {
   "cell_type": "markdown",
   "metadata": {},
   "source": [
    "## Trained Embedded Layer\n",
    "- created: 23 MArch 2020"
   ]
  },
  {
   "cell_type": "code",
   "execution_count": 1,
   "metadata": {},
   "outputs": [],
   "source": [
    "from __future__ import absolute_import, division, print_function, unicode_literals\n",
    "import numpy as np\n",
    "import pandas as pd\n",
    "import matplotlib.pyplot as plt\n",
    "import os\n",
    "from os.path import join\n",
    "import tensorflow as tf\n",
    "from tensorflow import keras\n",
    "from joblib import dump, load\n",
    "from tensorflow.keras import models\n",
    "from tensorflow.keras import optimizers\n",
    "from tensorflow.keras import regularizers\n",
    "from tensorflow.keras import callbacks\n",
    "from time import time\n",
    "from datetime import datetime\n",
    "import shutil \n",
    "import argparse\n",
    "from functools import partial\n",
    "import pickle\n",
    "from IPython.display import Audio\n",
    "\n",
    "import tensorflow as tf\n",
    "from tensorflow import keras\n",
    "from tensorflow.keras import layers\n",
    "from tensorflow.keras import backend as K\n",
    "from tensorflow.keras import regularizers\n",
    "from tensorflow.keras.layers import Reshape, GRU, InputLayer, AlphaDropout, Activation, BatchNormalization, Dropout, Flatten, Dense, Bidirectional, LSTM, Conv1D, SpatialDropout1D, Concatenate, Multiply, Add\n",
    "\n",
    "from sklearn.model_selection import train_test_split\n",
    "from sklearn.metrics import classification_report, confusion_matrix\n",
    "from sklearn.preprocessing import OneHotEncoder"
   ]
  },
  {
   "cell_type": "code",
   "execution_count": 2,
   "metadata": {},
   "outputs": [],
   "source": [
    "np_load_old = partial(np.load)\n",
    "np.load = lambda *a,**k: np_load_old(*a, allow_pickle=True, **k)\n",
    "tf.random.set_seed(42)"
   ]
  },
  {
   "cell_type": "markdown",
   "metadata": {},
   "source": [
    "## Load Data "
   ]
  },
  {
   "cell_type": "code",
   "execution_count": 3,
   "metadata": {},
   "outputs": [],
   "source": [
    "def prep_data(data_path):\n",
    "\n",
    "    # load data from preprocess pipeline\n",
    "    dataset = np.load(join(data_path,'training_subsets.npz'))\n",
    "    X_train =dataset['X_train']\n",
    "    z_train= dataset['z_train']\n",
    "    X_val = dataset['X_val']\n",
    "    z_val = dataset['z_val']\n",
    "    X_test = dataset['X_test']\n",
    "    z_test = dataset['z_test']\n",
    "    a_test = dataset['audio_test']\n",
    "    a_val = dataset['audio_val']\n",
    "    \n",
    "    print('Train features and labels %s %s'%(str(X_train.shape),str(z_train.shape)))\n",
    "    print('Validating features and labels %s %s'%(str(X_val.shape),str(z_val.shape)))\n",
    "    print('Test features and labels %s %s'%(str(X_test.shape),str(z_test.shape)))\n",
    "\n",
    "    return X_train, X_val, X_test, z_train, z_val, z_test, a_test, a_val"
   ]
  },
  {
   "cell_type": "code",
   "execution_count": 5,
   "metadata": {},
   "outputs": [
    {
     "name": "stdout",
     "output_type": "stream",
     "text": [
      "Train features and labels (99978, 23, 39) (99978,)\n",
      "Validating features and labels (12244, 23, 39) (12244,)\n",
      "Test features and labels (12242, 23, 39) (12242,)\n"
     ]
    }
   ],
   "source": [
    "DATA_PATH = '../../data/d_dataset_3/prep_data_13'\n",
    "X_train, X_val, X_test, z_train, z_val, z_test, a_test, a_val = prep_data(DATA_PATH)"
   ]
  },
  {
   "cell_type": "code",
   "execution_count": 6,
   "metadata": {},
   "outputs": [
    {
     "name": "stdout",
     "output_type": "stream",
     "text": [
      "{'2', 'U', 'u', 'a', 'y', 'e', '@', 'A', '9', 'o', 'i', 'E:', 'O', 'E'}\n"
     ]
    }
   ],
   "source": [
    "print(set(z_test))"
   ]
  },
  {
   "cell_type": "markdown",
   "metadata": {},
   "source": [
    "### One-hot label "
   ]
  },
  {
   "cell_type": "code",
   "execution_count": 7,
   "metadata": {},
   "outputs": [
    {
     "data": {
      "text/plain": [
       "['onehot.joblib']"
      ]
     },
     "execution_count": 7,
     "metadata": {},
     "output_type": "execute_result"
    }
   ],
   "source": [
    "z_train_oe=z_train.reshape(-1,1)\n",
    "z_val_oe=z_val.reshape(-1,1)\n",
    "z_test_oe=z_test.reshape(-1,1)\n",
    "\n",
    "enc = OneHotEncoder(handle_unknown = 'ignore')\n",
    "enc.fit(z_train_oe)\n",
    "\n",
    "z_train_oe = enc.transform(z_train_oe).toarray()\n",
    "z_test_oe = enc.transform(z_test_oe).toarray()\n",
    "z_val_oe = enc.transform(z_val_oe).toarray()\n",
    "\n",
    "dump(enc, 'onehot.joblib')"
   ]
  },
  {
   "cell_type": "markdown",
   "metadata": {},
   "source": [
    "### Defined (Between) Embedding Model"
   ]
  },
  {
   "cell_type": "code",
   "execution_count": 8,
   "metadata": {},
   "outputs": [],
   "source": [
    "PHONETIC_OUTPUT = len(set(z_train))\n",
    "EMBEDDED_FEATURE = 32\n",
    "\n",
    "pLSTM = partial(LSTM, kernel_initializer='he_uniform', return_sequences=True)\n",
    "\n",
    "def embeded_model(input_shape_1,input_shape_2):\n",
    "    inputs = keras.Input(shape=(input_shape_1,input_shape_2))\n",
    "    x = pLSTM(EMBEDDED_FEATURE)(inputs)\n",
    "    x = Flatten()(x)\n",
    "    outputs = Dense(PHONETIC_OUTPUT, activation='softmax', kernel_initializer='he_uniform')(x)\n",
    "    return keras.Model(inputs=inputs, outputs=outputs)"
   ]
  },
  {
   "cell_type": "code",
   "execution_count": 13,
   "metadata": {},
   "outputs": [
    {
     "name": "stdout",
     "output_type": "stream",
     "text": [
      "Model: \"model_1\"\n",
      "_________________________________________________________________\n",
      "Layer (type)                 Output Shape              Param #   \n",
      "=================================================================\n",
      "input_2 (InputLayer)         [(None, 23, 39)]          0         \n",
      "_________________________________________________________________\n",
      "lstm_1 (LSTM)                (None, 23, 32)            9216      \n",
      "_________________________________________________________________\n",
      "flatten_1 (Flatten)          (None, 736)               0         \n",
      "_________________________________________________________________\n",
      "dense_1 (Dense)              (None, 14)                10318     \n",
      "=================================================================\n",
      "Total params: 19,534\n",
      "Trainable params: 19,534\n",
      "Non-trainable params: 0\n",
      "_________________________________________________________________\n"
     ]
    }
   ],
   "source": [
    "embedded = embeded_model(23, 39)\n",
    "embedded.summary()"
   ]
  },
  {
   "cell_type": "markdown",
   "metadata": {},
   "source": [
    "### Compile Model "
   ]
  },
  {
   "cell_type": "code",
   "execution_count": 14,
   "metadata": {},
   "outputs": [],
   "source": [
    "embedded.compile(optimizer='adam',loss=tf.keras.losses.CategoricalCrossentropy(from_logits=True),metrics=['accuracy'])"
   ]
  },
  {
   "cell_type": "markdown",
   "metadata": {},
   "source": [
    "### Train Model "
   ]
  },
  {
   "cell_type": "code",
   "execution_count": 15,
   "metadata": {},
   "outputs": [],
   "source": [
    "PATIENCE = 10\n",
    "BATCH_SIZE = 128\n",
    "EPOCHS = 200\n",
    "\n",
    "early = callbacks.EarlyStopping(monitor='val_loss', min_delta=0, patience=PATIENCE, verbose=1, mode='min', baseline=None, restore_best_weights=False)\n",
    "callback_list = [early]"
   ]
  },
  {
   "cell_type": "code",
   "execution_count": 16,
   "metadata": {},
   "outputs": [
    {
     "name": "stdout",
     "output_type": "stream",
     "text": [
      "Train on 99978 samples, validate on 12244 samples\n",
      "Epoch 1/200\n",
      "99978/99978 - 11s - loss: 2.0345 - accuracy: 0.7544 - val_loss: 1.8889 - val_accuracy: 0.8768\n",
      "Epoch 2/200\n",
      "99978/99978 - 4s - loss: 1.9076 - accuracy: 0.8579 - val_loss: 1.8570 - val_accuracy: 0.9062\n",
      "Epoch 3/200\n",
      "99978/99978 - 4s - loss: 1.8822 - accuracy: 0.8805 - val_loss: 1.8459 - val_accuracy: 0.9151\n",
      "Epoch 4/200\n",
      "99978/99978 - 4s - loss: 1.8688 - accuracy: 0.8924 - val_loss: 1.8383 - val_accuracy: 0.9214\n",
      "Epoch 5/200\n",
      "99978/99978 - 4s - loss: 1.8594 - accuracy: 0.9012 - val_loss: 1.8333 - val_accuracy: 0.9244\n",
      "Epoch 6/200\n",
      "99978/99978 - 4s - loss: 1.8526 - accuracy: 0.9077 - val_loss: 1.8310 - val_accuracy: 0.9262\n",
      "Epoch 7/200\n",
      "99978/99978 - 4s - loss: 1.8475 - accuracy: 0.9118 - val_loss: 1.8302 - val_accuracy: 0.9260\n",
      "Epoch 8/200\n",
      "99978/99978 - 4s - loss: 1.8438 - accuracy: 0.9152 - val_loss: 1.8272 - val_accuracy: 0.9304\n",
      "Epoch 9/200\n",
      "99978/99978 - 4s - loss: 1.8387 - accuracy: 0.9204 - val_loss: 1.8268 - val_accuracy: 0.9294\n",
      "Epoch 10/200\n",
      "99978/99978 - 4s - loss: 1.8357 - accuracy: 0.9229 - val_loss: 1.8252 - val_accuracy: 0.9320\n",
      "Epoch 11/200\n",
      "99978/99978 - 4s - loss: 1.8331 - accuracy: 0.9256 - val_loss: 1.8240 - val_accuracy: 0.9325\n",
      "Epoch 12/200\n",
      "99978/99978 - 4s - loss: 1.8307 - accuracy: 0.9281 - val_loss: 1.8227 - val_accuracy: 0.9332\n",
      "Epoch 13/200\n",
      "99978/99978 - 4s - loss: 1.8288 - accuracy: 0.9296 - val_loss: 1.8208 - val_accuracy: 0.9347\n",
      "Epoch 14/200\n",
      "99978/99978 - 4s - loss: 1.8271 - accuracy: 0.9313 - val_loss: 1.8214 - val_accuracy: 0.9347\n",
      "Epoch 15/200\n",
      "99978/99978 - 4s - loss: 1.8246 - accuracy: 0.9337 - val_loss: 1.8218 - val_accuracy: 0.9351\n",
      "Epoch 16/200\n",
      "99978/99978 - 4s - loss: 1.8228 - accuracy: 0.9352 - val_loss: 1.8193 - val_accuracy: 0.9363\n",
      "Epoch 17/200\n",
      "99978/99978 - 4s - loss: 1.8213 - accuracy: 0.9370 - val_loss: 1.8190 - val_accuracy: 0.9374\n",
      "Epoch 18/200\n",
      "99978/99978 - 4s - loss: 1.8202 - accuracy: 0.9379 - val_loss: 1.8200 - val_accuracy: 0.9359\n",
      "Epoch 19/200\n",
      "99978/99978 - 4s - loss: 1.8191 - accuracy: 0.9390 - val_loss: 1.8198 - val_accuracy: 0.9364\n",
      "Epoch 20/200\n",
      "99978/99978 - 4s - loss: 1.8177 - accuracy: 0.9401 - val_loss: 1.8203 - val_accuracy: 0.9346\n",
      "Epoch 21/200\n",
      "99978/99978 - 4s - loss: 1.8163 - accuracy: 0.9417 - val_loss: 1.8197 - val_accuracy: 0.9359\n",
      "Epoch 22/200\n",
      "99978/99978 - 4s - loss: 1.8161 - accuracy: 0.9416 - val_loss: 1.8181 - val_accuracy: 0.9374\n",
      "Epoch 23/200\n",
      "99978/99978 - 4s - loss: 1.8139 - accuracy: 0.9440 - val_loss: 1.8185 - val_accuracy: 0.9378\n",
      "Epoch 24/200\n",
      "99978/99978 - 4s - loss: 1.8134 - accuracy: 0.9444 - val_loss: 1.8184 - val_accuracy: 0.9374\n",
      "Epoch 25/200\n",
      "99978/99978 - 4s - loss: 1.8130 - accuracy: 0.9446 - val_loss: 1.8182 - val_accuracy: 0.9377\n",
      "Epoch 26/200\n",
      "99978/99978 - 4s - loss: 1.8116 - accuracy: 0.9459 - val_loss: 1.8187 - val_accuracy: 0.9378\n",
      "Epoch 27/200\n",
      "99978/99978 - 4s - loss: 1.8110 - accuracy: 0.9467 - val_loss: 1.8185 - val_accuracy: 0.9378\n",
      "Epoch 28/200\n",
      "99978/99978 - 4s - loss: 1.8101 - accuracy: 0.9475 - val_loss: 1.8181 - val_accuracy: 0.9375\n",
      "Epoch 29/200\n",
      "99978/99978 - 4s - loss: 1.8095 - accuracy: 0.9481 - val_loss: 1.8181 - val_accuracy: 0.9381\n",
      "Epoch 30/200\n",
      "99978/99978 - 4s - loss: 1.8087 - accuracy: 0.9489 - val_loss: 1.8185 - val_accuracy: 0.9377\n",
      "Epoch 31/200\n",
      "99978/99978 - 4s - loss: 1.8094 - accuracy: 0.9479 - val_loss: 1.8179 - val_accuracy: 0.9369\n",
      "Epoch 32/200\n",
      "99978/99978 - 4s - loss: 1.8081 - accuracy: 0.9494 - val_loss: 1.8177 - val_accuracy: 0.9379\n",
      "Epoch 33/200\n",
      "99978/99978 - 4s - loss: 1.8079 - accuracy: 0.9494 - val_loss: 1.8180 - val_accuracy: 0.9376\n",
      "Epoch 34/200\n",
      "99978/99978 - 4s - loss: 1.8065 - accuracy: 0.9508 - val_loss: 1.8174 - val_accuracy: 0.9376\n",
      "Epoch 35/200\n",
      "99978/99978 - 4s - loss: 1.8054 - accuracy: 0.9520 - val_loss: 1.8173 - val_accuracy: 0.9386\n",
      "Epoch 36/200\n",
      "99978/99978 - 4s - loss: 1.8068 - accuracy: 0.9504 - val_loss: 1.8204 - val_accuracy: 0.9344\n",
      "Epoch 37/200\n",
      "99978/99978 - 4s - loss: 1.8053 - accuracy: 0.9519 - val_loss: 1.8183 - val_accuracy: 0.9370\n",
      "Epoch 38/200\n",
      "99978/99978 - 4s - loss: 1.8051 - accuracy: 0.9520 - val_loss: 1.8200 - val_accuracy: 0.9354\n",
      "Epoch 39/200\n",
      "99978/99978 - 4s - loss: 1.8048 - accuracy: 0.9523 - val_loss: 1.8186 - val_accuracy: 0.9376\n",
      "Epoch 40/200\n",
      "99978/99978 - 4s - loss: 1.8036 - accuracy: 0.9536 - val_loss: 1.8190 - val_accuracy: 0.9369\n",
      "Epoch 41/200\n",
      "99978/99978 - 4s - loss: 1.8029 - accuracy: 0.9544 - val_loss: 1.8180 - val_accuracy: 0.9374\n",
      "Epoch 42/200\n",
      "99978/99978 - 4s - loss: 1.8033 - accuracy: 0.9538 - val_loss: 1.8202 - val_accuracy: 0.9346\n",
      "Epoch 43/200\n",
      "99978/99978 - 4s - loss: 1.8021 - accuracy: 0.9553 - val_loss: 1.8183 - val_accuracy: 0.9366\n",
      "Epoch 44/200\n",
      "99978/99978 - 4s - loss: 1.8024 - accuracy: 0.9546 - val_loss: 1.8183 - val_accuracy: 0.9366\n",
      "Epoch 45/200\n",
      "99978/99978 - 4s - loss: 1.8017 - accuracy: 0.9552 - val_loss: 1.8184 - val_accuracy: 0.9371\n",
      "Epoch 00045: early stopping\n"
     ]
    }
   ],
   "source": [
    "history = embedded.fit(X_train,z_train_oe,\n",
    "    batch_size=BATCH_SIZE,\n",
    "    epochs=EPOCHS,\n",
    "    verbose=2,\n",
    "    validation_data=(X_val,z_val_oe),\n",
    "    callbacks=callback_list)"
   ]
  },
  {
   "cell_type": "code",
   "execution_count": 17,
   "metadata": {},
   "outputs": [],
   "source": [
    "embedded.save('between_embedded_32.hdf5')"
   ]
  },
  {
   "cell_type": "code",
   "execution_count": 18,
   "metadata": {},
   "outputs": [],
   "source": [
    "def evaluate_model(y_pred, label):\n",
    "    y_pred = enc.inverse_transform(y_pred)\n",
    "    label = enc.inverse_transform(label)\n",
    "#     print('Confusion Matrix')\n",
    "#     print(confusion_matrix(label, y_pred))\n",
    "    print('Classification Report')\n",
    "    print(classification_report(label, y_pred))"
   ]
  },
  {
   "cell_type": "code",
   "execution_count": 19,
   "metadata": {},
   "outputs": [
    {
     "name": "stdout",
     "output_type": "stream",
     "text": [
      "Classification Report\n",
      "              precision    recall  f1-score   support\n",
      "\n",
      "           2       0.94      0.95      0.94       929\n",
      "           9       0.96      0.97      0.97       888\n",
      "           @       0.96      0.96      0.96       914\n",
      "           A       0.93      0.97      0.95       899\n",
      "           E       0.92      0.94      0.93       849\n",
      "          E:       0.94      0.95      0.94       889\n",
      "           O       0.94      0.95      0.94       915\n",
      "           U       0.94      0.90      0.92       904\n",
      "           a       0.97      0.91      0.94       898\n",
      "           e       0.95      0.93      0.94       834\n",
      "           i       0.96      0.97      0.96       881\n",
      "           o       0.93      0.88      0.91       767\n",
      "           u       0.88      0.94      0.91       822\n",
      "           y       0.95      0.94      0.95       853\n",
      "\n",
      "    accuracy                           0.94     12242\n",
      "   macro avg       0.94      0.94      0.94     12242\n",
      "weighted avg       0.94      0.94      0.94     12242\n",
      "\n"
     ]
    }
   ],
   "source": [
    "z_pred = embedded.predict(X_test)\n",
    "evaluate_model(z_pred, z_test_oe)"
   ]
  },
  {
   "cell_type": "code",
   "execution_count": null,
   "metadata": {},
   "outputs": [],
   "source": []
  }
 ],
 "metadata": {
  "kernelspec": {
   "display_name": "Python 3",
   "language": "python",
   "name": "python3"
  },
  "language_info": {
   "codemirror_mode": {
    "name": "ipython",
    "version": 3
   },
   "file_extension": ".py",
   "mimetype": "text/x-python",
   "name": "python",
   "nbconvert_exporter": "python",
   "pygments_lexer": "ipython3",
   "version": "3.6.10"
  }
 },
 "nbformat": 4,
 "nbformat_minor": 4
}
