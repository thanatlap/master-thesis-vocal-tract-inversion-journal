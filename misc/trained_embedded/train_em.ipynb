{
 "cells": [
  {
   "cell_type": "markdown",
   "metadata": {},
   "source": [
    "## Trained Embedded Layer\n",
    "- created: 23 MArch 2020"
   ]
  },
  {
   "cell_type": "code",
   "execution_count": 7,
   "metadata": {},
   "outputs": [],
   "source": [
    "from __future__ import absolute_import, division, print_function, unicode_literals\n",
    "import numpy as np\n",
    "import pandas as pd\n",
    "import matplotlib.pyplot as plt\n",
    "import os\n",
    "from os.path import join\n",
    "import tensorflow as tf\n",
    "from tensorflow import keras\n",
    "from joblib import dump, load\n",
    "from tensorflow.keras import models\n",
    "from tensorflow.keras import optimizers\n",
    "from tensorflow.keras import regularizers\n",
    "from tensorflow.keras import callbacks\n",
    "from time import time\n",
    "from datetime import datetime\n",
    "import shutil \n",
    "import argparse\n",
    "from functools import partial\n",
    "import pickle\n",
    "from IPython.display import Audio\n",
    "\n",
    "import tensorflow as tf\n",
    "from tensorflow import keras\n",
    "from tensorflow.keras import layers\n",
    "from tensorflow.keras import backend as K\n",
    "from tensorflow.keras import regularizers\n",
    "from tensorflow.keras.layers import Reshape, GRU, InputLayer, AlphaDropout, Activation, BatchNormalization, Dropout, Flatten, Dense, Bidirectional, LSTM, Conv1D, SpatialDropout1D, Concatenate, Multiply, Add\n",
    "\n",
    "from sklearn.model_selection import train_test_split\n",
    "from sklearn.metrics import classification_report, confusion_matrix\n",
    "from sklearn.preprocessing import OneHotEncoder"
   ]
  },
  {
   "cell_type": "code",
   "execution_count": 2,
   "metadata": {},
   "outputs": [],
   "source": [
    "np_load_old = partial(np.load)\n",
    "np.load = lambda *a,**k: np_load_old(*a, allow_pickle=True, **k)\n",
    "tf.random.set_seed(42)"
   ]
  },
  {
   "cell_type": "markdown",
   "metadata": {},
   "source": [
    "## Load Data "
   ]
  },
  {
   "cell_type": "code",
   "execution_count": 3,
   "metadata": {},
   "outputs": [],
   "source": [
    "def prep_data(data_path):\n",
    "\n",
    "    # load data from preprocess pipeline\n",
    "    dataset = np.load(join(data_path,'training_subsets.npz'))\n",
    "    X_train =dataset['X_train']\n",
    "    z_train= dataset['z_train']\n",
    "    X_val = dataset['X_val']\n",
    "    z_val = dataset['z_val']\n",
    "    X_test = dataset['X_test']\n",
    "    z_test = dataset['z_test']\n",
    "    a_test = dataset['audio_test']\n",
    "    a_val = dataset['audio_val']\n",
    "    \n",
    "    print('Train features and labels %s %s'%(str(X_train.shape),str(z_train.shape)))\n",
    "    print('Validating features and labels %s %s'%(str(X_val.shape),str(z_val.shape)))\n",
    "    print('Test features and labels %s %s'%(str(X_test.shape),str(z_test.shape)))\n",
    "\n",
    "    return X_train, X_val, X_test, z_train, z_val, z_test, a_test, a_val"
   ]
  },
  {
   "cell_type": "code",
   "execution_count": 4,
   "metadata": {},
   "outputs": [
    {
     "name": "stdout",
     "output_type": "stream",
     "text": [
      "Train features and labels (102624, 24, 39) (102624,)\n",
      "Validating features and labels (12568, 24, 39) (12568,)\n",
      "Test features and labels (12568, 24, 39) (12568,)\n"
     ]
    }
   ],
   "source": [
    "DATA_PATH = '../../data/d_dataset_p2/prep_data_13'\n",
    "X_train, X_val, X_test, z_train, z_val, z_test, a_test, a_val = prep_data(DATA_PATH)"
   ]
  },
  {
   "cell_type": "code",
   "execution_count": 5,
   "metadata": {},
   "outputs": [
    {
     "name": "stdout",
     "output_type": "stream",
     "text": [
      "{'@', 'u', '9', 'U', 'o', 'A', 'i', 'y', 'E:', 'E', 'O', 'e', '2', 'a'}\n"
     ]
    }
   ],
   "source": [
    "print(set(z_test))"
   ]
  },
  {
   "cell_type": "markdown",
   "metadata": {},
   "source": [
    "### One-hot label "
   ]
  },
  {
   "cell_type": "code",
   "execution_count": 8,
   "metadata": {},
   "outputs": [
    {
     "data": {
      "text/plain": [
       "['onehot.joblib']"
      ]
     },
     "execution_count": 8,
     "metadata": {},
     "output_type": "execute_result"
    }
   ],
   "source": [
    "z_train_oe=z_train.reshape(-1,1)\n",
    "z_val_oe=z_val.reshape(-1,1)\n",
    "z_test_oe=z_test.reshape(-1,1)\n",
    "\n",
    "enc = OneHotEncoder(handle_unknown = 'ignore')\n",
    "enc.fit(z_train_oe)\n",
    "\n",
    "z_train_oe = enc.transform(z_train_oe).toarray()\n",
    "z_test_oe = enc.transform(z_test_oe).toarray()\n",
    "z_val_oe = enc.transform(z_val_oe).toarray()\n",
    "\n",
    "dump(enc, 'onehot.joblib')"
   ]
  },
  {
   "cell_type": "markdown",
   "metadata": {},
   "source": [
    "### Defined (Between) Embedding Model"
   ]
  },
  {
   "cell_type": "code",
   "execution_count": 7,
   "metadata": {},
   "outputs": [],
   "source": [
    "PHONETIC_OUTPUT = len(set(z_train))\n",
    "EMBEDDED_FEATURE = 32\n",
    "\n",
    "pLSTM = partial(LSTM, kernel_initializer='he_uniform', return_sequences=True)\n",
    "\n",
    "def embeded_model(input_shape_1,input_shape_2):\n",
    "    inputs = keras.Input(shape=(input_shape_1,input_shape_2))\n",
    "    x = pLSTM(EMBEDDED_FEATURE)(inputs)\n",
    "    x = Flatten()(x)\n",
    "    outputs = Dense(PHONETIC_OUTPUT, activation='softmax', kernel_initializer='he_uniform')(x)\n",
    "    return keras.Model(inputs=inputs, outputs=outputs)"
   ]
  },
  {
   "cell_type": "code",
   "execution_count": 8,
   "metadata": {},
   "outputs": [
    {
     "name": "stdout",
     "output_type": "stream",
     "text": [
      "Model: \"model\"\n",
      "_________________________________________________________________\n",
      "Layer (type)                 Output Shape              Param #   \n",
      "=================================================================\n",
      "input_1 (InputLayer)         [(None, 24, 39)]          0         \n",
      "_________________________________________________________________\n",
      "lstm (LSTM)                  (None, 24, 32)            9216      \n",
      "_________________________________________________________________\n",
      "flatten (Flatten)            (None, 768)               0         \n",
      "_________________________________________________________________\n",
      "dense (Dense)                (None, 14)                10766     \n",
      "=================================================================\n",
      "Total params: 19,982\n",
      "Trainable params: 19,982\n",
      "Non-trainable params: 0\n",
      "_________________________________________________________________\n"
     ]
    }
   ],
   "source": [
    "embedded = embeded_model(24, 39)\n",
    "embedded.summary()"
   ]
  },
  {
   "cell_type": "markdown",
   "metadata": {},
   "source": [
    "### Compile Model "
   ]
  },
  {
   "cell_type": "code",
   "execution_count": 9,
   "metadata": {},
   "outputs": [],
   "source": [
    "embedded.compile(optimizer='adam',loss=tf.keras.losses.CategoricalCrossentropy(from_logits=True),metrics=['accuracy'])"
   ]
  },
  {
   "cell_type": "markdown",
   "metadata": {},
   "source": [
    "### Train Model "
   ]
  },
  {
   "cell_type": "code",
   "execution_count": 10,
   "metadata": {},
   "outputs": [],
   "source": [
    "PATIENCE = 10\n",
    "BATCH_SIZE = 256\n",
    "EPOCHS = 100\n",
    "\n",
    "early = callbacks.EarlyStopping(monitor='val_loss', min_delta=0, patience=PATIENCE, verbose=1, mode='min', baseline=None, restore_best_weights=False)\n",
    "callback_list = [early]"
   ]
  },
  {
   "cell_type": "code",
   "execution_count": 11,
   "metadata": {},
   "outputs": [
    {
     "name": "stdout",
     "output_type": "stream",
     "text": [
      "Train on 102624 samples, validate on 12568 samples\n",
      "Epoch 1/100\n",
      "102624/102624 - 6s - loss: 2.0288 - accuracy: 0.7603 - val_loss: 1.8707 - val_accuracy: 0.8941\n",
      "Epoch 2/100\n",
      "102624/102624 - 2s - loss: 1.8942 - accuracy: 0.8695 - val_loss: 1.8419 - val_accuracy: 0.9188\n",
      "Epoch 3/100\n",
      "102624/102624 - 2s - loss: 1.8707 - accuracy: 0.8911 - val_loss: 1.8308 - val_accuracy: 0.9300\n",
      "Epoch 4/100\n",
      "102624/102624 - 2s - loss: 1.8578 - accuracy: 0.9031 - val_loss: 1.8240 - val_accuracy: 0.9352\n",
      "Epoch 5/100\n",
      "102624/102624 - 2s - loss: 1.8499 - accuracy: 0.9104 - val_loss: 1.8214 - val_accuracy: 0.9374\n",
      "Epoch 6/100\n",
      "102624/102624 - 2s - loss: 1.8431 - accuracy: 0.9163 - val_loss: 1.8170 - val_accuracy: 0.9416\n",
      "Epoch 7/100\n",
      "102624/102624 - 2s - loss: 1.8380 - accuracy: 0.9217 - val_loss: 1.8162 - val_accuracy: 0.9416\n",
      "Epoch 8/100\n",
      "102624/102624 - 2s - loss: 1.8331 - accuracy: 0.9261 - val_loss: 1.8152 - val_accuracy: 0.9408\n",
      "Epoch 9/100\n",
      "102624/102624 - 2s - loss: 1.8296 - accuracy: 0.9295 - val_loss: 1.8135 - val_accuracy: 0.9435\n",
      "Epoch 10/100\n",
      "102624/102624 - 2s - loss: 1.8264 - accuracy: 0.9328 - val_loss: 1.8116 - val_accuracy: 0.9456\n",
      "Epoch 11/100\n",
      "102624/102624 - 2s - loss: 1.8243 - accuracy: 0.9345 - val_loss: 1.8103 - val_accuracy: 0.9466\n",
      "Epoch 12/100\n",
      "102624/102624 - 2s - loss: 1.8218 - accuracy: 0.9370 - val_loss: 1.8105 - val_accuracy: 0.9461\n",
      "Epoch 13/100\n",
      "102624/102624 - 2s - loss: 1.8198 - accuracy: 0.9386 - val_loss: 1.8088 - val_accuracy: 0.9475\n",
      "Epoch 14/100\n",
      "102624/102624 - 2s - loss: 1.8180 - accuracy: 0.9402 - val_loss: 1.8083 - val_accuracy: 0.9480\n",
      "Epoch 15/100\n",
      "102624/102624 - 2s - loss: 1.8161 - accuracy: 0.9422 - val_loss: 1.8095 - val_accuracy: 0.9474\n",
      "Epoch 16/100\n",
      "102624/102624 - 2s - loss: 1.8146 - accuracy: 0.9437 - val_loss: 1.8070 - val_accuracy: 0.9491\n",
      "Epoch 17/100\n",
      "102624/102624 - 2s - loss: 1.8134 - accuracy: 0.9446 - val_loss: 1.8066 - val_accuracy: 0.9492\n",
      "Epoch 18/100\n",
      "102624/102624 - 2s - loss: 1.8118 - accuracy: 0.9459 - val_loss: 1.8070 - val_accuracy: 0.9500\n",
      "Epoch 19/100\n",
      "102624/102624 - 2s - loss: 1.8107 - accuracy: 0.9470 - val_loss: 1.8059 - val_accuracy: 0.9501\n",
      "Epoch 20/100\n",
      "102624/102624 - 2s - loss: 1.8101 - accuracy: 0.9479 - val_loss: 1.8060 - val_accuracy: 0.9496\n",
      "Epoch 21/100\n",
      "102624/102624 - 2s - loss: 1.8083 - accuracy: 0.9493 - val_loss: 1.8058 - val_accuracy: 0.9507\n",
      "Epoch 22/100\n",
      "102624/102624 - 2s - loss: 1.8074 - accuracy: 0.9505 - val_loss: 1.8056 - val_accuracy: 0.9505\n",
      "Epoch 23/100\n",
      "102624/102624 - 2s - loss: 1.8068 - accuracy: 0.9507 - val_loss: 1.8047 - val_accuracy: 0.9507\n",
      "Epoch 24/100\n",
      "102624/102624 - 2s - loss: 1.8057 - accuracy: 0.9520 - val_loss: 1.8041 - val_accuracy: 0.9511\n",
      "Epoch 25/100\n",
      "102624/102624 - 2s - loss: 1.8046 - accuracy: 0.9529 - val_loss: 1.8054 - val_accuracy: 0.9511\n",
      "Epoch 26/100\n",
      "102624/102624 - 2s - loss: 1.8039 - accuracy: 0.9536 - val_loss: 1.8054 - val_accuracy: 0.9496\n",
      "Epoch 27/100\n",
      "102624/102624 - 2s - loss: 1.8036 - accuracy: 0.9538 - val_loss: 1.8047 - val_accuracy: 0.9508\n",
      "Epoch 28/100\n",
      "102624/102624 - 2s - loss: 1.8024 - accuracy: 0.9552 - val_loss: 1.8035 - val_accuracy: 0.9528\n",
      "Epoch 29/100\n",
      "102624/102624 - 2s - loss: 1.8018 - accuracy: 0.9557 - val_loss: 1.8046 - val_accuracy: 0.9506\n",
      "Epoch 30/100\n",
      "102624/102624 - 2s - loss: 1.8014 - accuracy: 0.9557 - val_loss: 1.8031 - val_accuracy: 0.9522\n",
      "Epoch 31/100\n",
      "102624/102624 - 2s - loss: 1.8001 - accuracy: 0.9574 - val_loss: 1.8031 - val_accuracy: 0.9526\n",
      "Epoch 32/100\n",
      "102624/102624 - 2s - loss: 1.7999 - accuracy: 0.9573 - val_loss: 1.8032 - val_accuracy: 0.9527\n",
      "Epoch 33/100\n",
      "102624/102624 - 2s - loss: 1.7996 - accuracy: 0.9578 - val_loss: 1.8044 - val_accuracy: 0.9512\n",
      "Epoch 34/100\n",
      "102624/102624 - 2s - loss: 1.7991 - accuracy: 0.9583 - val_loss: 1.8037 - val_accuracy: 0.9516\n",
      "Epoch 35/100\n",
      "102624/102624 - 2s - loss: 1.7992 - accuracy: 0.9577 - val_loss: 1.8042 - val_accuracy: 0.9515\n",
      "Epoch 36/100\n",
      "102624/102624 - 3s - loss: 1.7980 - accuracy: 0.9592 - val_loss: 1.8027 - val_accuracy: 0.9534\n",
      "Epoch 37/100\n",
      "102624/102624 - 2s - loss: 1.7969 - accuracy: 0.9605 - val_loss: 1.8026 - val_accuracy: 0.9527\n",
      "Epoch 38/100\n",
      "102624/102624 - 2s - loss: 1.7972 - accuracy: 0.9597 - val_loss: 1.8039 - val_accuracy: 0.9511\n",
      "Epoch 39/100\n",
      "102624/102624 - 2s - loss: 1.7969 - accuracy: 0.9601 - val_loss: 1.8028 - val_accuracy: 0.9523\n",
      "Epoch 40/100\n",
      "102624/102624 - 2s - loss: 1.7960 - accuracy: 0.9611 - val_loss: 1.8037 - val_accuracy: 0.9520\n",
      "Epoch 41/100\n",
      "102624/102624 - 2s - loss: 1.7954 - accuracy: 0.9615 - val_loss: 1.8019 - val_accuracy: 0.9535\n",
      "Epoch 42/100\n",
      "102624/102624 - 2s - loss: 1.7948 - accuracy: 0.9620 - val_loss: 1.8015 - val_accuracy: 0.9540\n",
      "Epoch 43/100\n",
      "102624/102624 - 2s - loss: 1.7949 - accuracy: 0.9622 - val_loss: 1.8024 - val_accuracy: 0.9530\n",
      "Epoch 44/100\n",
      "102624/102624 - 2s - loss: 1.7942 - accuracy: 0.9626 - val_loss: 1.8027 - val_accuracy: 0.9519\n",
      "Epoch 45/100\n",
      "102624/102624 - 2s - loss: 1.7949 - accuracy: 0.9620 - val_loss: 1.8034 - val_accuracy: 0.9515\n",
      "Epoch 46/100\n",
      "102624/102624 - 2s - loss: 1.7942 - accuracy: 0.9625 - val_loss: 1.8032 - val_accuracy: 0.9519\n",
      "Epoch 47/100\n",
      "102624/102624 - 2s - loss: 1.7933 - accuracy: 0.9636 - val_loss: 1.8030 - val_accuracy: 0.9518\n",
      "Epoch 48/100\n",
      "102624/102624 - 2s - loss: 1.7931 - accuracy: 0.9638 - val_loss: 1.8026 - val_accuracy: 0.9523\n",
      "Epoch 49/100\n",
      "102624/102624 - 2s - loss: 1.7932 - accuracy: 0.9637 - val_loss: 1.8018 - val_accuracy: 0.9526\n",
      "Epoch 50/100\n",
      "102624/102624 - 2s - loss: 1.7922 - accuracy: 0.9646 - val_loss: 1.8029 - val_accuracy: 0.9519\n",
      "Epoch 51/100\n",
      "102624/102624 - 2s - loss: 1.7925 - accuracy: 0.9641 - val_loss: 1.8014 - val_accuracy: 0.9542\n",
      "Epoch 52/100\n",
      "102624/102624 - 2s - loss: 1.7922 - accuracy: 0.9644 - val_loss: 1.8029 - val_accuracy: 0.9519\n",
      "Epoch 53/100\n",
      "102624/102624 - 2s - loss: 1.7922 - accuracy: 0.9644 - val_loss: 1.8016 - val_accuracy: 0.9539\n",
      "Epoch 54/100\n",
      "102624/102624 - 2s - loss: 1.7912 - accuracy: 0.9654 - val_loss: 1.8023 - val_accuracy: 0.9532\n",
      "Epoch 55/100\n",
      "102624/102624 - 2s - loss: 1.7911 - accuracy: 0.9657 - val_loss: 1.8022 - val_accuracy: 0.9527\n",
      "Epoch 56/100\n",
      "102624/102624 - 2s - loss: 1.7909 - accuracy: 0.9657 - val_loss: 1.8017 - val_accuracy: 0.9538\n",
      "Epoch 57/100\n",
      "102624/102624 - 2s - loss: 1.7909 - accuracy: 0.9658 - val_loss: 1.8006 - val_accuracy: 0.9551\n",
      "Epoch 58/100\n",
      "102624/102624 - 2s - loss: 1.7901 - accuracy: 0.9664 - val_loss: 1.8021 - val_accuracy: 0.9535\n",
      "Epoch 59/100\n",
      "102624/102624 - 2s - loss: 1.7892 - accuracy: 0.9673 - val_loss: 1.8017 - val_accuracy: 0.9536\n",
      "Epoch 60/100\n",
      "102624/102624 - 2s - loss: 1.7897 - accuracy: 0.9668 - val_loss: 1.8018 - val_accuracy: 0.9533\n",
      "Epoch 61/100\n",
      "102624/102624 - 2s - loss: 1.7906 - accuracy: 0.9660 - val_loss: 1.8008 - val_accuracy: 0.9542\n",
      "Epoch 62/100\n",
      "102624/102624 - 2s - loss: 1.7895 - accuracy: 0.9670 - val_loss: 1.8012 - val_accuracy: 0.9542\n",
      "Epoch 63/100\n",
      "102624/102624 - 2s - loss: 1.7893 - accuracy: 0.9672 - val_loss: 1.8005 - val_accuracy: 0.9546\n",
      "Epoch 64/100\n",
      "102624/102624 - 2s - loss: 1.7886 - accuracy: 0.9677 - val_loss: 1.8010 - val_accuracy: 0.9541\n",
      "Epoch 65/100\n",
      "102624/102624 - 2s - loss: 1.7883 - accuracy: 0.9684 - val_loss: 1.8009 - val_accuracy: 0.9543\n",
      "Epoch 66/100\n",
      "102624/102624 - 2s - loss: 1.7885 - accuracy: 0.9680 - val_loss: 1.8002 - val_accuracy: 0.9554\n",
      "Epoch 67/100\n",
      "102624/102624 - 2s - loss: 1.7879 - accuracy: 0.9685 - val_loss: 1.8008 - val_accuracy: 0.9542\n",
      "Epoch 68/100\n",
      "102624/102624 - 2s - loss: 1.7879 - accuracy: 0.9685 - val_loss: 1.8007 - val_accuracy: 0.9544\n",
      "Epoch 69/100\n",
      "102624/102624 - 2s - loss: 1.7877 - accuracy: 0.9688 - val_loss: 1.8019 - val_accuracy: 0.9529\n",
      "Epoch 70/100\n",
      "102624/102624 - 2s - loss: 1.7875 - accuracy: 0.9688 - val_loss: 1.8006 - val_accuracy: 0.9546\n",
      "Epoch 71/100\n",
      "102624/102624 - 2s - loss: 1.7870 - accuracy: 0.9693 - val_loss: 1.8022 - val_accuracy: 0.9528\n",
      "Epoch 72/100\n",
      "102624/102624 - 2s - loss: 1.7873 - accuracy: 0.9691 - val_loss: 1.8009 - val_accuracy: 0.9539\n",
      "Epoch 73/100\n",
      "102624/102624 - 2s - loss: 1.7873 - accuracy: 0.9689 - val_loss: 1.8009 - val_accuracy: 0.9537\n",
      "Epoch 74/100\n",
      "102624/102624 - 2s - loss: 1.7868 - accuracy: 0.9694 - val_loss: 1.7996 - val_accuracy: 0.9544\n",
      "Epoch 75/100\n",
      "102624/102624 - 2s - loss: 1.7866 - accuracy: 0.9695 - val_loss: 1.8016 - val_accuracy: 0.9537\n",
      "Epoch 76/100\n",
      "102624/102624 - 2s - loss: 1.7865 - accuracy: 0.9699 - val_loss: 1.8007 - val_accuracy: 0.9550\n",
      "Epoch 77/100\n",
      "102624/102624 - 2s - loss: 1.7865 - accuracy: 0.9696 - val_loss: 1.8010 - val_accuracy: 0.9540\n",
      "Epoch 78/100\n",
      "102624/102624 - 2s - loss: 1.7859 - accuracy: 0.9703 - val_loss: 1.8006 - val_accuracy: 0.9542\n",
      "Epoch 79/100\n",
      "102624/102624 - 2s - loss: 1.7858 - accuracy: 0.9705 - val_loss: 1.8004 - val_accuracy: 0.9549\n",
      "Epoch 80/100\n",
      "102624/102624 - 2s - loss: 1.7859 - accuracy: 0.9702 - val_loss: 1.8014 - val_accuracy: 0.9541\n",
      "Epoch 81/100\n",
      "102624/102624 - 2s - loss: 1.7861 - accuracy: 0.9701 - val_loss: 1.7995 - val_accuracy: 0.9559\n",
      "Epoch 82/100\n",
      "102624/102624 - 2s - loss: 1.7853 - accuracy: 0.9709 - val_loss: 1.7998 - val_accuracy: 0.9553\n",
      "Epoch 83/100\n",
      "102624/102624 - 2s - loss: 1.7857 - accuracy: 0.9703 - val_loss: 1.8000 - val_accuracy: 0.9548\n",
      "Epoch 84/100\n",
      "102624/102624 - 2s - loss: 1.7854 - accuracy: 0.9708 - val_loss: 1.8002 - val_accuracy: 0.9548\n",
      "Epoch 85/100\n",
      "102624/102624 - 2s - loss: 1.7847 - accuracy: 0.9715 - val_loss: 1.7997 - val_accuracy: 0.9557\n",
      "Epoch 86/100\n",
      "102624/102624 - 2s - loss: 1.7847 - accuracy: 0.9714 - val_loss: 1.8012 - val_accuracy: 0.9531\n",
      "Epoch 87/100\n",
      "102624/102624 - 2s - loss: 1.7858 - accuracy: 0.9703 - val_loss: 1.8006 - val_accuracy: 0.9542\n",
      "Epoch 88/100\n",
      "102624/102624 - 2s - loss: 1.7847 - accuracy: 0.9714 - val_loss: 1.8031 - val_accuracy: 0.9525\n",
      "Epoch 89/100\n",
      "102624/102624 - 2s - loss: 1.7859 - accuracy: 0.9702 - val_loss: 1.8010 - val_accuracy: 0.9537\n",
      "Epoch 90/100\n",
      "102624/102624 - 2s - loss: 1.7839 - accuracy: 0.9723 - val_loss: 1.8012 - val_accuracy: 0.9534\n",
      "Epoch 91/100\n",
      "102624/102624 - 2s - loss: 1.7841 - accuracy: 0.9719 - val_loss: 1.8005 - val_accuracy: 0.9545\n",
      "Epoch 00091: early stopping\n"
     ]
    }
   ],
   "source": [
    "history = embedded.fit(X_train,z_train_oe,\n",
    "    batch_size=BATCH_SIZE,\n",
    "    epochs=EPOCHS,\n",
    "    verbose=2,\n",
    "    validation_data=(X_val,z_val_oe),\n",
    "    callbacks=callback_list)"
   ]
  },
  {
   "cell_type": "code",
   "execution_count": 12,
   "metadata": {},
   "outputs": [],
   "source": [
    "embedded.save('between_embedded_32.hdf5')"
   ]
  },
  {
   "cell_type": "code",
   "execution_count": 13,
   "metadata": {},
   "outputs": [],
   "source": [
    "def evaluate_model(y_pred, label):\n",
    "    y_pred = enc.inverse_transform(y_pred)\n",
    "    label = enc.inverse_transform(label)\n",
    "#     print('Confusion Matrix')\n",
    "#     print(confusion_matrix(label, y_pred))\n",
    "    print('Classification Report')\n",
    "    print(classification_report(label, y_pred))"
   ]
  },
  {
   "cell_type": "code",
   "execution_count": 14,
   "metadata": {},
   "outputs": [
    {
     "name": "stdout",
     "output_type": "stream",
     "text": [
      "Classification Report\n",
      "              precision    recall  f1-score   support\n",
      "\n",
      "           2       0.95      0.95      0.95       934\n",
      "           9       0.97      0.99      0.98       886\n",
      "           @       0.98      0.96      0.97       903\n",
      "           A       0.95      0.96      0.95       888\n",
      "           E       0.94      0.95      0.95       890\n",
      "          E:       0.95      0.96      0.96       879\n",
      "           O       0.95      0.94      0.95       964\n",
      "           U       0.94      0.95      0.94       890\n",
      "           a       0.97      0.95      0.96       942\n",
      "           e       0.94      0.96      0.95       894\n",
      "           i       0.97      0.94      0.95       903\n",
      "           o       0.93      0.89      0.91       835\n",
      "           u       0.92      0.95      0.94       895\n",
      "           y       0.94      0.96      0.95       865\n",
      "\n",
      "    accuracy                           0.95     12568\n",
      "   macro avg       0.95      0.95      0.95     12568\n",
      "weighted avg       0.95      0.95      0.95     12568\n",
      "\n"
     ]
    }
   ],
   "source": [
    "z_pred = embedded.predict(X_test)\n",
    "evaluate_model(z_pred, z_test_oe)"
   ]
  },
  {
   "cell_type": "code",
   "execution_count": null,
   "metadata": {},
   "outputs": [],
   "source": []
  }
 ],
 "metadata": {
  "kernelspec": {
   "display_name": "Python 3",
   "language": "python",
   "name": "python3"
  },
  "language_info": {
   "codemirror_mode": {
    "name": "ipython",
    "version": 3
   },
   "file_extension": ".py",
   "mimetype": "text/x-python",
   "name": "python",
   "nbconvert_exporter": "python",
   "pygments_lexer": "ipython3",
   "version": "3.6.10"
  }
 },
 "nbformat": 4,
 "nbformat_minor": 4
}
