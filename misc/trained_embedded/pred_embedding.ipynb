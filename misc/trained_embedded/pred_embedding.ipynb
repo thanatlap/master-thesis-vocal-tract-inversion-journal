{
 "cells": [
  {
   "cell_type": "markdown",
   "metadata": {},
   "source": [
    "## Trained Embedded Layer\n",
    "- created: 23 MArch 2020"
   ]
  },
  {
   "cell_type": "code",
   "execution_count": 1,
   "metadata": {},
   "outputs": [],
   "source": [
    "from __future__ import absolute_import, division, print_function, unicode_literals\n",
    "import numpy as np\n",
    "import pandas as pd\n",
    "import matplotlib.pyplot as plt\n",
    "import os\n",
    "from os.path import join\n",
    "import tensorflow as tf\n",
    "from tensorflow import keras\n",
    "from joblib import dump, load\n",
    "from tensorflow.keras import models\n",
    "from tensorflow.keras import optimizers\n",
    "from tensorflow.keras import regularizers\n",
    "from tensorflow.keras import callbacks\n",
    "from time import time\n",
    "from datetime import datetime\n",
    "import shutil \n",
    "import argparse\n",
    "from functools import partial\n",
    "import pickle\n",
    "from IPython.display import Audio\n",
    "\n",
    "import tensorflow as tf\n",
    "from tensorflow import keras\n",
    "from tensorflow.keras import layers\n",
    "from tensorflow.keras import backend as K\n",
    "from tensorflow.keras import regularizers\n",
    "from tensorflow.keras.layers import Reshape, GRU, InputLayer, AlphaDropout, Activation, BatchNormalization, Dropout, Flatten, Dense, Bidirectional, LSTM, Conv1D, SpatialDropout1D, Concatenate, Multiply, Add\n",
    "\n",
    "from sklearn.model_selection import train_test_split\n",
    "from sklearn.metrics import classification_report, confusion_matrix\n",
    "from sklearn.preprocessing import OneHotEncoder"
   ]
  },
  {
   "cell_type": "code",
   "execution_count": 2,
   "metadata": {},
   "outputs": [],
   "source": [
    "np_load_old = partial(np.load)\n",
    "np.load = lambda *a,**k: np_load_old(*a, allow_pickle=True, **k)\n",
    "tf.random.set_seed(42)"
   ]
  },
  {
   "cell_type": "markdown",
   "metadata": {},
   "source": [
    "## Load Data "
   ]
  },
  {
   "cell_type": "code",
   "execution_count": 7,
   "metadata": {},
   "outputs": [],
   "source": [
    "def prep_data(data_dir,prep_folder):\n",
    "\n",
    "    features = np.load(join(data_dir,prep_folder,'features.npy'))\n",
    "    \n",
    "    with open(join(data_dir,'syllable_name.txt')) as f:\n",
    "        label = np.array([char for line in f for word in line.split(',') for char in word.strip()])\n",
    "        \n",
    "    print('Predict Data {} {}'.format(features.shape, label.shape))\n",
    "    return features, label"
   ]
  },
  {
   "cell_type": "code",
   "execution_count": 76,
   "metadata": {},
   "outputs": [
    {
     "name": "stdout",
     "output_type": "stream",
     "text": [
      "Predict Data (3078, 23, 39) (3078,)\n"
     ]
    }
   ],
   "source": [
    "DATA_PATH = '../../data/d_records/record_total_data/'\n",
    "PREP_FOLDER = 'prep_data'\n",
    "features, label = prep_data(DATA_PATH, PREP_FOLDER)"
   ]
  },
  {
   "cell_type": "code",
   "execution_count": 77,
   "metadata": {},
   "outputs": [
    {
     "data": {
      "text/plain": [
       "{'7', 'E', 'M', 'O', 'a', 'e', 'i', 'o', 'u'}"
      ]
     },
     "execution_count": 77,
     "metadata": {},
     "output_type": "execute_result"
    }
   ],
   "source": [
    "set(label)"
   ]
  },
  {
   "cell_type": "code",
   "execution_count": 78,
   "metadata": {},
   "outputs": [
    {
     "data": {
      "text/plain": [
       "(3078,)"
      ]
     },
     "execution_count": 78,
     "metadata": {},
     "output_type": "execute_result"
    }
   ],
   "source": [
    "label.shape"
   ]
  },
  {
   "cell_type": "markdown",
   "metadata": {},
   "source": [
    "### One-hot label "
   ]
  },
  {
   "cell_type": "code",
   "execution_count": 79,
   "metadata": {},
   "outputs": [
    {
     "data": {
      "text/plain": [
       "['onehot_pred.joblib']"
      ]
     },
     "execution_count": 79,
     "metadata": {},
     "output_type": "execute_result"
    }
   ],
   "source": [
    "label=label.reshape(-1,1)\n",
    "\n",
    "enc = OneHotEncoder(handle_unknown = 'ignore')\n",
    "enc.fit(label)\n",
    "\n",
    "label_oe = enc.transform(label).toarray()\n",
    "\n",
    "dump(enc, 'onehot_pred.joblib')"
   ]
  },
  {
   "cell_type": "code",
   "execution_count": 80,
   "metadata": {},
   "outputs": [],
   "source": [
    "from sklearn.model_selection import train_test_split\n",
    "\n",
    "X_train, X_test, y_train, y_test = train_test_split(features, label_oe, test_size=0.2)"
   ]
  },
  {
   "cell_type": "markdown",
   "metadata": {},
   "source": [
    "### Defined (Between) Embedding Model"
   ]
  },
  {
   "cell_type": "code",
   "execution_count": 146,
   "metadata": {},
   "outputs": [],
   "source": [
    "PHONETIC_OUTPUT = len(['7', 'E', 'M', 'O', 'a', 'e', 'i', 'o', 'u'])\n",
    "EMBEDDED_FEATURE = 64\n",
    "\n",
    "pLSTM = partial(LSTM, kernel_initializer='he_uniform', return_sequences=True)\n",
    "\n",
    "def embeded_model(input_shape_1,input_shape_2):\n",
    "    inputs = keras.Input(shape=(input_shape_1,input_shape_2))\n",
    "    x = pLSTM(EMBEDDED_FEATURE)(inputs)\n",
    "    x = Dropout(rate=0.5)(x)\n",
    "    x = pLSTM(EMBEDDED_FEATURE, return_sequences=False)(x)\n",
    "    x = Dropout(rate=0.5)(x)\n",
    "    outputs = Dense(PHONETIC_OUTPUT, activation='softmax', kernel_initializer='he_uniform')(x)\n",
    "    return keras.Model(inputs=inputs, outputs=outputs)"
   ]
  },
  {
   "cell_type": "code",
   "execution_count": 147,
   "metadata": {},
   "outputs": [
    {
     "name": "stdout",
     "output_type": "stream",
     "text": [
      "Model: \"model_16\"\n",
      "_________________________________________________________________\n",
      "Layer (type)                 Output Shape              Param #   \n",
      "=================================================================\n",
      "input_18 (InputLayer)        [(None, 23, 39)]          0         \n",
      "_________________________________________________________________\n",
      "lstm_39 (LSTM)               (None, 23, 64)            26624     \n",
      "_________________________________________________________________\n",
      "dropout_37 (Dropout)         (None, 23, 64)            0         \n",
      "_________________________________________________________________\n",
      "lstm_40 (LSTM)               (None, 64)                33024     \n",
      "_________________________________________________________________\n",
      "dropout_38 (Dropout)         (None, 64)                0         \n",
      "_________________________________________________________________\n",
      "dense_16 (Dense)             (None, 9)                 585       \n",
      "=================================================================\n",
      "Total params: 60,233\n",
      "Trainable params: 60,233\n",
      "Non-trainable params: 0\n",
      "_________________________________________________________________\n"
     ]
    }
   ],
   "source": [
    "embedded = embeded_model(23, 39)\n",
    "embedded.summary()"
   ]
  },
  {
   "cell_type": "markdown",
   "metadata": {},
   "source": [
    "### Compile Model "
   ]
  },
  {
   "cell_type": "code",
   "execution_count": 148,
   "metadata": {},
   "outputs": [],
   "source": [
    "embedded.compile(optimizer='adam',loss=tf.keras.losses.CategoricalCrossentropy(from_logits=True),metrics=['accuracy'])"
   ]
  },
  {
   "cell_type": "markdown",
   "metadata": {},
   "source": [
    "### Train Model "
   ]
  },
  {
   "cell_type": "code",
   "execution_count": 149,
   "metadata": {},
   "outputs": [],
   "source": [
    "PATIENCE = 15\n",
    "BATCH_SIZE = 128\n",
    "EPOCHS = 200\n",
    "\n",
    "early = callbacks.EarlyStopping(monitor='val_loss', min_delta=0, patience=PATIENCE, verbose=1, mode='min', baseline=None, restore_best_weights=False)\n",
    "callback_list = [early]"
   ]
  },
  {
   "cell_type": "code",
   "execution_count": 150,
   "metadata": {},
   "outputs": [
    {
     "name": "stdout",
     "output_type": "stream",
     "text": [
      "Train on 1969 samples, validate on 493 samples\n",
      "Epoch 1/200\n",
      "1969/1969 - 4s - loss: 2.1652 - accuracy: 0.2331 - val_loss: 2.0904 - val_accuracy: 0.5132\n",
      "Epoch 2/200\n",
      "1969/1969 - 0s - loss: 2.0553 - accuracy: 0.4794 - val_loss: 1.9252 - val_accuracy: 0.6795\n",
      "Epoch 3/200\n",
      "1969/1969 - 0s - loss: 1.9155 - accuracy: 0.6369 - val_loss: 1.7628 - val_accuracy: 0.7688\n",
      "Epoch 4/200\n",
      "1969/1969 - 0s - loss: 1.7694 - accuracy: 0.7669 - val_loss: 1.6248 - val_accuracy: 0.8641\n",
      "Epoch 5/200\n",
      "1969/1969 - 0s - loss: 1.6480 - accuracy: 0.8532 - val_loss: 1.5439 - val_accuracy: 0.8783\n",
      "Epoch 6/200\n",
      "1969/1969 - 0s - loss: 1.5547 - accuracy: 0.9035 - val_loss: 1.5035 - val_accuracy: 0.8945\n",
      "Epoch 7/200\n",
      "1969/1969 - 0s - loss: 1.5017 - accuracy: 0.9253 - val_loss: 1.4857 - val_accuracy: 0.9026\n",
      "Epoch 8/200\n",
      "1969/1969 - 0s - loss: 1.4768 - accuracy: 0.9375 - val_loss: 1.4724 - val_accuracy: 0.9108\n",
      "Epoch 9/200\n",
      "1969/1969 - 0s - loss: 1.4576 - accuracy: 0.9436 - val_loss: 1.4667 - val_accuracy: 0.9087\n",
      "Epoch 10/200\n",
      "1969/1969 - 0s - loss: 1.4475 - accuracy: 0.9528 - val_loss: 1.4515 - val_accuracy: 0.9249\n",
      "Epoch 11/200\n",
      "1969/1969 - 0s - loss: 1.4358 - accuracy: 0.9573 - val_loss: 1.4574 - val_accuracy: 0.9128\n",
      "Epoch 12/200\n",
      "1969/1969 - 0s - loss: 1.4235 - accuracy: 0.9665 - val_loss: 1.4421 - val_accuracy: 0.9331\n",
      "Epoch 13/200\n",
      "1969/1969 - 0s - loss: 1.4190 - accuracy: 0.9705 - val_loss: 1.4337 - val_accuracy: 0.9432\n",
      "Epoch 14/200\n",
      "1969/1969 - 0s - loss: 1.4096 - accuracy: 0.9761 - val_loss: 1.4362 - val_accuracy: 0.9412\n",
      "Epoch 15/200\n",
      "1969/1969 - 0s - loss: 1.4028 - accuracy: 0.9827 - val_loss: 1.4349 - val_accuracy: 0.9391\n",
      "Epoch 16/200\n",
      "1969/1969 - 0s - loss: 1.4024 - accuracy: 0.9797 - val_loss: 1.4328 - val_accuracy: 0.9432\n",
      "Epoch 17/200\n",
      "1969/1969 - 0s - loss: 1.4003 - accuracy: 0.9822 - val_loss: 1.4307 - val_accuracy: 0.9452\n",
      "Epoch 18/200\n",
      "1969/1969 - 0s - loss: 1.3973 - accuracy: 0.9832 - val_loss: 1.4301 - val_accuracy: 0.9412\n",
      "Epoch 19/200\n",
      "1969/1969 - 0s - loss: 1.3935 - accuracy: 0.9878 - val_loss: 1.4305 - val_accuracy: 0.9432\n",
      "Epoch 20/200\n",
      "1969/1969 - 0s - loss: 1.3929 - accuracy: 0.9868 - val_loss: 1.4269 - val_accuracy: 0.9452\n",
      "Epoch 21/200\n",
      "1969/1969 - 0s - loss: 1.3922 - accuracy: 0.9883 - val_loss: 1.4264 - val_accuracy: 0.9452\n",
      "Epoch 22/200\n",
      "1969/1969 - 0s - loss: 1.3888 - accuracy: 0.9909 - val_loss: 1.4261 - val_accuracy: 0.9473\n",
      "Epoch 23/200\n",
      "1969/1969 - 0s - loss: 1.3886 - accuracy: 0.9904 - val_loss: 1.4252 - val_accuracy: 0.9513\n",
      "Epoch 24/200\n",
      "1969/1969 - 0s - loss: 1.3871 - accuracy: 0.9898 - val_loss: 1.4269 - val_accuracy: 0.9432\n",
      "Epoch 25/200\n",
      "1969/1969 - 0s - loss: 1.3868 - accuracy: 0.9909 - val_loss: 1.4332 - val_accuracy: 0.9391\n",
      "Epoch 26/200\n",
      "1969/1969 - 0s - loss: 1.3872 - accuracy: 0.9888 - val_loss: 1.4309 - val_accuracy: 0.9391\n",
      "Epoch 27/200\n",
      "1969/1969 - 0s - loss: 1.3840 - accuracy: 0.9919 - val_loss: 1.4238 - val_accuracy: 0.9493\n",
      "Epoch 28/200\n",
      "1969/1969 - 0s - loss: 1.3848 - accuracy: 0.9914 - val_loss: 1.4197 - val_accuracy: 0.9554\n",
      "Epoch 29/200\n",
      "1969/1969 - 0s - loss: 1.3837 - accuracy: 0.9919 - val_loss: 1.4196 - val_accuracy: 0.9513\n",
      "Epoch 30/200\n",
      "1969/1969 - 0s - loss: 1.3843 - accuracy: 0.9914 - val_loss: 1.4211 - val_accuracy: 0.9513\n",
      "Epoch 31/200\n",
      "1969/1969 - 0s - loss: 1.3837 - accuracy: 0.9914 - val_loss: 1.4214 - val_accuracy: 0.9533\n",
      "Epoch 32/200\n",
      "1969/1969 - 0s - loss: 1.3832 - accuracy: 0.9914 - val_loss: 1.4207 - val_accuracy: 0.9513\n",
      "Epoch 33/200\n",
      "1969/1969 - 0s - loss: 1.3833 - accuracy: 0.9919 - val_loss: 1.4228 - val_accuracy: 0.9452\n",
      "Epoch 34/200\n",
      "1969/1969 - 0s - loss: 1.3832 - accuracy: 0.9924 - val_loss: 1.4244 - val_accuracy: 0.9473\n",
      "Epoch 35/200\n",
      "1969/1969 - 0s - loss: 1.3832 - accuracy: 0.9919 - val_loss: 1.4219 - val_accuracy: 0.9493\n",
      "Epoch 36/200\n",
      "1969/1969 - 0s - loss: 1.3820 - accuracy: 0.9929 - val_loss: 1.4184 - val_accuracy: 0.9554\n",
      "Epoch 37/200\n",
      "1969/1969 - 0s - loss: 1.3815 - accuracy: 0.9929 - val_loss: 1.4195 - val_accuracy: 0.9533\n",
      "Epoch 38/200\n",
      "1969/1969 - 0s - loss: 1.3818 - accuracy: 0.9934 - val_loss: 1.4203 - val_accuracy: 0.9533\n",
      "Epoch 39/200\n",
      "1969/1969 - 0s - loss: 1.3815 - accuracy: 0.9929 - val_loss: 1.4161 - val_accuracy: 0.9574\n",
      "Epoch 40/200\n",
      "1969/1969 - 0s - loss: 1.3807 - accuracy: 0.9934 - val_loss: 1.4133 - val_accuracy: 0.9615\n",
      "Epoch 41/200\n",
      "1969/1969 - 0s - loss: 1.3819 - accuracy: 0.9919 - val_loss: 1.4149 - val_accuracy: 0.9574\n",
      "Epoch 42/200\n",
      "1969/1969 - 0s - loss: 1.3798 - accuracy: 0.9944 - val_loss: 1.4177 - val_accuracy: 0.9574\n",
      "Epoch 43/200\n",
      "1969/1969 - 0s - loss: 1.3798 - accuracy: 0.9944 - val_loss: 1.4191 - val_accuracy: 0.9513\n",
      "Epoch 44/200\n",
      "1969/1969 - 0s - loss: 1.3801 - accuracy: 0.9939 - val_loss: 1.4181 - val_accuracy: 0.9554\n",
      "Epoch 45/200\n",
      "1969/1969 - 0s - loss: 1.3794 - accuracy: 0.9944 - val_loss: 1.4133 - val_accuracy: 0.9594\n",
      "Epoch 46/200\n",
      "1969/1969 - 0s - loss: 1.3802 - accuracy: 0.9944 - val_loss: 1.4093 - val_accuracy: 0.9635\n",
      "Epoch 47/200\n",
      "1969/1969 - 0s - loss: 1.3799 - accuracy: 0.9939 - val_loss: 1.4097 - val_accuracy: 0.9655\n",
      "Epoch 48/200\n",
      "1969/1969 - 0s - loss: 1.3795 - accuracy: 0.9939 - val_loss: 1.4112 - val_accuracy: 0.9615\n",
      "Epoch 49/200\n",
      "1969/1969 - 0s - loss: 1.3789 - accuracy: 0.9949 - val_loss: 1.4114 - val_accuracy: 0.9615\n",
      "Epoch 50/200\n",
      "1969/1969 - 0s - loss: 1.3786 - accuracy: 0.9944 - val_loss: 1.4120 - val_accuracy: 0.9594\n",
      "Epoch 51/200\n",
      "1969/1969 - 0s - loss: 1.3791 - accuracy: 0.9944 - val_loss: 1.4116 - val_accuracy: 0.9655\n",
      "Epoch 52/200\n",
      "1969/1969 - 0s - loss: 1.3796 - accuracy: 0.9939 - val_loss: 1.4137 - val_accuracy: 0.9594\n",
      "Epoch 53/200\n",
      "1969/1969 - 0s - loss: 1.3802 - accuracy: 0.9939 - val_loss: 1.4133 - val_accuracy: 0.9594\n",
      "Epoch 54/200\n",
      "1969/1969 - 0s - loss: 1.3797 - accuracy: 0.9934 - val_loss: 1.4174 - val_accuracy: 0.9574\n",
      "Epoch 55/200\n",
      "1969/1969 - 0s - loss: 1.3782 - accuracy: 0.9954 - val_loss: 1.4179 - val_accuracy: 0.9554\n",
      "Epoch 56/200\n",
      "1969/1969 - 0s - loss: 1.3779 - accuracy: 0.9954 - val_loss: 1.4181 - val_accuracy: 0.9554\n",
      "Epoch 57/200\n",
      "1969/1969 - 0s - loss: 1.3785 - accuracy: 0.9949 - val_loss: 1.4161 - val_accuracy: 0.9554\n",
      "Epoch 58/200\n",
      "1969/1969 - 0s - loss: 1.3778 - accuracy: 0.9959 - val_loss: 1.4149 - val_accuracy: 0.9574\n",
      "Epoch 59/200\n",
      "1969/1969 - 0s - loss: 1.3776 - accuracy: 0.9959 - val_loss: 1.4107 - val_accuracy: 0.9615\n",
      "Epoch 60/200\n",
      "1969/1969 - 0s - loss: 1.3783 - accuracy: 0.9949 - val_loss: 1.4138 - val_accuracy: 0.9574\n",
      "Epoch 61/200\n",
      "1969/1969 - 0s - loss: 1.3780 - accuracy: 0.9954 - val_loss: 1.4099 - val_accuracy: 0.9615\n",
      "Epoch 00061: early stopping\n"
     ]
    }
   ],
   "source": [
    "history = embedded.fit(X_train,y_train,\n",
    "    batch_size=BATCH_SIZE,\n",
    "    epochs=EPOCHS,\n",
    "    verbose=2,\n",
    "    validation_split=0.2,\n",
    "    callbacks=callback_list)"
   ]
  },
  {
   "cell_type": "code",
   "execution_count": 151,
   "metadata": {},
   "outputs": [],
   "source": [
    "embedded.save('pred_vowel.hdf5')"
   ]
  },
  {
   "cell_type": "code",
   "execution_count": 14,
   "metadata": {},
   "outputs": [],
   "source": [
    "def evaluate_model(y_pred, label):\n",
    "    y_pred = enc.inverse_transform(y_pred)\n",
    "    label = enc.inverse_transform(label)\n",
    "#     print('Confusion Matrix')\n",
    "    print(confusion_matrix(label, y_pred))\n",
    "    print('Classification Report')\n",
    "    print(classification_report(label, y_pred))"
   ]
  },
  {
   "cell_type": "code",
   "execution_count": 153,
   "metadata": {},
   "outputs": [
    {
     "name": "stdout",
     "output_type": "stream",
     "text": [
      "[[71  4  1  1  0  2  0  0  0]\n",
      " [ 1 70  0  0  0  1  0  0  0]\n",
      " [ 0  0 58  0  0  2  1  0  0]\n",
      " [ 0  0  0 73  0  0  0  1  0]\n",
      " [ 0  0  0  1 53  0  0  0  0]\n",
      " [ 0  0  0  0  0 64  3  0  0]\n",
      " [ 0  0  0  0  0  1 66  0  0]\n",
      " [ 0  0  0  0  0  0  0 64  1]\n",
      " [ 0  0  0  0  0  0  1  2 74]]\n",
      "Classification Report\n",
      "              precision    recall  f1-score   support\n",
      "\n",
      "           7       0.99      0.90      0.94        79\n",
      "           E       0.95      0.97      0.96        72\n",
      "           M       0.98      0.95      0.97        61\n",
      "           O       0.97      0.99      0.98        74\n",
      "           a       1.00      0.98      0.99        54\n",
      "           e       0.91      0.96      0.93        67\n",
      "           i       0.93      0.99      0.96        67\n",
      "           o       0.96      0.98      0.97        65\n",
      "           u       0.99      0.96      0.97        77\n",
      "\n",
      "    accuracy                           0.96       616\n",
      "   macro avg       0.96      0.96      0.96       616\n",
      "weighted avg       0.96      0.96      0.96       616\n",
      "\n"
     ]
    }
   ],
   "source": [
    "pred = embedded.predict(X_test)\n",
    "evaluate_model(pred, y_test)"
   ]
  },
  {
   "cell_type": "markdown",
   "metadata": {},
   "source": [
    "### Train using all data "
   ]
  },
  {
   "cell_type": "code",
   "execution_count": 154,
   "metadata": {},
   "outputs": [
    {
     "name": "stdout",
     "output_type": "stream",
     "text": [
      "Train on 1555 samples, validate on 389 samples\n",
      "Epoch 1/200\n",
      "1555/1555 - 4s - loss: 2.1538 - accuracy: 0.2521 - val_loss: 2.0380 - val_accuracy: 0.5835\n",
      "Epoch 2/200\n",
      "1555/1555 - 0s - loss: 2.0234 - accuracy: 0.5325 - val_loss: 1.8814 - val_accuracy: 0.6221\n",
      "Epoch 3/200\n",
      "1555/1555 - 0s - loss: 1.9043 - accuracy: 0.5968 - val_loss: 1.7897 - val_accuracy: 0.6555\n",
      "Epoch 4/200\n",
      "1555/1555 - 0s - loss: 1.8174 - accuracy: 0.6566 - val_loss: 1.7450 - val_accuracy: 0.6761\n",
      "Epoch 5/200\n",
      "1555/1555 - 0s - loss: 1.7468 - accuracy: 0.7093 - val_loss: 1.7151 - val_accuracy: 0.6889\n",
      "Epoch 6/200\n",
      "1555/1555 - 0s - loss: 1.7013 - accuracy: 0.7305 - val_loss: 1.6921 - val_accuracy: 0.6915\n",
      "Epoch 7/200\n",
      "1555/1555 - 0s - loss: 1.6727 - accuracy: 0.7395 - val_loss: 1.6721 - val_accuracy: 0.7147\n",
      "Epoch 8/200\n",
      "1555/1555 - 0s - loss: 1.6512 - accuracy: 0.7627 - val_loss: 1.6615 - val_accuracy: 0.7224\n",
      "Epoch 9/200\n",
      "1555/1555 - 0s - loss: 1.6403 - accuracy: 0.7640 - val_loss: 1.6350 - val_accuracy: 0.7378\n",
      "Epoch 10/200\n",
      "1555/1555 - 0s - loss: 1.6292 - accuracy: 0.7640 - val_loss: 1.6521 - val_accuracy: 0.7172\n",
      "Epoch 11/200\n",
      "1555/1555 - 0s - loss: 1.6120 - accuracy: 0.7801 - val_loss: 1.6154 - val_accuracy: 0.7738\n",
      "Epoch 12/200\n",
      "1555/1555 - 0s - loss: 1.6025 - accuracy: 0.7929 - val_loss: 1.6340 - val_accuracy: 0.7378\n",
      "Epoch 13/200\n",
      "1555/1555 - 0s - loss: 1.5961 - accuracy: 0.7929 - val_loss: 1.5994 - val_accuracy: 0.7738\n",
      "Epoch 14/200\n",
      "1555/1555 - 0s - loss: 1.5924 - accuracy: 0.7923 - val_loss: 1.6157 - val_accuracy: 0.7558\n",
      "Epoch 15/200\n",
      "1555/1555 - 0s - loss: 1.5891 - accuracy: 0.7994 - val_loss: 1.6109 - val_accuracy: 0.7635\n",
      "Epoch 16/200\n",
      "1555/1555 - 0s - loss: 1.5827 - accuracy: 0.8000 - val_loss: 1.5872 - val_accuracy: 0.7918\n",
      "Epoch 17/200\n",
      "1555/1555 - 0s - loss: 1.5782 - accuracy: 0.8032 - val_loss: 1.6296 - val_accuracy: 0.7455\n",
      "Epoch 18/200\n",
      "1555/1555 - 0s - loss: 1.5760 - accuracy: 0.8109 - val_loss: 1.6087 - val_accuracy: 0.7686\n",
      "Epoch 19/200\n",
      "1555/1555 - 0s - loss: 1.5696 - accuracy: 0.8109 - val_loss: 1.6238 - val_accuracy: 0.7481\n",
      "Epoch 20/200\n",
      "1555/1555 - 0s - loss: 1.5670 - accuracy: 0.8154 - val_loss: 1.6286 - val_accuracy: 0.7506\n",
      "Epoch 21/200\n",
      "1555/1555 - 0s - loss: 1.5722 - accuracy: 0.8096 - val_loss: 1.6401 - val_accuracy: 0.7326\n",
      "Epoch 22/200\n",
      "1555/1555 - 0s - loss: 1.5634 - accuracy: 0.8219 - val_loss: 1.6234 - val_accuracy: 0.7481\n",
      "Epoch 23/200\n",
      "1555/1555 - 0s - loss: 1.5598 - accuracy: 0.8225 - val_loss: 1.6048 - val_accuracy: 0.7686\n",
      "Epoch 24/200\n",
      "1555/1555 - 0s - loss: 1.5529 - accuracy: 0.8270 - val_loss: 1.6264 - val_accuracy: 0.7481\n",
      "Epoch 25/200\n",
      "1555/1555 - 0s - loss: 1.5529 - accuracy: 0.8283 - val_loss: 1.6264 - val_accuracy: 0.7481\n",
      "Epoch 26/200\n",
      "1555/1555 - 0s - loss: 1.5535 - accuracy: 0.8257 - val_loss: 1.6029 - val_accuracy: 0.7712\n",
      "Epoch 27/200\n",
      "1555/1555 - 0s - loss: 1.5454 - accuracy: 0.8347 - val_loss: 1.6262 - val_accuracy: 0.7429\n",
      "Epoch 28/200\n",
      "1555/1555 - 0s - loss: 1.5458 - accuracy: 0.8315 - val_loss: 1.6265 - val_accuracy: 0.7506\n",
      "Epoch 29/200\n",
      "1555/1555 - 0s - loss: 1.5378 - accuracy: 0.8405 - val_loss: 1.6216 - val_accuracy: 0.7506\n",
      "Epoch 30/200\n",
      "1555/1555 - 0s - loss: 1.5430 - accuracy: 0.8328 - val_loss: 1.6478 - val_accuracy: 0.7275\n",
      "Epoch 31/200\n",
      "1555/1555 - 0s - loss: 1.5486 - accuracy: 0.8328 - val_loss: 1.6332 - val_accuracy: 0.7378\n",
      "Epoch 00031: early stopping\n"
     ]
    }
   ],
   "source": [
    "embedded = embeded_model(23, 39)\n",
    "embedded.compile(optimizer='adam',loss=tf.keras.losses.CategoricalCrossentropy(from_logits=True),metrics=['accuracy'])\n",
    "history = embedded.fit(features,label_oe,\n",
    "    batch_size=BATCH_SIZE,\n",
    "    epochs=EPOCHS,\n",
    "    verbose=2,\n",
    "    validation_split=0.2,\n",
    "    callbacks=callback_list)"
   ]
  },
  {
   "cell_type": "code",
   "execution_count": 155,
   "metadata": {},
   "outputs": [],
   "source": [
    "embedded.save('pred_vowel_all_data.hdf5')"
   ]
  },
  {
   "cell_type": "markdown",
   "metadata": {},
   "source": [
    "## Load Model"
   ]
  },
  {
   "cell_type": "code",
   "execution_count": 10,
   "metadata": {},
   "outputs": [],
   "source": [
    "embedded = models.load_model('pred_vowel_all_data.hdf5')\n",
    "enc = load('onehot_pred.joblib')"
   ]
  },
  {
   "cell_type": "markdown",
   "metadata": {},
   "source": [
    "## Predict "
   ]
  },
  {
   "cell_type": "code",
   "execution_count": 11,
   "metadata": {},
   "outputs": [
    {
     "name": "stdout",
     "output_type": "stream",
     "text": [
      "Predict Data (1944, 23, 39) (1944,)\n"
     ]
    }
   ],
   "source": [
    "DATA_PATH = '../../data/inversion_81/'\n",
    "PREP_FOLDER = 'prep_data'\n",
    "features, label = prep_data(DATA_PATH, PREP_FOLDER)"
   ]
  },
  {
   "cell_type": "code",
   "execution_count": 12,
   "metadata": {},
   "outputs": [],
   "source": [
    "label= label.reshape(-1,1)\n",
    "label_oe = enc.transform(label).toarray()"
   ]
  },
  {
   "cell_type": "code",
   "execution_count": 15,
   "metadata": {},
   "outputs": [
    {
     "name": "stdout",
     "output_type": "stream",
     "text": [
      "[[118  25  22   9   1  29   1   7   4]\n",
      " [ 17 149   4   4  20  21   0   0   1]\n",
      " [ 50   5  88   0   2  64   4   1   2]\n",
      " [ 20  12   3 113  19   4   0  39   6]\n",
      " [ 14  52   8  15 122   4   0   1   0]\n",
      " [  9   6   4   0   0 166  30   1   0]\n",
      " [ 11   1  19   1   4  42 127   1  10]\n",
      " [ 23   0   1  25   1   1   0  92  73]\n",
      " [ 81   1  11   7   4  15   2  24  71]]\n",
      "Classification Report\n",
      "              precision    recall  f1-score   support\n",
      "\n",
      "           7       0.34      0.55      0.42       216\n",
      "           E       0.59      0.69      0.64       216\n",
      "           M       0.55      0.41      0.47       216\n",
      "           O       0.65      0.52      0.58       216\n",
      "           a       0.71      0.56      0.63       216\n",
      "           e       0.48      0.77      0.59       216\n",
      "           i       0.77      0.59      0.67       216\n",
      "           o       0.55      0.43      0.48       216\n",
      "           u       0.43      0.33      0.37       216\n",
      "\n",
      "    accuracy                           0.54      1944\n",
      "   macro avg       0.56      0.54      0.54      1944\n",
      "weighted avg       0.56      0.54      0.54      1944\n",
      "\n"
     ]
    }
   ],
   "source": [
    "pred = embedded.predict(features)\n",
    "evaluate_model(pred, label_oe)"
   ]
  },
  {
   "cell_type": "markdown",
   "metadata": {},
   "source": [
    "### Predict Data 27"
   ]
  },
  {
   "cell_type": "code",
   "execution_count": 159,
   "metadata": {},
   "outputs": [
    {
     "name": "stdout",
     "output_type": "stream",
     "text": [
      "Predict Data (1944, 23, 39) (1944,)\n"
     ]
    }
   ],
   "source": [
    "DATA_PATH = '../../data/inversion_27/'\n",
    "PREP_FOLDER = 'prep_data'\n",
    "features, label = prep_data(DATA_PATH, PREP_FOLDER)"
   ]
  },
  {
   "cell_type": "code",
   "execution_count": 160,
   "metadata": {},
   "outputs": [],
   "source": [
    "label= label.reshape(-1,1)\n",
    "label_oe = enc.transform(label).toarray()"
   ]
  },
  {
   "cell_type": "code",
   "execution_count": 161,
   "metadata": {},
   "outputs": [
    {
     "name": "stdout",
     "output_type": "stream",
     "text": [
      "[[143  26  16   4   2  15   0   7   3]\n",
      " [  7 193   0   1  10   3   0   2   0]\n",
      " [ 10   0 163   0   0  24  15   1   3]\n",
      " [  4   2   0 147  36   0   0  25   2]\n",
      " [  1  18   2  28 165   2   0   0   0]\n",
      " [  2   7   3   0   0 194  10   0   0]\n",
      " [  0   0  13   0   0  34 168   0   1]\n",
      " [  8   0   1   8   1   1   0 117  80]\n",
      " [  7   0  21   0   0   4  18  17 149]]\n",
      "Classification Report\n",
      "              precision    recall  f1-score   support\n",
      "\n",
      "           7       0.79      0.66      0.72       216\n",
      "           E       0.78      0.89      0.84       216\n",
      "           M       0.74      0.75      0.75       216\n",
      "           O       0.78      0.68      0.73       216\n",
      "           a       0.77      0.76      0.77       216\n",
      "           e       0.70      0.90      0.79       216\n",
      "           i       0.80      0.78      0.79       216\n",
      "           o       0.69      0.54      0.61       216\n",
      "           u       0.63      0.69      0.66       216\n",
      "\n",
      "    accuracy                           0.74      1944\n",
      "   macro avg       0.74      0.74      0.74      1944\n",
      "weighted avg       0.74      0.74      0.74      1944\n",
      "\n"
     ]
    }
   ],
   "source": [
    "pred = embedded.predict(features)\n",
    "evaluate_model(pred, label_oe)"
   ]
  },
  {
   "cell_type": "code",
   "execution_count": 162,
   "metadata": {},
   "outputs": [],
   "source": [
    "class_pred = np.argmax(pred, axis=1)\n",
    "class_actual = np.argmax(label_oe, axis=1)"
   ]
  },
  {
   "cell_type": "code",
   "execution_count": 163,
   "metadata": {},
   "outputs": [
    {
     "data": {
      "text/plain": [
       "array([ True,  True, False, ..., False,  True, False])"
      ]
     },
     "execution_count": 163,
     "metadata": {},
     "output_type": "execute_result"
    }
   ],
   "source": [
    "class_pred == class_actual"
   ]
  },
  {
   "cell_type": "markdown",
   "metadata": {},
   "source": [
    "### Predict Data 64 \n",
    "- Conv Bilstm with symbolic map"
   ]
  },
  {
   "cell_type": "code",
   "execution_count": 16,
   "metadata": {},
   "outputs": [
    {
     "name": "stdout",
     "output_type": "stream",
     "text": [
      "Predict Data (1944, 23, 39) (1944,)\n"
     ]
    }
   ],
   "source": [
    "DATA_PATH = '../../data/inversion_64/'\n",
    "PREP_FOLDER = 'prep_data'\n",
    "features, label = prep_data(DATA_PATH, PREP_FOLDER)"
   ]
  },
  {
   "cell_type": "code",
   "execution_count": 17,
   "metadata": {},
   "outputs": [],
   "source": [
    "label= label.reshape(-1,1)\n",
    "label_oe = enc.transform(label).toarray()"
   ]
  },
  {
   "cell_type": "code",
   "execution_count": 18,
   "metadata": {},
   "outputs": [
    {
     "name": "stdout",
     "output_type": "stream",
     "text": [
      "[[156  26  14   3   0   9   1   3   4]\n",
      " [ 15 183   0   4  11   3   0   0   0]\n",
      " [ 10   2 151   0   1  23  19   0  10]\n",
      " [  3  12   0 134  50   0   0  16   1]\n",
      " [  6  13   1  23 172   0   0   1   0]\n",
      " [  1   9   5   0   0 200   1   0   0]\n",
      " [  1   0  13   0   0  38 163   0   1]\n",
      " [  7   5   5  11   2   8   1 111  66]\n",
      " [  5   0   8   0   2   4  11   7 179]]\n",
      "Classification Report\n",
      "              precision    recall  f1-score   support\n",
      "\n",
      "           7       0.76      0.72      0.74       216\n",
      "           E       0.73      0.85      0.79       216\n",
      "           M       0.77      0.70      0.73       216\n",
      "           O       0.77      0.62      0.69       216\n",
      "           a       0.72      0.80      0.76       216\n",
      "           e       0.70      0.93      0.80       216\n",
      "           i       0.83      0.75      0.79       216\n",
      "           o       0.80      0.51      0.63       216\n",
      "           u       0.69      0.83      0.75       216\n",
      "\n",
      "    accuracy                           0.75      1944\n",
      "   macro avg       0.75      0.75      0.74      1944\n",
      "weighted avg       0.75      0.75      0.74      1944\n",
      "\n"
     ]
    }
   ],
   "source": [
    "pred = embedded.predict(features)\n",
    "evaluate_model(pred, label_oe)"
   ]
  },
  {
   "cell_type": "code",
   "execution_count": 162,
   "metadata": {},
   "outputs": [],
   "source": [
    "class_pred = np.argmax(pred, axis=1)\n",
    "class_actual = np.argmax(label_oe, axis=1)"
   ]
  },
  {
   "cell_type": "code",
   "execution_count": 163,
   "metadata": {},
   "outputs": [
    {
     "data": {
      "text/plain": [
       "array([ True,  True, False, ..., False,  True, False])"
      ]
     },
     "execution_count": 163,
     "metadata": {},
     "output_type": "execute_result"
    }
   ],
   "source": [
    "class_pred == class_actual"
   ]
  },
  {
   "cell_type": "markdown",
   "metadata": {},
   "source": [
    "### Predict Data 31"
   ]
  },
  {
   "cell_type": "code",
   "execution_count": 164,
   "metadata": {},
   "outputs": [
    {
     "name": "stdout",
     "output_type": "stream",
     "text": [
      "Predict Data (1944, 23, 39) (1944,)\n"
     ]
    }
   ],
   "source": [
    "DATA_PATH = '../../data/inversion_31/'\n",
    "PREP_FOLDER = 'prep_data'\n",
    "features, label = prep_data(DATA_PATH, PREP_FOLDER)"
   ]
  },
  {
   "cell_type": "code",
   "execution_count": 165,
   "metadata": {},
   "outputs": [],
   "source": [
    "label= label.reshape(-1,1)\n",
    "label_oe = enc.transform(label).toarray()"
   ]
  },
  {
   "cell_type": "code",
   "execution_count": 166,
   "metadata": {},
   "outputs": [
    {
     "name": "stdout",
     "output_type": "stream",
     "text": [
      "[[177  16  16   0   0   5   1   1   0]\n",
      " [  6 196   1   0   5   8   0   0   0]\n",
      " [  2   1 164   0   0  29  18   0   2]\n",
      " [  2   6   2 163  29   0   0  14   0]\n",
      " [  1  10   4  12 188   1   0   0   0]\n",
      " [  0   2   2   0   0 211   1   0   0]\n",
      " [  0   0   6   0   0  10 197   0   3]\n",
      " [ 10   2   1   7   0   5   0 145  46]\n",
      " [  4   2  20   0   0   5  15  12 158]]\n",
      "Classification Report\n",
      "              precision    recall  f1-score   support\n",
      "\n",
      "           7       0.88      0.82      0.85       216\n",
      "           E       0.83      0.91      0.87       216\n",
      "           M       0.76      0.76      0.76       216\n",
      "           O       0.90      0.75      0.82       216\n",
      "           a       0.85      0.87      0.86       216\n",
      "           e       0.77      0.98      0.86       216\n",
      "           i       0.85      0.91      0.88       216\n",
      "           o       0.84      0.67      0.75       216\n",
      "           u       0.76      0.73      0.74       216\n",
      "\n",
      "    accuracy                           0.82      1944\n",
      "   macro avg       0.83      0.82      0.82      1944\n",
      "weighted avg       0.83      0.82      0.82      1944\n",
      "\n"
     ]
    }
   ],
   "source": [
    "pred = embedded.predict(features)\n",
    "evaluate_model(pred, label_oe)"
   ]
  },
  {
   "cell_type": "code",
   "execution_count": null,
   "metadata": {},
   "outputs": [],
   "source": []
  }
 ],
 "metadata": {
  "kernelspec": {
   "display_name": "Python 3",
   "language": "python",
   "name": "python3"
  },
  "language_info": {
   "codemirror_mode": {
    "name": "ipython",
    "version": 3
   },
   "file_extension": ".py",
   "mimetype": "text/x-python",
   "name": "python",
   "nbconvert_exporter": "python",
   "pygments_lexer": "ipython3",
   "version": "3.6.10"
  }
 },
 "nbformat": 4,
 "nbformat_minor": 4
}
