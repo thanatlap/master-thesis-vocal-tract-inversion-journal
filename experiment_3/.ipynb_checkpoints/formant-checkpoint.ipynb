{
 "cells": [
  {
   "cell_type": "code",
   "execution_count": 90,
   "metadata": {},
   "outputs": [],
   "source": [
    "import numpy as np\n",
    "import pandas as pd\n",
    "import matplotlib.pyplot as plt\n",
    "import seaborn as sb\n",
    "from os.path import join"
   ]
  },
  {
   "cell_type": "code",
   "execution_count": 91,
   "metadata": {},
   "outputs": [],
   "source": [
    "IS_DISYLLABLE = True\n",
    "EXP_NUM = 9\n",
    "DIR_PATH = 'result/eval_'+str(EXP_NUM)+'/formant/'\n",
    "FORMANT_FILE = join(DIR_PATH, 'formant_df.csv')\n",
    "DATAPOINT_FILE = join(DIR_PATH,'data_point.csv')"
   ]
  },
  {
   "cell_type": "code",
   "execution_count": 92,
   "metadata": {},
   "outputs": [],
   "source": [
    "def sep_label_position(df):\n",
    "    df[['Label','Position']] = df['Label'].str.split(';', expand=True) \n",
    "    return df\n",
    "\n",
    "def prep_df(df):\n",
    "    if IS_DISYLLABLE:\n",
    "        df = sep_label_position(df)\n",
    "    else:\n",
    "        df[['Position']] = 1\n",
    "    return df\n",
    "\n",
    "def custome_reindex(df):\n",
    "    return df.reindex([\"a:\", \"i:\", \"u:\",\"e:\",\"E\",\"@\",\"9\",\"o\",\"O\"])"
   ]
  },
  {
   "cell_type": "code",
   "execution_count": 93,
   "metadata": {},
   "outputs": [
    {
     "name": "stdout",
     "output_type": "stream",
     "text": [
      "  Label          F1          F2         F3 Position\n",
      "0    a:    1.324905    7.172430   4.575608        1\n",
      "1    i:    8.807210    1.855705   1.923865        2\n",
      "2    a:    1.429687    7.768621   4.975275        1\n",
      "3    u:  133.877115  143.320097  15.115863        2\n",
      "4    a:    1.423626    7.640646   4.885537        1\n",
      "  Label          F1           F2  Target Position\n",
      "0    a:  669.990576  1154.795301       1        1\n",
      "1    i:  344.740696  2020.981425       1        2\n",
      "2    a:  670.052038  1154.808706       1        1\n",
      "3    u:  360.821113   767.380300       1        2\n",
      "4    a:  670.038928  1154.797153       1        1\n"
     ]
    }
   ],
   "source": [
    "formant_df = pd.read_csv(FORMANT_FILE)\n",
    "datapoint_df = pd.read_csv(DATAPOINT_FILE).drop(['Unnamed: 0'], axis=1)\n",
    "# print(formant_df.head())\n",
    "# print(datapoint_df.head())\n",
    "prep_df(formant_df)\n",
    "prep_df(datapoint_df)\n",
    "print(formant_df.head())\n",
    "print(datapoint_df.head())"
   ]
  },
  {
   "cell_type": "markdown",
   "metadata": {},
   "source": [
    "## Compute Formant RMSE "
   ]
  },
  {
   "cell_type": "code",
   "execution_count": 94,
   "metadata": {},
   "outputs": [
    {
     "name": "stdout",
     "output_type": "stream",
     "text": [
      "            F1-1       F1-2       F2-1       F2-2      F3-1      F3-2\n",
      "Label                                                                \n",
      "a:      1.399981   2.443049   7.557281   4.779231  4.842692  3.414801\n",
      "i:     12.368307  10.412467   1.514911   3.370710  2.528884  4.938767\n",
      "u:     26.752969  49.974638  14.288607  57.518856  3.561749  9.850690\n",
      "e:      0.483650   2.899303   0.091354   1.113316  1.161189  1.219915\n",
      "E       4.154068   4.871217   0.926588   1.518665  6.272840  5.692965\n",
      "@      17.063419  12.318253   1.665021   4.091966  6.496688  7.779489\n",
      "9      12.846999  10.206639   4.449338   4.625190  7.965251  7.832681\n",
      "o       1.506267   3.145165   3.310455   9.094594  0.557440  1.336420\n",
      "O       2.690173   2.314403   9.751842   6.967282  2.184202  2.302741\n"
     ]
    }
   ],
   "source": [
    "if IS_DISYLLABLE:\n",
    "    formant_rmse = formant_df.groupby(['Label', 'Position']).mean().pivot_table(index=['Label'],columns='Position',values=['F1','F2','F3'],fill_value=0)\n",
    "    formant_rmse.columns = ['-'.join(col).strip() for col in formant_rmse.columns.values]\n",
    "else:\n",
    "    formant_rmse = formant_df.copy()\n",
    "formant_rmse = custome_reindex(formant_rmse)\n",
    "print(formant_rmse)\n",
    "formant_rmse.to_csv(join(DIR_PATH,'formant_rmse.csv'))"
   ]
  },
  {
   "cell_type": "markdown",
   "metadata": {},
   "source": [
    "## Compute T-test "
   ]
  },
  {
   "cell_type": "code",
   "execution_count": null,
   "metadata": {},
   "outputs": [],
   "source": []
  }
 ],
 "metadata": {
  "kernelspec": {
   "display_name": "Python 3",
   "language": "python",
   "name": "python3"
  },
  "language_info": {
   "codemirror_mode": {
    "name": "ipython",
    "version": 3
   },
   "file_extension": ".py",
   "mimetype": "text/x-python",
   "name": "python",
   "nbconvert_exporter": "python",
   "pygments_lexer": "ipython3",
   "version": "3.6.9"
  }
 },
 "nbformat": 4,
 "nbformat_minor": 4
}
