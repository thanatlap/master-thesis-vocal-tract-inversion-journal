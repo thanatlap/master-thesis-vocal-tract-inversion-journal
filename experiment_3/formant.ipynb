{
 "cells": [
  {
   "cell_type": "code",
   "execution_count": 234,
   "metadata": {
    "colab": {},
    "colab_type": "code",
    "id": "kiUa7mQLBShQ"
   },
   "outputs": [],
   "source": [
    "import numpy as np\n",
    "import pandas as pd\n",
    "import matplotlib.pyplot as plt\n",
    "import matplotlib\n",
    "import seaborn as sns\n",
    "from os.path import join\n",
    "import scipy \n",
    "from scipy.stats import ttest_ind\n",
    "import matplotlib.patches as mpatches"
   ]
  },
  {
   "cell_type": "code",
   "execution_count": 321,
   "metadata": {
    "colab": {},
    "colab_type": "code",
    "id": "YxR5HyJiBShe"
   },
   "outputs": [],
   "source": [
    "IS_DISYLLABLE = True\n",
    "# IS_DISYLLABLE = False\n",
    "EXP_NUM = 9\n",
    "# DIR_PATH = 'result/eval_'+str(EXP_NUM)+'/formant/'\n",
    "DIR_PATH = 'eval_di/formant'\n",
    "# DIR_PATH = 'eval_mono/formant'\n",
    "FORMANT_FILE = join(DIR_PATH, 'formant_df.csv')\n",
    "DATAPOINT_FILE = join(DIR_PATH,'data_point.csv')"
   ]
  },
  {
   "cell_type": "code",
   "execution_count": 322,
   "metadata": {
    "colab": {},
    "colab_type": "code",
    "id": "VnbqlFhSBShv"
   },
   "outputs": [],
   "source": [
    "def sep_label_position(df):\n",
    "    df[['Label','Position']] = df['Label'].str.split(';', expand=True) \n",
    "    return df\n",
    "\n",
    "def prep_df(df):\n",
    "    if IS_DISYLLABLE:\n",
    "        df = sep_label_position(df)\n",
    "    return df\n",
    "\n",
    "def custome_reindex(df):\n",
    "    return df.reindex([\"a:\", \"i:\", \"u:\",\"e:\",\"E\",\"@\",\"9\",\"o\",\"O\"])\n",
    "\n",
    "def custome_reindex_type2(df):\n",
    "    return df.reindex([\"a:\", \"i:\", \"u:\",\"e:\",'ɛ:','ə:','œ:','o:','ɔ:'])"
   ]
  },
  {
   "cell_type": "code",
   "execution_count": 323,
   "metadata": {
    "colab": {},
    "colab_type": "code",
    "id": "E3djIe55BSh6",
    "outputId": "fe32ae2c-1958-4cc2-e36a-a6edf85607d8"
   },
   "outputs": [
    {
     "name": "stdout",
     "output_type": "stream",
     "text": [
      "  Label          F1          F2         F3 Position\n",
      "0    a:    1.324905    7.172430   4.575608        1\n",
      "1    i:    8.807210    1.855705   1.923865        2\n",
      "2    a:    1.429687    7.768621   4.975275        1\n",
      "3    u:  133.877115  143.320097  15.115863        2\n",
      "4    a:    1.423626    7.640646   4.885537        1\n",
      "  Label          F1           F2  Target\n",
      "0  a:;1  669.990576  1154.795301       1\n",
      "1  i:;2  344.740696  2020.981425       1\n",
      "2  a:;1  670.052038  1154.808706       1\n",
      "3  u:;2  360.821113   767.380300       1\n",
      "4  a:;1  670.038928  1154.797153       1\n"
     ]
    }
   ],
   "source": [
    "formant_df = pd.read_csv(FORMANT_FILE)\n",
    "datapoint_df = pd.read_csv(DATAPOINT_FILE).drop(['Unnamed: 0'], axis=1)\n",
    "\n",
    "formant_df = prep_df(formant_df)\n",
    "print(formant_df.head())\n",
    "print(datapoint_df.head())"
   ]
  },
  {
   "cell_type": "markdown",
   "metadata": {
    "colab_type": "text",
    "id": "58_NcJ_DBSiG"
   },
   "source": [
    "## Compute Formant RMSE "
   ]
  },
  {
   "cell_type": "code",
   "execution_count": 267,
   "metadata": {
    "colab": {},
    "colab_type": "code",
    "id": "A0ThYoAQBSiL",
    "outputId": "db08774b-34d9-4d07-e914-b7ee52bd92c8"
   },
   "outputs": [
    {
     "name": "stdout",
     "output_type": "stream",
     "text": [
      "            F1-1       F1-2       F2-1       F2-2      F3-1      F3-2\n",
      "Label                                                                \n",
      "a:      1.399981   2.443049   7.557281   4.779231  4.842692  3.414801\n",
      "i:     12.368307  10.412467   1.514911   3.370710  2.528884  4.938767\n",
      "u:     26.752969  49.974638  14.288607  57.518856  3.561749  9.850690\n",
      "e:      0.483650   2.899303   0.091354   1.113316  1.161189  1.219915\n",
      "E       4.154068   4.871217   0.926588   1.518665  6.272840  5.692965\n",
      "@      17.063419  12.318253   1.665021   4.091966  6.496688  7.779489\n",
      "9      12.846999  10.206639   4.449338   4.625190  7.965251  7.832681\n",
      "o       1.506267   3.145165   3.310455   9.094594  0.557440  1.336420\n",
      "O       2.690173   2.314403   9.751842   6.967282  2.184202  2.302741\n"
     ]
    }
   ],
   "source": [
    "if IS_DISYLLABLE:\n",
    "    formant_rmse = formant_df.groupby(['Label', 'Position']).mean().pivot_table(index=['Label'],columns='Position',values=['F1','F2','F3'],fill_value=0)\n",
    "    formant_rmse.columns = ['-'.join(col).strip() for col in formant_rmse.columns.values]\n",
    "else:\n",
    "    formant_rmse = formant_df.copy().set_index('Label')\n",
    "formant_rmse = custome_reindex(formant_rmse)\n",
    "print(formant_rmse)\n",
    "formant_rmse.to_csv(join(DIR_PATH,'formant_rmse_exp'+str(EXP_NUM)+'.csv'))"
   ]
  },
  {
   "cell_type": "markdown",
   "metadata": {
    "colab_type": "text",
    "id": "P6M3YP_IBSiV"
   },
   "source": [
    "## Compute T-test "
   ]
  },
  {
   "cell_type": "code",
   "execution_count": 268,
   "metadata": {},
   "outputs": [
    {
     "data": {
      "text/html": [
       "<div>\n",
       "<style scoped>\n",
       "    .dataframe tbody tr th:only-of-type {\n",
       "        vertical-align: middle;\n",
       "    }\n",
       "\n",
       "    .dataframe tbody tr th {\n",
       "        vertical-align: top;\n",
       "    }\n",
       "\n",
       "    .dataframe thead th {\n",
       "        text-align: right;\n",
       "    }\n",
       "</style>\n",
       "<table border=\"1\" class=\"dataframe\">\n",
       "  <thead>\n",
       "    <tr style=\"text-align: right;\">\n",
       "      <th></th>\n",
       "      <th>Label</th>\n",
       "      <th>F1</th>\n",
       "      <th>F2</th>\n",
       "      <th>Target</th>\n",
       "    </tr>\n",
       "  </thead>\n",
       "  <tbody>\n",
       "    <tr>\n",
       "      <th>0</th>\n",
       "      <td>a:;1</td>\n",
       "      <td>669.990576</td>\n",
       "      <td>1154.795301</td>\n",
       "      <td>1</td>\n",
       "    </tr>\n",
       "    <tr>\n",
       "      <th>1</th>\n",
       "      <td>i:;2</td>\n",
       "      <td>344.740696</td>\n",
       "      <td>2020.981425</td>\n",
       "      <td>1</td>\n",
       "    </tr>\n",
       "    <tr>\n",
       "      <th>2</th>\n",
       "      <td>a:;1</td>\n",
       "      <td>670.052038</td>\n",
       "      <td>1154.808706</td>\n",
       "      <td>1</td>\n",
       "    </tr>\n",
       "    <tr>\n",
       "      <th>3</th>\n",
       "      <td>u:;2</td>\n",
       "      <td>360.821113</td>\n",
       "      <td>767.380300</td>\n",
       "      <td>1</td>\n",
       "    </tr>\n",
       "    <tr>\n",
       "      <th>4</th>\n",
       "      <td>a:;1</td>\n",
       "      <td>670.038928</td>\n",
       "      <td>1154.797153</td>\n",
       "      <td>1</td>\n",
       "    </tr>\n",
       "  </tbody>\n",
       "</table>\n",
       "</div>"
      ],
      "text/plain": [
       "  Label          F1           F2  Target\n",
       "0  a:;1  669.990576  1154.795301       1\n",
       "1  i:;2  344.740696  2020.981425       1\n",
       "2  a:;1  670.052038  1154.808706       1\n",
       "3  u:;2  360.821113   767.380300       1\n",
       "4  a:;1  670.038928  1154.797153       1"
      ]
     },
     "execution_count": 268,
     "metadata": {},
     "output_type": "execute_result"
    }
   ],
   "source": [
    "datapoint_df.head()"
   ]
  },
  {
   "cell_type": "code",
   "execution_count": 269,
   "metadata": {},
   "outputs": [
    {
     "data": {
      "text/html": [
       "<div>\n",
       "<style scoped>\n",
       "    .dataframe tbody tr th:only-of-type {\n",
       "        vertical-align: middle;\n",
       "    }\n",
       "\n",
       "    .dataframe tbody tr th {\n",
       "        vertical-align: top;\n",
       "    }\n",
       "\n",
       "    .dataframe thead th {\n",
       "        text-align: right;\n",
       "    }\n",
       "</style>\n",
       "<table border=\"1\" class=\"dataframe\">\n",
       "  <thead>\n",
       "    <tr style=\"text-align: right;\">\n",
       "      <th></th>\n",
       "      <th>Label</th>\n",
       "      <th>F1-0</th>\n",
       "      <th>F1-1</th>\n",
       "      <th>F2-0</th>\n",
       "      <th>F2-1</th>\n",
       "      <th>Position</th>\n",
       "    </tr>\n",
       "  </thead>\n",
       "  <tbody>\n",
       "    <tr>\n",
       "      <th>0</th>\n",
       "      <td>9</td>\n",
       "      <td>573.659739</td>\n",
       "      <td>508.353087</td>\n",
       "      <td>1441.205790</td>\n",
       "      <td>1379.830601</td>\n",
       "      <td>1</td>\n",
       "    </tr>\n",
       "    <tr>\n",
       "      <th>1</th>\n",
       "      <td>9</td>\n",
       "      <td>547.356630</td>\n",
       "      <td>502.150841</td>\n",
       "      <td>1445.105118</td>\n",
       "      <td>1384.276987</td>\n",
       "      <td>2</td>\n",
       "    </tr>\n",
       "    <tr>\n",
       "      <th>2</th>\n",
       "      <td>@</td>\n",
       "      <td>537.517587</td>\n",
       "      <td>459.167924</td>\n",
       "      <td>1592.215045</td>\n",
       "      <td>1566.138577</td>\n",
       "      <td>1</td>\n",
       "    </tr>\n",
       "    <tr>\n",
       "      <th>3</th>\n",
       "      <td>@</td>\n",
       "      <td>517.848071</td>\n",
       "      <td>464.781835</td>\n",
       "      <td>1596.037085</td>\n",
       "      <td>1541.306773</td>\n",
       "      <td>2</td>\n",
       "    </tr>\n",
       "    <tr>\n",
       "      <th>4</th>\n",
       "      <td>E</td>\n",
       "      <td>586.356155</td>\n",
       "      <td>562.970704</td>\n",
       "      <td>1595.626300</td>\n",
       "      <td>1610.554401</td>\n",
       "      <td>1</td>\n",
       "    </tr>\n",
       "  </tbody>\n",
       "</table>\n",
       "</div>"
      ],
      "text/plain": [
       "  Label        F1-0        F1-1         F2-0         F2-1 Position\n",
       "0     9  573.659739  508.353087  1441.205790  1379.830601        1\n",
       "1     9  547.356630  502.150841  1445.105118  1384.276987        2\n",
       "2     @  537.517587  459.167924  1592.215045  1566.138577        1\n",
       "3     @  517.848071  464.781835  1596.037085  1541.306773        2\n",
       "4     E  586.356155  562.970704  1595.626300  1610.554401        1"
      ]
     },
     "execution_count": 269,
     "metadata": {},
     "output_type": "execute_result"
    }
   ],
   "source": [
    "datapoint_prep = datapoint_df.pivot_table(index=['Label'],columns='Target',values=['F1','F2'],fill_value=0)\n",
    "datapoint_prep.columns = [(str(col[0])+'-'+str(col[1])).strip() for col in datapoint_prep.columns.values]\n",
    "datapoint_prep = prep_df(datapoint_prep.reset_index())\n",
    "datapoint_prep.head()"
   ]
  },
  {
   "cell_type": "code",
   "execution_count": 302,
   "metadata": {},
   "outputs": [
    {
     "name": "stdout",
     "output_type": "stream",
     "text": [
      "    result       1F1       1F2\n",
      "0   t-test  0.418236  0.325098\n",
      "1  p-value  0.678405  0.747099\n"
     ]
    }
   ],
   "source": [
    "if IS_DISYLLABLE:\n",
    "    first_syl = datapoint_prep[datapoint_prep['Position']=='1']\n",
    "    second_syl = datapoint_prep[datapoint_prep['Position']=='2']\n",
    "    \n",
    "    f_f1 = ttest_ind(first_syl['F1-0'], first_syl['F1-1'])\n",
    "    f_f2 = ttest_ind(first_syl['F2-0'], first_syl['F2-1'])\n",
    "    s_f1 = ttest_ind(second_syl['F1-0'], second_syl['F1-1'])\n",
    "    s_f2 = ttest_ind(second_syl['F2-0'], second_syl['F2-1'])\n",
    "    \n",
    "    ttest_df = pd.DataFrame({'result':['t-test','p-value'], \n",
    "                             '1F1':[f_f1[0], f_f1[1]],\n",
    "                             '1F2':[f_f2[0], f_f2[1]],\n",
    "                             '2F1':[s_f1[0], s_f1[1]],\n",
    "                             '2F2':[s_f2[0], s_f2[1]]})\n",
    "else:\n",
    "\n",
    "    f_f1 = ttest_ind(datapoint_prep['F1-0'], datapoint_prep['F1-1'])\n",
    "    f_f2 = ttest_ind(datapoint_prep['F2-0'], datapoint_prep['F2-1'])\n",
    "    \n",
    "    ttest_df = pd.DataFrame({'result':['t-test','p-value'], \n",
    "                             '1F1':[f_f1[0], f_f1[1]],\n",
    "                             '1F2':[f_f2[0], f_f2[1]]})\n",
    " \n",
    "print(ttest_df.head())\n",
    "ttest_df.to_csv(join(DIR_PATH,'ttest_exp'+str(EXP_NUM)+'.csv'))"
   ]
  },
  {
   "cell_type": "markdown",
   "metadata": {
    "colab_type": "text",
    "id": "7SIJ02nRBYNl"
   },
   "source": [
    "## Plot Formant Chart"
   ]
  },
  {
   "cell_type": "code",
   "execution_count": 274,
   "metadata": {},
   "outputs": [
    {
     "name": "stdout",
     "output_type": "stream",
     "text": [
      "    Label          F1           F2  Target Position\n",
      "0      a:  669.990576  1154.795301       1        1\n",
      "1      i:  344.740696  2020.981425       1        2\n",
      "2      a:  670.052038  1154.808706       1        1\n",
      "3      u:  360.821113   767.380300       1        2\n",
      "4      a:  670.038928  1154.797153       1        1\n",
      "5      e:  405.489101  1951.648056       1        2\n",
      "6      a:  670.058595  1154.812237       1        1\n",
      "7       E  586.422422  1531.863833       1        2\n",
      "8      a:  670.062328  1154.813489       1        1\n",
      "9       o  422.789177   734.701852       1        2\n",
      "10     a:  670.001148  1154.803940       1        1\n",
      "11      @  506.221266  1499.309620       1        2\n",
      "12     a:  670.009561  1154.779924       1        1\n",
      "13      9  542.222055  1339.742677       1        2\n",
      "14     a:  670.103224  1154.839086       1        1\n",
      "15      O  573.294479   965.556797       1        2\n",
      "16     i:  266.845751  2185.974236       1        1\n",
      "17     a:  608.969746  1344.840284       1        2\n",
      "18     i:  266.925143  2186.418172       1        1\n",
      "19     u:  310.621039   980.860856       1        2\n",
      "20     i:  266.811882  2185.041693       1        1\n",
      "21     e:  330.762874  2114.411457       1        2\n",
      "22     i:  266.851345  2185.620620       1        1\n",
      "23      E  517.808542  1700.781704       1        2\n",
      "24     i:  266.870573  2185.579500       1        1\n",
      "25      o  342.533654   882.493230       1        2\n",
      "26     i:  266.879389  2185.936121       1        1\n",
      "27      @  432.398762  1673.436801       1        2\n",
      "28     i:  266.816938  2185.315314       1        1\n",
      "29      9  475.938108  1519.891256       1        2\n",
      "..    ...         ...          ...     ...      ...\n",
      "258     9  575.646139  1434.773719       0        1\n",
      "259    i:  302.736040  2046.048477       0        2\n",
      "260     9  564.014870  1445.035371       0        1\n",
      "261    u:  553.950071  1603.725931       0        2\n",
      "262     9  575.157129  1442.556317       0        1\n",
      "263    e:  381.673534  1998.377363       0        2\n",
      "264     9  574.800839  1441.162857       0        1\n",
      "265     E  589.772423  1574.132776       0        2\n",
      "266     9  574.766525  1442.987967       0        1\n",
      "267     o  408.079004   832.942858       0        2\n",
      "268     9  575.204136  1443.423472       0        1\n",
      "269     @  531.582627  1600.285506       0        2\n",
      "270     9  574.949490  1436.777367       0        1\n",
      "271     O  564.147551  1082.293627       0        2\n",
      "272     O  564.689377   999.878295       0        1\n",
      "273    a:  661.323693  1175.004983       0        2\n",
      "274     O  565.138648   991.312929       0        1\n",
      "275    i:  301.975498  1951.311267       0        2\n",
      "276     O  565.130863   991.314265       0        1\n",
      "277    u:  641.058876  1306.766285       0        2\n",
      "278     O  565.160678   991.320406       0        1\n",
      "279    e:  386.942435  1916.522852       0        2\n",
      "280     O  564.943323   993.051095       0        1\n",
      "281     E  580.628073  1523.647386       0        2\n",
      "282     O  564.685030   999.877230       0        1\n",
      "283     o  399.140285   747.621220       0        2\n",
      "284     O  565.133755   991.314201       0        1\n",
      "285     @  556.489749  1515.732976       0        2\n",
      "286     O  573.806128   996.637922       0        1\n",
      "287     9  571.510591  1368.151830       0        2\n",
      "\n",
      "[288 rows x 5 columns]\n"
     ]
    }
   ],
   "source": [
    "datapoint_df.head()\n",
    "print(datapoint_df)"
   ]
  },
  {
   "cell_type": "code",
   "execution_count": 376,
   "metadata": {},
   "outputs": [],
   "source": [
    "datapoint_df = pd.read_csv(DATAPOINT_FILE).drop(['Unnamed: 0'], axis=1)"
   ]
  },
  {
   "cell_type": "code",
   "execution_count": 377,
   "metadata": {},
   "outputs": [],
   "source": [
    "def set_datapoint_index(df):\n",
    "    df_temp = df.copy()\n",
    "    df_temp['Label_idx'] = df_temp['Label']\n",
    "    return df_temp.set_index('Label_idx')\n",
    "\n",
    "datapoint_df = prep_df(datapoint_df)\n",
    "datapoint_df = set_datapoint_index(datapoint_df)\n",
    "\n",
    "datapoint_df.at['E', 'Label']= 'ɛ:' \n",
    "datapoint_df.at['O', 'Label']= 'ɔ:'\n",
    "datapoint_df.at['9', 'Label']= 'œ:'\n",
    "datapoint_df.at['@', 'Label']= 'ə:'\n",
    "datapoint_df.at['o', 'Label']= 'o:'\n",
    "\n",
    "if IS_DISYLLABLE:\n",
    "    datapoint_df = set_datapoint_index(datapoint_df.groupby(['Label','Target','Position']).mean().reset_index())\n",
    "    first_syl = datapoint_df[datapoint_df['Position']=='1']\n",
    "    second_syl = datapoint_df[datapoint_df['Position']=='2']"
   ]
  },
  {
   "cell_type": "code",
   "execution_count": 404,
   "metadata": {},
   "outputs": [],
   "source": [
    "def plot_formant_chart(df, reindex_fn, note=None):\n",
    "\n",
    "    filled_markers = ('o', 'v', \"s\", \"P\", \"*\", \"D\", \"^\", \"X\", \"<\")\n",
    "\n",
    "    actual = reindex_fn(df[df['Target']==1].copy()).reset_index()\n",
    "    estimated = reindex_fn(df[df['Target']==0].copy()).reset_index()\n",
    "\n",
    "    fig, ax = plt.subplots()\n",
    "\n",
    "    for idx, mark in enumerate(filled_markers):\n",
    "        ax.scatter(actual['F2'][idx], actual['F1'][idx], marker=mark, color='red', label=actual['Label'][idx])\n",
    "        ax.scatter(estimated['F2'][idx], estimated['F1'][idx], marker=mark, color='blue')\n",
    "\n",
    "    ax.set_xticks(np.arange(400, 2400+1, 200))\n",
    "    ax.set_yticks(np.arange(100, 800+1, 100))\n",
    "    \n",
    "    plt.gca().invert_xaxis()\n",
    "    plt.gca().invert_yaxis()\n",
    "\n",
    "    ax.set_xlabel('F2 [Hz]', fontsize=14)\n",
    "    ax.set_ylabel('F1 [Hz]', fontsize=14)\n",
    "\n",
    "    ax.legend()\n",
    "    ax.legend(bbox_to_anchor=(1.05, 0.8), loc=2, borderaxespad=0.)\n",
    "\n",
    "    # ax.grid()\n",
    "\n",
    "    leg = ax.get_legend()\n",
    "    for idx,_ in enumerate(leg.legendHandles):\n",
    "        leg.legendHandles[idx].set_color('black')\n",
    "\n",
    "    red_patch = mpatches.Patch(color='red', label='Target')\n",
    "    blue_patch = mpatches.Patch(color='blue', label='Estimated')\n",
    "    legend1 = ax.legend(handles=[red_patch, blue_patch], bbox_to_anchor=(1.05, 1), loc=2, borderaxespad=0.)\n",
    "\n",
    "    plt.gca().add_artist(leg)\n",
    "    plt.gcf().set_size_inches(7,5)\n",
    "\n",
    "    syllable_type = 'disyllable' if IS_DISYLLABLE else 'monosyllable'\n",
    "    \n",
    "    if note and IS_DISYLLABLE:\n",
    "        ax.set_title('Formant Chart of '+note+' ['+syllable_type+']')\n",
    "        filename = 'formant_chart_'+syllable_type+' '+note\n",
    "    else:\n",
    "        ax.set_title('Formant Chart of ['+syllable_type+']')\n",
    "        filename = 'formant_chart_'+syllable_type\n",
    "\n",
    "    for file_type in ['.png','.pdf']:\n",
    "        plt.savefig(join(DIR_PATH, filename+file_type), dpi=300)\n",
    "        \n",
    "    plt.clf()"
   ]
  },
  {
   "cell_type": "code",
   "execution_count": 405,
   "metadata": {},
   "outputs": [
    {
     "data": {
      "text/plain": [
       "<Figure size 504x360 with 0 Axes>"
      ]
     },
     "metadata": {},
     "output_type": "display_data"
    },
    {
     "data": {
      "text/plain": [
       "<Figure size 504x360 with 0 Axes>"
      ]
     },
     "metadata": {},
     "output_type": "display_data"
    }
   ],
   "source": [
    "if IS_DISYLLABLE:\n",
    "    plot_formant_chart(first_syl, custome_reindex_type2, note='FirstSyllable')\n",
    "    plot_formant_chart(second_syl, custome_reindex_type2, note='SecondSyllable')\n",
    "else:\n",
    "    plot_formant_chart(datapoint_df, custome_reindex)"
   ]
  },
  {
   "cell_type": "code",
   "execution_count": null,
   "metadata": {},
   "outputs": [],
   "source": []
  }
 ],
 "metadata": {
  "colab": {
   "collapsed_sections": [],
   "name": "formant.ipynb",
   "provenance": []
  },
  "kernelspec": {
   "display_name": "Python 3",
   "language": "python",
   "name": "python3"
  },
  "language_info": {
   "codemirror_mode": {
    "name": "ipython",
    "version": 3
   },
   "file_extension": ".py",
   "mimetype": "text/x-python",
   "name": "python",
   "nbconvert_exporter": "python",
   "pygments_lexer": "ipython3",
   "version": "3.6.9"
  }
 },
 "nbformat": 4,
 "nbformat_minor": 4
}
